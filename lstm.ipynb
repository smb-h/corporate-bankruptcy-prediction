{
 "cells": [
  {
   "cell_type": "code",
   "execution_count": 14,
   "metadata": {},
   "outputs": [],
   "source": [
    "import pandas as pd\n",
    "import numpy as np\n",
    "import matplotlib.pyplot as plt\n",
    "import plotly.graph_objects as go\n",
    "import plotly.express as px\n",
    "from sklearn.preprocessing import LabelEncoder\n",
    "from sklearn.preprocessing import MinMaxScaler\n",
    "from tensorflow import keras"
   ]
  },
  {
   "cell_type": "code",
   "execution_count": 5,
   "metadata": {},
   "outputs": [
    {
     "name": "stdout",
     "output_type": "stream",
     "text": [
      "(899, 828)\n"
     ]
    },
    {
     "data": {
      "text/html": [
       "<div>\n",
       "<style scoped>\n",
       "    .dataframe tbody tr th:only-of-type {\n",
       "        vertical-align: middle;\n",
       "    }\n",
       "\n",
       "    .dataframe tbody tr th {\n",
       "        vertical-align: top;\n",
       "    }\n",
       "\n",
       "    .dataframe thead th {\n",
       "        text-align: right;\n",
       "    }\n",
       "</style>\n",
       "<table border=\"1\" class=\"dataframe\">\n",
       "  <thead>\n",
       "    <tr style=\"text-align: right;\">\n",
       "      <th></th>\n",
       "      <th>Custom-Return_1390</th>\n",
       "      <th>EPS_MRQ_LC_1390</th>\n",
       "      <th>EPS_TTM_1390</th>\n",
       "      <th>EPS_MRQ_1390</th>\n",
       "      <th>EPS_FY_1390</th>\n",
       "      <th>Rev_TTM_1390</th>\n",
       "      <th>Rev_MRQ_1390</th>\n",
       "      <th>Rev_FY_1390</th>\n",
       "      <th>NI_TTM_1390</th>\n",
       "      <th>NI_MRQ_1390</th>\n",
       "      <th>...</th>\n",
       "      <th>ETR_1401</th>\n",
       "      <th>CFOToRev_1401</th>\n",
       "      <th>CFOToDebt_1401</th>\n",
       "      <th>FCFFToRev_1401</th>\n",
       "      <th>FCFFToNI_1401</th>\n",
       "      <th>FCFEToRev_1401</th>\n",
       "      <th>FCFEToNI_1401</th>\n",
       "      <th>CAPEXToRev_1401</th>\n",
       "      <th>CAPEXToNI_1401</th>\n",
       "      <th>DivYield_1401</th>\n",
       "    </tr>\n",
       "  </thead>\n",
       "  <tbody>\n",
       "    <tr>\n",
       "      <th>0</th>\n",
       "      <td>NaN</td>\n",
       "      <td>11.3750</td>\n",
       "      <td>83.0</td>\n",
       "      <td>11.0</td>\n",
       "      <td>24.0</td>\n",
       "      <td>1.917455e+12</td>\n",
       "      <td>8.399880e+11</td>\n",
       "      <td>1.685499e+12</td>\n",
       "      <td>8.266700e+10</td>\n",
       "      <td>1.137500e+10</td>\n",
       "      <td>...</td>\n",
       "      <td>0.0041</td>\n",
       "      <td>-0.0810</td>\n",
       "      <td>-0.0616</td>\n",
       "      <td>-0.0684</td>\n",
       "      <td>-1.7557</td>\n",
       "      <td>0.0220</td>\n",
       "      <td>0.0689</td>\n",
       "      <td>-0.0123</td>\n",
       "      <td>-0.3158</td>\n",
       "      <td>0.0021</td>\n",
       "    </tr>\n",
       "    <tr>\n",
       "      <th>1</th>\n",
       "      <td>0.208274</td>\n",
       "      <td>117.4437</td>\n",
       "      <td>295.0</td>\n",
       "      <td>117.0</td>\n",
       "      <td>295.0</td>\n",
       "      <td>9.046040e+12</td>\n",
       "      <td>2.474342e+12</td>\n",
       "      <td>9.046040e+12</td>\n",
       "      <td>7.951730e+11</td>\n",
       "      <td>3.170980e+11</td>\n",
       "      <td>...</td>\n",
       "      <td>0.1370</td>\n",
       "      <td>0.0267</td>\n",
       "      <td>0.0746</td>\n",
       "      <td>0.0082</td>\n",
       "      <td>0.0930</td>\n",
       "      <td>0.0305</td>\n",
       "      <td>0.3474</td>\n",
       "      <td>0.0187</td>\n",
       "      <td>0.2122</td>\n",
       "      <td>0.0073</td>\n",
       "    </tr>\n",
       "    <tr>\n",
       "      <th>2</th>\n",
       "      <td>NaN</td>\n",
       "      <td>88.7262</td>\n",
       "      <td>406.0</td>\n",
       "      <td>89.0</td>\n",
       "      <td>384.0</td>\n",
       "      <td>6.988662e+12</td>\n",
       "      <td>1.702216e+12</td>\n",
       "      <td>6.914857e+12</td>\n",
       "      <td>9.131650e+11</td>\n",
       "      <td>1.996340e+11</td>\n",
       "      <td>...</td>\n",
       "      <td>0.1034</td>\n",
       "      <td>0.0433</td>\n",
       "      <td>0.1469</td>\n",
       "      <td>0.0697</td>\n",
       "      <td>0.5587</td>\n",
       "      <td>0.0757</td>\n",
       "      <td>0.6061</td>\n",
       "      <td>0.0050</td>\n",
       "      <td>0.0402</td>\n",
       "      <td>0.0048</td>\n",
       "    </tr>\n",
       "    <tr>\n",
       "      <th>3</th>\n",
       "      <td>-0.481625</td>\n",
       "      <td>-125.1184</td>\n",
       "      <td>-113.0</td>\n",
       "      <td>-125.0</td>\n",
       "      <td>-113.0</td>\n",
       "      <td>2.991100e+10</td>\n",
       "      <td>7.170000e+08</td>\n",
       "      <td>2.991100e+10</td>\n",
       "      <td>-2.570900e+10</td>\n",
       "      <td>-2.852700e+10</td>\n",
       "      <td>...</td>\n",
       "      <td>NaN</td>\n",
       "      <td>-0.5435</td>\n",
       "      <td>-0.0327</td>\n",
       "      <td>-0.6303</td>\n",
       "      <td>NaN</td>\n",
       "      <td>-0.6316</td>\n",
       "      <td>NaN</td>\n",
       "      <td>0.0869</td>\n",
       "      <td>-0.3459</td>\n",
       "      <td>NaN</td>\n",
       "    </tr>\n",
       "    <tr>\n",
       "      <th>4</th>\n",
       "      <td>NaN</td>\n",
       "      <td>NaN</td>\n",
       "      <td>NaN</td>\n",
       "      <td>NaN</td>\n",
       "      <td>NaN</td>\n",
       "      <td>NaN</td>\n",
       "      <td>NaN</td>\n",
       "      <td>NaN</td>\n",
       "      <td>NaN</td>\n",
       "      <td>NaN</td>\n",
       "      <td>...</td>\n",
       "      <td>NaN</td>\n",
       "      <td>NaN</td>\n",
       "      <td>NaN</td>\n",
       "      <td>NaN</td>\n",
       "      <td>NaN</td>\n",
       "      <td>NaN</td>\n",
       "      <td>NaN</td>\n",
       "      <td>NaN</td>\n",
       "      <td>NaN</td>\n",
       "      <td>NaN</td>\n",
       "    </tr>\n",
       "  </tbody>\n",
       "</table>\n",
       "<p>5 rows × 828 columns</p>\n",
       "</div>"
      ],
      "text/plain": [
       "   Custom-Return_1390  EPS_MRQ_LC_1390  EPS_TTM_1390  EPS_MRQ_1390  \\\n",
       "0                 NaN          11.3750          83.0          11.0   \n",
       "1            0.208274         117.4437         295.0         117.0   \n",
       "2                 NaN          88.7262         406.0          89.0   \n",
       "3           -0.481625        -125.1184        -113.0        -125.0   \n",
       "4                 NaN              NaN           NaN           NaN   \n",
       "\n",
       "   EPS_FY_1390  Rev_TTM_1390  Rev_MRQ_1390   Rev_FY_1390   NI_TTM_1390  \\\n",
       "0         24.0  1.917455e+12  8.399880e+11  1.685499e+12  8.266700e+10   \n",
       "1        295.0  9.046040e+12  2.474342e+12  9.046040e+12  7.951730e+11   \n",
       "2        384.0  6.988662e+12  1.702216e+12  6.914857e+12  9.131650e+11   \n",
       "3       -113.0  2.991100e+10  7.170000e+08  2.991100e+10 -2.570900e+10   \n",
       "4          NaN           NaN           NaN           NaN           NaN   \n",
       "\n",
       "    NI_MRQ_1390  ...  ETR_1401  CFOToRev_1401  CFOToDebt_1401  FCFFToRev_1401  \\\n",
       "0  1.137500e+10  ...    0.0041        -0.0810         -0.0616         -0.0684   \n",
       "1  3.170980e+11  ...    0.1370         0.0267          0.0746          0.0082   \n",
       "2  1.996340e+11  ...    0.1034         0.0433          0.1469          0.0697   \n",
       "3 -2.852700e+10  ...       NaN        -0.5435         -0.0327         -0.6303   \n",
       "4           NaN  ...       NaN            NaN             NaN             NaN   \n",
       "\n",
       "   FCFFToNI_1401  FCFEToRev_1401  FCFEToNI_1401  CAPEXToRev_1401  \\\n",
       "0        -1.7557          0.0220         0.0689          -0.0123   \n",
       "1         0.0930          0.0305         0.3474           0.0187   \n",
       "2         0.5587          0.0757         0.6061           0.0050   \n",
       "3            NaN         -0.6316            NaN           0.0869   \n",
       "4            NaN             NaN            NaN              NaN   \n",
       "\n",
       "   CAPEXToNI_1401  DivYield_1401  \n",
       "0         -0.3158         0.0021  \n",
       "1          0.2122         0.0073  \n",
       "2          0.0402         0.0048  \n",
       "3         -0.3459            NaN  \n",
       "4             NaN            NaN  \n",
       "\n",
       "[5 rows x 828 columns]"
      ]
     },
     "execution_count": 5,
     "metadata": {},
     "output_type": "execute_result"
    }
   ],
   "source": [
    "df = pd.read_excel(\"D:/Saham/penv/data.xlsx\")\n",
    "df = df.rename(columns={'Conclusion': 'y'})\n",
    "df = df.drop(columns=['Company'] , axis=1)\n",
    "df = df.replace('-', np.nan)\n",
    "print(df.shape)\n",
    "df.head()"
   ]
  },
  {
   "cell_type": "code",
   "execution_count": 6,
   "metadata": {},
   "outputs": [
    {
     "data": {
      "text/html": [
       "<div>\n",
       "<style scoped>\n",
       "    .dataframe tbody tr th:only-of-type {\n",
       "        vertical-align: middle;\n",
       "    }\n",
       "\n",
       "    .dataframe tbody tr th {\n",
       "        vertical-align: top;\n",
       "    }\n",
       "\n",
       "    .dataframe thead th {\n",
       "        text-align: right;\n",
       "    }\n",
       "</style>\n",
       "<table border=\"1\" class=\"dataframe\">\n",
       "  <thead>\n",
       "    <tr style=\"text-align: right;\">\n",
       "      <th></th>\n",
       "      <th>Custom-Return_1390</th>\n",
       "      <th>EPS_MRQ_LC_1390</th>\n",
       "      <th>EPS_TTM_1390</th>\n",
       "      <th>EPS_MRQ_1390</th>\n",
       "      <th>EPS_FY_1390</th>\n",
       "      <th>Rev_TTM_1390</th>\n",
       "      <th>Rev_MRQ_1390</th>\n",
       "      <th>Rev_FY_1390</th>\n",
       "      <th>NI_TTM_1390</th>\n",
       "      <th>NI_MRQ_1390</th>\n",
       "      <th>...</th>\n",
       "      <th>ETR_1401</th>\n",
       "      <th>CFOToRev_1401</th>\n",
       "      <th>CFOToDebt_1401</th>\n",
       "      <th>FCFFToRev_1401</th>\n",
       "      <th>FCFFToNI_1401</th>\n",
       "      <th>FCFEToRev_1401</th>\n",
       "      <th>FCFEToNI_1401</th>\n",
       "      <th>CAPEXToRev_1401</th>\n",
       "      <th>CAPEXToNI_1401</th>\n",
       "      <th>DivYield_1401</th>\n",
       "    </tr>\n",
       "  </thead>\n",
       "  <tbody>\n",
       "    <tr>\n",
       "      <th>0</th>\n",
       "      <td>NaN</td>\n",
       "      <td>11.3750</td>\n",
       "      <td>83.0</td>\n",
       "      <td>11.0</td>\n",
       "      <td>24.0</td>\n",
       "      <td>1.917455e+12</td>\n",
       "      <td>8.399880e+11</td>\n",
       "      <td>1.685499e+12</td>\n",
       "      <td>8.266700e+10</td>\n",
       "      <td>1.137500e+10</td>\n",
       "      <td>...</td>\n",
       "      <td>0.0041</td>\n",
       "      <td>-0.0810</td>\n",
       "      <td>-0.0616</td>\n",
       "      <td>-0.0684</td>\n",
       "      <td>-1.7557</td>\n",
       "      <td>0.0220</td>\n",
       "      <td>0.0689</td>\n",
       "      <td>-0.0123</td>\n",
       "      <td>-0.3158</td>\n",
       "      <td>0.0021</td>\n",
       "    </tr>\n",
       "    <tr>\n",
       "      <th>1</th>\n",
       "      <td>0.208274</td>\n",
       "      <td>117.4437</td>\n",
       "      <td>295.0</td>\n",
       "      <td>117.0</td>\n",
       "      <td>295.0</td>\n",
       "      <td>9.046040e+12</td>\n",
       "      <td>2.474342e+12</td>\n",
       "      <td>9.046040e+12</td>\n",
       "      <td>7.951730e+11</td>\n",
       "      <td>3.170980e+11</td>\n",
       "      <td>...</td>\n",
       "      <td>0.1370</td>\n",
       "      <td>0.0267</td>\n",
       "      <td>0.0746</td>\n",
       "      <td>0.0082</td>\n",
       "      <td>0.0930</td>\n",
       "      <td>0.0305</td>\n",
       "      <td>0.3474</td>\n",
       "      <td>0.0187</td>\n",
       "      <td>0.2122</td>\n",
       "      <td>0.0073</td>\n",
       "    </tr>\n",
       "    <tr>\n",
       "      <th>2</th>\n",
       "      <td>NaN</td>\n",
       "      <td>88.7262</td>\n",
       "      <td>406.0</td>\n",
       "      <td>89.0</td>\n",
       "      <td>384.0</td>\n",
       "      <td>6.988662e+12</td>\n",
       "      <td>1.702216e+12</td>\n",
       "      <td>6.914857e+12</td>\n",
       "      <td>9.131650e+11</td>\n",
       "      <td>1.996340e+11</td>\n",
       "      <td>...</td>\n",
       "      <td>0.1034</td>\n",
       "      <td>0.0433</td>\n",
       "      <td>0.1469</td>\n",
       "      <td>0.0697</td>\n",
       "      <td>0.5587</td>\n",
       "      <td>0.0757</td>\n",
       "      <td>0.6061</td>\n",
       "      <td>0.0050</td>\n",
       "      <td>0.0402</td>\n",
       "      <td>0.0048</td>\n",
       "    </tr>\n",
       "    <tr>\n",
       "      <th>3</th>\n",
       "      <td>-0.481625</td>\n",
       "      <td>-125.1184</td>\n",
       "      <td>-113.0</td>\n",
       "      <td>-125.0</td>\n",
       "      <td>-113.0</td>\n",
       "      <td>2.991100e+10</td>\n",
       "      <td>7.170000e+08</td>\n",
       "      <td>2.991100e+10</td>\n",
       "      <td>-2.570900e+10</td>\n",
       "      <td>-2.852700e+10</td>\n",
       "      <td>...</td>\n",
       "      <td>NaN</td>\n",
       "      <td>-0.5435</td>\n",
       "      <td>-0.0327</td>\n",
       "      <td>-0.6303</td>\n",
       "      <td>NaN</td>\n",
       "      <td>-0.6316</td>\n",
       "      <td>NaN</td>\n",
       "      <td>0.0869</td>\n",
       "      <td>-0.3459</td>\n",
       "      <td>NaN</td>\n",
       "    </tr>\n",
       "    <tr>\n",
       "      <th>4</th>\n",
       "      <td>NaN</td>\n",
       "      <td>NaN</td>\n",
       "      <td>NaN</td>\n",
       "      <td>NaN</td>\n",
       "      <td>NaN</td>\n",
       "      <td>NaN</td>\n",
       "      <td>NaN</td>\n",
       "      <td>NaN</td>\n",
       "      <td>NaN</td>\n",
       "      <td>NaN</td>\n",
       "      <td>...</td>\n",
       "      <td>NaN</td>\n",
       "      <td>NaN</td>\n",
       "      <td>NaN</td>\n",
       "      <td>NaN</td>\n",
       "      <td>NaN</td>\n",
       "      <td>NaN</td>\n",
       "      <td>NaN</td>\n",
       "      <td>NaN</td>\n",
       "      <td>NaN</td>\n",
       "      <td>NaN</td>\n",
       "    </tr>\n",
       "  </tbody>\n",
       "</table>\n",
       "<p>5 rows × 828 columns</p>\n",
       "</div>"
      ],
      "text/plain": [
       "   Custom-Return_1390  EPS_MRQ_LC_1390  EPS_TTM_1390  EPS_MRQ_1390  \\\n",
       "0                 NaN          11.3750          83.0          11.0   \n",
       "1            0.208274         117.4437         295.0         117.0   \n",
       "2                 NaN          88.7262         406.0          89.0   \n",
       "3           -0.481625        -125.1184        -113.0        -125.0   \n",
       "4                 NaN              NaN           NaN           NaN   \n",
       "\n",
       "   EPS_FY_1390  Rev_TTM_1390  Rev_MRQ_1390   Rev_FY_1390   NI_TTM_1390  \\\n",
       "0         24.0  1.917455e+12  8.399880e+11  1.685499e+12  8.266700e+10   \n",
       "1        295.0  9.046040e+12  2.474342e+12  9.046040e+12  7.951730e+11   \n",
       "2        384.0  6.988662e+12  1.702216e+12  6.914857e+12  9.131650e+11   \n",
       "3       -113.0  2.991100e+10  7.170000e+08  2.991100e+10 -2.570900e+10   \n",
       "4          NaN           NaN           NaN           NaN           NaN   \n",
       "\n",
       "    NI_MRQ_1390  ...  ETR_1401  CFOToRev_1401  CFOToDebt_1401  FCFFToRev_1401  \\\n",
       "0  1.137500e+10  ...    0.0041        -0.0810         -0.0616         -0.0684   \n",
       "1  3.170980e+11  ...    0.1370         0.0267          0.0746          0.0082   \n",
       "2  1.996340e+11  ...    0.1034         0.0433          0.1469          0.0697   \n",
       "3 -2.852700e+10  ...       NaN        -0.5435         -0.0327         -0.6303   \n",
       "4           NaN  ...       NaN            NaN             NaN             NaN   \n",
       "\n",
       "   FCFFToNI_1401  FCFEToRev_1401  FCFEToNI_1401  CAPEXToRev_1401  \\\n",
       "0        -1.7557          0.0220         0.0689          -0.0123   \n",
       "1         0.0930          0.0305         0.3474           0.0187   \n",
       "2         0.5587          0.0757         0.6061           0.0050   \n",
       "3            NaN         -0.6316            NaN           0.0869   \n",
       "4            NaN             NaN            NaN              NaN   \n",
       "\n",
       "   CAPEXToNI_1401  DivYield_1401  \n",
       "0         -0.3158         0.0021  \n",
       "1          0.2122         0.0073  \n",
       "2          0.0402         0.0048  \n",
       "3         -0.3459            NaN  \n",
       "4             NaN            NaN  \n",
       "\n",
       "[5 rows x 828 columns]"
      ]
     },
     "execution_count": 6,
     "metadata": {},
     "output_type": "execute_result"
    }
   ],
   "source": [
    "le = LabelEncoder()\n",
    "# df['Industry'] = le.fit_transform(df['Industry'])\n",
    "df.head()"
   ]
  },
  {
   "cell_type": "code",
   "execution_count": 7,
   "metadata": {},
   "outputs": [
    {
     "data": {
      "text/html": [
       "<div>\n",
       "<style scoped>\n",
       "    .dataframe tbody tr th:only-of-type {\n",
       "        vertical-align: middle;\n",
       "    }\n",
       "\n",
       "    .dataframe tbody tr th {\n",
       "        vertical-align: top;\n",
       "    }\n",
       "\n",
       "    .dataframe thead th {\n",
       "        text-align: right;\n",
       "    }\n",
       "</style>\n",
       "<table border=\"1\" class=\"dataframe\">\n",
       "  <thead>\n",
       "    <tr style=\"text-align: right;\">\n",
       "      <th></th>\n",
       "      <th>Custom-Return_1390</th>\n",
       "      <th>EPS_MRQ_LC_1390</th>\n",
       "      <th>EPS_TTM_1390</th>\n",
       "      <th>EPS_MRQ_1390</th>\n",
       "      <th>EPS_FY_1390</th>\n",
       "      <th>Rev_TTM_1390</th>\n",
       "      <th>Rev_MRQ_1390</th>\n",
       "      <th>Rev_FY_1390</th>\n",
       "      <th>NI_TTM_1390</th>\n",
       "      <th>NI_MRQ_1390</th>\n",
       "      <th>...</th>\n",
       "      <th>ETR_1401</th>\n",
       "      <th>CFOToRev_1401</th>\n",
       "      <th>CFOToDebt_1401</th>\n",
       "      <th>FCFFToRev_1401</th>\n",
       "      <th>FCFFToNI_1401</th>\n",
       "      <th>FCFEToRev_1401</th>\n",
       "      <th>FCFEToNI_1401</th>\n",
       "      <th>CAPEXToRev_1401</th>\n",
       "      <th>CAPEXToNI_1401</th>\n",
       "      <th>DivYield_1401</th>\n",
       "    </tr>\n",
       "  </thead>\n",
       "  <tbody>\n",
       "    <tr>\n",
       "      <th>0</th>\n",
       "      <td>NaN</td>\n",
       "      <td>11.3750</td>\n",
       "      <td>83.0</td>\n",
       "      <td>11.0</td>\n",
       "      <td>24.0</td>\n",
       "      <td>1.917455e+12</td>\n",
       "      <td>8.399880e+11</td>\n",
       "      <td>1.685499e+12</td>\n",
       "      <td>8.266700e+10</td>\n",
       "      <td>1.137500e+10</td>\n",
       "      <td>...</td>\n",
       "      <td>0.0041</td>\n",
       "      <td>-0.0810</td>\n",
       "      <td>-0.0616</td>\n",
       "      <td>-0.0684</td>\n",
       "      <td>-1.7557</td>\n",
       "      <td>0.0220</td>\n",
       "      <td>0.0689</td>\n",
       "      <td>-0.0123</td>\n",
       "      <td>-0.3158</td>\n",
       "      <td>0.0021</td>\n",
       "    </tr>\n",
       "    <tr>\n",
       "      <th>1</th>\n",
       "      <td>0.208274</td>\n",
       "      <td>117.4437</td>\n",
       "      <td>295.0</td>\n",
       "      <td>117.0</td>\n",
       "      <td>295.0</td>\n",
       "      <td>9.046040e+12</td>\n",
       "      <td>2.474342e+12</td>\n",
       "      <td>9.046040e+12</td>\n",
       "      <td>7.951730e+11</td>\n",
       "      <td>3.170980e+11</td>\n",
       "      <td>...</td>\n",
       "      <td>0.1370</td>\n",
       "      <td>0.0267</td>\n",
       "      <td>0.0746</td>\n",
       "      <td>0.0082</td>\n",
       "      <td>0.0930</td>\n",
       "      <td>0.0305</td>\n",
       "      <td>0.3474</td>\n",
       "      <td>0.0187</td>\n",
       "      <td>0.2122</td>\n",
       "      <td>0.0073</td>\n",
       "    </tr>\n",
       "    <tr>\n",
       "      <th>2</th>\n",
       "      <td>NaN</td>\n",
       "      <td>88.7262</td>\n",
       "      <td>406.0</td>\n",
       "      <td>89.0</td>\n",
       "      <td>384.0</td>\n",
       "      <td>6.988662e+12</td>\n",
       "      <td>1.702216e+12</td>\n",
       "      <td>6.914857e+12</td>\n",
       "      <td>9.131650e+11</td>\n",
       "      <td>1.996340e+11</td>\n",
       "      <td>...</td>\n",
       "      <td>0.1034</td>\n",
       "      <td>0.0433</td>\n",
       "      <td>0.1469</td>\n",
       "      <td>0.0697</td>\n",
       "      <td>0.5587</td>\n",
       "      <td>0.0757</td>\n",
       "      <td>0.6061</td>\n",
       "      <td>0.0050</td>\n",
       "      <td>0.0402</td>\n",
       "      <td>0.0048</td>\n",
       "    </tr>\n",
       "    <tr>\n",
       "      <th>3</th>\n",
       "      <td>-0.481625</td>\n",
       "      <td>-125.1184</td>\n",
       "      <td>-113.0</td>\n",
       "      <td>-125.0</td>\n",
       "      <td>-113.0</td>\n",
       "      <td>2.991100e+10</td>\n",
       "      <td>7.170000e+08</td>\n",
       "      <td>2.991100e+10</td>\n",
       "      <td>-2.570900e+10</td>\n",
       "      <td>-2.852700e+10</td>\n",
       "      <td>...</td>\n",
       "      <td>NaN</td>\n",
       "      <td>-0.5435</td>\n",
       "      <td>-0.0327</td>\n",
       "      <td>-0.6303</td>\n",
       "      <td>NaN</td>\n",
       "      <td>-0.6316</td>\n",
       "      <td>NaN</td>\n",
       "      <td>0.0869</td>\n",
       "      <td>-0.3459</td>\n",
       "      <td>NaN</td>\n",
       "    </tr>\n",
       "    <tr>\n",
       "      <th>4</th>\n",
       "      <td>NaN</td>\n",
       "      <td>NaN</td>\n",
       "      <td>NaN</td>\n",
       "      <td>NaN</td>\n",
       "      <td>NaN</td>\n",
       "      <td>NaN</td>\n",
       "      <td>NaN</td>\n",
       "      <td>NaN</td>\n",
       "      <td>NaN</td>\n",
       "      <td>NaN</td>\n",
       "      <td>...</td>\n",
       "      <td>NaN</td>\n",
       "      <td>NaN</td>\n",
       "      <td>NaN</td>\n",
       "      <td>NaN</td>\n",
       "      <td>NaN</td>\n",
       "      <td>NaN</td>\n",
       "      <td>NaN</td>\n",
       "      <td>NaN</td>\n",
       "      <td>NaN</td>\n",
       "      <td>NaN</td>\n",
       "    </tr>\n",
       "  </tbody>\n",
       "</table>\n",
       "<p>5 rows × 828 columns</p>\n",
       "</div>"
      ],
      "text/plain": [
       "   Custom-Return_1390  EPS_MRQ_LC_1390  EPS_TTM_1390  EPS_MRQ_1390  \\\n",
       "0                 NaN          11.3750          83.0          11.0   \n",
       "1            0.208274         117.4437         295.0         117.0   \n",
       "2                 NaN          88.7262         406.0          89.0   \n",
       "3           -0.481625        -125.1184        -113.0        -125.0   \n",
       "4                 NaN              NaN           NaN           NaN   \n",
       "\n",
       "   EPS_FY_1390  Rev_TTM_1390  Rev_MRQ_1390   Rev_FY_1390   NI_TTM_1390  \\\n",
       "0         24.0  1.917455e+12  8.399880e+11  1.685499e+12  8.266700e+10   \n",
       "1        295.0  9.046040e+12  2.474342e+12  9.046040e+12  7.951730e+11   \n",
       "2        384.0  6.988662e+12  1.702216e+12  6.914857e+12  9.131650e+11   \n",
       "3       -113.0  2.991100e+10  7.170000e+08  2.991100e+10 -2.570900e+10   \n",
       "4          NaN           NaN           NaN           NaN           NaN   \n",
       "\n",
       "    NI_MRQ_1390  ...  ETR_1401  CFOToRev_1401  CFOToDebt_1401  FCFFToRev_1401  \\\n",
       "0  1.137500e+10  ...    0.0041        -0.0810         -0.0616         -0.0684   \n",
       "1  3.170980e+11  ...    0.1370         0.0267          0.0746          0.0082   \n",
       "2  1.996340e+11  ...    0.1034         0.0433          0.1469          0.0697   \n",
       "3 -2.852700e+10  ...       NaN        -0.5435         -0.0327         -0.6303   \n",
       "4           NaN  ...       NaN            NaN             NaN             NaN   \n",
       "\n",
       "   FCFFToNI_1401  FCFEToRev_1401  FCFEToNI_1401  CAPEXToRev_1401  \\\n",
       "0        -1.7557          0.0220         0.0689          -0.0123   \n",
       "1         0.0930          0.0305         0.3474           0.0187   \n",
       "2         0.5587          0.0757         0.6061           0.0050   \n",
       "3            NaN         -0.6316            NaN           0.0869   \n",
       "4            NaN             NaN            NaN              NaN   \n",
       "\n",
       "   CAPEXToNI_1401  DivYield_1401  \n",
       "0         -0.3158         0.0021  \n",
       "1          0.2122         0.0073  \n",
       "2          0.0402         0.0048  \n",
       "3         -0.3459            NaN  \n",
       "4             NaN            NaN  \n",
       "\n",
       "[5 rows x 828 columns]"
      ]
     },
     "execution_count": 7,
     "metadata": {},
     "output_type": "execute_result"
    }
   ],
   "source": [
    "# convert all columns to float but Industry\n",
    "cols_to_float = df.columns\n",
    "df[cols_to_float] = df[cols_to_float].astype(float)\n",
    "df.head()"
   ]
  },
  {
   "cell_type": "code",
   "execution_count": 8,
   "metadata": {},
   "outputs": [
    {
     "name": "stdout",
     "output_type": "stream",
     "text": [
      "(899, 828)\n"
     ]
    }
   ],
   "source": [
    "# drop rows which has no value in TSE_FY or RE_FY column\n",
    "for i in ['TSE_FY', 'RE_FY']:\n",
    "    for j in df.columns:\n",
    "        if i in j :\n",
    "            # print(j)\n",
    "            df.dropna(subset=j)\n",
    "print(df.shape)"
   ]
  },
  {
   "cell_type": "code",
   "execution_count": 9,
   "metadata": {},
   "outputs": [],
   "source": [
    "# print(df[df['y'] >= .5].shape)\n",
    "# print(df[df['y'] < .5].shape)\n",
    "# drop y\n",
    "# df = df.drop(columns=['y'])"
   ]
  },
  {
   "cell_type": "code",
   "execution_count": 10,
   "metadata": {},
   "outputs": [
    {
     "name": "stdout",
     "output_type": "stream",
     "text": [
      "(370, 831)\n"
     ]
    },
    {
     "name": "stderr",
     "output_type": "stream",
     "text": [
      "C:\\Users\\sydhm\\AppData\\Local\\Temp\\ipykernel_16624\\773359656.py:28: PerformanceWarning:\n",
      "\n",
      "DataFrame is highly fragmented.  This is usually the result of calling `frame.insert` many times, which has poor performance.  Consider joining all columns at once using pd.concat(axis=1) instead. To get a de-fragmented frame, use `newframe = frame.copy()`\n",
      "\n",
      "C:\\Users\\sydhm\\AppData\\Local\\Temp\\ipykernel_16624\\773359656.py:31: PerformanceWarning:\n",
      "\n",
      "DataFrame is highly fragmented.  This is usually the result of calling `frame.insert` many times, which has poor performance.  Consider joining all columns at once using pd.concat(axis=1) instead. To get a de-fragmented frame, use `newframe = frame.copy()`\n",
      "\n",
      "C:\\Users\\sydhm\\AppData\\Local\\Temp\\ipykernel_16624\\773359656.py:33: PerformanceWarning:\n",
      "\n",
      "DataFrame is highly fragmented.  This is usually the result of calling `frame.insert` many times, which has poor performance.  Consider joining all columns at once using pd.concat(axis=1) instead. To get a de-fragmented frame, use `newframe = frame.copy()`\n",
      "\n"
     ]
    },
    {
     "name": "stdout",
     "output_type": "stream",
     "text": [
      "(529, 831)\n"
     ]
    }
   ],
   "source": [
    "# create a y column RE_FY / TSE_FY > .5 = 1 else 0\n",
    "List_TSE_FY = ['TSE_FY_1390' ,\n",
    "'TSE_FY_1391',\n",
    "'TSE_FY_1392',\n",
    "'TSE_FY_1393',\n",
    "'TSE_FY_1394',\n",
    "'TSE_FY_1395',\n",
    "'TSE_FY_1396',\n",
    "'TSE_FY_1397',\n",
    "'TSE_FY_1398',\n",
    "'TSE_FY_1399',\n",
    "'TSE_FY_1400',\n",
    "'TSE_FY_1401']\n",
    "List_RE_FY = ['RE_FY_1390',\n",
    "'RE_FY_1391',\n",
    "'RE_FY_1392',\n",
    "'RE_FY_1393',\n",
    "'RE_FY_1394',\n",
    "'RE_FY_1395',\n",
    "'RE_FY_1396',\n",
    "'RE_FY_1397',\n",
    "'RE_FY_1398',\n",
    "'RE_FY_1399',\n",
    "'RE_FY_1400',\n",
    "'RE_FY_1401']\n",
    "\n",
    "mean_TSE_FY = df[List_TSE_FY].mean(axis=1).tolist()\n",
    "df['mean_TSE_FY'] = mean_TSE_FY\n",
    "\n",
    "mean_RE_FY = df[List_RE_FY].mean(axis=1).tolist()\n",
    "df['mean_RE_FY'] = mean_RE_FY\n",
    "\n",
    "df['y'] = np.where(df['mean_RE_FY'] / df['mean_TSE_FY'] > .5, 1, 0)\n",
    "print(df[df['y'] >= .5].shape)\n",
    "print(df[df['y'] < .5].shape)\n"
   ]
  },
  {
   "cell_type": "code",
   "execution_count": 11,
   "metadata": {},
   "outputs": [
    {
     "name": "stdout",
     "output_type": "stream",
     "text": [
      "Custom-Return_1390    0.628476\n",
      "EPS_MRQ_LC_1390       0.186874\n",
      "EPS_TTM_1390          0.094549\n",
      "EPS_MRQ_1390          0.095662\n",
      "EPS_FY_1390           0.086763\n",
      "                        ...   \n",
      "CAPEXToNI_1401        0.145717\n",
      "DivYield_1401         0.334816\n",
      "mean_TSE_FY           0.076752\n",
      "mean_RE_FY            0.082314\n",
      "y                     0.000000\n",
      "Length: 831, dtype: float64\n"
     ]
    }
   ],
   "source": [
    "# print nan proportion\n",
    "print(df.isna().sum() / df.shape[0])"
   ]
  },
  {
   "cell_type": "code",
   "execution_count": 12,
   "metadata": {},
   "outputs": [
    {
     "name": "stdout",
     "output_type": "stream",
     "text": [
      "Custom-Return_1390    0.0\n",
      "EPS_MRQ_LC_1390       0.0\n",
      "EPS_TTM_1390          0.0\n",
      "EPS_MRQ_1390          0.0\n",
      "EPS_FY_1390           0.0\n",
      "                     ... \n",
      "CAPEXToNI_1401        0.0\n",
      "DivYield_1401         0.0\n",
      "mean_TSE_FY           0.0\n",
      "mean_RE_FY            0.0\n",
      "y                     0.0\n",
      "Length: 831, dtype: float64\n"
     ]
    }
   ],
   "source": [
    "# df = df.fillna(df.mean())\n",
    "# df = df.fillna(df.median())\n",
    "# df = df.fillna(df.mode().iloc[0])\n",
    "\n",
    "# fill NaN with 0\n",
    "df = df.fillna(0)\n",
    "\n",
    "print(df.isna().sum() / df.shape[0])"
   ]
  },
  {
   "cell_type": "code",
   "execution_count": 13,
   "metadata": {},
   "outputs": [
    {
     "data": {
      "text/html": [
       "<div>\n",
       "<style scoped>\n",
       "    .dataframe tbody tr th:only-of-type {\n",
       "        vertical-align: middle;\n",
       "    }\n",
       "\n",
       "    .dataframe tbody tr th {\n",
       "        vertical-align: top;\n",
       "    }\n",
       "\n",
       "    .dataframe thead th {\n",
       "        text-align: right;\n",
       "    }\n",
       "</style>\n",
       "<table border=\"1\" class=\"dataframe\">\n",
       "  <thead>\n",
       "    <tr style=\"text-align: right;\">\n",
       "      <th></th>\n",
       "      <th>Custom-Return_1390</th>\n",
       "      <th>EPS_MRQ_LC_1390</th>\n",
       "      <th>EPS_TTM_1390</th>\n",
       "      <th>EPS_MRQ_1390</th>\n",
       "      <th>EPS_FY_1390</th>\n",
       "      <th>Rev_TTM_1390</th>\n",
       "      <th>Rev_MRQ_1390</th>\n",
       "      <th>Rev_FY_1390</th>\n",
       "      <th>NI_TTM_1390</th>\n",
       "      <th>NI_MRQ_1390</th>\n",
       "      <th>...</th>\n",
       "      <th>FCFFToRev_1401</th>\n",
       "      <th>FCFFToNI_1401</th>\n",
       "      <th>FCFEToRev_1401</th>\n",
       "      <th>FCFEToNI_1401</th>\n",
       "      <th>CAPEXToRev_1401</th>\n",
       "      <th>CAPEXToNI_1401</th>\n",
       "      <th>DivYield_1401</th>\n",
       "      <th>mean_TSE_FY</th>\n",
       "      <th>mean_RE_FY</th>\n",
       "      <th>y</th>\n",
       "    </tr>\n",
       "  </thead>\n",
       "  <tbody>\n",
       "    <tr>\n",
       "      <th>0</th>\n",
       "      <td>0.042743</td>\n",
       "      <td>0.316850</td>\n",
       "      <td>2.249830e-10</td>\n",
       "      <td>0.999976</td>\n",
       "      <td>0.001849</td>\n",
       "      <td>0.045010</td>\n",
       "      <td>0.055193</td>\n",
       "      <td>0.044945</td>\n",
       "      <td>0.319484</td>\n",
       "      <td>0.495550</td>\n",
       "      <td>...</td>\n",
       "      <td>0.999684</td>\n",
       "      <td>0.893868</td>\n",
       "      <td>0.907533</td>\n",
       "      <td>0.440197</td>\n",
       "      <td>0.483342</td>\n",
       "      <td>0.653700</td>\n",
       "      <td>0.003082</td>\n",
       "      <td>0.360880</td>\n",
       "      <td>0.611768</td>\n",
       "      <td>0.0</td>\n",
       "    </tr>\n",
       "    <tr>\n",
       "      <th>1</th>\n",
       "      <td>0.058074</td>\n",
       "      <td>0.320473</td>\n",
       "      <td>2.267615e-10</td>\n",
       "      <td>0.999976</td>\n",
       "      <td>0.001849</td>\n",
       "      <td>0.047014</td>\n",
       "      <td>0.056980</td>\n",
       "      <td>0.047014</td>\n",
       "      <td>0.320198</td>\n",
       "      <td>0.496023</td>\n",
       "      <td>...</td>\n",
       "      <td>0.999685</td>\n",
       "      <td>0.895969</td>\n",
       "      <td>0.907542</td>\n",
       "      <td>0.442539</td>\n",
       "      <td>0.483445</td>\n",
       "      <td>0.657271</td>\n",
       "      <td>0.010713</td>\n",
       "      <td>0.361690</td>\n",
       "      <td>0.612231</td>\n",
       "      <td>0.0</td>\n",
       "    </tr>\n",
       "    <tr>\n",
       "      <th>2</th>\n",
       "      <td>0.042743</td>\n",
       "      <td>0.319492</td>\n",
       "      <td>2.276927e-10</td>\n",
       "      <td>0.999976</td>\n",
       "      <td>0.001849</td>\n",
       "      <td>0.046436</td>\n",
       "      <td>0.056136</td>\n",
       "      <td>0.046415</td>\n",
       "      <td>0.320316</td>\n",
       "      <td>0.495841</td>\n",
       "      <td>...</td>\n",
       "      <td>0.999685</td>\n",
       "      <td>0.896498</td>\n",
       "      <td>0.907587</td>\n",
       "      <td>0.444715</td>\n",
       "      <td>0.483399</td>\n",
       "      <td>0.656108</td>\n",
       "      <td>0.007044</td>\n",
       "      <td>0.361677</td>\n",
       "      <td>0.612518</td>\n",
       "      <td>0.0</td>\n",
       "    </tr>\n",
       "    <tr>\n",
       "      <th>3</th>\n",
       "      <td>0.007289</td>\n",
       "      <td>0.312188</td>\n",
       "      <td>2.233387e-10</td>\n",
       "      <td>0.999975</td>\n",
       "      <td>0.001849</td>\n",
       "      <td>0.044479</td>\n",
       "      <td>0.054275</td>\n",
       "      <td>0.044479</td>\n",
       "      <td>0.319375</td>\n",
       "      <td>0.495488</td>\n",
       "      <td>...</td>\n",
       "      <td>0.999683</td>\n",
       "      <td>0.895863</td>\n",
       "      <td>0.906876</td>\n",
       "      <td>0.439617</td>\n",
       "      <td>0.483671</td>\n",
       "      <td>0.653497</td>\n",
       "      <td>0.000000</td>\n",
       "      <td>0.360505</td>\n",
       "      <td>0.611575</td>\n",
       "      <td>1.0</td>\n",
       "    </tr>\n",
       "    <tr>\n",
       "      <th>4</th>\n",
       "      <td>0.042743</td>\n",
       "      <td>0.316462</td>\n",
       "      <td>2.242867e-10</td>\n",
       "      <td>0.999975</td>\n",
       "      <td>0.001849</td>\n",
       "      <td>0.044471</td>\n",
       "      <td>0.054275</td>\n",
       "      <td>0.044471</td>\n",
       "      <td>0.319401</td>\n",
       "      <td>0.495532</td>\n",
       "      <td>...</td>\n",
       "      <td>0.999685</td>\n",
       "      <td>0.895863</td>\n",
       "      <td>0.907511</td>\n",
       "      <td>0.439617</td>\n",
       "      <td>0.483383</td>\n",
       "      <td>0.655836</td>\n",
       "      <td>0.000000</td>\n",
       "      <td>0.360527</td>\n",
       "      <td>0.611733</td>\n",
       "      <td>0.0</td>\n",
       "    </tr>\n",
       "  </tbody>\n",
       "</table>\n",
       "<p>5 rows × 831 columns</p>\n",
       "</div>"
      ],
      "text/plain": [
       "   Custom-Return_1390  EPS_MRQ_LC_1390  EPS_TTM_1390  EPS_MRQ_1390  \\\n",
       "0            0.042743         0.316850  2.249830e-10      0.999976   \n",
       "1            0.058074         0.320473  2.267615e-10      0.999976   \n",
       "2            0.042743         0.319492  2.276927e-10      0.999976   \n",
       "3            0.007289         0.312188  2.233387e-10      0.999975   \n",
       "4            0.042743         0.316462  2.242867e-10      0.999975   \n",
       "\n",
       "   EPS_FY_1390  Rev_TTM_1390  Rev_MRQ_1390  Rev_FY_1390  NI_TTM_1390  \\\n",
       "0     0.001849      0.045010      0.055193     0.044945     0.319484   \n",
       "1     0.001849      0.047014      0.056980     0.047014     0.320198   \n",
       "2     0.001849      0.046436      0.056136     0.046415     0.320316   \n",
       "3     0.001849      0.044479      0.054275     0.044479     0.319375   \n",
       "4     0.001849      0.044471      0.054275     0.044471     0.319401   \n",
       "\n",
       "   NI_MRQ_1390  ...  FCFFToRev_1401  FCFFToNI_1401  FCFEToRev_1401  \\\n",
       "0     0.495550  ...        0.999684       0.893868        0.907533   \n",
       "1     0.496023  ...        0.999685       0.895969        0.907542   \n",
       "2     0.495841  ...        0.999685       0.896498        0.907587   \n",
       "3     0.495488  ...        0.999683       0.895863        0.906876   \n",
       "4     0.495532  ...        0.999685       0.895863        0.907511   \n",
       "\n",
       "   FCFEToNI_1401  CAPEXToRev_1401  CAPEXToNI_1401  DivYield_1401  mean_TSE_FY  \\\n",
       "0       0.440197         0.483342        0.653700       0.003082     0.360880   \n",
       "1       0.442539         0.483445        0.657271       0.010713     0.361690   \n",
       "2       0.444715         0.483399        0.656108       0.007044     0.361677   \n",
       "3       0.439617         0.483671        0.653497       0.000000     0.360505   \n",
       "4       0.439617         0.483383        0.655836       0.000000     0.360527   \n",
       "\n",
       "   mean_RE_FY    y  \n",
       "0    0.611768  0.0  \n",
       "1    0.612231  0.0  \n",
       "2    0.612518  0.0  \n",
       "3    0.611575  1.0  \n",
       "4    0.611733  0.0  \n",
       "\n",
       "[5 rows x 831 columns]"
      ]
     },
     "execution_count": 13,
     "metadata": {},
     "output_type": "execute_result"
    }
   ],
   "source": [
    "# Scaler\n",
    "scaler = MinMaxScaler()\n",
    "df = pd.DataFrame(scaler.fit_transform(df), columns=df.columns)\n",
    "df.head()"
   ]
  },
  {
   "cell_type": "code",
   "execution_count": 14,
   "metadata": {},
   "outputs": [
    {
     "name": "stdout",
     "output_type": "stream",
     "text": [
      "(629, 1, 830)\n",
      "(629,)\n",
      "------\n",
      "(135, 1, 830)\n",
      "(135,)\n",
      "------\n",
      "(135, 1, 830)\n",
      "(135,)\n"
     ]
    }
   ],
   "source": [
    "# split data\n",
    "x = df.drop(columns=['y'])\n",
    "y = df['y']\n",
    "x = np.array(x)\n",
    "y = np.array(y)\n",
    "# [samples, timesteps, features]\n",
    "x = x.reshape(x.shape[0], 1, x.shape[1])\n",
    "\n",
    "x_train = x[:int(x.shape[0] * .7)]\n",
    "y_train = y[:int(y.shape[0] * .7)]\n",
    "x_valid = x[int(x.shape[0] * .7):int(x.shape[0] * .85)]\n",
    "y_valid = y[int(y.shape[0] * .7):int(y.shape[0] * .85)]\n",
    "x_test = x[int(x.shape[0] * .85):]\n",
    "y_test = y[int(y.shape[0] * .85):]\n",
    "\n",
    "print(x_train.shape)\n",
    "print(y_train.shape)\n",
    "print(\"------\")\n",
    "print(x_valid.shape)\n",
    "print(y_valid.shape)\n",
    "print(\"------\")\n",
    "print(x_test.shape)\n",
    "print(y_test.shape)"
   ]
  },
  {
   "cell_type": "code",
   "execution_count": 15,
   "metadata": {},
   "outputs": [
    {
     "name": "stdout",
     "output_type": "stream",
     "text": [
      "(5032, 1, 830)\n",
      "(5032,)\n"
     ]
    }
   ],
   "source": [
    "# duplicate data\n",
    "DUPLICATE = 8\n",
    "x_train = np.repeat(x_train, DUPLICATE, axis=0)\n",
    "y_train = np.repeat(y_train, DUPLICATE, axis=0)\n",
    "print(x_train.shape)\n",
    "print(y_train.shape)"
   ]
  },
  {
   "cell_type": "code",
   "execution_count": 16,
   "metadata": {},
   "outputs": [
    {
     "name": "stdout",
     "output_type": "stream",
     "text": [
      "Model: \"sequential\"\n",
      "_________________________________________________________________\n",
      " Layer (type)                Output Shape              Param #   \n",
      "=================================================================\n",
      " lstm (LSTM)                 (None, 128)               491008    \n",
      "                                                                 \n",
      " dense (Dense)               (None, 1)                 129       \n",
      "                                                                 \n",
      "=================================================================\n",
      "Total params: 491137 (1.87 MB)\n",
      "Trainable params: 491137 (1.87 MB)\n",
      "Non-trainable params: 0 (0.00 Byte)\n",
      "_________________________________________________________________\n"
     ]
    }
   ],
   "source": [
    "# LSTM\n",
    "lstm = keras.Sequential()\n",
    "# lstm.add(keras.layers.LSTM(128, input_shape=(x_train.shape[1], x_train.shape[2]), return_sequences=True))\n",
    "lstm.add(keras.layers.LSTM(128, input_shape=(x_train.shape[1], x_train.shape[2])))\n",
    "lstm.add(keras.layers.Dense(1, activation='sigmoid'))\n",
    "lstm.compile(loss='binary_crossentropy', optimizer='adam', metrics=['accuracy'])\n",
    "lstm.summary()"
   ]
  },
  {
   "cell_type": "code",
   "execution_count": 17,
   "metadata": {},
   "outputs": [
    {
     "name": "stdout",
     "output_type": "stream",
     "text": [
      "Epoch 1/100\n",
      "79/79 [==============================] - 5s 25ms/step - loss: 0.6920 - accuracy: 0.5898 - val_loss: 0.6901 - val_accuracy: 0.5481\n",
      "Epoch 2/100\n",
      "79/79 [==============================] - 1s 16ms/step - loss: 0.6884 - accuracy: 0.5978 - val_loss: 0.6832 - val_accuracy: 0.5630\n",
      "Epoch 3/100\n",
      "79/79 [==============================] - 1s 16ms/step - loss: 0.6791 - accuracy: 0.5946 - val_loss: 0.6832 - val_accuracy: 0.5630\n",
      "Epoch 4/100\n",
      "79/79 [==============================] - 1s 16ms/step - loss: 0.6761 - accuracy: 0.5946 - val_loss: 0.6798 - val_accuracy: 0.5630\n",
      "Epoch 5/100\n",
      "79/79 [==============================] - 1s 16ms/step - loss: 0.6779 - accuracy: 0.5962 - val_loss: 0.6819 - val_accuracy: 0.5630\n",
      "Epoch 6/100\n",
      "79/79 [==============================] - 1s 16ms/step - loss: 0.6770 - accuracy: 0.5962 - val_loss: 0.6800 - val_accuracy: 0.5630\n",
      "Epoch 7/100\n",
      "79/79 [==============================] - 1s 15ms/step - loss: 0.6795 - accuracy: 0.5930 - val_loss: 0.6584 - val_accuracy: 0.5630\n",
      "Epoch 8/100\n",
      "79/79 [==============================] - 1s 16ms/step - loss: 0.6762 - accuracy: 0.6041 - val_loss: 0.6766 - val_accuracy: 0.5926\n",
      "Epoch 9/100\n",
      "79/79 [==============================] - 1s 15ms/step - loss: 0.6839 - accuracy: 0.5914 - val_loss: 0.6793 - val_accuracy: 0.7259\n",
      "Epoch 10/100\n",
      "79/79 [==============================] - 1s 15ms/step - loss: 0.6829 - accuracy: 0.5835 - val_loss: 0.6756 - val_accuracy: 0.7111\n",
      "Epoch 11/100\n",
      "79/79 [==============================] - 1s 16ms/step - loss: 0.6603 - accuracy: 0.6248 - val_loss: 0.6661 - val_accuracy: 0.6593\n",
      "Epoch 12/100\n",
      "79/79 [==============================] - 1s 15ms/step - loss: 0.6692 - accuracy: 0.6375 - val_loss: 0.6629 - val_accuracy: 0.6963\n",
      "Epoch 13/100\n",
      "79/79 [==============================] - 1s 15ms/step - loss: 0.6682 - accuracy: 0.6391 - val_loss: 0.6643 - val_accuracy: 0.7185\n",
      "Epoch 14/100\n",
      "79/79 [==============================] - 1s 15ms/step - loss: 0.6616 - accuracy: 0.6439 - val_loss: 0.6546 - val_accuracy: 0.7037\n",
      "Epoch 15/100\n",
      "79/79 [==============================] - 1s 15ms/step - loss: 0.6486 - accuracy: 0.6630 - val_loss: 0.6420 - val_accuracy: 0.7185\n",
      "Epoch 16/100\n",
      "79/79 [==============================] - 1s 15ms/step - loss: 0.6387 - accuracy: 0.6582 - val_loss: 0.6168 - val_accuracy: 0.6519\n",
      "Epoch 17/100\n",
      "79/79 [==============================] - 1s 15ms/step - loss: 0.6189 - accuracy: 0.6852 - val_loss: 0.6065 - val_accuracy: 0.7037\n",
      "Epoch 18/100\n",
      "79/79 [==============================] - 1s 15ms/step - loss: 0.6174 - accuracy: 0.6868 - val_loss: 0.5964 - val_accuracy: 0.7185\n",
      "Epoch 19/100\n",
      "79/79 [==============================] - 1s 15ms/step - loss: 0.6003 - accuracy: 0.6979 - val_loss: 0.5819 - val_accuracy: 0.7185\n",
      "Epoch 20/100\n",
      "79/79 [==============================] - 1s 15ms/step - loss: 0.5856 - accuracy: 0.7154 - val_loss: 0.5677 - val_accuracy: 0.7111\n",
      "Epoch 21/100\n",
      "79/79 [==============================] - 1s 15ms/step - loss: 0.5766 - accuracy: 0.7186 - val_loss: 0.5605 - val_accuracy: 0.7185\n",
      "Epoch 22/100\n",
      "79/79 [==============================] - 1s 15ms/step - loss: 0.5648 - accuracy: 0.7202 - val_loss: 0.5479 - val_accuracy: 0.7333\n",
      "Epoch 23/100\n",
      "79/79 [==============================] - 1s 15ms/step - loss: 0.5495 - accuracy: 0.7345 - val_loss: 0.5369 - val_accuracy: 0.7407\n",
      "Epoch 24/100\n",
      "79/79 [==============================] - 1s 14ms/step - loss: 0.5381 - accuracy: 0.7440 - val_loss: 0.5267 - val_accuracy: 0.7556\n",
      "Epoch 25/100\n",
      "79/79 [==============================] - 1s 15ms/step - loss: 0.5283 - accuracy: 0.7488 - val_loss: 0.5190 - val_accuracy: 0.7556\n",
      "Epoch 26/100\n",
      "79/79 [==============================] - 1s 14ms/step - loss: 0.5203 - accuracy: 0.7552 - val_loss: 0.5125 - val_accuracy: 0.7556\n",
      "Epoch 27/100\n",
      "79/79 [==============================] - 1s 14ms/step - loss: 0.5143 - accuracy: 0.7536 - val_loss: 0.5081 - val_accuracy: 0.7630\n",
      "Epoch 28/100\n",
      "79/79 [==============================] - 1s 16ms/step - loss: 0.5103 - accuracy: 0.7504 - val_loss: 0.5028 - val_accuracy: 0.7556\n",
      "Epoch 29/100\n",
      "79/79 [==============================] - 2s 20ms/step - loss: 0.5052 - accuracy: 0.7663 - val_loss: 0.4968 - val_accuracy: 0.7630\n",
      "Epoch 30/100\n",
      "79/79 [==============================] - 1s 16ms/step - loss: 0.4992 - accuracy: 0.7695 - val_loss: 0.4918 - val_accuracy: 0.7630\n",
      "Epoch 31/100\n",
      "79/79 [==============================] - 1s 17ms/step - loss: 0.4935 - accuracy: 0.7679 - val_loss: 0.4876 - val_accuracy: 0.7630\n",
      "Epoch 32/100\n",
      "79/79 [==============================] - 1s 17ms/step - loss: 0.4891 - accuracy: 0.7711 - val_loss: 0.4835 - val_accuracy: 0.7630\n",
      "Epoch 33/100\n",
      "79/79 [==============================] - 1s 17ms/step - loss: 0.4850 - accuracy: 0.7742 - val_loss: 0.4805 - val_accuracy: 0.7630\n",
      "Epoch 34/100\n",
      "79/79 [==============================] - 2s 21ms/step - loss: 0.4806 - accuracy: 0.7742 - val_loss: 0.4772 - val_accuracy: 0.7630\n",
      "Epoch 35/100\n",
      "79/79 [==============================] - 2s 21ms/step - loss: 0.4767 - accuracy: 0.7727 - val_loss: 0.4740 - val_accuracy: 0.7630\n",
      "Epoch 36/100\n",
      "79/79 [==============================] - 1s 18ms/step - loss: 0.4750 - accuracy: 0.7790 - val_loss: 0.4738 - val_accuracy: 0.7630\n",
      "Epoch 37/100\n",
      "79/79 [==============================] - 1s 17ms/step - loss: 0.4723 - accuracy: 0.7774 - val_loss: 0.4692 - val_accuracy: 0.7778\n",
      "Epoch 38/100\n",
      "79/79 [==============================] - 1s 18ms/step - loss: 0.4681 - accuracy: 0.7822 - val_loss: 0.4673 - val_accuracy: 0.7556\n",
      "Epoch 39/100\n",
      "79/79 [==============================] - 1s 17ms/step - loss: 0.4645 - accuracy: 0.7917 - val_loss: 0.4650 - val_accuracy: 0.7630\n",
      "Epoch 40/100\n",
      "79/79 [==============================] - 1s 17ms/step - loss: 0.4611 - accuracy: 0.7917 - val_loss: 0.4628 - val_accuracy: 0.7704\n",
      "Epoch 41/100\n",
      "79/79 [==============================] - 1s 15ms/step - loss: 0.4579 - accuracy: 0.7965 - val_loss: 0.4602 - val_accuracy: 0.7630\n",
      "Epoch 42/100\n",
      "79/79 [==============================] - 1s 16ms/step - loss: 0.4548 - accuracy: 0.7933 - val_loss: 0.4579 - val_accuracy: 0.7704\n",
      "Epoch 43/100\n",
      "79/79 [==============================] - 1s 16ms/step - loss: 0.4517 - accuracy: 0.7965 - val_loss: 0.4556 - val_accuracy: 0.7778\n",
      "Epoch 44/100\n",
      "79/79 [==============================] - 1s 17ms/step - loss: 0.4487 - accuracy: 0.8013 - val_loss: 0.4536 - val_accuracy: 0.7778\n",
      "Epoch 45/100\n",
      "79/79 [==============================] - 1s 16ms/step - loss: 0.4458 - accuracy: 0.8045 - val_loss: 0.4514 - val_accuracy: 0.7778\n",
      "Epoch 46/100\n",
      "79/79 [==============================] - 1s 16ms/step - loss: 0.4428 - accuracy: 0.8060 - val_loss: 0.4491 - val_accuracy: 0.7778\n",
      "Epoch 47/100\n",
      "79/79 [==============================] - 1s 16ms/step - loss: 0.4399 - accuracy: 0.8045 - val_loss: 0.4470 - val_accuracy: 0.7778\n",
      "Epoch 48/100\n",
      "79/79 [==============================] - 1s 16ms/step - loss: 0.4367 - accuracy: 0.8060 - val_loss: 0.4437 - val_accuracy: 0.7704\n",
      "Epoch 49/100\n",
      "79/79 [==============================] - 1s 17ms/step - loss: 0.4360 - accuracy: 0.8029 - val_loss: 0.4439 - val_accuracy: 0.7778\n",
      "Epoch 50/100\n",
      "79/79 [==============================] - 1s 16ms/step - loss: 0.4342 - accuracy: 0.8029 - val_loss: 0.4424 - val_accuracy: 0.7778\n",
      "Epoch 51/100\n",
      "79/79 [==============================] - 1s 16ms/step - loss: 0.4311 - accuracy: 0.8060 - val_loss: 0.4399 - val_accuracy: 0.7778\n",
      "Epoch 52/100\n",
      "79/79 [==============================] - 1s 16ms/step - loss: 0.4288 - accuracy: 0.8092 - val_loss: 0.4382 - val_accuracy: 0.7704\n",
      "Epoch 53/100\n",
      "79/79 [==============================] - 1s 16ms/step - loss: 0.4260 - accuracy: 0.8108 - val_loss: 0.4363 - val_accuracy: 0.7704\n",
      "Epoch 54/100\n",
      "79/79 [==============================] - 1s 16ms/step - loss: 0.4231 - accuracy: 0.8108 - val_loss: 0.4340 - val_accuracy: 0.7704\n",
      "Epoch 55/100\n",
      "79/79 [==============================] - 1s 16ms/step - loss: 0.4200 - accuracy: 0.8092 - val_loss: 0.4322 - val_accuracy: 0.7778\n",
      "Epoch 56/100\n",
      "79/79 [==============================] - 1s 16ms/step - loss: 0.4176 - accuracy: 0.8140 - val_loss: 0.4299 - val_accuracy: 0.7704\n",
      "Epoch 57/100\n",
      "79/79 [==============================] - 1s 16ms/step - loss: 0.4152 - accuracy: 0.8108 - val_loss: 0.4283 - val_accuracy: 0.7852\n",
      "Epoch 58/100\n",
      "79/79 [==============================] - 1s 16ms/step - loss: 0.4123 - accuracy: 0.8124 - val_loss: 0.4262 - val_accuracy: 0.7852\n",
      "Epoch 59/100\n",
      "79/79 [==============================] - 1s 17ms/step - loss: 0.4097 - accuracy: 0.8140 - val_loss: 0.4232 - val_accuracy: 0.8000\n",
      "Epoch 60/100\n",
      "79/79 [==============================] - 1s 16ms/step - loss: 0.4066 - accuracy: 0.8140 - val_loss: 0.4210 - val_accuracy: 0.8000\n",
      "Epoch 61/100\n",
      "79/79 [==============================] - 1s 16ms/step - loss: 0.4042 - accuracy: 0.8172 - val_loss: 0.4191 - val_accuracy: 0.8074\n",
      "Epoch 62/100\n",
      "79/79 [==============================] - 1s 16ms/step - loss: 0.4004 - accuracy: 0.8219 - val_loss: 0.4167 - val_accuracy: 0.8148\n",
      "Epoch 63/100\n",
      "79/79 [==============================] - 1s 16ms/step - loss: 0.3988 - accuracy: 0.8235 - val_loss: 0.4146 - val_accuracy: 0.8148\n",
      "Epoch 64/100\n",
      "79/79 [==============================] - 1s 16ms/step - loss: 0.3960 - accuracy: 0.8235 - val_loss: 0.4128 - val_accuracy: 0.8148\n",
      "Epoch 65/100\n",
      "79/79 [==============================] - 1s 16ms/step - loss: 0.3934 - accuracy: 0.8251 - val_loss: 0.4107 - val_accuracy: 0.8148\n",
      "Epoch 66/100\n",
      "79/79 [==============================] - 1s 16ms/step - loss: 0.3903 - accuracy: 0.8267 - val_loss: 0.4097 - val_accuracy: 0.8148\n",
      "Epoch 67/100\n",
      "79/79 [==============================] - 1s 16ms/step - loss: 0.3873 - accuracy: 0.8299 - val_loss: 0.4072 - val_accuracy: 0.8148\n",
      "Epoch 68/100\n",
      "79/79 [==============================] - 1s 16ms/step - loss: 0.3852 - accuracy: 0.8299 - val_loss: 0.4058 - val_accuracy: 0.8148\n",
      "Epoch 69/100\n",
      "79/79 [==============================] - 1s 16ms/step - loss: 0.3822 - accuracy: 0.8331 - val_loss: 0.4037 - val_accuracy: 0.8148\n",
      "Epoch 70/100\n",
      "79/79 [==============================] - 1s 16ms/step - loss: 0.3795 - accuracy: 0.8331 - val_loss: 0.4016 - val_accuracy: 0.8148\n",
      "Epoch 71/100\n",
      "79/79 [==============================] - 1s 16ms/step - loss: 0.3769 - accuracy: 0.8362 - val_loss: 0.3995 - val_accuracy: 0.8148\n",
      "Epoch 72/100\n",
      "79/79 [==============================] - 1s 16ms/step - loss: 0.3741 - accuracy: 0.8362 - val_loss: 0.3977 - val_accuracy: 0.8148\n",
      "Epoch 73/100\n",
      "79/79 [==============================] - 1s 16ms/step - loss: 0.3715 - accuracy: 0.8362 - val_loss: 0.3956 - val_accuracy: 0.8148\n",
      "Epoch 74/100\n",
      "79/79 [==============================] - 1s 16ms/step - loss: 0.3691 - accuracy: 0.8410 - val_loss: 0.3941 - val_accuracy: 0.8222\n",
      "Epoch 75/100\n",
      "79/79 [==============================] - 2s 21ms/step - loss: 0.3661 - accuracy: 0.8442 - val_loss: 0.3921 - val_accuracy: 0.8296\n",
      "Epoch 76/100\n",
      "79/79 [==============================] - 1s 17ms/step - loss: 0.3634 - accuracy: 0.8458 - val_loss: 0.3901 - val_accuracy: 0.8370\n",
      "Epoch 77/100\n",
      "79/79 [==============================] - 1s 16ms/step - loss: 0.3656 - accuracy: 0.8426 - val_loss: 0.3835 - val_accuracy: 0.8296\n",
      "Epoch 78/100\n",
      "79/79 [==============================] - 1s 16ms/step - loss: 0.3589 - accuracy: 0.8474 - val_loss: 0.3806 - val_accuracy: 0.8370\n",
      "Epoch 79/100\n",
      "79/79 [==============================] - 2s 20ms/step - loss: 0.3588 - accuracy: 0.8490 - val_loss: 0.3893 - val_accuracy: 0.8296\n",
      "Epoch 80/100\n",
      "79/79 [==============================] - 2s 21ms/step - loss: 0.3564 - accuracy: 0.8521 - val_loss: 0.3860 - val_accuracy: 0.8296\n",
      "Epoch 81/100\n",
      "79/79 [==============================] - 1s 17ms/step - loss: 0.3530 - accuracy: 0.8521 - val_loss: 0.3823 - val_accuracy: 0.8370\n",
      "Epoch 82/100\n",
      "79/79 [==============================] - 1s 18ms/step - loss: 0.3493 - accuracy: 0.8521 - val_loss: 0.3783 - val_accuracy: 0.8370\n",
      "Epoch 83/100\n",
      "79/79 [==============================] - 1s 18ms/step - loss: 0.3441 - accuracy: 0.8521 - val_loss: 0.3725 - val_accuracy: 0.8370\n",
      "Epoch 84/100\n",
      "79/79 [==============================] - 1s 17ms/step - loss: 0.3406 - accuracy: 0.8537 - val_loss: 0.3683 - val_accuracy: 0.8444\n",
      "Epoch 85/100\n",
      "79/79 [==============================] - 1s 17ms/step - loss: 0.3371 - accuracy: 0.8569 - val_loss: 0.3673 - val_accuracy: 0.8444\n",
      "Epoch 86/100\n",
      "79/79 [==============================] - 1s 17ms/step - loss: 0.3350 - accuracy: 0.8585 - val_loss: 0.3656 - val_accuracy: 0.8444\n",
      "Epoch 87/100\n",
      "79/79 [==============================] - 1s 16ms/step - loss: 0.3323 - accuracy: 0.8601 - val_loss: 0.3632 - val_accuracy: 0.8444\n",
      "Epoch 88/100\n",
      "79/79 [==============================] - 1s 17ms/step - loss: 0.3296 - accuracy: 0.8601 - val_loss: 0.3608 - val_accuracy: 0.8444\n",
      "Epoch 89/100\n",
      "79/79 [==============================] - 1s 16ms/step - loss: 0.3269 - accuracy: 0.8649 - val_loss: 0.3588 - val_accuracy: 0.8519\n",
      "Epoch 90/100\n",
      "79/79 [==============================] - 1s 16ms/step - loss: 0.3244 - accuracy: 0.8649 - val_loss: 0.3567 - val_accuracy: 0.8519\n",
      "Epoch 91/100\n",
      "79/79 [==============================] - 1s 17ms/step - loss: 0.3218 - accuracy: 0.8680 - val_loss: 0.3543 - val_accuracy: 0.8519\n",
      "Epoch 92/100\n",
      "79/79 [==============================] - 1s 17ms/step - loss: 0.3193 - accuracy: 0.8680 - val_loss: 0.3520 - val_accuracy: 0.8519\n",
      "Epoch 93/100\n",
      "79/79 [==============================] - 1s 16ms/step - loss: 0.3177 - accuracy: 0.8665 - val_loss: 0.3516 - val_accuracy: 0.8519\n",
      "Epoch 94/100\n",
      "79/79 [==============================] - 1s 16ms/step - loss: 0.3153 - accuracy: 0.8712 - val_loss: 0.3475 - val_accuracy: 0.8519\n",
      "Epoch 95/100\n",
      "79/79 [==============================] - 1s 16ms/step - loss: 0.3130 - accuracy: 0.8712 - val_loss: 0.3467 - val_accuracy: 0.8593\n",
      "Epoch 96/100\n",
      "79/79 [==============================] - 1s 16ms/step - loss: 0.3102 - accuracy: 0.8728 - val_loss: 0.3447 - val_accuracy: 0.8593\n",
      "Epoch 97/100\n",
      "79/79 [==============================] - 1s 15ms/step - loss: 0.3079 - accuracy: 0.8760 - val_loss: 0.3426 - val_accuracy: 0.8593\n",
      "Epoch 98/100\n",
      "79/79 [==============================] - 1s 15ms/step - loss: 0.3055 - accuracy: 0.8744 - val_loss: 0.3404 - val_accuracy: 0.8593\n",
      "Epoch 99/100\n",
      "79/79 [==============================] - 1s 16ms/step - loss: 0.3036 - accuracy: 0.8792 - val_loss: 0.3389 - val_accuracy: 0.8593\n",
      "Epoch 100/100\n",
      "79/79 [==============================] - 1s 15ms/step - loss: 0.3014 - accuracy: 0.8792 - val_loss: 0.3371 - val_accuracy: 0.8667\n"
     ]
    }
   ],
   "source": [
    "# train\n",
    "history = lstm.fit(x_train, y_train, epochs=100, batch_size=64, validation_data=(x_valid, y_valid), shuffle=False)\n",
    "# with no validation\n",
    "# history = lstm.fit(x_train, y_train, epochs=100, batch_size=32, shuffle=False)"
   ]
  },
  {
   "cell_type": "code",
   "execution_count": 18,
   "metadata": {},
   "outputs": [
    {
     "name": "stdout",
     "output_type": "stream",
     "text": [
      "5/5 [==============================] - 0s 7ms/step - loss: 0.3569 - accuracy: 0.8444\n",
      "[0.3568972647190094, 0.8444444537162781]\n"
     ]
    }
   ],
   "source": [
    "# prin results\n",
    "results = lstm.evaluate(x_test, y_test)\n",
    "print(results)"
   ]
  },
  {
   "cell_type": "code",
   "execution_count": 19,
   "metadata": {},
   "outputs": [
    {
     "data": {
      "application/vnd.plotly.v1+json": {
       "config": {
        "plotlyServerURL": "https://plot.ly"
       },
       "data": [
        {
         "mode": "lines",
         "name": "loss",
         "type": "scatter",
         "y": [
          0.6919676065444946,
          0.688360333442688,
          0.6790934801101685,
          0.6760753989219666,
          0.6778894662857056,
          0.676980197429657,
          0.6795108914375305,
          0.6761744618415833,
          0.6838779449462891,
          0.6828513741493225,
          0.6602817177772522,
          0.6691921353340149,
          0.6681960225105286,
          0.6615526676177979,
          0.6485936045646667,
          0.6386935710906982,
          0.618902862071991,
          0.6174213290214539,
          0.6002817749977112,
          0.5855810642242432,
          0.5766107439994812,
          0.5647690892219543,
          0.549488365650177,
          0.5380938649177551,
          0.528281033039093,
          0.5203128457069397,
          0.5142519474029541,
          0.510334312915802,
          0.5052185654640198,
          0.499193400144577,
          0.4934895634651184,
          0.4891333281993866,
          0.4850052297115326,
          0.4805663228034973,
          0.4766780138015747,
          0.47499117255210876,
          0.4723232686519623,
          0.46811142563819885,
          0.464538037776947,
          0.4610976576805115,
          0.4579181969165802,
          0.45478320121765137,
          0.45167914032936096,
          0.44865915179252625,
          0.445848286151886,
          0.4427637755870819,
          0.43986260890960693,
          0.4367377758026123,
          0.4359966814517975,
          0.4342272877693176,
          0.43108224868774414,
          0.4288008511066437,
          0.4260272681713104,
          0.423139363527298,
          0.42001450061798096,
          0.4176212251186371,
          0.41524285078048706,
          0.41230714321136475,
          0.40969160199165344,
          0.40662187337875366,
          0.4041580557823181,
          0.4004257917404175,
          0.3988349437713623,
          0.3959873616695404,
          0.3933531641960144,
          0.39033275842666626,
          0.3873218595981598,
          0.3851776421070099,
          0.3821925222873688,
          0.37954118847846985,
          0.37685850262641907,
          0.37411072850227356,
          0.3714684844017029,
          0.3690651059150696,
          0.36609137058258057,
          0.3634132444858551,
          0.36563920974731445,
          0.3589145839214325,
          0.3588249385356903,
          0.3564193844795227,
          0.3529537320137024,
          0.34929385781288147,
          0.34409070014953613,
          0.34059828519821167,
          0.337112158536911,
          0.3350426256656647,
          0.33232077956199646,
          0.3296068608760834,
          0.3268830478191376,
          0.3243861496448517,
          0.32182779908180237,
          0.3193178176879883,
          0.3177359104156494,
          0.3153374195098877,
          0.3130369484424591,
          0.3101678192615509,
          0.3078990876674652,
          0.3054770231246948,
          0.3035522997379303,
          0.3013533055782318
         ]
        },
        {
         "mode": "lines",
         "name": "val_loss",
         "type": "scatter",
         "y": [
          0.6900683641433716,
          0.6831831932067871,
          0.6831994652748108,
          0.679801881313324,
          0.6818535327911377,
          0.6799954771995544,
          0.6584063172340393,
          0.6765697598457336,
          0.6792507171630859,
          0.6755933165550232,
          0.6661248207092285,
          0.6629433035850525,
          0.6642919778823853,
          0.6545693874359131,
          0.6419666409492493,
          0.6168104410171509,
          0.6065276265144348,
          0.5963862538337708,
          0.5818929672241211,
          0.5676884651184082,
          0.5605430603027344,
          0.5479186773300171,
          0.5369152426719666,
          0.5266926288604736,
          0.5189861059188843,
          0.51253342628479,
          0.5080779194831848,
          0.5027678608894348,
          0.49680736660957336,
          0.49181777238845825,
          0.4875659942626953,
          0.48350808024406433,
          0.48046085238456726,
          0.477151095867157,
          0.4739561975002289,
          0.47379863262176514,
          0.46922028064727783,
          0.46731048822402954,
          0.46504613757133484,
          0.4627605974674225,
          0.4602254033088684,
          0.4578826129436493,
          0.45555129647254944,
          0.45358383655548096,
          0.45143887400627136,
          0.4491479694843292,
          0.44701310992240906,
          0.4436533749103546,
          0.4439285397529602,
          0.4424341917037964,
          0.4398770332336426,
          0.438247412443161,
          0.4362666606903076,
          0.4339783787727356,
          0.4321644902229309,
          0.429890900850296,
          0.4283159673213959,
          0.42620477080345154,
          0.4232286512851715,
          0.4210364818572998,
          0.4190692603588104,
          0.41671523451805115,
          0.41464972496032715,
          0.41282352805137634,
          0.4107200801372528,
          0.40973544120788574,
          0.4072454273700714,
          0.40578481554985046,
          0.40368223190307617,
          0.40161624550819397,
          0.3994515836238861,
          0.3976777195930481,
          0.39564549922943115,
          0.39407750964164734,
          0.3920852541923523,
          0.3900716006755829,
          0.3835252523422241,
          0.38060665130615234,
          0.38930678367614746,
          0.38599538803100586,
          0.3823278844356537,
          0.378282755613327,
          0.3725125789642334,
          0.3683379292488098,
          0.3672816753387451,
          0.36556994915008545,
          0.3631785809993744,
          0.3608023226261139,
          0.3587634563446045,
          0.35668420791625977,
          0.3543257415294647,
          0.35202282667160034,
          0.35157322883605957,
          0.34747499227523804,
          0.3467280864715576,
          0.344706654548645,
          0.3426108956336975,
          0.3403608798980713,
          0.33887043595314026,
          0.33705729246139526
         ]
        }
       ],
       "layout": {
        "template": {
         "data": {
          "bar": [
           {
            "error_x": {
             "color": "#2a3f5f"
            },
            "error_y": {
             "color": "#2a3f5f"
            },
            "marker": {
             "line": {
              "color": "#E5ECF6",
              "width": 0.5
             },
             "pattern": {
              "fillmode": "overlay",
              "size": 10,
              "solidity": 0.2
             }
            },
            "type": "bar"
           }
          ],
          "barpolar": [
           {
            "marker": {
             "line": {
              "color": "#E5ECF6",
              "width": 0.5
             },
             "pattern": {
              "fillmode": "overlay",
              "size": 10,
              "solidity": 0.2
             }
            },
            "type": "barpolar"
           }
          ],
          "carpet": [
           {
            "aaxis": {
             "endlinecolor": "#2a3f5f",
             "gridcolor": "white",
             "linecolor": "white",
             "minorgridcolor": "white",
             "startlinecolor": "#2a3f5f"
            },
            "baxis": {
             "endlinecolor": "#2a3f5f",
             "gridcolor": "white",
             "linecolor": "white",
             "minorgridcolor": "white",
             "startlinecolor": "#2a3f5f"
            },
            "type": "carpet"
           }
          ],
          "choropleth": [
           {
            "colorbar": {
             "outlinewidth": 0,
             "ticks": ""
            },
            "type": "choropleth"
           }
          ],
          "contour": [
           {
            "colorbar": {
             "outlinewidth": 0,
             "ticks": ""
            },
            "colorscale": [
             [
              0,
              "#0d0887"
             ],
             [
              0.1111111111111111,
              "#46039f"
             ],
             [
              0.2222222222222222,
              "#7201a8"
             ],
             [
              0.3333333333333333,
              "#9c179e"
             ],
             [
              0.4444444444444444,
              "#bd3786"
             ],
             [
              0.5555555555555556,
              "#d8576b"
             ],
             [
              0.6666666666666666,
              "#ed7953"
             ],
             [
              0.7777777777777778,
              "#fb9f3a"
             ],
             [
              0.8888888888888888,
              "#fdca26"
             ],
             [
              1,
              "#f0f921"
             ]
            ],
            "type": "contour"
           }
          ],
          "contourcarpet": [
           {
            "colorbar": {
             "outlinewidth": 0,
             "ticks": ""
            },
            "type": "contourcarpet"
           }
          ],
          "heatmap": [
           {
            "colorbar": {
             "outlinewidth": 0,
             "ticks": ""
            },
            "colorscale": [
             [
              0,
              "#0d0887"
             ],
             [
              0.1111111111111111,
              "#46039f"
             ],
             [
              0.2222222222222222,
              "#7201a8"
             ],
             [
              0.3333333333333333,
              "#9c179e"
             ],
             [
              0.4444444444444444,
              "#bd3786"
             ],
             [
              0.5555555555555556,
              "#d8576b"
             ],
             [
              0.6666666666666666,
              "#ed7953"
             ],
             [
              0.7777777777777778,
              "#fb9f3a"
             ],
             [
              0.8888888888888888,
              "#fdca26"
             ],
             [
              1,
              "#f0f921"
             ]
            ],
            "type": "heatmap"
           }
          ],
          "heatmapgl": [
           {
            "colorbar": {
             "outlinewidth": 0,
             "ticks": ""
            },
            "colorscale": [
             [
              0,
              "#0d0887"
             ],
             [
              0.1111111111111111,
              "#46039f"
             ],
             [
              0.2222222222222222,
              "#7201a8"
             ],
             [
              0.3333333333333333,
              "#9c179e"
             ],
             [
              0.4444444444444444,
              "#bd3786"
             ],
             [
              0.5555555555555556,
              "#d8576b"
             ],
             [
              0.6666666666666666,
              "#ed7953"
             ],
             [
              0.7777777777777778,
              "#fb9f3a"
             ],
             [
              0.8888888888888888,
              "#fdca26"
             ],
             [
              1,
              "#f0f921"
             ]
            ],
            "type": "heatmapgl"
           }
          ],
          "histogram": [
           {
            "marker": {
             "pattern": {
              "fillmode": "overlay",
              "size": 10,
              "solidity": 0.2
             }
            },
            "type": "histogram"
           }
          ],
          "histogram2d": [
           {
            "colorbar": {
             "outlinewidth": 0,
             "ticks": ""
            },
            "colorscale": [
             [
              0,
              "#0d0887"
             ],
             [
              0.1111111111111111,
              "#46039f"
             ],
             [
              0.2222222222222222,
              "#7201a8"
             ],
             [
              0.3333333333333333,
              "#9c179e"
             ],
             [
              0.4444444444444444,
              "#bd3786"
             ],
             [
              0.5555555555555556,
              "#d8576b"
             ],
             [
              0.6666666666666666,
              "#ed7953"
             ],
             [
              0.7777777777777778,
              "#fb9f3a"
             ],
             [
              0.8888888888888888,
              "#fdca26"
             ],
             [
              1,
              "#f0f921"
             ]
            ],
            "type": "histogram2d"
           }
          ],
          "histogram2dcontour": [
           {
            "colorbar": {
             "outlinewidth": 0,
             "ticks": ""
            },
            "colorscale": [
             [
              0,
              "#0d0887"
             ],
             [
              0.1111111111111111,
              "#46039f"
             ],
             [
              0.2222222222222222,
              "#7201a8"
             ],
             [
              0.3333333333333333,
              "#9c179e"
             ],
             [
              0.4444444444444444,
              "#bd3786"
             ],
             [
              0.5555555555555556,
              "#d8576b"
             ],
             [
              0.6666666666666666,
              "#ed7953"
             ],
             [
              0.7777777777777778,
              "#fb9f3a"
             ],
             [
              0.8888888888888888,
              "#fdca26"
             ],
             [
              1,
              "#f0f921"
             ]
            ],
            "type": "histogram2dcontour"
           }
          ],
          "mesh3d": [
           {
            "colorbar": {
             "outlinewidth": 0,
             "ticks": ""
            },
            "type": "mesh3d"
           }
          ],
          "parcoords": [
           {
            "line": {
             "colorbar": {
              "outlinewidth": 0,
              "ticks": ""
             }
            },
            "type": "parcoords"
           }
          ],
          "pie": [
           {
            "automargin": true,
            "type": "pie"
           }
          ],
          "scatter": [
           {
            "fillpattern": {
             "fillmode": "overlay",
             "size": 10,
             "solidity": 0.2
            },
            "type": "scatter"
           }
          ],
          "scatter3d": [
           {
            "line": {
             "colorbar": {
              "outlinewidth": 0,
              "ticks": ""
             }
            },
            "marker": {
             "colorbar": {
              "outlinewidth": 0,
              "ticks": ""
             }
            },
            "type": "scatter3d"
           }
          ],
          "scattercarpet": [
           {
            "marker": {
             "colorbar": {
              "outlinewidth": 0,
              "ticks": ""
             }
            },
            "type": "scattercarpet"
           }
          ],
          "scattergeo": [
           {
            "marker": {
             "colorbar": {
              "outlinewidth": 0,
              "ticks": ""
             }
            },
            "type": "scattergeo"
           }
          ],
          "scattergl": [
           {
            "marker": {
             "colorbar": {
              "outlinewidth": 0,
              "ticks": ""
             }
            },
            "type": "scattergl"
           }
          ],
          "scattermapbox": [
           {
            "marker": {
             "colorbar": {
              "outlinewidth": 0,
              "ticks": ""
             }
            },
            "type": "scattermapbox"
           }
          ],
          "scatterpolar": [
           {
            "marker": {
             "colorbar": {
              "outlinewidth": 0,
              "ticks": ""
             }
            },
            "type": "scatterpolar"
           }
          ],
          "scatterpolargl": [
           {
            "marker": {
             "colorbar": {
              "outlinewidth": 0,
              "ticks": ""
             }
            },
            "type": "scatterpolargl"
           }
          ],
          "scatterternary": [
           {
            "marker": {
             "colorbar": {
              "outlinewidth": 0,
              "ticks": ""
             }
            },
            "type": "scatterternary"
           }
          ],
          "surface": [
           {
            "colorbar": {
             "outlinewidth": 0,
             "ticks": ""
            },
            "colorscale": [
             [
              0,
              "#0d0887"
             ],
             [
              0.1111111111111111,
              "#46039f"
             ],
             [
              0.2222222222222222,
              "#7201a8"
             ],
             [
              0.3333333333333333,
              "#9c179e"
             ],
             [
              0.4444444444444444,
              "#bd3786"
             ],
             [
              0.5555555555555556,
              "#d8576b"
             ],
             [
              0.6666666666666666,
              "#ed7953"
             ],
             [
              0.7777777777777778,
              "#fb9f3a"
             ],
             [
              0.8888888888888888,
              "#fdca26"
             ],
             [
              1,
              "#f0f921"
             ]
            ],
            "type": "surface"
           }
          ],
          "table": [
           {
            "cells": {
             "fill": {
              "color": "#EBF0F8"
             },
             "line": {
              "color": "white"
             }
            },
            "header": {
             "fill": {
              "color": "#C8D4E3"
             },
             "line": {
              "color": "white"
             }
            },
            "type": "table"
           }
          ]
         },
         "layout": {
          "annotationdefaults": {
           "arrowcolor": "#2a3f5f",
           "arrowhead": 0,
           "arrowwidth": 1
          },
          "autotypenumbers": "strict",
          "coloraxis": {
           "colorbar": {
            "outlinewidth": 0,
            "ticks": ""
           }
          },
          "colorscale": {
           "diverging": [
            [
             0,
             "#8e0152"
            ],
            [
             0.1,
             "#c51b7d"
            ],
            [
             0.2,
             "#de77ae"
            ],
            [
             0.3,
             "#f1b6da"
            ],
            [
             0.4,
             "#fde0ef"
            ],
            [
             0.5,
             "#f7f7f7"
            ],
            [
             0.6,
             "#e6f5d0"
            ],
            [
             0.7,
             "#b8e186"
            ],
            [
             0.8,
             "#7fbc41"
            ],
            [
             0.9,
             "#4d9221"
            ],
            [
             1,
             "#276419"
            ]
           ],
           "sequential": [
            [
             0,
             "#0d0887"
            ],
            [
             0.1111111111111111,
             "#46039f"
            ],
            [
             0.2222222222222222,
             "#7201a8"
            ],
            [
             0.3333333333333333,
             "#9c179e"
            ],
            [
             0.4444444444444444,
             "#bd3786"
            ],
            [
             0.5555555555555556,
             "#d8576b"
            ],
            [
             0.6666666666666666,
             "#ed7953"
            ],
            [
             0.7777777777777778,
             "#fb9f3a"
            ],
            [
             0.8888888888888888,
             "#fdca26"
            ],
            [
             1,
             "#f0f921"
            ]
           ],
           "sequentialminus": [
            [
             0,
             "#0d0887"
            ],
            [
             0.1111111111111111,
             "#46039f"
            ],
            [
             0.2222222222222222,
             "#7201a8"
            ],
            [
             0.3333333333333333,
             "#9c179e"
            ],
            [
             0.4444444444444444,
             "#bd3786"
            ],
            [
             0.5555555555555556,
             "#d8576b"
            ],
            [
             0.6666666666666666,
             "#ed7953"
            ],
            [
             0.7777777777777778,
             "#fb9f3a"
            ],
            [
             0.8888888888888888,
             "#fdca26"
            ],
            [
             1,
             "#f0f921"
            ]
           ]
          },
          "colorway": [
           "#636efa",
           "#EF553B",
           "#00cc96",
           "#ab63fa",
           "#FFA15A",
           "#19d3f3",
           "#FF6692",
           "#B6E880",
           "#FF97FF",
           "#FECB52"
          ],
          "font": {
           "color": "#2a3f5f"
          },
          "geo": {
           "bgcolor": "white",
           "lakecolor": "white",
           "landcolor": "#E5ECF6",
           "showlakes": true,
           "showland": true,
           "subunitcolor": "white"
          },
          "hoverlabel": {
           "align": "left"
          },
          "hovermode": "closest",
          "mapbox": {
           "style": "light"
          },
          "paper_bgcolor": "white",
          "plot_bgcolor": "#E5ECF6",
          "polar": {
           "angularaxis": {
            "gridcolor": "white",
            "linecolor": "white",
            "ticks": ""
           },
           "bgcolor": "#E5ECF6",
           "radialaxis": {
            "gridcolor": "white",
            "linecolor": "white",
            "ticks": ""
           }
          },
          "scene": {
           "xaxis": {
            "backgroundcolor": "#E5ECF6",
            "gridcolor": "white",
            "gridwidth": 2,
            "linecolor": "white",
            "showbackground": true,
            "ticks": "",
            "zerolinecolor": "white"
           },
           "yaxis": {
            "backgroundcolor": "#E5ECF6",
            "gridcolor": "white",
            "gridwidth": 2,
            "linecolor": "white",
            "showbackground": true,
            "ticks": "",
            "zerolinecolor": "white"
           },
           "zaxis": {
            "backgroundcolor": "#E5ECF6",
            "gridcolor": "white",
            "gridwidth": 2,
            "linecolor": "white",
            "showbackground": true,
            "ticks": "",
            "zerolinecolor": "white"
           }
          },
          "shapedefaults": {
           "line": {
            "color": "#2a3f5f"
           }
          },
          "ternary": {
           "aaxis": {
            "gridcolor": "white",
            "linecolor": "white",
            "ticks": ""
           },
           "baxis": {
            "gridcolor": "white",
            "linecolor": "white",
            "ticks": ""
           },
           "bgcolor": "#E5ECF6",
           "caxis": {
            "gridcolor": "white",
            "linecolor": "white",
            "ticks": ""
           }
          },
          "title": {
           "x": 0.05
          },
          "xaxis": {
           "automargin": true,
           "gridcolor": "white",
           "linecolor": "white",
           "ticks": "",
           "title": {
            "standoff": 15
           },
           "zerolinecolor": "white",
           "zerolinewidth": 2
          },
          "yaxis": {
           "automargin": true,
           "gridcolor": "white",
           "linecolor": "white",
           "ticks": "",
           "title": {
            "standoff": 15
           },
           "zerolinecolor": "white",
           "zerolinewidth": 2
          }
         }
        },
        "title": {
         "text": "Loss"
        },
        "xaxis": {
         "title": {
          "text": "Epoch"
         }
        },
        "yaxis": {
         "title": {
          "text": "Loss"
         }
        }
       }
      }
     },
     "metadata": {},
     "output_type": "display_data"
    }
   ],
   "source": [
    "# plot loss\n",
    "fig = go.Figure()\n",
    "fig.add_trace(go.Scatter(y=history.history['loss'], mode='lines', name='loss'))\n",
    "fig.add_trace(go.Scatter(y=history.history['val_loss'], mode='lines', name='val_loss'))\n",
    "fig.update_layout(title='Loss', xaxis_title='Epoch', yaxis_title='Loss')\n",
    "fig.show()"
   ]
  },
  {
   "cell_type": "code",
   "execution_count": 20,
   "metadata": {},
   "outputs": [
    {
     "data": {
      "application/vnd.plotly.v1+json": {
       "config": {
        "plotlyServerURL": "https://plot.ly"
       },
       "data": [
        {
         "mode": "lines",
         "name": "accuracy",
         "type": "scatter",
         "y": [
          0.5898250937461853,
          0.5977742671966553,
          0.5945945978164673,
          0.5945945978164673,
          0.5961844325065613,
          0.5961844325065613,
          0.5930047631263733,
          0.6041335463523865,
          0.5914149284362793,
          0.5834658145904541,
          0.6248012781143188,
          0.637519896030426,
          0.6391096711158752,
          0.6438791751861572,
          0.6629570722579956,
          0.6581876277923584,
          0.685214638710022,
          0.686804473400116,
          0.6979332566261292,
          0.7154213190078735,
          0.7186009287834167,
          0.7201907634735107,
          0.7344992160797119,
          0.7440381646156311,
          0.7488076090812683,
          0.7551669478416443,
          0.7535771131515503,
          0.7503974437713623,
          0.7662957310676575,
          0.7694753408432007,
          0.7678855061531067,
          0.7710651755332947,
          0.7742448449134827,
          0.7742448449134827,
          0.7726550102233887,
          0.7790142893791199,
          0.7774244546890259,
          0.7821939587593079,
          0.791732907295227,
          0.791732907295227,
          0.796502411365509,
          0.793322741985321,
          0.796502411365509,
          0.8012718558311462,
          0.8044515252113342,
          0.8060413599014282,
          0.8044515252113342,
          0.8060413599014282,
          0.8028616905212402,
          0.8028616905212402,
          0.8060413599014282,
          0.8092209696769714,
          0.8108108043670654,
          0.8108108043670654,
          0.8092209696769714,
          0.8139904737472534,
          0.8108108043670654,
          0.8124006390571594,
          0.8139904737472534,
          0.8139904737472534,
          0.8171700835227966,
          0.8219395875930786,
          0.8235294222831726,
          0.8235294222831726,
          0.8251192569732666,
          0.8267090916633606,
          0.8298887014389038,
          0.8298887014389038,
          0.8330683708190918,
          0.8330683708190918,
          0.8362480401992798,
          0.8362480401992798,
          0.8362480401992798,
          0.841017484664917,
          0.844197154045105,
          0.845786988735199,
          0.842607319355011,
          0.8473767638206482,
          0.8489665985107422,
          0.8521462678909302,
          0.8521462678909302,
          0.8521462678909302,
          0.8521462678909302,
          0.8537361025810242,
          0.8569157123565674,
          0.8585055470466614,
          0.8600953817367554,
          0.8600953817367554,
          0.8648648858070374,
          0.8648648858070374,
          0.8680444955825806,
          0.8680444955825806,
          0.8664546608924866,
          0.8712241649627686,
          0.8712241649627686,
          0.8728139996528625,
          0.8759936690330505,
          0.8744038343429565,
          0.8791732788085938,
          0.8791732788085938
         ]
        },
        {
         "mode": "lines",
         "name": "val_accuracy",
         "type": "scatter",
         "y": [
          0.5481481552124023,
          0.5629629492759705,
          0.5629629492759705,
          0.5629629492759705,
          0.5629629492759705,
          0.5629629492759705,
          0.5629629492759705,
          0.5925925970077515,
          0.7259259223937988,
          0.7111111283302307,
          0.6592592597007751,
          0.6962962746620178,
          0.7185184955596924,
          0.7037037014961243,
          0.7185184955596924,
          0.6518518328666687,
          0.7037037014961243,
          0.7185184955596924,
          0.7185184955596924,
          0.7111111283302307,
          0.7185184955596924,
          0.7333333492279053,
          0.7407407164573669,
          0.7555555701255798,
          0.7555555701255798,
          0.7555555701255798,
          0.7629629373550415,
          0.7555555701255798,
          0.7629629373550415,
          0.7629629373550415,
          0.7629629373550415,
          0.7629629373550415,
          0.7629629373550415,
          0.7629629373550415,
          0.7629629373550415,
          0.7629629373550415,
          0.7777777910232544,
          0.7555555701255798,
          0.7629629373550415,
          0.770370364189148,
          0.7629629373550415,
          0.770370364189148,
          0.7777777910232544,
          0.7777777910232544,
          0.7777777910232544,
          0.7777777910232544,
          0.7777777910232544,
          0.770370364189148,
          0.7777777910232544,
          0.7777777910232544,
          0.7777777910232544,
          0.770370364189148,
          0.770370364189148,
          0.770370364189148,
          0.7777777910232544,
          0.770370364189148,
          0.7851851582527161,
          0.7851851582527161,
          0.800000011920929,
          0.800000011920929,
          0.8074073791503906,
          0.8148148059844971,
          0.8148148059844971,
          0.8148148059844971,
          0.8148148059844971,
          0.8148148059844971,
          0.8148148059844971,
          0.8148148059844971,
          0.8148148059844971,
          0.8148148059844971,
          0.8148148059844971,
          0.8148148059844971,
          0.8148148059844971,
          0.8222222328186035,
          0.8296296000480652,
          0.8370370268821716,
          0.8296296000480652,
          0.8370370268821716,
          0.8296296000480652,
          0.8296296000480652,
          0.8370370268821716,
          0.8370370268821716,
          0.8370370268821716,
          0.8444444537162781,
          0.8444444537162781,
          0.8444444537162781,
          0.8444444537162781,
          0.8444444537162781,
          0.8518518805503845,
          0.8518518805503845,
          0.8518518805503845,
          0.8518518805503845,
          0.8518518805503845,
          0.8518518805503845,
          0.8592592477798462,
          0.8592592477798462,
          0.8592592477798462,
          0.8592592477798462,
          0.8592592477798462,
          0.8666666746139526
         ]
        }
       ],
       "layout": {
        "template": {
         "data": {
          "bar": [
           {
            "error_x": {
             "color": "#2a3f5f"
            },
            "error_y": {
             "color": "#2a3f5f"
            },
            "marker": {
             "line": {
              "color": "#E5ECF6",
              "width": 0.5
             },
             "pattern": {
              "fillmode": "overlay",
              "size": 10,
              "solidity": 0.2
             }
            },
            "type": "bar"
           }
          ],
          "barpolar": [
           {
            "marker": {
             "line": {
              "color": "#E5ECF6",
              "width": 0.5
             },
             "pattern": {
              "fillmode": "overlay",
              "size": 10,
              "solidity": 0.2
             }
            },
            "type": "barpolar"
           }
          ],
          "carpet": [
           {
            "aaxis": {
             "endlinecolor": "#2a3f5f",
             "gridcolor": "white",
             "linecolor": "white",
             "minorgridcolor": "white",
             "startlinecolor": "#2a3f5f"
            },
            "baxis": {
             "endlinecolor": "#2a3f5f",
             "gridcolor": "white",
             "linecolor": "white",
             "minorgridcolor": "white",
             "startlinecolor": "#2a3f5f"
            },
            "type": "carpet"
           }
          ],
          "choropleth": [
           {
            "colorbar": {
             "outlinewidth": 0,
             "ticks": ""
            },
            "type": "choropleth"
           }
          ],
          "contour": [
           {
            "colorbar": {
             "outlinewidth": 0,
             "ticks": ""
            },
            "colorscale": [
             [
              0,
              "#0d0887"
             ],
             [
              0.1111111111111111,
              "#46039f"
             ],
             [
              0.2222222222222222,
              "#7201a8"
             ],
             [
              0.3333333333333333,
              "#9c179e"
             ],
             [
              0.4444444444444444,
              "#bd3786"
             ],
             [
              0.5555555555555556,
              "#d8576b"
             ],
             [
              0.6666666666666666,
              "#ed7953"
             ],
             [
              0.7777777777777778,
              "#fb9f3a"
             ],
             [
              0.8888888888888888,
              "#fdca26"
             ],
             [
              1,
              "#f0f921"
             ]
            ],
            "type": "contour"
           }
          ],
          "contourcarpet": [
           {
            "colorbar": {
             "outlinewidth": 0,
             "ticks": ""
            },
            "type": "contourcarpet"
           }
          ],
          "heatmap": [
           {
            "colorbar": {
             "outlinewidth": 0,
             "ticks": ""
            },
            "colorscale": [
             [
              0,
              "#0d0887"
             ],
             [
              0.1111111111111111,
              "#46039f"
             ],
             [
              0.2222222222222222,
              "#7201a8"
             ],
             [
              0.3333333333333333,
              "#9c179e"
             ],
             [
              0.4444444444444444,
              "#bd3786"
             ],
             [
              0.5555555555555556,
              "#d8576b"
             ],
             [
              0.6666666666666666,
              "#ed7953"
             ],
             [
              0.7777777777777778,
              "#fb9f3a"
             ],
             [
              0.8888888888888888,
              "#fdca26"
             ],
             [
              1,
              "#f0f921"
             ]
            ],
            "type": "heatmap"
           }
          ],
          "heatmapgl": [
           {
            "colorbar": {
             "outlinewidth": 0,
             "ticks": ""
            },
            "colorscale": [
             [
              0,
              "#0d0887"
             ],
             [
              0.1111111111111111,
              "#46039f"
             ],
             [
              0.2222222222222222,
              "#7201a8"
             ],
             [
              0.3333333333333333,
              "#9c179e"
             ],
             [
              0.4444444444444444,
              "#bd3786"
             ],
             [
              0.5555555555555556,
              "#d8576b"
             ],
             [
              0.6666666666666666,
              "#ed7953"
             ],
             [
              0.7777777777777778,
              "#fb9f3a"
             ],
             [
              0.8888888888888888,
              "#fdca26"
             ],
             [
              1,
              "#f0f921"
             ]
            ],
            "type": "heatmapgl"
           }
          ],
          "histogram": [
           {
            "marker": {
             "pattern": {
              "fillmode": "overlay",
              "size": 10,
              "solidity": 0.2
             }
            },
            "type": "histogram"
           }
          ],
          "histogram2d": [
           {
            "colorbar": {
             "outlinewidth": 0,
             "ticks": ""
            },
            "colorscale": [
             [
              0,
              "#0d0887"
             ],
             [
              0.1111111111111111,
              "#46039f"
             ],
             [
              0.2222222222222222,
              "#7201a8"
             ],
             [
              0.3333333333333333,
              "#9c179e"
             ],
             [
              0.4444444444444444,
              "#bd3786"
             ],
             [
              0.5555555555555556,
              "#d8576b"
             ],
             [
              0.6666666666666666,
              "#ed7953"
             ],
             [
              0.7777777777777778,
              "#fb9f3a"
             ],
             [
              0.8888888888888888,
              "#fdca26"
             ],
             [
              1,
              "#f0f921"
             ]
            ],
            "type": "histogram2d"
           }
          ],
          "histogram2dcontour": [
           {
            "colorbar": {
             "outlinewidth": 0,
             "ticks": ""
            },
            "colorscale": [
             [
              0,
              "#0d0887"
             ],
             [
              0.1111111111111111,
              "#46039f"
             ],
             [
              0.2222222222222222,
              "#7201a8"
             ],
             [
              0.3333333333333333,
              "#9c179e"
             ],
             [
              0.4444444444444444,
              "#bd3786"
             ],
             [
              0.5555555555555556,
              "#d8576b"
             ],
             [
              0.6666666666666666,
              "#ed7953"
             ],
             [
              0.7777777777777778,
              "#fb9f3a"
             ],
             [
              0.8888888888888888,
              "#fdca26"
             ],
             [
              1,
              "#f0f921"
             ]
            ],
            "type": "histogram2dcontour"
           }
          ],
          "mesh3d": [
           {
            "colorbar": {
             "outlinewidth": 0,
             "ticks": ""
            },
            "type": "mesh3d"
           }
          ],
          "parcoords": [
           {
            "line": {
             "colorbar": {
              "outlinewidth": 0,
              "ticks": ""
             }
            },
            "type": "parcoords"
           }
          ],
          "pie": [
           {
            "automargin": true,
            "type": "pie"
           }
          ],
          "scatter": [
           {
            "fillpattern": {
             "fillmode": "overlay",
             "size": 10,
             "solidity": 0.2
            },
            "type": "scatter"
           }
          ],
          "scatter3d": [
           {
            "line": {
             "colorbar": {
              "outlinewidth": 0,
              "ticks": ""
             }
            },
            "marker": {
             "colorbar": {
              "outlinewidth": 0,
              "ticks": ""
             }
            },
            "type": "scatter3d"
           }
          ],
          "scattercarpet": [
           {
            "marker": {
             "colorbar": {
              "outlinewidth": 0,
              "ticks": ""
             }
            },
            "type": "scattercarpet"
           }
          ],
          "scattergeo": [
           {
            "marker": {
             "colorbar": {
              "outlinewidth": 0,
              "ticks": ""
             }
            },
            "type": "scattergeo"
           }
          ],
          "scattergl": [
           {
            "marker": {
             "colorbar": {
              "outlinewidth": 0,
              "ticks": ""
             }
            },
            "type": "scattergl"
           }
          ],
          "scattermapbox": [
           {
            "marker": {
             "colorbar": {
              "outlinewidth": 0,
              "ticks": ""
             }
            },
            "type": "scattermapbox"
           }
          ],
          "scatterpolar": [
           {
            "marker": {
             "colorbar": {
              "outlinewidth": 0,
              "ticks": ""
             }
            },
            "type": "scatterpolar"
           }
          ],
          "scatterpolargl": [
           {
            "marker": {
             "colorbar": {
              "outlinewidth": 0,
              "ticks": ""
             }
            },
            "type": "scatterpolargl"
           }
          ],
          "scatterternary": [
           {
            "marker": {
             "colorbar": {
              "outlinewidth": 0,
              "ticks": ""
             }
            },
            "type": "scatterternary"
           }
          ],
          "surface": [
           {
            "colorbar": {
             "outlinewidth": 0,
             "ticks": ""
            },
            "colorscale": [
             [
              0,
              "#0d0887"
             ],
             [
              0.1111111111111111,
              "#46039f"
             ],
             [
              0.2222222222222222,
              "#7201a8"
             ],
             [
              0.3333333333333333,
              "#9c179e"
             ],
             [
              0.4444444444444444,
              "#bd3786"
             ],
             [
              0.5555555555555556,
              "#d8576b"
             ],
             [
              0.6666666666666666,
              "#ed7953"
             ],
             [
              0.7777777777777778,
              "#fb9f3a"
             ],
             [
              0.8888888888888888,
              "#fdca26"
             ],
             [
              1,
              "#f0f921"
             ]
            ],
            "type": "surface"
           }
          ],
          "table": [
           {
            "cells": {
             "fill": {
              "color": "#EBF0F8"
             },
             "line": {
              "color": "white"
             }
            },
            "header": {
             "fill": {
              "color": "#C8D4E3"
             },
             "line": {
              "color": "white"
             }
            },
            "type": "table"
           }
          ]
         },
         "layout": {
          "annotationdefaults": {
           "arrowcolor": "#2a3f5f",
           "arrowhead": 0,
           "arrowwidth": 1
          },
          "autotypenumbers": "strict",
          "coloraxis": {
           "colorbar": {
            "outlinewidth": 0,
            "ticks": ""
           }
          },
          "colorscale": {
           "diverging": [
            [
             0,
             "#8e0152"
            ],
            [
             0.1,
             "#c51b7d"
            ],
            [
             0.2,
             "#de77ae"
            ],
            [
             0.3,
             "#f1b6da"
            ],
            [
             0.4,
             "#fde0ef"
            ],
            [
             0.5,
             "#f7f7f7"
            ],
            [
             0.6,
             "#e6f5d0"
            ],
            [
             0.7,
             "#b8e186"
            ],
            [
             0.8,
             "#7fbc41"
            ],
            [
             0.9,
             "#4d9221"
            ],
            [
             1,
             "#276419"
            ]
           ],
           "sequential": [
            [
             0,
             "#0d0887"
            ],
            [
             0.1111111111111111,
             "#46039f"
            ],
            [
             0.2222222222222222,
             "#7201a8"
            ],
            [
             0.3333333333333333,
             "#9c179e"
            ],
            [
             0.4444444444444444,
             "#bd3786"
            ],
            [
             0.5555555555555556,
             "#d8576b"
            ],
            [
             0.6666666666666666,
             "#ed7953"
            ],
            [
             0.7777777777777778,
             "#fb9f3a"
            ],
            [
             0.8888888888888888,
             "#fdca26"
            ],
            [
             1,
             "#f0f921"
            ]
           ],
           "sequentialminus": [
            [
             0,
             "#0d0887"
            ],
            [
             0.1111111111111111,
             "#46039f"
            ],
            [
             0.2222222222222222,
             "#7201a8"
            ],
            [
             0.3333333333333333,
             "#9c179e"
            ],
            [
             0.4444444444444444,
             "#bd3786"
            ],
            [
             0.5555555555555556,
             "#d8576b"
            ],
            [
             0.6666666666666666,
             "#ed7953"
            ],
            [
             0.7777777777777778,
             "#fb9f3a"
            ],
            [
             0.8888888888888888,
             "#fdca26"
            ],
            [
             1,
             "#f0f921"
            ]
           ]
          },
          "colorway": [
           "#636efa",
           "#EF553B",
           "#00cc96",
           "#ab63fa",
           "#FFA15A",
           "#19d3f3",
           "#FF6692",
           "#B6E880",
           "#FF97FF",
           "#FECB52"
          ],
          "font": {
           "color": "#2a3f5f"
          },
          "geo": {
           "bgcolor": "white",
           "lakecolor": "white",
           "landcolor": "#E5ECF6",
           "showlakes": true,
           "showland": true,
           "subunitcolor": "white"
          },
          "hoverlabel": {
           "align": "left"
          },
          "hovermode": "closest",
          "mapbox": {
           "style": "light"
          },
          "paper_bgcolor": "white",
          "plot_bgcolor": "#E5ECF6",
          "polar": {
           "angularaxis": {
            "gridcolor": "white",
            "linecolor": "white",
            "ticks": ""
           },
           "bgcolor": "#E5ECF6",
           "radialaxis": {
            "gridcolor": "white",
            "linecolor": "white",
            "ticks": ""
           }
          },
          "scene": {
           "xaxis": {
            "backgroundcolor": "#E5ECF6",
            "gridcolor": "white",
            "gridwidth": 2,
            "linecolor": "white",
            "showbackground": true,
            "ticks": "",
            "zerolinecolor": "white"
           },
           "yaxis": {
            "backgroundcolor": "#E5ECF6",
            "gridcolor": "white",
            "gridwidth": 2,
            "linecolor": "white",
            "showbackground": true,
            "ticks": "",
            "zerolinecolor": "white"
           },
           "zaxis": {
            "backgroundcolor": "#E5ECF6",
            "gridcolor": "white",
            "gridwidth": 2,
            "linecolor": "white",
            "showbackground": true,
            "ticks": "",
            "zerolinecolor": "white"
           }
          },
          "shapedefaults": {
           "line": {
            "color": "#2a3f5f"
           }
          },
          "ternary": {
           "aaxis": {
            "gridcolor": "white",
            "linecolor": "white",
            "ticks": ""
           },
           "baxis": {
            "gridcolor": "white",
            "linecolor": "white",
            "ticks": ""
           },
           "bgcolor": "#E5ECF6",
           "caxis": {
            "gridcolor": "white",
            "linecolor": "white",
            "ticks": ""
           }
          },
          "title": {
           "x": 0.05
          },
          "xaxis": {
           "automargin": true,
           "gridcolor": "white",
           "linecolor": "white",
           "ticks": "",
           "title": {
            "standoff": 15
           },
           "zerolinecolor": "white",
           "zerolinewidth": 2
          },
          "yaxis": {
           "automargin": true,
           "gridcolor": "white",
           "linecolor": "white",
           "ticks": "",
           "title": {
            "standoff": 15
           },
           "zerolinecolor": "white",
           "zerolinewidth": 2
          }
         }
        },
        "title": {
         "text": "Accuracy"
        },
        "xaxis": {
         "title": {
          "text": "Epoch"
         }
        },
        "yaxis": {
         "title": {
          "text": "Accuracy"
         }
        }
       }
      }
     },
     "metadata": {},
     "output_type": "display_data"
    }
   ],
   "source": [
    "# plot accuracy\n",
    "fig = go.Figure()\n",
    "fig.add_trace(go.Scatter(y=history.history['accuracy'], mode='lines', name='accuracy'))\n",
    "fig.add_trace(go.Scatter(y=history.history['val_accuracy'], mode='lines', name='val_accuracy'))\n",
    "fig.update_layout(title='Accuracy', xaxis_title='Epoch', yaxis_title='Accuracy')\n",
    "fig.show()"
   ]
  },
  {
   "cell_type": "code",
   "execution_count": 13,
   "metadata": {},
   "outputs": [
    {
     "name": "stdout",
     "output_type": "stream",
     "text": [
      "      Accuracy  Precision  Recall  F1 score    AUC\n",
      "LSTM    0.9936     0.0058  0.3478    0.0114 0.6707\n",
      " RNN    0.9789     0.0024  0.4783    0.0048 0.7286\n"
     ]
    }
   ],
   "source": [
    "# Bankruptcy forecasting performance\n",
    "data = {'  ' : ['LSTM' , 'RNN'] , 'Accuracy' : [0.9936 , 0.9789] , 'Precision' : [0.0058 , 0.0024] , \n",
    "        'Recall' : [0.3478 , 0.4783] , 'F1 score' : [0.0114 , 0.0048] , 'AUC' : [0.6707 , 0.7286]}\n",
    "df = pd.DataFrame(data)\n",
    "print(df.to_string(index=False))"
   ]
  },
  {
   "cell_type": "markdown",
   "metadata": {},
   "source": []
  },
  {
   "cell_type": "markdown",
   "metadata": {},
   "source": [
    "### Actual bankruptcy rates by predicted bankruptcy probabilities ###\n",
    "```\n",
    "Predicted                 RNN                                      LSTM\n",
    "     -----------------------------------------------------------------------------------\n",
    "Prob            Total     Bankruptcy    Rate             Total     Bankruptcy    Rate\n",
    "----------------------------------------------------------------------------------------\n",
    "0–10%           208,875     12          0.0057          214,266         15      0.0070 \n",
    "10–20%          1,102       0           0.0000            188           0       0.0000\n",
    "20–30%          628         0           0.0000            118           0       0.0000\n",
    "30–40%          516         0           0.0000            81            0       0.0000\n",
    "40–50%          436         0           0.0000            85            0       0.0000\n",
    "50–60%          415         0           0.0000            65            0       0.0000\n",
    "60–70%          419         0           0.0000            85            0       0.0000\n",
    "70–80%          458         0           0.0000            77            0       0.0000\n",
    "80–90%          645         0           0.0000            122           0       0.0000\n",
    "90% –           2,624       11          0.4192            1031          8       0.7759\n",
    "\n",
    "```\n",
    "\n"
   ]
  },
  {
   "cell_type": "markdown",
   "metadata": {},
   "source": []
  }
 ],
 "metadata": {
  "kernelspec": {
   "display_name": "corporate-bankruptcy",
   "language": "python",
   "name": "python3"
  },
  "language_info": {
   "codemirror_mode": {
    "name": "ipython",
    "version": 3
   },
   "file_extension": ".py",
   "mimetype": "text/x-python",
   "name": "python",
   "nbconvert_exporter": "python",
   "pygments_lexer": "ipython3",
   "version": "3.10.8"
  },
  "orig_nbformat": 4
 },
 "nbformat": 4,
 "nbformat_minor": 2
}
