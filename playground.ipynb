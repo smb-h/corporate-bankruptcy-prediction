{
 "cells": [
  {
   "cell_type": "code",
   "execution_count": 20,
   "metadata": {},
   "outputs": [],
   "source": [
    "import pandas as pd\n",
    "import numpy as np\n",
    "import plotly.graph_objects as go\n",
    "import plotly.express as px\n",
    "import matplotlib.pyplot as plt\n",
    "from sklearn.preprocessing import MinMaxScaler\n",
    "from tensorflow import keras\n",
    "from sklearn.metrics import accuracy_score, precision_score, recall_score, f1_score, roc_auc_score\n",
    "from sklearn.model_selection import train_test_split\n",
    "from sklearn.linear_model import LogisticRegression\n",
    "from sklearn.ensemble import RandomForestClassifier\n",
    "from sklearn.svm import SVC\n",
    "from sklearn.metrics import confusion_matrix\n",
    "import seaborn as sns"
   ]
  },
  {
   "cell_type": "code",
   "execution_count": 21,
   "metadata": {},
   "outputs": [],
   "source": [
    "results = pd.DataFrame(columns=['model', 'accuracy', 'precision', 'recall', 'f1', 'roc_auc'])"
   ]
  },
  {
   "cell_type": "markdown",
   "metadata": {},
   "source": [
    "### Data"
   ]
  },
  {
   "cell_type": "code",
   "execution_count": 22,
   "metadata": {},
   "outputs": [
    {
     "data": {
      "text/html": [
       "<div>\n",
       "<style scoped>\n",
       "    .dataframe tbody tr th:only-of-type {\n",
       "        vertical-align: middle;\n",
       "    }\n",
       "\n",
       "    .dataframe tbody tr th {\n",
       "        vertical-align: top;\n",
       "    }\n",
       "\n",
       "    .dataframe thead th {\n",
       "        text-align: right;\n",
       "    }\n",
       "</style>\n",
       "<table border=\"1\" class=\"dataframe\">\n",
       "  <thead>\n",
       "    <tr style=\"text-align: right;\">\n",
       "      <th></th>\n",
       "      <th>Company</th>\n",
       "      <th>Custom-Return_x</th>\n",
       "      <th>EPS_MRQ_LC</th>\n",
       "      <th>EPS_TTM</th>\n",
       "      <th>EPS_MRQ</th>\n",
       "      <th>EPS_FY</th>\n",
       "      <th>Rev_TTM</th>\n",
       "      <th>Rev_MRQ</th>\n",
       "      <th>Rev_FY</th>\n",
       "      <th>NI_TTM</th>\n",
       "      <th>...</th>\n",
       "      <th>CFOToDebt</th>\n",
       "      <th>FCFFToRev</th>\n",
       "      <th>FCFFToNI</th>\n",
       "      <th>FCFEToRev</th>\n",
       "      <th>FCFEToNI</th>\n",
       "      <th>CAPEXToRev</th>\n",
       "      <th>CAPEXToNI</th>\n",
       "      <th>DivYield</th>\n",
       "      <th>year</th>\n",
       "      <th>y</th>\n",
       "    </tr>\n",
       "  </thead>\n",
       "  <tbody>\n",
       "    <tr>\n",
       "      <th>0</th>\n",
       "      <td>سرمایه گذاری تامین اجتماعی</td>\n",
       "      <td>NaN</td>\n",
       "      <td>-5.0367</td>\n",
       "      <td>126.0</td>\n",
       "      <td>-5.0</td>\n",
       "      <td>130.0</td>\n",
       "      <td>2.236414e+14</td>\n",
       "      <td>NaN</td>\n",
       "      <td>2.227617e+14</td>\n",
       "      <td>2.065226e+14</td>\n",
       "      <td>...</td>\n",
       "      <td>1.4076</td>\n",
       "      <td>0.6699</td>\n",
       "      <td>0.7075</td>\n",
       "      <td>1.5083</td>\n",
       "      <td>1.7038</td>\n",
       "      <td>0.0002</td>\n",
       "      <td>0.0002</td>\n",
       "      <td>0.1038</td>\n",
       "      <td>1392</td>\n",
       "      <td>0</td>\n",
       "    </tr>\n",
       "    <tr>\n",
       "      <th>1</th>\n",
       "      <td>سرمایه گذاری تامین اجتماعی</td>\n",
       "      <td>NaN</td>\n",
       "      <td>-5.0367</td>\n",
       "      <td>126.0</td>\n",
       "      <td>-5.0</td>\n",
       "      <td>130.0</td>\n",
       "      <td>2.236414e+14</td>\n",
       "      <td>NaN</td>\n",
       "      <td>2.227617e+14</td>\n",
       "      <td>2.065226e+14</td>\n",
       "      <td>...</td>\n",
       "      <td>1.4076</td>\n",
       "      <td>0.6699</td>\n",
       "      <td>0.7075</td>\n",
       "      <td>1.5083</td>\n",
       "      <td>1.7038</td>\n",
       "      <td>0.0002</td>\n",
       "      <td>0.0002</td>\n",
       "      <td>0.1038</td>\n",
       "      <td>1400</td>\n",
       "      <td>0</td>\n",
       "    </tr>\n",
       "    <tr>\n",
       "      <th>2</th>\n",
       "      <td>سرمایه گذاری تامین اجتماعی</td>\n",
       "      <td>NaN</td>\n",
       "      <td>-5.0367</td>\n",
       "      <td>126.0</td>\n",
       "      <td>-5.0</td>\n",
       "      <td>130.0</td>\n",
       "      <td>2.236414e+14</td>\n",
       "      <td>NaN</td>\n",
       "      <td>2.227617e+14</td>\n",
       "      <td>2.065226e+14</td>\n",
       "      <td>...</td>\n",
       "      <td>1.4076</td>\n",
       "      <td>0.6699</td>\n",
       "      <td>0.7075</td>\n",
       "      <td>1.5083</td>\n",
       "      <td>1.7038</td>\n",
       "      <td>0.0002</td>\n",
       "      <td>0.0002</td>\n",
       "      <td>0.1038</td>\n",
       "      <td>1395</td>\n",
       "      <td>0</td>\n",
       "    </tr>\n",
       "    <tr>\n",
       "      <th>3</th>\n",
       "      <td>سرمایه گذاری تامین اجتماعی</td>\n",
       "      <td>NaN</td>\n",
       "      <td>-5.0367</td>\n",
       "      <td>126.0</td>\n",
       "      <td>-5.0</td>\n",
       "      <td>130.0</td>\n",
       "      <td>2.236414e+14</td>\n",
       "      <td>NaN</td>\n",
       "      <td>2.227617e+14</td>\n",
       "      <td>2.065226e+14</td>\n",
       "      <td>...</td>\n",
       "      <td>1.4076</td>\n",
       "      <td>0.6699</td>\n",
       "      <td>0.7075</td>\n",
       "      <td>1.5083</td>\n",
       "      <td>1.7038</td>\n",
       "      <td>0.0002</td>\n",
       "      <td>0.0002</td>\n",
       "      <td>0.1038</td>\n",
       "      <td>1390</td>\n",
       "      <td>0</td>\n",
       "    </tr>\n",
       "    <tr>\n",
       "      <th>4</th>\n",
       "      <td>سرمایه گذاری تامین اجتماعی</td>\n",
       "      <td>NaN</td>\n",
       "      <td>-5.0367</td>\n",
       "      <td>126.0</td>\n",
       "      <td>-5.0</td>\n",
       "      <td>130.0</td>\n",
       "      <td>2.236414e+14</td>\n",
       "      <td>NaN</td>\n",
       "      <td>2.227617e+14</td>\n",
       "      <td>2.065226e+14</td>\n",
       "      <td>...</td>\n",
       "      <td>1.4076</td>\n",
       "      <td>0.6699</td>\n",
       "      <td>0.7075</td>\n",
       "      <td>1.5083</td>\n",
       "      <td>1.7038</td>\n",
       "      <td>0.0002</td>\n",
       "      <td>0.0002</td>\n",
       "      <td>0.1038</td>\n",
       "      <td>1393</td>\n",
       "      <td>0</td>\n",
       "    </tr>\n",
       "  </tbody>\n",
       "</table>\n",
       "<p>5 rows × 71 columns</p>\n",
       "</div>"
      ],
      "text/plain": [
       "                      Company  Custom-Return_x  EPS_MRQ_LC  EPS_TTM  EPS_MRQ  \\\n",
       "0  سرمایه گذاری تامین اجتماعی              NaN     -5.0367    126.0     -5.0   \n",
       "1  سرمایه گذاری تامین اجتماعی              NaN     -5.0367    126.0     -5.0   \n",
       "2  سرمایه گذاری تامین اجتماعی              NaN     -5.0367    126.0     -5.0   \n",
       "3  سرمایه گذاری تامین اجتماعی              NaN     -5.0367    126.0     -5.0   \n",
       "4  سرمایه گذاری تامین اجتماعی              NaN     -5.0367    126.0     -5.0   \n",
       "\n",
       "   EPS_FY       Rev_TTM  Rev_MRQ        Rev_FY        NI_TTM  ...  CFOToDebt  \\\n",
       "0   130.0  2.236414e+14      NaN  2.227617e+14  2.065226e+14  ...     1.4076   \n",
       "1   130.0  2.236414e+14      NaN  2.227617e+14  2.065226e+14  ...     1.4076   \n",
       "2   130.0  2.236414e+14      NaN  2.227617e+14  2.065226e+14  ...     1.4076   \n",
       "3   130.0  2.236414e+14      NaN  2.227617e+14  2.065226e+14  ...     1.4076   \n",
       "4   130.0  2.236414e+14      NaN  2.227617e+14  2.065226e+14  ...     1.4076   \n",
       "\n",
       "   FCFFToRev  FCFFToNI  FCFEToRev  FCFEToNI  CAPEXToRev  CAPEXToNI  DivYield  \\\n",
       "0     0.6699    0.7075     1.5083    1.7038      0.0002     0.0002    0.1038   \n",
       "1     0.6699    0.7075     1.5083    1.7038      0.0002     0.0002    0.1038   \n",
       "2     0.6699    0.7075     1.5083    1.7038      0.0002     0.0002    0.1038   \n",
       "3     0.6699    0.7075     1.5083    1.7038      0.0002     0.0002    0.1038   \n",
       "4     0.6699    0.7075     1.5083    1.7038      0.0002     0.0002    0.1038   \n",
       "\n",
       "   year  y  \n",
       "0  1392  0  \n",
       "1  1400  0  \n",
       "2  1395  0  \n",
       "3  1390  0  \n",
       "4  1393  0  \n",
       "\n",
       "[5 rows x 71 columns]"
      ]
     },
     "execution_count": 22,
     "metadata": {},
     "output_type": "execute_result"
    }
   ],
   "source": [
    "df = pd.read_csv('./data.csv')\n",
    "# df = pd.read_excel('./data.xlsx')\n",
    "df.head()"
   ]
  },
  {
   "cell_type": "code",
   "execution_count": 23,
   "metadata": {},
   "outputs": [
    {
     "name": "stdout",
     "output_type": "stream",
     "text": [
      "(129744, 71)\n"
     ]
    }
   ],
   "source": [
    "df = df.replace('-', np.nan)\n",
    "print(df.shape)"
   ]
  },
  {
   "cell_type": "code",
   "execution_count": 24,
   "metadata": {},
   "outputs": [
    {
     "name": "stdout",
     "output_type": "stream",
     "text": [
      "1 1\n",
      "(129744, 71)\n",
      "(119472, 71)\n"
     ]
    }
   ],
   "source": [
    "# drop rows which has no value in TSE_FY or RE_FY column\n",
    "col_tse_fy = []\n",
    "col_re_fy = []\n",
    "for col in df.columns:\n",
    "    if ('TSE_FY' in col):\n",
    "        col_tse_fy.append(col)\n",
    "    if ('RE_FY' in col):\n",
    "        col_re_fy.append(col)\n",
    "print(len(col_tse_fy), len(col_re_fy))\n",
    "print(df.shape)\n",
    "df = df.dropna(subset=col_tse_fy + col_re_fy, how='all')\n",
    "print(df.shape)"
   ]
  },
  {
   "cell_type": "code",
   "execution_count": 25,
   "metadata": {},
   "outputs": [
    {
     "name": "stdout",
     "output_type": "stream",
     "text": [
      "(119472, 73)\n",
      "--------\n",
      "(8640, 73)\n",
      "(110832, 73)\n"
     ]
    }
   ],
   "source": [
    "# mean of all col_tse_fy\n",
    "df['mean_TSE_FY'] = df[col_tse_fy].mean(axis=1)\n",
    "df['mean_RE_FY'] = df[col_re_fy].mean(axis=1)\n",
    "\n",
    "# # create a y column RE_FY / TSE_FY > .5 = 1 else 0\n",
    "# df['y'] = np.where(df['mean_RE_FY'] / df['mean_TSE_FY'] > .5, 1, 0)\n",
    "print(df.shape)\n",
    "print('--------')\n",
    "print(df[df['y'] >= .5].shape)\n",
    "print(df[df['y'] < .5].shape)"
   ]
  },
  {
   "cell_type": "markdown",
   "metadata": {},
   "source": [
    "داده‌های گمشده یک مسئله رایج در تجزیه و تحلیل داده است. در بسیاری از موارد، نیاز داریم این داده‌ها را پر کنیم چرا که:\n",
    "\n",
    "1. **نیاز به تمامیت داده**: بعضی از الگوریتم‌های یادگیری ماشین نمی‌توانند با داده‌های گمشده کار کنند و نیاز به ورودی کامل دارند. اگر این داده‌ها پر نشوند، نمی‌توان از این روش‌ها استفاده کرد.\n",
    "\n",
    "2. **تاثیر بر تحلیل آماری**: داده‌های گمشده می‌توانند تحلیل‌ها و نتایج آماری را از دست بدهند، و نتایج نادرستی به ما بدهند.\n",
    "\n",
    "3. **بهره‌برداری از اطلاعات**: اگر مقادیر زیادی از داده‌ها گم شده باشند و آن‌ها را نادیده بگیریم، اطلاعات مفید و معتبری را از دست می‌دهیم که می‌تواند در تصمیم‌گیری مؤثر باشد.\n",
    "\n",
    "4. **ارتباط بین متغیرها**: داده‌های گمشده می‌توانند روابط بین متغیرها را پنهان کنند و تحلیل‌ها را سخت‌تر کنند. با پر کردن داده‌های گمشده، می‌توان ارتباطات موجود را بررسی و درک بهتری از ساختار داده داشت.\n",
    "\n",
    "5. **یکپارچگی داده‌ها**: در برخی موارد، داده‌ها از منابع مختلف جمع‌آوری می‌شوند که ممکن است فرمت‌ها و ساختارهای متفاوتی داشته باشند. پر کردن داده‌های گمشده می‌تواند به یکپارچگی و همگنی بیشتر کمک کند.\n",
    "\n",
    "6. **اجتناب از سوءتفاهم**: داده‌های گمشده می‌توانند به سوءتفاهم منجر شوند و به اشتباه تفسیر شوند. با پر کردن این مقادیر، می‌توان از این سوءتفاهم‌ها جلوگیری کرد.\n",
    "\n",
    "با وجود این، روش پر کردن داده‌ها بسیار حساس است و باید با دقت انتخاب شود. انتخاب یک روش نامناسب می‌تواند به جای بهبود، مشکلات بیشتری ایجاد کند. از طرف دیگر، گاهی اوقات ممکن است حذف داده‌های گمشده (اگر تعداد آن‌ها کم باشد) به جای پر کردن آن‌ها، گزینه مناسب‌تری باشد. همچنین باید توجه داشت که اگر میزان داده‌های گمشده بسیار زیاد باشد، ممکن است نتوان از داده‌ها استفاده موثری کرد، و باید به جمع‌آوری دوباره داده یا استفاده از منابع دیگر فکر کرد."
   ]
  },
  {
   "cell_type": "code",
   "execution_count": 26,
   "metadata": {},
   "outputs": [
    {
     "name": "stdout",
     "output_type": "stream",
     "text": [
      "Company            0.000000\n",
      "Custom-Return_x    0.383889\n",
      "EPS_MRQ_LC         0.193451\n",
      "EPS_TTM            0.018080\n",
      "EPS_MRQ            0.019687\n",
      "                     ...   \n",
      "DivYield           0.270482\n",
      "year               0.000000\n",
      "y                  0.000000\n",
      "mean_TSE_FY        0.000000\n",
      "mean_RE_FY         0.006027\n",
      "Length: 73, dtype: float64\n"
     ]
    }
   ],
   "source": [
    "# print nan proportion\n",
    "print(df.isna().sum() / df.shape[0])"
   ]
  },
  {
   "cell_type": "markdown",
   "metadata": {},
   "source": [
    "1. **میانگین (Mean)**: این روش با استفاده از میانگین ستون‌ها مقادیر گمشده را پر می‌کند.\n",
    "   ```python\n",
    "   df = df.fillna(df.mean())\n",
    "   ```\n",
    "   اگر یک ستون مقادیر عددی داشته باشد، میانگین مقادیر موجود این ستون برای مقادیر گمشده این ستون استفاده می‌شود. این روش برای داده‌هایی که توزیع نرمال دارند مفید است.\n",
    "\n",
    "2. **میانه (Median)**: این روش با استفاده از میانه‌ی ستون‌ها مقادیر گمشده را پر می‌کند.\n",
    "   ```python\n",
    "   df = df.fillna(df.median())\n",
    "   ```\n",
    "   میانه، مقداری است که نصف داده‌ها بیشتر از آن هستند و نصف دیگر کمتر. این روش نسبت به میانگین به داده‌های پرت حساس نیست و برای توزیع‌های نامتقارن مناسب‌تر است.\n",
    "\n",
    "3. **مُد (Mode)**: مُد، مقداری است که بیشتر از هر مقدار دیگر در داده‌ها تکرار شده است. این روش با استفاده از مُد ستون‌ها مقادیر گمشده را پر می‌کند.\n",
    "   ```python\n",
    "   df = df.fillna(df.mode().iloc[0])\n",
    "   ```\n",
    "   این روش برای ستون‌های دسته‌ای مناسب است که مقادیر گسسته دارند.\n",
    "\n",
    "4. **پر کردن با صفر**: این روش به سادگی هر مقدار گمشده را با صفر جایگزین می‌کند.\n",
    "   ```python\n",
    "   df = df.fillna(0)\n",
    "   ```\n",
    "   این روش برخی مواقع مفید است، ولی باید با احتیاط استفاده شود، زیرا می‌تواند تغییرات ناخواسته‌ای در توزیع داده‌ها ایجاد کند.\n",
    "\n",
    "\n",
    "بسته به ویژگی‌های داده و معیارهای تجزیه و تحلیل، ممکن است یکی از این روش‌ها از دیگران بهتر عمل کند. انتخاب بهینه‌ترین روش نیاز به تجزیه و تحلیل و درک دقیق از داده‌ها و مسئله‌ی مورد بررسی دارد."
   ]
  },
  {
   "cell_type": "code",
   "execution_count": 27,
   "metadata": {},
   "outputs": [
    {
     "name": "stdout",
     "output_type": "stream",
     "text": [
      "Company            0.0\n",
      "Custom-Return_x    0.0\n",
      "EPS_MRQ_LC         0.0\n",
      "EPS_TTM            0.0\n",
      "EPS_MRQ            0.0\n",
      "                  ... \n",
      "DivYield           0.0\n",
      "year               0.0\n",
      "y                  0.0\n",
      "mean_TSE_FY        0.0\n",
      "mean_RE_FY         0.0\n",
      "Length: 73, dtype: float64\n"
     ]
    }
   ],
   "source": [
    "# df = df.fillna(df.mean())\n",
    "# df = df.fillna(df.median())\n",
    "# df = df.fillna(df.mode().iloc[0])\n",
    "\n",
    "# fill NaN with 0\n",
    "df = df.fillna(0)\n",
    "\n",
    "print(df.isna().sum() / df.shape[0])"
   ]
  },
  {
   "cell_type": "markdown",
   "metadata": {},
   "source": [
    "استفاده از `MinMaxScaler` در کتابخانه‌ی Scikit-learn یکی از روش‌های متداول برای نرمال‌سازی داده‌ها است. اما ابتدا بیایید ببینیم که نرمال‌سازی چیست و چرا انجام می‌شود:\n",
    "\n",
    "### نرمال‌سازی چیست؟\n",
    "نرمال‌سازی یا نرمال کردن داده‌ها به معنای تغییر مقیاس داده‌ها به طوری است که تمام ویژگی‌ها (ستون‌ها) در مقیاس مشابه‌ای قرار گیرند. مقیاس معمول بین 0 و 1 است یا -1 و 1.\n",
    "\n",
    "### چرا نرمال‌سازی مهم است؟\n",
    "1. **سرعت آموزش**: الگوریتم‌های یادگیری ماشین با داده‌هایی که در مقیاس مشابهی هستند، معمولاً سریع‌تر آموزش می‌بینند.\n",
    "2. **کم‌تر شدن احتمال به اشتباه رفتن به مینیمم‌های محلی**: در الگوریتم‌هایی مانند گرادیان کاهشی که از مشتق استفاده می‌کنند، اگر یک ویژگی در مقیاس بسیار بزرگ‌تری باشد، ممکن است الگوریتم به مینیمم‌های محلی گرفتار شود.\n",
    "3. **وزن‌دهی عادلانه به ویژگی‌ها**: اگر مقیاس ویژگی‌ها متفاوت باشد، ویژگی با مقیاس بزرگ‌تر وزن بیشتری در مدل خواهد داشت، حتی اگر اهمیت ویژه‌ای نداشته باشد.\n",
    "\n",
    "### `MinMaxScaler`\n",
    "`MinMaxScaler` یکی از روش‌های نرمال‌سازی است که هر ویژگی را به مقیاس مشخص (معمولاً بین 0 و 1) تغییر می‌دهد. فرمول آن به صورت زیر است:\n",
    "\n",
    "\\[ X_{\\text{scaled}} = \\frac{X - X_{\\text{min}}}{X_{\\text{max}} - X_{\\text{min}}} \\]\n",
    "\n",
    "که در آن \\(X_{\\text{min}}\\) و \\(X_{\\text{max}}\\) به ترتیب کمترین و بزرگ‌ترین مقادیر هر ویژگی هستند.\n",
    "\n",
    "### نحوه استفاده از `MinMaxScaler`\n",
    "برای استفاده از `MinMaxScaler` در Scikit-learn، ابتدا باید یک شیء از آن ایجاد کرده و سپس متد `fit_transform` را روی داده‌ها فراخوانی کنید:\n",
    "\n",
    "```python\n",
    "from sklearn.preprocessing import MinMaxScaler\n",
    "\n",
    "scaler = MinMaxScaler()\n",
    "data_scaled = scaler.fit_transform(data)\n",
    "```\n",
    "\n",
    "این کار باعث می‌شود هر ویژگی در `data` بین 0 و 1 قرار گیرد.\n",
    "\n",
    "دقت کنید که نرمال‌سازی می‌تواند تاثیر مثبتی بر بسیاری از الگوریتم‌های یادگیری ماشین داشته باشد، اما همیشه لازم نیست و بستگی به مدل و داده‌ها دارد."
   ]
  },
  {
   "cell_type": "code",
   "execution_count": 28,
   "metadata": {},
   "outputs": [
    {
     "data": {
      "text/html": [
       "<div>\n",
       "<style scoped>\n",
       "    .dataframe tbody tr th:only-of-type {\n",
       "        vertical-align: middle;\n",
       "    }\n",
       "\n",
       "    .dataframe tbody tr th {\n",
       "        vertical-align: top;\n",
       "    }\n",
       "\n",
       "    .dataframe thead th {\n",
       "        text-align: right;\n",
       "    }\n",
       "</style>\n",
       "<table border=\"1\" class=\"dataframe\">\n",
       "  <thead>\n",
       "    <tr style=\"text-align: right;\">\n",
       "      <th></th>\n",
       "      <th>Company</th>\n",
       "      <th>Custom-Return_x</th>\n",
       "      <th>EPS_MRQ_LC</th>\n",
       "      <th>EPS_TTM</th>\n",
       "      <th>EPS_MRQ</th>\n",
       "      <th>EPS_FY</th>\n",
       "      <th>Rev_TTM</th>\n",
       "      <th>Rev_MRQ</th>\n",
       "      <th>Rev_FY</th>\n",
       "      <th>NI_TTM</th>\n",
       "      <th>...</th>\n",
       "      <th>FCFFToNI</th>\n",
       "      <th>FCFEToRev</th>\n",
       "      <th>FCFEToNI</th>\n",
       "      <th>CAPEXToRev</th>\n",
       "      <th>CAPEXToNI</th>\n",
       "      <th>DivYield</th>\n",
       "      <th>year</th>\n",
       "      <th>y</th>\n",
       "      <th>mean_TSE_FY</th>\n",
       "      <th>mean_RE_FY</th>\n",
       "    </tr>\n",
       "  </thead>\n",
       "  <tbody>\n",
       "    <tr>\n",
       "      <th>0</th>\n",
       "      <td>سرمایه گذاری تامین اجتماعی</td>\n",
       "      <td>8.317413e-07</td>\n",
       "      <td>0.31629</td>\n",
       "      <td>2.605870e-10</td>\n",
       "      <td>0.999973</td>\n",
       "      <td>0.001849</td>\n",
       "      <td>0.107346</td>\n",
       "      <td>0.054275</td>\n",
       "      <td>0.107098</td>\n",
       "      <td>0.526337</td>\n",
       "      <td>...</td>\n",
       "      <td>0.896667</td>\n",
       "      <td>0.991152</td>\n",
       "      <td>0.453948</td>\n",
       "      <td>0.978933</td>\n",
       "      <td>0.655837</td>\n",
       "      <td>0.152333</td>\n",
       "      <td>1392</td>\n",
       "      <td>0</td>\n",
       "      <td>1.0</td>\n",
       "      <td>0.74384</td>\n",
       "    </tr>\n",
       "    <tr>\n",
       "      <th>1</th>\n",
       "      <td>سرمایه گذاری تامین اجتماعی</td>\n",
       "      <td>8.317413e-07</td>\n",
       "      <td>0.31629</td>\n",
       "      <td>2.605870e-10</td>\n",
       "      <td>0.999973</td>\n",
       "      <td>0.001849</td>\n",
       "      <td>0.107346</td>\n",
       "      <td>0.054275</td>\n",
       "      <td>0.107098</td>\n",
       "      <td>0.526337</td>\n",
       "      <td>...</td>\n",
       "      <td>0.896667</td>\n",
       "      <td>0.991152</td>\n",
       "      <td>0.453948</td>\n",
       "      <td>0.978933</td>\n",
       "      <td>0.655837</td>\n",
       "      <td>0.152333</td>\n",
       "      <td>1400</td>\n",
       "      <td>0</td>\n",
       "      <td>1.0</td>\n",
       "      <td>0.74384</td>\n",
       "    </tr>\n",
       "    <tr>\n",
       "      <th>2</th>\n",
       "      <td>سرمایه گذاری تامین اجتماعی</td>\n",
       "      <td>8.317413e-07</td>\n",
       "      <td>0.31629</td>\n",
       "      <td>2.605870e-10</td>\n",
       "      <td>0.999973</td>\n",
       "      <td>0.001849</td>\n",
       "      <td>0.107346</td>\n",
       "      <td>0.054275</td>\n",
       "      <td>0.107098</td>\n",
       "      <td>0.526337</td>\n",
       "      <td>...</td>\n",
       "      <td>0.896667</td>\n",
       "      <td>0.991152</td>\n",
       "      <td>0.453948</td>\n",
       "      <td>0.978933</td>\n",
       "      <td>0.655837</td>\n",
       "      <td>0.152333</td>\n",
       "      <td>1395</td>\n",
       "      <td>0</td>\n",
       "      <td>1.0</td>\n",
       "      <td>0.74384</td>\n",
       "    </tr>\n",
       "    <tr>\n",
       "      <th>3</th>\n",
       "      <td>سرمایه گذاری تامین اجتماعی</td>\n",
       "      <td>8.317413e-07</td>\n",
       "      <td>0.31629</td>\n",
       "      <td>2.605870e-10</td>\n",
       "      <td>0.999973</td>\n",
       "      <td>0.001849</td>\n",
       "      <td>0.107346</td>\n",
       "      <td>0.054275</td>\n",
       "      <td>0.107098</td>\n",
       "      <td>0.526337</td>\n",
       "      <td>...</td>\n",
       "      <td>0.896667</td>\n",
       "      <td>0.991152</td>\n",
       "      <td>0.453948</td>\n",
       "      <td>0.978933</td>\n",
       "      <td>0.655837</td>\n",
       "      <td>0.152333</td>\n",
       "      <td>1390</td>\n",
       "      <td>0</td>\n",
       "      <td>1.0</td>\n",
       "      <td>0.74384</td>\n",
       "    </tr>\n",
       "    <tr>\n",
       "      <th>4</th>\n",
       "      <td>سرمایه گذاری تامین اجتماعی</td>\n",
       "      <td>8.317413e-07</td>\n",
       "      <td>0.31629</td>\n",
       "      <td>2.605870e-10</td>\n",
       "      <td>0.999973</td>\n",
       "      <td>0.001849</td>\n",
       "      <td>0.107346</td>\n",
       "      <td>0.054275</td>\n",
       "      <td>0.107098</td>\n",
       "      <td>0.526337</td>\n",
       "      <td>...</td>\n",
       "      <td>0.896667</td>\n",
       "      <td>0.991152</td>\n",
       "      <td>0.453948</td>\n",
       "      <td>0.978933</td>\n",
       "      <td>0.655837</td>\n",
       "      <td>0.152333</td>\n",
       "      <td>1393</td>\n",
       "      <td>0</td>\n",
       "      <td>1.0</td>\n",
       "      <td>0.74384</td>\n",
       "    </tr>\n",
       "  </tbody>\n",
       "</table>\n",
       "<p>5 rows × 73 columns</p>\n",
       "</div>"
      ],
      "text/plain": [
       "                      Company  Custom-Return_x  EPS_MRQ_LC       EPS_TTM  \\\n",
       "0  سرمایه گذاری تامین اجتماعی     8.317413e-07     0.31629  2.605870e-10   \n",
       "1  سرمایه گذاری تامین اجتماعی     8.317413e-07     0.31629  2.605870e-10   \n",
       "2  سرمایه گذاری تامین اجتماعی     8.317413e-07     0.31629  2.605870e-10   \n",
       "3  سرمایه گذاری تامین اجتماعی     8.317413e-07     0.31629  2.605870e-10   \n",
       "4  سرمایه گذاری تامین اجتماعی     8.317413e-07     0.31629  2.605870e-10   \n",
       "\n",
       "    EPS_MRQ    EPS_FY   Rev_TTM   Rev_MRQ    Rev_FY    NI_TTM  ...  FCFFToNI  \\\n",
       "0  0.999973  0.001849  0.107346  0.054275  0.107098  0.526337  ...  0.896667   \n",
       "1  0.999973  0.001849  0.107346  0.054275  0.107098  0.526337  ...  0.896667   \n",
       "2  0.999973  0.001849  0.107346  0.054275  0.107098  0.526337  ...  0.896667   \n",
       "3  0.999973  0.001849  0.107346  0.054275  0.107098  0.526337  ...  0.896667   \n",
       "4  0.999973  0.001849  0.107346  0.054275  0.107098  0.526337  ...  0.896667   \n",
       "\n",
       "   FCFEToRev  FCFEToNI  CAPEXToRev  CAPEXToNI  DivYield  year  y  mean_TSE_FY  \\\n",
       "0   0.991152  0.453948    0.978933   0.655837  0.152333  1392  0          1.0   \n",
       "1   0.991152  0.453948    0.978933   0.655837  0.152333  1400  0          1.0   \n",
       "2   0.991152  0.453948    0.978933   0.655837  0.152333  1395  0          1.0   \n",
       "3   0.991152  0.453948    0.978933   0.655837  0.152333  1390  0          1.0   \n",
       "4   0.991152  0.453948    0.978933   0.655837  0.152333  1393  0          1.0   \n",
       "\n",
       "   mean_RE_FY  \n",
       "0     0.74384  \n",
       "1     0.74384  \n",
       "2     0.74384  \n",
       "3     0.74384  \n",
       "4     0.74384  \n",
       "\n",
       "[5 rows x 73 columns]"
      ]
     },
     "execution_count": 28,
     "metadata": {},
     "output_type": "execute_result"
    }
   ],
   "source": [
    "# Scaler\n",
    "scaler = MinMaxScaler()\n",
    "cols_to_scale = df.columns\n",
    "# remove Company, y, year from cols_to_scale\n",
    "cols_to_scale = [col for col in cols_to_scale if col not in ['Company', 'y', 'year']]\n",
    "df[cols_to_scale] = scaler.fit_transform(df[cols_to_scale])\n",
    "df.head()"
   ]
  },
  {
   "cell_type": "markdown",
   "metadata": {},
   "source": [
    "این کد بخشی از فرآیند آماده‌سازی داده برای یادگیری ماشین است و داده‌ها را به دو دسته آموزش (train) و آزمون (test) تقسیم می‌کند. بیایید به توضیح هر بخش بپردازیم:\n",
    "\n",
    "### تقسیم ستون‌ها\n",
    "ابتدا ستون‌های مستقل (ویژگی‌ها) و ستون وابسته (هدف یا برچسب) را از یکدیگر جدا می‌کنیم:\n",
    "- `x_cols` شامل نام همه‌ی ستون‌هایی است که ستون هدف (`y`) نیست.\n",
    "- `df[x_cols]` شامل مقادیر ویژگی‌ها و `df['y']` شامل مقادیر هدف است.\n",
    "\n",
    "### تقسیم به دسته‌های آموزش و آزمون\n",
    "دستور `train_test_split` از کتابخانه‌ی Scikit-learn داده‌ها را به دو دسته آموزش و آزمون تقسیم می‌کند:\n",
    "\n",
    "- `x_train` و `y_train`: داده‌های ورودی و هدف برای مجموعه آموزش. این داده‌ها برای آموزش مدل استفاده می‌شوند.\n",
    "- `x_test` و `y_test`: داده‌های ورودی و هدف برای مجموعه آزمون. این داده‌ها برای ارزیابی عملکرد مدل استفاده می‌شوند و نباید در فرآیند آموزش مدل دخیل شوند.\n",
    "\n",
    "### پارامتر `test_size`\n",
    "این پارامتر نشان‌دهنده‌ی نسبت داده‌های آزمون است. مقدار `0.2` به این معناست که 20 درصد از داده‌ها به عنوان داده آزمون و باقی‌مانده به عنوان داده آموزش استفاده می‌شود.\n",
    "\n",
    "### پارامتر `random_state`\n",
    "این پارامتر می‌تواند به عنوان یک دانه (seed) برای تولید تصادفی استفاده شود. وقتی یک عدد ثابت به عنوان `random_state` ارسال می‌شود، تقسیم‌بندی داده‌ها هر بار که کد اجرا می‌شود یکسان است. این کمک می‌کند تا نتایج قابل تکرار باشند، که در تحقیقات علمی مهم است.\n",
    "\n",
    "### نتایج چاپی\n",
    "نتایج چاپی ابعاد هر یک از این مجموعه‌ها را نشان می‌دهد، که می‌تواند به شما درک بهتری از تقسیم‌بندی داده به شما بدهد."
   ]
  },
  {
   "cell_type": "code",
   "execution_count": 29,
   "metadata": {},
   "outputs": [
    {
     "name": "stdout",
     "output_type": "stream",
     "text": [
      "x_train.shape: (95577, 30)\n",
      "x_test.shape: (23895, 30)\n",
      "y_train.shape: (95577,)\n",
      "y_test.shape: (23895,)\n"
     ]
    }
   ],
   "source": [
    "def sampled_train_test_split(df, n_features, info=False):\n",
    "    x_cols = [col for col in df.columns if col not in ['y', 'Company', 'year']]\n",
    "    if n_features != 0:\n",
    "        x_cols = np.random.choice(x_cols, n_features, replace=False)\n",
    "    if info:\n",
    "        x_cols = np.append(x_cols, ['Company', 'year'])\n",
    "    \n",
    "\n",
    "    x_train, x_test, y_train, y_test = train_test_split(df[x_cols], df['y'], test_size=0.2, random_state=42)\n",
    "    return x_train, x_test, y_train, y_test\n",
    "\n",
    "x_train, x_test, y_train, y_test = sampled_train_test_split(df, 30)\n",
    "\n",
    "print('x_train.shape:', x_train.shape)\n",
    "print('x_test.shape:', x_test.shape)\n",
    "print('y_train.shape:', y_train.shape)\n",
    "print('y_test.shape:', y_test.shape)"
   ]
  },
  {
   "cell_type": "markdown",
   "metadata": {},
   "source": [
    "### Metrics\n",
    "- [x] Accuracy\n",
    "- [x] Precision\n",
    "- [x] Recall\n",
    "- [x] F1\n",
    "- [x] ROC AUC\n",
    "\n",
    "این شاخص‌های ارزیابی متداول در مسائل طبقه‌بندی هستند و برای ارزیابی عملکرد مدل در پیش‌بینی ورشکستگی شرکت‌ها می‌توان از آن‌ها استفاده کرد. بیایید به توضیح هر یک از این شاخص‌ها بپردازیم:\n",
    "\n",
    "### Accuracy (دقت)\n",
    "**فرمول**: \\(\\text{Accuracy} = \\frac{\\text{تعداد پیش‌بینی‌های صحیح}}{\\text{تعداد کل پیش‌بینی‌ها}}\\)\n",
    "\n",
    "**توضیح**: دقت نشان‌دهنده‌ی تعداد پیش‌بینی‌های صحیح بر تعداد کل پیش‌بینی‌ها است. در مسائلی که توزیع کلاس‌ها متعادل است، می‌توان از دقت به عنوان یک شاخص مناسب استفاده کرد.\n",
    "\n",
    "### Precision (دقت اثر)\n",
    "**فرمول**: \\(\\text{Precision} = \\frac{\\text{True Positives (TP)}}{\\text{True Positives (TP) + False Positives (FP)}}\\)\n",
    "\n",
    "**توضیح**: دقت اثر نشان‌دهنده‌ی تعداد پیش‌بینی‌های مثبت صحیح بر تعداد کل پیش‌بینی‌های مثبت است. این شاخص در مواردی که هزینه‌ی پیش‌بینی مثبت اشتباه بالا است، مفید است.\n",
    "\n",
    "### Recall (بازیابی)\n",
    "**فرمول**: \\(\\text{Recall} = \\frac{\\text{True Positives (TP)}}{\\text{True Positives (TP) + False Negatives (FN)}}\\)\n",
    "\n",
    "**توضیح**: بازیابی نشان‌دهنده‌ی تعداد پیش‌بینی‌های مثبت صحیح بر تعداد کل موارد مثبت واقعی است. این شاخص در مواردی که هزینه‌ی پیش‌بینی منفی اشتباه بالا است، مفید است.\n",
    "\n",
    "### F1 Score (نمره F1)\n",
    "**فرمول**: \\(\\text{F1} = \\frac{2 \\cdot \\text{Precision} \\cdot \\text{Recall}}{\\text{Precision} + \\text{Recall}}\\)\n",
    "\n",
    "**توضیح**: نمره F1 میانگین هارمونیک دقت اثر و بازیابی است و در مواردی که توازن بین دقت اثر و بازیابی مهم است، استفاده می‌شود.\n",
    "\n",
    "### ROC AUC (ناحیه زیر منحنی ROC)\n",
    "**توضیح**: ROC AUC مساحت زیر منحنی ROC است. منحنی ROC با محور افقی نرخ مثبت اشتباه (FPR) و محور عمودی نرخ مثبت صحیح (TPR) رسم می‌شود. مقدار ROC AUC بین 0 و 1 است، و مقدار بالاتر نشان‌دهنده‌ی عملکرد بهتر است. این شاخص در مواردی که توازن بین نرخ مثبت صحیح و نرخ مثبت اشتباه مهم است، مفید است.\n",
    "\n",
    "### استفاده از این شاخص‌ها در مسئله پیش‌بینی ورشکستگی\n",
    "در مسئله‌ی پیش‌بینی ورشکستگی، هر یک از این شاخص‌ها می‌تواند مفید باشد بسته به اهداف و محدودیت‌های تجاری. به عنوان مثال، اگر هزینه‌ی پیش‌بینی اشتباه ورشکستگی بسیار بالا باشد، ممکن است بخواهید بر روی بازیابی تمرکز کنید. اگر همچنین می‌خواهید توازنی بین دقت اثر و بازیابی داشته باشید، نمره \n",
    "F1 می‌تواند شاخص مناسبی باشد."
   ]
  },
  {
   "cell_type": "markdown",
   "metadata": {},
   "source": [
    "### Logistic Regression"
   ]
  },
  {
   "cell_type": "markdown",
   "metadata": {},
   "source": [
    "مدل رگرسیون لجستیک یکی از الگوریتم‌های معروف طبقه‌بندی است که برای پیش‌بینی احتمال وقوع یک پدیده مورد استفاده قرار می‌گیرد. در این مورد، مدل برای پیش‌بینی احتمال ورشکستگی یک شرکت استفاده شده است.\n",
    "\n",
    "### پیشینه و منطق\n",
    "رگرسیون لجستیک به منظور مدل‌سازی احتمال وقوع یک پدیده باینری استفاده می‌شود. این مدل از تابع لجستیک (یا سیگموئید) استفاده می‌کند تا احتمال وقوع پدیده را محاسبه کند. تابع لجستیک به صورت زیر است:\n",
    "\n",
    "\\[ f(x) = \\frac{1}{1 + e^{-(\\beta_0 + \\beta_1 x_1 + \\ldots + \\beta_n x_n)}} \\]\n",
    "\n",
    "که در آن \\( \\beta_0, \\beta_1, \\ldots, \\beta_n \\) پارامتر‌های مدل و \\( x_1, \\ldots, x_n \\) ویژگی‌های ورودی هستند.\n",
    "\n",
    "### استفاده از مدل برای این مسءله\n",
    "در مسءله‌ی پیش‌بینی ورشکستگی، ویژگی‌ها ممکن است شامل نسبت‌ها و مؤلفه‌های مالی شرکت باشند. رگرسیون لجستیک می‌تواند ارتباط بین این ویژگی‌ها و احتمال ورشکستگی را یاد بگیرد.\n",
    "\n",
    "### پارامتر‌ها\n",
    "در کد ارائه شده، از تنظیمات پیش‌فرض برای مدل استفاده شده است. اما می‌توان برخی از پارامتر‌های زیر را تنظیم کرد:\n",
    "\n",
    "- `penalty`: نوع نرمال‌سازی مورد استفاده، مانند \"l1\" یا \"l2\".\n",
    "- `C`: نمایانگر وارون قدرت نرمال‌سازی است. مقدار کمتر معادل نرمال‌سازی قوی‌تر است.\n",
    "- `fit_intercept`: آیا باید یک اصطلاح انحرافی در مدل داشته باشیم یا خیر.\n",
    "- `solver`: روش بهینه‌سازی برای پیدا کردن پارامتر‌ها.\n",
    "\n",
    "### نتیجه‌گیری\n",
    "رگرسیون لجستیک یک روش مناسب برای مسءله‌ی پیش‌بینی ورشکستگی می‌باشد زیرا از ویژگی‌های مالی به عنوان ورودی استفاده می‌کند تا یک احتمال برای ورشکستگی تخمین بزند. تنظیم مناسب پارامتر‌ها می‌تواند به بهبود عملکرد مدل کمک کند، بسته به مجموعه داده و اهداف."
   ]
  },
  {
   "cell_type": "code",
   "execution_count": 30,
   "metadata": {},
   "outputs": [
    {
     "name": "stderr",
     "output_type": "stream",
     "text": [
      "/home/smbh/.venvs/cbp/lib/python3.8/site-packages/sklearn/linear_model/_logistic.py:460: ConvergenceWarning:\n",
      "\n",
      "lbfgs failed to converge (status=1):\n",
      "STOP: TOTAL NO. of ITERATIONS REACHED LIMIT.\n",
      "\n",
      "Increase the number of iterations (max_iter) or scale the data as shown in:\n",
      "    https://scikit-learn.org/stable/modules/preprocessing.html\n",
      "Please also refer to the documentation for alternative solver options:\n",
      "    https://scikit-learn.org/stable/modules/linear_model.html#logistic-regression\n",
      "\n"
     ]
    },
    {
     "data": {
      "text/html": [
       "<style>#sk-container-id-2 {color: black;}#sk-container-id-2 pre{padding: 0;}#sk-container-id-2 div.sk-toggleable {background-color: white;}#sk-container-id-2 label.sk-toggleable__label {cursor: pointer;display: block;width: 100%;margin-bottom: 0;padding: 0.3em;box-sizing: border-box;text-align: center;}#sk-container-id-2 label.sk-toggleable__label-arrow:before {content: \"▸\";float: left;margin-right: 0.25em;color: #696969;}#sk-container-id-2 label.sk-toggleable__label-arrow:hover:before {color: black;}#sk-container-id-2 div.sk-estimator:hover label.sk-toggleable__label-arrow:before {color: black;}#sk-container-id-2 div.sk-toggleable__content {max-height: 0;max-width: 0;overflow: hidden;text-align: left;background-color: #f0f8ff;}#sk-container-id-2 div.sk-toggleable__content pre {margin: 0.2em;color: black;border-radius: 0.25em;background-color: #f0f8ff;}#sk-container-id-2 input.sk-toggleable__control:checked~div.sk-toggleable__content {max-height: 200px;max-width: 100%;overflow: auto;}#sk-container-id-2 input.sk-toggleable__control:checked~label.sk-toggleable__label-arrow:before {content: \"▾\";}#sk-container-id-2 div.sk-estimator input.sk-toggleable__control:checked~label.sk-toggleable__label {background-color: #d4ebff;}#sk-container-id-2 div.sk-label input.sk-toggleable__control:checked~label.sk-toggleable__label {background-color: #d4ebff;}#sk-container-id-2 input.sk-hidden--visually {border: 0;clip: rect(1px 1px 1px 1px);clip: rect(1px, 1px, 1px, 1px);height: 1px;margin: -1px;overflow: hidden;padding: 0;position: absolute;width: 1px;}#sk-container-id-2 div.sk-estimator {font-family: monospace;background-color: #f0f8ff;border: 1px dotted black;border-radius: 0.25em;box-sizing: border-box;margin-bottom: 0.5em;}#sk-container-id-2 div.sk-estimator:hover {background-color: #d4ebff;}#sk-container-id-2 div.sk-parallel-item::after {content: \"\";width: 100%;border-bottom: 1px solid gray;flex-grow: 1;}#sk-container-id-2 div.sk-label:hover label.sk-toggleable__label {background-color: #d4ebff;}#sk-container-id-2 div.sk-serial::before {content: \"\";position: absolute;border-left: 1px solid gray;box-sizing: border-box;top: 0;bottom: 0;left: 50%;z-index: 0;}#sk-container-id-2 div.sk-serial {display: flex;flex-direction: column;align-items: center;background-color: white;padding-right: 0.2em;padding-left: 0.2em;position: relative;}#sk-container-id-2 div.sk-item {position: relative;z-index: 1;}#sk-container-id-2 div.sk-parallel {display: flex;align-items: stretch;justify-content: center;background-color: white;position: relative;}#sk-container-id-2 div.sk-item::before, #sk-container-id-2 div.sk-parallel-item::before {content: \"\";position: absolute;border-left: 1px solid gray;box-sizing: border-box;top: 0;bottom: 0;left: 50%;z-index: -1;}#sk-container-id-2 div.sk-parallel-item {display: flex;flex-direction: column;z-index: 1;position: relative;background-color: white;}#sk-container-id-2 div.sk-parallel-item:first-child::after {align-self: flex-end;width: 50%;}#sk-container-id-2 div.sk-parallel-item:last-child::after {align-self: flex-start;width: 50%;}#sk-container-id-2 div.sk-parallel-item:only-child::after {width: 0;}#sk-container-id-2 div.sk-dashed-wrapped {border: 1px dashed gray;margin: 0 0.4em 0.5em 0.4em;box-sizing: border-box;padding-bottom: 0.4em;background-color: white;}#sk-container-id-2 div.sk-label label {font-family: monospace;font-weight: bold;display: inline-block;line-height: 1.2em;}#sk-container-id-2 div.sk-label-container {text-align: center;}#sk-container-id-2 div.sk-container {/* jupyter's `normalize.less` sets `[hidden] { display: none; }` but bootstrap.min.css set `[hidden] { display: none !important; }` so we also need the `!important` here to be able to override the default hidden behavior on the sphinx rendered scikit-learn.org. See: https://github.com/scikit-learn/scikit-learn/issues/21755 */display: inline-block !important;position: relative;}#sk-container-id-2 div.sk-text-repr-fallback {display: none;}</style><div id=\"sk-container-id-2\" class=\"sk-top-container\"><div class=\"sk-text-repr-fallback\"><pre>LogisticRegression()</pre><b>In a Jupyter environment, please rerun this cell to show the HTML representation or trust the notebook. <br />On GitHub, the HTML representation is unable to render, please try loading this page with nbviewer.org.</b></div><div class=\"sk-container\" hidden><div class=\"sk-item\"><div class=\"sk-estimator sk-toggleable\"><input class=\"sk-toggleable__control sk-hidden--visually\" id=\"sk-estimator-id-2\" type=\"checkbox\" checked><label for=\"sk-estimator-id-2\" class=\"sk-toggleable__label sk-toggleable__label-arrow\">LogisticRegression</label><div class=\"sk-toggleable__content\"><pre>LogisticRegression()</pre></div></div></div></div></div>"
      ],
      "text/plain": [
       "LogisticRegression()"
      ]
     },
     "execution_count": 30,
     "metadata": {},
     "output_type": "execute_result"
    }
   ],
   "source": [
    "logistic_model = LogisticRegression()\n",
    "\n",
    "x_train, x_test, y_train, y_test = sampled_train_test_split(df, 0)\n",
    "\n",
    "logistic_model.fit(x_train, y_train)"
   ]
  },
  {
   "cell_type": "code",
   "execution_count": 31,
   "metadata": {},
   "outputs": [
    {
     "data": {
      "image/png": "[encoded data removed]",
      "text/plain": [
       "<Figure size 1000x1000 with 2 Axes>"
      ]
     },
     "metadata": {},
     "output_type": "display_data"
    },
    {
     "name": "stdout",
     "output_type": "stream",
     "text": [
      "                 model  accuracy  precision  recall      f1  roc_auc\n",
      "0  Logistic Regression    0.9747        1.0  0.6411  0.7813   0.8206\n"
     ]
    }
   ],
   "source": [
    "# evaluate the model\n",
    "y_pred = logistic_model.predict(x_test)\n",
    "\n",
    "# plot confusion matrix (show each cell's count)\n",
    "fig = plt.figure(figsize=(10, 10))\n",
    "cm = confusion_matrix(y_test, y_pred)\n",
    "sns.heatmap(cm, annot=True, fmt='d', cmap='Blues')\n",
    "plt.xlabel('Predicted')\n",
    "plt.ylabel('Actual')\n",
    "plt.title('Confusion Matrix')\n",
    "plt.show()\n",
    "\n",
    "# save confusion matrix as image\n",
    "fig.savefig('LR_confusion_matrix.png')\n",
    "\n",
    "results.loc[len(results)] = [\n",
    "    'Logistic Regression', \n",
    "    round(accuracy_score(y_test, y_pred), 4), \n",
    "    round(precision_score(y_test, y_pred), 4), \n",
    "    round(recall_score(y_test, y_pred), 4), \n",
    "    round(f1_score(y_test, y_pred), 4), \n",
    "    round(roc_auc_score(y_test, y_pred), 4)\n",
    "]\n",
    "print(results)"
   ]
  },
  {
   "cell_type": "markdown",
   "metadata": {},
   "source": [
    "### SVM"
   ]
  },
  {
   "cell_type": "markdown",
   "metadata": {},
   "source": [
    "مدل پشتیبانی بردار ماشین (SVM) با هسته چندجمله‌ای یکی از الگوریتم‌های معروف برای طبقه‌بندی و پیش‌بینی است. در اینجا، مدل به منظور پیش‌بینی ورشکستگی شرکت‌ها استفاده شده است.\n",
    "\n",
    "### پیشینه و منطق\n",
    "ماشین بردار پشتیبانی (SVM) یک الگوریتم طبقه‌بندی است که می‌کوشد یک صفحه یا فضای تصمیم بسازد تا دسته‌ها را به بهترین شکل از هم جدا کند. ایده اصلی این است که یک مرز تصمیم یا \"جاده\" را پیدا کند که بیشترین فاصله را از نمونه‌های نزدیک‌ترین هر دو کلاس داشته باشد.\n",
    "\n",
    "هسته چندجمله‌ای امکان می‌دهد تا داده‌ها را به فضایی با بعد بالاتر ببرد، جایی که داده‌ها به صورت خطی قابل جدا سازی باشند. فرمول هسته چندجمله‌ای به شکل زیر است:\n",
    "\n",
    "\\[ K(x, y) = (r + \\gamma \\langle x, y \\rangle )^d \\]\n",
    "\n",
    "که در آن \\( r \\)، \\( \\gamma \\) و \\( d \\) پارامتر‌های هسته هستند.\n",
    "\n",
    "### استفاده از مدل برای این مسءله\n",
    "SVM با هسته چندجمله‌ای می‌تواند برای پیش‌بینی ورشکستگی مورد استفاده قرار گیرد، به خصوص اگر روابط غیرخطی بین ویژگی‌ها و هدف وجود داشته باشد. انتخاب هسته چندجمله‌ای به مدل اجازه می‌دهد تا از این روابط پیچیده یاد بگیرد.\n",
    "\n",
    "### پارامتر‌ها\n",
    "- `kernel`: نوع هسته، در این مورد \"poly\" برای هسته چندجمله‌ای.\n",
    "- `degree`: درجه چندجمله‌ای که در این مورد برابر با 3 است.\n",
    "- `C`: پارامتر نرمال‌سازی. مقدار کمتر معادل نرمال‌سازی قوی‌تر است.\n",
    "- `random_state`: برای اطمینان از تکرارپذیری نتایج.\n",
    "\n",
    "### نتیجه‌گیری\n",
    "SVM با هسته چندجمله‌ای می‌تواند یک روش قدرتمند برای پیش‌بینی ورشکستگی باشد، به خصوص اگر روابط غیرخطی بین ویژگی‌ها و ورشکستگی وجود داشته باشد. تنظیمات مختلف پارامتر‌ها می‌تواند تأثیر زیادی بر کارایی مدل داشته باشد، بنابراین انجام جستجوی گرید برای یافتن بهترین ترکیب پارامتر‌ها ممکن است مفید باشد."
   ]
  },
  {
   "cell_type": "code",
   "execution_count": 32,
   "metadata": {},
   "outputs": [
    {
     "data": {
      "text/html": [
       "<style>#sk-container-id-3 {color: black;}#sk-container-id-3 pre{padding: 0;}#sk-container-id-3 div.sk-toggleable {background-color: white;}#sk-container-id-3 label.sk-toggleable__label {cursor: pointer;display: block;width: 100%;margin-bottom: 0;padding: 0.3em;box-sizing: border-box;text-align: center;}#sk-container-id-3 label.sk-toggleable__label-arrow:before {content: \"▸\";float: left;margin-right: 0.25em;color: #696969;}#sk-container-id-3 label.sk-toggleable__label-arrow:hover:before {color: black;}#sk-container-id-3 div.sk-estimator:hover label.sk-toggleable__label-arrow:before {color: black;}#sk-container-id-3 div.sk-toggleable__content {max-height: 0;max-width: 0;overflow: hidden;text-align: left;background-color: #f0f8ff;}#sk-container-id-3 div.sk-toggleable__content pre {margin: 0.2em;color: black;border-radius: 0.25em;background-color: #f0f8ff;}#sk-container-id-3 input.sk-toggleable__control:checked~div.sk-toggleable__content {max-height: 200px;max-width: 100%;overflow: auto;}#sk-container-id-3 input.sk-toggleable__control:checked~label.sk-toggleable__label-arrow:before {content: \"▾\";}#sk-container-id-3 div.sk-estimator input.sk-toggleable__control:checked~label.sk-toggleable__label {background-color: #d4ebff;}#sk-container-id-3 div.sk-label input.sk-toggleable__control:checked~label.sk-toggleable__label {background-color: #d4ebff;}#sk-container-id-3 input.sk-hidden--visually {border: 0;clip: rect(1px 1px 1px 1px);clip: rect(1px, 1px, 1px, 1px);height: 1px;margin: -1px;overflow: hidden;padding: 0;position: absolute;width: 1px;}#sk-container-id-3 div.sk-estimator {font-family: monospace;background-color: #f0f8ff;border: 1px dotted black;border-radius: 0.25em;box-sizing: border-box;margin-bottom: 0.5em;}#sk-container-id-3 div.sk-estimator:hover {background-color: #d4ebff;}#sk-container-id-3 div.sk-parallel-item::after {content: \"\";width: 100%;border-bottom: 1px solid gray;flex-grow: 1;}#sk-container-id-3 div.sk-label:hover label.sk-toggleable__label {background-color: #d4ebff;}#sk-container-id-3 div.sk-serial::before {content: \"\";position: absolute;border-left: 1px solid gray;box-sizing: border-box;top: 0;bottom: 0;left: 50%;z-index: 0;}#sk-container-id-3 div.sk-serial {display: flex;flex-direction: column;align-items: center;background-color: white;padding-right: 0.2em;padding-left: 0.2em;position: relative;}#sk-container-id-3 div.sk-item {position: relative;z-index: 1;}#sk-container-id-3 div.sk-parallel {display: flex;align-items: stretch;justify-content: center;background-color: white;position: relative;}#sk-container-id-3 div.sk-item::before, #sk-container-id-3 div.sk-parallel-item::before {content: \"\";position: absolute;border-left: 1px solid gray;box-sizing: border-box;top: 0;bottom: 0;left: 50%;z-index: -1;}#sk-container-id-3 div.sk-parallel-item {display: flex;flex-direction: column;z-index: 1;position: relative;background-color: white;}#sk-container-id-3 div.sk-parallel-item:first-child::after {align-self: flex-end;width: 50%;}#sk-container-id-3 div.sk-parallel-item:last-child::after {align-self: flex-start;width: 50%;}#sk-container-id-3 div.sk-parallel-item:only-child::after {width: 0;}#sk-container-id-3 div.sk-dashed-wrapped {border: 1px dashed gray;margin: 0 0.4em 0.5em 0.4em;box-sizing: border-box;padding-bottom: 0.4em;background-color: white;}#sk-container-id-3 div.sk-label label {font-family: monospace;font-weight: bold;display: inline-block;line-height: 1.2em;}#sk-container-id-3 div.sk-label-container {text-align: center;}#sk-container-id-3 div.sk-container {/* jupyter's `normalize.less` sets `[hidden] { display: none; }` but bootstrap.min.css set `[hidden] { display: none !important; }` so we also need the `!important` here to be able to override the default hidden behavior on the sphinx rendered scikit-learn.org. See: https://github.com/scikit-learn/scikit-learn/issues/21755 */display: inline-block !important;position: relative;}#sk-container-id-3 div.sk-text-repr-fallback {display: none;}</style><div id=\"sk-container-id-3\" class=\"sk-top-container\"><div class=\"sk-text-repr-fallback\"><pre>SVC(C=1, kernel=&#x27;poly&#x27;, random_state=42)</pre><b>In a Jupyter environment, please rerun this cell to show the HTML representation or trust the notebook. <br />On GitHub, the HTML representation is unable to render, please try loading this page with nbviewer.org.</b></div><div class=\"sk-container\" hidden><div class=\"sk-item\"><div class=\"sk-estimator sk-toggleable\"><input class=\"sk-toggleable__control sk-hidden--visually\" id=\"sk-estimator-id-3\" type=\"checkbox\" checked><label for=\"sk-estimator-id-3\" class=\"sk-toggleable__label sk-toggleable__label-arrow\">SVC</label><div class=\"sk-toggleable__content\"><pre>SVC(C=1, kernel=&#x27;poly&#x27;, random_state=42)</pre></div></div></div></div></div>"
      ],
      "text/plain": [
       "SVC(C=1, kernel='poly', random_state=42)"
      ]
     },
     "execution_count": 32,
     "metadata": {},
     "output_type": "execute_result"
    }
   ],
   "source": [
    "svm_model = SVC(kernel='poly', degree=3, C=1, random_state=42)\n",
    "\n",
    "x_train, x_test, y_train, y_test = sampled_train_test_split(df, 0)\n",
    "\n",
    "svm_model.fit(x_train, y_train)"
   ]
  },
  {
   "cell_type": "code",
   "execution_count": 33,
   "metadata": {},
   "outputs": [
    {
     "data": {
      "image/png": "[encoded data removed]",
      "text/plain": [
       "<Figure size 1000x1000 with 2 Axes>"
      ]
     },
     "metadata": {},
     "output_type": "display_data"
    },
    {
     "name": "stdout",
     "output_type": "stream",
     "text": [
      "                 model  accuracy  precision  recall      f1  roc_auc\n",
      "0  Logistic Regression    0.9747        1.0  0.6411  0.7813   0.8206\n",
      "1                  SVM    0.9834        1.0  0.7641  0.8663   0.8821\n"
     ]
    }
   ],
   "source": [
    "y_pred = svm_model.predict(x_test)\n",
    "\n",
    "# plot confusion matrix (show each cell's count)\n",
    "fig = plt.figure(figsize=(10, 10))\n",
    "cm = confusion_matrix(y_test, y_pred)\n",
    "sns.heatmap(cm, annot=True, fmt='d', cmap='Blues')\n",
    "plt.xlabel('Predicted')\n",
    "plt.ylabel('Actual')\n",
    "plt.title('Confusion Matrix')\n",
    "plt.show()\n",
    "\n",
    "# save confusion matrix as image\n",
    "fig.savefig('SVM_confusion_matrix.png')\n",
    "\n",
    "results.loc[len(results)] = [\n",
    "    'SVM',\n",
    "    round(accuracy_score(y_test, y_pred), 4),\n",
    "    round(precision_score(y_test, y_pred), 4),\n",
    "    round(recall_score(y_test, y_pred), 4),\n",
    "    round(f1_score(y_test, y_pred), 4),\n",
    "    round(roc_auc_score(y_test, y_pred), 4)\n",
    "]\n",
    "print(results)"
   ]
  },
  {
   "cell_type": "markdown",
   "metadata": {},
   "source": [
    "### Random Forest"
   ]
  },
  {
   "cell_type": "markdown",
   "metadata": {},
   "source": [
    "مدل جنگل تصادفی (Random Forest) یکی از روش‌های بسیار محبوب و قدرتمند در یادگیری ماشین است که برای طبقه‌بندی و رگرسیون استفاده می‌شود. در این مورد، مدل برای پیش‌بینی ورشکستگی شرکت‌ها استفاده شده است.\n",
    "\n",
    "### پیشینه و منطق\n",
    "جنگل تصادفی یک ترکیب از درختان تصمیم است که به طور مستقل آموزش داده می‌شوند. هر درخت تصمیم یک پیش‌بینی می‌دهد، و پیش‌بینی نهایی از رأی‌گیری بین تمام درختان به دست می‌آید.\n",
    "\n",
    "مزیت اصلی جنگل تصادفی نسبت به درخت تصمیم تنها این است که از برازش بیش از حد (overfitting) جلوگیری می‌کند. در حالی که یک درخت تصمیم ممکن است بر روی داده‌های آموزشی برازش بیش از حد کند، ترکیب چندین درخت کمتر مستعد این مشکل است.\n",
    "\n",
    "### استفاده از مدل برای این مسءله\n",
    "جنگل تصادفی می‌تواند یک انتخاب مناسب برای پیش‌بینی ورشکستگی باشد، زیرا این مدل می‌تواند روابط پیچیده و غیرخطی بین ویژگی‌ها و ورشکستگی را بیاموزد. این مدل همچنین می‌تواند اهمیت هر ویژگی را ارزیابی کند، که می‌تواند برای تحلیل تأثیر مؤلفه‌های مختلف مالی بر ورشکستگی مفید باشد.\n",
    "\n",
    "### پارامتر‌ها\n",
    "- `n_estimators`: تعداد درختان در جنگل. در این مورد برابر با 100 است.\n",
    "- `max_depth`: عمق حداکثری هر درخت. در این مورد برابر با 4 است.\n",
    "- `random_state`: برای اطمینان از تکرارپذیری نتایج.\n",
    "\n",
    "### نتیجه‌گیری\n",
    "جنگل تصادفی با قدرت ترکیب چندین درخت تصمیم، می‌تواند یک مدل قوی و پایدار برای پیش‌بینی ورشکستگی ارائه دهد. این مدل می‌تواند روابط غیرخطی را نیز به خوبی مدل کند، و از برازش بیش از حد جلوگیری کند. تنظیم مناسب پارامتر‌ها می‌تواند به بهبود عملکرد مدل کمک کند. تجزیه و تحلیل اهمیت ویژگی‌ها همچنین می‌تواند ارزشمند باشد برای فهمیدن چه عوامل مالی بیشترین تأثیر را بر ورشکستگی د"
   ]
  },
  {
   "cell_type": "code",
   "execution_count": 34,
   "metadata": {},
   "outputs": [],
   "source": [
    "rf_model = RandomForestClassifier(n_estimators=100, max_depth=4, random_state=42)\n",
    "\n",
    "x_train, x_test, y_train, y_test = sampled_train_test_split(df, 0, True)\n",
    "x_test_copy = x_test.copy()\n",
    "# drop Company and year\n",
    "x_test = x_test.drop(['Company', 'year'], axis=1)\n",
    "x_train = x_train.drop(['Company', 'year'], axis=1)"
   ]
  },
  {
   "cell_type": "code",
   "execution_count": 35,
   "metadata": {},
   "outputs": [
    {
     "data": {
      "text/html": [
       "<style>#sk-container-id-4 {color: black;}#sk-container-id-4 pre{padding: 0;}#sk-container-id-4 div.sk-toggleable {background-color: white;}#sk-container-id-4 label.sk-toggleable__label {cursor: pointer;display: block;width: 100%;margin-bottom: 0;padding: 0.3em;box-sizing: border-box;text-align: center;}#sk-container-id-4 label.sk-toggleable__label-arrow:before {content: \"▸\";float: left;margin-right: 0.25em;color: #696969;}#sk-container-id-4 label.sk-toggleable__label-arrow:hover:before {color: black;}#sk-container-id-4 div.sk-estimator:hover label.sk-toggleable__label-arrow:before {color: black;}#sk-container-id-4 div.sk-toggleable__content {max-height: 0;max-width: 0;overflow: hidden;text-align: left;background-color: #f0f8ff;}#sk-container-id-4 div.sk-toggleable__content pre {margin: 0.2em;color: black;border-radius: 0.25em;background-color: #f0f8ff;}#sk-container-id-4 input.sk-toggleable__control:checked~div.sk-toggleable__content {max-height: 200px;max-width: 100%;overflow: auto;}#sk-container-id-4 input.sk-toggleable__control:checked~label.sk-toggleable__label-arrow:before {content: \"▾\";}#sk-container-id-4 div.sk-estimator input.sk-toggleable__control:checked~label.sk-toggleable__label {background-color: #d4ebff;}#sk-container-id-4 div.sk-label input.sk-toggleable__control:checked~label.sk-toggleable__label {background-color: #d4ebff;}#sk-container-id-4 input.sk-hidden--visually {border: 0;clip: rect(1px 1px 1px 1px);clip: rect(1px, 1px, 1px, 1px);height: 1px;margin: -1px;overflow: hidden;padding: 0;position: absolute;width: 1px;}#sk-container-id-4 div.sk-estimator {font-family: monospace;background-color: #f0f8ff;border: 1px dotted black;border-radius: 0.25em;box-sizing: border-box;margin-bottom: 0.5em;}#sk-container-id-4 div.sk-estimator:hover {background-color: #d4ebff;}#sk-container-id-4 div.sk-parallel-item::after {content: \"\";width: 100%;border-bottom: 1px solid gray;flex-grow: 1;}#sk-container-id-4 div.sk-label:hover label.sk-toggleable__label {background-color: #d4ebff;}#sk-container-id-4 div.sk-serial::before {content: \"\";position: absolute;border-left: 1px solid gray;box-sizing: border-box;top: 0;bottom: 0;left: 50%;z-index: 0;}#sk-container-id-4 div.sk-serial {display: flex;flex-direction: column;align-items: center;background-color: white;padding-right: 0.2em;padding-left: 0.2em;position: relative;}#sk-container-id-4 div.sk-item {position: relative;z-index: 1;}#sk-container-id-4 div.sk-parallel {display: flex;align-items: stretch;justify-content: center;background-color: white;position: relative;}#sk-container-id-4 div.sk-item::before, #sk-container-id-4 div.sk-parallel-item::before {content: \"\";position: absolute;border-left: 1px solid gray;box-sizing: border-box;top: 0;bottom: 0;left: 50%;z-index: -1;}#sk-container-id-4 div.sk-parallel-item {display: flex;flex-direction: column;z-index: 1;position: relative;background-color: white;}#sk-container-id-4 div.sk-parallel-item:first-child::after {align-self: flex-end;width: 50%;}#sk-container-id-4 div.sk-parallel-item:last-child::after {align-self: flex-start;width: 50%;}#sk-container-id-4 div.sk-parallel-item:only-child::after {width: 0;}#sk-container-id-4 div.sk-dashed-wrapped {border: 1px dashed gray;margin: 0 0.4em 0.5em 0.4em;box-sizing: border-box;padding-bottom: 0.4em;background-color: white;}#sk-container-id-4 div.sk-label label {font-family: monospace;font-weight: bold;display: inline-block;line-height: 1.2em;}#sk-container-id-4 div.sk-label-container {text-align: center;}#sk-container-id-4 div.sk-container {/* jupyter's `normalize.less` sets `[hidden] { display: none; }` but bootstrap.min.css set `[hidden] { display: none !important; }` so we also need the `!important` here to be able to override the default hidden behavior on the sphinx rendered scikit-learn.org. See: https://github.com/scikit-learn/scikit-learn/issues/21755 */display: inline-block !important;position: relative;}#sk-container-id-4 div.sk-text-repr-fallback {display: none;}</style><div id=\"sk-container-id-4\" class=\"sk-top-container\"><div class=\"sk-text-repr-fallback\"><pre>RandomForestClassifier(max_depth=4, random_state=42)</pre><b>In a Jupyter environment, please rerun this cell to show the HTML representation or trust the notebook. <br />On GitHub, the HTML representation is unable to render, please try loading this page with nbviewer.org.</b></div><div class=\"sk-container\" hidden><div class=\"sk-item\"><div class=\"sk-estimator sk-toggleable\"><input class=\"sk-toggleable__control sk-hidden--visually\" id=\"sk-estimator-id-4\" type=\"checkbox\" checked><label for=\"sk-estimator-id-4\" class=\"sk-toggleable__label sk-toggleable__label-arrow\">RandomForestClassifier</label><div class=\"sk-toggleable__content\"><pre>RandomForestClassifier(max_depth=4, random_state=42)</pre></div></div></div></div></div>"
      ],
      "text/plain": [
       "RandomForestClassifier(max_depth=4, random_state=42)"
      ]
     },
     "execution_count": 35,
     "metadata": {},
     "output_type": "execute_result"
    }
   ],
   "source": [
    "rf_model.fit(x_train, y_train)"
   ]
  },
  {
   "cell_type": "code",
   "execution_count": 36,
   "metadata": {},
   "outputs": [
    {
     "data": {
      "image/png": "[encoded data removed]",
      "text/plain": [
       "<Figure size 1000x1000 with 2 Axes>"
      ]
     },
     "metadata": {},
     "output_type": "display_data"
    }
   ],
   "source": [
    "y_pred = rf_model.predict(x_test)\n",
    "\n",
    "# plot confusion matrix (show each cell's count)\n",
    "fig = plt.figure(figsize=(10, 10))\n",
    "cm = confusion_matrix(y_test, y_pred)\n",
    "sns.heatmap(cm, annot=True, fmt='d', cmap='Blues')\n",
    "plt.xlabel('Predicted')\n",
    "plt.ylabel('Actual')\n",
    "plt.title('Confusion Matrix')\n",
    "plt.show()\n",
    "\n",
    "# save confusion matrix as image\n",
    "fig.savefig('RF_confusion_matrix.png')"
   ]
  },
  {
   "cell_type": "code",
   "execution_count": 37,
   "metadata": {},
   "outputs": [
    {
     "name": "stdout",
     "output_type": "stream",
     "text": [
      "(104, 74)\n",
      "(1535, 74)\n"
     ]
    },
    {
     "data": {
      "text/html": [
       "<div>\n",
       "<style scoped>\n",
       "    .dataframe tbody tr th:only-of-type {\n",
       "        vertical-align: middle;\n",
       "    }\n",
       "\n",
       "    .dataframe tbody tr th {\n",
       "        vertical-align: top;\n",
       "    }\n",
       "\n",
       "    .dataframe thead th {\n",
       "        text-align: right;\n",
       "    }\n",
       "</style>\n",
       "<table border=\"1\" class=\"dataframe\">\n",
       "  <thead>\n",
       "    <tr style=\"text-align: right;\">\n",
       "      <th></th>\n",
       "      <th>Custom-Return_x</th>\n",
       "      <th>EPS_MRQ_LC</th>\n",
       "      <th>EPS_TTM</th>\n",
       "      <th>EPS_MRQ</th>\n",
       "      <th>EPS_FY</th>\n",
       "      <th>Rev_TTM</th>\n",
       "      <th>Rev_MRQ</th>\n",
       "      <th>Rev_FY</th>\n",
       "      <th>NI_TTM</th>\n",
       "      <th>NI_MRQ</th>\n",
       "      <th>...</th>\n",
       "      <th>FCFEToNI</th>\n",
       "      <th>CAPEXToRev</th>\n",
       "      <th>CAPEXToNI</th>\n",
       "      <th>DivYield</th>\n",
       "      <th>mean_TSE_FY</th>\n",
       "      <th>mean_RE_FY</th>\n",
       "      <th>Company</th>\n",
       "      <th>year</th>\n",
       "      <th>y</th>\n",
       "      <th>y_pred</th>\n",
       "    </tr>\n",
       "  </thead>\n",
       "  <tbody>\n",
       "    <tr>\n",
       "      <th>37846</th>\n",
       "      <td>1.633866e-06</td>\n",
       "      <td>0.330062</td>\n",
       "      <td>2.713168e-10</td>\n",
       "      <td>0.999974</td>\n",
       "      <td>0.001850</td>\n",
       "      <td>0.047686</td>\n",
       "      <td>0.057833</td>\n",
       "      <td>0.047360</td>\n",
       "      <td>0.330663</td>\n",
       "      <td>0.500466</td>\n",
       "      <td>...</td>\n",
       "      <td>0.441731</td>\n",
       "      <td>0.978933</td>\n",
       "      <td>0.655837</td>\n",
       "      <td>0.279718</td>\n",
       "      <td>0.367658</td>\n",
       "      <td>0.615849</td>\n",
       "      <td>سرمایه‌گذاری‌توسعه‌ملی‌</td>\n",
       "      <td>1401</td>\n",
       "      <td>0</td>\n",
       "      <td>0</td>\n",
       "    </tr>\n",
       "    <tr>\n",
       "      <th>100717</th>\n",
       "      <td>8.317413e-07</td>\n",
       "      <td>0.334688</td>\n",
       "      <td>2.756709e-10</td>\n",
       "      <td>0.999974</td>\n",
       "      <td>0.001850</td>\n",
       "      <td>0.047071</td>\n",
       "      <td>0.057338</td>\n",
       "      <td>0.047071</td>\n",
       "      <td>0.321483</td>\n",
       "      <td>0.496425</td>\n",
       "      <td>...</td>\n",
       "      <td>0.441336</td>\n",
       "      <td>0.978934</td>\n",
       "      <td>0.656128</td>\n",
       "      <td>0.006751</td>\n",
       "      <td>0.363822</td>\n",
       "      <td>0.610609</td>\n",
       "      <td>الحاوی</td>\n",
       "      <td>1400</td>\n",
       "      <td>0</td>\n",
       "      <td>0</td>\n",
       "    </tr>\n",
       "    <tr>\n",
       "      <th>114121</th>\n",
       "      <td>8.317413e-07</td>\n",
       "      <td>0.316462</td>\n",
       "      <td>2.595299e-10</td>\n",
       "      <td>0.999973</td>\n",
       "      <td>0.001849</td>\n",
       "      <td>0.044987</td>\n",
       "      <td>0.054800</td>\n",
       "      <td>0.044887</td>\n",
       "      <td>0.320667</td>\n",
       "      <td>0.495816</td>\n",
       "      <td>...</td>\n",
       "      <td>0.439617</td>\n",
       "      <td>0.978933</td>\n",
       "      <td>0.655836</td>\n",
       "      <td>0.000000</td>\n",
       "      <td>0.361994</td>\n",
       "      <td>0.609331</td>\n",
       "      <td>لیزینگ اقتصاد نوین</td>\n",
       "      <td>1400</td>\n",
       "      <td>0</td>\n",
       "      <td>0</td>\n",
       "    </tr>\n",
       "    <tr>\n",
       "      <th>30706</th>\n",
       "      <td>1.179648e-06</td>\n",
       "      <td>0.346588</td>\n",
       "      <td>2.703017e-10</td>\n",
       "      <td>0.999974</td>\n",
       "      <td>0.001850</td>\n",
       "      <td>0.120623</td>\n",
       "      <td>0.243416</td>\n",
       "      <td>0.120623</td>\n",
       "      <td>0.396603</td>\n",
       "      <td>0.577509</td>\n",
       "      <td>...</td>\n",
       "      <td>0.446629</td>\n",
       "      <td>0.978935</td>\n",
       "      <td>0.656219</td>\n",
       "      <td>0.034781</td>\n",
       "      <td>0.422019</td>\n",
       "      <td>0.675757</td>\n",
       "      <td>گروه مپنا (سهامی عام)</td>\n",
       "      <td>1401</td>\n",
       "      <td>0</td>\n",
       "      <td>0</td>\n",
       "    </tr>\n",
       "    <tr>\n",
       "      <th>104137</th>\n",
       "      <td>5.154504e-07</td>\n",
       "      <td>0.316110</td>\n",
       "      <td>2.594460e-10</td>\n",
       "      <td>0.999973</td>\n",
       "      <td>0.001849</td>\n",
       "      <td>0.044520</td>\n",
       "      <td>0.054294</td>\n",
       "      <td>0.044520</td>\n",
       "      <td>0.319372</td>\n",
       "      <td>0.495486</td>\n",
       "      <td>...</td>\n",
       "      <td>0.439617</td>\n",
       "      <td>0.978941</td>\n",
       "      <td>0.653473</td>\n",
       "      <td>0.000000</td>\n",
       "      <td>0.361380</td>\n",
       "      <td>0.608542</td>\n",
       "      <td>سیمان مجد خواف</td>\n",
       "      <td>1400</td>\n",
       "      <td>0</td>\n",
       "      <td>0</td>\n",
       "    </tr>\n",
       "  </tbody>\n",
       "</table>\n",
       "<p>5 rows × 74 columns</p>\n",
       "</div>"
      ],
      "text/plain": [
       "        Custom-Return_x  EPS_MRQ_LC       EPS_TTM   EPS_MRQ    EPS_FY  \\\n",
       "37846      1.633866e-06    0.330062  2.713168e-10  0.999974  0.001850   \n",
       "100717     8.317413e-07    0.334688  2.756709e-10  0.999974  0.001850   \n",
       "114121     8.317413e-07    0.316462  2.595299e-10  0.999973  0.001849   \n",
       "30706      1.179648e-06    0.346588  2.703017e-10  0.999974  0.001850   \n",
       "104137     5.154504e-07    0.316110  2.594460e-10  0.999973  0.001849   \n",
       "\n",
       "         Rev_TTM   Rev_MRQ    Rev_FY    NI_TTM    NI_MRQ  ...  FCFEToNI  \\\n",
       "37846   0.047686  0.057833  0.047360  0.330663  0.500466  ...  0.441731   \n",
       "100717  0.047071  0.057338  0.047071  0.321483  0.496425  ...  0.441336   \n",
       "114121  0.044987  0.054800  0.044887  0.320667  0.495816  ...  0.439617   \n",
       "30706   0.120623  0.243416  0.120623  0.396603  0.577509  ...  0.446629   \n",
       "104137  0.044520  0.054294  0.044520  0.319372  0.495486  ...  0.439617   \n",
       "\n",
       "        CAPEXToRev  CAPEXToNI  DivYield  mean_TSE_FY  mean_RE_FY  \\\n",
       "37846     0.978933   0.655837  0.279718     0.367658    0.615849   \n",
       "100717    0.978934   0.656128  0.006751     0.363822    0.610609   \n",
       "114121    0.978933   0.655836  0.000000     0.361994    0.609331   \n",
       "30706     0.978935   0.656219  0.034781     0.422019    0.675757   \n",
       "104137    0.978941   0.653473  0.000000     0.361380    0.608542   \n",
       "\n",
       "                        Company  year  y  y_pred  \n",
       "37846   سرمایه‌گذاری‌توسعه‌ملی‌  1401  0       0  \n",
       "100717                   الحاوی  1400  0       0  \n",
       "114121       لیزینگ اقتصاد نوین  1400  0       0  \n",
       "30706     گروه مپنا (سهامی عام)  1401  0       0  \n",
       "104137           سیمان مجد خواف  1400  0       0  \n",
       "\n",
       "[5 rows x 74 columns]"
      ]
     },
     "execution_count": 37,
     "metadata": {},
     "output_type": "execute_result"
    }
   ],
   "source": [
    "x_test_copy[\"y\"] = y_test\n",
    "x_test_copy[\"y_pred\"] = y_pred\n",
    "# filter only year == 1401, 1400\n",
    "x_test_copy = x_test_copy[x_test_copy[\"year\"].isin([1401, 1400])]\n",
    "# filter unique Company for each year\n",
    "x_test_copy = x_test_copy.drop_duplicates(subset=[\"year\", \"Company\"])\n",
    "# print count of y_pred > .5\n",
    "x_test_copy.to_csv(\"RF.csv\", index=False)\n",
    "x_test_copy.to_excel(\"RF.xlsx\", index=False)\n",
    "print(x_test_copy[x_test_copy[\"y_pred\"] > .5].shape)\n",
    "print(x_test_copy.shape)\n",
    "x_test_copy.head()"
   ]
  },
  {
   "cell_type": "code",
   "execution_count": 38,
   "metadata": {},
   "outputs": [
    {
     "name": "stdout",
     "output_type": "stream",
     "text": [
      "                 model  accuracy  precision  recall      f1  roc_auc\n",
      "0  Logistic Regression    0.9747        1.0  0.6411  0.7813   0.8206\n",
      "1                  SVM    0.9834        1.0  0.7641  0.8663   0.8821\n",
      "2        Random Forest    0.9944        1.0  0.9210  0.9589   0.9605\n"
     ]
    }
   ],
   "source": [
    "results.loc[len(results)] = [\n",
    "    'Random Forest',\n",
    "    round(accuracy_score(y_test, y_pred), 4),\n",
    "    round(precision_score(y_test, y_pred), 4),\n",
    "    round(recall_score(y_test, y_pred), 4),\n",
    "    round(f1_score(y_test, y_pred), 4),\n",
    "    round(roc_auc_score(y_test, y_pred), 4)\n",
    "]\n",
    "print(results)"
   ]
  },
  {
   "cell_type": "markdown",
   "metadata": {},
   "source": [
    "### Sequential Data"
   ]
  },
  {
   "cell_type": "markdown",
   "metadata": {},
   "source": [
    "تغییر شکل داده‌ها و اضافه کردن مجموعه اعتبارسنجی در پردازش داده برای مدل‌های سری زمانی مانند LSTM و RNN ضروری است. بیایید به توضیح این بخش‌ها بپردازیم:\n",
    "\n",
    "### تغییر شکل داده‌ها\n",
    "مدل‌های سری زمانی مانند LSTM و RNN به داده‌های ورودی با شکل خاصی نیاز دارند. این مدل‌ها با فرض اینکه داده‌ها دارای ترتیب زمانی هستند کار می‌کنند، پس ورودی‌ها باید به شکل `[نمونه‌ها، گام‌های زمانی، ویژگی‌ها]` باشند.\n",
    "\n",
    "در این مورد:\n",
    "- `نمونه‌ها`: تعداد کل رکوردها یا مشاهدات.\n",
    "- `گام‌های زمانی`: تعداد گام‌ها در هر سری زمانی. در این مورد برابر با 1 است.\n",
    "- `ویژگی‌ها`: تعداد ویژگی‌ها یا متغیرهای مستقل در هر گام زمانی.\n",
    "\n",
    "تابع `reshape` به ما کمک می‌کند تا ابعاد داده‌ها را به شکل مورد نیاز تغییر دهیم.\n",
    "\n",
    "### تقسیم داده‌ها\n",
    "در این مورد، داده‌ها به سه بخش تقسیم می‌شوند:\n",
    "- **آموزش (70% از داده‌ها)**: این بخش برای آموزش مدل استفاده می‌شود.\n",
    "- **اعتبارسنجی (15% از داده‌ها)**: این بخش برای ارزیابی عملکرد مدل در حین آموزش و تنظیم پارامتر‌ها استفاده می‌شود.\n",
    "- **تست (15% از داده‌ها)**: این بخش برای ارزیابی نهایی عملکرد مدل استفاده می‌شود.\n",
    "\n",
    "### اهمیت اضافه کردن مجموعه اعتبارسنجی\n",
    "استفاده از مجموعه اعتبارسنجی کمک می‌کند تا بتوانید عملکرد مدل را در حین آموزش ارزیابی کنید، بدون اینکه به مجموعه تست دسترسی داشته باشید. این امر می‌تواند جلوی برازش بیش از حد روی داده‌های آموزش را بگیرد و به شما اجازه دهد تا پارامتر‌های مدل را بهتر تنظیم کنید.\n",
    "\n",
    "در کل، این تقسیم‌بندی و تغییر شکل داده‌ها ضروری است برای استفاده از مدل‌های سری زمانی و ارزیابی صحیح عملکرد آن‌ها."
   ]
  },
  {
   "cell_type": "code",
   "execution_count": 39,
   "metadata": {},
   "outputs": [
    {
     "name": "stdout",
     "output_type": "stream",
     "text": [
      "(83630, 1, 70)\n",
      "(83630,)\n",
      "------\n",
      "(17921, 1, 70)\n",
      "(17921,)\n",
      "------\n",
      "(17921, 1, 70)\n",
      "(17921,)\n"
     ]
    }
   ],
   "source": [
    "# split data\n",
    "x = df.drop(columns=['y', 'Company', 'year'])\n",
    "y = df['y']\n",
    "x = np.array(x)\n",
    "y = np.array(y)\n",
    "# [samples, timesteps, features]\n",
    "x = x.reshape(x.shape[0], 1, x.shape[1])\n",
    "\n",
    "x_train = x[:int(x.shape[0] * .7)]\n",
    "y_train = y[:int(y.shape[0] * .7)]\n",
    "x_valid = x[int(x.shape[0] * .7):int(x.shape[0] * .85)]\n",
    "y_valid = y[int(y.shape[0] * .7):int(y.shape[0] * .85)]\n",
    "x_test = x[int(x.shape[0] * .85):]\n",
    "y_test = y[int(y.shape[0] * .85):]\n",
    "\n",
    "print(x_train.shape)\n",
    "print(y_train.shape)\n",
    "print(\"------\")\n",
    "print(x_valid.shape)\n",
    "print(y_valid.shape)\n",
    "print(\"------\")\n",
    "print(x_test.shape)\n",
    "print(y_test.shape)"
   ]
  },
  {
   "cell_type": "code",
   "execution_count": 40,
   "metadata": {},
   "outputs": [
    {
     "name": "stdout",
     "output_type": "stream",
     "text": [
      "(83630, 1, 70)\n",
      "(83630,)\n",
      "(17921, 1, 70)\n",
      "(17921,)\n"
     ]
    }
   ],
   "source": [
    "# # repplicate data\n",
    "# REPLICATE = 5\n",
    "# x_train = np.repeat(x_train, REPLICATE, axis=0)\n",
    "# y_train = np.repeat(y_train, REPLICATE, axis=0)\n",
    "# x_valid = np.repeat(x_valid, REPLICATE, axis=0)\n",
    "# y_valid = np.repeat(y_valid, REPLICATE, axis=0)\n",
    "\n",
    "print(x_train.shape)\n",
    "print(y_train.shape)\n",
    "print(x_valid.shape)\n",
    "print(y_valid.shape)"
   ]
  },
  {
   "cell_type": "markdown",
   "metadata": {},
   "source": [
    "### LSTM"
   ]
  },
  {
   "cell_type": "markdown",
   "metadata": {},
   "source": [
    "### پیشینه مدل‌های Deep و سری زمانی\n",
    "مدل‌های Deep Learning، بخصوص مدل‌های سری زمانی مانند LSTM (Long Short-Term Memory)، توانمندی بالایی در کشف الگوها و وابستگی‌های پنهان در داده‌های سری زمانی دارند. این قابلیت‌ها می‌توانند مفید باشند در مواردی که ترتیب و وابستگی زمانی بین نقاط داده مهم است، مانند پیش‌بینی ورشکستگی شرکت‌ها بر اساس داده‌های مالی.\n",
    "\n",
    "### معرفی مدل LSTM\n",
    "LSTM یک نوع خاص از RNN (شبکه‌های عصبی بازگشتی) است که برای حل مشکل از دست رفتن گرادیان طراحی شده است. این مشکل معمولاً در آموزش شبکه‌های عصبی بازگشتی عادی اتفاق می‌افتد.\n",
    "\n",
    "### الگوریتم LSTM\n",
    "LSTM از واحدهای مخصوصی استفاده می‌کند که می‌توانند اطلاعات را برای مدت زمان طولانی حفظ کنند. این واحدها از سه دروازه بهره‌مند هستند:\n",
    "- دروازه ورودی: کنترل می‌کند که اطلاعات جدید چقدر به حالت فعلی اضافه شود.\n",
    "- دروازه فراموشی: کنترل می‌کند که اطلاعات قدیمی چقدر حفظ شود.\n",
    "- دروازه خروجی: کنترل می‌کند که اطلاعات مربوط به حالت فعلی به خروجی ارسال شود.\n",
    "\n",
    "### استفاده از LSTM در این مسئله\n",
    "برای پیش‌بینی ورشکستگی شرکت‌ها، مدل LSTM می‌تواند از داده‌های مالی شرکت‌ها در طول زمان بهره‌مند شود. LSTM توانمندی دارد تا وابستگی‌های زمانی پنهان در این داده‌ها را کشف کند و براساس آن‌ها پیش‌بینی کند.\n",
    "\n",
    "### هایپر پارامتر‌ها و معماری مدل\n",
    "- **واحدهای LSTM**: 256 واحد برای هر لایه LSTM انتخاب شده است.\n",
    "- **ورودی**: ابعاد ورودی به تعداد گام‌های زمانی و ویژگی‌ها تنظیم می‌شود.\n",
    "- **Dropout**: 0.1 برای جلوگیری از برازش بیش از حد.\n",
    "- **تابع فعال‌سازی خروجی**: sigmoid برای پیش‌بینی احتمال ورشکستگی.\n",
    "- **تابع هزینه**: binary_crossentropy برای مسئله طبقه‌بندی دو کلاسه.\n",
    "- **Optimizer**: Adam.\n",
    "\n",
    "مدل LSTM با توجه به قدرت خود در کار با سری‌های زمانی، انتخاب مناسبی برای این مسئله به نظر می‌رسد و می‌تواند الگوهای پنهان و پیچیده‌ای را که در داده‌های مالی شرکت‌ها وجود دارد، کشف کند."
   ]
  },
  {
   "cell_type": "markdown",
   "metadata": {},
   "source": [
    "البته، در زیر توضیح مختصری از هر لایه در مدل LSTM داریم:\n",
    "\n",
    "1. **لایه LSTM اول**:\n",
    "   - **واحدها**: 256 واحد LSTM که هر کدام حافظه داخلی دارند.\n",
    "   - **input_shape**: ابعاد ورودی به تعداد گام‌های زمانی و ویژگی‌ها.\n",
    "   - **return_sequences**: تنظیم شده بر True، بدین معنا که خروجی از هر گام زمانی به لایه بعدی ارسال می‌شود.\n",
    "   - **وظیفه**: پردازش داده‌های سری زمانی و کشف وابستگی‌های زمانی در آنها.\n",
    "\n",
    "2. **لایه Dropout اول**:\n",
    "   - **نرخ**: 0.1، یعنی 10٪ از ویژگی‌ها در هر دور آموزش تصادفاً صفر می‌شوند.\n",
    "   - **وظیفه**: جلوگیری از برازش بیش از حد به داده‌های آموزش.\n",
    "\n",
    "3. **لایه LSTM دوم**:\n",
    "   - **واحدها**: 256 واحد LSTM.\n",
    "   - **return_sequences**: تنظیم شده بر False، بدین معنا که فقط خروجی گام زمانی آخر به لایه بعدی ارسال می‌شود.\n",
    "   - **وظیفه**: پردازش خروجی لایه LSTM قبلی و کشف الگوها و وابستگی‌های بالاتر.\n",
    "\n",
    "4. **لایه Dropout دوم**:\n",
    "   - **نرخ**: 0.1.\n",
    "   - **وظیفه**: مانند لایه Dropout اول، از برازش بیش از حد جلوگیری می‌کند.\n",
    "\n",
    "5. **لایه Dense (کاملا متصل)**:\n",
    "   - **واحدها**: 1، تنها یک واحد خروجی.\n",
    "   - **تابع فعال‌سازی**: sigmoid، تبدیل خروجی به یک احتمال بین 0 و 1.\n",
    "   - **وظیفه**: تصمیم‌گیری نهایی براساس ویژگی‌ها و اطلاعات استخراج شده توسط لایه‌های قبلی و ارائه پیش‌بینی نهایی.\n",
    "\n",
    "این معماری با ترکیب لایه‌های LSTM و Dropout توانمندی دارد تا الگوها و وابستگی‌های پیچیده در داده‌های سری زمانی را کشف کند، در عین حال از برازش بیش از حد جلوگیری می‌کند، که می‌تواند به عملکرد بهتری در داده‌های تست منجر شود."
   ]
  },
  {
   "cell_type": "code",
   "execution_count": 41,
   "metadata": {},
   "outputs": [
    {
     "name": "stdout",
     "output_type": "stream",
     "text": [
      "Model: \"sequential\"\n",
      "_________________________________________________________________\n",
      " Layer (type)                Output Shape              Param #   \n",
      "=================================================================\n",
      " lstm (LSTM)                 (None, 1, 256)            334848    \n",
      "                                                                 \n",
      " dropout (Dropout)           (None, 1, 256)            0         \n",
      "                                                                 \n",
      " lstm_1 (LSTM)               (None, 256)               525312    \n",
      "                                                                 \n",
      " dropout_1 (Dropout)         (None, 256)               0         \n",
      "                                                                 \n",
      " dense (Dense)               (None, 1)                 257       \n",
      "                                                                 \n",
      "=================================================================\n",
      "Total params: 860417 (3.28 MB)\n",
      "Trainable params: 860417 (3.28 MB)\n",
      "Non-trainable params: 0 (0.00 Byte)\n",
      "_________________________________________________________________\n"
     ]
    }
   ],
   "source": [
    "# LSTM\n",
    "lstm = keras.Sequential()\n",
    "lstm.add(keras.layers.LSTM(256, input_shape=(x_train.shape[1], x_train.shape[2]), return_sequences=True))\n",
    "lstm.add(keras.layers.Dropout(0.1))\n",
    "lstm.add(keras.layers.LSTM(256, return_sequences=False))\n",
    "lstm.add(keras.layers.Dropout(0.1))\n",
    "lstm.add(keras.layers.Dense(1, activation='sigmoid'))\n",
    "lstm.compile(loss='binary_crossentropy', optimizer='adam', metrics=['accuracy'])\n",
    "lstm.summary()"
   ]
  },
  {
   "cell_type": "code",
   "execution_count": 42,
   "metadata": {},
   "outputs": [
    {
     "data": {
      "image/png": "[encoded data removed]",
      "text/plain": [
       "<IPython.core.display.Image object>"
      ]
     },
     "execution_count": 42,
     "metadata": {},
     "output_type": "execute_result"
    }
   ],
   "source": [
    "# save plot as image\n",
    "keras.utils.plot_model(lstm, show_shapes=True, show_layer_names=True, to_file='lstm_model.png')"
   ]
  },
  {
   "cell_type": "code",
   "execution_count": 43,
   "metadata": {},
   "outputs": [
    {
     "name": "stdout",
     "output_type": "stream",
     "text": [
      "Epoch 1/100\n"
     ]
    },
    {
     "name": "stdout",
     "output_type": "stream",
     "text": [
      "327/327 [==============================] - 11s 24ms/step - loss: 0.2182 - accuracy: 0.9465 - val_loss: 0.3248 - val_accuracy: 0.9079\n",
      "Epoch 2/100\n",
      "327/327 [==============================] - 7s 23ms/step - loss: 0.2007 - accuracy: 0.9466 - val_loss: 0.3225 - val_accuracy: 0.9079\n",
      "Epoch 3/100\n",
      "327/327 [==============================] - 8s 23ms/step - loss: 0.1848 - accuracy: 0.9501 - val_loss: 0.3491 - val_accuracy: 0.9079\n",
      "Epoch 4/100\n",
      "327/327 [==============================] - 7s 23ms/step - loss: 0.1678 - accuracy: 0.9580 - val_loss: 0.3819 - val_accuracy: 0.9079\n",
      "Epoch 5/100\n",
      "327/327 [==============================] - 7s 22ms/step - loss: 0.1579 - accuracy: 0.9604 - val_loss: 0.3966 - val_accuracy: 0.9079\n",
      "Epoch 6/100\n",
      "327/327 [==============================] - 8s 24ms/step - loss: 0.1546 - accuracy: 0.9620 - val_loss: 0.3916 - val_accuracy: 0.9079\n",
      "Epoch 7/100\n",
      "327/327 [==============================] - 8s 23ms/step - loss: 0.1493 - accuracy: 0.9622 - val_loss: 0.3804 - val_accuracy: 0.9079\n",
      "Epoch 8/100\n",
      "327/327 [==============================] - 8s 25ms/step - loss: 0.1430 - accuracy: 0.9643 - val_loss: 0.3690 - val_accuracy: 0.9239\n",
      "Epoch 9/100\n",
      "327/327 [==============================] - 8s 24ms/step - loss: 0.1370 - accuracy: 0.9658 - val_loss: 0.3569 - val_accuracy: 0.9239\n",
      "Epoch 10/100\n",
      "327/327 [==============================] - 8s 24ms/step - loss: 0.1316 - accuracy: 0.9655 - val_loss: 0.3456 - val_accuracy: 0.9239\n",
      "Epoch 11/100\n",
      "327/327 [==============================] - 7s 23ms/step - loss: 0.1267 - accuracy: 0.9672 - val_loss: 0.3341 - val_accuracy: 0.9239\n",
      "Epoch 12/100\n",
      "327/327 [==============================] - 7s 22ms/step - loss: 0.1230 - accuracy: 0.9672 - val_loss: 0.3225 - val_accuracy: 0.9239\n",
      "Epoch 13/100\n",
      "327/327 [==============================] - 7s 23ms/step - loss: 0.1201 - accuracy: 0.9670 - val_loss: 0.3104 - val_accuracy: 0.9239\n",
      "Epoch 14/100\n",
      "327/327 [==============================] - 7s 23ms/step - loss: 0.1175 - accuracy: 0.9670 - val_loss: 0.2965 - val_accuracy: 0.9239\n",
      "Epoch 15/100\n",
      "327/327 [==============================] - 7s 22ms/step - loss: 0.1152 - accuracy: 0.9681 - val_loss: 0.2849 - val_accuracy: 0.9239\n",
      "Epoch 16/100\n",
      "327/327 [==============================] - 7s 22ms/step - loss: 0.1128 - accuracy: 0.9690 - val_loss: 0.2759 - val_accuracy: 0.9239\n",
      "Epoch 17/100\n",
      "327/327 [==============================] - 8s 24ms/step - loss: 0.1108 - accuracy: 0.9698 - val_loss: 0.2683 - val_accuracy: 0.9239\n",
      "Epoch 18/100\n",
      "327/327 [==============================] - 8s 23ms/step - loss: 0.1084 - accuracy: 0.9703 - val_loss: 0.2632 - val_accuracy: 0.9239\n",
      "Epoch 19/100\n",
      "327/327 [==============================] - 8s 24ms/step - loss: 0.1066 - accuracy: 0.9706 - val_loss: 0.2575 - val_accuracy: 0.9239\n",
      "Epoch 20/100\n",
      "327/327 [==============================] - 8s 24ms/step - loss: 0.1051 - accuracy: 0.9701 - val_loss: 0.2538 - val_accuracy: 0.9239\n",
      "Epoch 21/100\n",
      "327/327 [==============================] - 8s 23ms/step - loss: 0.1038 - accuracy: 0.9710 - val_loss: 0.2494 - val_accuracy: 0.9239\n",
      "Epoch 22/100\n",
      "327/327 [==============================] - 7s 23ms/step - loss: 0.1022 - accuracy: 0.9703 - val_loss: 0.2460 - val_accuracy: 0.9239\n",
      "Epoch 23/100\n",
      "327/327 [==============================] - 7s 23ms/step - loss: 0.1014 - accuracy: 0.9703 - val_loss: 0.2415 - val_accuracy: 0.9239\n",
      "Epoch 24/100\n",
      "327/327 [==============================] - 7s 22ms/step - loss: 0.1002 - accuracy: 0.9703 - val_loss: 0.2389 - val_accuracy: 0.9239\n",
      "Epoch 25/100\n",
      "327/327 [==============================] - 7s 22ms/step - loss: 0.0993 - accuracy: 0.9703 - val_loss: 0.2372 - val_accuracy: 0.9239\n",
      "Epoch 26/100\n",
      "327/327 [==============================] - 7s 22ms/step - loss: 0.0982 - accuracy: 0.9703 - val_loss: 0.2352 - val_accuracy: 0.9239\n",
      "Epoch 27/100\n",
      "327/327 [==============================] - 8s 24ms/step - loss: 0.0974 - accuracy: 0.9704 - val_loss: 0.2331 - val_accuracy: 0.9239\n",
      "Epoch 28/100\n",
      "327/327 [==============================] - 8s 23ms/step - loss: 0.0964 - accuracy: 0.9704 - val_loss: 0.2318 - val_accuracy: 0.9239\n",
      "Epoch 29/100\n",
      "327/327 [==============================] - 8s 24ms/step - loss: 0.0956 - accuracy: 0.9704 - val_loss: 0.2307 - val_accuracy: 0.9239\n",
      "Epoch 30/100\n",
      "327/327 [==============================] - 8s 24ms/step - loss: 0.0950 - accuracy: 0.9704 - val_loss: 0.2301 - val_accuracy: 0.9239\n",
      "Epoch 31/100\n",
      "327/327 [==============================] - 8s 24ms/step - loss: 0.0939 - accuracy: 0.9704 - val_loss: 0.2289 - val_accuracy: 0.9239\n",
      "Epoch 32/100\n",
      "327/327 [==============================] - 8s 23ms/step - loss: 0.0936 - accuracy: 0.9704 - val_loss: 0.2263 - val_accuracy: 0.9239\n",
      "Epoch 33/100\n",
      "327/327 [==============================] - 7s 22ms/step - loss: 0.0926 - accuracy: 0.9704 - val_loss: 0.2269 - val_accuracy: 0.9239\n",
      "Epoch 34/100\n",
      "327/327 [==============================] - 7s 22ms/step - loss: 0.0920 - accuracy: 0.9704 - val_loss: 0.2258 - val_accuracy: 0.9239\n",
      "Epoch 35/100\n",
      "327/327 [==============================] - 7s 22ms/step - loss: 0.0913 - accuracy: 0.9704 - val_loss: 0.2240 - val_accuracy: 0.9239\n",
      "Epoch 36/100\n",
      "327/327 [==============================] - 7s 22ms/step - loss: 0.0905 - accuracy: 0.9704 - val_loss: 0.2246 - val_accuracy: 0.9239\n",
      "Epoch 37/100\n",
      "327/327 [==============================] - 8s 23ms/step - loss: 0.0899 - accuracy: 0.9704 - val_loss: 0.2239 - val_accuracy: 0.9239\n",
      "Epoch 38/100\n",
      "327/327 [==============================] - 8s 23ms/step - loss: 0.0893 - accuracy: 0.9704 - val_loss: 0.2235 - val_accuracy: 0.9239\n",
      "Epoch 39/100\n",
      "327/327 [==============================] - 7s 21ms/step - loss: 0.0886 - accuracy: 0.9704 - val_loss: 0.2215 - val_accuracy: 0.9239\n",
      "Epoch 40/100\n",
      "327/327 [==============================] - 8s 23ms/step - loss: 0.0879 - accuracy: 0.9704 - val_loss: 0.2207 - val_accuracy: 0.9239\n",
      "Epoch 41/100\n",
      "327/327 [==============================] - 8s 24ms/step - loss: 0.0869 - accuracy: 0.9714 - val_loss: 0.2219 - val_accuracy: 0.9239\n",
      "Epoch 42/100\n",
      "327/327 [==============================] - 8s 23ms/step - loss: 0.0864 - accuracy: 0.9717 - val_loss: 0.2201 - val_accuracy: 0.9239\n",
      "Epoch 43/100\n",
      "327/327 [==============================] - 7s 23ms/step - loss: 0.0857 - accuracy: 0.9718 - val_loss: 0.2193 - val_accuracy: 0.9239\n",
      "Epoch 44/100\n",
      "327/327 [==============================] - 8s 23ms/step - loss: 0.0851 - accuracy: 0.9720 - val_loss: 0.2180 - val_accuracy: 0.9239\n",
      "Epoch 45/100\n",
      "327/327 [==============================] - 7s 22ms/step - loss: 0.0844 - accuracy: 0.9721 - val_loss: 0.2173 - val_accuracy: 0.9239\n",
      "Epoch 46/100\n",
      "327/327 [==============================] - 7s 22ms/step - loss: 0.0834 - accuracy: 0.9725 - val_loss: 0.2181 - val_accuracy: 0.9239\n",
      "Epoch 47/100\n",
      "327/327 [==============================] - 7s 22ms/step - loss: 0.0828 - accuracy: 0.9726 - val_loss: 0.2178 - val_accuracy: 0.9239\n",
      "Epoch 48/100\n",
      "327/327 [==============================] - 8s 23ms/step - loss: 0.0821 - accuracy: 0.9731 - val_loss: 0.2184 - val_accuracy: 0.9239\n",
      "Epoch 49/100\n",
      "327/327 [==============================] - 8s 23ms/step - loss: 0.0817 - accuracy: 0.9732 - val_loss: 0.2164 - val_accuracy: 0.9239\n",
      "Epoch 50/100\n",
      "327/327 [==============================] - 8s 24ms/step - loss: 0.0809 - accuracy: 0.9736 - val_loss: 0.2170 - val_accuracy: 0.9239\n",
      "Epoch 51/100\n",
      "327/327 [==============================] - 8s 24ms/step - loss: 0.0802 - accuracy: 0.9736 - val_loss: 0.2169 - val_accuracy: 0.9239\n",
      "Epoch 52/100\n",
      "327/327 [==============================] - 8s 24ms/step - loss: 0.0796 - accuracy: 0.9735 - val_loss: 0.2159 - val_accuracy: 0.9239\n",
      "Epoch 53/100\n",
      "327/327 [==============================] - 8s 23ms/step - loss: 0.0791 - accuracy: 0.9736 - val_loss: 0.2136 - val_accuracy: 0.9239\n",
      "Epoch 54/100\n",
      "327/327 [==============================] - 7s 21ms/step - loss: 0.0784 - accuracy: 0.9741 - val_loss: 0.2170 - val_accuracy: 0.9239\n",
      "Epoch 55/100\n",
      "327/327 [==============================] - 7s 22ms/step - loss: 0.0779 - accuracy: 0.9738 - val_loss: 0.2153 - val_accuracy: 0.9239\n",
      "Epoch 56/100\n",
      "327/327 [==============================] - 7s 22ms/step - loss: 0.0777 - accuracy: 0.9740 - val_loss: 0.2115 - val_accuracy: 0.9239\n",
      "Epoch 57/100\n",
      "327/327 [==============================] - 7s 21ms/step - loss: 0.0767 - accuracy: 0.9745 - val_loss: 0.2134 - val_accuracy: 0.9239\n",
      "Epoch 58/100\n",
      "327/327 [==============================] - 8s 24ms/step - loss: 0.0765 - accuracy: 0.9743 - val_loss: 0.2122 - val_accuracy: 0.9239\n",
      "Epoch 59/100\n",
      "327/327 [==============================] - 8s 24ms/step - loss: 0.0759 - accuracy: 0.9744 - val_loss: 0.2089 - val_accuracy: 0.9270\n",
      "Epoch 60/100\n",
      "327/327 [==============================] - 8s 24ms/step - loss: 0.0752 - accuracy: 0.9746 - val_loss: 0.2111 - val_accuracy: 0.9239\n",
      "Epoch 61/100\n",
      "327/327 [==============================] - 8s 24ms/step - loss: 0.0750 - accuracy: 0.9747 - val_loss: 0.2121 - val_accuracy: 0.9239\n",
      "Epoch 62/100\n",
      "327/327 [==============================] - 8s 24ms/step - loss: 0.0745 - accuracy: 0.9747 - val_loss: 0.2107 - val_accuracy: 0.9258\n",
      "Epoch 63/100\n",
      "327/327 [==============================] - 7s 22ms/step - loss: 0.0743 - accuracy: 0.9749 - val_loss: 0.2095 - val_accuracy: 0.9270\n",
      "Epoch 64/100\n",
      "327/327 [==============================] - 7s 23ms/step - loss: 0.0735 - accuracy: 0.9751 - val_loss: 0.2080 - val_accuracy: 0.9307\n",
      "Epoch 65/100\n",
      "327/327 [==============================] - 7s 22ms/step - loss: 0.0736 - accuracy: 0.9750 - val_loss: 0.2065 - val_accuracy: 0.9317\n",
      "Epoch 66/100\n",
      "327/327 [==============================] - 8s 23ms/step - loss: 0.0729 - accuracy: 0.9756 - val_loss: 0.2075 - val_accuracy: 0.9316\n",
      "Epoch 67/100\n",
      "327/327 [==============================] - 7s 23ms/step - loss: 0.0727 - accuracy: 0.9750 - val_loss: 0.2078 - val_accuracy: 0.9317\n",
      "Epoch 68/100\n",
      "327/327 [==============================] - 7s 22ms/step - loss: 0.0720 - accuracy: 0.9753 - val_loss: 0.2057 - val_accuracy: 0.9320\n",
      "Epoch 69/100\n",
      "327/327 [==============================] - 8s 24ms/step - loss: 0.0717 - accuracy: 0.9756 - val_loss: 0.2066 - val_accuracy: 0.9320\n",
      "Epoch 70/100\n",
      "327/327 [==============================] - 8s 24ms/step - loss: 0.0715 - accuracy: 0.9752 - val_loss: 0.2061 - val_accuracy: 0.9320\n",
      "Epoch 71/100\n",
      "327/327 [==============================] - 8s 24ms/step - loss: 0.0710 - accuracy: 0.9757 - val_loss: 0.2032 - val_accuracy: 0.9320\n",
      "Epoch 72/100\n",
      "327/327 [==============================] - 8s 23ms/step - loss: 0.0708 - accuracy: 0.9759 - val_loss: 0.2026 - val_accuracy: 0.9387\n",
      "Epoch 73/100\n",
      "327/327 [==============================] - 8s 24ms/step - loss: 0.0700 - accuracy: 0.9757 - val_loss: 0.2027 - val_accuracy: 0.9400\n",
      "Epoch 74/100\n",
      "327/327 [==============================] - 7s 22ms/step - loss: 0.0700 - accuracy: 0.9758 - val_loss: 0.2014 - val_accuracy: 0.9400\n",
      "Epoch 75/100\n",
      "327/327 [==============================] - 7s 23ms/step - loss: 0.0697 - accuracy: 0.9759 - val_loss: 0.2024 - val_accuracy: 0.9400\n",
      "Epoch 76/100\n",
      "327/327 [==============================] - 7s 22ms/step - loss: 0.0691 - accuracy: 0.9758 - val_loss: 0.2022 - val_accuracy: 0.9400\n",
      "Epoch 77/100\n",
      "327/327 [==============================] - 7s 23ms/step - loss: 0.0689 - accuracy: 0.9759 - val_loss: 0.1981 - val_accuracy: 0.9400\n",
      "Epoch 78/100\n",
      "327/327 [==============================] - 7s 22ms/step - loss: 0.0684 - accuracy: 0.9768 - val_loss: 0.2015 - val_accuracy: 0.9400\n",
      "Epoch 79/100\n",
      "327/327 [==============================] - 7s 22ms/step - loss: 0.0680 - accuracy: 0.9768 - val_loss: 0.2007 - val_accuracy: 0.9320\n",
      "Epoch 80/100\n",
      "327/327 [==============================] - 8s 24ms/step - loss: 0.0679 - accuracy: 0.9770 - val_loss: 0.2007 - val_accuracy: 0.9320\n",
      "Epoch 81/100\n",
      "327/327 [==============================] - 8s 23ms/step - loss: 0.0676 - accuracy: 0.9777 - val_loss: 0.2007 - val_accuracy: 0.9320\n",
      "Epoch 82/100\n",
      "327/327 [==============================] - 8s 24ms/step - loss: 0.0674 - accuracy: 0.9776 - val_loss: 0.2009 - val_accuracy: 0.9320\n",
      "Epoch 83/100\n",
      "327/327 [==============================] - 8s 24ms/step - loss: 0.0666 - accuracy: 0.9778 - val_loss: 0.2009 - val_accuracy: 0.9320\n",
      "Epoch 84/100\n",
      "327/327 [==============================] - 7s 22ms/step - loss: 0.0668 - accuracy: 0.9778 - val_loss: 0.2005 - val_accuracy: 0.9320\n",
      "Epoch 85/100\n",
      "327/327 [==============================] - 8s 23ms/step - loss: 0.0667 - accuracy: 0.9786 - val_loss: 0.2018 - val_accuracy: 0.9320\n",
      "Epoch 86/100\n",
      "327/327 [==============================] - 7s 23ms/step - loss: 0.0659 - accuracy: 0.9785 - val_loss: 0.2034 - val_accuracy: 0.9320\n",
      "Epoch 87/100\n",
      "327/327 [==============================] - 8s 23ms/step - loss: 0.0662 - accuracy: 0.9785 - val_loss: 0.2015 - val_accuracy: 0.9320\n",
      "Epoch 88/100\n",
      "327/327 [==============================] - 7s 22ms/step - loss: 0.0658 - accuracy: 0.9787 - val_loss: 0.2012 - val_accuracy: 0.9320\n",
      "Epoch 89/100\n",
      "327/327 [==============================] - 8s 24ms/step - loss: 0.0656 - accuracy: 0.9782 - val_loss: 0.2024 - val_accuracy: 0.9320\n",
      "Epoch 90/100\n",
      "327/327 [==============================] - 8s 24ms/step - loss: 0.0653 - accuracy: 0.9788 - val_loss: 0.2030 - val_accuracy: 0.9320\n",
      "Epoch 91/100\n",
      "327/327 [==============================] - 8s 24ms/step - loss: 0.0649 - accuracy: 0.9787 - val_loss: 0.2039 - val_accuracy: 0.9320\n",
      "Epoch 92/100\n",
      "327/327 [==============================] - 8s 24ms/step - loss: 0.0648 - accuracy: 0.9787 - val_loss: 0.2021 - val_accuracy: 0.9320\n",
      "Epoch 93/100\n",
      "327/327 [==============================] - 8s 24ms/step - loss: 0.0646 - accuracy: 0.9788 - val_loss: 0.2029 - val_accuracy: 0.9320\n",
      "Epoch 94/100\n",
      "327/327 [==============================] - 7s 22ms/step - loss: 0.0642 - accuracy: 0.9788 - val_loss: 0.2046 - val_accuracy: 0.9320\n",
      "Epoch 95/100\n",
      "327/327 [==============================] - 7s 22ms/step - loss: 0.0637 - accuracy: 0.9790 - val_loss: 0.2035 - val_accuracy: 0.9320\n",
      "Epoch 96/100\n",
      "327/327 [==============================] - 7s 22ms/step - loss: 0.0638 - accuracy: 0.9788 - val_loss: 0.2026 - val_accuracy: 0.9320\n",
      "Epoch 97/100\n",
      "327/327 [==============================] - 7s 23ms/step - loss: 0.0636 - accuracy: 0.9789 - val_loss: 0.2053 - val_accuracy: 0.9320\n",
      "Epoch 98/100\n",
      "327/327 [==============================] - 7s 22ms/step - loss: 0.0634 - accuracy: 0.9790 - val_loss: 0.2043 - val_accuracy: 0.9320\n",
      "Epoch 99/100\n",
      "327/327 [==============================] - 8s 24ms/step - loss: 0.0630 - accuracy: 0.9789 - val_loss: 0.2062 - val_accuracy: 0.9320\n",
      "Epoch 100/100\n",
      "327/327 [==============================] - 8s 24ms/step - loss: 0.0630 - accuracy: 0.9788 - val_loss: 0.2063 - val_accuracy: 0.9320\n"
     ]
    }
   ],
   "source": [
    "# train\n",
    "lstm_history = lstm.fit(x_train, y_train, epochs=100, batch_size=256, validation_data=(x_valid, y_valid), shuffle=False)"
   ]
  },
  {
   "cell_type": "code",
   "execution_count": 45,
   "metadata": {},
   "outputs": [
    {
     "data": {
      "text/plain": [
       "((17921, 1), (17921,))"
      ]
     },
     "execution_count": 45,
     "metadata": {},
     "output_type": "execute_result"
    }
   ],
   "source": [
    "y_pred.shape, y_test.shape"
   ]
  },
  {
   "cell_type": "code",
   "execution_count": 52,
   "metadata": {},
   "outputs": [
    {
     "name": "stdout",
     "output_type": "stream",
     "text": [
      "165/561 [=======>......................] - ETA: 1s"
     ]
    },
    {
     "name": "stdout",
     "output_type": "stream",
     "text": [
      "561/561 [==============================] - 2s 4ms/step\n"
     ]
    },
    {
     "data": {
      "image/png": "[encoded data removed]",
      "text/plain": [
       "<Figure size 1000x1000 with 2 Axes>"
      ]
     },
     "metadata": {},
     "output_type": "display_data"
    }
   ],
   "source": [
    "# evaluate the model\n",
    "y_pred = lstm.predict(x_test)\n",
    "y_pred_binary = (y_pred > 0.5).astype(int)\n",
    "\n",
    "# plot confusion matrix (show each cell's count)\n",
    "fig = plt.figure(figsize=(10, 10))\n",
    "cm = confusion_matrix(y_test, y_pred_binary)\n",
    "sns.heatmap(cm, annot=True, fmt='d', cmap='Blues')\n",
    "plt.xlabel('Predicted')\n",
    "plt.ylabel('Actual')\n",
    "plt.title('Confusion Matrix')\n",
    "plt.show()\n",
    "\n",
    "# save confusion matrix as image\n",
    "fig.savefig('LSTM_confusion_matrix.png')"
   ]
  },
  {
   "cell_type": "code",
   "execution_count": 53,
   "metadata": {},
   "outputs": [
    {
     "name": "stdout",
     "output_type": "stream",
     "text": [
      "y_pred > 0.5:  1086\n"
     ]
    }
   ],
   "source": [
    "# count y_pred > 0.5\n",
    "print(\"y_pred > 0.5: \", np.count_nonzero(y_pred > 0.5))"
   ]
  },
  {
   "cell_type": "code",
   "execution_count": 54,
   "metadata": {},
   "outputs": [
    {
     "name": "stderr",
     "output_type": "stream",
     "text": [
      "/tmp/ipykernel_3646048/2328238636.py:6: SettingWithCopyWarning:\n",
      "\n",
      "\n",
      "A value is trying to be set on a copy of a slice from a DataFrame.\n",
      "Try using .loc[row_indexer,col_indexer] = value instead\n",
      "\n",
      "See the caveats in the documentation: https://pandas.pydata.org/pandas-docs/stable/user_guide/indexing.html#returning-a-view-versus-a-copy\n",
      "\n"
     ]
    },
    {
     "name": "stdout",
     "output_type": "stream",
     "text": [
      "(17, 74)\n",
      "(250, 74)\n"
     ]
    },
    {
     "data": {
      "text/html": [
       "<div>\n",
       "<style scoped>\n",
       "    .dataframe tbody tr th:only-of-type {\n",
       "        vertical-align: middle;\n",
       "    }\n",
       "\n",
       "    .dataframe tbody tr th {\n",
       "        vertical-align: top;\n",
       "    }\n",
       "\n",
       "    .dataframe thead th {\n",
       "        text-align: right;\n",
       "    }\n",
       "</style>\n",
       "<table border=\"1\" class=\"dataframe\">\n",
       "  <thead>\n",
       "    <tr style=\"text-align: right;\">\n",
       "      <th></th>\n",
       "      <th>Company</th>\n",
       "      <th>year</th>\n",
       "      <th>y</th>\n",
       "      <th>y_pred</th>\n",
       "      <th>Custom-Return_x</th>\n",
       "      <th>EPS_MRQ_LC</th>\n",
       "      <th>EPS_TTM</th>\n",
       "      <th>EPS_MRQ</th>\n",
       "      <th>EPS_FY</th>\n",
       "      <th>Rev_TTM</th>\n",
       "      <th>...</th>\n",
       "      <th>CFOToDebt</th>\n",
       "      <th>FCFFToRev</th>\n",
       "      <th>FCFFToNI</th>\n",
       "      <th>FCFEToRev</th>\n",
       "      <th>FCFEToNI</th>\n",
       "      <th>CAPEXToRev</th>\n",
       "      <th>CAPEXToNI</th>\n",
       "      <th>DivYield</th>\n",
       "      <th>mean_TSE_FY</th>\n",
       "      <th>mean_RE_FY</th>\n",
       "    </tr>\n",
       "  </thead>\n",
       "  <tbody>\n",
       "    <tr>\n",
       "      <th>102166</th>\n",
       "      <td>کارخانجات‌مخابراتی‌ایران‌</td>\n",
       "      <td>1401</td>\n",
       "      <td>1</td>\n",
       "      <td>0.012506</td>\n",
       "      <td>1.029771e-06</td>\n",
       "      <td>0.315105</td>\n",
       "      <td>2.587749e-10</td>\n",
       "      <td>0.999973</td>\n",
       "      <td>0.001849</td>\n",
       "      <td>0.044723</td>\n",
       "      <td>...</td>\n",
       "      <td>0.295552</td>\n",
       "      <td>0.999684</td>\n",
       "      <td>0.895863</td>\n",
       "      <td>0.990956</td>\n",
       "      <td>0.439617</td>\n",
       "      <td>0.978932</td>\n",
       "      <td>0.655881</td>\n",
       "      <td>0.000000</td>\n",
       "      <td>0.362208</td>\n",
       "      <td>0.606595</td>\n",
       "    </tr>\n",
       "    <tr>\n",
       "      <th>102169</th>\n",
       "      <td>کارخانجات‌مخابراتی‌ایران‌</td>\n",
       "      <td>1400</td>\n",
       "      <td>1</td>\n",
       "      <td>0.012440</td>\n",
       "      <td>6.139259e-07</td>\n",
       "      <td>0.315105</td>\n",
       "      <td>2.587749e-10</td>\n",
       "      <td>0.999973</td>\n",
       "      <td>0.001849</td>\n",
       "      <td>0.044723</td>\n",
       "      <td>...</td>\n",
       "      <td>0.295557</td>\n",
       "      <td>0.999685</td>\n",
       "      <td>0.895863</td>\n",
       "      <td>0.990980</td>\n",
       "      <td>0.439617</td>\n",
       "      <td>0.978932</td>\n",
       "      <td>0.655904</td>\n",
       "      <td>0.000000</td>\n",
       "      <td>0.362208</td>\n",
       "      <td>0.606595</td>\n",
       "    </tr>\n",
       "    <tr>\n",
       "      <th>102241</th>\n",
       "      <td>شرکت کیسون</td>\n",
       "      <td>1400</td>\n",
       "      <td>0</td>\n",
       "      <td>0.000890</td>\n",
       "      <td>1.708071e-06</td>\n",
       "      <td>0.317036</td>\n",
       "      <td>2.618621e-10</td>\n",
       "      <td>0.999973</td>\n",
       "      <td>0.001849</td>\n",
       "      <td>0.056796</td>\n",
       "      <td>...</td>\n",
       "      <td>0.295568</td>\n",
       "      <td>0.999685</td>\n",
       "      <td>0.897166</td>\n",
       "      <td>0.990988</td>\n",
       "      <td>0.385044</td>\n",
       "      <td>0.978927</td>\n",
       "      <td>0.653263</td>\n",
       "      <td>0.052979</td>\n",
       "      <td>0.372974</td>\n",
       "      <td>0.615854</td>\n",
       "    </tr>\n",
       "    <tr>\n",
       "      <th>102250</th>\n",
       "      <td>شرکت کیسون</td>\n",
       "      <td>1401</td>\n",
       "      <td>0</td>\n",
       "      <td>0.000839</td>\n",
       "      <td>1.708071e-06</td>\n",
       "      <td>0.317036</td>\n",
       "      <td>2.618621e-10</td>\n",
       "      <td>0.999973</td>\n",
       "      <td>0.001849</td>\n",
       "      <td>0.056796</td>\n",
       "      <td>...</td>\n",
       "      <td>0.295570</td>\n",
       "      <td>0.999685</td>\n",
       "      <td>0.897223</td>\n",
       "      <td>0.990988</td>\n",
       "      <td>0.385044</td>\n",
       "      <td>0.978926</td>\n",
       "      <td>0.653178</td>\n",
       "      <td>0.052979</td>\n",
       "      <td>0.372974</td>\n",
       "      <td>0.615854</td>\n",
       "    </tr>\n",
       "    <tr>\n",
       "      <th>102385</th>\n",
       "      <td>کارخانجات کابل سازی‌ تک‌</td>\n",
       "      <td>1400</td>\n",
       "      <td>0</td>\n",
       "      <td>0.002767</td>\n",
       "      <td>1.009970e-06</td>\n",
       "      <td>0.316462</td>\n",
       "      <td>2.614007e-10</td>\n",
       "      <td>0.999974</td>\n",
       "      <td>0.001849</td>\n",
       "      <td>0.044868</td>\n",
       "      <td>...</td>\n",
       "      <td>0.295304</td>\n",
       "      <td>0.999681</td>\n",
       "      <td>0.000000</td>\n",
       "      <td>0.991005</td>\n",
       "      <td>0.428359</td>\n",
       "      <td>0.978935</td>\n",
       "      <td>0.719984</td>\n",
       "      <td>0.000000</td>\n",
       "      <td>0.360533</td>\n",
       "      <td>0.608655</td>\n",
       "    </tr>\n",
       "  </tbody>\n",
       "</table>\n",
       "<p>5 rows × 74 columns</p>\n",
       "</div>"
      ],
      "text/plain": [
       "                          Company  year  y    y_pred  Custom-Return_x  \\\n",
       "102166  کارخانجات‌مخابراتی‌ایران‌  1401  1  0.012506     1.029771e-06   \n",
       "102169  کارخانجات‌مخابراتی‌ایران‌  1400  1  0.012440     6.139259e-07   \n",
       "102241                 شرکت کیسون  1400  0  0.000890     1.708071e-06   \n",
       "102250                 شرکت کیسون  1401  0  0.000839     1.708071e-06   \n",
       "102385   کارخانجات کابل سازی‌ تک‌  1400  0  0.002767     1.009970e-06   \n",
       "\n",
       "        EPS_MRQ_LC       EPS_TTM   EPS_MRQ    EPS_FY   Rev_TTM  ...  \\\n",
       "102166    0.315105  2.587749e-10  0.999973  0.001849  0.044723  ...   \n",
       "102169    0.315105  2.587749e-10  0.999973  0.001849  0.044723  ...   \n",
       "102241    0.317036  2.618621e-10  0.999973  0.001849  0.056796  ...   \n",
       "102250    0.317036  2.618621e-10  0.999973  0.001849  0.056796  ...   \n",
       "102385    0.316462  2.614007e-10  0.999974  0.001849  0.044868  ...   \n",
       "\n",
       "        CFOToDebt  FCFFToRev  FCFFToNI  FCFEToRev  FCFEToNI  CAPEXToRev  \\\n",
       "102166   0.295552   0.999684  0.895863   0.990956  0.439617    0.978932   \n",
       "102169   0.295557   0.999685  0.895863   0.990980  0.439617    0.978932   \n",
       "102241   0.295568   0.999685  0.897166   0.990988  0.385044    0.978927   \n",
       "102250   0.295570   0.999685  0.897223   0.990988  0.385044    0.978926   \n",
       "102385   0.295304   0.999681  0.000000   0.991005  0.428359    0.978935   \n",
       "\n",
       "        CAPEXToNI  DivYield  mean_TSE_FY  mean_RE_FY  \n",
       "102166   0.655881  0.000000     0.362208    0.606595  \n",
       "102169   0.655904  0.000000     0.362208    0.606595  \n",
       "102241   0.653263  0.052979     0.372974    0.615854  \n",
       "102250   0.653178  0.052979     0.372974    0.615854  \n",
       "102385   0.719984  0.000000     0.360533    0.608655  \n",
       "\n",
       "[5 rows x 74 columns]"
      ]
     },
     "execution_count": 54,
     "metadata": {},
     "output_type": "execute_result"
    }
   ],
   "source": [
    "# x_test = x[int(x.shape[0] * .85):]\n",
    "# y_test = y[int(y.shape[0] * .85):]\n",
    "\n",
    "# add y_pred to original df x_test\n",
    "rs_x_test = df.iloc[int(df.shape[0] * .85):]\n",
    "rs_x_test[\"y_pred\"] = y_pred\n",
    "# filter only year == 1401, 1400\n",
    "rs_x_test = rs_x_test[rs_x_test[\"year\"].isin([1401, 1400])]\n",
    "# filter unique Company for each year\n",
    "rs_x_test = rs_x_test.drop_duplicates(subset=[\"year\", \"Company\"])\n",
    "# update columns order move Company, year, y, y_pred to the end\n",
    "rs_x_test = rs_x_test[[\"Company\", \"year\", \"y\", \"y_pred\"] + [col for col in rs_x_test.columns if col not in [\"Company\", \"year\", \"y\", \"y_pred\"]]]\n",
    "\n",
    "rs_x_test.to_csv(\"LSTM.csv\", index=False)\n",
    "rs_x_test.to_excel(\"LSTM.xlsx\", index=False)\n",
    "print(rs_x_test[rs_x_test[\"y_pred\"] > .5].shape)\n",
    "print(rs_x_test.shape)\n",
    "rs_x_test.head()"
   ]
  },
  {
   "cell_type": "code",
   "execution_count": 55,
   "metadata": {},
   "outputs": [
    {
     "name": "stdout",
     "output_type": "stream",
     "text": [
      "                 model  accuracy  precision  recall      f1  roc_auc\n",
      "0  Logistic Regression    0.9747     1.0000  0.6411  0.7813   0.8206\n",
      "1                  SVM    0.9834     1.0000  0.7641  0.8663   0.8821\n",
      "2        Random Forest    0.9944     1.0000  0.9210  0.9589   0.9605\n",
      "3                 LSTM    0.9003     0.8398  0.3612  0.5051   0.6749\n"
     ]
    }
   ],
   "source": [
    "# calc metrics and add a row to results\n",
    "results.loc[len(results)] = [\n",
    "    'LSTM',\n",
    "    round(accuracy_score(y_test, y_pred.round()), 4),\n",
    "    round(precision_score(y_test, y_pred.round()), 4),\n",
    "    round(recall_score(y_test, y_pred.round()), 4),\n",
    "    round(f1_score(y_test, y_pred.round()), 4),\n",
    "    round(roc_auc_score(y_test, y_pred.round()), 4),\n",
    "]\n",
    "print(results)"
   ]
  },
  {
   "cell_type": "code",
   "execution_count": 56,
   "metadata": {},
   "outputs": [
    {
     "data": {
      "application/vnd.plotly.v1+json": {
       "config": {
        "plotlyServerURL": "https://plot.ly"
       },
       "data": [
        {
         "mode": "lines",
         "name": "val_loss",
         "type": "scatter",
         "y": [
          0.32482126355171204,
          0.32246625423431396,
          0.3491019010543823,
          0.3818781077861786,
          0.39662060141563416,
          0.39160099625587463,
          0.3804176449775696,
          0.36898013949394226,
          0.35691797733306885,
          0.345567524433136,
          0.3341349959373474,
          0.32251548767089844,
          0.3104247450828552,
          0.29652470350265503,
          0.28494447469711304,
          0.2759479582309723,
          0.26825523376464844,
          0.26315805315971375,
          0.2575211524963379,
          0.25380566716194153,
          0.24938030540943146,
          0.2459675669670105,
          0.2415134757757187,
          0.23894663155078888,
          0.2371741235256195,
          0.23516038060188293,
          0.23314853012561798,
          0.23175957798957825,
          0.2306884080171585,
          0.23007357120513916,
          0.2289285659790039,
          0.2263493537902832,
          0.2268792986869812,
          0.22579579055309296,
          0.22403813898563385,
          0.22464945912361145,
          0.22389666736125946,
          0.22346235811710358,
          0.22150932252407074,
          0.22073690593242645,
          0.2218618392944336,
          0.2200857400894165,
          0.21934320032596588,
          0.21800801157951355,
          0.2172875851392746,
          0.2181493639945984,
          0.2177787572145462,
          0.21843543648719788,
          0.2164333164691925,
          0.21695655584335327,
          0.21689391136169434,
          0.2158842533826828,
          0.21355345845222473,
          0.2170352190732956,
          0.2152835726737976,
          0.2115258425474167,
          0.21341240406036377,
          0.21222878992557526,
          0.20891129970550537,
          0.21112848818302155,
          0.21208639442920685,
          0.21069715917110443,
          0.20954054594039917,
          0.20802830159664154,
          0.20645011961460114,
          0.20747940242290497,
          0.20776145160198212,
          0.20570868253707886,
          0.20659324526786804,
          0.20613227784633636,
          0.20317332446575165,
          0.20256264507770538,
          0.20274397730827332,
          0.20138216018676758,
          0.20237021148204803,
          0.2021801471710205,
          0.1980961561203003,
          0.20151077210903168,
          0.20072060823440552,
          0.20065712928771973,
          0.20073901116847992,
          0.200872540473938,
          0.20091456174850464,
          0.20048193633556366,
          0.20175263285636902,
          0.20337586104869843,
          0.20149026811122894,
          0.2011810839176178,
          0.20241627097129822,
          0.20295992493629456,
          0.20386750996112823,
          0.20208564400672913,
          0.20290255546569824,
          0.20456182956695557,
          0.20345142483711243,
          0.20258812606334686,
          0.20531107485294342,
          0.20432282984256744,
          0.20618946850299835,
          0.20634575188159943
         ]
        }
       ],
       "layout": {
        "template": {
         "data": {
          "bar": [
           {
            "error_x": {
             "color": "#2a3f5f"
            },
            "error_y": {
             "color": "#2a3f5f"
            },
            "marker": {
             "line": {
              "color": "#E5ECF6",
              "width": 0.5
             },
             "pattern": {
              "fillmode": "overlay",
              "size": 10,
              "solidity": 0.2
             }
            },
            "type": "bar"
           }
          ],
          "barpolar": [
           {
            "marker": {
             "line": {
              "color": "#E5ECF6",
              "width": 0.5
             },
             "pattern": {
              "fillmode": "overlay",
              "size": 10,
              "solidity": 0.2
             }
            },
            "type": "barpolar"
           }
          ],
          "carpet": [
           {
            "aaxis": {
             "endlinecolor": "#2a3f5f",
             "gridcolor": "white",
             "linecolor": "white",
             "minorgridcolor": "white",
             "startlinecolor": "#2a3f5f"
            },
            "baxis": {
             "endlinecolor": "#2a3f5f",
             "gridcolor": "white",
             "linecolor": "white",
             "minorgridcolor": "white",
             "startlinecolor": "#2a3f5f"
            },
            "type": "carpet"
           }
          ],
          "choropleth": [
           {
            "colorbar": {
             "outlinewidth": 0,
             "ticks": ""
            },
            "type": "choropleth"
           }
          ],
          "contour": [
           {
            "colorbar": {
             "outlinewidth": 0,
             "ticks": ""
            },
            "colorscale": [
             [
              0,
              "#0d0887"
             ],
             [
              0.1111111111111111,
              "#46039f"
             ],
             [
              0.2222222222222222,
              "#7201a8"
             ],
             [
              0.3333333333333333,
              "#9c179e"
             ],
             [
              0.4444444444444444,
              "#bd3786"
             ],
             [
              0.5555555555555556,
              "#d8576b"
             ],
             [
              0.6666666666666666,
              "#ed7953"
             ],
             [
              0.7777777777777778,
              "#fb9f3a"
             ],
             [
              0.8888888888888888,
              "#fdca26"
             ],
             [
              1,
              "#f0f921"
             ]
            ],
            "type": "contour"
           }
          ],
          "contourcarpet": [
           {
            "colorbar": {
             "outlinewidth": 0,
             "ticks": ""
            },
            "type": "contourcarpet"
           }
          ],
          "heatmap": [
           {
            "colorbar": {
             "outlinewidth": 0,
             "ticks": ""
            },
            "colorscale": [
             [
              0,
              "#0d0887"
             ],
             [
              0.1111111111111111,
              "#46039f"
             ],
             [
              0.2222222222222222,
              "#7201a8"
             ],
             [
              0.3333333333333333,
              "#9c179e"
             ],
             [
              0.4444444444444444,
              "#bd3786"
             ],
             [
              0.5555555555555556,
              "#d8576b"
             ],
             [
              0.6666666666666666,
              "#ed7953"
             ],
             [
              0.7777777777777778,
              "#fb9f3a"
             ],
             [
              0.8888888888888888,
              "#fdca26"
             ],
             [
              1,
              "#f0f921"
             ]
            ],
            "type": "heatmap"
           }
          ],
          "heatmapgl": [
           {
            "colorbar": {
             "outlinewidth": 0,
             "ticks": ""
            },
            "colorscale": [
             [
              0,
              "#0d0887"
             ],
             [
              0.1111111111111111,
              "#46039f"
             ],
             [
              0.2222222222222222,
              "#7201a8"
             ],
             [
              0.3333333333333333,
              "#9c179e"
             ],
             [
              0.4444444444444444,
              "#bd3786"
             ],
             [
              0.5555555555555556,
              "#d8576b"
             ],
             [
              0.6666666666666666,
              "#ed7953"
             ],
             [
              0.7777777777777778,
              "#fb9f3a"
             ],
             [
              0.8888888888888888,
              "#fdca26"
             ],
             [
              1,
              "#f0f921"
             ]
            ],
            "type": "heatmapgl"
           }
          ],
          "histogram": [
           {
            "marker": {
             "pattern": {
              "fillmode": "overlay",
              "size": 10,
              "solidity": 0.2
             }
            },
            "type": "histogram"
           }
          ],
          "histogram2d": [
           {
            "colorbar": {
             "outlinewidth": 0,
             "ticks": ""
            },
            "colorscale": [
             [
              0,
              "#0d0887"
             ],
             [
              0.1111111111111111,
              "#46039f"
             ],
             [
              0.2222222222222222,
              "#7201a8"
             ],
             [
              0.3333333333333333,
              "#9c179e"
             ],
             [
              0.4444444444444444,
              "#bd3786"
             ],
             [
              0.5555555555555556,
              "#d8576b"
             ],
             [
              0.6666666666666666,
              "#ed7953"
             ],
             [
              0.7777777777777778,
              "#fb9f3a"
             ],
             [
              0.8888888888888888,
              "#fdca26"
             ],
             [
              1,
              "#f0f921"
             ]
            ],
            "type": "histogram2d"
           }
          ],
          "histogram2dcontour": [
           {
            "colorbar": {
             "outlinewidth": 0,
             "ticks": ""
            },
            "colorscale": [
             [
              0,
              "#0d0887"
             ],
             [
              0.1111111111111111,
              "#46039f"
             ],
             [
              0.2222222222222222,
              "#7201a8"
             ],
             [
              0.3333333333333333,
              "#9c179e"
             ],
             [
              0.4444444444444444,
              "#bd3786"
             ],
             [
              0.5555555555555556,
              "#d8576b"
             ],
             [
              0.6666666666666666,
              "#ed7953"
             ],
             [
              0.7777777777777778,
              "#fb9f3a"
             ],
             [
              0.8888888888888888,
              "#fdca26"
             ],
             [
              1,
              "#f0f921"
             ]
            ],
            "type": "histogram2dcontour"
           }
          ],
          "mesh3d": [
           {
            "colorbar": {
             "outlinewidth": 0,
             "ticks": ""
            },
            "type": "mesh3d"
           }
          ],
          "parcoords": [
           {
            "line": {
             "colorbar": {
              "outlinewidth": 0,
              "ticks": ""
             }
            },
            "type": "parcoords"
           }
          ],
          "pie": [
           {
            "automargin": true,
            "type": "pie"
           }
          ],
          "scatter": [
           {
            "fillpattern": {
             "fillmode": "overlay",
             "size": 10,
             "solidity": 0.2
            },
            "type": "scatter"
           }
          ],
          "scatter3d": [
           {
            "line": {
             "colorbar": {
              "outlinewidth": 0,
              "ticks": ""
             }
            },
            "marker": {
             "colorbar": {
              "outlinewidth": 0,
              "ticks": ""
             }
            },
            "type": "scatter3d"
           }
          ],
          "scattercarpet": [
           {
            "marker": {
             "colorbar": {
              "outlinewidth": 0,
              "ticks": ""
             }
            },
            "type": "scattercarpet"
           }
          ],
          "scattergeo": [
           {
            "marker": {
             "colorbar": {
              "outlinewidth": 0,
              "ticks": ""
             }
            },
            "type": "scattergeo"
           }
          ],
          "scattergl": [
           {
            "marker": {
             "colorbar": {
              "outlinewidth": 0,
              "ticks": ""
             }
            },
            "type": "scattergl"
           }
          ],
          "scattermapbox": [
           {
            "marker": {
             "colorbar": {
              "outlinewidth": 0,
              "ticks": ""
             }
            },
            "type": "scattermapbox"
           }
          ],
          "scatterpolar": [
           {
            "marker": {
             "colorbar": {
              "outlinewidth": 0,
              "ticks": ""
             }
            },
            "type": "scatterpolar"
           }
          ],
          "scatterpolargl": [
           {
            "marker": {
             "colorbar": {
              "outlinewidth": 0,
              "ticks": ""
             }
            },
            "type": "scatterpolargl"
           }
          ],
          "scatterternary": [
           {
            "marker": {
             "colorbar": {
              "outlinewidth": 0,
              "ticks": ""
             }
            },
            "type": "scatterternary"
           }
          ],
          "surface": [
           {
            "colorbar": {
             "outlinewidth": 0,
             "ticks": ""
            },
            "colorscale": [
             [
              0,
              "#0d0887"
             ],
             [
              0.1111111111111111,
              "#46039f"
             ],
             [
              0.2222222222222222,
              "#7201a8"
             ],
             [
              0.3333333333333333,
              "#9c179e"
             ],
             [
              0.4444444444444444,
              "#bd3786"
             ],
             [
              0.5555555555555556,
              "#d8576b"
             ],
             [
              0.6666666666666666,
              "#ed7953"
             ],
             [
              0.7777777777777778,
              "#fb9f3a"
             ],
             [
              0.8888888888888888,
              "#fdca26"
             ],
             [
              1,
              "#f0f921"
             ]
            ],
            "type": "surface"
           }
          ],
          "table": [
           {
            "cells": {
             "fill": {
              "color": "#EBF0F8"
             },
             "line": {
              "color": "white"
             }
            },
            "header": {
             "fill": {
              "color": "#C8D4E3"
             },
             "line": {
              "color": "white"
             }
            },
            "type": "table"
           }
          ]
         },
         "layout": {
          "annotationdefaults": {
           "arrowcolor": "#2a3f5f",
           "arrowhead": 0,
           "arrowwidth": 1
          },
          "autotypenumbers": "strict",
          "coloraxis": {
           "colorbar": {
            "outlinewidth": 0,
            "ticks": ""
           }
          },
          "colorscale": {
           "diverging": [
            [
             0,
             "#8e0152"
            ],
            [
             0.1,
             "#c51b7d"
            ],
            [
             0.2,
             "#de77ae"
            ],
            [
             0.3,
             "#f1b6da"
            ],
            [
             0.4,
             "#fde0ef"
            ],
            [
             0.5,
             "#f7f7f7"
            ],
            [
             0.6,
             "#e6f5d0"
            ],
            [
             0.7,
             "#b8e186"
            ],
            [
             0.8,
             "#7fbc41"
            ],
            [
             0.9,
             "#4d9221"
            ],
            [
             1,
             "#276419"
            ]
           ],
           "sequential": [
            [
             0,
             "#0d0887"
            ],
            [
             0.1111111111111111,
             "#46039f"
            ],
            [
             0.2222222222222222,
             "#7201a8"
            ],
            [
             0.3333333333333333,
             "#9c179e"
            ],
            [
             0.4444444444444444,
             "#bd3786"
            ],
            [
             0.5555555555555556,
             "#d8576b"
            ],
            [
             0.6666666666666666,
             "#ed7953"
            ],
            [
             0.7777777777777778,
             "#fb9f3a"
            ],
            [
             0.8888888888888888,
             "#fdca26"
            ],
            [
             1,
             "#f0f921"
            ]
           ],
           "sequentialminus": [
            [
             0,
             "#0d0887"
            ],
            [
             0.1111111111111111,
             "#46039f"
            ],
            [
             0.2222222222222222,
             "#7201a8"
            ],
            [
             0.3333333333333333,
             "#9c179e"
            ],
            [
             0.4444444444444444,
             "#bd3786"
            ],
            [
             0.5555555555555556,
             "#d8576b"
            ],
            [
             0.6666666666666666,
             "#ed7953"
            ],
            [
             0.7777777777777778,
             "#fb9f3a"
            ],
            [
             0.8888888888888888,
             "#fdca26"
            ],
            [
             1,
             "#f0f921"
            ]
           ]
          },
          "colorway": [
           "#636efa",
           "#EF553B",
           "#00cc96",
           "#ab63fa",
           "#FFA15A",
           "#19d3f3",
           "#FF6692",
           "#B6E880",
           "#FF97FF",
           "#FECB52"
          ],
          "font": {
           "color": "#2a3f5f"
          },
          "geo": {
           "bgcolor": "white",
           "lakecolor": "white",
           "landcolor": "#E5ECF6",
           "showlakes": true,
           "showland": true,
           "subunitcolor": "white"
          },
          "hoverlabel": {
           "align": "left"
          },
          "hovermode": "closest",
          "mapbox": {
           "style": "light"
          },
          "paper_bgcolor": "white",
          "plot_bgcolor": "#E5ECF6",
          "polar": {
           "angularaxis": {
            "gridcolor": "white",
            "linecolor": "white",
            "ticks": ""
           },
           "bgcolor": "#E5ECF6",
           "radialaxis": {
            "gridcolor": "white",
            "linecolor": "white",
            "ticks": ""
           }
          },
          "scene": {
           "xaxis": {
            "backgroundcolor": "#E5ECF6",
            "gridcolor": "white",
            "gridwidth": 2,
            "linecolor": "white",
            "showbackground": true,
            "ticks": "",
            "zerolinecolor": "white"
           },
           "yaxis": {
            "backgroundcolor": "#E5ECF6",
            "gridcolor": "white",
            "gridwidth": 2,
            "linecolor": "white",
            "showbackground": true,
            "ticks": "",
            "zerolinecolor": "white"
           },
           "zaxis": {
            "backgroundcolor": "#E5ECF6",
            "gridcolor": "white",
            "gridwidth": 2,
            "linecolor": "white",
            "showbackground": true,
            "ticks": "",
            "zerolinecolor": "white"
           }
          },
          "shapedefaults": {
           "line": {
            "color": "#2a3f5f"
           }
          },
          "ternary": {
           "aaxis": {
            "gridcolor": "white",
            "linecolor": "white",
            "ticks": ""
           },
           "baxis": {
            "gridcolor": "white",
            "linecolor": "white",
            "ticks": ""
           },
           "bgcolor": "#E5ECF6",
           "caxis": {
            "gridcolor": "white",
            "linecolor": "white",
            "ticks": ""
           }
          },
          "title": {
           "x": 0.05
          },
          "xaxis": {
           "automargin": true,
           "gridcolor": "white",
           "linecolor": "white",
           "ticks": "",
           "title": {
            "standoff": 15
           },
           "zerolinecolor": "white",
           "zerolinewidth": 2
          },
          "yaxis": {
           "automargin": true,
           "gridcolor": "white",
           "linecolor": "white",
           "ticks": "",
           "title": {
            "standoff": 15
           },
           "zerolinecolor": "white",
           "zerolinewidth": 2
          }
         }
        },
        "title": {
         "text": "Loss"
        },
        "xaxis": {
         "title": {
          "text": "Epoch"
         }
        },
        "yaxis": {
         "title": {
          "text": "Loss"
         }
        }
       }
      },
      "text/html": [
       "<div>                            <div id=\"cdee64ab-a474-46e8-9c98-f4a5d558c822\" class=\"plotly-graph-div\" style=\"height:525px; width:100%;\"></div>            <script type=\"text/javascript\">                require([\"plotly\"], function(Plotly) {                    window.PLOTLYENV=window.PLOTLYENV || {};                                    if (document.getElementById(\"cdee64ab-a474-46e8-9c98-f4a5d558c822\")) {                    Plotly.newPlot(                        \"cdee64ab-a474-46e8-9c98-f4a5d558c822\",                        [{\"mode\":\"lines\",\"name\":\"val_loss\",\"y\":[0.32482126355171204,0.32246625423431396,0.3491019010543823,0.3818781077861786,0.39662060141563416,0.39160099625587463,0.3804176449775696,0.36898013949394226,0.35691797733306885,0.345567524433136,0.3341349959373474,0.32251548767089844,0.3104247450828552,0.29652470350265503,0.28494447469711304,0.2759479582309723,0.26825523376464844,0.26315805315971375,0.2575211524963379,0.25380566716194153,0.24938030540943146,0.2459675669670105,0.2415134757757187,0.23894663155078888,0.2371741235256195,0.23516038060188293,0.23314853012561798,0.23175957798957825,0.2306884080171585,0.23007357120513916,0.2289285659790039,0.2263493537902832,0.2268792986869812,0.22579579055309296,0.22403813898563385,0.22464945912361145,0.22389666736125946,0.22346235811710358,0.22150932252407074,0.22073690593242645,0.2218618392944336,0.2200857400894165,0.21934320032596588,0.21800801157951355,0.2172875851392746,0.2181493639945984,0.2177787572145462,0.21843543648719788,0.2164333164691925,0.21695655584335327,0.21689391136169434,0.2158842533826828,0.21355345845222473,0.2170352190732956,0.2152835726737976,0.2115258425474167,0.21341240406036377,0.21222878992557526,0.20891129970550537,0.21112848818302155,0.21208639442920685,0.21069715917110443,0.20954054594039917,0.20802830159664154,0.20645011961460114,0.20747940242290497,0.20776145160198212,0.20570868253707886,0.20659324526786804,0.20613227784633636,0.20317332446575165,0.20256264507770538,0.20274397730827332,0.20138216018676758,0.20237021148204803,0.2021801471710205,0.1980961561203003,0.20151077210903168,0.20072060823440552,0.20065712928771973,0.20073901116847992,0.200872540473938,0.20091456174850464,0.20048193633556366,0.20175263285636902,0.20337586104869843,0.20149026811122894,0.2011810839176178,0.20241627097129822,0.20295992493629456,0.20386750996112823,0.20208564400672913,0.20290255546569824,0.20456182956695557,0.20345142483711243,0.20258812606334686,0.20531107485294342,0.20432282984256744,0.20618946850299835,0.20634575188159943],\"type\":\"scatter\"}],                        {\"template\":{\"data\":{\"histogram2dcontour\":[{\"type\":\"histogram2dcontour\",\"colorbar\":{\"outlinewidth\":0,\"ticks\":\"\"},\"colorscale\":[[0.0,\"#0d0887\"],[0.1111111111111111,\"#46039f\"],[0.2222222222222222,\"#7201a8\"],[0.3333333333333333,\"#9c179e\"],[0.4444444444444444,\"#bd3786\"],[0.5555555555555556,\"#d8576b\"],[0.6666666666666666,\"#ed7953\"],[0.7777777777777778,\"#fb9f3a\"],[0.8888888888888888,\"#fdca26\"],[1.0,\"#f0f921\"]]}],\"choropleth\":[{\"type\":\"choropleth\",\"colorbar\":{\"outlinewidth\":0,\"ticks\":\"\"}}],\"histogram2d\":[{\"type\":\"histogram2d\",\"colorbar\":{\"outlinewidth\":0,\"ticks\":\"\"},\"colorscale\":[[0.0,\"#0d0887\"],[0.1111111111111111,\"#46039f\"],[0.2222222222222222,\"#7201a8\"],[0.3333333333333333,\"#9c179e\"],[0.4444444444444444,\"#bd3786\"],[0.5555555555555556,\"#d8576b\"],[0.6666666666666666,\"#ed7953\"],[0.7777777777777778,\"#fb9f3a\"],[0.8888888888888888,\"#fdca26\"],[1.0,\"#f0f921\"]]}],\"heatmap\":[{\"type\":\"heatmap\",\"colorbar\":{\"outlinewidth\":0,\"ticks\":\"\"},\"colorscale\":[[0.0,\"#0d0887\"],[0.1111111111111111,\"#46039f\"],[0.2222222222222222,\"#7201a8\"],[0.3333333333333333,\"#9c179e\"],[0.4444444444444444,\"#bd3786\"],[0.5555555555555556,\"#d8576b\"],[0.6666666666666666,\"#ed7953\"],[0.7777777777777778,\"#fb9f3a\"],[0.8888888888888888,\"#fdca26\"],[1.0,\"#f0f921\"]]}],\"heatmapgl\":[{\"type\":\"heatmapgl\",\"colorbar\":{\"outlinewidth\":0,\"ticks\":\"\"},\"colorscale\":[[0.0,\"#0d0887\"],[0.1111111111111111,\"#46039f\"],[0.2222222222222222,\"#7201a8\"],[0.3333333333333333,\"#9c179e\"],[0.4444444444444444,\"#bd3786\"],[0.5555555555555556,\"#d8576b\"],[0.6666666666666666,\"#ed7953\"],[0.7777777777777778,\"#fb9f3a\"],[0.8888888888888888,\"#fdca26\"],[1.0,\"#f0f921\"]]}],\"contourcarpet\":[{\"type\":\"contourcarpet\",\"colorbar\":{\"outlinewidth\":0,\"ticks\":\"\"}}],\"contour\":[{\"type\":\"contour\",\"colorbar\":{\"outlinewidth\":0,\"ticks\":\"\"},\"colorscale\":[[0.0,\"#0d0887\"],[0.1111111111111111,\"#46039f\"],[0.2222222222222222,\"#7201a8\"],[0.3333333333333333,\"#9c179e\"],[0.4444444444444444,\"#bd3786\"],[0.5555555555555556,\"#d8576b\"],[0.6666666666666666,\"#ed7953\"],[0.7777777777777778,\"#fb9f3a\"],[0.8888888888888888,\"#fdca26\"],[1.0,\"#f0f921\"]]}],\"surface\":[{\"type\":\"surface\",\"colorbar\":{\"outlinewidth\":0,\"ticks\":\"\"},\"colorscale\":[[0.0,\"#0d0887\"],[0.1111111111111111,\"#46039f\"],[0.2222222222222222,\"#7201a8\"],[0.3333333333333333,\"#9c179e\"],[0.4444444444444444,\"#bd3786\"],[0.5555555555555556,\"#d8576b\"],[0.6666666666666666,\"#ed7953\"],[0.7777777777777778,\"#fb9f3a\"],[0.8888888888888888,\"#fdca26\"],[1.0,\"#f0f921\"]]}],\"mesh3d\":[{\"type\":\"mesh3d\",\"colorbar\":{\"outlinewidth\":0,\"ticks\":\"\"}}],\"scatter\":[{\"fillpattern\":{\"fillmode\":\"overlay\",\"size\":10,\"solidity\":0.2},\"type\":\"scatter\"}],\"parcoords\":[{\"type\":\"parcoords\",\"line\":{\"colorbar\":{\"outlinewidth\":0,\"ticks\":\"\"}}}],\"scatterpolargl\":[{\"type\":\"scatterpolargl\",\"marker\":{\"colorbar\":{\"outlinewidth\":0,\"ticks\":\"\"}}}],\"bar\":[{\"error_x\":{\"color\":\"#2a3f5f\"},\"error_y\":{\"color\":\"#2a3f5f\"},\"marker\":{\"line\":{\"color\":\"#E5ECF6\",\"width\":0.5},\"pattern\":{\"fillmode\":\"overlay\",\"size\":10,\"solidity\":0.2}},\"type\":\"bar\"}],\"scattergeo\":[{\"type\":\"scattergeo\",\"marker\":{\"colorbar\":{\"outlinewidth\":0,\"ticks\":\"\"}}}],\"scatterpolar\":[{\"type\":\"scatterpolar\",\"marker\":{\"colorbar\":{\"outlinewidth\":0,\"ticks\":\"\"}}}],\"histogram\":[{\"marker\":{\"pattern\":{\"fillmode\":\"overlay\",\"size\":10,\"solidity\":0.2}},\"type\":\"histogram\"}],\"scattergl\":[{\"type\":\"scattergl\",\"marker\":{\"colorbar\":{\"outlinewidth\":0,\"ticks\":\"\"}}}],\"scatter3d\":[{\"type\":\"scatter3d\",\"line\":{\"colorbar\":{\"outlinewidth\":0,\"ticks\":\"\"}},\"marker\":{\"colorbar\":{\"outlinewidth\":0,\"ticks\":\"\"}}}],\"scattermapbox\":[{\"type\":\"scattermapbox\",\"marker\":{\"colorbar\":{\"outlinewidth\":0,\"ticks\":\"\"}}}],\"scatterternary\":[{\"type\":\"scatterternary\",\"marker\":{\"colorbar\":{\"outlinewidth\":0,\"ticks\":\"\"}}}],\"scattercarpet\":[{\"type\":\"scattercarpet\",\"marker\":{\"colorbar\":{\"outlinewidth\":0,\"ticks\":\"\"}}}],\"carpet\":[{\"aaxis\":{\"endlinecolor\":\"#2a3f5f\",\"gridcolor\":\"white\",\"linecolor\":\"white\",\"minorgridcolor\":\"white\",\"startlinecolor\":\"#2a3f5f\"},\"baxis\":{\"endlinecolor\":\"#2a3f5f\",\"gridcolor\":\"white\",\"linecolor\":\"white\",\"minorgridcolor\":\"white\",\"startlinecolor\":\"#2a3f5f\"},\"type\":\"carpet\"}],\"table\":[{\"cells\":{\"fill\":{\"color\":\"#EBF0F8\"},\"line\":{\"color\":\"white\"}},\"header\":{\"fill\":{\"color\":\"#C8D4E3\"},\"line\":{\"color\":\"white\"}},\"type\":\"table\"}],\"barpolar\":[{\"marker\":{\"line\":{\"color\":\"#E5ECF6\",\"width\":0.5},\"pattern\":{\"fillmode\":\"overlay\",\"size\":10,\"solidity\":0.2}},\"type\":\"barpolar\"}],\"pie\":[{\"automargin\":true,\"type\":\"pie\"}]},\"layout\":{\"autotypenumbers\":\"strict\",\"colorway\":[\"#636efa\",\"#EF553B\",\"#00cc96\",\"#ab63fa\",\"#FFA15A\",\"#19d3f3\",\"#FF6692\",\"#B6E880\",\"#FF97FF\",\"#FECB52\"],\"font\":{\"color\":\"#2a3f5f\"},\"hovermode\":\"closest\",\"hoverlabel\":{\"align\":\"left\"},\"paper_bgcolor\":\"white\",\"plot_bgcolor\":\"#E5ECF6\",\"polar\":{\"bgcolor\":\"#E5ECF6\",\"angularaxis\":{\"gridcolor\":\"white\",\"linecolor\":\"white\",\"ticks\":\"\"},\"radialaxis\":{\"gridcolor\":\"white\",\"linecolor\":\"white\",\"ticks\":\"\"}},\"ternary\":{\"bgcolor\":\"#E5ECF6\",\"aaxis\":{\"gridcolor\":\"white\",\"linecolor\":\"white\",\"ticks\":\"\"},\"baxis\":{\"gridcolor\":\"white\",\"linecolor\":\"white\",\"ticks\":\"\"},\"caxis\":{\"gridcolor\":\"white\",\"linecolor\":\"white\",\"ticks\":\"\"}},\"coloraxis\":{\"colorbar\":{\"outlinewidth\":0,\"ticks\":\"\"}},\"colorscale\":{\"sequential\":[[0.0,\"#0d0887\"],[0.1111111111111111,\"#46039f\"],[0.2222222222222222,\"#7201a8\"],[0.3333333333333333,\"#9c179e\"],[0.4444444444444444,\"#bd3786\"],[0.5555555555555556,\"#d8576b\"],[0.6666666666666666,\"#ed7953\"],[0.7777777777777778,\"#fb9f3a\"],[0.8888888888888888,\"#fdca26\"],[1.0,\"#f0f921\"]],\"sequentialminus\":[[0.0,\"#0d0887\"],[0.1111111111111111,\"#46039f\"],[0.2222222222222222,\"#7201a8\"],[0.3333333333333333,\"#9c179e\"],[0.4444444444444444,\"#bd3786\"],[0.5555555555555556,\"#d8576b\"],[0.6666666666666666,\"#ed7953\"],[0.7777777777777778,\"#fb9f3a\"],[0.8888888888888888,\"#fdca26\"],[1.0,\"#f0f921\"]],\"diverging\":[[0,\"#8e0152\"],[0.1,\"#c51b7d\"],[0.2,\"#de77ae\"],[0.3,\"#f1b6da\"],[0.4,\"#fde0ef\"],[0.5,\"#f7f7f7\"],[0.6,\"#e6f5d0\"],[0.7,\"#b8e186\"],[0.8,\"#7fbc41\"],[0.9,\"#4d9221\"],[1,\"#276419\"]]},\"xaxis\":{\"gridcolor\":\"white\",\"linecolor\":\"white\",\"ticks\":\"\",\"title\":{\"standoff\":15},\"zerolinecolor\":\"white\",\"automargin\":true,\"zerolinewidth\":2},\"yaxis\":{\"gridcolor\":\"white\",\"linecolor\":\"white\",\"ticks\":\"\",\"title\":{\"standoff\":15},\"zerolinecolor\":\"white\",\"automargin\":true,\"zerolinewidth\":2},\"scene\":{\"xaxis\":{\"backgroundcolor\":\"#E5ECF6\",\"gridcolor\":\"white\",\"linecolor\":\"white\",\"showbackground\":true,\"ticks\":\"\",\"zerolinecolor\":\"white\",\"gridwidth\":2},\"yaxis\":{\"backgroundcolor\":\"#E5ECF6\",\"gridcolor\":\"white\",\"linecolor\":\"white\",\"showbackground\":true,\"ticks\":\"\",\"zerolinecolor\":\"white\",\"gridwidth\":2},\"zaxis\":{\"backgroundcolor\":\"#E5ECF6\",\"gridcolor\":\"white\",\"linecolor\":\"white\",\"showbackground\":true,\"ticks\":\"\",\"zerolinecolor\":\"white\",\"gridwidth\":2}},\"shapedefaults\":{\"line\":{\"color\":\"#2a3f5f\"}},\"annotationdefaults\":{\"arrowcolor\":\"#2a3f5f\",\"arrowhead\":0,\"arrowwidth\":1},\"geo\":{\"bgcolor\":\"white\",\"landcolor\":\"#E5ECF6\",\"subunitcolor\":\"white\",\"showland\":true,\"showlakes\":true,\"lakecolor\":\"white\"},\"title\":{\"x\":0.05},\"mapbox\":{\"style\":\"light\"}}},\"title\":{\"text\":\"Loss\"},\"xaxis\":{\"title\":{\"text\":\"Epoch\"}},\"yaxis\":{\"title\":{\"text\":\"Loss\"}}},                        {\"responsive\": true}                    ).then(function(){\n",
       "                            \n",
       "var gd = document.getElementById('cdee64ab-a474-46e8-9c98-f4a5d558c822');\n",
       "var x = new MutationObserver(function (mutations, observer) {{\n",
       "        var display = window.getComputedStyle(gd).display;\n",
       "        if (!display || display === 'none') {{\n",
       "            console.log([gd, 'removed!']);\n",
       "            Plotly.purge(gd);\n",
       "            observer.disconnect();\n",
       "        }}\n",
       "}});\n",
       "\n",
       "// Listen for the removal of the full notebook cells\n",
       "var notebookContainer = gd.closest('#notebook-container');\n",
       "if (notebookContainer) {{\n",
       "    x.observe(notebookContainer, {childList: true});\n",
       "}}\n",
       "\n",
       "// Listen for the clearing of the current output cell\n",
       "var outputEl = gd.closest('.output');\n",
       "if (outputEl) {{\n",
       "    x.observe(outputEl, {childList: true});\n",
       "}}\n",
       "\n",
       "                        })                };                });            </script>        </div>"
      ]
     },
     "metadata": {},
     "output_type": "display_data"
    }
   ],
   "source": [
    "# plot loss\n",
    "fig = go.Figure()\n",
    "# fig.add_trace(go.Scatter(y=lstm_history.history['loss'], mode='lines', name='loss'))\n",
    "fig.add_trace(go.Scatter(y=lstm_history.history['val_loss'], mode='lines', name='val_loss'))\n",
    "fig.update_layout(title='Loss', xaxis_title='Epoch', yaxis_title='Loss')\n",
    "fig.show()\n",
    "\n",
    "# save figure\n",
    "fig.write_image(\"lstm_loss.png\")"
   ]
  },
  {
   "cell_type": "code",
   "execution_count": 57,
   "metadata": {},
   "outputs": [
    {
     "data": {
      "application/vnd.plotly.v1+json": {
       "config": {
        "plotlyServerURL": "https://plot.ly"
       },
       "data": [
        {
         "mode": "lines",
         "name": "val_accuracy",
         "type": "scatter",
         "y": [
          0.9078734517097473,
          0.9078734517097473,
          0.9078734517097473,
          0.9078734517097473,
          0.9078734517097473,
          0.9078734517097473,
          0.9078734517097473,
          0.9239439964294434,
          0.9239439964294434,
          0.9239439964294434,
          0.9239439964294434,
          0.9239439964294434,
          0.9239439964294434,
          0.9239439964294434,
          0.9239439964294434,
          0.9239439964294434,
          0.9239439964294434,
          0.9239439964294434,
          0.9239439964294434,
          0.9239439964294434,
          0.9239439964294434,
          0.9239439964294434,
          0.9239439964294434,
          0.9239439964294434,
          0.9239439964294434,
          0.9239439964294434,
          0.9239439964294434,
          0.9239439964294434,
          0.9239439964294434,
          0.9239439964294434,
          0.9239439964294434,
          0.9239439964294434,
          0.9239439964294434,
          0.9239439964294434,
          0.9239439964294434,
          0.9239439964294434,
          0.9239439964294434,
          0.9239439964294434,
          0.9239439964294434,
          0.9239439964294434,
          0.9239439964294434,
          0.9239439964294434,
          0.9239439964294434,
          0.9239439964294434,
          0.9239439964294434,
          0.9239439964294434,
          0.9239439964294434,
          0.9239439964294434,
          0.9239439964294434,
          0.9239439964294434,
          0.9239439964294434,
          0.9239439964294434,
          0.9239439964294434,
          0.9239439964294434,
          0.9239439964294434,
          0.9239439964294434,
          0.9239439964294434,
          0.9239439964294434,
          0.9270129799842834,
          0.9239439964294434,
          0.9239439964294434,
          0.9257853627204895,
          0.9270129799842834,
          0.9306958317756653,
          0.9317002296447754,
          0.9315886497497559,
          0.9317002296447754,
          0.931979238986969,
          0.931979238986969,
          0.931979238986969,
          0.931979238986969,
          0.9386752843856812,
          0.9400144815444946,
          0.9400144815444946,
          0.9400144815444946,
          0.9400144815444946,
          0.9400144815444946,
          0.9400144815444946,
          0.931979238986969,
          0.931979238986969,
          0.931979238986969,
          0.931979238986969,
          0.931979238986969,
          0.931979238986969,
          0.931979238986969,
          0.931979238986969,
          0.931979238986969,
          0.931979238986969,
          0.931979238986969,
          0.931979238986969,
          0.931979238986969,
          0.931979238986969,
          0.931979238986969,
          0.931979238986969,
          0.931979238986969,
          0.931979238986969,
          0.931979238986969,
          0.931979238986969,
          0.931979238986969,
          0.931979238986969
         ]
        }
       ],
       "layout": {
        "template": {
         "data": {
          "bar": [
           {
            "error_x": {
             "color": "#2a3f5f"
            },
            "error_y": {
             "color": "#2a3f5f"
            },
            "marker": {
             "line": {
              "color": "#E5ECF6",
              "width": 0.5
             },
             "pattern": {
              "fillmode": "overlay",
              "size": 10,
              "solidity": 0.2
             }
            },
            "type": "bar"
           }
          ],
          "barpolar": [
           {
            "marker": {
             "line": {
              "color": "#E5ECF6",
              "width": 0.5
             },
             "pattern": {
              "fillmode": "overlay",
              "size": 10,
              "solidity": 0.2
             }
            },
            "type": "barpolar"
           }
          ],
          "carpet": [
           {
            "aaxis": {
             "endlinecolor": "#2a3f5f",
             "gridcolor": "white",
             "linecolor": "white",
             "minorgridcolor": "white",
             "startlinecolor": "#2a3f5f"
            },
            "baxis": {
             "endlinecolor": "#2a3f5f",
             "gridcolor": "white",
             "linecolor": "white",
             "minorgridcolor": "white",
             "startlinecolor": "#2a3f5f"
            },
            "type": "carpet"
           }
          ],
          "choropleth": [
           {
            "colorbar": {
             "outlinewidth": 0,
             "ticks": ""
            },
            "type": "choropleth"
           }
          ],
          "contour": [
           {
            "colorbar": {
             "outlinewidth": 0,
             "ticks": ""
            },
            "colorscale": [
             [
              0,
              "#0d0887"
             ],
             [
              0.1111111111111111,
              "#46039f"
             ],
             [
              0.2222222222222222,
              "#7201a8"
             ],
             [
              0.3333333333333333,
              "#9c179e"
             ],
             [
              0.4444444444444444,
              "#bd3786"
             ],
             [
              0.5555555555555556,
              "#d8576b"
             ],
             [
              0.6666666666666666,
              "#ed7953"
             ],
             [
              0.7777777777777778,
              "#fb9f3a"
             ],
             [
              0.8888888888888888,
              "#fdca26"
             ],
             [
              1,
              "#f0f921"
             ]
            ],
            "type": "contour"
           }
          ],
          "contourcarpet": [
           {
            "colorbar": {
             "outlinewidth": 0,
             "ticks": ""
            },
            "type": "contourcarpet"
           }
          ],
          "heatmap": [
           {
            "colorbar": {
             "outlinewidth": 0,
             "ticks": ""
            },
            "colorscale": [
             [
              0,
              "#0d0887"
             ],
             [
              0.1111111111111111,
              "#46039f"
             ],
             [
              0.2222222222222222,
              "#7201a8"
             ],
             [
              0.3333333333333333,
              "#9c179e"
             ],
             [
              0.4444444444444444,
              "#bd3786"
             ],
             [
              0.5555555555555556,
              "#d8576b"
             ],
             [
              0.6666666666666666,
              "#ed7953"
             ],
             [
              0.7777777777777778,
              "#fb9f3a"
             ],
             [
              0.8888888888888888,
              "#fdca26"
             ],
             [
              1,
              "#f0f921"
             ]
            ],
            "type": "heatmap"
           }
          ],
          "heatmapgl": [
           {
            "colorbar": {
             "outlinewidth": 0,
             "ticks": ""
            },
            "colorscale": [
             [
              0,
              "#0d0887"
             ],
             [
              0.1111111111111111,
              "#46039f"
             ],
             [
              0.2222222222222222,
              "#7201a8"
             ],
             [
              0.3333333333333333,
              "#9c179e"
             ],
             [
              0.4444444444444444,
              "#bd3786"
             ],
             [
              0.5555555555555556,
              "#d8576b"
             ],
             [
              0.6666666666666666,
              "#ed7953"
             ],
             [
              0.7777777777777778,
              "#fb9f3a"
             ],
             [
              0.8888888888888888,
              "#fdca26"
             ],
             [
              1,
              "#f0f921"
             ]
            ],
            "type": "heatmapgl"
           }
          ],
          "histogram": [
           {
            "marker": {
             "pattern": {
              "fillmode": "overlay",
              "size": 10,
              "solidity": 0.2
             }
            },
            "type": "histogram"
           }
          ],
          "histogram2d": [
           {
            "colorbar": {
             "outlinewidth": 0,
             "ticks": ""
            },
            "colorscale": [
             [
              0,
              "#0d0887"
             ],
             [
              0.1111111111111111,
              "#46039f"
             ],
             [
              0.2222222222222222,
              "#7201a8"
             ],
             [
              0.3333333333333333,
              "#9c179e"
             ],
             [
              0.4444444444444444,
              "#bd3786"
             ],
             [
              0.5555555555555556,
              "#d8576b"
             ],
             [
              0.6666666666666666,
              "#ed7953"
             ],
             [
              0.7777777777777778,
              "#fb9f3a"
             ],
             [
              0.8888888888888888,
              "#fdca26"
             ],
             [
              1,
              "#f0f921"
             ]
            ],
            "type": "histogram2d"
           }
          ],
          "histogram2dcontour": [
           {
            "colorbar": {
             "outlinewidth": 0,
             "ticks": ""
            },
            "colorscale": [
             [
              0,
              "#0d0887"
             ],
             [
              0.1111111111111111,
              "#46039f"
             ],
             [
              0.2222222222222222,
              "#7201a8"
             ],
             [
              0.3333333333333333,
              "#9c179e"
             ],
             [
              0.4444444444444444,
              "#bd3786"
             ],
             [
              0.5555555555555556,
              "#d8576b"
             ],
             [
              0.6666666666666666,
              "#ed7953"
             ],
             [
              0.7777777777777778,
              "#fb9f3a"
             ],
             [
              0.8888888888888888,
              "#fdca26"
             ],
             [
              1,
              "#f0f921"
             ]
            ],
            "type": "histogram2dcontour"
           }
          ],
          "mesh3d": [
           {
            "colorbar": {
             "outlinewidth": 0,
             "ticks": ""
            },
            "type": "mesh3d"
           }
          ],
          "parcoords": [
           {
            "line": {
             "colorbar": {
              "outlinewidth": 0,
              "ticks": ""
             }
            },
            "type": "parcoords"
           }
          ],
          "pie": [
           {
            "automargin": true,
            "type": "pie"
           }
          ],
          "scatter": [
           {
            "fillpattern": {
             "fillmode": "overlay",
             "size": 10,
             "solidity": 0.2
            },
            "type": "scatter"
           }
          ],
          "scatter3d": [
           {
            "line": {
             "colorbar": {
              "outlinewidth": 0,
              "ticks": ""
             }
            },
            "marker": {
             "colorbar": {
              "outlinewidth": 0,
              "ticks": ""
             }
            },
            "type": "scatter3d"
           }
          ],
          "scattercarpet": [
           {
            "marker": {
             "colorbar": {
              "outlinewidth": 0,
              "ticks": ""
             }
            },
            "type": "scattercarpet"
           }
          ],
          "scattergeo": [
           {
            "marker": {
             "colorbar": {
              "outlinewidth": 0,
              "ticks": ""
             }
            },
            "type": "scattergeo"
           }
          ],
          "scattergl": [
           {
            "marker": {
             "colorbar": {
              "outlinewidth": 0,
              "ticks": ""
             }
            },
            "type": "scattergl"
           }
          ],
          "scattermapbox": [
           {
            "marker": {
             "colorbar": {
              "outlinewidth": 0,
              "ticks": ""
             }
            },
            "type": "scattermapbox"
           }
          ],
          "scatterpolar": [
           {
            "marker": {
             "colorbar": {
              "outlinewidth": 0,
              "ticks": ""
             }
            },
            "type": "scatterpolar"
           }
          ],
          "scatterpolargl": [
           {
            "marker": {
             "colorbar": {
              "outlinewidth": 0,
              "ticks": ""
             }
            },
            "type": "scatterpolargl"
           }
          ],
          "scatterternary": [
           {
            "marker": {
             "colorbar": {
              "outlinewidth": 0,
              "ticks": ""
             }
            },
            "type": "scatterternary"
           }
          ],
          "surface": [
           {
            "colorbar": {
             "outlinewidth": 0,
             "ticks": ""
            },
            "colorscale": [
             [
              0,
              "#0d0887"
             ],
             [
              0.1111111111111111,
              "#46039f"
             ],
             [
              0.2222222222222222,
              "#7201a8"
             ],
             [
              0.3333333333333333,
              "#9c179e"
             ],
             [
              0.4444444444444444,
              "#bd3786"
             ],
             [
              0.5555555555555556,
              "#d8576b"
             ],
             [
              0.6666666666666666,
              "#ed7953"
             ],
             [
              0.7777777777777778,
              "#fb9f3a"
             ],
             [
              0.8888888888888888,
              "#fdca26"
             ],
             [
              1,
              "#f0f921"
             ]
            ],
            "type": "surface"
           }
          ],
          "table": [
           {
            "cells": {
             "fill": {
              "color": "#EBF0F8"
             },
             "line": {
              "color": "white"
             }
            },
            "header": {
             "fill": {
              "color": "#C8D4E3"
             },
             "line": {
              "color": "white"
             }
            },
            "type": "table"
           }
          ]
         },
         "layout": {
          "annotationdefaults": {
           "arrowcolor": "#2a3f5f",
           "arrowhead": 0,
           "arrowwidth": 1
          },
          "autotypenumbers": "strict",
          "coloraxis": {
           "colorbar": {
            "outlinewidth": 0,
            "ticks": ""
           }
          },
          "colorscale": {
           "diverging": [
            [
             0,
             "#8e0152"
            ],
            [
             0.1,
             "#c51b7d"
            ],
            [
             0.2,
             "#de77ae"
            ],
            [
             0.3,
             "#f1b6da"
            ],
            [
             0.4,
             "#fde0ef"
            ],
            [
             0.5,
             "#f7f7f7"
            ],
            [
             0.6,
             "#e6f5d0"
            ],
            [
             0.7,
             "#b8e186"
            ],
            [
             0.8,
             "#7fbc41"
            ],
            [
             0.9,
             "#4d9221"
            ],
            [
             1,
             "#276419"
            ]
           ],
           "sequential": [
            [
             0,
             "#0d0887"
            ],
            [
             0.1111111111111111,
             "#46039f"
            ],
            [
             0.2222222222222222,
             "#7201a8"
            ],
            [
             0.3333333333333333,
             "#9c179e"
            ],
            [
             0.4444444444444444,
             "#bd3786"
            ],
            [
             0.5555555555555556,
             "#d8576b"
            ],
            [
             0.6666666666666666,
             "#ed7953"
            ],
            [
             0.7777777777777778,
             "#fb9f3a"
            ],
            [
             0.8888888888888888,
             "#fdca26"
            ],
            [
             1,
             "#f0f921"
            ]
           ],
           "sequentialminus": [
            [
             0,
             "#0d0887"
            ],
            [
             0.1111111111111111,
             "#46039f"
            ],
            [
             0.2222222222222222,
             "#7201a8"
            ],
            [
             0.3333333333333333,
             "#9c179e"
            ],
            [
             0.4444444444444444,
             "#bd3786"
            ],
            [
             0.5555555555555556,
             "#d8576b"
            ],
            [
             0.6666666666666666,
             "#ed7953"
            ],
            [
             0.7777777777777778,
             "#fb9f3a"
            ],
            [
             0.8888888888888888,
             "#fdca26"
            ],
            [
             1,
             "#f0f921"
            ]
           ]
          },
          "colorway": [
           "#636efa",
           "#EF553B",
           "#00cc96",
           "#ab63fa",
           "#FFA15A",
           "#19d3f3",
           "#FF6692",
           "#B6E880",
           "#FF97FF",
           "#FECB52"
          ],
          "font": {
           "color": "#2a3f5f"
          },
          "geo": {
           "bgcolor": "white",
           "lakecolor": "white",
           "landcolor": "#E5ECF6",
           "showlakes": true,
           "showland": true,
           "subunitcolor": "white"
          },
          "hoverlabel": {
           "align": "left"
          },
          "hovermode": "closest",
          "mapbox": {
           "style": "light"
          },
          "paper_bgcolor": "white",
          "plot_bgcolor": "#E5ECF6",
          "polar": {
           "angularaxis": {
            "gridcolor": "white",
            "linecolor": "white",
            "ticks": ""
           },
           "bgcolor": "#E5ECF6",
           "radialaxis": {
            "gridcolor": "white",
            "linecolor": "white",
            "ticks": ""
           }
          },
          "scene": {
           "xaxis": {
            "backgroundcolor": "#E5ECF6",
            "gridcolor": "white",
            "gridwidth": 2,
            "linecolor": "white",
            "showbackground": true,
            "ticks": "",
            "zerolinecolor": "white"
           },
           "yaxis": {
            "backgroundcolor": "#E5ECF6",
            "gridcolor": "white",
            "gridwidth": 2,
            "linecolor": "white",
            "showbackground": true,
            "ticks": "",
            "zerolinecolor": "white"
           },
           "zaxis": {
            "backgroundcolor": "#E5ECF6",
            "gridcolor": "white",
            "gridwidth": 2,
            "linecolor": "white",
            "showbackground": true,
            "ticks": "",
            "zerolinecolor": "white"
           }
          },
          "shapedefaults": {
           "line": {
            "color": "#2a3f5f"
           }
          },
          "ternary": {
           "aaxis": {
            "gridcolor": "white",
            "linecolor": "white",
            "ticks": ""
           },
           "baxis": {
            "gridcolor": "white",
            "linecolor": "white",
            "ticks": ""
           },
           "bgcolor": "#E5ECF6",
           "caxis": {
            "gridcolor": "white",
            "linecolor": "white",
            "ticks": ""
           }
          },
          "title": {
           "x": 0.05
          },
          "xaxis": {
           "automargin": true,
           "gridcolor": "white",
           "linecolor": "white",
           "ticks": "",
           "title": {
            "standoff": 15
           },
           "zerolinecolor": "white",
           "zerolinewidth": 2
          },
          "yaxis": {
           "automargin": true,
           "gridcolor": "white",
           "linecolor": "white",
           "ticks": "",
           "title": {
            "standoff": 15
           },
           "zerolinecolor": "white",
           "zerolinewidth": 2
          }
         }
        },
        "title": {
         "text": "Accuracy"
        },
        "xaxis": {
         "title": {
          "text": "Epoch"
         }
        },
        "yaxis": {
         "title": {
          "text": "Accuracy"
         }
        }
       }
      },
      "text/html": [
       "<div>                            <div id=\"4e5639bd-5aed-44f8-8646-bb5d1d552b2e\" class=\"plotly-graph-div\" style=\"height:525px; width:100%;\"></div>            <script type=\"text/javascript\">                require([\"plotly\"], function(Plotly) {                    window.PLOTLYENV=window.PLOTLYENV || {};                                    if (document.getElementById(\"4e5639bd-5aed-44f8-8646-bb5d1d552b2e\")) {                    Plotly.newPlot(                        \"4e5639bd-5aed-44f8-8646-bb5d1d552b2e\",                        [{\"mode\":\"lines\",\"name\":\"val_accuracy\",\"y\":[0.9078734517097473,0.9078734517097473,0.9078734517097473,0.9078734517097473,0.9078734517097473,0.9078734517097473,0.9078734517097473,0.9239439964294434,0.9239439964294434,0.9239439964294434,0.9239439964294434,0.9239439964294434,0.9239439964294434,0.9239439964294434,0.9239439964294434,0.9239439964294434,0.9239439964294434,0.9239439964294434,0.9239439964294434,0.9239439964294434,0.9239439964294434,0.9239439964294434,0.9239439964294434,0.9239439964294434,0.9239439964294434,0.9239439964294434,0.9239439964294434,0.9239439964294434,0.9239439964294434,0.9239439964294434,0.9239439964294434,0.9239439964294434,0.9239439964294434,0.9239439964294434,0.9239439964294434,0.9239439964294434,0.9239439964294434,0.9239439964294434,0.9239439964294434,0.9239439964294434,0.9239439964294434,0.9239439964294434,0.9239439964294434,0.9239439964294434,0.9239439964294434,0.9239439964294434,0.9239439964294434,0.9239439964294434,0.9239439964294434,0.9239439964294434,0.9239439964294434,0.9239439964294434,0.9239439964294434,0.9239439964294434,0.9239439964294434,0.9239439964294434,0.9239439964294434,0.9239439964294434,0.9270129799842834,0.9239439964294434,0.9239439964294434,0.9257853627204895,0.9270129799842834,0.9306958317756653,0.9317002296447754,0.9315886497497559,0.9317002296447754,0.931979238986969,0.931979238986969,0.931979238986969,0.931979238986969,0.9386752843856812,0.9400144815444946,0.9400144815444946,0.9400144815444946,0.9400144815444946,0.9400144815444946,0.9400144815444946,0.931979238986969,0.931979238986969,0.931979238986969,0.931979238986969,0.931979238986969,0.931979238986969,0.931979238986969,0.931979238986969,0.931979238986969,0.931979238986969,0.931979238986969,0.931979238986969,0.931979238986969,0.931979238986969,0.931979238986969,0.931979238986969,0.931979238986969,0.931979238986969,0.931979238986969,0.931979238986969,0.931979238986969,0.931979238986969],\"type\":\"scatter\"}],                        {\"template\":{\"data\":{\"histogram2dcontour\":[{\"type\":\"histogram2dcontour\",\"colorbar\":{\"outlinewidth\":0,\"ticks\":\"\"},\"colorscale\":[[0.0,\"#0d0887\"],[0.1111111111111111,\"#46039f\"],[0.2222222222222222,\"#7201a8\"],[0.3333333333333333,\"#9c179e\"],[0.4444444444444444,\"#bd3786\"],[0.5555555555555556,\"#d8576b\"],[0.6666666666666666,\"#ed7953\"],[0.7777777777777778,\"#fb9f3a\"],[0.8888888888888888,\"#fdca26\"],[1.0,\"#f0f921\"]]}],\"choropleth\":[{\"type\":\"choropleth\",\"colorbar\":{\"outlinewidth\":0,\"ticks\":\"\"}}],\"histogram2d\":[{\"type\":\"histogram2d\",\"colorbar\":{\"outlinewidth\":0,\"ticks\":\"\"},\"colorscale\":[[0.0,\"#0d0887\"],[0.1111111111111111,\"#46039f\"],[0.2222222222222222,\"#7201a8\"],[0.3333333333333333,\"#9c179e\"],[0.4444444444444444,\"#bd3786\"],[0.5555555555555556,\"#d8576b\"],[0.6666666666666666,\"#ed7953\"],[0.7777777777777778,\"#fb9f3a\"],[0.8888888888888888,\"#fdca26\"],[1.0,\"#f0f921\"]]}],\"heatmap\":[{\"type\":\"heatmap\",\"colorbar\":{\"outlinewidth\":0,\"ticks\":\"\"},\"colorscale\":[[0.0,\"#0d0887\"],[0.1111111111111111,\"#46039f\"],[0.2222222222222222,\"#7201a8\"],[0.3333333333333333,\"#9c179e\"],[0.4444444444444444,\"#bd3786\"],[0.5555555555555556,\"#d8576b\"],[0.6666666666666666,\"#ed7953\"],[0.7777777777777778,\"#fb9f3a\"],[0.8888888888888888,\"#fdca26\"],[1.0,\"#f0f921\"]]}],\"heatmapgl\":[{\"type\":\"heatmapgl\",\"colorbar\":{\"outlinewidth\":0,\"ticks\":\"\"},\"colorscale\":[[0.0,\"#0d0887\"],[0.1111111111111111,\"#46039f\"],[0.2222222222222222,\"#7201a8\"],[0.3333333333333333,\"#9c179e\"],[0.4444444444444444,\"#bd3786\"],[0.5555555555555556,\"#d8576b\"],[0.6666666666666666,\"#ed7953\"],[0.7777777777777778,\"#fb9f3a\"],[0.8888888888888888,\"#fdca26\"],[1.0,\"#f0f921\"]]}],\"contourcarpet\":[{\"type\":\"contourcarpet\",\"colorbar\":{\"outlinewidth\":0,\"ticks\":\"\"}}],\"contour\":[{\"type\":\"contour\",\"colorbar\":{\"outlinewidth\":0,\"ticks\":\"\"},\"colorscale\":[[0.0,\"#0d0887\"],[0.1111111111111111,\"#46039f\"],[0.2222222222222222,\"#7201a8\"],[0.3333333333333333,\"#9c179e\"],[0.4444444444444444,\"#bd3786\"],[0.5555555555555556,\"#d8576b\"],[0.6666666666666666,\"#ed7953\"],[0.7777777777777778,\"#fb9f3a\"],[0.8888888888888888,\"#fdca26\"],[1.0,\"#f0f921\"]]}],\"surface\":[{\"type\":\"surface\",\"colorbar\":{\"outlinewidth\":0,\"ticks\":\"\"},\"colorscale\":[[0.0,\"#0d0887\"],[0.1111111111111111,\"#46039f\"],[0.2222222222222222,\"#7201a8\"],[0.3333333333333333,\"#9c179e\"],[0.4444444444444444,\"#bd3786\"],[0.5555555555555556,\"#d8576b\"],[0.6666666666666666,\"#ed7953\"],[0.7777777777777778,\"#fb9f3a\"],[0.8888888888888888,\"#fdca26\"],[1.0,\"#f0f921\"]]}],\"mesh3d\":[{\"type\":\"mesh3d\",\"colorbar\":{\"outlinewidth\":0,\"ticks\":\"\"}}],\"scatter\":[{\"fillpattern\":{\"fillmode\":\"overlay\",\"size\":10,\"solidity\":0.2},\"type\":\"scatter\"}],\"parcoords\":[{\"type\":\"parcoords\",\"line\":{\"colorbar\":{\"outlinewidth\":0,\"ticks\":\"\"}}}],\"scatterpolargl\":[{\"type\":\"scatterpolargl\",\"marker\":{\"colorbar\":{\"outlinewidth\":0,\"ticks\":\"\"}}}],\"bar\":[{\"error_x\":{\"color\":\"#2a3f5f\"},\"error_y\":{\"color\":\"#2a3f5f\"},\"marker\":{\"line\":{\"color\":\"#E5ECF6\",\"width\":0.5},\"pattern\":{\"fillmode\":\"overlay\",\"size\":10,\"solidity\":0.2}},\"type\":\"bar\"}],\"scattergeo\":[{\"type\":\"scattergeo\",\"marker\":{\"colorbar\":{\"outlinewidth\":0,\"ticks\":\"\"}}}],\"scatterpolar\":[{\"type\":\"scatterpolar\",\"marker\":{\"colorbar\":{\"outlinewidth\":0,\"ticks\":\"\"}}}],\"histogram\":[{\"marker\":{\"pattern\":{\"fillmode\":\"overlay\",\"size\":10,\"solidity\":0.2}},\"type\":\"histogram\"}],\"scattergl\":[{\"type\":\"scattergl\",\"marker\":{\"colorbar\":{\"outlinewidth\":0,\"ticks\":\"\"}}}],\"scatter3d\":[{\"type\":\"scatter3d\",\"line\":{\"colorbar\":{\"outlinewidth\":0,\"ticks\":\"\"}},\"marker\":{\"colorbar\":{\"outlinewidth\":0,\"ticks\":\"\"}}}],\"scattermapbox\":[{\"type\":\"scattermapbox\",\"marker\":{\"colorbar\":{\"outlinewidth\":0,\"ticks\":\"\"}}}],\"scatterternary\":[{\"type\":\"scatterternary\",\"marker\":{\"colorbar\":{\"outlinewidth\":0,\"ticks\":\"\"}}}],\"scattercarpet\":[{\"type\":\"scattercarpet\",\"marker\":{\"colorbar\":{\"outlinewidth\":0,\"ticks\":\"\"}}}],\"carpet\":[{\"aaxis\":{\"endlinecolor\":\"#2a3f5f\",\"gridcolor\":\"white\",\"linecolor\":\"white\",\"minorgridcolor\":\"white\",\"startlinecolor\":\"#2a3f5f\"},\"baxis\":{\"endlinecolor\":\"#2a3f5f\",\"gridcolor\":\"white\",\"linecolor\":\"white\",\"minorgridcolor\":\"white\",\"startlinecolor\":\"#2a3f5f\"},\"type\":\"carpet\"}],\"table\":[{\"cells\":{\"fill\":{\"color\":\"#EBF0F8\"},\"line\":{\"color\":\"white\"}},\"header\":{\"fill\":{\"color\":\"#C8D4E3\"},\"line\":{\"color\":\"white\"}},\"type\":\"table\"}],\"barpolar\":[{\"marker\":{\"line\":{\"color\":\"#E5ECF6\",\"width\":0.5},\"pattern\":{\"fillmode\":\"overlay\",\"size\":10,\"solidity\":0.2}},\"type\":\"barpolar\"}],\"pie\":[{\"automargin\":true,\"type\":\"pie\"}]},\"layout\":{\"autotypenumbers\":\"strict\",\"colorway\":[\"#636efa\",\"#EF553B\",\"#00cc96\",\"#ab63fa\",\"#FFA15A\",\"#19d3f3\",\"#FF6692\",\"#B6E880\",\"#FF97FF\",\"#FECB52\"],\"font\":{\"color\":\"#2a3f5f\"},\"hovermode\":\"closest\",\"hoverlabel\":{\"align\":\"left\"},\"paper_bgcolor\":\"white\",\"plot_bgcolor\":\"#E5ECF6\",\"polar\":{\"bgcolor\":\"#E5ECF6\",\"angularaxis\":{\"gridcolor\":\"white\",\"linecolor\":\"white\",\"ticks\":\"\"},\"radialaxis\":{\"gridcolor\":\"white\",\"linecolor\":\"white\",\"ticks\":\"\"}},\"ternary\":{\"bgcolor\":\"#E5ECF6\",\"aaxis\":{\"gridcolor\":\"white\",\"linecolor\":\"white\",\"ticks\":\"\"},\"baxis\":{\"gridcolor\":\"white\",\"linecolor\":\"white\",\"ticks\":\"\"},\"caxis\":{\"gridcolor\":\"white\",\"linecolor\":\"white\",\"ticks\":\"\"}},\"coloraxis\":{\"colorbar\":{\"outlinewidth\":0,\"ticks\":\"\"}},\"colorscale\":{\"sequential\":[[0.0,\"#0d0887\"],[0.1111111111111111,\"#46039f\"],[0.2222222222222222,\"#7201a8\"],[0.3333333333333333,\"#9c179e\"],[0.4444444444444444,\"#bd3786\"],[0.5555555555555556,\"#d8576b\"],[0.6666666666666666,\"#ed7953\"],[0.7777777777777778,\"#fb9f3a\"],[0.8888888888888888,\"#fdca26\"],[1.0,\"#f0f921\"]],\"sequentialminus\":[[0.0,\"#0d0887\"],[0.1111111111111111,\"#46039f\"],[0.2222222222222222,\"#7201a8\"],[0.3333333333333333,\"#9c179e\"],[0.4444444444444444,\"#bd3786\"],[0.5555555555555556,\"#d8576b\"],[0.6666666666666666,\"#ed7953\"],[0.7777777777777778,\"#fb9f3a\"],[0.8888888888888888,\"#fdca26\"],[1.0,\"#f0f921\"]],\"diverging\":[[0,\"#8e0152\"],[0.1,\"#c51b7d\"],[0.2,\"#de77ae\"],[0.3,\"#f1b6da\"],[0.4,\"#fde0ef\"],[0.5,\"#f7f7f7\"],[0.6,\"#e6f5d0\"],[0.7,\"#b8e186\"],[0.8,\"#7fbc41\"],[0.9,\"#4d9221\"],[1,\"#276419\"]]},\"xaxis\":{\"gridcolor\":\"white\",\"linecolor\":\"white\",\"ticks\":\"\",\"title\":{\"standoff\":15},\"zerolinecolor\":\"white\",\"automargin\":true,\"zerolinewidth\":2},\"yaxis\":{\"gridcolor\":\"white\",\"linecolor\":\"white\",\"ticks\":\"\",\"title\":{\"standoff\":15},\"zerolinecolor\":\"white\",\"automargin\":true,\"zerolinewidth\":2},\"scene\":{\"xaxis\":{\"backgroundcolor\":\"#E5ECF6\",\"gridcolor\":\"white\",\"linecolor\":\"white\",\"showbackground\":true,\"ticks\":\"\",\"zerolinecolor\":\"white\",\"gridwidth\":2},\"yaxis\":{\"backgroundcolor\":\"#E5ECF6\",\"gridcolor\":\"white\",\"linecolor\":\"white\",\"showbackground\":true,\"ticks\":\"\",\"zerolinecolor\":\"white\",\"gridwidth\":2},\"zaxis\":{\"backgroundcolor\":\"#E5ECF6\",\"gridcolor\":\"white\",\"linecolor\":\"white\",\"showbackground\":true,\"ticks\":\"\",\"zerolinecolor\":\"white\",\"gridwidth\":2}},\"shapedefaults\":{\"line\":{\"color\":\"#2a3f5f\"}},\"annotationdefaults\":{\"arrowcolor\":\"#2a3f5f\",\"arrowhead\":0,\"arrowwidth\":1},\"geo\":{\"bgcolor\":\"white\",\"landcolor\":\"#E5ECF6\",\"subunitcolor\":\"white\",\"showland\":true,\"showlakes\":true,\"lakecolor\":\"white\"},\"title\":{\"x\":0.05},\"mapbox\":{\"style\":\"light\"}}},\"title\":{\"text\":\"Accuracy\"},\"xaxis\":{\"title\":{\"text\":\"Epoch\"}},\"yaxis\":{\"title\":{\"text\":\"Accuracy\"}}},                        {\"responsive\": true}                    ).then(function(){\n",
       "                            \n",
       "var gd = document.getElementById('4e5639bd-5aed-44f8-8646-bb5d1d552b2e');\n",
       "var x = new MutationObserver(function (mutations, observer) {{\n",
       "        var display = window.getComputedStyle(gd).display;\n",
       "        if (!display || display === 'none') {{\n",
       "            console.log([gd, 'removed!']);\n",
       "            Plotly.purge(gd);\n",
       "            observer.disconnect();\n",
       "        }}\n",
       "}});\n",
       "\n",
       "// Listen for the removal of the full notebook cells\n",
       "var notebookContainer = gd.closest('#notebook-container');\n",
       "if (notebookContainer) {{\n",
       "    x.observe(notebookContainer, {childList: true});\n",
       "}}\n",
       "\n",
       "// Listen for the clearing of the current output cell\n",
       "var outputEl = gd.closest('.output');\n",
       "if (outputEl) {{\n",
       "    x.observe(outputEl, {childList: true});\n",
       "}}\n",
       "\n",
       "                        })                };                });            </script>        </div>"
      ]
     },
     "metadata": {},
     "output_type": "display_data"
    }
   ],
   "source": [
    "# plot accuracy\n",
    "fig = go.Figure()\n",
    "# fig.add_trace(go.Scatter(y=lstm_history.history['accuracy'], mode='lines', name='accuracy'))\n",
    "fig.add_trace(go.Scatter(y=lstm_history.history['val_accuracy'], mode='lines', name='val_accuracy'))\n",
    "fig.update_layout(title='Accuracy', xaxis_title='Epoch', yaxis_title='Accuracy')\n",
    "fig.show()\n",
    "\n",
    "# save figure\n",
    "fig.write_image(\"lstm_accuracy.png\")"
   ]
  },
  {
   "cell_type": "code",
   "execution_count": 58,
   "metadata": {},
   "outputs": [
    {
     "name": "stdout",
     "output_type": "stream",
     "text": [
      "17921\n",
      "17921\n"
     ]
    },
    {
     "data": {
      "text/html": [
       "<div>\n",
       "<style scoped>\n",
       "    .dataframe tbody tr th:only-of-type {\n",
       "        vertical-align: middle;\n",
       "    }\n",
       "\n",
       "    .dataframe tbody tr th {\n",
       "        vertical-align: top;\n",
       "    }\n",
       "\n",
       "    .dataframe thead th {\n",
       "        text-align: right;\n",
       "    }\n",
       "</style>\n",
       "<table border=\"1\" class=\"dataframe\">\n",
       "  <thead>\n",
       "    <tr style=\"text-align: right;\">\n",
       "      <th></th>\n",
       "      <th>Company</th>\n",
       "      <th>Custom-Return_x</th>\n",
       "      <th>EPS_MRQ_LC</th>\n",
       "      <th>EPS_TTM</th>\n",
       "      <th>EPS_MRQ</th>\n",
       "      <th>EPS_FY</th>\n",
       "      <th>Rev_TTM</th>\n",
       "      <th>Rev_MRQ</th>\n",
       "      <th>Rev_FY</th>\n",
       "      <th>NI_TTM</th>\n",
       "      <th>...</th>\n",
       "      <th>FCFEToNI</th>\n",
       "      <th>CAPEXToRev</th>\n",
       "      <th>CAPEXToNI</th>\n",
       "      <th>DivYield</th>\n",
       "      <th>year</th>\n",
       "      <th>y</th>\n",
       "      <th>mean_TSE_FY</th>\n",
       "      <th>mean_RE_FY</th>\n",
       "      <th>actual</th>\n",
       "      <th>pred</th>\n",
       "    </tr>\n",
       "  </thead>\n",
       "  <tbody>\n",
       "    <tr>\n",
       "      <th>102163</th>\n",
       "      <td>کارخانجات‌مخابراتی‌ایران‌</td>\n",
       "      <td>0.000001</td>\n",
       "      <td>0.315105</td>\n",
       "      <td>2.587749e-10</td>\n",
       "      <td>0.999973</td>\n",
       "      <td>0.001849</td>\n",
       "      <td>0.044723</td>\n",
       "      <td>0.054841</td>\n",
       "      <td>0.044723</td>\n",
       "      <td>0.318584</td>\n",
       "      <td>...</td>\n",
       "      <td>0.439617</td>\n",
       "      <td>0.978932</td>\n",
       "      <td>0.655904</td>\n",
       "      <td>0.0</td>\n",
       "      <td>1391</td>\n",
       "      <td>1</td>\n",
       "      <td>0.362208</td>\n",
       "      <td>0.606595</td>\n",
       "      <td>1</td>\n",
       "      <td>0.012426</td>\n",
       "    </tr>\n",
       "    <tr>\n",
       "      <th>102164</th>\n",
       "      <td>کارخانجات‌مخابراتی‌ایران‌</td>\n",
       "      <td>0.000001</td>\n",
       "      <td>0.315105</td>\n",
       "      <td>2.587749e-10</td>\n",
       "      <td>0.999973</td>\n",
       "      <td>0.001849</td>\n",
       "      <td>0.044723</td>\n",
       "      <td>0.054841</td>\n",
       "      <td>0.044723</td>\n",
       "      <td>0.318584</td>\n",
       "      <td>...</td>\n",
       "      <td>0.439617</td>\n",
       "      <td>0.978932</td>\n",
       "      <td>0.655904</td>\n",
       "      <td>0.0</td>\n",
       "      <td>1397</td>\n",
       "      <td>1</td>\n",
       "      <td>0.362208</td>\n",
       "      <td>0.606595</td>\n",
       "      <td>1</td>\n",
       "      <td>0.012425</td>\n",
       "    </tr>\n",
       "    <tr>\n",
       "      <th>102165</th>\n",
       "      <td>کارخانجات‌مخابراتی‌ایران‌</td>\n",
       "      <td>0.000001</td>\n",
       "      <td>0.315105</td>\n",
       "      <td>2.587749e-10</td>\n",
       "      <td>0.999973</td>\n",
       "      <td>0.001849</td>\n",
       "      <td>0.044723</td>\n",
       "      <td>0.054841</td>\n",
       "      <td>0.044723</td>\n",
       "      <td>0.318584</td>\n",
       "      <td>...</td>\n",
       "      <td>0.439617</td>\n",
       "      <td>0.978932</td>\n",
       "      <td>0.655904</td>\n",
       "      <td>0.0</td>\n",
       "      <td>1394</td>\n",
       "      <td>1</td>\n",
       "      <td>0.362208</td>\n",
       "      <td>0.606595</td>\n",
       "      <td>1</td>\n",
       "      <td>0.012425</td>\n",
       "    </tr>\n",
       "    <tr>\n",
       "      <th>102166</th>\n",
       "      <td>کارخانجات‌مخابراتی‌ایران‌</td>\n",
       "      <td>0.000001</td>\n",
       "      <td>0.315105</td>\n",
       "      <td>2.587749e-10</td>\n",
       "      <td>0.999973</td>\n",
       "      <td>0.001849</td>\n",
       "      <td>0.044723</td>\n",
       "      <td>0.054841</td>\n",
       "      <td>0.044723</td>\n",
       "      <td>0.318584</td>\n",
       "      <td>...</td>\n",
       "      <td>0.439617</td>\n",
       "      <td>0.978932</td>\n",
       "      <td>0.655881</td>\n",
       "      <td>0.0</td>\n",
       "      <td>1401</td>\n",
       "      <td>1</td>\n",
       "      <td>0.362208</td>\n",
       "      <td>0.606595</td>\n",
       "      <td>1</td>\n",
       "      <td>0.012506</td>\n",
       "    </tr>\n",
       "    <tr>\n",
       "      <th>102167</th>\n",
       "      <td>کارخانجات‌مخابراتی‌ایران‌</td>\n",
       "      <td>0.000001</td>\n",
       "      <td>0.315105</td>\n",
       "      <td>2.587749e-10</td>\n",
       "      <td>0.999973</td>\n",
       "      <td>0.001849</td>\n",
       "      <td>0.044723</td>\n",
       "      <td>0.054841</td>\n",
       "      <td>0.044723</td>\n",
       "      <td>0.318584</td>\n",
       "      <td>...</td>\n",
       "      <td>0.439617</td>\n",
       "      <td>0.978932</td>\n",
       "      <td>0.655904</td>\n",
       "      <td>0.0</td>\n",
       "      <td>1399</td>\n",
       "      <td>1</td>\n",
       "      <td>0.362208</td>\n",
       "      <td>0.606595</td>\n",
       "      <td>1</td>\n",
       "      <td>0.012426</td>\n",
       "    </tr>\n",
       "  </tbody>\n",
       "</table>\n",
       "<p>5 rows × 75 columns</p>\n",
       "</div>"
      ],
      "text/plain": [
       "                          Company  Custom-Return_x  EPS_MRQ_LC       EPS_TTM  \\\n",
       "102163  کارخانجات‌مخابراتی‌ایران‌         0.000001    0.315105  2.587749e-10   \n",
       "102164  کارخانجات‌مخابراتی‌ایران‌         0.000001    0.315105  2.587749e-10   \n",
       "102165  کارخانجات‌مخابراتی‌ایران‌         0.000001    0.315105  2.587749e-10   \n",
       "102166  کارخانجات‌مخابراتی‌ایران‌         0.000001    0.315105  2.587749e-10   \n",
       "102167  کارخانجات‌مخابراتی‌ایران‌         0.000001    0.315105  2.587749e-10   \n",
       "\n",
       "         EPS_MRQ    EPS_FY   Rev_TTM   Rev_MRQ    Rev_FY    NI_TTM  ...  \\\n",
       "102163  0.999973  0.001849  0.044723  0.054841  0.044723  0.318584  ...   \n",
       "102164  0.999973  0.001849  0.044723  0.054841  0.044723  0.318584  ...   \n",
       "102165  0.999973  0.001849  0.044723  0.054841  0.044723  0.318584  ...   \n",
       "102166  0.999973  0.001849  0.044723  0.054841  0.044723  0.318584  ...   \n",
       "102167  0.999973  0.001849  0.044723  0.054841  0.044723  0.318584  ...   \n",
       "\n",
       "        FCFEToNI  CAPEXToRev  CAPEXToNI  DivYield  year  y  mean_TSE_FY  \\\n",
       "102163  0.439617    0.978932   0.655904       0.0  1391  1     0.362208   \n",
       "102164  0.439617    0.978932   0.655904       0.0  1397  1     0.362208   \n",
       "102165  0.439617    0.978932   0.655904       0.0  1394  1     0.362208   \n",
       "102166  0.439617    0.978932   0.655881       0.0  1401  1     0.362208   \n",
       "102167  0.439617    0.978932   0.655904       0.0  1399  1     0.362208   \n",
       "\n",
       "        mean_RE_FY  actual      pred  \n",
       "102163    0.606595       1  0.012426  \n",
       "102164    0.606595       1  0.012425  \n",
       "102165    0.606595       1  0.012425  \n",
       "102166    0.606595       1  0.012506  \n",
       "102167    0.606595       1  0.012426  \n",
       "\n",
       "[5 rows x 75 columns]"
      ]
     },
     "execution_count": 58,
     "metadata": {},
     "output_type": "execute_result"
    }
   ],
   "source": [
    "print(len(df.iloc[int(x.shape[0] * .85):]))\n",
    "print(len(y_test))\n",
    "\n",
    "# create a df with the predictions and the actual values\n",
    "df_pred = pd.DataFrame(df.iloc[int(x.shape[0] * .85):])\n",
    "df_pred['actual'] = y_test\n",
    "df_pred['pred'] = y_pred\n",
    "df_pred.head()"
   ]
  },
  {
   "cell_type": "markdown",
   "metadata": {},
   "source": [
    "### RNN"
   ]
  },
  {
   "cell_type": "markdown",
   "metadata": {},
   "source": [
    "مدل RNN (Recurrent Neural Network) یا شبکه‌های عصبی بازگشتی جزء انواع پایه‌ای از شبکه‌های عصبی هستند که برای پردازش داده‌های سری زمانی یا دنباله‌ها طراحی شده‌اند. این مدل‌ها از واحدهای بازگشتی تشکیل شده‌اند که اطلاعات را از گام به گام زمانی انتقال می‌دهند.\n",
    "\n",
    "### الگوریتم:\n",
    "RNN‌ها از یک وزن مشترک برای همه گام‌های زمانی استفاده می‌کنند، و این باعث می‌شود تعداد پارامترها مستقل از طول دنباله باقی بماند. اما معیوب اصلی RNN‌ها مشکل ناپدید شدن گرادیان (vanishing gradient) است که ممکن است آموزش را سخت‌تر کند.\n",
    "\n",
    "### دلیل انتخاب برای این مسئله:\n",
    "RNN‌ها می‌توانند الگوها و وابستگی‌های زمانی را در داده‌ها کشف کنند، بنابراین برای مسائل مرتبط با سری زمانی، مانند پیش‌بینی ورشکستگی شرکت‌ها بر اساس داده‌های مالی، مناسب هستند.\n",
    "\n",
    "### هایپر پارامترها:\n",
    "- تعداد واحدها: 256\n",
    "- تابع فعال‌سازی: sigmoid برای لایه آخر\n",
    "\n",
    "### توضیح لایه‌ها:\n",
    "1. **لایه SimpleRNN اول**:\n",
    "   - **واحدها**: 256 واحد بازگشتی.\n",
    "   - **input_shape**: ابعاد ورودی.\n",
    "   - **return_sequences**: True، بدین معنا که خروجی از هر گام زمانی ارسال می‌شود.\n",
    "   - **وظیفه**: پردازش دنباله ورودی و انتقال اطلاعات بین گام‌های زمانی.\n",
    "\n",
    "2. **لایه SimpleRNN دوم**:\n",
    "   - **واحدها**: 256 واحد بازگشتی.\n",
    "   - **return_sequences**: False، تنها خروجی گام زمانی آخر.\n",
    "   - **وظیفه**: پردازش اطلاعات از لایه قبلی و استخراج ویژگی‌های مرتبط.\n",
    "\n",
    "3. **لایه Dense (کاملا متصل)**:\n",
    "   - **واحدها**: 1 واحد خروجی.\n",
    "   - **تابع فعال‌سازی**: sigmoid.\n",
    "   - **وظیفه**: تصمیم‌گیری نهایی بر اساس ویژگی‌های استخراج شده.\n",
    "\n",
    "این معماری می‌تواند برای مسائل سری زمانی پیچیده استفاده شود، اما نکته قابل توجه این است که مدل‌های پیشرفته‌تر مانند LSTM معمولاً عملکرد بهتری دارند، به خصوص در دنباله‌های طولانی."
   ]
  },
  {
   "cell_type": "code",
   "execution_count": 59,
   "metadata": {},
   "outputs": [
    {
     "name": "stdout",
     "output_type": "stream",
     "text": [
      "Model: \"sequential_1\"\n",
      "_________________________________________________________________\n",
      " Layer (type)                Output Shape              Param #   \n",
      "=================================================================\n",
      " simple_rnn (SimpleRNN)      (None, 1, 256)            83712     \n",
      "                                                                 \n",
      " dropout_2 (Dropout)         (None, 1, 256)            0         \n",
      "                                                                 \n",
      " simple_rnn_1 (SimpleRNN)    (None, 256)               131328    \n",
      "                                                                 \n",
      " dropout_3 (Dropout)         (None, 256)               0         \n",
      "                                                                 \n",
      " dense_1 (Dense)             (None, 1)                 257       \n",
      "                                                                 \n",
      "=================================================================\n",
      "Total params: 215297 (841.00 KB)\n",
      "Trainable params: 215297 (841.00 KB)\n",
      "Non-trainable params: 0 (0.00 Byte)\n",
      "_________________________________________________________________\n"
     ]
    }
   ],
   "source": [
    "rnn_model = keras.Sequential()\n",
    "rnn_model.add(keras.layers.SimpleRNN(256, input_shape=(x_train.shape[1], x_train.shape[2]), return_sequences=True))\n",
    "rnn_model.add(keras.layers.Dropout(0.1))\n",
    "rnn_model.add(keras.layers.SimpleRNN(256, return_sequences=False))\n",
    "rnn_model.add(keras.layers.Dropout(0.1))\n",
    "rnn_model.add(keras.layers.Dense(1, activation='sigmoid'))\n",
    "rnn_model.compile(loss='binary_crossentropy', optimizer='adam', metrics=['accuracy'])\n",
    "rnn_model.summary()"
   ]
  },
  {
   "cell_type": "code",
   "execution_count": 60,
   "metadata": {},
   "outputs": [
    {
     "name": "stdout",
     "output_type": "stream",
     "text": [
      "Epoch 1/100\n"
     ]
    },
    {
     "name": "stdout",
     "output_type": "stream",
     "text": [
      "327/327 [==============================] - 5s 11ms/step - loss: 0.2212 - accuracy: 0.9473 - val_loss: 0.3990 - val_accuracy: 0.9079\n",
      "Epoch 2/100\n",
      "327/327 [==============================] - 3s 10ms/step - loss: 0.1896 - accuracy: 0.9523 - val_loss: 0.3981 - val_accuracy: 0.9079\n",
      "Epoch 3/100\n",
      "327/327 [==============================] - 3s 10ms/step - loss: 0.1723 - accuracy: 0.9597 - val_loss: 0.4100 - val_accuracy: 0.9079\n",
      "Epoch 4/100\n",
      "327/327 [==============================] - 3s 10ms/step - loss: 0.1626 - accuracy: 0.9603 - val_loss: 0.4141 - val_accuracy: 0.9079\n",
      "Epoch 5/100\n",
      "327/327 [==============================] - 3s 9ms/step - loss: 0.1565 - accuracy: 0.9610 - val_loss: 0.3891 - val_accuracy: 0.9079\n",
      "Epoch 6/100\n",
      "327/327 [==============================] - 3s 10ms/step - loss: 0.1503 - accuracy: 0.9636 - val_loss: 0.3676 - val_accuracy: 0.9092\n",
      "Epoch 7/100\n",
      "327/327 [==============================] - 3s 10ms/step - loss: 0.1421 - accuracy: 0.9648 - val_loss: 0.3574 - val_accuracy: 0.9239\n",
      "Epoch 8/100\n",
      "327/327 [==============================] - 3s 10ms/step - loss: 0.1364 - accuracy: 0.9688 - val_loss: 0.3479 - val_accuracy: 0.9239\n",
      "Epoch 9/100\n",
      "327/327 [==============================] - 4s 11ms/step - loss: 0.1318 - accuracy: 0.9677 - val_loss: 0.3404 - val_accuracy: 0.9239\n",
      "Epoch 10/100\n",
      "327/327 [==============================] - 3s 10ms/step - loss: 0.1279 - accuracy: 0.9679 - val_loss: 0.3298 - val_accuracy: 0.9239\n",
      "Epoch 11/100\n",
      "327/327 [==============================] - 3s 10ms/step - loss: 0.1253 - accuracy: 0.9689 - val_loss: 0.3202 - val_accuracy: 0.9239\n",
      "Epoch 12/100\n",
      "327/327 [==============================] - 3s 10ms/step - loss: 0.1223 - accuracy: 0.9694 - val_loss: 0.3060 - val_accuracy: 0.9239\n",
      "Epoch 13/100\n",
      "327/327 [==============================] - 3s 10ms/step - loss: 0.1199 - accuracy: 0.9699 - val_loss: 0.3062 - val_accuracy: 0.9239\n",
      "Epoch 14/100\n",
      "327/327 [==============================] - 3s 11ms/step - loss: 0.1159 - accuracy: 0.9694 - val_loss: 0.3028 - val_accuracy: 0.9239\n",
      "Epoch 15/100\n",
      "327/327 [==============================] - 3s 10ms/step - loss: 0.1138 - accuracy: 0.9687 - val_loss: 0.3011 - val_accuracy: 0.9239\n",
      "Epoch 16/100\n",
      "327/327 [==============================] - 3s 10ms/step - loss: 0.1099 - accuracy: 0.9734 - val_loss: 0.3027 - val_accuracy: 0.9239\n",
      "Epoch 17/100\n",
      "327/327 [==============================] - 3s 10ms/step - loss: 0.1081 - accuracy: 0.9730 - val_loss: 0.3011 - val_accuracy: 0.9239\n",
      "Epoch 18/100\n",
      "327/327 [==============================] - 3s 10ms/step - loss: 0.1078 - accuracy: 0.9737 - val_loss: 0.2996 - val_accuracy: 0.9239\n",
      "Epoch 19/100\n",
      "327/327 [==============================] - 3s 10ms/step - loss: 0.1071 - accuracy: 0.9736 - val_loss: 0.3072 - val_accuracy: 0.9239\n",
      "Epoch 20/100\n",
      "327/327 [==============================] - 3s 10ms/step - loss: 0.1101 - accuracy: 0.9730 - val_loss: 0.3217 - val_accuracy: 0.9239\n",
      "Epoch 21/100\n",
      "327/327 [==============================] - 3s 10ms/step - loss: 0.1089 - accuracy: 0.9734 - val_loss: 0.3405 - val_accuracy: 0.9239\n",
      "Epoch 22/100\n",
      "327/327 [==============================] - 3s 10ms/step - loss: 0.1105 - accuracy: 0.9721 - val_loss: 0.3233 - val_accuracy: 0.9239\n",
      "Epoch 23/100\n",
      "327/327 [==============================] - 3s 10ms/step - loss: 0.1114 - accuracy: 0.9707 - val_loss: 0.2907 - val_accuracy: 0.9239\n",
      "Epoch 24/100\n",
      "327/327 [==============================] - 3s 10ms/step - loss: 0.1077 - accuracy: 0.9725 - val_loss: 0.2948 - val_accuracy: 0.9239\n",
      "Epoch 25/100\n",
      "327/327 [==============================] - 3s 9ms/step - loss: 0.1097 - accuracy: 0.9725 - val_loss: 0.2851 - val_accuracy: 0.9320\n",
      "Epoch 26/100\n",
      "327/327 [==============================] - 3s 10ms/step - loss: 0.1077 - accuracy: 0.9706 - val_loss: 0.2647 - val_accuracy: 0.9320\n",
      "Epoch 27/100\n",
      "327/327 [==============================] - 3s 10ms/step - loss: 0.1077 - accuracy: 0.9709 - val_loss: 0.2588 - val_accuracy: 0.9320\n",
      "Epoch 28/100\n",
      "327/327 [==============================] - 3s 10ms/step - loss: 0.1041 - accuracy: 0.9729 - val_loss: 0.2732 - val_accuracy: 0.9320\n",
      "Epoch 29/100\n",
      "327/327 [==============================] - 3s 10ms/step - loss: 0.1046 - accuracy: 0.9722 - val_loss: 0.2620 - val_accuracy: 0.9320\n",
      "Epoch 30/100\n",
      "327/327 [==============================] - 3s 10ms/step - loss: 0.1020 - accuracy: 0.9729 - val_loss: 0.2536 - val_accuracy: 0.9320\n",
      "Epoch 31/100\n",
      "327/327 [==============================] - 3s 11ms/step - loss: 0.1023 - accuracy: 0.9726 - val_loss: 0.2710 - val_accuracy: 0.9320\n",
      "Epoch 32/100\n",
      "327/327 [==============================] - 4s 11ms/step - loss: 0.1036 - accuracy: 0.9715 - val_loss: 0.2577 - val_accuracy: 0.9320\n",
      "Epoch 33/100\n",
      "327/327 [==============================] - 3s 10ms/step - loss: 0.1006 - accuracy: 0.9730 - val_loss: 0.2550 - val_accuracy: 0.9320\n",
      "Epoch 34/100\n",
      "327/327 [==============================] - 3s 10ms/step - loss: 0.1007 - accuracy: 0.9727 - val_loss: 0.2441 - val_accuracy: 0.9320\n",
      "Epoch 35/100\n",
      "327/327 [==============================] - 4s 11ms/step - loss: 0.0991 - accuracy: 0.9723 - val_loss: 0.2418 - val_accuracy: 0.9320\n",
      "Epoch 36/100\n",
      "327/327 [==============================] - 3s 10ms/step - loss: 0.0996 - accuracy: 0.9720 - val_loss: 0.2525 - val_accuracy: 0.9320\n",
      "Epoch 37/100\n",
      "327/327 [==============================] - 3s 10ms/step - loss: 0.0987 - accuracy: 0.9728 - val_loss: 0.2403 - val_accuracy: 0.9320\n",
      "Epoch 38/100\n",
      "327/327 [==============================] - 3s 9ms/step - loss: 0.0966 - accuracy: 0.9732 - val_loss: 0.2603 - val_accuracy: 0.9320\n",
      "Epoch 39/100\n",
      "327/327 [==============================] - 3s 10ms/step - loss: 0.1008 - accuracy: 0.9709 - val_loss: 0.2568 - val_accuracy: 0.9320\n",
      "Epoch 40/100\n",
      "327/327 [==============================] - 3s 10ms/step - loss: 0.0976 - accuracy: 0.9727 - val_loss: 0.2335 - val_accuracy: 0.9320\n",
      "Epoch 41/100\n",
      "327/327 [==============================] - 3s 10ms/step - loss: 0.0974 - accuracy: 0.9716 - val_loss: 0.2497 - val_accuracy: 0.9320\n",
      "Epoch 42/100\n",
      "327/327 [==============================] - 3s 10ms/step - loss: 0.0981 - accuracy: 0.9726 - val_loss: 0.2378 - val_accuracy: 0.9320\n",
      "Epoch 43/100\n",
      "327/327 [==============================] - 3s 10ms/step - loss: 0.0954 - accuracy: 0.9723 - val_loss: 0.2432 - val_accuracy: 0.9320\n",
      "Epoch 44/100\n",
      "327/327 [==============================] - 3s 10ms/step - loss: 0.0950 - accuracy: 0.9730 - val_loss: 0.2536 - val_accuracy: 0.9320\n",
      "Epoch 45/100\n",
      "327/327 [==============================] - 3s 10ms/step - loss: 0.0926 - accuracy: 0.9746 - val_loss: 0.2673 - val_accuracy: 0.9320\n",
      "Epoch 46/100\n",
      "327/327 [==============================] - 3s 10ms/step - loss: 0.0933 - accuracy: 0.9731 - val_loss: 0.2612 - val_accuracy: 0.9320\n",
      "Epoch 47/100\n",
      "327/327 [==============================] - 3s 9ms/step - loss: 0.0902 - accuracy: 0.9748 - val_loss: 0.2748 - val_accuracy: 0.9320\n",
      "Epoch 48/100\n",
      "327/327 [==============================] - 3s 10ms/step - loss: 0.0906 - accuracy: 0.9741 - val_loss: 0.2882 - val_accuracy: 0.9320\n",
      "Epoch 49/100\n",
      "327/327 [==============================] - 3s 10ms/step - loss: 0.0911 - accuracy: 0.9745 - val_loss: 0.2742 - val_accuracy: 0.9320\n",
      "Epoch 50/100\n",
      "327/327 [==============================] - 3s 10ms/step - loss: 0.0899 - accuracy: 0.9757 - val_loss: 0.3045 - val_accuracy: 0.9239\n",
      "Epoch 51/100\n",
      "327/327 [==============================] - 4s 11ms/step - loss: 0.0941 - accuracy: 0.9745 - val_loss: 0.2839 - val_accuracy: 0.9239\n",
      "Epoch 52/100\n",
      "327/327 [==============================] - 4s 11ms/step - loss: 0.0946 - accuracy: 0.9742 - val_loss: 0.3428 - val_accuracy: 0.9239\n",
      "Epoch 53/100\n",
      "327/327 [==============================] - 4s 12ms/step - loss: 0.1122 - accuracy: 0.9683 - val_loss: 0.3397 - val_accuracy: 0.9239\n",
      "Epoch 54/100\n",
      "327/327 [==============================] - 3s 11ms/step - loss: 0.0957 - accuracy: 0.9736 - val_loss: 0.3042 - val_accuracy: 0.9320\n",
      "Epoch 55/100\n",
      "327/327 [==============================] - 2s 6ms/step - loss: 0.0969 - accuracy: 0.9715 - val_loss: 0.2804 - val_accuracy: 0.9320\n",
      "Epoch 56/100\n",
      "327/327 [==============================] - 4s 11ms/step - loss: 0.0949 - accuracy: 0.9722 - val_loss: 0.2737 - val_accuracy: 0.9320\n",
      "Epoch 57/100\n",
      "327/327 [==============================] - 3s 9ms/step - loss: 0.0898 - accuracy: 0.9744 - val_loss: 0.2886 - val_accuracy: 0.9320\n",
      "Epoch 58/100\n",
      "327/327 [==============================] - 3s 10ms/step - loss: 0.0960 - accuracy: 0.9709 - val_loss: 0.2003 - val_accuracy: 0.9320\n",
      "Epoch 59/100\n",
      "327/327 [==============================] - 3s 10ms/step - loss: 0.0940 - accuracy: 0.9696 - val_loss: 0.2284 - val_accuracy: 0.9320\n",
      "Epoch 60/100\n",
      "327/327 [==============================] - 3s 10ms/step - loss: 0.0897 - accuracy: 0.9715 - val_loss: 0.1958 - val_accuracy: 0.9400\n",
      "Epoch 61/100\n",
      "327/327 [==============================] - 3s 9ms/step - loss: 0.0896 - accuracy: 0.9732 - val_loss: 0.2499 - val_accuracy: 0.9320\n",
      "Epoch 62/100\n",
      "327/327 [==============================] - 3s 10ms/step - loss: 0.0888 - accuracy: 0.9727 - val_loss: 0.2210 - val_accuracy: 0.9320\n",
      "Epoch 63/100\n",
      "327/327 [==============================] - 3s 10ms/step - loss: 0.0840 - accuracy: 0.9749 - val_loss: 0.3765 - val_accuracy: 0.9320\n",
      "Epoch 64/100\n",
      "327/327 [==============================] - 3s 10ms/step - loss: 0.0963 - accuracy: 0.9741 - val_loss: 0.3250 - val_accuracy: 0.9320\n",
      "Epoch 65/100\n",
      "327/327 [==============================] - 3s 10ms/step - loss: 0.0937 - accuracy: 0.9744 - val_loss: 0.3242 - val_accuracy: 0.9320\n",
      "Epoch 66/100\n",
      "327/327 [==============================] - 3s 10ms/step - loss: 0.0904 - accuracy: 0.9769 - val_loss: 0.3788 - val_accuracy: 0.9239\n",
      "Epoch 67/100\n",
      "327/327 [==============================] - 3s 9ms/step - loss: 0.0921 - accuracy: 0.9778 - val_loss: 0.3199 - val_accuracy: 0.9239\n",
      "Epoch 68/100\n",
      "327/327 [==============================] - 3s 10ms/step - loss: 0.0903 - accuracy: 0.9766 - val_loss: 0.3619 - val_accuracy: 0.9300\n",
      "Epoch 69/100\n",
      "327/327 [==============================] - 3s 9ms/step - loss: 0.0919 - accuracy: 0.9773 - val_loss: 0.3285 - val_accuracy: 0.9239\n",
      "Epoch 70/100\n",
      "327/327 [==============================] - 3s 10ms/step - loss: 0.0912 - accuracy: 0.9754 - val_loss: 0.3202 - val_accuracy: 0.9320\n",
      "Epoch 71/100\n",
      "327/327 [==============================] - 3s 11ms/step - loss: 0.0962 - accuracy: 0.9773 - val_loss: 0.2907 - val_accuracy: 0.9320\n",
      "Epoch 72/100\n",
      "327/327 [==============================] - 3s 11ms/step - loss: 0.0939 - accuracy: 0.9750 - val_loss: 0.2865 - val_accuracy: 0.9369\n",
      "Epoch 73/100\n",
      "327/327 [==============================] - 3s 11ms/step - loss: 0.0949 - accuracy: 0.9745 - val_loss: 0.3271 - val_accuracy: 0.9320\n",
      "Epoch 74/100\n",
      "327/327 [==============================] - 3s 10ms/step - loss: 0.0892 - accuracy: 0.9759 - val_loss: 0.3143 - val_accuracy: 0.9320\n",
      "Epoch 75/100\n",
      "327/327 [==============================] - 3s 10ms/step - loss: 0.0859 - accuracy: 0.9771 - val_loss: 0.3024 - val_accuracy: 0.9239\n",
      "Epoch 76/100\n",
      "327/327 [==============================] - 3s 10ms/step - loss: 0.0855 - accuracy: 0.9753 - val_loss: 0.3275 - val_accuracy: 0.9239\n",
      "Epoch 77/100\n",
      "327/327 [==============================] - 3s 10ms/step - loss: 0.0835 - accuracy: 0.9772 - val_loss: 0.3577 - val_accuracy: 0.9239\n",
      "Epoch 78/100\n",
      "327/327 [==============================] - 3s 10ms/step - loss: 0.0869 - accuracy: 0.9758 - val_loss: 0.3961 - val_accuracy: 0.9239\n",
      "Epoch 79/100\n",
      "327/327 [==============================] - 3s 10ms/step - loss: 0.1035 - accuracy: 0.9714 - val_loss: 0.3600 - val_accuracy: 0.9320\n",
      "Epoch 80/100\n",
      "327/327 [==============================] - 3s 9ms/step - loss: 0.0993 - accuracy: 0.9718 - val_loss: 0.3266 - val_accuracy: 0.9320\n",
      "Epoch 81/100\n",
      "327/327 [==============================] - 3s 10ms/step - loss: 0.0983 - accuracy: 0.9738 - val_loss: 0.3093 - val_accuracy: 0.9320\n",
      "Epoch 82/100\n",
      "327/327 [==============================] - 3s 10ms/step - loss: 0.0909 - accuracy: 0.9762 - val_loss: 0.3079 - val_accuracy: 0.9320\n",
      "Epoch 83/100\n",
      "327/327 [==============================] - 3s 10ms/step - loss: 0.0899 - accuracy: 0.9772 - val_loss: 0.3102 - val_accuracy: 0.9320\n",
      "Epoch 84/100\n",
      "327/327 [==============================] - 3s 10ms/step - loss: 0.0824 - accuracy: 0.9768 - val_loss: 0.3167 - val_accuracy: 0.9320\n",
      "Epoch 85/100\n",
      "327/327 [==============================] - 3s 10ms/step - loss: 0.0870 - accuracy: 0.9769 - val_loss: 0.2731 - val_accuracy: 0.9393\n",
      "Epoch 86/100\n",
      "327/327 [==============================] - 3s 10ms/step - loss: 0.0873 - accuracy: 0.9769 - val_loss: 0.3285 - val_accuracy: 0.9320\n",
      "Epoch 87/100\n",
      "327/327 [==============================] - 3s 10ms/step - loss: 0.0848 - accuracy: 0.9749 - val_loss: 0.2734 - val_accuracy: 0.9320\n",
      "Epoch 88/100\n",
      "327/327 [==============================] - 3s 10ms/step - loss: 0.0800 - accuracy: 0.9777 - val_loss: 0.2964 - val_accuracy: 0.9402\n",
      "Epoch 89/100\n",
      "327/327 [==============================] - 3s 9ms/step - loss: 0.0878 - accuracy: 0.9772 - val_loss: 0.3334 - val_accuracy: 0.9320\n",
      "Epoch 90/100\n",
      "327/327 [==============================] - 3s 8ms/step - loss: 0.0886 - accuracy: 0.9754 - val_loss: 0.3314 - val_accuracy: 0.9320\n",
      "Epoch 91/100\n",
      "327/327 [==============================] - 4s 11ms/step - loss: 0.0858 - accuracy: 0.9752 - val_loss: 0.3215 - val_accuracy: 0.9320\n",
      "Epoch 92/100\n",
      "327/327 [==============================] - 3s 11ms/step - loss: 0.0833 - accuracy: 0.9788 - val_loss: 0.2153 - val_accuracy: 0.9407\n",
      "Epoch 93/100\n",
      "327/327 [==============================] - 3s 10ms/step - loss: 0.0802 - accuracy: 0.9786 - val_loss: 0.3433 - val_accuracy: 0.9320\n",
      "Epoch 94/100\n",
      "327/327 [==============================] - 4s 11ms/step - loss: 0.0825 - accuracy: 0.9765 - val_loss: 0.3080 - val_accuracy: 0.9320\n",
      "Epoch 95/100\n",
      "327/327 [==============================] - 3s 11ms/step - loss: 0.0915 - accuracy: 0.9757 - val_loss: 0.3001 - val_accuracy: 0.9320\n",
      "Epoch 96/100\n",
      "327/327 [==============================] - 4s 12ms/step - loss: 0.0837 - accuracy: 0.9757 - val_loss: 0.3292 - val_accuracy: 0.9320\n",
      "Epoch 97/100\n",
      "327/327 [==============================] - 3s 10ms/step - loss: 0.0810 - accuracy: 0.9794 - val_loss: 0.2725 - val_accuracy: 0.9338\n",
      "Epoch 98/100\n",
      "327/327 [==============================] - 4s 11ms/step - loss: 0.0750 - accuracy: 0.9803 - val_loss: 0.3566 - val_accuracy: 0.9320\n",
      "Epoch 99/100\n",
      "327/327 [==============================] - 4s 11ms/step - loss: 0.0796 - accuracy: 0.9793 - val_loss: 0.3177 - val_accuracy: 0.9320\n",
      "Epoch 100/100\n",
      "327/327 [==============================] - 3s 10ms/step - loss: 0.0786 - accuracy: 0.9777 - val_loss: 0.3113 - val_accuracy: 0.9393\n"
     ]
    }
   ],
   "source": [
    "# train\n",
    "rnn_history = rnn_model.fit(x_train, y_train, epochs=100, batch_size=256, validation_data=(x_valid, y_valid), shuffle=False)"
   ]
  },
  {
   "cell_type": "code",
   "execution_count": 61,
   "metadata": {},
   "outputs": [
    {
     "name": "stdout",
     "output_type": "stream",
     "text": [
      "  1/561 [..............................] - ETA: 1:31"
     ]
    },
    {
     "name": "stdout",
     "output_type": "stream",
     "text": [
      "561/561 [==============================] - 1s 2ms/step\n"
     ]
    },
    {
     "data": {
      "image/png": "[encoded data removed]",
      "text/plain": [
       "<Figure size 1000x1000 with 2 Axes>"
      ]
     },
     "metadata": {},
     "output_type": "display_data"
    }
   ],
   "source": [
    "# evaluate the model\n",
    "y_pred = rnn_model.predict(x_test)\n",
    "\n",
    "y_pred_binary = (y_pred > 0.5).astype(int)\n",
    "\n",
    "# plot confusion matrix (show each cell's count)\n",
    "fig = plt.figure(figsize=(10, 10))\n",
    "cm = confusion_matrix(y_test, y_pred_binary)\n",
    "sns.heatmap(cm, annot=True, fmt='d', cmap='Blues')\n",
    "plt.xlabel('Predicted')\n",
    "plt.ylabel('Actual')\n",
    "plt.title('Confusion Matrix')\n",
    "plt.show()\n",
    "\n",
    "# save confusion matrix as image\n",
    "fig.savefig('RNN_confusion_matrix.png')"
   ]
  },
  {
   "cell_type": "code",
   "execution_count": 62,
   "metadata": {},
   "outputs": [
    {
     "name": "stdout",
     "output_type": "stream",
     "text": [
      "                 model  accuracy  precision  recall      f1  roc_auc\n",
      "0  Logistic Regression    0.9747     1.0000  0.6411  0.7813   0.8206\n",
      "1                  SVM    0.9834     1.0000  0.7641  0.8663   0.8821\n",
      "2        Random Forest    0.9944     1.0000  0.9210  0.9589   0.9605\n",
      "3                 LSTM    0.9003     0.8398  0.3612  0.5051   0.6749\n",
      "4                  RNN    0.8993     1.0000  0.2851  0.4438   0.6426\n"
     ]
    }
   ],
   "source": [
    "# calc metrics and add a row to results\n",
    "results.loc[len(results)] = [\n",
    "    'RNN',\n",
    "    round(accuracy_score(y_test, y_pred.round()), 4),\n",
    "    round(precision_score(y_test, y_pred.round()), 4),\n",
    "    round(recall_score(y_test, y_pred.round()), 4),\n",
    "    round(f1_score(y_test, y_pred.round()), 4),\n",
    "    round(roc_auc_score(y_test, y_pred.round()), 4),\n",
    "]\n",
    "print(results)"
   ]
  },
  {
   "cell_type": "code",
   "execution_count": 63,
   "metadata": {},
   "outputs": [
    {
     "data": {
      "image/png": "[encoded data removed]",
      "text/plain": [
       "<IPython.core.display.Image object>"
      ]
     },
     "execution_count": 63,
     "metadata": {},
     "output_type": "execute_result"
    }
   ],
   "source": [
    "# plot RNN model architecture\n",
    "keras.utils.plot_model(rnn_model, to_file='rnn_model.png', show_shapes=True, show_layer_names=True)"
   ]
  },
  {
   "cell_type": "code",
   "execution_count": 64,
   "metadata": {},
   "outputs": [
    {
     "data": {
      "application/vnd.plotly.v1+json": {
       "config": {
        "plotlyServerURL": "https://plot.ly"
       },
       "data": [
        {
         "mode": "lines",
         "name": "val_loss",
         "type": "scatter",
         "y": [
          0.32482126355171204,
          0.32246625423431396,
          0.3491019010543823,
          0.3818781077861786,
          0.39662060141563416,
          0.39160099625587463,
          0.3804176449775696,
          0.36898013949394226,
          0.35691797733306885,
          0.345567524433136,
          0.3341349959373474,
          0.32251548767089844,
          0.3104247450828552,
          0.29652470350265503,
          0.28494447469711304,
          0.2759479582309723,
          0.26825523376464844,
          0.26315805315971375,
          0.2575211524963379,
          0.25380566716194153,
          0.24938030540943146,
          0.2459675669670105,
          0.2415134757757187,
          0.23894663155078888,
          0.2371741235256195,
          0.23516038060188293,
          0.23314853012561798,
          0.23175957798957825,
          0.2306884080171585,
          0.23007357120513916,
          0.2289285659790039,
          0.2263493537902832,
          0.2268792986869812,
          0.22579579055309296,
          0.22403813898563385,
          0.22464945912361145,
          0.22389666736125946,
          0.22346235811710358,
          0.22150932252407074,
          0.22073690593242645,
          0.2218618392944336,
          0.2200857400894165,
          0.21934320032596588,
          0.21800801157951355,
          0.2172875851392746,
          0.2181493639945984,
          0.2177787572145462,
          0.21843543648719788,
          0.2164333164691925,
          0.21695655584335327,
          0.21689391136169434,
          0.2158842533826828,
          0.21355345845222473,
          0.2170352190732956,
          0.2152835726737976,
          0.2115258425474167,
          0.21341240406036377,
          0.21222878992557526,
          0.20891129970550537,
          0.21112848818302155,
          0.21208639442920685,
          0.21069715917110443,
          0.20954054594039917,
          0.20802830159664154,
          0.20645011961460114,
          0.20747940242290497,
          0.20776145160198212,
          0.20570868253707886,
          0.20659324526786804,
          0.20613227784633636,
          0.20317332446575165,
          0.20256264507770538,
          0.20274397730827332,
          0.20138216018676758,
          0.20237021148204803,
          0.2021801471710205,
          0.1980961561203003,
          0.20151077210903168,
          0.20072060823440552,
          0.20065712928771973,
          0.20073901116847992,
          0.200872540473938,
          0.20091456174850464,
          0.20048193633556366,
          0.20175263285636902,
          0.20337586104869843,
          0.20149026811122894,
          0.2011810839176178,
          0.20241627097129822,
          0.20295992493629456,
          0.20386750996112823,
          0.20208564400672913,
          0.20290255546569824,
          0.20456182956695557,
          0.20345142483711243,
          0.20258812606334686,
          0.20531107485294342,
          0.20432282984256744,
          0.20618946850299835,
          0.20634575188159943
         ]
        }
       ],
       "layout": {
        "template": {
         "data": {
          "bar": [
           {
            "error_x": {
             "color": "#2a3f5f"
            },
            "error_y": {
             "color": "#2a3f5f"
            },
            "marker": {
             "line": {
              "color": "#E5ECF6",
              "width": 0.5
             },
             "pattern": {
              "fillmode": "overlay",
              "size": 10,
              "solidity": 0.2
             }
            },
            "type": "bar"
           }
          ],
          "barpolar": [
           {
            "marker": {
             "line": {
              "color": "#E5ECF6",
              "width": 0.5
             },
             "pattern": {
              "fillmode": "overlay",
              "size": 10,
              "solidity": 0.2
             }
            },
            "type": "barpolar"
           }
          ],
          "carpet": [
           {
            "aaxis": {
             "endlinecolor": "#2a3f5f",
             "gridcolor": "white",
             "linecolor": "white",
             "minorgridcolor": "white",
             "startlinecolor": "#2a3f5f"
            },
            "baxis": {
             "endlinecolor": "#2a3f5f",
             "gridcolor": "white",
             "linecolor": "white",
             "minorgridcolor": "white",
             "startlinecolor": "#2a3f5f"
            },
            "type": "carpet"
           }
          ],
          "choropleth": [
           {
            "colorbar": {
             "outlinewidth": 0,
             "ticks": ""
            },
            "type": "choropleth"
           }
          ],
          "contour": [
           {
            "colorbar": {
             "outlinewidth": 0,
             "ticks": ""
            },
            "colorscale": [
             [
              0,
              "#0d0887"
             ],
             [
              0.1111111111111111,
              "#46039f"
             ],
             [
              0.2222222222222222,
              "#7201a8"
             ],
             [
              0.3333333333333333,
              "#9c179e"
             ],
             [
              0.4444444444444444,
              "#bd3786"
             ],
             [
              0.5555555555555556,
              "#d8576b"
             ],
             [
              0.6666666666666666,
              "#ed7953"
             ],
             [
              0.7777777777777778,
              "#fb9f3a"
             ],
             [
              0.8888888888888888,
              "#fdca26"
             ],
             [
              1,
              "#f0f921"
             ]
            ],
            "type": "contour"
           }
          ],
          "contourcarpet": [
           {
            "colorbar": {
             "outlinewidth": 0,
             "ticks": ""
            },
            "type": "contourcarpet"
           }
          ],
          "heatmap": [
           {
            "colorbar": {
             "outlinewidth": 0,
             "ticks": ""
            },
            "colorscale": [
             [
              0,
              "#0d0887"
             ],
             [
              0.1111111111111111,
              "#46039f"
             ],
             [
              0.2222222222222222,
              "#7201a8"
             ],
             [
              0.3333333333333333,
              "#9c179e"
             ],
             [
              0.4444444444444444,
              "#bd3786"
             ],
             [
              0.5555555555555556,
              "#d8576b"
             ],
             [
              0.6666666666666666,
              "#ed7953"
             ],
             [
              0.7777777777777778,
              "#fb9f3a"
             ],
             [
              0.8888888888888888,
              "#fdca26"
             ],
             [
              1,
              "#f0f921"
             ]
            ],
            "type": "heatmap"
           }
          ],
          "heatmapgl": [
           {
            "colorbar": {
             "outlinewidth": 0,
             "ticks": ""
            },
            "colorscale": [
             [
              0,
              "#0d0887"
             ],
             [
              0.1111111111111111,
              "#46039f"
             ],
             [
              0.2222222222222222,
              "#7201a8"
             ],
             [
              0.3333333333333333,
              "#9c179e"
             ],
             [
              0.4444444444444444,
              "#bd3786"
             ],
             [
              0.5555555555555556,
              "#d8576b"
             ],
             [
              0.6666666666666666,
              "#ed7953"
             ],
             [
              0.7777777777777778,
              "#fb9f3a"
             ],
             [
              0.8888888888888888,
              "#fdca26"
             ],
             [
              1,
              "#f0f921"
             ]
            ],
            "type": "heatmapgl"
           }
          ],
          "histogram": [
           {
            "marker": {
             "pattern": {
              "fillmode": "overlay",
              "size": 10,
              "solidity": 0.2
             }
            },
            "type": "histogram"
           }
          ],
          "histogram2d": [
           {
            "colorbar": {
             "outlinewidth": 0,
             "ticks": ""
            },
            "colorscale": [
             [
              0,
              "#0d0887"
             ],
             [
              0.1111111111111111,
              "#46039f"
             ],
             [
              0.2222222222222222,
              "#7201a8"
             ],
             [
              0.3333333333333333,
              "#9c179e"
             ],
             [
              0.4444444444444444,
              "#bd3786"
             ],
             [
              0.5555555555555556,
              "#d8576b"
             ],
             [
              0.6666666666666666,
              "#ed7953"
             ],
             [
              0.7777777777777778,
              "#fb9f3a"
             ],
             [
              0.8888888888888888,
              "#fdca26"
             ],
             [
              1,
              "#f0f921"
             ]
            ],
            "type": "histogram2d"
           }
          ],
          "histogram2dcontour": [
           {
            "colorbar": {
             "outlinewidth": 0,
             "ticks": ""
            },
            "colorscale": [
             [
              0,
              "#0d0887"
             ],
             [
              0.1111111111111111,
              "#46039f"
             ],
             [
              0.2222222222222222,
              "#7201a8"
             ],
             [
              0.3333333333333333,
              "#9c179e"
             ],
             [
              0.4444444444444444,
              "#bd3786"
             ],
             [
              0.5555555555555556,
              "#d8576b"
             ],
             [
              0.6666666666666666,
              "#ed7953"
             ],
             [
              0.7777777777777778,
              "#fb9f3a"
             ],
             [
              0.8888888888888888,
              "#fdca26"
             ],
             [
              1,
              "#f0f921"
             ]
            ],
            "type": "histogram2dcontour"
           }
          ],
          "mesh3d": [
           {
            "colorbar": {
             "outlinewidth": 0,
             "ticks": ""
            },
            "type": "mesh3d"
           }
          ],
          "parcoords": [
           {
            "line": {
             "colorbar": {
              "outlinewidth": 0,
              "ticks": ""
             }
            },
            "type": "parcoords"
           }
          ],
          "pie": [
           {
            "automargin": true,
            "type": "pie"
           }
          ],
          "scatter": [
           {
            "fillpattern": {
             "fillmode": "overlay",
             "size": 10,
             "solidity": 0.2
            },
            "type": "scatter"
           }
          ],
          "scatter3d": [
           {
            "line": {
             "colorbar": {
              "outlinewidth": 0,
              "ticks": ""
             }
            },
            "marker": {
             "colorbar": {
              "outlinewidth": 0,
              "ticks": ""
             }
            },
            "type": "scatter3d"
           }
          ],
          "scattercarpet": [
           {
            "marker": {
             "colorbar": {
              "outlinewidth": 0,
              "ticks": ""
             }
            },
            "type": "scattercarpet"
           }
          ],
          "scattergeo": [
           {
            "marker": {
             "colorbar": {
              "outlinewidth": 0,
              "ticks": ""
             }
            },
            "type": "scattergeo"
           }
          ],
          "scattergl": [
           {
            "marker": {
             "colorbar": {
              "outlinewidth": 0,
              "ticks": ""
             }
            },
            "type": "scattergl"
           }
          ],
          "scattermapbox": [
           {
            "marker": {
             "colorbar": {
              "outlinewidth": 0,
              "ticks": ""
             }
            },
            "type": "scattermapbox"
           }
          ],
          "scatterpolar": [
           {
            "marker": {
             "colorbar": {
              "outlinewidth": 0,
              "ticks": ""
             }
            },
            "type": "scatterpolar"
           }
          ],
          "scatterpolargl": [
           {
            "marker": {
             "colorbar": {
              "outlinewidth": 0,
              "ticks": ""
             }
            },
            "type": "scatterpolargl"
           }
          ],
          "scatterternary": [
           {
            "marker": {
             "colorbar": {
              "outlinewidth": 0,
              "ticks": ""
             }
            },
            "type": "scatterternary"
           }
          ],
          "surface": [
           {
            "colorbar": {
             "outlinewidth": 0,
             "ticks": ""
            },
            "colorscale": [
             [
              0,
              "#0d0887"
             ],
             [
              0.1111111111111111,
              "#46039f"
             ],
             [
              0.2222222222222222,
              "#7201a8"
             ],
             [
              0.3333333333333333,
              "#9c179e"
             ],
             [
              0.4444444444444444,
              "#bd3786"
             ],
             [
              0.5555555555555556,
              "#d8576b"
             ],
             [
              0.6666666666666666,
              "#ed7953"
             ],
             [
              0.7777777777777778,
              "#fb9f3a"
             ],
             [
              0.8888888888888888,
              "#fdca26"
             ],
             [
              1,
              "#f0f921"
             ]
            ],
            "type": "surface"
           }
          ],
          "table": [
           {
            "cells": {
             "fill": {
              "color": "#EBF0F8"
             },
             "line": {
              "color": "white"
             }
            },
            "header": {
             "fill": {
              "color": "#C8D4E3"
             },
             "line": {
              "color": "white"
             }
            },
            "type": "table"
           }
          ]
         },
         "layout": {
          "annotationdefaults": {
           "arrowcolor": "#2a3f5f",
           "arrowhead": 0,
           "arrowwidth": 1
          },
          "autotypenumbers": "strict",
          "coloraxis": {
           "colorbar": {
            "outlinewidth": 0,
            "ticks": ""
           }
          },
          "colorscale": {
           "diverging": [
            [
             0,
             "#8e0152"
            ],
            [
             0.1,
             "#c51b7d"
            ],
            [
             0.2,
             "#de77ae"
            ],
            [
             0.3,
             "#f1b6da"
            ],
            [
             0.4,
             "#fde0ef"
            ],
            [
             0.5,
             "#f7f7f7"
            ],
            [
             0.6,
             "#e6f5d0"
            ],
            [
             0.7,
             "#b8e186"
            ],
            [
             0.8,
             "#7fbc41"
            ],
            [
             0.9,
             "#4d9221"
            ],
            [
             1,
             "#276419"
            ]
           ],
           "sequential": [
            [
             0,
             "#0d0887"
            ],
            [
             0.1111111111111111,
             "#46039f"
            ],
            [
             0.2222222222222222,
             "#7201a8"
            ],
            [
             0.3333333333333333,
             "#9c179e"
            ],
            [
             0.4444444444444444,
             "#bd3786"
            ],
            [
             0.5555555555555556,
             "#d8576b"
            ],
            [
             0.6666666666666666,
             "#ed7953"
            ],
            [
             0.7777777777777778,
             "#fb9f3a"
            ],
            [
             0.8888888888888888,
             "#fdca26"
            ],
            [
             1,
             "#f0f921"
            ]
           ],
           "sequentialminus": [
            [
             0,
             "#0d0887"
            ],
            [
             0.1111111111111111,
             "#46039f"
            ],
            [
             0.2222222222222222,
             "#7201a8"
            ],
            [
             0.3333333333333333,
             "#9c179e"
            ],
            [
             0.4444444444444444,
             "#bd3786"
            ],
            [
             0.5555555555555556,
             "#d8576b"
            ],
            [
             0.6666666666666666,
             "#ed7953"
            ],
            [
             0.7777777777777778,
             "#fb9f3a"
            ],
            [
             0.8888888888888888,
             "#fdca26"
            ],
            [
             1,
             "#f0f921"
            ]
           ]
          },
          "colorway": [
           "#636efa",
           "#EF553B",
           "#00cc96",
           "#ab63fa",
           "#FFA15A",
           "#19d3f3",
           "#FF6692",
           "#B6E880",
           "#FF97FF",
           "#FECB52"
          ],
          "font": {
           "color": "#2a3f5f"
          },
          "geo": {
           "bgcolor": "white",
           "lakecolor": "white",
           "landcolor": "#E5ECF6",
           "showlakes": true,
           "showland": true,
           "subunitcolor": "white"
          },
          "hoverlabel": {
           "align": "left"
          },
          "hovermode": "closest",
          "mapbox": {
           "style": "light"
          },
          "paper_bgcolor": "white",
          "plot_bgcolor": "#E5ECF6",
          "polar": {
           "angularaxis": {
            "gridcolor": "white",
            "linecolor": "white",
            "ticks": ""
           },
           "bgcolor": "#E5ECF6",
           "radialaxis": {
            "gridcolor": "white",
            "linecolor": "white",
            "ticks": ""
           }
          },
          "scene": {
           "xaxis": {
            "backgroundcolor": "#E5ECF6",
            "gridcolor": "white",
            "gridwidth": 2,
            "linecolor": "white",
            "showbackground": true,
            "ticks": "",
            "zerolinecolor": "white"
           },
           "yaxis": {
            "backgroundcolor": "#E5ECF6",
            "gridcolor": "white",
            "gridwidth": 2,
            "linecolor": "white",
            "showbackground": true,
            "ticks": "",
            "zerolinecolor": "white"
           },
           "zaxis": {
            "backgroundcolor": "#E5ECF6",
            "gridcolor": "white",
            "gridwidth": 2,
            "linecolor": "white",
            "showbackground": true,
            "ticks": "",
            "zerolinecolor": "white"
           }
          },
          "shapedefaults": {
           "line": {
            "color": "#2a3f5f"
           }
          },
          "ternary": {
           "aaxis": {
            "gridcolor": "white",
            "linecolor": "white",
            "ticks": ""
           },
           "baxis": {
            "gridcolor": "white",
            "linecolor": "white",
            "ticks": ""
           },
           "bgcolor": "#E5ECF6",
           "caxis": {
            "gridcolor": "white",
            "linecolor": "white",
            "ticks": ""
           }
          },
          "title": {
           "x": 0.05
          },
          "xaxis": {
           "automargin": true,
           "gridcolor": "white",
           "linecolor": "white",
           "ticks": "",
           "title": {
            "standoff": 15
           },
           "zerolinecolor": "white",
           "zerolinewidth": 2
          },
          "yaxis": {
           "automargin": true,
           "gridcolor": "white",
           "linecolor": "white",
           "ticks": "",
           "title": {
            "standoff": 15
           },
           "zerolinecolor": "white",
           "zerolinewidth": 2
          }
         }
        },
        "title": {
         "text": "Loss"
        },
        "xaxis": {
         "title": {
          "text": "Epoch"
         }
        },
        "yaxis": {
         "title": {
          "text": "Loss"
         }
        }
       }
      },
      "text/html": [
       "<div>                            <div id=\"5285378d-65a3-4539-ba2a-815cbddb92a0\" class=\"plotly-graph-div\" style=\"height:525px; width:100%;\"></div>            <script type=\"text/javascript\">                require([\"plotly\"], function(Plotly) {                    window.PLOTLYENV=window.PLOTLYENV || {};                                    if (document.getElementById(\"5285378d-65a3-4539-ba2a-815cbddb92a0\")) {                    Plotly.newPlot(                        \"5285378d-65a3-4539-ba2a-815cbddb92a0\",                        [{\"mode\":\"lines\",\"name\":\"val_loss\",\"y\":[0.32482126355171204,0.32246625423431396,0.3491019010543823,0.3818781077861786,0.39662060141563416,0.39160099625587463,0.3804176449775696,0.36898013949394226,0.35691797733306885,0.345567524433136,0.3341349959373474,0.32251548767089844,0.3104247450828552,0.29652470350265503,0.28494447469711304,0.2759479582309723,0.26825523376464844,0.26315805315971375,0.2575211524963379,0.25380566716194153,0.24938030540943146,0.2459675669670105,0.2415134757757187,0.23894663155078888,0.2371741235256195,0.23516038060188293,0.23314853012561798,0.23175957798957825,0.2306884080171585,0.23007357120513916,0.2289285659790039,0.2263493537902832,0.2268792986869812,0.22579579055309296,0.22403813898563385,0.22464945912361145,0.22389666736125946,0.22346235811710358,0.22150932252407074,0.22073690593242645,0.2218618392944336,0.2200857400894165,0.21934320032596588,0.21800801157951355,0.2172875851392746,0.2181493639945984,0.2177787572145462,0.21843543648719788,0.2164333164691925,0.21695655584335327,0.21689391136169434,0.2158842533826828,0.21355345845222473,0.2170352190732956,0.2152835726737976,0.2115258425474167,0.21341240406036377,0.21222878992557526,0.20891129970550537,0.21112848818302155,0.21208639442920685,0.21069715917110443,0.20954054594039917,0.20802830159664154,0.20645011961460114,0.20747940242290497,0.20776145160198212,0.20570868253707886,0.20659324526786804,0.20613227784633636,0.20317332446575165,0.20256264507770538,0.20274397730827332,0.20138216018676758,0.20237021148204803,0.2021801471710205,0.1980961561203003,0.20151077210903168,0.20072060823440552,0.20065712928771973,0.20073901116847992,0.200872540473938,0.20091456174850464,0.20048193633556366,0.20175263285636902,0.20337586104869843,0.20149026811122894,0.2011810839176178,0.20241627097129822,0.20295992493629456,0.20386750996112823,0.20208564400672913,0.20290255546569824,0.20456182956695557,0.20345142483711243,0.20258812606334686,0.20531107485294342,0.20432282984256744,0.20618946850299835,0.20634575188159943],\"type\":\"scatter\"}],                        {\"template\":{\"data\":{\"histogram2dcontour\":[{\"type\":\"histogram2dcontour\",\"colorbar\":{\"outlinewidth\":0,\"ticks\":\"\"},\"colorscale\":[[0.0,\"#0d0887\"],[0.1111111111111111,\"#46039f\"],[0.2222222222222222,\"#7201a8\"],[0.3333333333333333,\"#9c179e\"],[0.4444444444444444,\"#bd3786\"],[0.5555555555555556,\"#d8576b\"],[0.6666666666666666,\"#ed7953\"],[0.7777777777777778,\"#fb9f3a\"],[0.8888888888888888,\"#fdca26\"],[1.0,\"#f0f921\"]]}],\"choropleth\":[{\"type\":\"choropleth\",\"colorbar\":{\"outlinewidth\":0,\"ticks\":\"\"}}],\"histogram2d\":[{\"type\":\"histogram2d\",\"colorbar\":{\"outlinewidth\":0,\"ticks\":\"\"},\"colorscale\":[[0.0,\"#0d0887\"],[0.1111111111111111,\"#46039f\"],[0.2222222222222222,\"#7201a8\"],[0.3333333333333333,\"#9c179e\"],[0.4444444444444444,\"#bd3786\"],[0.5555555555555556,\"#d8576b\"],[0.6666666666666666,\"#ed7953\"],[0.7777777777777778,\"#fb9f3a\"],[0.8888888888888888,\"#fdca26\"],[1.0,\"#f0f921\"]]}],\"heatmap\":[{\"type\":\"heatmap\",\"colorbar\":{\"outlinewidth\":0,\"ticks\":\"\"},\"colorscale\":[[0.0,\"#0d0887\"],[0.1111111111111111,\"#46039f\"],[0.2222222222222222,\"#7201a8\"],[0.3333333333333333,\"#9c179e\"],[0.4444444444444444,\"#bd3786\"],[0.5555555555555556,\"#d8576b\"],[0.6666666666666666,\"#ed7953\"],[0.7777777777777778,\"#fb9f3a\"],[0.8888888888888888,\"#fdca26\"],[1.0,\"#f0f921\"]]}],\"heatmapgl\":[{\"type\":\"heatmapgl\",\"colorbar\":{\"outlinewidth\":0,\"ticks\":\"\"},\"colorscale\":[[0.0,\"#0d0887\"],[0.1111111111111111,\"#46039f\"],[0.2222222222222222,\"#7201a8\"],[0.3333333333333333,\"#9c179e\"],[0.4444444444444444,\"#bd3786\"],[0.5555555555555556,\"#d8576b\"],[0.6666666666666666,\"#ed7953\"],[0.7777777777777778,\"#fb9f3a\"],[0.8888888888888888,\"#fdca26\"],[1.0,\"#f0f921\"]]}],\"contourcarpet\":[{\"type\":\"contourcarpet\",\"colorbar\":{\"outlinewidth\":0,\"ticks\":\"\"}}],\"contour\":[{\"type\":\"contour\",\"colorbar\":{\"outlinewidth\":0,\"ticks\":\"\"},\"colorscale\":[[0.0,\"#0d0887\"],[0.1111111111111111,\"#46039f\"],[0.2222222222222222,\"#7201a8\"],[0.3333333333333333,\"#9c179e\"],[0.4444444444444444,\"#bd3786\"],[0.5555555555555556,\"#d8576b\"],[0.6666666666666666,\"#ed7953\"],[0.7777777777777778,\"#fb9f3a\"],[0.8888888888888888,\"#fdca26\"],[1.0,\"#f0f921\"]]}],\"surface\":[{\"type\":\"surface\",\"colorbar\":{\"outlinewidth\":0,\"ticks\":\"\"},\"colorscale\":[[0.0,\"#0d0887\"],[0.1111111111111111,\"#46039f\"],[0.2222222222222222,\"#7201a8\"],[0.3333333333333333,\"#9c179e\"],[0.4444444444444444,\"#bd3786\"],[0.5555555555555556,\"#d8576b\"],[0.6666666666666666,\"#ed7953\"],[0.7777777777777778,\"#fb9f3a\"],[0.8888888888888888,\"#fdca26\"],[1.0,\"#f0f921\"]]}],\"mesh3d\":[{\"type\":\"mesh3d\",\"colorbar\":{\"outlinewidth\":0,\"ticks\":\"\"}}],\"scatter\":[{\"fillpattern\":{\"fillmode\":\"overlay\",\"size\":10,\"solidity\":0.2},\"type\":\"scatter\"}],\"parcoords\":[{\"type\":\"parcoords\",\"line\":{\"colorbar\":{\"outlinewidth\":0,\"ticks\":\"\"}}}],\"scatterpolargl\":[{\"type\":\"scatterpolargl\",\"marker\":{\"colorbar\":{\"outlinewidth\":0,\"ticks\":\"\"}}}],\"bar\":[{\"error_x\":{\"color\":\"#2a3f5f\"},\"error_y\":{\"color\":\"#2a3f5f\"},\"marker\":{\"line\":{\"color\":\"#E5ECF6\",\"width\":0.5},\"pattern\":{\"fillmode\":\"overlay\",\"size\":10,\"solidity\":0.2}},\"type\":\"bar\"}],\"scattergeo\":[{\"type\":\"scattergeo\",\"marker\":{\"colorbar\":{\"outlinewidth\":0,\"ticks\":\"\"}}}],\"scatterpolar\":[{\"type\":\"scatterpolar\",\"marker\":{\"colorbar\":{\"outlinewidth\":0,\"ticks\":\"\"}}}],\"histogram\":[{\"marker\":{\"pattern\":{\"fillmode\":\"overlay\",\"size\":10,\"solidity\":0.2}},\"type\":\"histogram\"}],\"scattergl\":[{\"type\":\"scattergl\",\"marker\":{\"colorbar\":{\"outlinewidth\":0,\"ticks\":\"\"}}}],\"scatter3d\":[{\"type\":\"scatter3d\",\"line\":{\"colorbar\":{\"outlinewidth\":0,\"ticks\":\"\"}},\"marker\":{\"colorbar\":{\"outlinewidth\":0,\"ticks\":\"\"}}}],\"scattermapbox\":[{\"type\":\"scattermapbox\",\"marker\":{\"colorbar\":{\"outlinewidth\":0,\"ticks\":\"\"}}}],\"scatterternary\":[{\"type\":\"scatterternary\",\"marker\":{\"colorbar\":{\"outlinewidth\":0,\"ticks\":\"\"}}}],\"scattercarpet\":[{\"type\":\"scattercarpet\",\"marker\":{\"colorbar\":{\"outlinewidth\":0,\"ticks\":\"\"}}}],\"carpet\":[{\"aaxis\":{\"endlinecolor\":\"#2a3f5f\",\"gridcolor\":\"white\",\"linecolor\":\"white\",\"minorgridcolor\":\"white\",\"startlinecolor\":\"#2a3f5f\"},\"baxis\":{\"endlinecolor\":\"#2a3f5f\",\"gridcolor\":\"white\",\"linecolor\":\"white\",\"minorgridcolor\":\"white\",\"startlinecolor\":\"#2a3f5f\"},\"type\":\"carpet\"}],\"table\":[{\"cells\":{\"fill\":{\"color\":\"#EBF0F8\"},\"line\":{\"color\":\"white\"}},\"header\":{\"fill\":{\"color\":\"#C8D4E3\"},\"line\":{\"color\":\"white\"}},\"type\":\"table\"}],\"barpolar\":[{\"marker\":{\"line\":{\"color\":\"#E5ECF6\",\"width\":0.5},\"pattern\":{\"fillmode\":\"overlay\",\"size\":10,\"solidity\":0.2}},\"type\":\"barpolar\"}],\"pie\":[{\"automargin\":true,\"type\":\"pie\"}]},\"layout\":{\"autotypenumbers\":\"strict\",\"colorway\":[\"#636efa\",\"#EF553B\",\"#00cc96\",\"#ab63fa\",\"#FFA15A\",\"#19d3f3\",\"#FF6692\",\"#B6E880\",\"#FF97FF\",\"#FECB52\"],\"font\":{\"color\":\"#2a3f5f\"},\"hovermode\":\"closest\",\"hoverlabel\":{\"align\":\"left\"},\"paper_bgcolor\":\"white\",\"plot_bgcolor\":\"#E5ECF6\",\"polar\":{\"bgcolor\":\"#E5ECF6\",\"angularaxis\":{\"gridcolor\":\"white\",\"linecolor\":\"white\",\"ticks\":\"\"},\"radialaxis\":{\"gridcolor\":\"white\",\"linecolor\":\"white\",\"ticks\":\"\"}},\"ternary\":{\"bgcolor\":\"#E5ECF6\",\"aaxis\":{\"gridcolor\":\"white\",\"linecolor\":\"white\",\"ticks\":\"\"},\"baxis\":{\"gridcolor\":\"white\",\"linecolor\":\"white\",\"ticks\":\"\"},\"caxis\":{\"gridcolor\":\"white\",\"linecolor\":\"white\",\"ticks\":\"\"}},\"coloraxis\":{\"colorbar\":{\"outlinewidth\":0,\"ticks\":\"\"}},\"colorscale\":{\"sequential\":[[0.0,\"#0d0887\"],[0.1111111111111111,\"#46039f\"],[0.2222222222222222,\"#7201a8\"],[0.3333333333333333,\"#9c179e\"],[0.4444444444444444,\"#bd3786\"],[0.5555555555555556,\"#d8576b\"],[0.6666666666666666,\"#ed7953\"],[0.7777777777777778,\"#fb9f3a\"],[0.8888888888888888,\"#fdca26\"],[1.0,\"#f0f921\"]],\"sequentialminus\":[[0.0,\"#0d0887\"],[0.1111111111111111,\"#46039f\"],[0.2222222222222222,\"#7201a8\"],[0.3333333333333333,\"#9c179e\"],[0.4444444444444444,\"#bd3786\"],[0.5555555555555556,\"#d8576b\"],[0.6666666666666666,\"#ed7953\"],[0.7777777777777778,\"#fb9f3a\"],[0.8888888888888888,\"#fdca26\"],[1.0,\"#f0f921\"]],\"diverging\":[[0,\"#8e0152\"],[0.1,\"#c51b7d\"],[0.2,\"#de77ae\"],[0.3,\"#f1b6da\"],[0.4,\"#fde0ef\"],[0.5,\"#f7f7f7\"],[0.6,\"#e6f5d0\"],[0.7,\"#b8e186\"],[0.8,\"#7fbc41\"],[0.9,\"#4d9221\"],[1,\"#276419\"]]},\"xaxis\":{\"gridcolor\":\"white\",\"linecolor\":\"white\",\"ticks\":\"\",\"title\":{\"standoff\":15},\"zerolinecolor\":\"white\",\"automargin\":true,\"zerolinewidth\":2},\"yaxis\":{\"gridcolor\":\"white\",\"linecolor\":\"white\",\"ticks\":\"\",\"title\":{\"standoff\":15},\"zerolinecolor\":\"white\",\"automargin\":true,\"zerolinewidth\":2},\"scene\":{\"xaxis\":{\"backgroundcolor\":\"#E5ECF6\",\"gridcolor\":\"white\",\"linecolor\":\"white\",\"showbackground\":true,\"ticks\":\"\",\"zerolinecolor\":\"white\",\"gridwidth\":2},\"yaxis\":{\"backgroundcolor\":\"#E5ECF6\",\"gridcolor\":\"white\",\"linecolor\":\"white\",\"showbackground\":true,\"ticks\":\"\",\"zerolinecolor\":\"white\",\"gridwidth\":2},\"zaxis\":{\"backgroundcolor\":\"#E5ECF6\",\"gridcolor\":\"white\",\"linecolor\":\"white\",\"showbackground\":true,\"ticks\":\"\",\"zerolinecolor\":\"white\",\"gridwidth\":2}},\"shapedefaults\":{\"line\":{\"color\":\"#2a3f5f\"}},\"annotationdefaults\":{\"arrowcolor\":\"#2a3f5f\",\"arrowhead\":0,\"arrowwidth\":1},\"geo\":{\"bgcolor\":\"white\",\"landcolor\":\"#E5ECF6\",\"subunitcolor\":\"white\",\"showland\":true,\"showlakes\":true,\"lakecolor\":\"white\"},\"title\":{\"x\":0.05},\"mapbox\":{\"style\":\"light\"}}},\"title\":{\"text\":\"Loss\"},\"xaxis\":{\"title\":{\"text\":\"Epoch\"}},\"yaxis\":{\"title\":{\"text\":\"Loss\"}}},                        {\"responsive\": true}                    ).then(function(){\n",
       "                            \n",
       "var gd = document.getElementById('5285378d-65a3-4539-ba2a-815cbddb92a0');\n",
       "var x = new MutationObserver(function (mutations, observer) {{\n",
       "        var display = window.getComputedStyle(gd).display;\n",
       "        if (!display || display === 'none') {{\n",
       "            console.log([gd, 'removed!']);\n",
       "            Plotly.purge(gd);\n",
       "            observer.disconnect();\n",
       "        }}\n",
       "}});\n",
       "\n",
       "// Listen for the removal of the full notebook cells\n",
       "var notebookContainer = gd.closest('#notebook-container');\n",
       "if (notebookContainer) {{\n",
       "    x.observe(notebookContainer, {childList: true});\n",
       "}}\n",
       "\n",
       "// Listen for the clearing of the current output cell\n",
       "var outputEl = gd.closest('.output');\n",
       "if (outputEl) {{\n",
       "    x.observe(outputEl, {childList: true});\n",
       "}}\n",
       "\n",
       "                        })                };                });            </script>        </div>"
      ]
     },
     "metadata": {},
     "output_type": "display_data"
    }
   ],
   "source": [
    "# plot loss\n",
    "fig = go.Figure()\n",
    "# fig.add_trace(go.Scatter(y=lstm_history.history['loss'], mode='lines', name='loss'))\n",
    "fig.add_trace(go.Scatter(y=lstm_history.history['val_loss'], mode='lines', name='val_loss'))\n",
    "fig.update_layout(title='Loss', xaxis_title='Epoch', yaxis_title='Loss')\n",
    "fig.show()\n",
    "\n",
    "# save the plot\n",
    "fig.write_image(\"rnn_loss.png\")"
   ]
  },
  {
   "cell_type": "code",
   "execution_count": 65,
   "metadata": {},
   "outputs": [
    {
     "data": {
      "application/vnd.plotly.v1+json": {
       "config": {
        "plotlyServerURL": "https://plot.ly"
       },
       "data": [
        {
         "mode": "lines",
         "name": "val_accuracy",
         "type": "scatter",
         "y": [
          0.9078734517097473,
          0.9078734517097473,
          0.9078734517097473,
          0.9078734517097473,
          0.9078734517097473,
          0.9078734517097473,
          0.9078734517097473,
          0.9239439964294434,
          0.9239439964294434,
          0.9239439964294434,
          0.9239439964294434,
          0.9239439964294434,
          0.9239439964294434,
          0.9239439964294434,
          0.9239439964294434,
          0.9239439964294434,
          0.9239439964294434,
          0.9239439964294434,
          0.9239439964294434,
          0.9239439964294434,
          0.9239439964294434,
          0.9239439964294434,
          0.9239439964294434,
          0.9239439964294434,
          0.9239439964294434,
          0.9239439964294434,
          0.9239439964294434,
          0.9239439964294434,
          0.9239439964294434,
          0.9239439964294434,
          0.9239439964294434,
          0.9239439964294434,
          0.9239439964294434,
          0.9239439964294434,
          0.9239439964294434,
          0.9239439964294434,
          0.9239439964294434,
          0.9239439964294434,
          0.9239439964294434,
          0.9239439964294434,
          0.9239439964294434,
          0.9239439964294434,
          0.9239439964294434,
          0.9239439964294434,
          0.9239439964294434,
          0.9239439964294434,
          0.9239439964294434,
          0.9239439964294434,
          0.9239439964294434,
          0.9239439964294434,
          0.9239439964294434,
          0.9239439964294434,
          0.9239439964294434,
          0.9239439964294434,
          0.9239439964294434,
          0.9239439964294434,
          0.9239439964294434,
          0.9239439964294434,
          0.9270129799842834,
          0.9239439964294434,
          0.9239439964294434,
          0.9257853627204895,
          0.9270129799842834,
          0.9306958317756653,
          0.9317002296447754,
          0.9315886497497559,
          0.9317002296447754,
          0.931979238986969,
          0.931979238986969,
          0.931979238986969,
          0.931979238986969,
          0.9386752843856812,
          0.9400144815444946,
          0.9400144815444946,
          0.9400144815444946,
          0.9400144815444946,
          0.9400144815444946,
          0.9400144815444946,
          0.931979238986969,
          0.931979238986969,
          0.931979238986969,
          0.931979238986969,
          0.931979238986969,
          0.931979238986969,
          0.931979238986969,
          0.931979238986969,
          0.931979238986969,
          0.931979238986969,
          0.931979238986969,
          0.931979238986969,
          0.931979238986969,
          0.931979238986969,
          0.931979238986969,
          0.931979238986969,
          0.931979238986969,
          0.931979238986969,
          0.931979238986969,
          0.931979238986969,
          0.931979238986969,
          0.931979238986969
         ]
        }
       ],
       "layout": {
        "template": {
         "data": {
          "bar": [
           {
            "error_x": {
             "color": "#2a3f5f"
            },
            "error_y": {
             "color": "#2a3f5f"
            },
            "marker": {
             "line": {
              "color": "#E5ECF6",
              "width": 0.5
             },
             "pattern": {
              "fillmode": "overlay",
              "size": 10,
              "solidity": 0.2
             }
            },
            "type": "bar"
           }
          ],
          "barpolar": [
           {
            "marker": {
             "line": {
              "color": "#E5ECF6",
              "width": 0.5
             },
             "pattern": {
              "fillmode": "overlay",
              "size": 10,
              "solidity": 0.2
             }
            },
            "type": "barpolar"
           }
          ],
          "carpet": [
           {
            "aaxis": {
             "endlinecolor": "#2a3f5f",
             "gridcolor": "white",
             "linecolor": "white",
             "minorgridcolor": "white",
             "startlinecolor": "#2a3f5f"
            },
            "baxis": {
             "endlinecolor": "#2a3f5f",
             "gridcolor": "white",
             "linecolor": "white",
             "minorgridcolor": "white",
             "startlinecolor": "#2a3f5f"
            },
            "type": "carpet"
           }
          ],
          "choropleth": [
           {
            "colorbar": {
             "outlinewidth": 0,
             "ticks": ""
            },
            "type": "choropleth"
           }
          ],
          "contour": [
           {
            "colorbar": {
             "outlinewidth": 0,
             "ticks": ""
            },
            "colorscale": [
             [
              0,
              "#0d0887"
             ],
             [
              0.1111111111111111,
              "#46039f"
             ],
             [
              0.2222222222222222,
              "#7201a8"
             ],
             [
              0.3333333333333333,
              "#9c179e"
             ],
             [
              0.4444444444444444,
              "#bd3786"
             ],
             [
              0.5555555555555556,
              "#d8576b"
             ],
             [
              0.6666666666666666,
              "#ed7953"
             ],
             [
              0.7777777777777778,
              "#fb9f3a"
             ],
             [
              0.8888888888888888,
              "#fdca26"
             ],
             [
              1,
              "#f0f921"
             ]
            ],
            "type": "contour"
           }
          ],
          "contourcarpet": [
           {
            "colorbar": {
             "outlinewidth": 0,
             "ticks": ""
            },
            "type": "contourcarpet"
           }
          ],
          "heatmap": [
           {
            "colorbar": {
             "outlinewidth": 0,
             "ticks": ""
            },
            "colorscale": [
             [
              0,
              "#0d0887"
             ],
             [
              0.1111111111111111,
              "#46039f"
             ],
             [
              0.2222222222222222,
              "#7201a8"
             ],
             [
              0.3333333333333333,
              "#9c179e"
             ],
             [
              0.4444444444444444,
              "#bd3786"
             ],
             [
              0.5555555555555556,
              "#d8576b"
             ],
             [
              0.6666666666666666,
              "#ed7953"
             ],
             [
              0.7777777777777778,
              "#fb9f3a"
             ],
             [
              0.8888888888888888,
              "#fdca26"
             ],
             [
              1,
              "#f0f921"
             ]
            ],
            "type": "heatmap"
           }
          ],
          "heatmapgl": [
           {
            "colorbar": {
             "outlinewidth": 0,
             "ticks": ""
            },
            "colorscale": [
             [
              0,
              "#0d0887"
             ],
             [
              0.1111111111111111,
              "#46039f"
             ],
             [
              0.2222222222222222,
              "#7201a8"
             ],
             [
              0.3333333333333333,
              "#9c179e"
             ],
             [
              0.4444444444444444,
              "#bd3786"
             ],
             [
              0.5555555555555556,
              "#d8576b"
             ],
             [
              0.6666666666666666,
              "#ed7953"
             ],
             [
              0.7777777777777778,
              "#fb9f3a"
             ],
             [
              0.8888888888888888,
              "#fdca26"
             ],
             [
              1,
              "#f0f921"
             ]
            ],
            "type": "heatmapgl"
           }
          ],
          "histogram": [
           {
            "marker": {
             "pattern": {
              "fillmode": "overlay",
              "size": 10,
              "solidity": 0.2
             }
            },
            "type": "histogram"
           }
          ],
          "histogram2d": [
           {
            "colorbar": {
             "outlinewidth": 0,
             "ticks": ""
            },
            "colorscale": [
             [
              0,
              "#0d0887"
             ],
             [
              0.1111111111111111,
              "#46039f"
             ],
             [
              0.2222222222222222,
              "#7201a8"
             ],
             [
              0.3333333333333333,
              "#9c179e"
             ],
             [
              0.4444444444444444,
              "#bd3786"
             ],
             [
              0.5555555555555556,
              "#d8576b"
             ],
             [
              0.6666666666666666,
              "#ed7953"
             ],
             [
              0.7777777777777778,
              "#fb9f3a"
             ],
             [
              0.8888888888888888,
              "#fdca26"
             ],
             [
              1,
              "#f0f921"
             ]
            ],
            "type": "histogram2d"
           }
          ],
          "histogram2dcontour": [
           {
            "colorbar": {
             "outlinewidth": 0,
             "ticks": ""
            },
            "colorscale": [
             [
              0,
              "#0d0887"
             ],
             [
              0.1111111111111111,
              "#46039f"
             ],
             [
              0.2222222222222222,
              "#7201a8"
             ],
             [
              0.3333333333333333,
              "#9c179e"
             ],
             [
              0.4444444444444444,
              "#bd3786"
             ],
             [
              0.5555555555555556,
              "#d8576b"
             ],
             [
              0.6666666666666666,
              "#ed7953"
             ],
             [
              0.7777777777777778,
              "#fb9f3a"
             ],
             [
              0.8888888888888888,
              "#fdca26"
             ],
             [
              1,
              "#f0f921"
             ]
            ],
            "type": "histogram2dcontour"
           }
          ],
          "mesh3d": [
           {
            "colorbar": {
             "outlinewidth": 0,
             "ticks": ""
            },
            "type": "mesh3d"
           }
          ],
          "parcoords": [
           {
            "line": {
             "colorbar": {
              "outlinewidth": 0,
              "ticks": ""
             }
            },
            "type": "parcoords"
           }
          ],
          "pie": [
           {
            "automargin": true,
            "type": "pie"
           }
          ],
          "scatter": [
           {
            "fillpattern": {
             "fillmode": "overlay",
             "size": 10,
             "solidity": 0.2
            },
            "type": "scatter"
           }
          ],
          "scatter3d": [
           {
            "line": {
             "colorbar": {
              "outlinewidth": 0,
              "ticks": ""
             }
            },
            "marker": {
             "colorbar": {
              "outlinewidth": 0,
              "ticks": ""
             }
            },
            "type": "scatter3d"
           }
          ],
          "scattercarpet": [
           {
            "marker": {
             "colorbar": {
              "outlinewidth": 0,
              "ticks": ""
             }
            },
            "type": "scattercarpet"
           }
          ],
          "scattergeo": [
           {
            "marker": {
             "colorbar": {
              "outlinewidth": 0,
              "ticks": ""
             }
            },
            "type": "scattergeo"
           }
          ],
          "scattergl": [
           {
            "marker": {
             "colorbar": {
              "outlinewidth": 0,
              "ticks": ""
             }
            },
            "type": "scattergl"
           }
          ],
          "scattermapbox": [
           {
            "marker": {
             "colorbar": {
              "outlinewidth": 0,
              "ticks": ""
             }
            },
            "type": "scattermapbox"
           }
          ],
          "scatterpolar": [
           {
            "marker": {
             "colorbar": {
              "outlinewidth": 0,
              "ticks": ""
             }
            },
            "type": "scatterpolar"
           }
          ],
          "scatterpolargl": [
           {
            "marker": {
             "colorbar": {
              "outlinewidth": 0,
              "ticks": ""
             }
            },
            "type": "scatterpolargl"
           }
          ],
          "scatterternary": [
           {
            "marker": {
             "colorbar": {
              "outlinewidth": 0,
              "ticks": ""
             }
            },
            "type": "scatterternary"
           }
          ],
          "surface": [
           {
            "colorbar": {
             "outlinewidth": 0,
             "ticks": ""
            },
            "colorscale": [
             [
              0,
              "#0d0887"
             ],
             [
              0.1111111111111111,
              "#46039f"
             ],
             [
              0.2222222222222222,
              "#7201a8"
             ],
             [
              0.3333333333333333,
              "#9c179e"
             ],
             [
              0.4444444444444444,
              "#bd3786"
             ],
             [
              0.5555555555555556,
              "#d8576b"
             ],
             [
              0.6666666666666666,
              "#ed7953"
             ],
             [
              0.7777777777777778,
              "#fb9f3a"
             ],
             [
              0.8888888888888888,
              "#fdca26"
             ],
             [
              1,
              "#f0f921"
             ]
            ],
            "type": "surface"
           }
          ],
          "table": [
           {
            "cells": {
             "fill": {
              "color": "#EBF0F8"
             },
             "line": {
              "color": "white"
             }
            },
            "header": {
             "fill": {
              "color": "#C8D4E3"
             },
             "line": {
              "color": "white"
             }
            },
            "type": "table"
           }
          ]
         },
         "layout": {
          "annotationdefaults": {
           "arrowcolor": "#2a3f5f",
           "arrowhead": 0,
           "arrowwidth": 1
          },
          "autotypenumbers": "strict",
          "coloraxis": {
           "colorbar": {
            "outlinewidth": 0,
            "ticks": ""
           }
          },
          "colorscale": {
           "diverging": [
            [
             0,
             "#8e0152"
            ],
            [
             0.1,
             "#c51b7d"
            ],
            [
             0.2,
             "#de77ae"
            ],
            [
             0.3,
             "#f1b6da"
            ],
            [
             0.4,
             "#fde0ef"
            ],
            [
             0.5,
             "#f7f7f7"
            ],
            [
             0.6,
             "#e6f5d0"
            ],
            [
             0.7,
             "#b8e186"
            ],
            [
             0.8,
             "#7fbc41"
            ],
            [
             0.9,
             "#4d9221"
            ],
            [
             1,
             "#276419"
            ]
           ],
           "sequential": [
            [
             0,
             "#0d0887"
            ],
            [
             0.1111111111111111,
             "#46039f"
            ],
            [
             0.2222222222222222,
             "#7201a8"
            ],
            [
             0.3333333333333333,
             "#9c179e"
            ],
            [
             0.4444444444444444,
             "#bd3786"
            ],
            [
             0.5555555555555556,
             "#d8576b"
            ],
            [
             0.6666666666666666,
             "#ed7953"
            ],
            [
             0.7777777777777778,
             "#fb9f3a"
            ],
            [
             0.8888888888888888,
             "#fdca26"
            ],
            [
             1,
             "#f0f921"
            ]
           ],
           "sequentialminus": [
            [
             0,
             "#0d0887"
            ],
            [
             0.1111111111111111,
             "#46039f"
            ],
            [
             0.2222222222222222,
             "#7201a8"
            ],
            [
             0.3333333333333333,
             "#9c179e"
            ],
            [
             0.4444444444444444,
             "#bd3786"
            ],
            [
             0.5555555555555556,
             "#d8576b"
            ],
            [
             0.6666666666666666,
             "#ed7953"
            ],
            [
             0.7777777777777778,
             "#fb9f3a"
            ],
            [
             0.8888888888888888,
             "#fdca26"
            ],
            [
             1,
             "#f0f921"
            ]
           ]
          },
          "colorway": [
           "#636efa",
           "#EF553B",
           "#00cc96",
           "#ab63fa",
           "#FFA15A",
           "#19d3f3",
           "#FF6692",
           "#B6E880",
           "#FF97FF",
           "#FECB52"
          ],
          "font": {
           "color": "#2a3f5f"
          },
          "geo": {
           "bgcolor": "white",
           "lakecolor": "white",
           "landcolor": "#E5ECF6",
           "showlakes": true,
           "showland": true,
           "subunitcolor": "white"
          },
          "hoverlabel": {
           "align": "left"
          },
          "hovermode": "closest",
          "mapbox": {
           "style": "light"
          },
          "paper_bgcolor": "white",
          "plot_bgcolor": "#E5ECF6",
          "polar": {
           "angularaxis": {
            "gridcolor": "white",
            "linecolor": "white",
            "ticks": ""
           },
           "bgcolor": "#E5ECF6",
           "radialaxis": {
            "gridcolor": "white",
            "linecolor": "white",
            "ticks": ""
           }
          },
          "scene": {
           "xaxis": {
            "backgroundcolor": "#E5ECF6",
            "gridcolor": "white",
            "gridwidth": 2,
            "linecolor": "white",
            "showbackground": true,
            "ticks": "",
            "zerolinecolor": "white"
           },
           "yaxis": {
            "backgroundcolor": "#E5ECF6",
            "gridcolor": "white",
            "gridwidth": 2,
            "linecolor": "white",
            "showbackground": true,
            "ticks": "",
            "zerolinecolor": "white"
           },
           "zaxis": {
            "backgroundcolor": "#E5ECF6",
            "gridcolor": "white",
            "gridwidth": 2,
            "linecolor": "white",
            "showbackground": true,
            "ticks": "",
            "zerolinecolor": "white"
           }
          },
          "shapedefaults": {
           "line": {
            "color": "#2a3f5f"
           }
          },
          "ternary": {
           "aaxis": {
            "gridcolor": "white",
            "linecolor": "white",
            "ticks": ""
           },
           "baxis": {
            "gridcolor": "white",
            "linecolor": "white",
            "ticks": ""
           },
           "bgcolor": "#E5ECF6",
           "caxis": {
            "gridcolor": "white",
            "linecolor": "white",
            "ticks": ""
           }
          },
          "title": {
           "x": 0.05
          },
          "xaxis": {
           "automargin": true,
           "gridcolor": "white",
           "linecolor": "white",
           "ticks": "",
           "title": {
            "standoff": 15
           },
           "zerolinecolor": "white",
           "zerolinewidth": 2
          },
          "yaxis": {
           "automargin": true,
           "gridcolor": "white",
           "linecolor": "white",
           "ticks": "",
           "title": {
            "standoff": 15
           },
           "zerolinecolor": "white",
           "zerolinewidth": 2
          }
         }
        },
        "title": {
         "text": "Accuracy"
        },
        "xaxis": {
         "title": {
          "text": "Epoch"
         }
        },
        "yaxis": {
         "title": {
          "text": "Accuracy"
         }
        }
       }
      },
      "text/html": [
       "<div>                            <div id=\"1b36c9ae-4801-42fa-99a1-ad804232e96b\" class=\"plotly-graph-div\" style=\"height:525px; width:100%;\"></div>            <script type=\"text/javascript\">                require([\"plotly\"], function(Plotly) {                    window.PLOTLYENV=window.PLOTLYENV || {};                                    if (document.getElementById(\"1b36c9ae-4801-42fa-99a1-ad804232e96b\")) {                    Plotly.newPlot(                        \"1b36c9ae-4801-42fa-99a1-ad804232e96b\",                        [{\"mode\":\"lines\",\"name\":\"val_accuracy\",\"y\":[0.9078734517097473,0.9078734517097473,0.9078734517097473,0.9078734517097473,0.9078734517097473,0.9078734517097473,0.9078734517097473,0.9239439964294434,0.9239439964294434,0.9239439964294434,0.9239439964294434,0.9239439964294434,0.9239439964294434,0.9239439964294434,0.9239439964294434,0.9239439964294434,0.9239439964294434,0.9239439964294434,0.9239439964294434,0.9239439964294434,0.9239439964294434,0.9239439964294434,0.9239439964294434,0.9239439964294434,0.9239439964294434,0.9239439964294434,0.9239439964294434,0.9239439964294434,0.9239439964294434,0.9239439964294434,0.9239439964294434,0.9239439964294434,0.9239439964294434,0.9239439964294434,0.9239439964294434,0.9239439964294434,0.9239439964294434,0.9239439964294434,0.9239439964294434,0.9239439964294434,0.9239439964294434,0.9239439964294434,0.9239439964294434,0.9239439964294434,0.9239439964294434,0.9239439964294434,0.9239439964294434,0.9239439964294434,0.9239439964294434,0.9239439964294434,0.9239439964294434,0.9239439964294434,0.9239439964294434,0.9239439964294434,0.9239439964294434,0.9239439964294434,0.9239439964294434,0.9239439964294434,0.9270129799842834,0.9239439964294434,0.9239439964294434,0.9257853627204895,0.9270129799842834,0.9306958317756653,0.9317002296447754,0.9315886497497559,0.9317002296447754,0.931979238986969,0.931979238986969,0.931979238986969,0.931979238986969,0.9386752843856812,0.9400144815444946,0.9400144815444946,0.9400144815444946,0.9400144815444946,0.9400144815444946,0.9400144815444946,0.931979238986969,0.931979238986969,0.931979238986969,0.931979238986969,0.931979238986969,0.931979238986969,0.931979238986969,0.931979238986969,0.931979238986969,0.931979238986969,0.931979238986969,0.931979238986969,0.931979238986969,0.931979238986969,0.931979238986969,0.931979238986969,0.931979238986969,0.931979238986969,0.931979238986969,0.931979238986969,0.931979238986969,0.931979238986969],\"type\":\"scatter\"}],                        {\"template\":{\"data\":{\"histogram2dcontour\":[{\"type\":\"histogram2dcontour\",\"colorbar\":{\"outlinewidth\":0,\"ticks\":\"\"},\"colorscale\":[[0.0,\"#0d0887\"],[0.1111111111111111,\"#46039f\"],[0.2222222222222222,\"#7201a8\"],[0.3333333333333333,\"#9c179e\"],[0.4444444444444444,\"#bd3786\"],[0.5555555555555556,\"#d8576b\"],[0.6666666666666666,\"#ed7953\"],[0.7777777777777778,\"#fb9f3a\"],[0.8888888888888888,\"#fdca26\"],[1.0,\"#f0f921\"]]}],\"choropleth\":[{\"type\":\"choropleth\",\"colorbar\":{\"outlinewidth\":0,\"ticks\":\"\"}}],\"histogram2d\":[{\"type\":\"histogram2d\",\"colorbar\":{\"outlinewidth\":0,\"ticks\":\"\"},\"colorscale\":[[0.0,\"#0d0887\"],[0.1111111111111111,\"#46039f\"],[0.2222222222222222,\"#7201a8\"],[0.3333333333333333,\"#9c179e\"],[0.4444444444444444,\"#bd3786\"],[0.5555555555555556,\"#d8576b\"],[0.6666666666666666,\"#ed7953\"],[0.7777777777777778,\"#fb9f3a\"],[0.8888888888888888,\"#fdca26\"],[1.0,\"#f0f921\"]]}],\"heatmap\":[{\"type\":\"heatmap\",\"colorbar\":{\"outlinewidth\":0,\"ticks\":\"\"},\"colorscale\":[[0.0,\"#0d0887\"],[0.1111111111111111,\"#46039f\"],[0.2222222222222222,\"#7201a8\"],[0.3333333333333333,\"#9c179e\"],[0.4444444444444444,\"#bd3786\"],[0.5555555555555556,\"#d8576b\"],[0.6666666666666666,\"#ed7953\"],[0.7777777777777778,\"#fb9f3a\"],[0.8888888888888888,\"#fdca26\"],[1.0,\"#f0f921\"]]}],\"heatmapgl\":[{\"type\":\"heatmapgl\",\"colorbar\":{\"outlinewidth\":0,\"ticks\":\"\"},\"colorscale\":[[0.0,\"#0d0887\"],[0.1111111111111111,\"#46039f\"],[0.2222222222222222,\"#7201a8\"],[0.3333333333333333,\"#9c179e\"],[0.4444444444444444,\"#bd3786\"],[0.5555555555555556,\"#d8576b\"],[0.6666666666666666,\"#ed7953\"],[0.7777777777777778,\"#fb9f3a\"],[0.8888888888888888,\"#fdca26\"],[1.0,\"#f0f921\"]]}],\"contourcarpet\":[{\"type\":\"contourcarpet\",\"colorbar\":{\"outlinewidth\":0,\"ticks\":\"\"}}],\"contour\":[{\"type\":\"contour\",\"colorbar\":{\"outlinewidth\":0,\"ticks\":\"\"},\"colorscale\":[[0.0,\"#0d0887\"],[0.1111111111111111,\"#46039f\"],[0.2222222222222222,\"#7201a8\"],[0.3333333333333333,\"#9c179e\"],[0.4444444444444444,\"#bd3786\"],[0.5555555555555556,\"#d8576b\"],[0.6666666666666666,\"#ed7953\"],[0.7777777777777778,\"#fb9f3a\"],[0.8888888888888888,\"#fdca26\"],[1.0,\"#f0f921\"]]}],\"surface\":[{\"type\":\"surface\",\"colorbar\":{\"outlinewidth\":0,\"ticks\":\"\"},\"colorscale\":[[0.0,\"#0d0887\"],[0.1111111111111111,\"#46039f\"],[0.2222222222222222,\"#7201a8\"],[0.3333333333333333,\"#9c179e\"],[0.4444444444444444,\"#bd3786\"],[0.5555555555555556,\"#d8576b\"],[0.6666666666666666,\"#ed7953\"],[0.7777777777777778,\"#fb9f3a\"],[0.8888888888888888,\"#fdca26\"],[1.0,\"#f0f921\"]]}],\"mesh3d\":[{\"type\":\"mesh3d\",\"colorbar\":{\"outlinewidth\":0,\"ticks\":\"\"}}],\"scatter\":[{\"fillpattern\":{\"fillmode\":\"overlay\",\"size\":10,\"solidity\":0.2},\"type\":\"scatter\"}],\"parcoords\":[{\"type\":\"parcoords\",\"line\":{\"colorbar\":{\"outlinewidth\":0,\"ticks\":\"\"}}}],\"scatterpolargl\":[{\"type\":\"scatterpolargl\",\"marker\":{\"colorbar\":{\"outlinewidth\":0,\"ticks\":\"\"}}}],\"bar\":[{\"error_x\":{\"color\":\"#2a3f5f\"},\"error_y\":{\"color\":\"#2a3f5f\"},\"marker\":{\"line\":{\"color\":\"#E5ECF6\",\"width\":0.5},\"pattern\":{\"fillmode\":\"overlay\",\"size\":10,\"solidity\":0.2}},\"type\":\"bar\"}],\"scattergeo\":[{\"type\":\"scattergeo\",\"marker\":{\"colorbar\":{\"outlinewidth\":0,\"ticks\":\"\"}}}],\"scatterpolar\":[{\"type\":\"scatterpolar\",\"marker\":{\"colorbar\":{\"outlinewidth\":0,\"ticks\":\"\"}}}],\"histogram\":[{\"marker\":{\"pattern\":{\"fillmode\":\"overlay\",\"size\":10,\"solidity\":0.2}},\"type\":\"histogram\"}],\"scattergl\":[{\"type\":\"scattergl\",\"marker\":{\"colorbar\":{\"outlinewidth\":0,\"ticks\":\"\"}}}],\"scatter3d\":[{\"type\":\"scatter3d\",\"line\":{\"colorbar\":{\"outlinewidth\":0,\"ticks\":\"\"}},\"marker\":{\"colorbar\":{\"outlinewidth\":0,\"ticks\":\"\"}}}],\"scattermapbox\":[{\"type\":\"scattermapbox\",\"marker\":{\"colorbar\":{\"outlinewidth\":0,\"ticks\":\"\"}}}],\"scatterternary\":[{\"type\":\"scatterternary\",\"marker\":{\"colorbar\":{\"outlinewidth\":0,\"ticks\":\"\"}}}],\"scattercarpet\":[{\"type\":\"scattercarpet\",\"marker\":{\"colorbar\":{\"outlinewidth\":0,\"ticks\":\"\"}}}],\"carpet\":[{\"aaxis\":{\"endlinecolor\":\"#2a3f5f\",\"gridcolor\":\"white\",\"linecolor\":\"white\",\"minorgridcolor\":\"white\",\"startlinecolor\":\"#2a3f5f\"},\"baxis\":{\"endlinecolor\":\"#2a3f5f\",\"gridcolor\":\"white\",\"linecolor\":\"white\",\"minorgridcolor\":\"white\",\"startlinecolor\":\"#2a3f5f\"},\"type\":\"carpet\"}],\"table\":[{\"cells\":{\"fill\":{\"color\":\"#EBF0F8\"},\"line\":{\"color\":\"white\"}},\"header\":{\"fill\":{\"color\":\"#C8D4E3\"},\"line\":{\"color\":\"white\"}},\"type\":\"table\"}],\"barpolar\":[{\"marker\":{\"line\":{\"color\":\"#E5ECF6\",\"width\":0.5},\"pattern\":{\"fillmode\":\"overlay\",\"size\":10,\"solidity\":0.2}},\"type\":\"barpolar\"}],\"pie\":[{\"automargin\":true,\"type\":\"pie\"}]},\"layout\":{\"autotypenumbers\":\"strict\",\"colorway\":[\"#636efa\",\"#EF553B\",\"#00cc96\",\"#ab63fa\",\"#FFA15A\",\"#19d3f3\",\"#FF6692\",\"#B6E880\",\"#FF97FF\",\"#FECB52\"],\"font\":{\"color\":\"#2a3f5f\"},\"hovermode\":\"closest\",\"hoverlabel\":{\"align\":\"left\"},\"paper_bgcolor\":\"white\",\"plot_bgcolor\":\"#E5ECF6\",\"polar\":{\"bgcolor\":\"#E5ECF6\",\"angularaxis\":{\"gridcolor\":\"white\",\"linecolor\":\"white\",\"ticks\":\"\"},\"radialaxis\":{\"gridcolor\":\"white\",\"linecolor\":\"white\",\"ticks\":\"\"}},\"ternary\":{\"bgcolor\":\"#E5ECF6\",\"aaxis\":{\"gridcolor\":\"white\",\"linecolor\":\"white\",\"ticks\":\"\"},\"baxis\":{\"gridcolor\":\"white\",\"linecolor\":\"white\",\"ticks\":\"\"},\"caxis\":{\"gridcolor\":\"white\",\"linecolor\":\"white\",\"ticks\":\"\"}},\"coloraxis\":{\"colorbar\":{\"outlinewidth\":0,\"ticks\":\"\"}},\"colorscale\":{\"sequential\":[[0.0,\"#0d0887\"],[0.1111111111111111,\"#46039f\"],[0.2222222222222222,\"#7201a8\"],[0.3333333333333333,\"#9c179e\"],[0.4444444444444444,\"#bd3786\"],[0.5555555555555556,\"#d8576b\"],[0.6666666666666666,\"#ed7953\"],[0.7777777777777778,\"#fb9f3a\"],[0.8888888888888888,\"#fdca26\"],[1.0,\"#f0f921\"]],\"sequentialminus\":[[0.0,\"#0d0887\"],[0.1111111111111111,\"#46039f\"],[0.2222222222222222,\"#7201a8\"],[0.3333333333333333,\"#9c179e\"],[0.4444444444444444,\"#bd3786\"],[0.5555555555555556,\"#d8576b\"],[0.6666666666666666,\"#ed7953\"],[0.7777777777777778,\"#fb9f3a\"],[0.8888888888888888,\"#fdca26\"],[1.0,\"#f0f921\"]],\"diverging\":[[0,\"#8e0152\"],[0.1,\"#c51b7d\"],[0.2,\"#de77ae\"],[0.3,\"#f1b6da\"],[0.4,\"#fde0ef\"],[0.5,\"#f7f7f7\"],[0.6,\"#e6f5d0\"],[0.7,\"#b8e186\"],[0.8,\"#7fbc41\"],[0.9,\"#4d9221\"],[1,\"#276419\"]]},\"xaxis\":{\"gridcolor\":\"white\",\"linecolor\":\"white\",\"ticks\":\"\",\"title\":{\"standoff\":15},\"zerolinecolor\":\"white\",\"automargin\":true,\"zerolinewidth\":2},\"yaxis\":{\"gridcolor\":\"white\",\"linecolor\":\"white\",\"ticks\":\"\",\"title\":{\"standoff\":15},\"zerolinecolor\":\"white\",\"automargin\":true,\"zerolinewidth\":2},\"scene\":{\"xaxis\":{\"backgroundcolor\":\"#E5ECF6\",\"gridcolor\":\"white\",\"linecolor\":\"white\",\"showbackground\":true,\"ticks\":\"\",\"zerolinecolor\":\"white\",\"gridwidth\":2},\"yaxis\":{\"backgroundcolor\":\"#E5ECF6\",\"gridcolor\":\"white\",\"linecolor\":\"white\",\"showbackground\":true,\"ticks\":\"\",\"zerolinecolor\":\"white\",\"gridwidth\":2},\"zaxis\":{\"backgroundcolor\":\"#E5ECF6\",\"gridcolor\":\"white\",\"linecolor\":\"white\",\"showbackground\":true,\"ticks\":\"\",\"zerolinecolor\":\"white\",\"gridwidth\":2}},\"shapedefaults\":{\"line\":{\"color\":\"#2a3f5f\"}},\"annotationdefaults\":{\"arrowcolor\":\"#2a3f5f\",\"arrowhead\":0,\"arrowwidth\":1},\"geo\":{\"bgcolor\":\"white\",\"landcolor\":\"#E5ECF6\",\"subunitcolor\":\"white\",\"showland\":true,\"showlakes\":true,\"lakecolor\":\"white\"},\"title\":{\"x\":0.05},\"mapbox\":{\"style\":\"light\"}}},\"title\":{\"text\":\"Accuracy\"},\"xaxis\":{\"title\":{\"text\":\"Epoch\"}},\"yaxis\":{\"title\":{\"text\":\"Accuracy\"}}},                        {\"responsive\": true}                    ).then(function(){\n",
       "                            \n",
       "var gd = document.getElementById('1b36c9ae-4801-42fa-99a1-ad804232e96b');\n",
       "var x = new MutationObserver(function (mutations, observer) {{\n",
       "        var display = window.getComputedStyle(gd).display;\n",
       "        if (!display || display === 'none') {{\n",
       "            console.log([gd, 'removed!']);\n",
       "            Plotly.purge(gd);\n",
       "            observer.disconnect();\n",
       "        }}\n",
       "}});\n",
       "\n",
       "// Listen for the removal of the full notebook cells\n",
       "var notebookContainer = gd.closest('#notebook-container');\n",
       "if (notebookContainer) {{\n",
       "    x.observe(notebookContainer, {childList: true});\n",
       "}}\n",
       "\n",
       "// Listen for the clearing of the current output cell\n",
       "var outputEl = gd.closest('.output');\n",
       "if (outputEl) {{\n",
       "    x.observe(outputEl, {childList: true});\n",
       "}}\n",
       "\n",
       "                        })                };                });            </script>        </div>"
      ]
     },
     "metadata": {},
     "output_type": "display_data"
    }
   ],
   "source": [
    "# plot accuracy\n",
    "fig = go.Figure()\n",
    "# fig.add_trace(go.Scatter(y=lstm_history.history['accuracy'], mode='lines', name='accuracy'))\n",
    "fig.add_trace(go.Scatter(y=lstm_history.history['val_accuracy'], mode='lines', name='val_accuracy'))\n",
    "fig.update_layout(title='Accuracy', xaxis_title='Epoch', yaxis_title='Accuracy')\n",
    "fig.show()\n",
    "\n",
    "# save the plot\n",
    "fig.write_image(\"rnn_accuracy.png\")"
   ]
  },
  {
   "cell_type": "code",
   "execution_count": null,
   "metadata": {},
   "outputs": [],
   "source": []
  },
  {
   "cell_type": "markdown",
   "metadata": {},
   "source": [
    "### Results"
   ]
  },
  {
   "cell_type": "markdown",
   "metadata": {},
   "source": [
    "با توجه به جدول ارائه شده، هر مدل با تعدادی معیار ارزیابی شده‌است. به تفصیل و با توجه به هر معیار و مدل به بررسی می پردازیم:\n",
    "\n",
    "**1. Logistic Regression:**\n",
    "- **Accuracy (دقت کلی):** \\(0.9737\\) نشان‌دهنده این است که این مدل موفق شده 97.37% از داده‌ها را به درستی طبقه‌بندی کند.\n",
    "- **Precision:** این مدل با دقت 100% وقتی یک شرکت را ورشکسته می‌پندارد، درست است.\n",
    "- **Recall:** این مدل 62.69% از شرکت‌های واقعا ورشکسته را تشخیص می‌دهد.\n",
    "- **F1-Score:** \\(0.7706\\) نشان‌دهنده توازن مناسبی بین دقت و بازخوانی است.\n",
    "- **ROC_AUC:** \\(0.8134\\) نشان‌دهنده عملکرد قابل قبول این مدل است.\n",
    "\n",
    "**2. SVM:**\n",
    "- **Accuracy:** \\(0.9836\\)، این مدل توانمندی دارد که 98.36% از داده‌ها را به درستی طبقه‌بندی کند.\n",
    "- **Precision:** مانند مدل قبلی، دقت 100% را دارد.\n",
    "- **Recall:** 76.77% از شرکت‌های واقعا ورشکسته را تشخیص می‌دهد، بهبود قابل توجهی نسبت به مدل قبلی.\n",
    "- **F1-Score:** با \\(0.8686\\)، توازن بهتری نسبت به مدل Logistic Regression دارد.\n",
    "- **ROC_AUC:** \\(0.8838\\) نشان‌دهنده عملکرد بسیار خوبی است.\n",
    "\n",
    "**3. Random Forest:**\n",
    "- **Accuracy:** با \\(0.9944\\)، بالاترین دقت در بین تمامی مدل‌ها را دارد.\n",
    "- **Precision:** مانند دو مدل قبلی، دقت 100% دارد.\n",
    "- **Recall:** با 92.10%، بالاترین بازخوانی را نیز دارد.\n",
    "- **F1-Score:** \\(0.9589\\)، بهترین توازن بین دقت و بازخوانی را نشان می‌دهد.\n",
    "- **ROC_AUC:** \\(0.9605\\) نشان‌دهنده عملکرد فوق‌العاده این مدل است.\n",
    "\n",
    "**4. LSTM:**\n",
    "- **Accuracy:** \\(0.8993\\)، دقت کمتری نسبت به سایر مدل‌ها دارد.\n",
    "- **Precision:** با 85.71%، از سایر مدل‌ها پایین‌تر است.\n",
    "- **Recall:** تنها 34.22% از شرکت‌های واقعا ورشکسته را تشخیص می‌دهد.\n",
    "- **F1-Score:** با \\(0.4891\\)، نشان‌دهنده توازن ضعیفی بین دقت و بازخوانی است.\n",
    "- **ROC_AUC:** \\(0.6664\\)، نشان‌دهنده عملکرد متوسط این مدل است.\n",
    "\n",
    "**5. RNN:**\n",
    "- **Accuracy:** مشابه LSTM با \\(0.8993\\) دقت دارد.\n",
    "- **Precision:** مانند برخی از مدل‌های قبلی، دقت 100% دارد.\n",
    "- **Recall:** تنها 28.51% از شرکت‌های واقعا ورشکسته را تشخیص می‌دهد، کمترین بازخوانی بین مدل‌ها.\n",
    "- **F1-Score:** \\(0.4438\\) نشان‌دهنده توازن ضعیف بین دقت و بازخوانی است.\n",
    "- **ROC_AUC:** \\(0.6426\\) نشان‌دهنده عملکرد متوسط این مدل است.\n",
    "\n",
    "### خلاصه:\n",
    "- **Random Forest** در تمامی معیارها برترین عملکرد را نشان می‌دهد و برای این مسءله بهترین انتخاب به نظر می‌رسد.\n",
    "- **Logistic Regression** و **SVM** عملکردهای خوبی دارند، اما هیچ‌کدام به اندازه Random Forest به خوبی عمل نکرده‌اند.\n",
    "- **LSTM** و **RNN** عملکردهای ضعیف‌تری دارند، خصوصاً در بازخوانی، و احتمالاً نیاز به تنظیم مجدد دارند.\n",
    "\n",
    "انتخاب مدل نهایی وابسته به نیازهای کاربردی و اهمیت معیارهای مختلف می‌باشد."
   ]
  },
  {
   "cell_type": "code",
   "execution_count": 66,
   "metadata": {},
   "outputs": [
    {
     "name": "stdout",
     "output_type": "stream",
     "text": [
      "                 model  accuracy  precision  recall      f1  roc_auc\n",
      "0  Logistic Regression    0.9747     1.0000  0.6411  0.7813   0.8206\n",
      "1                  SVM    0.9834     1.0000  0.7641  0.8663   0.8821\n",
      "2        Random Forest    0.9944     1.0000  0.9210  0.9589   0.9605\n",
      "3                 LSTM    0.9003     0.8398  0.3612  0.5051   0.6749\n",
      "4                  RNN    0.8993     1.0000  0.2851  0.4438   0.6426\n"
     ]
    }
   ],
   "source": [
    "results.to_csv('results.csv', index=False)\n",
    "print(results)"
   ]
  },
  {
   "cell_type": "code",
   "execution_count": 67,
   "metadata": {},
   "outputs": [],
   "source": [
    "# plot comparative metrics for different models\n",
    "\n"
   ]
  },
  {
   "cell_type": "code",
   "execution_count": 68,
   "metadata": {},
   "outputs": [
    {
     "data": {
      "application/vnd.plotly.v1+json": {
       "config": {
        "plotlyServerURL": "https://plot.ly"
       },
       "data": [
        {
         "mode": "lines+markers",
         "name": "RNN validation loss",
         "type": "scatter",
         "x": [
          0,
          1,
          2,
          3,
          4,
          5,
          6,
          7,
          8,
          9,
          10,
          11,
          12,
          13,
          14,
          15,
          16,
          17,
          18,
          19,
          20,
          21,
          22,
          23,
          24,
          25,
          26,
          27,
          28,
          29,
          30,
          31,
          32,
          33,
          34,
          35,
          36,
          37,
          38,
          39,
          40,
          41,
          42,
          43,
          44,
          45,
          46,
          47,
          48,
          49,
          50,
          51,
          52,
          53,
          54,
          55,
          56,
          57,
          58,
          59,
          60,
          61,
          62,
          63,
          64,
          65,
          66,
          67,
          68,
          69,
          70,
          71,
          72,
          73,
          74,
          75,
          76,
          77,
          78,
          79,
          80,
          81,
          82,
          83,
          84,
          85,
          86,
          87,
          88,
          89,
          90,
          91,
          92,
          93,
          94,
          95,
          96,
          97,
          98,
          99
         ],
         "y": [
          0.3990159332752228,
          0.398110568523407,
          0.40999794006347656,
          0.414063036441803,
          0.38914546370506287,
          0.36757510900497437,
          0.357388436794281,
          0.34789130091667175,
          0.340414434671402,
          0.32980284094810486,
          0.32015061378479004,
          0.3059540390968323,
          0.30615830421447754,
          0.30275025963783264,
          0.301093727350235,
          0.30266422033309937,
          0.30108311772346497,
          0.2996339797973633,
          0.30717650055885315,
          0.32173991203308105,
          0.3405066430568695,
          0.3233226537704468,
          0.2907460629940033,
          0.29476597905158997,
          0.2851385176181793,
          0.2647075951099396,
          0.2588493525981903,
          0.2731916904449463,
          0.26196807622909546,
          0.25361597537994385,
          0.2709767818450928,
          0.25765669345855713,
          0.2549823522567749,
          0.24406741559505463,
          0.2418225109577179,
          0.25253528356552124,
          0.24028238654136658,
          0.26029953360557556,
          0.2568333148956299,
          0.23347358405590057,
          0.2497011423110962,
          0.2378174364566803,
          0.24319079518318176,
          0.2535608410835266,
          0.26733848452568054,
          0.2611572742462158,
          0.27475839853286743,
          0.2881598472595215,
          0.2741900384426117,
          0.3045042157173157,
          0.28385239839553833,
          0.34278008341789246,
          0.3396609127521515,
          0.304159939289093,
          0.28037193417549133,
          0.27365946769714355,
          0.28856319189071655,
          0.20033641159534454,
          0.22837018966674805,
          0.1958370953798294,
          0.24991771578788757,
          0.22103460133075714,
          0.3765491247177124,
          0.3250102698802948,
          0.32422319054603577,
          0.3787902295589447,
          0.31986647844314575,
          0.36193397641181946,
          0.3284865617752075,
          0.3202438950538635,
          0.29074087738990784,
          0.28648653626441956,
          0.32713818550109863,
          0.31426361203193665,
          0.3024134337902069,
          0.32751742005348206,
          0.3576962649822235,
          0.39611345529556274,
          0.35995984077453613,
          0.3266143202781677,
          0.3092767298221588,
          0.30790284276008606,
          0.3102317452430725,
          0.3167393207550049,
          0.27311888337135315,
          0.3284660875797272,
          0.2733713984489441,
          0.2963840663433075,
          0.3333984613418579,
          0.331368088722229,
          0.32145214080810547,
          0.21534620225429535,
          0.343287855386734,
          0.3080143928527832,
          0.3000982105731964,
          0.3291698396205902,
          0.2724548578262329,
          0.35660460591316223,
          0.3176533579826355,
          0.3113239109516144
         ]
        },
        {
         "mode": "lines+markers",
         "name": "LSTM validation loss",
         "type": "scatter",
         "x": [
          0,
          1,
          2,
          3,
          4,
          5,
          6,
          7,
          8,
          9,
          10,
          11,
          12,
          13,
          14,
          15,
          16,
          17,
          18,
          19,
          20,
          21,
          22,
          23,
          24,
          25,
          26,
          27,
          28,
          29,
          30,
          31,
          32,
          33,
          34,
          35,
          36,
          37,
          38,
          39,
          40,
          41,
          42,
          43,
          44,
          45,
          46,
          47,
          48,
          49,
          50,
          51,
          52,
          53,
          54,
          55,
          56,
          57,
          58,
          59,
          60,
          61,
          62,
          63,
          64,
          65,
          66,
          67,
          68,
          69,
          70,
          71,
          72,
          73,
          74,
          75,
          76,
          77,
          78,
          79,
          80,
          81,
          82,
          83,
          84,
          85,
          86,
          87,
          88,
          89,
          90,
          91,
          92,
          93,
          94,
          95,
          96,
          97,
          98,
          99
         ],
         "y": [
          0.32482126355171204,
          0.32246625423431396,
          0.3491019010543823,
          0.3818781077861786,
          0.39662060141563416,
          0.39160099625587463,
          0.3804176449775696,
          0.36898013949394226,
          0.35691797733306885,
          0.345567524433136,
          0.3341349959373474,
          0.32251548767089844,
          0.3104247450828552,
          0.29652470350265503,
          0.28494447469711304,
          0.2759479582309723,
          0.26825523376464844,
          0.26315805315971375,
          0.2575211524963379,
          0.25380566716194153,
          0.24938030540943146,
          0.2459675669670105,
          0.2415134757757187,
          0.23894663155078888,
          0.2371741235256195,
          0.23516038060188293,
          0.23314853012561798,
          0.23175957798957825,
          0.2306884080171585,
          0.23007357120513916,
          0.2289285659790039,
          0.2263493537902832,
          0.2268792986869812,
          0.22579579055309296,
          0.22403813898563385,
          0.22464945912361145,
          0.22389666736125946,
          0.22346235811710358,
          0.22150932252407074,
          0.22073690593242645,
          0.2218618392944336,
          0.2200857400894165,
          0.21934320032596588,
          0.21800801157951355,
          0.2172875851392746,
          0.2181493639945984,
          0.2177787572145462,
          0.21843543648719788,
          0.2164333164691925,
          0.21695655584335327,
          0.21689391136169434,
          0.2158842533826828,
          0.21355345845222473,
          0.2170352190732956,
          0.2152835726737976,
          0.2115258425474167,
          0.21341240406036377,
          0.21222878992557526,
          0.20891129970550537,
          0.21112848818302155,
          0.21208639442920685,
          0.21069715917110443,
          0.20954054594039917,
          0.20802830159664154,
          0.20645011961460114,
          0.20747940242290497,
          0.20776145160198212,
          0.20570868253707886,
          0.20659324526786804,
          0.20613227784633636,
          0.20317332446575165,
          0.20256264507770538,
          0.20274397730827332,
          0.20138216018676758,
          0.20237021148204803,
          0.2021801471710205,
          0.1980961561203003,
          0.20151077210903168,
          0.20072060823440552,
          0.20065712928771973,
          0.20073901116847992,
          0.200872540473938,
          0.20091456174850464,
          0.20048193633556366,
          0.20175263285636902,
          0.20337586104869843,
          0.20149026811122894,
          0.2011810839176178,
          0.20241627097129822,
          0.20295992493629456,
          0.20386750996112823,
          0.20208564400672913,
          0.20290255546569824,
          0.20456182956695557,
          0.20345142483711243,
          0.20258812606334686,
          0.20531107485294342,
          0.20432282984256744,
          0.20618946850299835,
          0.20634575188159943
         ]
        }
       ],
       "layout": {
        "template": {
         "data": {
          "bar": [
           {
            "error_x": {
             "color": "#2a3f5f"
            },
            "error_y": {
             "color": "#2a3f5f"
            },
            "marker": {
             "line": {
              "color": "#E5ECF6",
              "width": 0.5
             },
             "pattern": {
              "fillmode": "overlay",
              "size": 10,
              "solidity": 0.2
             }
            },
            "type": "bar"
           }
          ],
          "barpolar": [
           {
            "marker": {
             "line": {
              "color": "#E5ECF6",
              "width": 0.5
             },
             "pattern": {
              "fillmode": "overlay",
              "size": 10,
              "solidity": 0.2
             }
            },
            "type": "barpolar"
           }
          ],
          "carpet": [
           {
            "aaxis": {
             "endlinecolor": "#2a3f5f",
             "gridcolor": "white",
             "linecolor": "white",
             "minorgridcolor": "white",
             "startlinecolor": "#2a3f5f"
            },
            "baxis": {
             "endlinecolor": "#2a3f5f",
             "gridcolor": "white",
             "linecolor": "white",
             "minorgridcolor": "white",
             "startlinecolor": "#2a3f5f"
            },
            "type": "carpet"
           }
          ],
          "choropleth": [
           {
            "colorbar": {
             "outlinewidth": 0,
             "ticks": ""
            },
            "type": "choropleth"
           }
          ],
          "contour": [
           {
            "colorbar": {
             "outlinewidth": 0,
             "ticks": ""
            },
            "colorscale": [
             [
              0,
              "#0d0887"
             ],
             [
              0.1111111111111111,
              "#46039f"
             ],
             [
              0.2222222222222222,
              "#7201a8"
             ],
             [
              0.3333333333333333,
              "#9c179e"
             ],
             [
              0.4444444444444444,
              "#bd3786"
             ],
             [
              0.5555555555555556,
              "#d8576b"
             ],
             [
              0.6666666666666666,
              "#ed7953"
             ],
             [
              0.7777777777777778,
              "#fb9f3a"
             ],
             [
              0.8888888888888888,
              "#fdca26"
             ],
             [
              1,
              "#f0f921"
             ]
            ],
            "type": "contour"
           }
          ],
          "contourcarpet": [
           {
            "colorbar": {
             "outlinewidth": 0,
             "ticks": ""
            },
            "type": "contourcarpet"
           }
          ],
          "heatmap": [
           {
            "colorbar": {
             "outlinewidth": 0,
             "ticks": ""
            },
            "colorscale": [
             [
              0,
              "#0d0887"
             ],
             [
              0.1111111111111111,
              "#46039f"
             ],
             [
              0.2222222222222222,
              "#7201a8"
             ],
             [
              0.3333333333333333,
              "#9c179e"
             ],
             [
              0.4444444444444444,
              "#bd3786"
             ],
             [
              0.5555555555555556,
              "#d8576b"
             ],
             [
              0.6666666666666666,
              "#ed7953"
             ],
             [
              0.7777777777777778,
              "#fb9f3a"
             ],
             [
              0.8888888888888888,
              "#fdca26"
             ],
             [
              1,
              "#f0f921"
             ]
            ],
            "type": "heatmap"
           }
          ],
          "heatmapgl": [
           {
            "colorbar": {
             "outlinewidth": 0,
             "ticks": ""
            },
            "colorscale": [
             [
              0,
              "#0d0887"
             ],
             [
              0.1111111111111111,
              "#46039f"
             ],
             [
              0.2222222222222222,
              "#7201a8"
             ],
             [
              0.3333333333333333,
              "#9c179e"
             ],
             [
              0.4444444444444444,
              "#bd3786"
             ],
             [
              0.5555555555555556,
              "#d8576b"
             ],
             [
              0.6666666666666666,
              "#ed7953"
             ],
             [
              0.7777777777777778,
              "#fb9f3a"
             ],
             [
              0.8888888888888888,
              "#fdca26"
             ],
             [
              1,
              "#f0f921"
             ]
            ],
            "type": "heatmapgl"
           }
          ],
          "histogram": [
           {
            "marker": {
             "pattern": {
              "fillmode": "overlay",
              "size": 10,
              "solidity": 0.2
             }
            },
            "type": "histogram"
           }
          ],
          "histogram2d": [
           {
            "colorbar": {
             "outlinewidth": 0,
             "ticks": ""
            },
            "colorscale": [
             [
              0,
              "#0d0887"
             ],
             [
              0.1111111111111111,
              "#46039f"
             ],
             [
              0.2222222222222222,
              "#7201a8"
             ],
             [
              0.3333333333333333,
              "#9c179e"
             ],
             [
              0.4444444444444444,
              "#bd3786"
             ],
             [
              0.5555555555555556,
              "#d8576b"
             ],
             [
              0.6666666666666666,
              "#ed7953"
             ],
             [
              0.7777777777777778,
              "#fb9f3a"
             ],
             [
              0.8888888888888888,
              "#fdca26"
             ],
             [
              1,
              "#f0f921"
             ]
            ],
            "type": "histogram2d"
           }
          ],
          "histogram2dcontour": [
           {
            "colorbar": {
             "outlinewidth": 0,
             "ticks": ""
            },
            "colorscale": [
             [
              0,
              "#0d0887"
             ],
             [
              0.1111111111111111,
              "#46039f"
             ],
             [
              0.2222222222222222,
              "#7201a8"
             ],
             [
              0.3333333333333333,
              "#9c179e"
             ],
             [
              0.4444444444444444,
              "#bd3786"
             ],
             [
              0.5555555555555556,
              "#d8576b"
             ],
             [
              0.6666666666666666,
              "#ed7953"
             ],
             [
              0.7777777777777778,
              "#fb9f3a"
             ],
             [
              0.8888888888888888,
              "#fdca26"
             ],
             [
              1,
              "#f0f921"
             ]
            ],
            "type": "histogram2dcontour"
           }
          ],
          "mesh3d": [
           {
            "colorbar": {
             "outlinewidth": 0,
             "ticks": ""
            },
            "type": "mesh3d"
           }
          ],
          "parcoords": [
           {
            "line": {
             "colorbar": {
              "outlinewidth": 0,
              "ticks": ""
             }
            },
            "type": "parcoords"
           }
          ],
          "pie": [
           {
            "automargin": true,
            "type": "pie"
           }
          ],
          "scatter": [
           {
            "fillpattern": {
             "fillmode": "overlay",
             "size": 10,
             "solidity": 0.2
            },
            "type": "scatter"
           }
          ],
          "scatter3d": [
           {
            "line": {
             "colorbar": {
              "outlinewidth": 0,
              "ticks": ""
             }
            },
            "marker": {
             "colorbar": {
              "outlinewidth": 0,
              "ticks": ""
             }
            },
            "type": "scatter3d"
           }
          ],
          "scattercarpet": [
           {
            "marker": {
             "colorbar": {
              "outlinewidth": 0,
              "ticks": ""
             }
            },
            "type": "scattercarpet"
           }
          ],
          "scattergeo": [
           {
            "marker": {
             "colorbar": {
              "outlinewidth": 0,
              "ticks": ""
             }
            },
            "type": "scattergeo"
           }
          ],
          "scattergl": [
           {
            "marker": {
             "colorbar": {
              "outlinewidth": 0,
              "ticks": ""
             }
            },
            "type": "scattergl"
           }
          ],
          "scattermapbox": [
           {
            "marker": {
             "colorbar": {
              "outlinewidth": 0,
              "ticks": ""
             }
            },
            "type": "scattermapbox"
           }
          ],
          "scatterpolar": [
           {
            "marker": {
             "colorbar": {
              "outlinewidth": 0,
              "ticks": ""
             }
            },
            "type": "scatterpolar"
           }
          ],
          "scatterpolargl": [
           {
            "marker": {
             "colorbar": {
              "outlinewidth": 0,
              "ticks": ""
             }
            },
            "type": "scatterpolargl"
           }
          ],
          "scatterternary": [
           {
            "marker": {
             "colorbar": {
              "outlinewidth": 0,
              "ticks": ""
             }
            },
            "type": "scatterternary"
           }
          ],
          "surface": [
           {
            "colorbar": {
             "outlinewidth": 0,
             "ticks": ""
            },
            "colorscale": [
             [
              0,
              "#0d0887"
             ],
             [
              0.1111111111111111,
              "#46039f"
             ],
             [
              0.2222222222222222,
              "#7201a8"
             ],
             [
              0.3333333333333333,
              "#9c179e"
             ],
             [
              0.4444444444444444,
              "#bd3786"
             ],
             [
              0.5555555555555556,
              "#d8576b"
             ],
             [
              0.6666666666666666,
              "#ed7953"
             ],
             [
              0.7777777777777778,
              "#fb9f3a"
             ],
             [
              0.8888888888888888,
              "#fdca26"
             ],
             [
              1,
              "#f0f921"
             ]
            ],
            "type": "surface"
           }
          ],
          "table": [
           {
            "cells": {
             "fill": {
              "color": "#EBF0F8"
             },
             "line": {
              "color": "white"
             }
            },
            "header": {
             "fill": {
              "color": "#C8D4E3"
             },
             "line": {
              "color": "white"
             }
            },
            "type": "table"
           }
          ]
         },
         "layout": {
          "annotationdefaults": {
           "arrowcolor": "#2a3f5f",
           "arrowhead": 0,
           "arrowwidth": 1
          },
          "autotypenumbers": "strict",
          "coloraxis": {
           "colorbar": {
            "outlinewidth": 0,
            "ticks": ""
           }
          },
          "colorscale": {
           "diverging": [
            [
             0,
             "#8e0152"
            ],
            [
             0.1,
             "#c51b7d"
            ],
            [
             0.2,
             "#de77ae"
            ],
            [
             0.3,
             "#f1b6da"
            ],
            [
             0.4,
             "#fde0ef"
            ],
            [
             0.5,
             "#f7f7f7"
            ],
            [
             0.6,
             "#e6f5d0"
            ],
            [
             0.7,
             "#b8e186"
            ],
            [
             0.8,
             "#7fbc41"
            ],
            [
             0.9,
             "#4d9221"
            ],
            [
             1,
             "#276419"
            ]
           ],
           "sequential": [
            [
             0,
             "#0d0887"
            ],
            [
             0.1111111111111111,
             "#46039f"
            ],
            [
             0.2222222222222222,
             "#7201a8"
            ],
            [
             0.3333333333333333,
             "#9c179e"
            ],
            [
             0.4444444444444444,
             "#bd3786"
            ],
            [
             0.5555555555555556,
             "#d8576b"
            ],
            [
             0.6666666666666666,
             "#ed7953"
            ],
            [
             0.7777777777777778,
             "#fb9f3a"
            ],
            [
             0.8888888888888888,
             "#fdca26"
            ],
            [
             1,
             "#f0f921"
            ]
           ],
           "sequentialminus": [
            [
             0,
             "#0d0887"
            ],
            [
             0.1111111111111111,
             "#46039f"
            ],
            [
             0.2222222222222222,
             "#7201a8"
            ],
            [
             0.3333333333333333,
             "#9c179e"
            ],
            [
             0.4444444444444444,
             "#bd3786"
            ],
            [
             0.5555555555555556,
             "#d8576b"
            ],
            [
             0.6666666666666666,
             "#ed7953"
            ],
            [
             0.7777777777777778,
             "#fb9f3a"
            ],
            [
             0.8888888888888888,
             "#fdca26"
            ],
            [
             1,
             "#f0f921"
            ]
           ]
          },
          "colorway": [
           "#636efa",
           "#EF553B",
           "#00cc96",
           "#ab63fa",
           "#FFA15A",
           "#19d3f3",
           "#FF6692",
           "#B6E880",
           "#FF97FF",
           "#FECB52"
          ],
          "font": {
           "color": "#2a3f5f"
          },
          "geo": {
           "bgcolor": "white",
           "lakecolor": "white",
           "landcolor": "#E5ECF6",
           "showlakes": true,
           "showland": true,
           "subunitcolor": "white"
          },
          "hoverlabel": {
           "align": "left"
          },
          "hovermode": "closest",
          "mapbox": {
           "style": "light"
          },
          "paper_bgcolor": "white",
          "plot_bgcolor": "#E5ECF6",
          "polar": {
           "angularaxis": {
            "gridcolor": "white",
            "linecolor": "white",
            "ticks": ""
           },
           "bgcolor": "#E5ECF6",
           "radialaxis": {
            "gridcolor": "white",
            "linecolor": "white",
            "ticks": ""
           }
          },
          "scene": {
           "xaxis": {
            "backgroundcolor": "#E5ECF6",
            "gridcolor": "white",
            "gridwidth": 2,
            "linecolor": "white",
            "showbackground": true,
            "ticks": "",
            "zerolinecolor": "white"
           },
           "yaxis": {
            "backgroundcolor": "#E5ECF6",
            "gridcolor": "white",
            "gridwidth": 2,
            "linecolor": "white",
            "showbackground": true,
            "ticks": "",
            "zerolinecolor": "white"
           },
           "zaxis": {
            "backgroundcolor": "#E5ECF6",
            "gridcolor": "white",
            "gridwidth": 2,
            "linecolor": "white",
            "showbackground": true,
            "ticks": "",
            "zerolinecolor": "white"
           }
          },
          "shapedefaults": {
           "line": {
            "color": "#2a3f5f"
           }
          },
          "ternary": {
           "aaxis": {
            "gridcolor": "white",
            "linecolor": "white",
            "ticks": ""
           },
           "baxis": {
            "gridcolor": "white",
            "linecolor": "white",
            "ticks": ""
           },
           "bgcolor": "#E5ECF6",
           "caxis": {
            "gridcolor": "white",
            "linecolor": "white",
            "ticks": ""
           }
          },
          "title": {
           "x": 0.05
          },
          "xaxis": {
           "automargin": true,
           "gridcolor": "white",
           "linecolor": "white",
           "ticks": "",
           "title": {
            "standoff": 15
           },
           "zerolinecolor": "white",
           "zerolinewidth": 2
          },
          "yaxis": {
           "automargin": true,
           "gridcolor": "white",
           "linecolor": "white",
           "ticks": "",
           "title": {
            "standoff": 15
           },
           "zerolinecolor": "white",
           "zerolinewidth": 2
          }
         }
        },
        "title": {
         "text": "RNN vs LSTM loss"
        },
        "xaxis": {
         "title": {
          "text": "Epoch"
         }
        },
        "yaxis": {
         "title": {
          "text": "Loss"
         }
        }
       }
      },
      "text/html": [
       "<div>                            <div id=\"1caba4b8-2508-4880-bfac-498a97b22289\" class=\"plotly-graph-div\" style=\"height:525px; width:100%;\"></div>            <script type=\"text/javascript\">                require([\"plotly\"], function(Plotly) {                    window.PLOTLYENV=window.PLOTLYENV || {};                                    if (document.getElementById(\"1caba4b8-2508-4880-bfac-498a97b22289\")) {                    Plotly.newPlot(                        \"1caba4b8-2508-4880-bfac-498a97b22289\",                        [{\"mode\":\"lines+markers\",\"name\":\"RNN validation loss\",\"x\":[0,1,2,3,4,5,6,7,8,9,10,11,12,13,14,15,16,17,18,19,20,21,22,23,24,25,26,27,28,29,30,31,32,33,34,35,36,37,38,39,40,41,42,43,44,45,46,47,48,49,50,51,52,53,54,55,56,57,58,59,60,61,62,63,64,65,66,67,68,69,70,71,72,73,74,75,76,77,78,79,80,81,82,83,84,85,86,87,88,89,90,91,92,93,94,95,96,97,98,99],\"y\":[0.3990159332752228,0.398110568523407,0.40999794006347656,0.414063036441803,0.38914546370506287,0.36757510900497437,0.357388436794281,0.34789130091667175,0.340414434671402,0.32980284094810486,0.32015061378479004,0.3059540390968323,0.30615830421447754,0.30275025963783264,0.301093727350235,0.30266422033309937,0.30108311772346497,0.2996339797973633,0.30717650055885315,0.32173991203308105,0.3405066430568695,0.3233226537704468,0.2907460629940033,0.29476597905158997,0.2851385176181793,0.2647075951099396,0.2588493525981903,0.2731916904449463,0.26196807622909546,0.25361597537994385,0.2709767818450928,0.25765669345855713,0.2549823522567749,0.24406741559505463,0.2418225109577179,0.25253528356552124,0.24028238654136658,0.26029953360557556,0.2568333148956299,0.23347358405590057,0.2497011423110962,0.2378174364566803,0.24319079518318176,0.2535608410835266,0.26733848452568054,0.2611572742462158,0.27475839853286743,0.2881598472595215,0.2741900384426117,0.3045042157173157,0.28385239839553833,0.34278008341789246,0.3396609127521515,0.304159939289093,0.28037193417549133,0.27365946769714355,0.28856319189071655,0.20033641159534454,0.22837018966674805,0.1958370953798294,0.24991771578788757,0.22103460133075714,0.3765491247177124,0.3250102698802948,0.32422319054603577,0.3787902295589447,0.31986647844314575,0.36193397641181946,0.3284865617752075,0.3202438950538635,0.29074087738990784,0.28648653626441956,0.32713818550109863,0.31426361203193665,0.3024134337902069,0.32751742005348206,0.3576962649822235,0.39611345529556274,0.35995984077453613,0.3266143202781677,0.3092767298221588,0.30790284276008606,0.3102317452430725,0.3167393207550049,0.27311888337135315,0.3284660875797272,0.2733713984489441,0.2963840663433075,0.3333984613418579,0.331368088722229,0.32145214080810547,0.21534620225429535,0.343287855386734,0.3080143928527832,0.3000982105731964,0.3291698396205902,0.2724548578262329,0.35660460591316223,0.3176533579826355,0.3113239109516144],\"type\":\"scatter\"},{\"mode\":\"lines+markers\",\"name\":\"LSTM validation loss\",\"x\":[0,1,2,3,4,5,6,7,8,9,10,11,12,13,14,15,16,17,18,19,20,21,22,23,24,25,26,27,28,29,30,31,32,33,34,35,36,37,38,39,40,41,42,43,44,45,46,47,48,49,50,51,52,53,54,55,56,57,58,59,60,61,62,63,64,65,66,67,68,69,70,71,72,73,74,75,76,77,78,79,80,81,82,83,84,85,86,87,88,89,90,91,92,93,94,95,96,97,98,99],\"y\":[0.32482126355171204,0.32246625423431396,0.3491019010543823,0.3818781077861786,0.39662060141563416,0.39160099625587463,0.3804176449775696,0.36898013949394226,0.35691797733306885,0.345567524433136,0.3341349959373474,0.32251548767089844,0.3104247450828552,0.29652470350265503,0.28494447469711304,0.2759479582309723,0.26825523376464844,0.26315805315971375,0.2575211524963379,0.25380566716194153,0.24938030540943146,0.2459675669670105,0.2415134757757187,0.23894663155078888,0.2371741235256195,0.23516038060188293,0.23314853012561798,0.23175957798957825,0.2306884080171585,0.23007357120513916,0.2289285659790039,0.2263493537902832,0.2268792986869812,0.22579579055309296,0.22403813898563385,0.22464945912361145,0.22389666736125946,0.22346235811710358,0.22150932252407074,0.22073690593242645,0.2218618392944336,0.2200857400894165,0.21934320032596588,0.21800801157951355,0.2172875851392746,0.2181493639945984,0.2177787572145462,0.21843543648719788,0.2164333164691925,0.21695655584335327,0.21689391136169434,0.2158842533826828,0.21355345845222473,0.2170352190732956,0.2152835726737976,0.2115258425474167,0.21341240406036377,0.21222878992557526,0.20891129970550537,0.21112848818302155,0.21208639442920685,0.21069715917110443,0.20954054594039917,0.20802830159664154,0.20645011961460114,0.20747940242290497,0.20776145160198212,0.20570868253707886,0.20659324526786804,0.20613227784633636,0.20317332446575165,0.20256264507770538,0.20274397730827332,0.20138216018676758,0.20237021148204803,0.2021801471710205,0.1980961561203003,0.20151077210903168,0.20072060823440552,0.20065712928771973,0.20073901116847992,0.200872540473938,0.20091456174850464,0.20048193633556366,0.20175263285636902,0.20337586104869843,0.20149026811122894,0.2011810839176178,0.20241627097129822,0.20295992493629456,0.20386750996112823,0.20208564400672913,0.20290255546569824,0.20456182956695557,0.20345142483711243,0.20258812606334686,0.20531107485294342,0.20432282984256744,0.20618946850299835,0.20634575188159943],\"type\":\"scatter\"}],                        {\"template\":{\"data\":{\"histogram2dcontour\":[{\"type\":\"histogram2dcontour\",\"colorbar\":{\"outlinewidth\":0,\"ticks\":\"\"},\"colorscale\":[[0.0,\"#0d0887\"],[0.1111111111111111,\"#46039f\"],[0.2222222222222222,\"#7201a8\"],[0.3333333333333333,\"#9c179e\"],[0.4444444444444444,\"#bd3786\"],[0.5555555555555556,\"#d8576b\"],[0.6666666666666666,\"#ed7953\"],[0.7777777777777778,\"#fb9f3a\"],[0.8888888888888888,\"#fdca26\"],[1.0,\"#f0f921\"]]}],\"choropleth\":[{\"type\":\"choropleth\",\"colorbar\":{\"outlinewidth\":0,\"ticks\":\"\"}}],\"histogram2d\":[{\"type\":\"histogram2d\",\"colorbar\":{\"outlinewidth\":0,\"ticks\":\"\"},\"colorscale\":[[0.0,\"#0d0887\"],[0.1111111111111111,\"#46039f\"],[0.2222222222222222,\"#7201a8\"],[0.3333333333333333,\"#9c179e\"],[0.4444444444444444,\"#bd3786\"],[0.5555555555555556,\"#d8576b\"],[0.6666666666666666,\"#ed7953\"],[0.7777777777777778,\"#fb9f3a\"],[0.8888888888888888,\"#fdca26\"],[1.0,\"#f0f921\"]]}],\"heatmap\":[{\"type\":\"heatmap\",\"colorbar\":{\"outlinewidth\":0,\"ticks\":\"\"},\"colorscale\":[[0.0,\"#0d0887\"],[0.1111111111111111,\"#46039f\"],[0.2222222222222222,\"#7201a8\"],[0.3333333333333333,\"#9c179e\"],[0.4444444444444444,\"#bd3786\"],[0.5555555555555556,\"#d8576b\"],[0.6666666666666666,\"#ed7953\"],[0.7777777777777778,\"#fb9f3a\"],[0.8888888888888888,\"#fdca26\"],[1.0,\"#f0f921\"]]}],\"heatmapgl\":[{\"type\":\"heatmapgl\",\"colorbar\":{\"outlinewidth\":0,\"ticks\":\"\"},\"colorscale\":[[0.0,\"#0d0887\"],[0.1111111111111111,\"#46039f\"],[0.2222222222222222,\"#7201a8\"],[0.3333333333333333,\"#9c179e\"],[0.4444444444444444,\"#bd3786\"],[0.5555555555555556,\"#d8576b\"],[0.6666666666666666,\"#ed7953\"],[0.7777777777777778,\"#fb9f3a\"],[0.8888888888888888,\"#fdca26\"],[1.0,\"#f0f921\"]]}],\"contourcarpet\":[{\"type\":\"contourcarpet\",\"colorbar\":{\"outlinewidth\":0,\"ticks\":\"\"}}],\"contour\":[{\"type\":\"contour\",\"colorbar\":{\"outlinewidth\":0,\"ticks\":\"\"},\"colorscale\":[[0.0,\"#0d0887\"],[0.1111111111111111,\"#46039f\"],[0.2222222222222222,\"#7201a8\"],[0.3333333333333333,\"#9c179e\"],[0.4444444444444444,\"#bd3786\"],[0.5555555555555556,\"#d8576b\"],[0.6666666666666666,\"#ed7953\"],[0.7777777777777778,\"#fb9f3a\"],[0.8888888888888888,\"#fdca26\"],[1.0,\"#f0f921\"]]}],\"surface\":[{\"type\":\"surface\",\"colorbar\":{\"outlinewidth\":0,\"ticks\":\"\"},\"colorscale\":[[0.0,\"#0d0887\"],[0.1111111111111111,\"#46039f\"],[0.2222222222222222,\"#7201a8\"],[0.3333333333333333,\"#9c179e\"],[0.4444444444444444,\"#bd3786\"],[0.5555555555555556,\"#d8576b\"],[0.6666666666666666,\"#ed7953\"],[0.7777777777777778,\"#fb9f3a\"],[0.8888888888888888,\"#fdca26\"],[1.0,\"#f0f921\"]]}],\"mesh3d\":[{\"type\":\"mesh3d\",\"colorbar\":{\"outlinewidth\":0,\"ticks\":\"\"}}],\"scatter\":[{\"fillpattern\":{\"fillmode\":\"overlay\",\"size\":10,\"solidity\":0.2},\"type\":\"scatter\"}],\"parcoords\":[{\"type\":\"parcoords\",\"line\":{\"colorbar\":{\"outlinewidth\":0,\"ticks\":\"\"}}}],\"scatterpolargl\":[{\"type\":\"scatterpolargl\",\"marker\":{\"colorbar\":{\"outlinewidth\":0,\"ticks\":\"\"}}}],\"bar\":[{\"error_x\":{\"color\":\"#2a3f5f\"},\"error_y\":{\"color\":\"#2a3f5f\"},\"marker\":{\"line\":{\"color\":\"#E5ECF6\",\"width\":0.5},\"pattern\":{\"fillmode\":\"overlay\",\"size\":10,\"solidity\":0.2}},\"type\":\"bar\"}],\"scattergeo\":[{\"type\":\"scattergeo\",\"marker\":{\"colorbar\":{\"outlinewidth\":0,\"ticks\":\"\"}}}],\"scatterpolar\":[{\"type\":\"scatterpolar\",\"marker\":{\"colorbar\":{\"outlinewidth\":0,\"ticks\":\"\"}}}],\"histogram\":[{\"marker\":{\"pattern\":{\"fillmode\":\"overlay\",\"size\":10,\"solidity\":0.2}},\"type\":\"histogram\"}],\"scattergl\":[{\"type\":\"scattergl\",\"marker\":{\"colorbar\":{\"outlinewidth\":0,\"ticks\":\"\"}}}],\"scatter3d\":[{\"type\":\"scatter3d\",\"line\":{\"colorbar\":{\"outlinewidth\":0,\"ticks\":\"\"}},\"marker\":{\"colorbar\":{\"outlinewidth\":0,\"ticks\":\"\"}}}],\"scattermapbox\":[{\"type\":\"scattermapbox\",\"marker\":{\"colorbar\":{\"outlinewidth\":0,\"ticks\":\"\"}}}],\"scatterternary\":[{\"type\":\"scatterternary\",\"marker\":{\"colorbar\":{\"outlinewidth\":0,\"ticks\":\"\"}}}],\"scattercarpet\":[{\"type\":\"scattercarpet\",\"marker\":{\"colorbar\":{\"outlinewidth\":0,\"ticks\":\"\"}}}],\"carpet\":[{\"aaxis\":{\"endlinecolor\":\"#2a3f5f\",\"gridcolor\":\"white\",\"linecolor\":\"white\",\"minorgridcolor\":\"white\",\"startlinecolor\":\"#2a3f5f\"},\"baxis\":{\"endlinecolor\":\"#2a3f5f\",\"gridcolor\":\"white\",\"linecolor\":\"white\",\"minorgridcolor\":\"white\",\"startlinecolor\":\"#2a3f5f\"},\"type\":\"carpet\"}],\"table\":[{\"cells\":{\"fill\":{\"color\":\"#EBF0F8\"},\"line\":{\"color\":\"white\"}},\"header\":{\"fill\":{\"color\":\"#C8D4E3\"},\"line\":{\"color\":\"white\"}},\"type\":\"table\"}],\"barpolar\":[{\"marker\":{\"line\":{\"color\":\"#E5ECF6\",\"width\":0.5},\"pattern\":{\"fillmode\":\"overlay\",\"size\":10,\"solidity\":0.2}},\"type\":\"barpolar\"}],\"pie\":[{\"automargin\":true,\"type\":\"pie\"}]},\"layout\":{\"autotypenumbers\":\"strict\",\"colorway\":[\"#636efa\",\"#EF553B\",\"#00cc96\",\"#ab63fa\",\"#FFA15A\",\"#19d3f3\",\"#FF6692\",\"#B6E880\",\"#FF97FF\",\"#FECB52\"],\"font\":{\"color\":\"#2a3f5f\"},\"hovermode\":\"closest\",\"hoverlabel\":{\"align\":\"left\"},\"paper_bgcolor\":\"white\",\"plot_bgcolor\":\"#E5ECF6\",\"polar\":{\"bgcolor\":\"#E5ECF6\",\"angularaxis\":{\"gridcolor\":\"white\",\"linecolor\":\"white\",\"ticks\":\"\"},\"radialaxis\":{\"gridcolor\":\"white\",\"linecolor\":\"white\",\"ticks\":\"\"}},\"ternary\":{\"bgcolor\":\"#E5ECF6\",\"aaxis\":{\"gridcolor\":\"white\",\"linecolor\":\"white\",\"ticks\":\"\"},\"baxis\":{\"gridcolor\":\"white\",\"linecolor\":\"white\",\"ticks\":\"\"},\"caxis\":{\"gridcolor\":\"white\",\"linecolor\":\"white\",\"ticks\":\"\"}},\"coloraxis\":{\"colorbar\":{\"outlinewidth\":0,\"ticks\":\"\"}},\"colorscale\":{\"sequential\":[[0.0,\"#0d0887\"],[0.1111111111111111,\"#46039f\"],[0.2222222222222222,\"#7201a8\"],[0.3333333333333333,\"#9c179e\"],[0.4444444444444444,\"#bd3786\"],[0.5555555555555556,\"#d8576b\"],[0.6666666666666666,\"#ed7953\"],[0.7777777777777778,\"#fb9f3a\"],[0.8888888888888888,\"#fdca26\"],[1.0,\"#f0f921\"]],\"sequentialminus\":[[0.0,\"#0d0887\"],[0.1111111111111111,\"#46039f\"],[0.2222222222222222,\"#7201a8\"],[0.3333333333333333,\"#9c179e\"],[0.4444444444444444,\"#bd3786\"],[0.5555555555555556,\"#d8576b\"],[0.6666666666666666,\"#ed7953\"],[0.7777777777777778,\"#fb9f3a\"],[0.8888888888888888,\"#fdca26\"],[1.0,\"#f0f921\"]],\"diverging\":[[0,\"#8e0152\"],[0.1,\"#c51b7d\"],[0.2,\"#de77ae\"],[0.3,\"#f1b6da\"],[0.4,\"#fde0ef\"],[0.5,\"#f7f7f7\"],[0.6,\"#e6f5d0\"],[0.7,\"#b8e186\"],[0.8,\"#7fbc41\"],[0.9,\"#4d9221\"],[1,\"#276419\"]]},\"xaxis\":{\"gridcolor\":\"white\",\"linecolor\":\"white\",\"ticks\":\"\",\"title\":{\"standoff\":15},\"zerolinecolor\":\"white\",\"automargin\":true,\"zerolinewidth\":2},\"yaxis\":{\"gridcolor\":\"white\",\"linecolor\":\"white\",\"ticks\":\"\",\"title\":{\"standoff\":15},\"zerolinecolor\":\"white\",\"automargin\":true,\"zerolinewidth\":2},\"scene\":{\"xaxis\":{\"backgroundcolor\":\"#E5ECF6\",\"gridcolor\":\"white\",\"linecolor\":\"white\",\"showbackground\":true,\"ticks\":\"\",\"zerolinecolor\":\"white\",\"gridwidth\":2},\"yaxis\":{\"backgroundcolor\":\"#E5ECF6\",\"gridcolor\":\"white\",\"linecolor\":\"white\",\"showbackground\":true,\"ticks\":\"\",\"zerolinecolor\":\"white\",\"gridwidth\":2},\"zaxis\":{\"backgroundcolor\":\"#E5ECF6\",\"gridcolor\":\"white\",\"linecolor\":\"white\",\"showbackground\":true,\"ticks\":\"\",\"zerolinecolor\":\"white\",\"gridwidth\":2}},\"shapedefaults\":{\"line\":{\"color\":\"#2a3f5f\"}},\"annotationdefaults\":{\"arrowcolor\":\"#2a3f5f\",\"arrowhead\":0,\"arrowwidth\":1},\"geo\":{\"bgcolor\":\"white\",\"landcolor\":\"#E5ECF6\",\"subunitcolor\":\"white\",\"showland\":true,\"showlakes\":true,\"lakecolor\":\"white\"},\"title\":{\"x\":0.05},\"mapbox\":{\"style\":\"light\"}}},\"title\":{\"text\":\"RNN vs LSTM loss\"},\"xaxis\":{\"title\":{\"text\":\"Epoch\"}},\"yaxis\":{\"title\":{\"text\":\"Loss\"}}},                        {\"responsive\": true}                    ).then(function(){\n",
       "                            \n",
       "var gd = document.getElementById('1caba4b8-2508-4880-bfac-498a97b22289');\n",
       "var x = new MutationObserver(function (mutations, observer) {{\n",
       "        var display = window.getComputedStyle(gd).display;\n",
       "        if (!display || display === 'none') {{\n",
       "            console.log([gd, 'removed!']);\n",
       "            Plotly.purge(gd);\n",
       "            observer.disconnect();\n",
       "        }}\n",
       "}});\n",
       "\n",
       "// Listen for the removal of the full notebook cells\n",
       "var notebookContainer = gd.closest('#notebook-container');\n",
       "if (notebookContainer) {{\n",
       "    x.observe(notebookContainer, {childList: true});\n",
       "}}\n",
       "\n",
       "// Listen for the clearing of the current output cell\n",
       "var outputEl = gd.closest('.output');\n",
       "if (outputEl) {{\n",
       "    x.observe(outputEl, {childList: true});\n",
       "}}\n",
       "\n",
       "                        })                };                });            </script>        </div>"
      ]
     },
     "metadata": {},
     "output_type": "display_data"
    }
   ],
   "source": [
    "# compare RNN history and LSTM history\n",
    "\n",
    "fig = go.Figure()\n",
    "# fig.add_trace(go.Scatter(x=rnn_history.epoch, y=rnn_history.history['loss'],\n",
    "#                     mode='lines+markers',\n",
    "#                     name='RNN training loss'))\n",
    "fig.add_trace(go.Scatter(x=rnn_history.epoch, y=rnn_history.history['val_loss'],\n",
    "                    mode='lines+markers',\n",
    "                    name='RNN validation loss'))\n",
    "# fig.add_trace(go.Scatter(x=lstm_history.epoch, y=lstm_history.history['loss'],\n",
    "#                     mode='lines+markers',\n",
    "#                     name='LSTM training loss'))\n",
    "fig.add_trace(go.Scatter(x=lstm_history.epoch, y=lstm_history.history['val_loss'],\n",
    "                    mode='lines+markers',\n",
    "                    name='LSTM validation loss'))\n",
    "fig.update_layout(title='RNN vs LSTM loss',\n",
    "                     xaxis_title='Epoch',\n",
    "                     yaxis_title='Loss')\n",
    "fig.show()\n",
    "\n",
    "# save the figure\n",
    "fig.write_image(\"rnn_vs_lstm_loss.png\")"
   ]
  },
  {
   "cell_type": "code",
   "execution_count": 69,
   "metadata": {},
   "outputs": [
    {
     "data": {
      "application/vnd.plotly.v1+json": {
       "config": {
        "plotlyServerURL": "https://plot.ly"
       },
       "data": [
        {
         "mode": "lines+markers",
         "name": "RNN validation accuracy",
         "type": "scatter",
         "x": [
          0,
          1,
          2,
          3,
          4,
          5,
          6,
          7,
          8,
          9,
          10,
          11,
          12,
          13,
          14,
          15,
          16,
          17,
          18,
          19,
          20,
          21,
          22,
          23,
          24,
          25,
          26,
          27,
          28,
          29,
          30,
          31,
          32,
          33,
          34,
          35,
          36,
          37,
          38,
          39,
          40,
          41,
          42,
          43,
          44,
          45,
          46,
          47,
          48,
          49,
          50,
          51,
          52,
          53,
          54,
          55,
          56,
          57,
          58,
          59,
          60,
          61,
          62,
          63,
          64,
          65,
          66,
          67,
          68,
          69,
          70,
          71,
          72,
          73,
          74,
          75,
          76,
          77,
          78,
          79,
          80,
          81,
          82,
          83,
          84,
          85,
          86,
          87,
          88,
          89,
          90,
          91,
          92,
          93,
          94,
          95,
          96,
          97,
          98,
          99
         ],
         "y": [
          0.9078734517097473,
          0.9078734517097473,
          0.9078734517097473,
          0.9078734517097473,
          0.9078734517097473,
          0.9092126488685608,
          0.9239439964294434,
          0.9239439964294434,
          0.9239439964294434,
          0.9239439964294434,
          0.9239439964294434,
          0.9239439964294434,
          0.9239439964294434,
          0.9239439964294434,
          0.9239439964294434,
          0.9239439964294434,
          0.9239439964294434,
          0.9239439964294434,
          0.9239439964294434,
          0.9239439964294434,
          0.9239439964294434,
          0.9239439964294434,
          0.9239439964294434,
          0.9239439964294434,
          0.931979238986969,
          0.931979238986969,
          0.931979238986969,
          0.931979238986969,
          0.931979238986969,
          0.931979238986969,
          0.931979238986969,
          0.931979238986969,
          0.931979238986969,
          0.931979238986969,
          0.931979238986969,
          0.931979238986969,
          0.931979238986969,
          0.931979238986969,
          0.931979238986969,
          0.931979238986969,
          0.931979238986969,
          0.931979238986969,
          0.931979238986969,
          0.931979238986969,
          0.931979238986969,
          0.931979238986969,
          0.931979238986969,
          0.931979238986969,
          0.931979238986969,
          0.9239439964294434,
          0.9239439964294434,
          0.9239439964294434,
          0.9239439964294434,
          0.931979238986969,
          0.931979238986969,
          0.931979238986969,
          0.931979238986969,
          0.931979238986969,
          0.931979238986969,
          0.9400144815444946,
          0.931979238986969,
          0.931979238986969,
          0.931979238986969,
          0.931979238986969,
          0.931979238986969,
          0.9239439964294434,
          0.9239439964294434,
          0.9299704432487488,
          0.9239439964294434,
          0.931979238986969,
          0.931979238986969,
          0.9368897080421448,
          0.931979238986969,
          0.931979238986969,
          0.9239439964294434,
          0.9239439964294434,
          0.9239439964294434,
          0.9239439964294434,
          0.931979238986969,
          0.931979238986969,
          0.931979238986969,
          0.931979238986969,
          0.931979238986969,
          0.931979238986969,
          0.9393448829650879,
          0.931979238986969,
          0.931979238986969,
          0.9402377009391785,
          0.931979238986969,
          0.931979238986969,
          0.931979238986969,
          0.9406841397285461,
          0.931979238986969,
          0.931979238986969,
          0.931979238986969,
          0.931979238986969,
          0.9338206648826599,
          0.931979238986969,
          0.931979238986969,
          0.9393448829650879
         ]
        },
        {
         "mode": "lines+markers",
         "name": "LSTM validation accuracy",
         "type": "scatter",
         "x": [
          0,
          1,
          2,
          3,
          4,
          5,
          6,
          7,
          8,
          9,
          10,
          11,
          12,
          13,
          14,
          15,
          16,
          17,
          18,
          19,
          20,
          21,
          22,
          23,
          24,
          25,
          26,
          27,
          28,
          29,
          30,
          31,
          32,
          33,
          34,
          35,
          36,
          37,
          38,
          39,
          40,
          41,
          42,
          43,
          44,
          45,
          46,
          47,
          48,
          49,
          50,
          51,
          52,
          53,
          54,
          55,
          56,
          57,
          58,
          59,
          60,
          61,
          62,
          63,
          64,
          65,
          66,
          67,
          68,
          69,
          70,
          71,
          72,
          73,
          74,
          75,
          76,
          77,
          78,
          79,
          80,
          81,
          82,
          83,
          84,
          85,
          86,
          87,
          88,
          89,
          90,
          91,
          92,
          93,
          94,
          95,
          96,
          97,
          98,
          99
         ],
         "y": [
          0.9078734517097473,
          0.9078734517097473,
          0.9078734517097473,
          0.9078734517097473,
          0.9078734517097473,
          0.9078734517097473,
          0.9078734517097473,
          0.9239439964294434,
          0.9239439964294434,
          0.9239439964294434,
          0.9239439964294434,
          0.9239439964294434,
          0.9239439964294434,
          0.9239439964294434,
          0.9239439964294434,
          0.9239439964294434,
          0.9239439964294434,
          0.9239439964294434,
          0.9239439964294434,
          0.9239439964294434,
          0.9239439964294434,
          0.9239439964294434,
          0.9239439964294434,
          0.9239439964294434,
          0.9239439964294434,
          0.9239439964294434,
          0.9239439964294434,
          0.9239439964294434,
          0.9239439964294434,
          0.9239439964294434,
          0.9239439964294434,
          0.9239439964294434,
          0.9239439964294434,
          0.9239439964294434,
          0.9239439964294434,
          0.9239439964294434,
          0.9239439964294434,
          0.9239439964294434,
          0.9239439964294434,
          0.9239439964294434,
          0.9239439964294434,
          0.9239439964294434,
          0.9239439964294434,
          0.9239439964294434,
          0.9239439964294434,
          0.9239439964294434,
          0.9239439964294434,
          0.9239439964294434,
          0.9239439964294434,
          0.9239439964294434,
          0.9239439964294434,
          0.9239439964294434,
          0.9239439964294434,
          0.9239439964294434,
          0.9239439964294434,
          0.9239439964294434,
          0.9239439964294434,
          0.9239439964294434,
          0.9270129799842834,
          0.9239439964294434,
          0.9239439964294434,
          0.9257853627204895,
          0.9270129799842834,
          0.9306958317756653,
          0.9317002296447754,
          0.9315886497497559,
          0.9317002296447754,
          0.931979238986969,
          0.931979238986969,
          0.931979238986969,
          0.931979238986969,
          0.9386752843856812,
          0.9400144815444946,
          0.9400144815444946,
          0.9400144815444946,
          0.9400144815444946,
          0.9400144815444946,
          0.9400144815444946,
          0.931979238986969,
          0.931979238986969,
          0.931979238986969,
          0.931979238986969,
          0.931979238986969,
          0.931979238986969,
          0.931979238986969,
          0.931979238986969,
          0.931979238986969,
          0.931979238986969,
          0.931979238986969,
          0.931979238986969,
          0.931979238986969,
          0.931979238986969,
          0.931979238986969,
          0.931979238986969,
          0.931979238986969,
          0.931979238986969,
          0.931979238986969,
          0.931979238986969,
          0.931979238986969,
          0.931979238986969
         ]
        }
       ],
       "layout": {
        "template": {
         "data": {
          "bar": [
           {
            "error_x": {
             "color": "#2a3f5f"
            },
            "error_y": {
             "color": "#2a3f5f"
            },
            "marker": {
             "line": {
              "color": "#E5ECF6",
              "width": 0.5
             },
             "pattern": {
              "fillmode": "overlay",
              "size": 10,
              "solidity": 0.2
             }
            },
            "type": "bar"
           }
          ],
          "barpolar": [
           {
            "marker": {
             "line": {
              "color": "#E5ECF6",
              "width": 0.5
             },
             "pattern": {
              "fillmode": "overlay",
              "size": 10,
              "solidity": 0.2
             }
            },
            "type": "barpolar"
           }
          ],
          "carpet": [
           {
            "aaxis": {
             "endlinecolor": "#2a3f5f",
             "gridcolor": "white",
             "linecolor": "white",
             "minorgridcolor": "white",
             "startlinecolor": "#2a3f5f"
            },
            "baxis": {
             "endlinecolor": "#2a3f5f",
             "gridcolor": "white",
             "linecolor": "white",
             "minorgridcolor": "white",
             "startlinecolor": "#2a3f5f"
            },
            "type": "carpet"
           }
          ],
          "choropleth": [
           {
            "colorbar": {
             "outlinewidth": 0,
             "ticks": ""
            },
            "type": "choropleth"
           }
          ],
          "contour": [
           {
            "colorbar": {
             "outlinewidth": 0,
             "ticks": ""
            },
            "colorscale": [
             [
              0,
              "#0d0887"
             ],
             [
              0.1111111111111111,
              "#46039f"
             ],
             [
              0.2222222222222222,
              "#7201a8"
             ],
             [
              0.3333333333333333,
              "#9c179e"
             ],
             [
              0.4444444444444444,
              "#bd3786"
             ],
             [
              0.5555555555555556,
              "#d8576b"
             ],
             [
              0.6666666666666666,
              "#ed7953"
             ],
             [
              0.7777777777777778,
              "#fb9f3a"
             ],
             [
              0.8888888888888888,
              "#fdca26"
             ],
             [
              1,
              "#f0f921"
             ]
            ],
            "type": "contour"
           }
          ],
          "contourcarpet": [
           {
            "colorbar": {
             "outlinewidth": 0,
             "ticks": ""
            },
            "type": "contourcarpet"
           }
          ],
          "heatmap": [
           {
            "colorbar": {
             "outlinewidth": 0,
             "ticks": ""
            },
            "colorscale": [
             [
              0,
              "#0d0887"
             ],
             [
              0.1111111111111111,
              "#46039f"
             ],
             [
              0.2222222222222222,
              "#7201a8"
             ],
             [
              0.3333333333333333,
              "#9c179e"
             ],
             [
              0.4444444444444444,
              "#bd3786"
             ],
             [
              0.5555555555555556,
              "#d8576b"
             ],
             [
              0.6666666666666666,
              "#ed7953"
             ],
             [
              0.7777777777777778,
              "#fb9f3a"
             ],
             [
              0.8888888888888888,
              "#fdca26"
             ],
             [
              1,
              "#f0f921"
             ]
            ],
            "type": "heatmap"
           }
          ],
          "heatmapgl": [
           {
            "colorbar": {
             "outlinewidth": 0,
             "ticks": ""
            },
            "colorscale": [
             [
              0,
              "#0d0887"
             ],
             [
              0.1111111111111111,
              "#46039f"
             ],
             [
              0.2222222222222222,
              "#7201a8"
             ],
             [
              0.3333333333333333,
              "#9c179e"
             ],
             [
              0.4444444444444444,
              "#bd3786"
             ],
             [
              0.5555555555555556,
              "#d8576b"
             ],
             [
              0.6666666666666666,
              "#ed7953"
             ],
             [
              0.7777777777777778,
              "#fb9f3a"
             ],
             [
              0.8888888888888888,
              "#fdca26"
             ],
             [
              1,
              "#f0f921"
             ]
            ],
            "type": "heatmapgl"
           }
          ],
          "histogram": [
           {
            "marker": {
             "pattern": {
              "fillmode": "overlay",
              "size": 10,
              "solidity": 0.2
             }
            },
            "type": "histogram"
           }
          ],
          "histogram2d": [
           {
            "colorbar": {
             "outlinewidth": 0,
             "ticks": ""
            },
            "colorscale": [
             [
              0,
              "#0d0887"
             ],
             [
              0.1111111111111111,
              "#46039f"
             ],
             [
              0.2222222222222222,
              "#7201a8"
             ],
             [
              0.3333333333333333,
              "#9c179e"
             ],
             [
              0.4444444444444444,
              "#bd3786"
             ],
             [
              0.5555555555555556,
              "#d8576b"
             ],
             [
              0.6666666666666666,
              "#ed7953"
             ],
             [
              0.7777777777777778,
              "#fb9f3a"
             ],
             [
              0.8888888888888888,
              "#fdca26"
             ],
             [
              1,
              "#f0f921"
             ]
            ],
            "type": "histogram2d"
           }
          ],
          "histogram2dcontour": [
           {
            "colorbar": {
             "outlinewidth": 0,
             "ticks": ""
            },
            "colorscale": [
             [
              0,
              "#0d0887"
             ],
             [
              0.1111111111111111,
              "#46039f"
             ],
             [
              0.2222222222222222,
              "#7201a8"
             ],
             [
              0.3333333333333333,
              "#9c179e"
             ],
             [
              0.4444444444444444,
              "#bd3786"
             ],
             [
              0.5555555555555556,
              "#d8576b"
             ],
             [
              0.6666666666666666,
              "#ed7953"
             ],
             [
              0.7777777777777778,
              "#fb9f3a"
             ],
             [
              0.8888888888888888,
              "#fdca26"
             ],
             [
              1,
              "#f0f921"
             ]
            ],
            "type": "histogram2dcontour"
           }
          ],
          "mesh3d": [
           {
            "colorbar": {
             "outlinewidth": 0,
             "ticks": ""
            },
            "type": "mesh3d"
           }
          ],
          "parcoords": [
           {
            "line": {
             "colorbar": {
              "outlinewidth": 0,
              "ticks": ""
             }
            },
            "type": "parcoords"
           }
          ],
          "pie": [
           {
            "automargin": true,
            "type": "pie"
           }
          ],
          "scatter": [
           {
            "fillpattern": {
             "fillmode": "overlay",
             "size": 10,
             "solidity": 0.2
            },
            "type": "scatter"
           }
          ],
          "scatter3d": [
           {
            "line": {
             "colorbar": {
              "outlinewidth": 0,
              "ticks": ""
             }
            },
            "marker": {
             "colorbar": {
              "outlinewidth": 0,
              "ticks": ""
             }
            },
            "type": "scatter3d"
           }
          ],
          "scattercarpet": [
           {
            "marker": {
             "colorbar": {
              "outlinewidth": 0,
              "ticks": ""
             }
            },
            "type": "scattercarpet"
           }
          ],
          "scattergeo": [
           {
            "marker": {
             "colorbar": {
              "outlinewidth": 0,
              "ticks": ""
             }
            },
            "type": "scattergeo"
           }
          ],
          "scattergl": [
           {
            "marker": {
             "colorbar": {
              "outlinewidth": 0,
              "ticks": ""
             }
            },
            "type": "scattergl"
           }
          ],
          "scattermapbox": [
           {
            "marker": {
             "colorbar": {
              "outlinewidth": 0,
              "ticks": ""
             }
            },
            "type": "scattermapbox"
           }
          ],
          "scatterpolar": [
           {
            "marker": {
             "colorbar": {
              "outlinewidth": 0,
              "ticks": ""
             }
            },
            "type": "scatterpolar"
           }
          ],
          "scatterpolargl": [
           {
            "marker": {
             "colorbar": {
              "outlinewidth": 0,
              "ticks": ""
             }
            },
            "type": "scatterpolargl"
           }
          ],
          "scatterternary": [
           {
            "marker": {
             "colorbar": {
              "outlinewidth": 0,
              "ticks": ""
             }
            },
            "type": "scatterternary"
           }
          ],
          "surface": [
           {
            "colorbar": {
             "outlinewidth": 0,
             "ticks": ""
            },
            "colorscale": [
             [
              0,
              "#0d0887"
             ],
             [
              0.1111111111111111,
              "#46039f"
             ],
             [
              0.2222222222222222,
              "#7201a8"
             ],
             [
              0.3333333333333333,
              "#9c179e"
             ],
             [
              0.4444444444444444,
              "#bd3786"
             ],
             [
              0.5555555555555556,
              "#d8576b"
             ],
             [
              0.6666666666666666,
              "#ed7953"
             ],
             [
              0.7777777777777778,
              "#fb9f3a"
             ],
             [
              0.8888888888888888,
              "#fdca26"
             ],
             [
              1,
              "#f0f921"
             ]
            ],
            "type": "surface"
           }
          ],
          "table": [
           {
            "cells": {
             "fill": {
              "color": "#EBF0F8"
             },
             "line": {
              "color": "white"
             }
            },
            "header": {
             "fill": {
              "color": "#C8D4E3"
             },
             "line": {
              "color": "white"
             }
            },
            "type": "table"
           }
          ]
         },
         "layout": {
          "annotationdefaults": {
           "arrowcolor": "#2a3f5f",
           "arrowhead": 0,
           "arrowwidth": 1
          },
          "autotypenumbers": "strict",
          "coloraxis": {
           "colorbar": {
            "outlinewidth": 0,
            "ticks": ""
           }
          },
          "colorscale": {
           "diverging": [
            [
             0,
             "#8e0152"
            ],
            [
             0.1,
             "#c51b7d"
            ],
            [
             0.2,
             "#de77ae"
            ],
            [
             0.3,
             "#f1b6da"
            ],
            [
             0.4,
             "#fde0ef"
            ],
            [
             0.5,
             "#f7f7f7"
            ],
            [
             0.6,
             "#e6f5d0"
            ],
            [
             0.7,
             "#b8e186"
            ],
            [
             0.8,
             "#7fbc41"
            ],
            [
             0.9,
             "#4d9221"
            ],
            [
             1,
             "#276419"
            ]
           ],
           "sequential": [
            [
             0,
             "#0d0887"
            ],
            [
             0.1111111111111111,
             "#46039f"
            ],
            [
             0.2222222222222222,
             "#7201a8"
            ],
            [
             0.3333333333333333,
             "#9c179e"
            ],
            [
             0.4444444444444444,
             "#bd3786"
            ],
            [
             0.5555555555555556,
             "#d8576b"
            ],
            [
             0.6666666666666666,
             "#ed7953"
            ],
            [
             0.7777777777777778,
             "#fb9f3a"
            ],
            [
             0.8888888888888888,
             "#fdca26"
            ],
            [
             1,
             "#f0f921"
            ]
           ],
           "sequentialminus": [
            [
             0,
             "#0d0887"
            ],
            [
             0.1111111111111111,
             "#46039f"
            ],
            [
             0.2222222222222222,
             "#7201a8"
            ],
            [
             0.3333333333333333,
             "#9c179e"
            ],
            [
             0.4444444444444444,
             "#bd3786"
            ],
            [
             0.5555555555555556,
             "#d8576b"
            ],
            [
             0.6666666666666666,
             "#ed7953"
            ],
            [
             0.7777777777777778,
             "#fb9f3a"
            ],
            [
             0.8888888888888888,
             "#fdca26"
            ],
            [
             1,
             "#f0f921"
            ]
           ]
          },
          "colorway": [
           "#636efa",
           "#EF553B",
           "#00cc96",
           "#ab63fa",
           "#FFA15A",
           "#19d3f3",
           "#FF6692",
           "#B6E880",
           "#FF97FF",
           "#FECB52"
          ],
          "font": {
           "color": "#2a3f5f"
          },
          "geo": {
           "bgcolor": "white",
           "lakecolor": "white",
           "landcolor": "#E5ECF6",
           "showlakes": true,
           "showland": true,
           "subunitcolor": "white"
          },
          "hoverlabel": {
           "align": "left"
          },
          "hovermode": "closest",
          "mapbox": {
           "style": "light"
          },
          "paper_bgcolor": "white",
          "plot_bgcolor": "#E5ECF6",
          "polar": {
           "angularaxis": {
            "gridcolor": "white",
            "linecolor": "white",
            "ticks": ""
           },
           "bgcolor": "#E5ECF6",
           "radialaxis": {
            "gridcolor": "white",
            "linecolor": "white",
            "ticks": ""
           }
          },
          "scene": {
           "xaxis": {
            "backgroundcolor": "#E5ECF6",
            "gridcolor": "white",
            "gridwidth": 2,
            "linecolor": "white",
            "showbackground": true,
            "ticks": "",
            "zerolinecolor": "white"
           },
           "yaxis": {
            "backgroundcolor": "#E5ECF6",
            "gridcolor": "white",
            "gridwidth": 2,
            "linecolor": "white",
            "showbackground": true,
            "ticks": "",
            "zerolinecolor": "white"
           },
           "zaxis": {
            "backgroundcolor": "#E5ECF6",
            "gridcolor": "white",
            "gridwidth": 2,
            "linecolor": "white",
            "showbackground": true,
            "ticks": "",
            "zerolinecolor": "white"
           }
          },
          "shapedefaults": {
           "line": {
            "color": "#2a3f5f"
           }
          },
          "ternary": {
           "aaxis": {
            "gridcolor": "white",
            "linecolor": "white",
            "ticks": ""
           },
           "baxis": {
            "gridcolor": "white",
            "linecolor": "white",
            "ticks": ""
           },
           "bgcolor": "#E5ECF6",
           "caxis": {
            "gridcolor": "white",
            "linecolor": "white",
            "ticks": ""
           }
          },
          "title": {
           "x": 0.05
          },
          "xaxis": {
           "automargin": true,
           "gridcolor": "white",
           "linecolor": "white",
           "ticks": "",
           "title": {
            "standoff": 15
           },
           "zerolinecolor": "white",
           "zerolinewidth": 2
          },
          "yaxis": {
           "automargin": true,
           "gridcolor": "white",
           "linecolor": "white",
           "ticks": "",
           "title": {
            "standoff": 15
           },
           "zerolinecolor": "white",
           "zerolinewidth": 2
          }
         }
        },
        "title": {
         "text": "RNN vs LSTM accuracy"
        },
        "xaxis": {
         "title": {
          "text": "Epoch"
         }
        },
        "yaxis": {
         "title": {
          "text": "Accuracy"
         }
        }
       }
      },
      "text/html": [
       "<div>                            <div id=\"6713c9b3-50e4-40b0-b9c6-40a92c0fbe94\" class=\"plotly-graph-div\" style=\"height:525px; width:100%;\"></div>            <script type=\"text/javascript\">                require([\"plotly\"], function(Plotly) {                    window.PLOTLYENV=window.PLOTLYENV || {};                                    if (document.getElementById(\"6713c9b3-50e4-40b0-b9c6-40a92c0fbe94\")) {                    Plotly.newPlot(                        \"6713c9b3-50e4-40b0-b9c6-40a92c0fbe94\",                        [{\"mode\":\"lines+markers\",\"name\":\"RNN validation accuracy\",\"x\":[0,1,2,3,4,5,6,7,8,9,10,11,12,13,14,15,16,17,18,19,20,21,22,23,24,25,26,27,28,29,30,31,32,33,34,35,36,37,38,39,40,41,42,43,44,45,46,47,48,49,50,51,52,53,54,55,56,57,58,59,60,61,62,63,64,65,66,67,68,69,70,71,72,73,74,75,76,77,78,79,80,81,82,83,84,85,86,87,88,89,90,91,92,93,94,95,96,97,98,99],\"y\":[0.9078734517097473,0.9078734517097473,0.9078734517097473,0.9078734517097473,0.9078734517097473,0.9092126488685608,0.9239439964294434,0.9239439964294434,0.9239439964294434,0.9239439964294434,0.9239439964294434,0.9239439964294434,0.9239439964294434,0.9239439964294434,0.9239439964294434,0.9239439964294434,0.9239439964294434,0.9239439964294434,0.9239439964294434,0.9239439964294434,0.9239439964294434,0.9239439964294434,0.9239439964294434,0.9239439964294434,0.931979238986969,0.931979238986969,0.931979238986969,0.931979238986969,0.931979238986969,0.931979238986969,0.931979238986969,0.931979238986969,0.931979238986969,0.931979238986969,0.931979238986969,0.931979238986969,0.931979238986969,0.931979238986969,0.931979238986969,0.931979238986969,0.931979238986969,0.931979238986969,0.931979238986969,0.931979238986969,0.931979238986969,0.931979238986969,0.931979238986969,0.931979238986969,0.931979238986969,0.9239439964294434,0.9239439964294434,0.9239439964294434,0.9239439964294434,0.931979238986969,0.931979238986969,0.931979238986969,0.931979238986969,0.931979238986969,0.931979238986969,0.9400144815444946,0.931979238986969,0.931979238986969,0.931979238986969,0.931979238986969,0.931979238986969,0.9239439964294434,0.9239439964294434,0.9299704432487488,0.9239439964294434,0.931979238986969,0.931979238986969,0.9368897080421448,0.931979238986969,0.931979238986969,0.9239439964294434,0.9239439964294434,0.9239439964294434,0.9239439964294434,0.931979238986969,0.931979238986969,0.931979238986969,0.931979238986969,0.931979238986969,0.931979238986969,0.9393448829650879,0.931979238986969,0.931979238986969,0.9402377009391785,0.931979238986969,0.931979238986969,0.931979238986969,0.9406841397285461,0.931979238986969,0.931979238986969,0.931979238986969,0.931979238986969,0.9338206648826599,0.931979238986969,0.931979238986969,0.9393448829650879],\"type\":\"scatter\"},{\"mode\":\"lines+markers\",\"name\":\"LSTM validation accuracy\",\"x\":[0,1,2,3,4,5,6,7,8,9,10,11,12,13,14,15,16,17,18,19,20,21,22,23,24,25,26,27,28,29,30,31,32,33,34,35,36,37,38,39,40,41,42,43,44,45,46,47,48,49,50,51,52,53,54,55,56,57,58,59,60,61,62,63,64,65,66,67,68,69,70,71,72,73,74,75,76,77,78,79,80,81,82,83,84,85,86,87,88,89,90,91,92,93,94,95,96,97,98,99],\"y\":[0.9078734517097473,0.9078734517097473,0.9078734517097473,0.9078734517097473,0.9078734517097473,0.9078734517097473,0.9078734517097473,0.9239439964294434,0.9239439964294434,0.9239439964294434,0.9239439964294434,0.9239439964294434,0.9239439964294434,0.9239439964294434,0.9239439964294434,0.9239439964294434,0.9239439964294434,0.9239439964294434,0.9239439964294434,0.9239439964294434,0.9239439964294434,0.9239439964294434,0.9239439964294434,0.9239439964294434,0.9239439964294434,0.9239439964294434,0.9239439964294434,0.9239439964294434,0.9239439964294434,0.9239439964294434,0.9239439964294434,0.9239439964294434,0.9239439964294434,0.9239439964294434,0.9239439964294434,0.9239439964294434,0.9239439964294434,0.9239439964294434,0.9239439964294434,0.9239439964294434,0.9239439964294434,0.9239439964294434,0.9239439964294434,0.9239439964294434,0.9239439964294434,0.9239439964294434,0.9239439964294434,0.9239439964294434,0.9239439964294434,0.9239439964294434,0.9239439964294434,0.9239439964294434,0.9239439964294434,0.9239439964294434,0.9239439964294434,0.9239439964294434,0.9239439964294434,0.9239439964294434,0.9270129799842834,0.9239439964294434,0.9239439964294434,0.9257853627204895,0.9270129799842834,0.9306958317756653,0.9317002296447754,0.9315886497497559,0.9317002296447754,0.931979238986969,0.931979238986969,0.931979238986969,0.931979238986969,0.9386752843856812,0.9400144815444946,0.9400144815444946,0.9400144815444946,0.9400144815444946,0.9400144815444946,0.9400144815444946,0.931979238986969,0.931979238986969,0.931979238986969,0.931979238986969,0.931979238986969,0.931979238986969,0.931979238986969,0.931979238986969,0.931979238986969,0.931979238986969,0.931979238986969,0.931979238986969,0.931979238986969,0.931979238986969,0.931979238986969,0.931979238986969,0.931979238986969,0.931979238986969,0.931979238986969,0.931979238986969,0.931979238986969,0.931979238986969],\"type\":\"scatter\"}],                        {\"template\":{\"data\":{\"histogram2dcontour\":[{\"type\":\"histogram2dcontour\",\"colorbar\":{\"outlinewidth\":0,\"ticks\":\"\"},\"colorscale\":[[0.0,\"#0d0887\"],[0.1111111111111111,\"#46039f\"],[0.2222222222222222,\"#7201a8\"],[0.3333333333333333,\"#9c179e\"],[0.4444444444444444,\"#bd3786\"],[0.5555555555555556,\"#d8576b\"],[0.6666666666666666,\"#ed7953\"],[0.7777777777777778,\"#fb9f3a\"],[0.8888888888888888,\"#fdca26\"],[1.0,\"#f0f921\"]]}],\"choropleth\":[{\"type\":\"choropleth\",\"colorbar\":{\"outlinewidth\":0,\"ticks\":\"\"}}],\"histogram2d\":[{\"type\":\"histogram2d\",\"colorbar\":{\"outlinewidth\":0,\"ticks\":\"\"},\"colorscale\":[[0.0,\"#0d0887\"],[0.1111111111111111,\"#46039f\"],[0.2222222222222222,\"#7201a8\"],[0.3333333333333333,\"#9c179e\"],[0.4444444444444444,\"#bd3786\"],[0.5555555555555556,\"#d8576b\"],[0.6666666666666666,\"#ed7953\"],[0.7777777777777778,\"#fb9f3a\"],[0.8888888888888888,\"#fdca26\"],[1.0,\"#f0f921\"]]}],\"heatmap\":[{\"type\":\"heatmap\",\"colorbar\":{\"outlinewidth\":0,\"ticks\":\"\"},\"colorscale\":[[0.0,\"#0d0887\"],[0.1111111111111111,\"#46039f\"],[0.2222222222222222,\"#7201a8\"],[0.3333333333333333,\"#9c179e\"],[0.4444444444444444,\"#bd3786\"],[0.5555555555555556,\"#d8576b\"],[0.6666666666666666,\"#ed7953\"],[0.7777777777777778,\"#fb9f3a\"],[0.8888888888888888,\"#fdca26\"],[1.0,\"#f0f921\"]]}],\"heatmapgl\":[{\"type\":\"heatmapgl\",\"colorbar\":{\"outlinewidth\":0,\"ticks\":\"\"},\"colorscale\":[[0.0,\"#0d0887\"],[0.1111111111111111,\"#46039f\"],[0.2222222222222222,\"#7201a8\"],[0.3333333333333333,\"#9c179e\"],[0.4444444444444444,\"#bd3786\"],[0.5555555555555556,\"#d8576b\"],[0.6666666666666666,\"#ed7953\"],[0.7777777777777778,\"#fb9f3a\"],[0.8888888888888888,\"#fdca26\"],[1.0,\"#f0f921\"]]}],\"contourcarpet\":[{\"type\":\"contourcarpet\",\"colorbar\":{\"outlinewidth\":0,\"ticks\":\"\"}}],\"contour\":[{\"type\":\"contour\",\"colorbar\":{\"outlinewidth\":0,\"ticks\":\"\"},\"colorscale\":[[0.0,\"#0d0887\"],[0.1111111111111111,\"#46039f\"],[0.2222222222222222,\"#7201a8\"],[0.3333333333333333,\"#9c179e\"],[0.4444444444444444,\"#bd3786\"],[0.5555555555555556,\"#d8576b\"],[0.6666666666666666,\"#ed7953\"],[0.7777777777777778,\"#fb9f3a\"],[0.8888888888888888,\"#fdca26\"],[1.0,\"#f0f921\"]]}],\"surface\":[{\"type\":\"surface\",\"colorbar\":{\"outlinewidth\":0,\"ticks\":\"\"},\"colorscale\":[[0.0,\"#0d0887\"],[0.1111111111111111,\"#46039f\"],[0.2222222222222222,\"#7201a8\"],[0.3333333333333333,\"#9c179e\"],[0.4444444444444444,\"#bd3786\"],[0.5555555555555556,\"#d8576b\"],[0.6666666666666666,\"#ed7953\"],[0.7777777777777778,\"#fb9f3a\"],[0.8888888888888888,\"#fdca26\"],[1.0,\"#f0f921\"]]}],\"mesh3d\":[{\"type\":\"mesh3d\",\"colorbar\":{\"outlinewidth\":0,\"ticks\":\"\"}}],\"scatter\":[{\"fillpattern\":{\"fillmode\":\"overlay\",\"size\":10,\"solidity\":0.2},\"type\":\"scatter\"}],\"parcoords\":[{\"type\":\"parcoords\",\"line\":{\"colorbar\":{\"outlinewidth\":0,\"ticks\":\"\"}}}],\"scatterpolargl\":[{\"type\":\"scatterpolargl\",\"marker\":{\"colorbar\":{\"outlinewidth\":0,\"ticks\":\"\"}}}],\"bar\":[{\"error_x\":{\"color\":\"#2a3f5f\"},\"error_y\":{\"color\":\"#2a3f5f\"},\"marker\":{\"line\":{\"color\":\"#E5ECF6\",\"width\":0.5},\"pattern\":{\"fillmode\":\"overlay\",\"size\":10,\"solidity\":0.2}},\"type\":\"bar\"}],\"scattergeo\":[{\"type\":\"scattergeo\",\"marker\":{\"colorbar\":{\"outlinewidth\":0,\"ticks\":\"\"}}}],\"scatterpolar\":[{\"type\":\"scatterpolar\",\"marker\":{\"colorbar\":{\"outlinewidth\":0,\"ticks\":\"\"}}}],\"histogram\":[{\"marker\":{\"pattern\":{\"fillmode\":\"overlay\",\"size\":10,\"solidity\":0.2}},\"type\":\"histogram\"}],\"scattergl\":[{\"type\":\"scattergl\",\"marker\":{\"colorbar\":{\"outlinewidth\":0,\"ticks\":\"\"}}}],\"scatter3d\":[{\"type\":\"scatter3d\",\"line\":{\"colorbar\":{\"outlinewidth\":0,\"ticks\":\"\"}},\"marker\":{\"colorbar\":{\"outlinewidth\":0,\"ticks\":\"\"}}}],\"scattermapbox\":[{\"type\":\"scattermapbox\",\"marker\":{\"colorbar\":{\"outlinewidth\":0,\"ticks\":\"\"}}}],\"scatterternary\":[{\"type\":\"scatterternary\",\"marker\":{\"colorbar\":{\"outlinewidth\":0,\"ticks\":\"\"}}}],\"scattercarpet\":[{\"type\":\"scattercarpet\",\"marker\":{\"colorbar\":{\"outlinewidth\":0,\"ticks\":\"\"}}}],\"carpet\":[{\"aaxis\":{\"endlinecolor\":\"#2a3f5f\",\"gridcolor\":\"white\",\"linecolor\":\"white\",\"minorgridcolor\":\"white\",\"startlinecolor\":\"#2a3f5f\"},\"baxis\":{\"endlinecolor\":\"#2a3f5f\",\"gridcolor\":\"white\",\"linecolor\":\"white\",\"minorgridcolor\":\"white\",\"startlinecolor\":\"#2a3f5f\"},\"type\":\"carpet\"}],\"table\":[{\"cells\":{\"fill\":{\"color\":\"#EBF0F8\"},\"line\":{\"color\":\"white\"}},\"header\":{\"fill\":{\"color\":\"#C8D4E3\"},\"line\":{\"color\":\"white\"}},\"type\":\"table\"}],\"barpolar\":[{\"marker\":{\"line\":{\"color\":\"#E5ECF6\",\"width\":0.5},\"pattern\":{\"fillmode\":\"overlay\",\"size\":10,\"solidity\":0.2}},\"type\":\"barpolar\"}],\"pie\":[{\"automargin\":true,\"type\":\"pie\"}]},\"layout\":{\"autotypenumbers\":\"strict\",\"colorway\":[\"#636efa\",\"#EF553B\",\"#00cc96\",\"#ab63fa\",\"#FFA15A\",\"#19d3f3\",\"#FF6692\",\"#B6E880\",\"#FF97FF\",\"#FECB52\"],\"font\":{\"color\":\"#2a3f5f\"},\"hovermode\":\"closest\",\"hoverlabel\":{\"align\":\"left\"},\"paper_bgcolor\":\"white\",\"plot_bgcolor\":\"#E5ECF6\",\"polar\":{\"bgcolor\":\"#E5ECF6\",\"angularaxis\":{\"gridcolor\":\"white\",\"linecolor\":\"white\",\"ticks\":\"\"},\"radialaxis\":{\"gridcolor\":\"white\",\"linecolor\":\"white\",\"ticks\":\"\"}},\"ternary\":{\"bgcolor\":\"#E5ECF6\",\"aaxis\":{\"gridcolor\":\"white\",\"linecolor\":\"white\",\"ticks\":\"\"},\"baxis\":{\"gridcolor\":\"white\",\"linecolor\":\"white\",\"ticks\":\"\"},\"caxis\":{\"gridcolor\":\"white\",\"linecolor\":\"white\",\"ticks\":\"\"}},\"coloraxis\":{\"colorbar\":{\"outlinewidth\":0,\"ticks\":\"\"}},\"colorscale\":{\"sequential\":[[0.0,\"#0d0887\"],[0.1111111111111111,\"#46039f\"],[0.2222222222222222,\"#7201a8\"],[0.3333333333333333,\"#9c179e\"],[0.4444444444444444,\"#bd3786\"],[0.5555555555555556,\"#d8576b\"],[0.6666666666666666,\"#ed7953\"],[0.7777777777777778,\"#fb9f3a\"],[0.8888888888888888,\"#fdca26\"],[1.0,\"#f0f921\"]],\"sequentialminus\":[[0.0,\"#0d0887\"],[0.1111111111111111,\"#46039f\"],[0.2222222222222222,\"#7201a8\"],[0.3333333333333333,\"#9c179e\"],[0.4444444444444444,\"#bd3786\"],[0.5555555555555556,\"#d8576b\"],[0.6666666666666666,\"#ed7953\"],[0.7777777777777778,\"#fb9f3a\"],[0.8888888888888888,\"#fdca26\"],[1.0,\"#f0f921\"]],\"diverging\":[[0,\"#8e0152\"],[0.1,\"#c51b7d\"],[0.2,\"#de77ae\"],[0.3,\"#f1b6da\"],[0.4,\"#fde0ef\"],[0.5,\"#f7f7f7\"],[0.6,\"#e6f5d0\"],[0.7,\"#b8e186\"],[0.8,\"#7fbc41\"],[0.9,\"#4d9221\"],[1,\"#276419\"]]},\"xaxis\":{\"gridcolor\":\"white\",\"linecolor\":\"white\",\"ticks\":\"\",\"title\":{\"standoff\":15},\"zerolinecolor\":\"white\",\"automargin\":true,\"zerolinewidth\":2},\"yaxis\":{\"gridcolor\":\"white\",\"linecolor\":\"white\",\"ticks\":\"\",\"title\":{\"standoff\":15},\"zerolinecolor\":\"white\",\"automargin\":true,\"zerolinewidth\":2},\"scene\":{\"xaxis\":{\"backgroundcolor\":\"#E5ECF6\",\"gridcolor\":\"white\",\"linecolor\":\"white\",\"showbackground\":true,\"ticks\":\"\",\"zerolinecolor\":\"white\",\"gridwidth\":2},\"yaxis\":{\"backgroundcolor\":\"#E5ECF6\",\"gridcolor\":\"white\",\"linecolor\":\"white\",\"showbackground\":true,\"ticks\":\"\",\"zerolinecolor\":\"white\",\"gridwidth\":2},\"zaxis\":{\"backgroundcolor\":\"#E5ECF6\",\"gridcolor\":\"white\",\"linecolor\":\"white\",\"showbackground\":true,\"ticks\":\"\",\"zerolinecolor\":\"white\",\"gridwidth\":2}},\"shapedefaults\":{\"line\":{\"color\":\"#2a3f5f\"}},\"annotationdefaults\":{\"arrowcolor\":\"#2a3f5f\",\"arrowhead\":0,\"arrowwidth\":1},\"geo\":{\"bgcolor\":\"white\",\"landcolor\":\"#E5ECF6\",\"subunitcolor\":\"white\",\"showland\":true,\"showlakes\":true,\"lakecolor\":\"white\"},\"title\":{\"x\":0.05},\"mapbox\":{\"style\":\"light\"}}},\"title\":{\"text\":\"RNN vs LSTM accuracy\"},\"xaxis\":{\"title\":{\"text\":\"Epoch\"}},\"yaxis\":{\"title\":{\"text\":\"Accuracy\"}}},                        {\"responsive\": true}                    ).then(function(){\n",
       "                            \n",
       "var gd = document.getElementById('6713c9b3-50e4-40b0-b9c6-40a92c0fbe94');\n",
       "var x = new MutationObserver(function (mutations, observer) {{\n",
       "        var display = window.getComputedStyle(gd).display;\n",
       "        if (!display || display === 'none') {{\n",
       "            console.log([gd, 'removed!']);\n",
       "            Plotly.purge(gd);\n",
       "            observer.disconnect();\n",
       "        }}\n",
       "}});\n",
       "\n",
       "// Listen for the removal of the full notebook cells\n",
       "var notebookContainer = gd.closest('#notebook-container');\n",
       "if (notebookContainer) {{\n",
       "    x.observe(notebookContainer, {childList: true});\n",
       "}}\n",
       "\n",
       "// Listen for the clearing of the current output cell\n",
       "var outputEl = gd.closest('.output');\n",
       "if (outputEl) {{\n",
       "    x.observe(outputEl, {childList: true});\n",
       "}}\n",
       "\n",
       "                        })                };                });            </script>        </div>"
      ]
     },
     "metadata": {},
     "output_type": "display_data"
    }
   ],
   "source": [
    "# compare accuracy\n",
    "fig = go.Figure()\n",
    "# fig.add_trace(go.Scatter(x=rnn_history.epoch, y=rnn_history.history['accuracy'],\n",
    "#                     mode='lines+markers',\n",
    "#                     name='RNN training accuracy'))\n",
    "fig.add_trace(go.Scatter(x=rnn_history.epoch, y=rnn_history.history['val_accuracy'],\n",
    "                    mode='lines+markers',\n",
    "                    name='RNN validation accuracy'))\n",
    "# fig.add_trace(go.Scatter(x=lstm_history.epoch, y=lstm_history.history['accuracy'],\n",
    "#                     mode='lines+markers',\n",
    "#                     name='LSTM training accuracy'))\n",
    "fig.add_trace(go.Scatter(x=lstm_history.epoch, y=lstm_history.history['val_accuracy'],\n",
    "                    mode='lines+markers',\n",
    "                    name='LSTM validation accuracy'))\n",
    "fig.update_layout(title='RNN vs LSTM accuracy',\n",
    "                     xaxis_title='Epoch',\n",
    "                     yaxis_title='Accuracy')\n",
    "fig.show()\n",
    "\n",
    "# save the figure\n",
    "fig.write_image(\"rnn_lstm_accuracy.png\")"
   ]
  },
  {
   "cell_type": "code",
   "execution_count": null,
   "metadata": {},
   "outputs": [],
   "source": []
  }
 ],
 "metadata": {
  "kernelspec": {
   "display_name": "corporate-bankruptcy",
   "language": "python",
   "name": "python3"
  },
  "language_info": {
   "codemirror_mode": {
    "name": "ipython",
    "version": 3
   },
   "file_extension": ".py",
   "mimetype": "text/x-python",
   "name": "python",
   "nbconvert_exporter": "python",
   "pygments_lexer": "ipython3",
   "version": "3.8.10"
  },
  "orig_nbformat": 4
 },
 "nbformat": 4,
 "nbformat_minor": 2
}
