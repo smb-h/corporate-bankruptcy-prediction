{
 "cells": [
  {
   "cell_type": "code",
   "execution_count": 1,
   "metadata": {},
   "outputs": [
    {
     "name": "stderr",
     "output_type": "stream",
     "text": [
      "2023-07-28 18:29:18.637354: I tensorflow/core/util/port.cc:110] oneDNN custom operations are on. You may see slightly different numerical results due to floating-point round-off errors from different computation orders. To turn them off, set the environment variable `TF_ENABLE_ONEDNN_OPTS=0`.\n",
      "2023-07-28 18:29:18.638823: I tensorflow/tsl/cuda/cudart_stub.cc:28] Could not find cuda drivers on your machine, GPU will not be used.\n",
      "2023-07-28 18:29:18.669428: I tensorflow/tsl/cuda/cudart_stub.cc:28] Could not find cuda drivers on your machine, GPU will not be used.\n",
      "2023-07-28 18:29:18.669985: I tensorflow/core/platform/cpu_feature_guard.cc:182] This TensorFlow binary is optimized to use available CPU instructions in performance-critical operations.\n",
      "To enable the following instructions: AVX2 AVX512F AVX512_VNNI FMA, in other operations, rebuild TensorFlow with the appropriate compiler flags.\n",
      "2023-07-28 18:29:19.267840: W tensorflow/compiler/tf2tensorrt/utils/py_utils.cc:38] TF-TRT Warning: Could not find TensorRT\n"
     ]
    }
   ],
   "source": [
    "import pandas as pd\n",
    "import numpy as np\n",
    "import plotly.graph_objects as go\n",
    "import plotly.express as px\n",
    "from sklearn.preprocessing import LabelEncoder\n",
    "from sklearn.preprocessing import MinMaxScaler\n",
    "from tensorflow import keras\n",
    "from sklearn.metrics import accuracy_score, precision_score, recall_score, f1_score, roc_auc_score\n",
    "from sklearn.model_selection import train_test_split\n",
    "from sklearn.linear_model import LogisticRegression\n",
    "from sklearn.ensemble import RandomForestClassifier\n",
    "from sklearn.svm import SVC"
   ]
  },
  {
   "cell_type": "code",
   "execution_count": 2,
   "metadata": {},
   "outputs": [],
   "source": [
    "results = pd.DataFrame(columns=['model', 'accuracy', 'precision', 'recall', 'f1', 'roc_auc'])"
   ]
  },
  {
   "cell_type": "markdown",
   "metadata": {},
   "source": [
    "### Data"
   ]
  },
  {
   "cell_type": "code",
   "execution_count": 3,
   "metadata": {},
   "outputs": [
    {
     "name": "stdout",
     "output_type": "stream",
     "text": [
      "(899, 828)\n"
     ]
    },
    {
     "data": {
      "text/html": [
       "<div>\n",
       "<style scoped>\n",
       "    .dataframe tbody tr th:only-of-type {\n",
       "        vertical-align: middle;\n",
       "    }\n",
       "\n",
       "    .dataframe tbody tr th {\n",
       "        vertical-align: top;\n",
       "    }\n",
       "\n",
       "    .dataframe thead th {\n",
       "        text-align: right;\n",
       "    }\n",
       "</style>\n",
       "<table border=\"1\" class=\"dataframe\">\n",
       "  <thead>\n",
       "    <tr style=\"text-align: right;\">\n",
       "      <th></th>\n",
       "      <th>Custom-Return_1390</th>\n",
       "      <th>EPS_MRQ_LC_1390</th>\n",
       "      <th>EPS_TTM_1390</th>\n",
       "      <th>EPS_MRQ_1390</th>\n",
       "      <th>EPS_FY_1390</th>\n",
       "      <th>Rev_TTM_1390</th>\n",
       "      <th>Rev_MRQ_1390</th>\n",
       "      <th>Rev_FY_1390</th>\n",
       "      <th>NI_TTM_1390</th>\n",
       "      <th>NI_MRQ_1390</th>\n",
       "      <th>...</th>\n",
       "      <th>ETR_1401</th>\n",
       "      <th>CFOToRev_1401</th>\n",
       "      <th>CFOToDebt_1401</th>\n",
       "      <th>FCFFToRev_1401</th>\n",
       "      <th>FCFFToNI_1401</th>\n",
       "      <th>FCFEToRev_1401</th>\n",
       "      <th>FCFEToNI_1401</th>\n",
       "      <th>CAPEXToRev_1401</th>\n",
       "      <th>CAPEXToNI_1401</th>\n",
       "      <th>DivYield_1401</th>\n",
       "    </tr>\n",
       "  </thead>\n",
       "  <tbody>\n",
       "    <tr>\n",
       "      <th>0</th>\n",
       "      <td>NaN</td>\n",
       "      <td>11.3750</td>\n",
       "      <td>83.0</td>\n",
       "      <td>11.0</td>\n",
       "      <td>24.0</td>\n",
       "      <td>1.917455e+12</td>\n",
       "      <td>8.399880e+11</td>\n",
       "      <td>1.685499e+12</td>\n",
       "      <td>8.266700e+10</td>\n",
       "      <td>1.137500e+10</td>\n",
       "      <td>...</td>\n",
       "      <td>0.0041</td>\n",
       "      <td>-0.0810</td>\n",
       "      <td>-0.0616</td>\n",
       "      <td>-0.0684</td>\n",
       "      <td>-1.7557</td>\n",
       "      <td>0.0220</td>\n",
       "      <td>0.0689</td>\n",
       "      <td>-0.0123</td>\n",
       "      <td>-0.3158</td>\n",
       "      <td>0.0021</td>\n",
       "    </tr>\n",
       "    <tr>\n",
       "      <th>1</th>\n",
       "      <td>0.208274</td>\n",
       "      <td>117.4437</td>\n",
       "      <td>295.0</td>\n",
       "      <td>117.0</td>\n",
       "      <td>295.0</td>\n",
       "      <td>9.046040e+12</td>\n",
       "      <td>2.474342e+12</td>\n",
       "      <td>9.046040e+12</td>\n",
       "      <td>7.951730e+11</td>\n",
       "      <td>3.170980e+11</td>\n",
       "      <td>...</td>\n",
       "      <td>0.1370</td>\n",
       "      <td>0.0267</td>\n",
       "      <td>0.0746</td>\n",
       "      <td>0.0082</td>\n",
       "      <td>0.0930</td>\n",
       "      <td>0.0305</td>\n",
       "      <td>0.3474</td>\n",
       "      <td>0.0187</td>\n",
       "      <td>0.2122</td>\n",
       "      <td>0.0073</td>\n",
       "    </tr>\n",
       "    <tr>\n",
       "      <th>2</th>\n",
       "      <td>NaN</td>\n",
       "      <td>88.7262</td>\n",
       "      <td>406.0</td>\n",
       "      <td>89.0</td>\n",
       "      <td>384.0</td>\n",
       "      <td>6.988662e+12</td>\n",
       "      <td>1.702216e+12</td>\n",
       "      <td>6.914857e+12</td>\n",
       "      <td>9.131650e+11</td>\n",
       "      <td>1.996340e+11</td>\n",
       "      <td>...</td>\n",
       "      <td>0.1034</td>\n",
       "      <td>0.0433</td>\n",
       "      <td>0.1469</td>\n",
       "      <td>0.0697</td>\n",
       "      <td>0.5587</td>\n",
       "      <td>0.0757</td>\n",
       "      <td>0.6061</td>\n",
       "      <td>0.0050</td>\n",
       "      <td>0.0402</td>\n",
       "      <td>0.0048</td>\n",
       "    </tr>\n",
       "    <tr>\n",
       "      <th>3</th>\n",
       "      <td>-0.481625</td>\n",
       "      <td>-125.1184</td>\n",
       "      <td>-113.0</td>\n",
       "      <td>-125.0</td>\n",
       "      <td>-113.0</td>\n",
       "      <td>2.991100e+10</td>\n",
       "      <td>7.170000e+08</td>\n",
       "      <td>2.991100e+10</td>\n",
       "      <td>-2.570900e+10</td>\n",
       "      <td>-2.852700e+10</td>\n",
       "      <td>...</td>\n",
       "      <td>NaN</td>\n",
       "      <td>-0.5435</td>\n",
       "      <td>-0.0327</td>\n",
       "      <td>-0.6303</td>\n",
       "      <td>NaN</td>\n",
       "      <td>-0.6316</td>\n",
       "      <td>NaN</td>\n",
       "      <td>0.0869</td>\n",
       "      <td>-0.3459</td>\n",
       "      <td>NaN</td>\n",
       "    </tr>\n",
       "    <tr>\n",
       "      <th>4</th>\n",
       "      <td>NaN</td>\n",
       "      <td>NaN</td>\n",
       "      <td>NaN</td>\n",
       "      <td>NaN</td>\n",
       "      <td>NaN</td>\n",
       "      <td>NaN</td>\n",
       "      <td>NaN</td>\n",
       "      <td>NaN</td>\n",
       "      <td>NaN</td>\n",
       "      <td>NaN</td>\n",
       "      <td>...</td>\n",
       "      <td>NaN</td>\n",
       "      <td>NaN</td>\n",
       "      <td>NaN</td>\n",
       "      <td>NaN</td>\n",
       "      <td>NaN</td>\n",
       "      <td>NaN</td>\n",
       "      <td>NaN</td>\n",
       "      <td>NaN</td>\n",
       "      <td>NaN</td>\n",
       "      <td>NaN</td>\n",
       "    </tr>\n",
       "  </tbody>\n",
       "</table>\n",
       "<p>5 rows × 828 columns</p>\n",
       "</div>"
      ],
      "text/plain": [
       "   Custom-Return_1390  EPS_MRQ_LC_1390  EPS_TTM_1390  EPS_MRQ_1390  \\\n",
       "0                 NaN          11.3750          83.0          11.0   \n",
       "1            0.208274         117.4437         295.0         117.0   \n",
       "2                 NaN          88.7262         406.0          89.0   \n",
       "3           -0.481625        -125.1184        -113.0        -125.0   \n",
       "4                 NaN              NaN           NaN           NaN   \n",
       "\n",
       "   EPS_FY_1390  Rev_TTM_1390  Rev_MRQ_1390   Rev_FY_1390   NI_TTM_1390  \\\n",
       "0         24.0  1.917455e+12  8.399880e+11  1.685499e+12  8.266700e+10   \n",
       "1        295.0  9.046040e+12  2.474342e+12  9.046040e+12  7.951730e+11   \n",
       "2        384.0  6.988662e+12  1.702216e+12  6.914857e+12  9.131650e+11   \n",
       "3       -113.0  2.991100e+10  7.170000e+08  2.991100e+10 -2.570900e+10   \n",
       "4          NaN           NaN           NaN           NaN           NaN   \n",
       "\n",
       "    NI_MRQ_1390  ...  ETR_1401  CFOToRev_1401  CFOToDebt_1401  FCFFToRev_1401  \\\n",
       "0  1.137500e+10  ...    0.0041        -0.0810         -0.0616         -0.0684   \n",
       "1  3.170980e+11  ...    0.1370         0.0267          0.0746          0.0082   \n",
       "2  1.996340e+11  ...    0.1034         0.0433          0.1469          0.0697   \n",
       "3 -2.852700e+10  ...       NaN        -0.5435         -0.0327         -0.6303   \n",
       "4           NaN  ...       NaN            NaN             NaN             NaN   \n",
       "\n",
       "   FCFFToNI_1401  FCFEToRev_1401  FCFEToNI_1401  CAPEXToRev_1401  \\\n",
       "0        -1.7557          0.0220         0.0689          -0.0123   \n",
       "1         0.0930          0.0305         0.3474           0.0187   \n",
       "2         0.5587          0.0757         0.6061           0.0050   \n",
       "3            NaN         -0.6316            NaN           0.0869   \n",
       "4            NaN             NaN            NaN              NaN   \n",
       "\n",
       "   CAPEXToNI_1401  DivYield_1401  \n",
       "0         -0.3158         0.0021  \n",
       "1          0.2122         0.0073  \n",
       "2          0.0402         0.0048  \n",
       "3         -0.3459            NaN  \n",
       "4             NaN            NaN  \n",
       "\n",
       "[5 rows x 828 columns]"
      ]
     },
     "execution_count": 3,
     "metadata": {},
     "output_type": "execute_result"
    }
   ],
   "source": [
    "df = pd.read_excel('./data.xlsx')\n",
    "df = df.drop(columns=['Company'])\n",
    "df = df.replace('-', np.nan)\n",
    "print(df.shape)\n",
    "df.head()"
   ]
  },
  {
   "cell_type": "code",
   "execution_count": 4,
   "metadata": {},
   "outputs": [
    {
     "data": {
      "text/html": [
       "<div>\n",
       "<style scoped>\n",
       "    .dataframe tbody tr th:only-of-type {\n",
       "        vertical-align: middle;\n",
       "    }\n",
       "\n",
       "    .dataframe tbody tr th {\n",
       "        vertical-align: top;\n",
       "    }\n",
       "\n",
       "    .dataframe thead th {\n",
       "        text-align: right;\n",
       "    }\n",
       "</style>\n",
       "<table border=\"1\" class=\"dataframe\">\n",
       "  <thead>\n",
       "    <tr style=\"text-align: right;\">\n",
       "      <th></th>\n",
       "      <th>Custom-Return_1390</th>\n",
       "      <th>EPS_MRQ_LC_1390</th>\n",
       "      <th>EPS_TTM_1390</th>\n",
       "      <th>EPS_MRQ_1390</th>\n",
       "      <th>EPS_FY_1390</th>\n",
       "      <th>Rev_TTM_1390</th>\n",
       "      <th>Rev_MRQ_1390</th>\n",
       "      <th>Rev_FY_1390</th>\n",
       "      <th>NI_TTM_1390</th>\n",
       "      <th>NI_MRQ_1390</th>\n",
       "      <th>...</th>\n",
       "      <th>ETR_1401</th>\n",
       "      <th>CFOToRev_1401</th>\n",
       "      <th>CFOToDebt_1401</th>\n",
       "      <th>FCFFToRev_1401</th>\n",
       "      <th>FCFFToNI_1401</th>\n",
       "      <th>FCFEToRev_1401</th>\n",
       "      <th>FCFEToNI_1401</th>\n",
       "      <th>CAPEXToRev_1401</th>\n",
       "      <th>CAPEXToNI_1401</th>\n",
       "      <th>DivYield_1401</th>\n",
       "    </tr>\n",
       "  </thead>\n",
       "  <tbody>\n",
       "    <tr>\n",
       "      <th>0</th>\n",
       "      <td>NaN</td>\n",
       "      <td>11.3750</td>\n",
       "      <td>83.0</td>\n",
       "      <td>11.0</td>\n",
       "      <td>24.0</td>\n",
       "      <td>1.917455e+12</td>\n",
       "      <td>8.399880e+11</td>\n",
       "      <td>1.685499e+12</td>\n",
       "      <td>8.266700e+10</td>\n",
       "      <td>1.137500e+10</td>\n",
       "      <td>...</td>\n",
       "      <td>0.0041</td>\n",
       "      <td>-0.0810</td>\n",
       "      <td>-0.0616</td>\n",
       "      <td>-0.0684</td>\n",
       "      <td>-1.7557</td>\n",
       "      <td>0.0220</td>\n",
       "      <td>0.0689</td>\n",
       "      <td>-0.0123</td>\n",
       "      <td>-0.3158</td>\n",
       "      <td>0.0021</td>\n",
       "    </tr>\n",
       "    <tr>\n",
       "      <th>1</th>\n",
       "      <td>0.208274</td>\n",
       "      <td>117.4437</td>\n",
       "      <td>295.0</td>\n",
       "      <td>117.0</td>\n",
       "      <td>295.0</td>\n",
       "      <td>9.046040e+12</td>\n",
       "      <td>2.474342e+12</td>\n",
       "      <td>9.046040e+12</td>\n",
       "      <td>7.951730e+11</td>\n",
       "      <td>3.170980e+11</td>\n",
       "      <td>...</td>\n",
       "      <td>0.1370</td>\n",
       "      <td>0.0267</td>\n",
       "      <td>0.0746</td>\n",
       "      <td>0.0082</td>\n",
       "      <td>0.0930</td>\n",
       "      <td>0.0305</td>\n",
       "      <td>0.3474</td>\n",
       "      <td>0.0187</td>\n",
       "      <td>0.2122</td>\n",
       "      <td>0.0073</td>\n",
       "    </tr>\n",
       "    <tr>\n",
       "      <th>2</th>\n",
       "      <td>NaN</td>\n",
       "      <td>88.7262</td>\n",
       "      <td>406.0</td>\n",
       "      <td>89.0</td>\n",
       "      <td>384.0</td>\n",
       "      <td>6.988662e+12</td>\n",
       "      <td>1.702216e+12</td>\n",
       "      <td>6.914857e+12</td>\n",
       "      <td>9.131650e+11</td>\n",
       "      <td>1.996340e+11</td>\n",
       "      <td>...</td>\n",
       "      <td>0.1034</td>\n",
       "      <td>0.0433</td>\n",
       "      <td>0.1469</td>\n",
       "      <td>0.0697</td>\n",
       "      <td>0.5587</td>\n",
       "      <td>0.0757</td>\n",
       "      <td>0.6061</td>\n",
       "      <td>0.0050</td>\n",
       "      <td>0.0402</td>\n",
       "      <td>0.0048</td>\n",
       "    </tr>\n",
       "    <tr>\n",
       "      <th>3</th>\n",
       "      <td>-0.481625</td>\n",
       "      <td>-125.1184</td>\n",
       "      <td>-113.0</td>\n",
       "      <td>-125.0</td>\n",
       "      <td>-113.0</td>\n",
       "      <td>2.991100e+10</td>\n",
       "      <td>7.170000e+08</td>\n",
       "      <td>2.991100e+10</td>\n",
       "      <td>-2.570900e+10</td>\n",
       "      <td>-2.852700e+10</td>\n",
       "      <td>...</td>\n",
       "      <td>NaN</td>\n",
       "      <td>-0.5435</td>\n",
       "      <td>-0.0327</td>\n",
       "      <td>-0.6303</td>\n",
       "      <td>NaN</td>\n",
       "      <td>-0.6316</td>\n",
       "      <td>NaN</td>\n",
       "      <td>0.0869</td>\n",
       "      <td>-0.3459</td>\n",
       "      <td>NaN</td>\n",
       "    </tr>\n",
       "    <tr>\n",
       "      <th>4</th>\n",
       "      <td>NaN</td>\n",
       "      <td>NaN</td>\n",
       "      <td>NaN</td>\n",
       "      <td>NaN</td>\n",
       "      <td>NaN</td>\n",
       "      <td>NaN</td>\n",
       "      <td>NaN</td>\n",
       "      <td>NaN</td>\n",
       "      <td>NaN</td>\n",
       "      <td>NaN</td>\n",
       "      <td>...</td>\n",
       "      <td>NaN</td>\n",
       "      <td>NaN</td>\n",
       "      <td>NaN</td>\n",
       "      <td>NaN</td>\n",
       "      <td>NaN</td>\n",
       "      <td>NaN</td>\n",
       "      <td>NaN</td>\n",
       "      <td>NaN</td>\n",
       "      <td>NaN</td>\n",
       "      <td>NaN</td>\n",
       "    </tr>\n",
       "  </tbody>\n",
       "</table>\n",
       "<p>5 rows × 828 columns</p>\n",
       "</div>"
      ],
      "text/plain": [
       "   Custom-Return_1390  EPS_MRQ_LC_1390  EPS_TTM_1390  EPS_MRQ_1390  \\\n",
       "0                 NaN          11.3750          83.0          11.0   \n",
       "1            0.208274         117.4437         295.0         117.0   \n",
       "2                 NaN          88.7262         406.0          89.0   \n",
       "3           -0.481625        -125.1184        -113.0        -125.0   \n",
       "4                 NaN              NaN           NaN           NaN   \n",
       "\n",
       "   EPS_FY_1390  Rev_TTM_1390  Rev_MRQ_1390   Rev_FY_1390   NI_TTM_1390  \\\n",
       "0         24.0  1.917455e+12  8.399880e+11  1.685499e+12  8.266700e+10   \n",
       "1        295.0  9.046040e+12  2.474342e+12  9.046040e+12  7.951730e+11   \n",
       "2        384.0  6.988662e+12  1.702216e+12  6.914857e+12  9.131650e+11   \n",
       "3       -113.0  2.991100e+10  7.170000e+08  2.991100e+10 -2.570900e+10   \n",
       "4          NaN           NaN           NaN           NaN           NaN   \n",
       "\n",
       "    NI_MRQ_1390  ...  ETR_1401  CFOToRev_1401  CFOToDebt_1401  FCFFToRev_1401  \\\n",
       "0  1.137500e+10  ...    0.0041        -0.0810         -0.0616         -0.0684   \n",
       "1  3.170980e+11  ...    0.1370         0.0267          0.0746          0.0082   \n",
       "2  1.996340e+11  ...    0.1034         0.0433          0.1469          0.0697   \n",
       "3 -2.852700e+10  ...       NaN        -0.5435         -0.0327         -0.6303   \n",
       "4           NaN  ...       NaN            NaN             NaN             NaN   \n",
       "\n",
       "   FCFFToNI_1401  FCFEToRev_1401  FCFEToNI_1401  CAPEXToRev_1401  \\\n",
       "0        -1.7557          0.0220         0.0689          -0.0123   \n",
       "1         0.0930          0.0305         0.3474           0.0187   \n",
       "2         0.5587          0.0757         0.6061           0.0050   \n",
       "3            NaN         -0.6316            NaN           0.0869   \n",
       "4            NaN             NaN            NaN              NaN   \n",
       "\n",
       "   CAPEXToNI_1401  DivYield_1401  \n",
       "0         -0.3158         0.0021  \n",
       "1          0.2122         0.0073  \n",
       "2          0.0402         0.0048  \n",
       "3         -0.3459            NaN  \n",
       "4             NaN            NaN  \n",
       "\n",
       "[5 rows x 828 columns]"
      ]
     },
     "execution_count": 4,
     "metadata": {},
     "output_type": "execute_result"
    }
   ],
   "source": [
    "# convert all columns to float\n",
    "df = df.astype(float)\n",
    "df.head()"
   ]
  },
  {
   "cell_type": "code",
   "execution_count": 5,
   "metadata": {},
   "outputs": [
    {
     "name": "stdout",
     "output_type": "stream",
     "text": [
      "12 12\n",
      "(899, 828)\n",
      "(830, 828)\n"
     ]
    }
   ],
   "source": [
    "# drop rows which has no value in TSE_FY or RE_FY column\n",
    "col_tse_fy = []\n",
    "col_re_fy = []\n",
    "for col in df.columns:\n",
    "    if ('TSE_FY' in col):\n",
    "        col_tse_fy.append(col)\n",
    "    if ('RE_FY' in col):\n",
    "        col_re_fy.append(col)\n",
    "print(len(col_tse_fy), len(col_re_fy))\n",
    "print(df.shape)\n",
    "df = df.dropna(subset=col_tse_fy + col_re_fy, how='all')\n",
    "print(df.shape)"
   ]
  },
  {
   "cell_type": "code",
   "execution_count": 6,
   "metadata": {},
   "outputs": [
    {
     "name": "stdout",
     "output_type": "stream",
     "text": [
      "(830, 831)\n",
      "--------\n",
      "(370, 831)\n",
      "(460, 831)\n"
     ]
    },
    {
     "name": "stderr",
     "output_type": "stream",
     "text": [
      "/tmp/ipykernel_80148/628225672.py:2: PerformanceWarning: DataFrame is highly fragmented.  This is usually the result of calling `frame.insert` many times, which has poor performance.  Consider joining all columns at once using pd.concat(axis=1) instead. To get a de-fragmented frame, use `newframe = frame.copy()`\n",
      "  df['mean_TSE_FY'] = df[col_tse_fy].mean(axis=1)\n",
      "/tmp/ipykernel_80148/628225672.py:3: PerformanceWarning: DataFrame is highly fragmented.  This is usually the result of calling `frame.insert` many times, which has poor performance.  Consider joining all columns at once using pd.concat(axis=1) instead. To get a de-fragmented frame, use `newframe = frame.copy()`\n",
      "  df['mean_RE_FY'] = df[col_re_fy].mean(axis=1)\n",
      "/tmp/ipykernel_80148/628225672.py:6: PerformanceWarning: DataFrame is highly fragmented.  This is usually the result of calling `frame.insert` many times, which has poor performance.  Consider joining all columns at once using pd.concat(axis=1) instead. To get a de-fragmented frame, use `newframe = frame.copy()`\n",
      "  df['y'] = np.where(df['mean_RE_FY'] / df['mean_TSE_FY'] > .5, 1, 0)\n"
     ]
    }
   ],
   "source": [
    "# mean of all col_tse_fy\n",
    "df['mean_TSE_FY'] = df[col_tse_fy].mean(axis=1)\n",
    "df['mean_RE_FY'] = df[col_re_fy].mean(axis=1)\n",
    "\n",
    "# create a y column RE_FY / TSE_FY > .5 = 1 else 0\n",
    "df['y'] = np.where(df['mean_RE_FY'] / df['mean_TSE_FY'] > .5, 1, 0)\n",
    "print(df.shape)\n",
    "print('--------')\n",
    "print(df[df['y'] >= .5].shape)\n",
    "print(df[df['y'] < .5].shape)"
   ]
  },
  {
   "cell_type": "code",
   "execution_count": 7,
   "metadata": {},
   "outputs": [
    {
     "name": "stdout",
     "output_type": "stream",
     "text": [
      "Custom-Return_1390    0.597590\n",
      "EPS_MRQ_LC_1390       0.121687\n",
      "EPS_TTM_1390          0.019277\n",
      "EPS_MRQ_1390          0.020482\n",
      "EPS_FY_1390           0.010843\n",
      "                        ...   \n",
      "CAPEXToNI_1401        0.081928\n",
      "DivYield_1401         0.279518\n",
      "mean_TSE_FY           0.000000\n",
      "mean_RE_FY            0.006024\n",
      "y                     0.000000\n",
      "Length: 831, dtype: float64\n"
     ]
    }
   ],
   "source": [
    "# print nan proportion\n",
    "print(df.isna().sum() / df.shape[0])"
   ]
  },
  {
   "cell_type": "code",
   "execution_count": 8,
   "metadata": {},
   "outputs": [
    {
     "name": "stdout",
     "output_type": "stream",
     "text": [
      "Custom-Return_1390    0.0\n",
      "EPS_MRQ_LC_1390       0.0\n",
      "EPS_TTM_1390          0.0\n",
      "EPS_MRQ_1390          0.0\n",
      "EPS_FY_1390           0.0\n",
      "                     ... \n",
      "CAPEXToNI_1401        0.0\n",
      "DivYield_1401         0.0\n",
      "mean_TSE_FY           0.0\n",
      "mean_RE_FY            0.0\n",
      "y                     0.0\n",
      "Length: 831, dtype: float64\n"
     ]
    }
   ],
   "source": [
    "# df = df.fillna(df.mean())\n",
    "# df = df.fillna(df.median())\n",
    "# df = df.fillna(df.mode().iloc[0])\n",
    "\n",
    "# fill NaN with 0\n",
    "df = df.fillna(0)\n",
    "\n",
    "print(df.isna().sum() / df.shape[0])"
   ]
  },
  {
   "cell_type": "code",
   "execution_count": 9,
   "metadata": {},
   "outputs": [
    {
     "data": {
      "text/html": [
       "<div>\n",
       "<style scoped>\n",
       "    .dataframe tbody tr th:only-of-type {\n",
       "        vertical-align: middle;\n",
       "    }\n",
       "\n",
       "    .dataframe tbody tr th {\n",
       "        vertical-align: top;\n",
       "    }\n",
       "\n",
       "    .dataframe thead th {\n",
       "        text-align: right;\n",
       "    }\n",
       "</style>\n",
       "<table border=\"1\" class=\"dataframe\">\n",
       "  <thead>\n",
       "    <tr style=\"text-align: right;\">\n",
       "      <th></th>\n",
       "      <th>Custom-Return_1390</th>\n",
       "      <th>EPS_MRQ_LC_1390</th>\n",
       "      <th>EPS_TTM_1390</th>\n",
       "      <th>EPS_MRQ_1390</th>\n",
       "      <th>EPS_FY_1390</th>\n",
       "      <th>Rev_TTM_1390</th>\n",
       "      <th>Rev_MRQ_1390</th>\n",
       "      <th>Rev_FY_1390</th>\n",
       "      <th>NI_TTM_1390</th>\n",
       "      <th>NI_MRQ_1390</th>\n",
       "      <th>...</th>\n",
       "      <th>FCFFToRev_1401</th>\n",
       "      <th>FCFFToNI_1401</th>\n",
       "      <th>FCFEToRev_1401</th>\n",
       "      <th>FCFEToNI_1401</th>\n",
       "      <th>CAPEXToRev_1401</th>\n",
       "      <th>CAPEXToNI_1401</th>\n",
       "      <th>DivYield_1401</th>\n",
       "      <th>mean_TSE_FY</th>\n",
       "      <th>mean_RE_FY</th>\n",
       "      <th>y</th>\n",
       "    </tr>\n",
       "  </thead>\n",
       "  <tbody>\n",
       "    <tr>\n",
       "      <th>0</th>\n",
       "      <td>0.042743</td>\n",
       "      <td>0.316850</td>\n",
       "      <td>2.249830e-10</td>\n",
       "      <td>0.999976</td>\n",
       "      <td>0.001849</td>\n",
       "      <td>0.045010</td>\n",
       "      <td>0.055193</td>\n",
       "      <td>0.044945</td>\n",
       "      <td>0.319484</td>\n",
       "      <td>0.495550</td>\n",
       "      <td>...</td>\n",
       "      <td>0.999684</td>\n",
       "      <td>0.893868</td>\n",
       "      <td>0.907533</td>\n",
       "      <td>0.440197</td>\n",
       "      <td>0.483342</td>\n",
       "      <td>0.653700</td>\n",
       "      <td>0.003082</td>\n",
       "      <td>0.360880</td>\n",
       "      <td>0.611768</td>\n",
       "      <td>0.0</td>\n",
       "    </tr>\n",
       "    <tr>\n",
       "      <th>1</th>\n",
       "      <td>0.058074</td>\n",
       "      <td>0.320473</td>\n",
       "      <td>2.267615e-10</td>\n",
       "      <td>0.999976</td>\n",
       "      <td>0.001849</td>\n",
       "      <td>0.047014</td>\n",
       "      <td>0.056980</td>\n",
       "      <td>0.047014</td>\n",
       "      <td>0.320198</td>\n",
       "      <td>0.496023</td>\n",
       "      <td>...</td>\n",
       "      <td>0.999685</td>\n",
       "      <td>0.895969</td>\n",
       "      <td>0.907542</td>\n",
       "      <td>0.442539</td>\n",
       "      <td>0.483445</td>\n",
       "      <td>0.657271</td>\n",
       "      <td>0.010713</td>\n",
       "      <td>0.361690</td>\n",
       "      <td>0.612231</td>\n",
       "      <td>0.0</td>\n",
       "    </tr>\n",
       "    <tr>\n",
       "      <th>2</th>\n",
       "      <td>0.042743</td>\n",
       "      <td>0.319492</td>\n",
       "      <td>2.276927e-10</td>\n",
       "      <td>0.999976</td>\n",
       "      <td>0.001849</td>\n",
       "      <td>0.046436</td>\n",
       "      <td>0.056136</td>\n",
       "      <td>0.046415</td>\n",
       "      <td>0.320316</td>\n",
       "      <td>0.495841</td>\n",
       "      <td>...</td>\n",
       "      <td>0.999685</td>\n",
       "      <td>0.896498</td>\n",
       "      <td>0.907587</td>\n",
       "      <td>0.444715</td>\n",
       "      <td>0.483399</td>\n",
       "      <td>0.656108</td>\n",
       "      <td>0.007044</td>\n",
       "      <td>0.361677</td>\n",
       "      <td>0.612518</td>\n",
       "      <td>0.0</td>\n",
       "    </tr>\n",
       "    <tr>\n",
       "      <th>3</th>\n",
       "      <td>0.007289</td>\n",
       "      <td>0.312188</td>\n",
       "      <td>2.233387e-10</td>\n",
       "      <td>0.999975</td>\n",
       "      <td>0.001849</td>\n",
       "      <td>0.044479</td>\n",
       "      <td>0.054275</td>\n",
       "      <td>0.044479</td>\n",
       "      <td>0.319375</td>\n",
       "      <td>0.495488</td>\n",
       "      <td>...</td>\n",
       "      <td>0.999683</td>\n",
       "      <td>0.895863</td>\n",
       "      <td>0.906876</td>\n",
       "      <td>0.439617</td>\n",
       "      <td>0.483671</td>\n",
       "      <td>0.653497</td>\n",
       "      <td>0.000000</td>\n",
       "      <td>0.360505</td>\n",
       "      <td>0.611575</td>\n",
       "      <td>1.0</td>\n",
       "    </tr>\n",
       "    <tr>\n",
       "      <th>4</th>\n",
       "      <td>0.042743</td>\n",
       "      <td>0.330508</td>\n",
       "      <td>2.380534e-10</td>\n",
       "      <td>0.999976</td>\n",
       "      <td>0.001850</td>\n",
       "      <td>0.052995</td>\n",
       "      <td>0.063764</td>\n",
       "      <td>0.052135</td>\n",
       "      <td>0.325979</td>\n",
       "      <td>0.498080</td>\n",
       "      <td>...</td>\n",
       "      <td>0.999685</td>\n",
       "      <td>0.896048</td>\n",
       "      <td>0.907555</td>\n",
       "      <td>0.441255</td>\n",
       "      <td>0.483430</td>\n",
       "      <td>0.656267</td>\n",
       "      <td>0.081450</td>\n",
       "      <td>0.363931</td>\n",
       "      <td>0.615068</td>\n",
       "      <td>1.0</td>\n",
       "    </tr>\n",
       "  </tbody>\n",
       "</table>\n",
       "<p>5 rows × 831 columns</p>\n",
       "</div>"
      ],
      "text/plain": [
       "   Custom-Return_1390  EPS_MRQ_LC_1390  EPS_TTM_1390  EPS_MRQ_1390  \\\n",
       "0            0.042743         0.316850  2.249830e-10      0.999976   \n",
       "1            0.058074         0.320473  2.267615e-10      0.999976   \n",
       "2            0.042743         0.319492  2.276927e-10      0.999976   \n",
       "3            0.007289         0.312188  2.233387e-10      0.999975   \n",
       "4            0.042743         0.330508  2.380534e-10      0.999976   \n",
       "\n",
       "   EPS_FY_1390  Rev_TTM_1390  Rev_MRQ_1390  Rev_FY_1390  NI_TTM_1390  \\\n",
       "0     0.001849      0.045010      0.055193     0.044945     0.319484   \n",
       "1     0.001849      0.047014      0.056980     0.047014     0.320198   \n",
       "2     0.001849      0.046436      0.056136     0.046415     0.320316   \n",
       "3     0.001849      0.044479      0.054275     0.044479     0.319375   \n",
       "4     0.001850      0.052995      0.063764     0.052135     0.325979   \n",
       "\n",
       "   NI_MRQ_1390  ...  FCFFToRev_1401  FCFFToNI_1401  FCFEToRev_1401  \\\n",
       "0     0.495550  ...        0.999684       0.893868        0.907533   \n",
       "1     0.496023  ...        0.999685       0.895969        0.907542   \n",
       "2     0.495841  ...        0.999685       0.896498        0.907587   \n",
       "3     0.495488  ...        0.999683       0.895863        0.906876   \n",
       "4     0.498080  ...        0.999685       0.896048        0.907555   \n",
       "\n",
       "   FCFEToNI_1401  CAPEXToRev_1401  CAPEXToNI_1401  DivYield_1401  mean_TSE_FY  \\\n",
       "0       0.440197         0.483342        0.653700       0.003082     0.360880   \n",
       "1       0.442539         0.483445        0.657271       0.010713     0.361690   \n",
       "2       0.444715         0.483399        0.656108       0.007044     0.361677   \n",
       "3       0.439617         0.483671        0.653497       0.000000     0.360505   \n",
       "4       0.441255         0.483430        0.656267       0.081450     0.363931   \n",
       "\n",
       "   mean_RE_FY    y  \n",
       "0    0.611768  0.0  \n",
       "1    0.612231  0.0  \n",
       "2    0.612518  0.0  \n",
       "3    0.611575  1.0  \n",
       "4    0.615068  1.0  \n",
       "\n",
       "[5 rows x 831 columns]"
      ]
     },
     "execution_count": 9,
     "metadata": {},
     "output_type": "execute_result"
    }
   ],
   "source": [
    "# Scaler\n",
    "scaler = MinMaxScaler()\n",
    "df = pd.DataFrame(scaler.fit_transform(df), columns=df.columns)\n",
    "df.head()"
   ]
  },
  {
   "cell_type": "code",
   "execution_count": 10,
   "metadata": {},
   "outputs": [],
   "source": [
    "# # duplicate data\n",
    "# DUPLICATE = 8\n",
    "# x_train = np.repeat(x_train, DUPLICATE, axis=0)\n",
    "# y_train = np.repeat(y_train, DUPLICATE, axis=0)\n",
    "# print(x_train.shape)\n",
    "# print(y_train.shape)"
   ]
  },
  {
   "cell_type": "code",
   "execution_count": 11,
   "metadata": {},
   "outputs": [
    {
     "name": "stdout",
     "output_type": "stream",
     "text": [
      "x_train.shape: (664, 830)\n",
      "x_test.shape: (166, 830)\n",
      "y_train.shape: (664,)\n",
      "y_test.shape: (166,)\n"
     ]
    }
   ],
   "source": [
    "x_cols = [col for col in df.columns if col != 'y']\n",
    "x_train, x_test, y_train, y_test = train_test_split(df[x_cols], df['y'], test_size=0.2, random_state=42)\n",
    "\n",
    "print('x_train.shape:', x_train.shape)\n",
    "print('x_test.shape:', x_test.shape)\n",
    "print('y_train.shape:', y_train.shape)\n",
    "print('y_test.shape:', y_test.shape)"
   ]
  },
  {
   "cell_type": "markdown",
   "metadata": {},
   "source": [
    "### Logistic Regression"
   ]
  },
  {
   "cell_type": "code",
   "execution_count": 12,
   "metadata": {},
   "outputs": [
    {
     "data": {
      "text/html": [
       "<style>#sk-container-id-1 {color: black;}#sk-container-id-1 pre{padding: 0;}#sk-container-id-1 div.sk-toggleable {background-color: white;}#sk-container-id-1 label.sk-toggleable__label {cursor: pointer;display: block;width: 100%;margin-bottom: 0;padding: 0.3em;box-sizing: border-box;text-align: center;}#sk-container-id-1 label.sk-toggleable__label-arrow:before {content: \"▸\";float: left;margin-right: 0.25em;color: #696969;}#sk-container-id-1 label.sk-toggleable__label-arrow:hover:before {color: black;}#sk-container-id-1 div.sk-estimator:hover label.sk-toggleable__label-arrow:before {color: black;}#sk-container-id-1 div.sk-toggleable__content {max-height: 0;max-width: 0;overflow: hidden;text-align: left;background-color: #f0f8ff;}#sk-container-id-1 div.sk-toggleable__content pre {margin: 0.2em;color: black;border-radius: 0.25em;background-color: #f0f8ff;}#sk-container-id-1 input.sk-toggleable__control:checked~div.sk-toggleable__content {max-height: 200px;max-width: 100%;overflow: auto;}#sk-container-id-1 input.sk-toggleable__control:checked~label.sk-toggleable__label-arrow:before {content: \"▾\";}#sk-container-id-1 div.sk-estimator input.sk-toggleable__control:checked~label.sk-toggleable__label {background-color: #d4ebff;}#sk-container-id-1 div.sk-label input.sk-toggleable__control:checked~label.sk-toggleable__label {background-color: #d4ebff;}#sk-container-id-1 input.sk-hidden--visually {border: 0;clip: rect(1px 1px 1px 1px);clip: rect(1px, 1px, 1px, 1px);height: 1px;margin: -1px;overflow: hidden;padding: 0;position: absolute;width: 1px;}#sk-container-id-1 div.sk-estimator {font-family: monospace;background-color: #f0f8ff;border: 1px dotted black;border-radius: 0.25em;box-sizing: border-box;margin-bottom: 0.5em;}#sk-container-id-1 div.sk-estimator:hover {background-color: #d4ebff;}#sk-container-id-1 div.sk-parallel-item::after {content: \"\";width: 100%;border-bottom: 1px solid gray;flex-grow: 1;}#sk-container-id-1 div.sk-label:hover label.sk-toggleable__label {background-color: #d4ebff;}#sk-container-id-1 div.sk-serial::before {content: \"\";position: absolute;border-left: 1px solid gray;box-sizing: border-box;top: 0;bottom: 0;left: 50%;z-index: 0;}#sk-container-id-1 div.sk-serial {display: flex;flex-direction: column;align-items: center;background-color: white;padding-right: 0.2em;padding-left: 0.2em;position: relative;}#sk-container-id-1 div.sk-item {position: relative;z-index: 1;}#sk-container-id-1 div.sk-parallel {display: flex;align-items: stretch;justify-content: center;background-color: white;position: relative;}#sk-container-id-1 div.sk-item::before, #sk-container-id-1 div.sk-parallel-item::before {content: \"\";position: absolute;border-left: 1px solid gray;box-sizing: border-box;top: 0;bottom: 0;left: 50%;z-index: -1;}#sk-container-id-1 div.sk-parallel-item {display: flex;flex-direction: column;z-index: 1;position: relative;background-color: white;}#sk-container-id-1 div.sk-parallel-item:first-child::after {align-self: flex-end;width: 50%;}#sk-container-id-1 div.sk-parallel-item:last-child::after {align-self: flex-start;width: 50%;}#sk-container-id-1 div.sk-parallel-item:only-child::after {width: 0;}#sk-container-id-1 div.sk-dashed-wrapped {border: 1px dashed gray;margin: 0 0.4em 0.5em 0.4em;box-sizing: border-box;padding-bottom: 0.4em;background-color: white;}#sk-container-id-1 div.sk-label label {font-family: monospace;font-weight: bold;display: inline-block;line-height: 1.2em;}#sk-container-id-1 div.sk-label-container {text-align: center;}#sk-container-id-1 div.sk-container {/* jupyter's `normalize.less` sets `[hidden] { display: none; }` but bootstrap.min.css set `[hidden] { display: none !important; }` so we also need the `!important` here to be able to override the default hidden behavior on the sphinx rendered scikit-learn.org. See: https://github.com/scikit-learn/scikit-learn/issues/21755 */display: inline-block !important;position: relative;}#sk-container-id-1 div.sk-text-repr-fallback {display: none;}</style><div id=\"sk-container-id-1\" class=\"sk-top-container\"><div class=\"sk-text-repr-fallback\"><pre>LogisticRegression()</pre><b>In a Jupyter environment, please rerun this cell to show the HTML representation or trust the notebook. <br />On GitHub, the HTML representation is unable to render, please try loading this page with nbviewer.org.</b></div><div class=\"sk-container\" hidden><div class=\"sk-item\"><div class=\"sk-estimator sk-toggleable\"><input class=\"sk-toggleable__control sk-hidden--visually\" id=\"sk-estimator-id-1\" type=\"checkbox\" checked><label for=\"sk-estimator-id-1\" class=\"sk-toggleable__label sk-toggleable__label-arrow\">LogisticRegression</label><div class=\"sk-toggleable__content\"><pre>LogisticRegression()</pre></div></div></div></div></div>"
      ],
      "text/plain": [
       "LogisticRegression()"
      ]
     },
     "execution_count": 12,
     "metadata": {},
     "output_type": "execute_result"
    }
   ],
   "source": [
    "logistic_model = LogisticRegression()\n",
    "logistic_model.fit(x_train, y_train)"
   ]
  },
  {
   "cell_type": "code",
   "execution_count": 13,
   "metadata": {},
   "outputs": [
    {
     "name": "stdout",
     "output_type": "stream",
     "text": [
      "                 model  accuracy  precision  recall      f1  roc_auc\n",
      "0  Logistic Regression    0.7952     0.7869  0.6957  0.7385   0.7808\n"
     ]
    }
   ],
   "source": [
    "# evaluate the model\n",
    "y_pred = logistic_model.predict(x_test)\n",
    "\n",
    "results.loc[len(results)] = [\n",
    "    'Logistic Regression', \n",
    "    round(accuracy_score(y_test, y_pred), 4), \n",
    "    round(precision_score(y_test, y_pred), 4), \n",
    "    round(recall_score(y_test, y_pred), 4), \n",
    "    round(f1_score(y_test, y_pred), 4), \n",
    "    round(roc_auc_score(y_test, y_pred), 4)\n",
    "]\n",
    "print(results)"
   ]
  },
  {
   "cell_type": "markdown",
   "metadata": {},
   "source": [
    "### SVM"
   ]
  },
  {
   "cell_type": "code",
   "execution_count": 14,
   "metadata": {},
   "outputs": [
    {
     "data": {
      "text/html": [
       "<style>#sk-container-id-2 {color: black;}#sk-container-id-2 pre{padding: 0;}#sk-container-id-2 div.sk-toggleable {background-color: white;}#sk-container-id-2 label.sk-toggleable__label {cursor: pointer;display: block;width: 100%;margin-bottom: 0;padding: 0.3em;box-sizing: border-box;text-align: center;}#sk-container-id-2 label.sk-toggleable__label-arrow:before {content: \"▸\";float: left;margin-right: 0.25em;color: #696969;}#sk-container-id-2 label.sk-toggleable__label-arrow:hover:before {color: black;}#sk-container-id-2 div.sk-estimator:hover label.sk-toggleable__label-arrow:before {color: black;}#sk-container-id-2 div.sk-toggleable__content {max-height: 0;max-width: 0;overflow: hidden;text-align: left;background-color: #f0f8ff;}#sk-container-id-2 div.sk-toggleable__content pre {margin: 0.2em;color: black;border-radius: 0.25em;background-color: #f0f8ff;}#sk-container-id-2 input.sk-toggleable__control:checked~div.sk-toggleable__content {max-height: 200px;max-width: 100%;overflow: auto;}#sk-container-id-2 input.sk-toggleable__control:checked~label.sk-toggleable__label-arrow:before {content: \"▾\";}#sk-container-id-2 div.sk-estimator input.sk-toggleable__control:checked~label.sk-toggleable__label {background-color: #d4ebff;}#sk-container-id-2 div.sk-label input.sk-toggleable__control:checked~label.sk-toggleable__label {background-color: #d4ebff;}#sk-container-id-2 input.sk-hidden--visually {border: 0;clip: rect(1px 1px 1px 1px);clip: rect(1px, 1px, 1px, 1px);height: 1px;margin: -1px;overflow: hidden;padding: 0;position: absolute;width: 1px;}#sk-container-id-2 div.sk-estimator {font-family: monospace;background-color: #f0f8ff;border: 1px dotted black;border-radius: 0.25em;box-sizing: border-box;margin-bottom: 0.5em;}#sk-container-id-2 div.sk-estimator:hover {background-color: #d4ebff;}#sk-container-id-2 div.sk-parallel-item::after {content: \"\";width: 100%;border-bottom: 1px solid gray;flex-grow: 1;}#sk-container-id-2 div.sk-label:hover label.sk-toggleable__label {background-color: #d4ebff;}#sk-container-id-2 div.sk-serial::before {content: \"\";position: absolute;border-left: 1px solid gray;box-sizing: border-box;top: 0;bottom: 0;left: 50%;z-index: 0;}#sk-container-id-2 div.sk-serial {display: flex;flex-direction: column;align-items: center;background-color: white;padding-right: 0.2em;padding-left: 0.2em;position: relative;}#sk-container-id-2 div.sk-item {position: relative;z-index: 1;}#sk-container-id-2 div.sk-parallel {display: flex;align-items: stretch;justify-content: center;background-color: white;position: relative;}#sk-container-id-2 div.sk-item::before, #sk-container-id-2 div.sk-parallel-item::before {content: \"\";position: absolute;border-left: 1px solid gray;box-sizing: border-box;top: 0;bottom: 0;left: 50%;z-index: -1;}#sk-container-id-2 div.sk-parallel-item {display: flex;flex-direction: column;z-index: 1;position: relative;background-color: white;}#sk-container-id-2 div.sk-parallel-item:first-child::after {align-self: flex-end;width: 50%;}#sk-container-id-2 div.sk-parallel-item:last-child::after {align-self: flex-start;width: 50%;}#sk-container-id-2 div.sk-parallel-item:only-child::after {width: 0;}#sk-container-id-2 div.sk-dashed-wrapped {border: 1px dashed gray;margin: 0 0.4em 0.5em 0.4em;box-sizing: border-box;padding-bottom: 0.4em;background-color: white;}#sk-container-id-2 div.sk-label label {font-family: monospace;font-weight: bold;display: inline-block;line-height: 1.2em;}#sk-container-id-2 div.sk-label-container {text-align: center;}#sk-container-id-2 div.sk-container {/* jupyter's `normalize.less` sets `[hidden] { display: none; }` but bootstrap.min.css set `[hidden] { display: none !important; }` so we also need the `!important` here to be able to override the default hidden behavior on the sphinx rendered scikit-learn.org. See: https://github.com/scikit-learn/scikit-learn/issues/21755 */display: inline-block !important;position: relative;}#sk-container-id-2 div.sk-text-repr-fallback {display: none;}</style><div id=\"sk-container-id-2\" class=\"sk-top-container\"><div class=\"sk-text-repr-fallback\"><pre>SVC(C=1, kernel=&#x27;linear&#x27;, random_state=42)</pre><b>In a Jupyter environment, please rerun this cell to show the HTML representation or trust the notebook. <br />On GitHub, the HTML representation is unable to render, please try loading this page with nbviewer.org.</b></div><div class=\"sk-container\" hidden><div class=\"sk-item\"><div class=\"sk-estimator sk-toggleable\"><input class=\"sk-toggleable__control sk-hidden--visually\" id=\"sk-estimator-id-2\" type=\"checkbox\" checked><label for=\"sk-estimator-id-2\" class=\"sk-toggleable__label sk-toggleable__label-arrow\">SVC</label><div class=\"sk-toggleable__content\"><pre>SVC(C=1, kernel=&#x27;linear&#x27;, random_state=42)</pre></div></div></div></div></div>"
      ],
      "text/plain": [
       "SVC(C=1, kernel='linear', random_state=42)"
      ]
     },
     "execution_count": 14,
     "metadata": {},
     "output_type": "execute_result"
    }
   ],
   "source": [
    "svm_model = SVC(kernel='linear', C=1, random_state=42)\n",
    "svm_model.fit(x_train, y_train)"
   ]
  },
  {
   "cell_type": "code",
   "execution_count": 15,
   "metadata": {},
   "outputs": [
    {
     "name": "stdout",
     "output_type": "stream",
     "text": [
      "                 model  accuracy  precision  recall      f1  roc_auc\n",
      "0  Logistic Regression    0.7952     0.7869  0.6957  0.7385   0.7808\n",
      "1                  SVM    0.8133     0.8393  0.6812  0.7520   0.7942\n"
     ]
    }
   ],
   "source": [
    "y_pred = svm_model.predict(x_test)\n",
    "\n",
    "results.loc[len(results)] = [\n",
    "    'SVM',\n",
    "    round(accuracy_score(y_test, y_pred), 4),\n",
    "    round(precision_score(y_test, y_pred), 4),\n",
    "    round(recall_score(y_test, y_pred), 4),\n",
    "    round(f1_score(y_test, y_pred), 4),\n",
    "    round(roc_auc_score(y_test, y_pred), 4)\n",
    "]\n",
    "print(results)"
   ]
  },
  {
   "cell_type": "markdown",
   "metadata": {},
   "source": [
    "### Random Forest"
   ]
  },
  {
   "cell_type": "code",
   "execution_count": 16,
   "metadata": {},
   "outputs": [
    {
     "data": {
      "text/html": [
       "<style>#sk-container-id-3 {color: black;}#sk-container-id-3 pre{padding: 0;}#sk-container-id-3 div.sk-toggleable {background-color: white;}#sk-container-id-3 label.sk-toggleable__label {cursor: pointer;display: block;width: 100%;margin-bottom: 0;padding: 0.3em;box-sizing: border-box;text-align: center;}#sk-container-id-3 label.sk-toggleable__label-arrow:before {content: \"▸\";float: left;margin-right: 0.25em;color: #696969;}#sk-container-id-3 label.sk-toggleable__label-arrow:hover:before {color: black;}#sk-container-id-3 div.sk-estimator:hover label.sk-toggleable__label-arrow:before {color: black;}#sk-container-id-3 div.sk-toggleable__content {max-height: 0;max-width: 0;overflow: hidden;text-align: left;background-color: #f0f8ff;}#sk-container-id-3 div.sk-toggleable__content pre {margin: 0.2em;color: black;border-radius: 0.25em;background-color: #f0f8ff;}#sk-container-id-3 input.sk-toggleable__control:checked~div.sk-toggleable__content {max-height: 200px;max-width: 100%;overflow: auto;}#sk-container-id-3 input.sk-toggleable__control:checked~label.sk-toggleable__label-arrow:before {content: \"▾\";}#sk-container-id-3 div.sk-estimator input.sk-toggleable__control:checked~label.sk-toggleable__label {background-color: #d4ebff;}#sk-container-id-3 div.sk-label input.sk-toggleable__control:checked~label.sk-toggleable__label {background-color: #d4ebff;}#sk-container-id-3 input.sk-hidden--visually {border: 0;clip: rect(1px 1px 1px 1px);clip: rect(1px, 1px, 1px, 1px);height: 1px;margin: -1px;overflow: hidden;padding: 0;position: absolute;width: 1px;}#sk-container-id-3 div.sk-estimator {font-family: monospace;background-color: #f0f8ff;border: 1px dotted black;border-radius: 0.25em;box-sizing: border-box;margin-bottom: 0.5em;}#sk-container-id-3 div.sk-estimator:hover {background-color: #d4ebff;}#sk-container-id-3 div.sk-parallel-item::after {content: \"\";width: 100%;border-bottom: 1px solid gray;flex-grow: 1;}#sk-container-id-3 div.sk-label:hover label.sk-toggleable__label {background-color: #d4ebff;}#sk-container-id-3 div.sk-serial::before {content: \"\";position: absolute;border-left: 1px solid gray;box-sizing: border-box;top: 0;bottom: 0;left: 50%;z-index: 0;}#sk-container-id-3 div.sk-serial {display: flex;flex-direction: column;align-items: center;background-color: white;padding-right: 0.2em;padding-left: 0.2em;position: relative;}#sk-container-id-3 div.sk-item {position: relative;z-index: 1;}#sk-container-id-3 div.sk-parallel {display: flex;align-items: stretch;justify-content: center;background-color: white;position: relative;}#sk-container-id-3 div.sk-item::before, #sk-container-id-3 div.sk-parallel-item::before {content: \"\";position: absolute;border-left: 1px solid gray;box-sizing: border-box;top: 0;bottom: 0;left: 50%;z-index: -1;}#sk-container-id-3 div.sk-parallel-item {display: flex;flex-direction: column;z-index: 1;position: relative;background-color: white;}#sk-container-id-3 div.sk-parallel-item:first-child::after {align-self: flex-end;width: 50%;}#sk-container-id-3 div.sk-parallel-item:last-child::after {align-self: flex-start;width: 50%;}#sk-container-id-3 div.sk-parallel-item:only-child::after {width: 0;}#sk-container-id-3 div.sk-dashed-wrapped {border: 1px dashed gray;margin: 0 0.4em 0.5em 0.4em;box-sizing: border-box;padding-bottom: 0.4em;background-color: white;}#sk-container-id-3 div.sk-label label {font-family: monospace;font-weight: bold;display: inline-block;line-height: 1.2em;}#sk-container-id-3 div.sk-label-container {text-align: center;}#sk-container-id-3 div.sk-container {/* jupyter's `normalize.less` sets `[hidden] { display: none; }` but bootstrap.min.css set `[hidden] { display: none !important; }` so we also need the `!important` here to be able to override the default hidden behavior on the sphinx rendered scikit-learn.org. See: https://github.com/scikit-learn/scikit-learn/issues/21755 */display: inline-block !important;position: relative;}#sk-container-id-3 div.sk-text-repr-fallback {display: none;}</style><div id=\"sk-container-id-3\" class=\"sk-top-container\"><div class=\"sk-text-repr-fallback\"><pre>RandomForestClassifier(max_depth=4, random_state=42)</pre><b>In a Jupyter environment, please rerun this cell to show the HTML representation or trust the notebook. <br />On GitHub, the HTML representation is unable to render, please try loading this page with nbviewer.org.</b></div><div class=\"sk-container\" hidden><div class=\"sk-item\"><div class=\"sk-estimator sk-toggleable\"><input class=\"sk-toggleable__control sk-hidden--visually\" id=\"sk-estimator-id-3\" type=\"checkbox\" checked><label for=\"sk-estimator-id-3\" class=\"sk-toggleable__label sk-toggleable__label-arrow\">RandomForestClassifier</label><div class=\"sk-toggleable__content\"><pre>RandomForestClassifier(max_depth=4, random_state=42)</pre></div></div></div></div></div>"
      ],
      "text/plain": [
       "RandomForestClassifier(max_depth=4, random_state=42)"
      ]
     },
     "execution_count": 16,
     "metadata": {},
     "output_type": "execute_result"
    }
   ],
   "source": [
    "rf_model = RandomForestClassifier(n_estimators=100, max_depth=4, random_state=42)\n",
    "rf_model.fit(x_train, y_train)"
   ]
  },
  {
   "cell_type": "code",
   "execution_count": 17,
   "metadata": {},
   "outputs": [
    {
     "name": "stdout",
     "output_type": "stream",
     "text": [
      "                 model  accuracy  precision  recall      f1  roc_auc\n",
      "0  Logistic Regression    0.7952     0.7869  0.6957  0.7385   0.7808\n",
      "1                  SVM    0.8133     0.8393  0.6812  0.7520   0.7942\n",
      "2        Random Forest    0.9940     0.9857  1.0000  0.9928   0.9948\n"
     ]
    }
   ],
   "source": [
    "y_pred = rf_model.predict(x_test)\n",
    "\n",
    "results.loc[len(results)] = [\n",
    "    'Random Forest',\n",
    "    round(accuracy_score(y_test, y_pred), 4),\n",
    "    round(precision_score(y_test, y_pred), 4),\n",
    "    round(recall_score(y_test, y_pred), 4),\n",
    "    round(f1_score(y_test, y_pred), 4),\n",
    "    round(roc_auc_score(y_test, y_pred), 4)\n",
    "]\n",
    "print(results)"
   ]
  },
  {
   "cell_type": "markdown",
   "metadata": {},
   "source": [
    "### Sequential Data"
   ]
  },
  {
   "cell_type": "code",
   "execution_count": 18,
   "metadata": {},
   "outputs": [
    {
     "name": "stdout",
     "output_type": "stream",
     "text": [
      "(581, 1, 830)\n",
      "(581,)\n",
      "------\n",
      "(124, 1, 830)\n",
      "(124,)\n",
      "------\n",
      "(125, 1, 830)\n",
      "(125,)\n"
     ]
    }
   ],
   "source": [
    "# split data\n",
    "x = df.drop(columns=['y'])\n",
    "y = df['y']\n",
    "x = np.array(x)\n",
    "y = np.array(y)\n",
    "# [samples, timesteps, features]\n",
    "x = x.reshape(x.shape[0], 1, x.shape[1])\n",
    "\n",
    "x_train = x[:int(x.shape[0] * .7)]\n",
    "y_train = y[:int(y.shape[0] * .7)]\n",
    "x_valid = x[int(x.shape[0] * .7):int(x.shape[0] * .85)]\n",
    "y_valid = y[int(y.shape[0] * .7):int(y.shape[0] * .85)]\n",
    "x_test = x[int(x.shape[0] * .85):]\n",
    "y_test = y[int(y.shape[0] * .85):]\n",
    "\n",
    "print(x_train.shape)\n",
    "print(y_train.shape)\n",
    "print(\"------\")\n",
    "print(x_valid.shape)\n",
    "print(y_valid.shape)\n",
    "print(\"------\")\n",
    "print(x_test.shape)\n",
    "print(y_test.shape)"
   ]
  },
  {
   "cell_type": "markdown",
   "metadata": {},
   "source": [
    "### LSTM"
   ]
  },
  {
   "cell_type": "code",
   "execution_count": 19,
   "metadata": {},
   "outputs": [
    {
     "name": "stdout",
     "output_type": "stream",
     "text": [
      "Model: \"sequential\"\n",
      "_________________________________________________________________\n",
      " Layer (type)                Output Shape              Param #   \n",
      "=================================================================\n",
      " lstm (LSTM)                 (None, 1, 256)            1113088   \n",
      "                                                                 \n",
      " dropout (Dropout)           (None, 1, 256)            0         \n",
      "                                                                 \n",
      " lstm_1 (LSTM)               (None, 256)               525312    \n",
      "                                                                 \n",
      " dropout_1 (Dropout)         (None, 256)               0         \n",
      "                                                                 \n",
      " dense (Dense)               (None, 1)                 257       \n",
      "                                                                 \n",
      "=================================================================\n",
      "Total params: 1638657 (6.25 MB)\n",
      "Trainable params: 1638657 (6.25 MB)\n",
      "Non-trainable params: 0 (0.00 Byte)\n",
      "_________________________________________________________________\n"
     ]
    }
   ],
   "source": [
    "# LSTM\n",
    "lstm = keras.Sequential()\n",
    "lstm.add(keras.layers.LSTM(256, input_shape=(x_train.shape[1], x_train.shape[2]), return_sequences=True))\n",
    "lstm.add(keras.layers.Dropout(0.1))\n",
    "lstm.add(keras.layers.LSTM(256, return_sequences=False))\n",
    "lstm.add(keras.layers.Dropout(0.1))\n",
    "lstm.add(keras.layers.Dense(1, activation='sigmoid'))\n",
    "lstm.compile(loss='binary_crossentropy', optimizer='adam', metrics=['accuracy'])\n",
    "lstm.summary()"
   ]
  },
  {
   "cell_type": "code",
   "execution_count": 20,
   "metadata": {},
   "outputs": [
    {
     "name": "stdout",
     "output_type": "stream",
     "text": [
      "Epoch 1/100\n",
      "10/10 [==============================] - 3s 60ms/step - loss: 0.6998 - accuracy: 0.5422 - val_loss: 0.6968 - val_accuracy: 0.4516\n",
      "Epoch 2/100\n",
      "10/10 [==============================] - 0s 9ms/step - loss: 0.6986 - accuracy: 0.4647 - val_loss: 0.6881 - val_accuracy: 0.5484\n",
      "Epoch 3/100\n",
      "10/10 [==============================] - 0s 10ms/step - loss: 0.6941 - accuracy: 0.5628 - val_loss: 0.6928 - val_accuracy: 0.5484\n",
      "Epoch 4/100\n",
      "10/10 [==============================] - 0s 9ms/step - loss: 0.6906 - accuracy: 0.5628 - val_loss: 0.6910 - val_accuracy: 0.5484\n",
      "Epoch 5/100\n",
      "10/10 [==============================] - 0s 9ms/step - loss: 0.6858 - accuracy: 0.5628 - val_loss: 0.6887 - val_accuracy: 0.5484\n",
      "Epoch 6/100\n",
      "10/10 [==============================] - 0s 9ms/step - loss: 0.6857 - accuracy: 0.5628 - val_loss: 0.6875 - val_accuracy: 0.5484\n",
      "Epoch 7/100\n",
      "10/10 [==============================] - 0s 9ms/step - loss: 0.6853 - accuracy: 0.5628 - val_loss: 0.6862 - val_accuracy: 0.5484\n",
      "Epoch 8/100\n",
      "10/10 [==============================] - 0s 9ms/step - loss: 0.6846 - accuracy: 0.5628 - val_loss: 0.6827 - val_accuracy: 0.5484\n",
      "Epoch 9/100\n",
      "10/10 [==============================] - 0s 9ms/step - loss: 0.6810 - accuracy: 0.5645 - val_loss: 0.6777 - val_accuracy: 0.5484\n",
      "Epoch 10/100\n",
      "10/10 [==============================] - 0s 9ms/step - loss: 0.6796 - accuracy: 0.5680 - val_loss: 0.6735 - val_accuracy: 0.5484\n",
      "Epoch 11/100\n",
      "10/10 [==============================] - 0s 9ms/step - loss: 0.6724 - accuracy: 0.5680 - val_loss: 0.6647 - val_accuracy: 0.5565\n",
      "Epoch 12/100\n",
      "10/10 [==============================] - 0s 9ms/step - loss: 0.6702 - accuracy: 0.5697 - val_loss: 0.6567 - val_accuracy: 0.6371\n",
      "Epoch 13/100\n",
      "10/10 [==============================] - 0s 9ms/step - loss: 0.6603 - accuracy: 0.5731 - val_loss: 0.6458 - val_accuracy: 0.6855\n",
      "Epoch 14/100\n",
      "10/10 [==============================] - 0s 10ms/step - loss: 0.6476 - accuracy: 0.5955 - val_loss: 0.6452 - val_accuracy: 0.6855\n",
      "Epoch 15/100\n",
      "10/10 [==============================] - 0s 10ms/step - loss: 0.6469 - accuracy: 0.5904 - val_loss: 0.6342 - val_accuracy: 0.7016\n",
      "Epoch 16/100\n",
      "10/10 [==============================] - 0s 10ms/step - loss: 0.6273 - accuracy: 0.6282 - val_loss: 0.6132 - val_accuracy: 0.6855\n",
      "Epoch 17/100\n",
      "10/10 [==============================] - 0s 10ms/step - loss: 0.5996 - accuracy: 0.7005 - val_loss: 0.6254 - val_accuracy: 0.6774\n",
      "Epoch 18/100\n",
      "10/10 [==============================] - 0s 9ms/step - loss: 0.6091 - accuracy: 0.6730 - val_loss: 0.6409 - val_accuracy: 0.6532\n",
      "Epoch 19/100\n",
      "10/10 [==============================] - 0s 10ms/step - loss: 0.6217 - accuracy: 0.6454 - val_loss: 0.5895 - val_accuracy: 0.6935\n",
      "Epoch 20/100\n",
      "10/10 [==============================] - 0s 9ms/step - loss: 0.5709 - accuracy: 0.7194 - val_loss: 0.5703 - val_accuracy: 0.6855\n",
      "Epoch 21/100\n",
      "10/10 [==============================] - 0s 10ms/step - loss: 0.5513 - accuracy: 0.7453 - val_loss: 0.5816 - val_accuracy: 0.7177\n",
      "Epoch 22/100\n",
      "10/10 [==============================] - 0s 9ms/step - loss: 0.5722 - accuracy: 0.7367 - val_loss: 0.6355 - val_accuracy: 0.6774\n",
      "Epoch 23/100\n",
      "10/10 [==============================] - 0s 9ms/step - loss: 0.6138 - accuracy: 0.6592 - val_loss: 0.5806 - val_accuracy: 0.7016\n",
      "Epoch 24/100\n",
      "10/10 [==============================] - 0s 10ms/step - loss: 0.5611 - accuracy: 0.7126 - val_loss: 0.5584 - val_accuracy: 0.7016\n",
      "Epoch 25/100\n",
      "10/10 [==============================] - 0s 10ms/step - loss: 0.5337 - accuracy: 0.7470 - val_loss: 0.5762 - val_accuracy: 0.7097\n",
      "Epoch 26/100\n",
      "10/10 [==============================] - 0s 9ms/step - loss: 0.5517 - accuracy: 0.7349 - val_loss: 0.5918 - val_accuracy: 0.7097\n",
      "Epoch 27/100\n",
      "10/10 [==============================] - 0s 9ms/step - loss: 0.5578 - accuracy: 0.7108 - val_loss: 0.5910 - val_accuracy: 0.7097\n",
      "Epoch 28/100\n",
      "10/10 [==============================] - 0s 9ms/step - loss: 0.5586 - accuracy: 0.7022 - val_loss: 0.5583 - val_accuracy: 0.6935\n",
      "Epoch 29/100\n",
      "10/10 [==============================] - 0s 9ms/step - loss: 0.5296 - accuracy: 0.7418 - val_loss: 0.5526 - val_accuracy: 0.6935\n",
      "Epoch 30/100\n",
      "10/10 [==============================] - 0s 9ms/step - loss: 0.5255 - accuracy: 0.7401 - val_loss: 0.5648 - val_accuracy: 0.7097\n",
      "Epoch 31/100\n",
      "10/10 [==============================] - 0s 9ms/step - loss: 0.5350 - accuracy: 0.7487 - val_loss: 0.5694 - val_accuracy: 0.7177\n",
      "Epoch 32/100\n",
      "10/10 [==============================] - 0s 9ms/step - loss: 0.5425 - accuracy: 0.7263 - val_loss: 0.5665 - val_accuracy: 0.7177\n",
      "Epoch 33/100\n",
      "10/10 [==============================] - 0s 10ms/step - loss: 0.5355 - accuracy: 0.7246 - val_loss: 0.5508 - val_accuracy: 0.7097\n",
      "Epoch 34/100\n",
      "10/10 [==============================] - 0s 9ms/step - loss: 0.5208 - accuracy: 0.7349 - val_loss: 0.5472 - val_accuracy: 0.7177\n",
      "Epoch 35/100\n",
      "10/10 [==============================] - 0s 9ms/step - loss: 0.5166 - accuracy: 0.7401 - val_loss: 0.5490 - val_accuracy: 0.7097\n",
      "Epoch 36/100\n",
      "10/10 [==============================] - 0s 9ms/step - loss: 0.5193 - accuracy: 0.7470 - val_loss: 0.5556 - val_accuracy: 0.7177\n",
      "Epoch 37/100\n",
      "10/10 [==============================] - 0s 10ms/step - loss: 0.5180 - accuracy: 0.7453 - val_loss: 0.5576 - val_accuracy: 0.7177\n",
      "Epoch 38/100\n",
      "10/10 [==============================] - 0s 10ms/step - loss: 0.5215 - accuracy: 0.7349 - val_loss: 0.5464 - val_accuracy: 0.7258\n",
      "Epoch 39/100\n",
      "10/10 [==============================] - 0s 9ms/step - loss: 0.5170 - accuracy: 0.7367 - val_loss: 0.5397 - val_accuracy: 0.7177\n",
      "Epoch 40/100\n",
      "10/10 [==============================] - 0s 9ms/step - loss: 0.5082 - accuracy: 0.7556 - val_loss: 0.5423 - val_accuracy: 0.7258\n",
      "Epoch 41/100\n",
      "10/10 [==============================] - 0s 10ms/step - loss: 0.5067 - accuracy: 0.7487 - val_loss: 0.5465 - val_accuracy: 0.7177\n",
      "Epoch 42/100\n",
      "10/10 [==============================] - 0s 9ms/step - loss: 0.5101 - accuracy: 0.7539 - val_loss: 0.5552 - val_accuracy: 0.7258\n",
      "Epoch 43/100\n",
      "10/10 [==============================] - 0s 9ms/step - loss: 0.5181 - accuracy: 0.7435 - val_loss: 0.5416 - val_accuracy: 0.7258\n",
      "Epoch 44/100\n",
      "10/10 [==============================] - 0s 9ms/step - loss: 0.5083 - accuracy: 0.7487 - val_loss: 0.5438 - val_accuracy: 0.7258\n",
      "Epoch 45/100\n",
      "10/10 [==============================] - 0s 13ms/step - loss: 0.5068 - accuracy: 0.7556 - val_loss: 0.5329 - val_accuracy: 0.7339\n",
      "Epoch 46/100\n",
      "10/10 [==============================] - 0s 9ms/step - loss: 0.4996 - accuracy: 0.7522 - val_loss: 0.5294 - val_accuracy: 0.7339\n",
      "Epoch 47/100\n",
      "10/10 [==============================] - 0s 9ms/step - loss: 0.4973 - accuracy: 0.7556 - val_loss: 0.5317 - val_accuracy: 0.7339\n",
      "Epoch 48/100\n",
      "10/10 [==============================] - 0s 10ms/step - loss: 0.4938 - accuracy: 0.7590 - val_loss: 0.5361 - val_accuracy: 0.7258\n",
      "Epoch 49/100\n",
      "10/10 [==============================] - 0s 9ms/step - loss: 0.4945 - accuracy: 0.7608 - val_loss: 0.5301 - val_accuracy: 0.7339\n",
      "Epoch 50/100\n",
      "10/10 [==============================] - 0s 10ms/step - loss: 0.4925 - accuracy: 0.7676 - val_loss: 0.5344 - val_accuracy: 0.7500\n",
      "Epoch 51/100\n",
      "10/10 [==============================] - 0s 10ms/step - loss: 0.4920 - accuracy: 0.7625 - val_loss: 0.5375 - val_accuracy: 0.7419\n",
      "Epoch 52/100\n",
      "10/10 [==============================] - 0s 10ms/step - loss: 0.5000 - accuracy: 0.7573 - val_loss: 0.5282 - val_accuracy: 0.7500\n",
      "Epoch 53/100\n",
      "10/10 [==============================] - 0s 10ms/step - loss: 0.4936 - accuracy: 0.7608 - val_loss: 0.5273 - val_accuracy: 0.7581\n",
      "Epoch 54/100\n",
      "10/10 [==============================] - 0s 11ms/step - loss: 0.4944 - accuracy: 0.7625 - val_loss: 0.5216 - val_accuracy: 0.7581\n",
      "Epoch 55/100\n",
      "10/10 [==============================] - 0s 10ms/step - loss: 0.4867 - accuracy: 0.7625 - val_loss: 0.5212 - val_accuracy: 0.7581\n",
      "Epoch 56/100\n",
      "10/10 [==============================] - 0s 10ms/step - loss: 0.4930 - accuracy: 0.7608 - val_loss: 0.5144 - val_accuracy: 0.7500\n",
      "Epoch 57/100\n",
      "10/10 [==============================] - 0s 11ms/step - loss: 0.4820 - accuracy: 0.7573 - val_loss: 0.5207 - val_accuracy: 0.7419\n",
      "Epoch 58/100\n",
      "10/10 [==============================] - 0s 9ms/step - loss: 0.4763 - accuracy: 0.7728 - val_loss: 0.5088 - val_accuracy: 0.7419\n",
      "Epoch 59/100\n",
      "10/10 [==============================] - 0s 9ms/step - loss: 0.4716 - accuracy: 0.7780 - val_loss: 0.5158 - val_accuracy: 0.7500\n",
      "Epoch 60/100\n",
      "10/10 [==============================] - 0s 9ms/step - loss: 0.4775 - accuracy: 0.7814 - val_loss: 0.5126 - val_accuracy: 0.7500\n",
      "Epoch 61/100\n",
      "10/10 [==============================] - 0s 9ms/step - loss: 0.4725 - accuracy: 0.7780 - val_loss: 0.5263 - val_accuracy: 0.7500\n",
      "Epoch 62/100\n",
      "10/10 [==============================] - 0s 10ms/step - loss: 0.4773 - accuracy: 0.7814 - val_loss: 0.5142 - val_accuracy: 0.7500\n",
      "Epoch 63/100\n",
      "10/10 [==============================] - 0s 10ms/step - loss: 0.4754 - accuracy: 0.7831 - val_loss: 0.5216 - val_accuracy: 0.7500\n",
      "Epoch 64/100\n",
      "10/10 [==============================] - 0s 10ms/step - loss: 0.4726 - accuracy: 0.7814 - val_loss: 0.5005 - val_accuracy: 0.7500\n",
      "Epoch 65/100\n",
      "10/10 [==============================] - 0s 10ms/step - loss: 0.4633 - accuracy: 0.7900 - val_loss: 0.5060 - val_accuracy: 0.7500\n",
      "Epoch 66/100\n",
      "10/10 [==============================] - 0s 10ms/step - loss: 0.4699 - accuracy: 0.7849 - val_loss: 0.5019 - val_accuracy: 0.7500\n",
      "Epoch 67/100\n",
      "10/10 [==============================] - 0s 10ms/step - loss: 0.4578 - accuracy: 0.7952 - val_loss: 0.5095 - val_accuracy: 0.7500\n",
      "Epoch 68/100\n",
      "10/10 [==============================] - 0s 10ms/step - loss: 0.4622 - accuracy: 0.7883 - val_loss: 0.5116 - val_accuracy: 0.7500\n",
      "Epoch 69/100\n",
      "10/10 [==============================] - 0s 10ms/step - loss: 0.4572 - accuracy: 0.7969 - val_loss: 0.5125 - val_accuracy: 0.7500\n",
      "Epoch 70/100\n",
      "10/10 [==============================] - 0s 10ms/step - loss: 0.4590 - accuracy: 0.7935 - val_loss: 0.5129 - val_accuracy: 0.7581\n",
      "Epoch 71/100\n",
      "10/10 [==============================] - 0s 10ms/step - loss: 0.4599 - accuracy: 0.7917 - val_loss: 0.5175 - val_accuracy: 0.7581\n",
      "Epoch 72/100\n",
      "10/10 [==============================] - 0s 10ms/step - loss: 0.4603 - accuracy: 0.7935 - val_loss: 0.5081 - val_accuracy: 0.7581\n",
      "Epoch 73/100\n",
      "10/10 [==============================] - 0s 10ms/step - loss: 0.4504 - accuracy: 0.7900 - val_loss: 0.5117 - val_accuracy: 0.7581\n",
      "Epoch 74/100\n",
      "10/10 [==============================] - 0s 11ms/step - loss: 0.4647 - accuracy: 0.7900 - val_loss: 0.5061 - val_accuracy: 0.7581\n",
      "Epoch 75/100\n",
      "10/10 [==============================] - 0s 10ms/step - loss: 0.4667 - accuracy: 0.7797 - val_loss: 0.5134 - val_accuracy: 0.7581\n",
      "Epoch 76/100\n",
      "10/10 [==============================] - 0s 11ms/step - loss: 0.4684 - accuracy: 0.7642 - val_loss: 0.4903 - val_accuracy: 0.7419\n",
      "Epoch 77/100\n",
      "10/10 [==============================] - 0s 11ms/step - loss: 0.4632 - accuracy: 0.7728 - val_loss: 0.4974 - val_accuracy: 0.7419\n",
      "Epoch 78/100\n",
      "10/10 [==============================] - 0s 10ms/step - loss: 0.4630 - accuracy: 0.7573 - val_loss: 0.4752 - val_accuracy: 0.7581\n",
      "Epoch 79/100\n",
      "10/10 [==============================] - 0s 10ms/step - loss: 0.4499 - accuracy: 0.7831 - val_loss: 0.4855 - val_accuracy: 0.7581\n",
      "Epoch 80/100\n",
      "10/10 [==============================] - 0s 10ms/step - loss: 0.4401 - accuracy: 0.7935 - val_loss: 0.4912 - val_accuracy: 0.7500\n",
      "Epoch 81/100\n",
      "10/10 [==============================] - 0s 10ms/step - loss: 0.4375 - accuracy: 0.8003 - val_loss: 0.4935 - val_accuracy: 0.7419\n",
      "Epoch 82/100\n",
      "10/10 [==============================] - 0s 10ms/step - loss: 0.4288 - accuracy: 0.8021 - val_loss: 0.5109 - val_accuracy: 0.7419\n",
      "Epoch 83/100\n",
      "10/10 [==============================] - 0s 10ms/step - loss: 0.4367 - accuracy: 0.7935 - val_loss: 0.4920 - val_accuracy: 0.7419\n",
      "Epoch 84/100\n",
      "10/10 [==============================] - 0s 13ms/step - loss: 0.4227 - accuracy: 0.8090 - val_loss: 0.4830 - val_accuracy: 0.7661\n",
      "Epoch 85/100\n",
      "10/10 [==============================] - 0s 11ms/step - loss: 0.4129 - accuracy: 0.8227 - val_loss: 0.4829 - val_accuracy: 0.7661\n",
      "Epoch 86/100\n",
      "10/10 [==============================] - 0s 10ms/step - loss: 0.4011 - accuracy: 0.8210 - val_loss: 0.4627 - val_accuracy: 0.7742\n",
      "Epoch 87/100\n",
      "10/10 [==============================] - 0s 10ms/step - loss: 0.4021 - accuracy: 0.8227 - val_loss: 0.4689 - val_accuracy: 0.7903\n",
      "Epoch 88/100\n",
      "10/10 [==============================] - 0s 10ms/step - loss: 0.4174 - accuracy: 0.8090 - val_loss: 0.4769 - val_accuracy: 0.7661\n",
      "Epoch 89/100\n",
      "10/10 [==============================] - 0s 10ms/step - loss: 0.4299 - accuracy: 0.8158 - val_loss: 0.4719 - val_accuracy: 0.7742\n",
      "Epoch 90/100\n",
      "10/10 [==============================] - 0s 10ms/step - loss: 0.4516 - accuracy: 0.7969 - val_loss: 0.5109 - val_accuracy: 0.7742\n",
      "Epoch 91/100\n",
      "10/10 [==============================] - 0s 9ms/step - loss: 0.4366 - accuracy: 0.7986 - val_loss: 0.5414 - val_accuracy: 0.7581\n",
      "Epoch 92/100\n",
      "10/10 [==============================] - 0s 10ms/step - loss: 0.4495 - accuracy: 0.7935 - val_loss: 0.4844 - val_accuracy: 0.7823\n",
      "Epoch 93/100\n",
      "10/10 [==============================] - 0s 10ms/step - loss: 0.4407 - accuracy: 0.7797 - val_loss: 0.5394 - val_accuracy: 0.7661\n",
      "Epoch 94/100\n",
      "10/10 [==============================] - 0s 10ms/step - loss: 0.4631 - accuracy: 0.7797 - val_loss: 0.4825 - val_accuracy: 0.7581\n",
      "Epoch 95/100\n",
      "10/10 [==============================] - 0s 10ms/step - loss: 0.4551 - accuracy: 0.7659 - val_loss: 0.4748 - val_accuracy: 0.7581\n",
      "Epoch 96/100\n",
      "10/10 [==============================] - 0s 10ms/step - loss: 0.4550 - accuracy: 0.7694 - val_loss: 0.4410 - val_accuracy: 0.7903\n",
      "Epoch 97/100\n",
      "10/10 [==============================] - 0s 10ms/step - loss: 0.4127 - accuracy: 0.7952 - val_loss: 0.4735 - val_accuracy: 0.7742\n",
      "Epoch 98/100\n",
      "10/10 [==============================] - 0s 10ms/step - loss: 0.4206 - accuracy: 0.8038 - val_loss: 0.4652 - val_accuracy: 0.7742\n",
      "Epoch 99/100\n",
      "10/10 [==============================] - 0s 10ms/step - loss: 0.4114 - accuracy: 0.8055 - val_loss: 0.4804 - val_accuracy: 0.7581\n",
      "Epoch 100/100\n",
      "10/10 [==============================] - 0s 10ms/step - loss: 0.4069 - accuracy: 0.8141 - val_loss: 0.4807 - val_accuracy: 0.7661\n"
     ]
    }
   ],
   "source": [
    "# train\n",
    "lstm_history = lstm.fit(x_train, y_train, epochs=100, batch_size=64, validation_data=(x_valid, y_valid), shuffle=False)"
   ]
  },
  {
   "cell_type": "code",
   "execution_count": 21,
   "metadata": {},
   "outputs": [
    {
     "name": "stdout",
     "output_type": "stream",
     "text": [
      "4/4 [==============================] - 0s 2ms/step\n"
     ]
    }
   ],
   "source": [
    "# evaluate the model\n",
    "y_pred = lstm.predict(x_test)"
   ]
  },
  {
   "cell_type": "code",
   "execution_count": 22,
   "metadata": {},
   "outputs": [
    {
     "name": "stdout",
     "output_type": "stream",
     "text": [
      "                 model  accuracy  precision  recall      f1  roc_auc\n",
      "0  Logistic Regression    0.7952     0.7869  0.6957  0.7385   0.7808\n",
      "1                  SVM    0.8133     0.8393  0.6812  0.7520   0.7942\n",
      "2        Random Forest    0.9940     0.9857  1.0000  0.9928   0.9948\n",
      "3                 LSTM    0.7040     0.6386  0.8833  0.7413   0.7109\n"
     ]
    }
   ],
   "source": [
    "# calc metrics and add a row to results\n",
    "results.loc[len(results)] = [\n",
    "    'LSTM',\n",
    "    round(accuracy_score(y_test, y_pred.round()), 4),\n",
    "    round(precision_score(y_test, y_pred.round()), 4),\n",
    "    round(recall_score(y_test, y_pred.round()), 4),\n",
    "    round(f1_score(y_test, y_pred.round()), 4),\n",
    "    round(roc_auc_score(y_test, y_pred.round()), 4),\n",
    "]\n",
    "print(results)"
   ]
  },
  {
   "cell_type": "code",
   "execution_count": 23,
   "metadata": {},
   "outputs": [
    {
     "data": {
      "application/vnd.plotly.v1+json": {
       "config": {
        "plotlyServerURL": "https://plot.ly"
       },
       "data": [
        {
         "mode": "lines",
         "name": "loss",
         "type": "scatter",
         "y": [
          0.6998454332351685,
          0.6986179351806641,
          0.694068431854248,
          0.6905739903450012,
          0.6858119964599609,
          0.685657799243927,
          0.6853291392326355,
          0.6846039295196533,
          0.6809500455856323,
          0.6796397566795349,
          0.6723959445953369,
          0.6701873540878296,
          0.6603438854217529,
          0.6476073265075684,
          0.6468718647956848,
          0.6273314952850342,
          0.5996410250663757,
          0.6090510487556458,
          0.6216670870780945,
          0.5708969831466675,
          0.5513104200363159,
          0.5722060203552246,
          0.6137645840644836,
          0.5610875487327576,
          0.5336959958076477,
          0.5517182946205139,
          0.5577503442764282,
          0.5586142539978027,
          0.5296159386634827,
          0.5255478024482727,
          0.5349997282028198,
          0.5424582958221436,
          0.5355233550071716,
          0.5208234786987305,
          0.5166012644767761,
          0.5193021893501282,
          0.5180049538612366,
          0.5215213298797607,
          0.517038881778717,
          0.508158802986145,
          0.5067142844200134,
          0.5101053714752197,
          0.5180577635765076,
          0.5082689523696899,
          0.5067649483680725,
          0.4996193051338196,
          0.49727609753608704,
          0.49376380443573,
          0.4945354163646698,
          0.4925418496131897,
          0.4919675886631012,
          0.5000261664390564,
          0.4936416745185852,
          0.49437442421913147,
          0.4866701662540436,
          0.492992103099823,
          0.4820183217525482,
          0.4763244092464447,
          0.47159281373023987,
          0.47752687335014343,
          0.4724957346916199,
          0.47729891538619995,
          0.47543707489967346,
          0.4725593328475952,
          0.4632627069950104,
          0.4699338972568512,
          0.4577903151512146,
          0.4622025787830353,
          0.45723453164100647,
          0.45897364616394043,
          0.45987042784690857,
          0.4602683186531067,
          0.45036450028419495,
          0.4646552801132202,
          0.4666690230369568,
          0.468416303396225,
          0.4631914496421814,
          0.4629853367805481,
          0.44987937808036804,
          0.44007834792137146,
          0.4374864995479584,
          0.42882540822029114,
          0.4367184340953827,
          0.42272013425827026,
          0.4129280149936676,
          0.4010562598705292,
          0.40206608176231384,
          0.41737282276153564,
          0.42994794249534607,
          0.45160049200057983,
          0.43656471371650696,
          0.44946053624153137,
          0.44073721766471863,
          0.463067889213562,
          0.4551304876804352,
          0.45504099130630493,
          0.41269904375076294,
          0.42058223485946655,
          0.4114416241645813,
          0.40686649084091187
         ]
        },
        {
         "mode": "lines",
         "name": "val_loss",
         "type": "scatter",
         "y": [
          0.6967688798904419,
          0.6880703568458557,
          0.692802906036377,
          0.6910001039505005,
          0.6886880993843079,
          0.6875078082084656,
          0.68620365858078,
          0.68270343542099,
          0.6777018904685974,
          0.6734603643417358,
          0.6647217273712158,
          0.6567057967185974,
          0.6457937955856323,
          0.6451743245124817,
          0.6342360377311707,
          0.6132485270500183,
          0.6253568530082703,
          0.6408717632293701,
          0.5895469188690186,
          0.5703445076942444,
          0.5815749764442444,
          0.6355118155479431,
          0.5806167125701904,
          0.5584335327148438,
          0.5762001276016235,
          0.5918198227882385,
          0.5910152196884155,
          0.558256208896637,
          0.5526241064071655,
          0.5647883415222168,
          0.5694353580474854,
          0.5664588809013367,
          0.5507886409759521,
          0.5471607446670532,
          0.5490397214889526,
          0.5555654764175415,
          0.5575946569442749,
          0.5463740229606628,
          0.5397183895111084,
          0.5423412919044495,
          0.5464568734169006,
          0.5551769137382507,
          0.5416289567947388,
          0.5437502861022949,
          0.5328704118728638,
          0.5293542742729187,
          0.5317017436027527,
          0.5361437201499939,
          0.5301377773284912,
          0.5344480872154236,
          0.5374601483345032,
          0.5282458662986755,
          0.5272756218910217,
          0.5215686559677124,
          0.5212404727935791,
          0.514382004737854,
          0.5207489728927612,
          0.5087794065475464,
          0.5157750248908997,
          0.5126434564590454,
          0.5262807011604309,
          0.5142462253570557,
          0.5215872526168823,
          0.500467836856842,
          0.5059704184532166,
          0.5019243359565735,
          0.5095379948616028,
          0.5116333961486816,
          0.5124796628952026,
          0.5129469633102417,
          0.5174830555915833,
          0.5080653429031372,
          0.5116921663284302,
          0.5060840249061584,
          0.5133981108665466,
          0.4903166890144348,
          0.4973973333835602,
          0.4751668870449066,
          0.4855240285396576,
          0.4911617040634155,
          0.49352070689201355,
          0.5109264850616455,
          0.49197083711624146,
          0.48300719261169434,
          0.48290807008743286,
          0.4627446234226227,
          0.46887385845184326,
          0.4768860638141632,
          0.4718807339668274,
          0.5109221935272217,
          0.5413812398910522,
          0.48441413044929504,
          0.539386510848999,
          0.4825066328048706,
          0.47475045919418335,
          0.44099166989326477,
          0.4735223650932312,
          0.46518149971961975,
          0.48041629791259766,
          0.4806974232196808
         ]
        }
       ],
       "layout": {
        "template": {
         "data": {
          "bar": [
           {
            "error_x": {
             "color": "#2a3f5f"
            },
            "error_y": {
             "color": "#2a3f5f"
            },
            "marker": {
             "line": {
              "color": "#E5ECF6",
              "width": 0.5
             },
             "pattern": {
              "fillmode": "overlay",
              "size": 10,
              "solidity": 0.2
             }
            },
            "type": "bar"
           }
          ],
          "barpolar": [
           {
            "marker": {
             "line": {
              "color": "#E5ECF6",
              "width": 0.5
             },
             "pattern": {
              "fillmode": "overlay",
              "size": 10,
              "solidity": 0.2
             }
            },
            "type": "barpolar"
           }
          ],
          "carpet": [
           {
            "aaxis": {
             "endlinecolor": "#2a3f5f",
             "gridcolor": "white",
             "linecolor": "white",
             "minorgridcolor": "white",
             "startlinecolor": "#2a3f5f"
            },
            "baxis": {
             "endlinecolor": "#2a3f5f",
             "gridcolor": "white",
             "linecolor": "white",
             "minorgridcolor": "white",
             "startlinecolor": "#2a3f5f"
            },
            "type": "carpet"
           }
          ],
          "choropleth": [
           {
            "colorbar": {
             "outlinewidth": 0,
             "ticks": ""
            },
            "type": "choropleth"
           }
          ],
          "contour": [
           {
            "colorbar": {
             "outlinewidth": 0,
             "ticks": ""
            },
            "colorscale": [
             [
              0,
              "#0d0887"
             ],
             [
              0.1111111111111111,
              "#46039f"
             ],
             [
              0.2222222222222222,
              "#7201a8"
             ],
             [
              0.3333333333333333,
              "#9c179e"
             ],
             [
              0.4444444444444444,
              "#bd3786"
             ],
             [
              0.5555555555555556,
              "#d8576b"
             ],
             [
              0.6666666666666666,
              "#ed7953"
             ],
             [
              0.7777777777777778,
              "#fb9f3a"
             ],
             [
              0.8888888888888888,
              "#fdca26"
             ],
             [
              1,
              "#f0f921"
             ]
            ],
            "type": "contour"
           }
          ],
          "contourcarpet": [
           {
            "colorbar": {
             "outlinewidth": 0,
             "ticks": ""
            },
            "type": "contourcarpet"
           }
          ],
          "heatmap": [
           {
            "colorbar": {
             "outlinewidth": 0,
             "ticks": ""
            },
            "colorscale": [
             [
              0,
              "#0d0887"
             ],
             [
              0.1111111111111111,
              "#46039f"
             ],
             [
              0.2222222222222222,
              "#7201a8"
             ],
             [
              0.3333333333333333,
              "#9c179e"
             ],
             [
              0.4444444444444444,
              "#bd3786"
             ],
             [
              0.5555555555555556,
              "#d8576b"
             ],
             [
              0.6666666666666666,
              "#ed7953"
             ],
             [
              0.7777777777777778,
              "#fb9f3a"
             ],
             [
              0.8888888888888888,
              "#fdca26"
             ],
             [
              1,
              "#f0f921"
             ]
            ],
            "type": "heatmap"
           }
          ],
          "heatmapgl": [
           {
            "colorbar": {
             "outlinewidth": 0,
             "ticks": ""
            },
            "colorscale": [
             [
              0,
              "#0d0887"
             ],
             [
              0.1111111111111111,
              "#46039f"
             ],
             [
              0.2222222222222222,
              "#7201a8"
             ],
             [
              0.3333333333333333,
              "#9c179e"
             ],
             [
              0.4444444444444444,
              "#bd3786"
             ],
             [
              0.5555555555555556,
              "#d8576b"
             ],
             [
              0.6666666666666666,
              "#ed7953"
             ],
             [
              0.7777777777777778,
              "#fb9f3a"
             ],
             [
              0.8888888888888888,
              "#fdca26"
             ],
             [
              1,
              "#f0f921"
             ]
            ],
            "type": "heatmapgl"
           }
          ],
          "histogram": [
           {
            "marker": {
             "pattern": {
              "fillmode": "overlay",
              "size": 10,
              "solidity": 0.2
             }
            },
            "type": "histogram"
           }
          ],
          "histogram2d": [
           {
            "colorbar": {
             "outlinewidth": 0,
             "ticks": ""
            },
            "colorscale": [
             [
              0,
              "#0d0887"
             ],
             [
              0.1111111111111111,
              "#46039f"
             ],
             [
              0.2222222222222222,
              "#7201a8"
             ],
             [
              0.3333333333333333,
              "#9c179e"
             ],
             [
              0.4444444444444444,
              "#bd3786"
             ],
             [
              0.5555555555555556,
              "#d8576b"
             ],
             [
              0.6666666666666666,
              "#ed7953"
             ],
             [
              0.7777777777777778,
              "#fb9f3a"
             ],
             [
              0.8888888888888888,
              "#fdca26"
             ],
             [
              1,
              "#f0f921"
             ]
            ],
            "type": "histogram2d"
           }
          ],
          "histogram2dcontour": [
           {
            "colorbar": {
             "outlinewidth": 0,
             "ticks": ""
            },
            "colorscale": [
             [
              0,
              "#0d0887"
             ],
             [
              0.1111111111111111,
              "#46039f"
             ],
             [
              0.2222222222222222,
              "#7201a8"
             ],
             [
              0.3333333333333333,
              "#9c179e"
             ],
             [
              0.4444444444444444,
              "#bd3786"
             ],
             [
              0.5555555555555556,
              "#d8576b"
             ],
             [
              0.6666666666666666,
              "#ed7953"
             ],
             [
              0.7777777777777778,
              "#fb9f3a"
             ],
             [
              0.8888888888888888,
              "#fdca26"
             ],
             [
              1,
              "#f0f921"
             ]
            ],
            "type": "histogram2dcontour"
           }
          ],
          "mesh3d": [
           {
            "colorbar": {
             "outlinewidth": 0,
             "ticks": ""
            },
            "type": "mesh3d"
           }
          ],
          "parcoords": [
           {
            "line": {
             "colorbar": {
              "outlinewidth": 0,
              "ticks": ""
             }
            },
            "type": "parcoords"
           }
          ],
          "pie": [
           {
            "automargin": true,
            "type": "pie"
           }
          ],
          "scatter": [
           {
            "fillpattern": {
             "fillmode": "overlay",
             "size": 10,
             "solidity": 0.2
            },
            "type": "scatter"
           }
          ],
          "scatter3d": [
           {
            "line": {
             "colorbar": {
              "outlinewidth": 0,
              "ticks": ""
             }
            },
            "marker": {
             "colorbar": {
              "outlinewidth": 0,
              "ticks": ""
             }
            },
            "type": "scatter3d"
           }
          ],
          "scattercarpet": [
           {
            "marker": {
             "colorbar": {
              "outlinewidth": 0,
              "ticks": ""
             }
            },
            "type": "scattercarpet"
           }
          ],
          "scattergeo": [
           {
            "marker": {
             "colorbar": {
              "outlinewidth": 0,
              "ticks": ""
             }
            },
            "type": "scattergeo"
           }
          ],
          "scattergl": [
           {
            "marker": {
             "colorbar": {
              "outlinewidth": 0,
              "ticks": ""
             }
            },
            "type": "scattergl"
           }
          ],
          "scattermapbox": [
           {
            "marker": {
             "colorbar": {
              "outlinewidth": 0,
              "ticks": ""
             }
            },
            "type": "scattermapbox"
           }
          ],
          "scatterpolar": [
           {
            "marker": {
             "colorbar": {
              "outlinewidth": 0,
              "ticks": ""
             }
            },
            "type": "scatterpolar"
           }
          ],
          "scatterpolargl": [
           {
            "marker": {
             "colorbar": {
              "outlinewidth": 0,
              "ticks": ""
             }
            },
            "type": "scatterpolargl"
           }
          ],
          "scatterternary": [
           {
            "marker": {
             "colorbar": {
              "outlinewidth": 0,
              "ticks": ""
             }
            },
            "type": "scatterternary"
           }
          ],
          "surface": [
           {
            "colorbar": {
             "outlinewidth": 0,
             "ticks": ""
            },
            "colorscale": [
             [
              0,
              "#0d0887"
             ],
             [
              0.1111111111111111,
              "#46039f"
             ],
             [
              0.2222222222222222,
              "#7201a8"
             ],
             [
              0.3333333333333333,
              "#9c179e"
             ],
             [
              0.4444444444444444,
              "#bd3786"
             ],
             [
              0.5555555555555556,
              "#d8576b"
             ],
             [
              0.6666666666666666,
              "#ed7953"
             ],
             [
              0.7777777777777778,
              "#fb9f3a"
             ],
             [
              0.8888888888888888,
              "#fdca26"
             ],
             [
              1,
              "#f0f921"
             ]
            ],
            "type": "surface"
           }
          ],
          "table": [
           {
            "cells": {
             "fill": {
              "color": "#EBF0F8"
             },
             "line": {
              "color": "white"
             }
            },
            "header": {
             "fill": {
              "color": "#C8D4E3"
             },
             "line": {
              "color": "white"
             }
            },
            "type": "table"
           }
          ]
         },
         "layout": {
          "annotationdefaults": {
           "arrowcolor": "#2a3f5f",
           "arrowhead": 0,
           "arrowwidth": 1
          },
          "autotypenumbers": "strict",
          "coloraxis": {
           "colorbar": {
            "outlinewidth": 0,
            "ticks": ""
           }
          },
          "colorscale": {
           "diverging": [
            [
             0,
             "#8e0152"
            ],
            [
             0.1,
             "#c51b7d"
            ],
            [
             0.2,
             "#de77ae"
            ],
            [
             0.3,
             "#f1b6da"
            ],
            [
             0.4,
             "#fde0ef"
            ],
            [
             0.5,
             "#f7f7f7"
            ],
            [
             0.6,
             "#e6f5d0"
            ],
            [
             0.7,
             "#b8e186"
            ],
            [
             0.8,
             "#7fbc41"
            ],
            [
             0.9,
             "#4d9221"
            ],
            [
             1,
             "#276419"
            ]
           ],
           "sequential": [
            [
             0,
             "#0d0887"
            ],
            [
             0.1111111111111111,
             "#46039f"
            ],
            [
             0.2222222222222222,
             "#7201a8"
            ],
            [
             0.3333333333333333,
             "#9c179e"
            ],
            [
             0.4444444444444444,
             "#bd3786"
            ],
            [
             0.5555555555555556,
             "#d8576b"
            ],
            [
             0.6666666666666666,
             "#ed7953"
            ],
            [
             0.7777777777777778,
             "#fb9f3a"
            ],
            [
             0.8888888888888888,
             "#fdca26"
            ],
            [
             1,
             "#f0f921"
            ]
           ],
           "sequentialminus": [
            [
             0,
             "#0d0887"
            ],
            [
             0.1111111111111111,
             "#46039f"
            ],
            [
             0.2222222222222222,
             "#7201a8"
            ],
            [
             0.3333333333333333,
             "#9c179e"
            ],
            [
             0.4444444444444444,
             "#bd3786"
            ],
            [
             0.5555555555555556,
             "#d8576b"
            ],
            [
             0.6666666666666666,
             "#ed7953"
            ],
            [
             0.7777777777777778,
             "#fb9f3a"
            ],
            [
             0.8888888888888888,
             "#fdca26"
            ],
            [
             1,
             "#f0f921"
            ]
           ]
          },
          "colorway": [
           "#636efa",
           "#EF553B",
           "#00cc96",
           "#ab63fa",
           "#FFA15A",
           "#19d3f3",
           "#FF6692",
           "#B6E880",
           "#FF97FF",
           "#FECB52"
          ],
          "font": {
           "color": "#2a3f5f"
          },
          "geo": {
           "bgcolor": "white",
           "lakecolor": "white",
           "landcolor": "#E5ECF6",
           "showlakes": true,
           "showland": true,
           "subunitcolor": "white"
          },
          "hoverlabel": {
           "align": "left"
          },
          "hovermode": "closest",
          "mapbox": {
           "style": "light"
          },
          "paper_bgcolor": "white",
          "plot_bgcolor": "#E5ECF6",
          "polar": {
           "angularaxis": {
            "gridcolor": "white",
            "linecolor": "white",
            "ticks": ""
           },
           "bgcolor": "#E5ECF6",
           "radialaxis": {
            "gridcolor": "white",
            "linecolor": "white",
            "ticks": ""
           }
          },
          "scene": {
           "xaxis": {
            "backgroundcolor": "#E5ECF6",
            "gridcolor": "white",
            "gridwidth": 2,
            "linecolor": "white",
            "showbackground": true,
            "ticks": "",
            "zerolinecolor": "white"
           },
           "yaxis": {
            "backgroundcolor": "#E5ECF6",
            "gridcolor": "white",
            "gridwidth": 2,
            "linecolor": "white",
            "showbackground": true,
            "ticks": "",
            "zerolinecolor": "white"
           },
           "zaxis": {
            "backgroundcolor": "#E5ECF6",
            "gridcolor": "white",
            "gridwidth": 2,
            "linecolor": "white",
            "showbackground": true,
            "ticks": "",
            "zerolinecolor": "white"
           }
          },
          "shapedefaults": {
           "line": {
            "color": "#2a3f5f"
           }
          },
          "ternary": {
           "aaxis": {
            "gridcolor": "white",
            "linecolor": "white",
            "ticks": ""
           },
           "baxis": {
            "gridcolor": "white",
            "linecolor": "white",
            "ticks": ""
           },
           "bgcolor": "#E5ECF6",
           "caxis": {
            "gridcolor": "white",
            "linecolor": "white",
            "ticks": ""
           }
          },
          "title": {
           "x": 0.05
          },
          "xaxis": {
           "automargin": true,
           "gridcolor": "white",
           "linecolor": "white",
           "ticks": "",
           "title": {
            "standoff": 15
           },
           "zerolinecolor": "white",
           "zerolinewidth": 2
          },
          "yaxis": {
           "automargin": true,
           "gridcolor": "white",
           "linecolor": "white",
           "ticks": "",
           "title": {
            "standoff": 15
           },
           "zerolinecolor": "white",
           "zerolinewidth": 2
          }
         }
        },
        "title": {
         "text": "Loss"
        },
        "xaxis": {
         "title": {
          "text": "Epoch"
         }
        },
        "yaxis": {
         "title": {
          "text": "Loss"
         }
        }
       }
      }
     },
     "metadata": {},
     "output_type": "display_data"
    }
   ],
   "source": [
    "# plot loss\n",
    "fig = go.Figure()\n",
    "fig.add_trace(go.Scatter(y=lstm_history.history['loss'], mode='lines', name='loss'))\n",
    "fig.add_trace(go.Scatter(y=lstm_history.history['val_loss'], mode='lines', name='val_loss'))\n",
    "fig.update_layout(title='Loss', xaxis_title='Epoch', yaxis_title='Loss')\n",
    "fig.show()"
   ]
  },
  {
   "cell_type": "code",
   "execution_count": 24,
   "metadata": {},
   "outputs": [
    {
     "data": {
      "application/vnd.plotly.v1+json": {
       "config": {
        "plotlyServerURL": "https://plot.ly"
       },
       "data": [
        {
         "mode": "lines",
         "name": "accuracy",
         "type": "scatter",
         "y": [
          0.5421686768531799,
          0.46471601724624634,
          0.562822699546814,
          0.562822699546814,
          0.562822699546814,
          0.562822699546814,
          0.562822699546814,
          0.562822699546814,
          0.5645439028739929,
          0.567986249923706,
          0.567986249923706,
          0.5697073936462402,
          0.5731497406959534,
          0.5955249667167664,
          0.5903614163398743,
          0.628227174282074,
          0.7005163431167603,
          0.6729776263237,
          0.6454389095306396,
          0.7194492220878601,
          0.7452667951583862,
          0.7366609573364258,
          0.6592082381248474,
          0.7125645279884338,
          0.7469879388809204,
          0.7349397540092468,
          0.7108433842658997,
          0.7022375464439392,
          0.7418244481086731,
          0.7401032447814941,
          0.7487091422080994,
          0.7263339161872864,
          0.7246127128601074,
          0.7349397540092468,
          0.7401032447814941,
          0.7469879388809204,
          0.7452667951583862,
          0.7349397540092468,
          0.7366609573364258,
          0.7555937767028809,
          0.7487091422080994,
          0.7538726329803467,
          0.7435455918312073,
          0.7487091422080994,
          0.7555937767028809,
          0.7521514892578125,
          0.7555937767028809,
          0.759036123752594,
          0.760757327079773,
          0.7676420211791992,
          0.7624784708023071,
          0.7573149800300598,
          0.760757327079773,
          0.7624784708023071,
          0.7624784708023071,
          0.760757327079773,
          0.7573149800300598,
          0.7728055119514465,
          0.7779690027236938,
          0.781411349773407,
          0.7779690027236938,
          0.781411349773407,
          0.7831325531005859,
          0.781411349773407,
          0.7900171875953674,
          0.7848536968231201,
          0.7951807379722595,
          0.7882960438728333,
          0.7969018816947937,
          0.7934595346450806,
          0.7917383909225464,
          0.7934595346450806,
          0.7900171875953674,
          0.7900171875953674,
          0.7796902060508728,
          0.7641996741294861,
          0.7728055119514465,
          0.7573149800300598,
          0.7831325531005859,
          0.7934595346450806,
          0.8003442287445068,
          0.8020654320716858,
          0.7934595346450806,
          0.8089500665664673,
          0.8227194547653198,
          0.8209982514381409,
          0.8227194547653198,
          0.8089500665664673,
          0.8158347606658936,
          0.7969018816947937,
          0.7986230850219727,
          0.7934595346450806,
          0.7796902060508728,
          0.7796902060508728,
          0.7659208178520203,
          0.7693631649017334,
          0.7951807379722595,
          0.80378657579422,
          0.8055077195167542,
          0.8141136169433594
         ]
        },
        {
         "mode": "lines",
         "name": "val_accuracy",
         "type": "scatter",
         "y": [
          0.4516128897666931,
          0.5483871102333069,
          0.5483871102333069,
          0.5483871102333069,
          0.5483871102333069,
          0.5483871102333069,
          0.5483871102333069,
          0.5483871102333069,
          0.5483871102333069,
          0.5483871102333069,
          0.5564516186714172,
          0.6370967626571655,
          0.6854838728904724,
          0.6854838728904724,
          0.7016128897666931,
          0.6854838728904724,
          0.6774193644523621,
          0.6532257795333862,
          0.6935483813285828,
          0.6854838728904724,
          0.7177419066429138,
          0.6774193644523621,
          0.7016128897666931,
          0.7016128897666931,
          0.7096773982048035,
          0.7096773982048035,
          0.7096773982048035,
          0.6935483813285828,
          0.6935483813285828,
          0.7096773982048035,
          0.7177419066429138,
          0.7177419066429138,
          0.7096773982048035,
          0.7177419066429138,
          0.7096773982048035,
          0.7177419066429138,
          0.7177419066429138,
          0.725806474685669,
          0.7177419066429138,
          0.725806474685669,
          0.7177419066429138,
          0.725806474685669,
          0.725806474685669,
          0.725806474685669,
          0.7338709831237793,
          0.7338709831237793,
          0.7338709831237793,
          0.725806474685669,
          0.7338709831237793,
          0.75,
          0.7419354915618896,
          0.75,
          0.7580645084381104,
          0.7580645084381104,
          0.7580645084381104,
          0.75,
          0.7419354915618896,
          0.7419354915618896,
          0.75,
          0.75,
          0.75,
          0.75,
          0.75,
          0.75,
          0.75,
          0.75,
          0.75,
          0.75,
          0.75,
          0.7580645084381104,
          0.7580645084381104,
          0.7580645084381104,
          0.7580645084381104,
          0.7580645084381104,
          0.7580645084381104,
          0.7419354915618896,
          0.7419354915618896,
          0.7580645084381104,
          0.7580645084381104,
          0.75,
          0.7419354915618896,
          0.7419354915618896,
          0.7419354915618896,
          0.7661290168762207,
          0.7661290168762207,
          0.774193525314331,
          0.7903226017951965,
          0.7661290168762207,
          0.774193525314331,
          0.774193525314331,
          0.7580645084381104,
          0.7822580933570862,
          0.7661290168762207,
          0.7580645084381104,
          0.7580645084381104,
          0.7903226017951965,
          0.774193525314331,
          0.774193525314331,
          0.7580645084381104,
          0.7661290168762207
         ]
        }
       ],
       "layout": {
        "template": {
         "data": {
          "bar": [
           {
            "error_x": {
             "color": "#2a3f5f"
            },
            "error_y": {
             "color": "#2a3f5f"
            },
            "marker": {
             "line": {
              "color": "#E5ECF6",
              "width": 0.5
             },
             "pattern": {
              "fillmode": "overlay",
              "size": 10,
              "solidity": 0.2
             }
            },
            "type": "bar"
           }
          ],
          "barpolar": [
           {
            "marker": {
             "line": {
              "color": "#E5ECF6",
              "width": 0.5
             },
             "pattern": {
              "fillmode": "overlay",
              "size": 10,
              "solidity": 0.2
             }
            },
            "type": "barpolar"
           }
          ],
          "carpet": [
           {
            "aaxis": {
             "endlinecolor": "#2a3f5f",
             "gridcolor": "white",
             "linecolor": "white",
             "minorgridcolor": "white",
             "startlinecolor": "#2a3f5f"
            },
            "baxis": {
             "endlinecolor": "#2a3f5f",
             "gridcolor": "white",
             "linecolor": "white",
             "minorgridcolor": "white",
             "startlinecolor": "#2a3f5f"
            },
            "type": "carpet"
           }
          ],
          "choropleth": [
           {
            "colorbar": {
             "outlinewidth": 0,
             "ticks": ""
            },
            "type": "choropleth"
           }
          ],
          "contour": [
           {
            "colorbar": {
             "outlinewidth": 0,
             "ticks": ""
            },
            "colorscale": [
             [
              0,
              "#0d0887"
             ],
             [
              0.1111111111111111,
              "#46039f"
             ],
             [
              0.2222222222222222,
              "#7201a8"
             ],
             [
              0.3333333333333333,
              "#9c179e"
             ],
             [
              0.4444444444444444,
              "#bd3786"
             ],
             [
              0.5555555555555556,
              "#d8576b"
             ],
             [
              0.6666666666666666,
              "#ed7953"
             ],
             [
              0.7777777777777778,
              "#fb9f3a"
             ],
             [
              0.8888888888888888,
              "#fdca26"
             ],
             [
              1,
              "#f0f921"
             ]
            ],
            "type": "contour"
           }
          ],
          "contourcarpet": [
           {
            "colorbar": {
             "outlinewidth": 0,
             "ticks": ""
            },
            "type": "contourcarpet"
           }
          ],
          "heatmap": [
           {
            "colorbar": {
             "outlinewidth": 0,
             "ticks": ""
            },
            "colorscale": [
             [
              0,
              "#0d0887"
             ],
             [
              0.1111111111111111,
              "#46039f"
             ],
             [
              0.2222222222222222,
              "#7201a8"
             ],
             [
              0.3333333333333333,
              "#9c179e"
             ],
             [
              0.4444444444444444,
              "#bd3786"
             ],
             [
              0.5555555555555556,
              "#d8576b"
             ],
             [
              0.6666666666666666,
              "#ed7953"
             ],
             [
              0.7777777777777778,
              "#fb9f3a"
             ],
             [
              0.8888888888888888,
              "#fdca26"
             ],
             [
              1,
              "#f0f921"
             ]
            ],
            "type": "heatmap"
           }
          ],
          "heatmapgl": [
           {
            "colorbar": {
             "outlinewidth": 0,
             "ticks": ""
            },
            "colorscale": [
             [
              0,
              "#0d0887"
             ],
             [
              0.1111111111111111,
              "#46039f"
             ],
             [
              0.2222222222222222,
              "#7201a8"
             ],
             [
              0.3333333333333333,
              "#9c179e"
             ],
             [
              0.4444444444444444,
              "#bd3786"
             ],
             [
              0.5555555555555556,
              "#d8576b"
             ],
             [
              0.6666666666666666,
              "#ed7953"
             ],
             [
              0.7777777777777778,
              "#fb9f3a"
             ],
             [
              0.8888888888888888,
              "#fdca26"
             ],
             [
              1,
              "#f0f921"
             ]
            ],
            "type": "heatmapgl"
           }
          ],
          "histogram": [
           {
            "marker": {
             "pattern": {
              "fillmode": "overlay",
              "size": 10,
              "solidity": 0.2
             }
            },
            "type": "histogram"
           }
          ],
          "histogram2d": [
           {
            "colorbar": {
             "outlinewidth": 0,
             "ticks": ""
            },
            "colorscale": [
             [
              0,
              "#0d0887"
             ],
             [
              0.1111111111111111,
              "#46039f"
             ],
             [
              0.2222222222222222,
              "#7201a8"
             ],
             [
              0.3333333333333333,
              "#9c179e"
             ],
             [
              0.4444444444444444,
              "#bd3786"
             ],
             [
              0.5555555555555556,
              "#d8576b"
             ],
             [
              0.6666666666666666,
              "#ed7953"
             ],
             [
              0.7777777777777778,
              "#fb9f3a"
             ],
             [
              0.8888888888888888,
              "#fdca26"
             ],
             [
              1,
              "#f0f921"
             ]
            ],
            "type": "histogram2d"
           }
          ],
          "histogram2dcontour": [
           {
            "colorbar": {
             "outlinewidth": 0,
             "ticks": ""
            },
            "colorscale": [
             [
              0,
              "#0d0887"
             ],
             [
              0.1111111111111111,
              "#46039f"
             ],
             [
              0.2222222222222222,
              "#7201a8"
             ],
             [
              0.3333333333333333,
              "#9c179e"
             ],
             [
              0.4444444444444444,
              "#bd3786"
             ],
             [
              0.5555555555555556,
              "#d8576b"
             ],
             [
              0.6666666666666666,
              "#ed7953"
             ],
             [
              0.7777777777777778,
              "#fb9f3a"
             ],
             [
              0.8888888888888888,
              "#fdca26"
             ],
             [
              1,
              "#f0f921"
             ]
            ],
            "type": "histogram2dcontour"
           }
          ],
          "mesh3d": [
           {
            "colorbar": {
             "outlinewidth": 0,
             "ticks": ""
            },
            "type": "mesh3d"
           }
          ],
          "parcoords": [
           {
            "line": {
             "colorbar": {
              "outlinewidth": 0,
              "ticks": ""
             }
            },
            "type": "parcoords"
           }
          ],
          "pie": [
           {
            "automargin": true,
            "type": "pie"
           }
          ],
          "scatter": [
           {
            "fillpattern": {
             "fillmode": "overlay",
             "size": 10,
             "solidity": 0.2
            },
            "type": "scatter"
           }
          ],
          "scatter3d": [
           {
            "line": {
             "colorbar": {
              "outlinewidth": 0,
              "ticks": ""
             }
            },
            "marker": {
             "colorbar": {
              "outlinewidth": 0,
              "ticks": ""
             }
            },
            "type": "scatter3d"
           }
          ],
          "scattercarpet": [
           {
            "marker": {
             "colorbar": {
              "outlinewidth": 0,
              "ticks": ""
             }
            },
            "type": "scattercarpet"
           }
          ],
          "scattergeo": [
           {
            "marker": {
             "colorbar": {
              "outlinewidth": 0,
              "ticks": ""
             }
            },
            "type": "scattergeo"
           }
          ],
          "scattergl": [
           {
            "marker": {
             "colorbar": {
              "outlinewidth": 0,
              "ticks": ""
             }
            },
            "type": "scattergl"
           }
          ],
          "scattermapbox": [
           {
            "marker": {
             "colorbar": {
              "outlinewidth": 0,
              "ticks": ""
             }
            },
            "type": "scattermapbox"
           }
          ],
          "scatterpolar": [
           {
            "marker": {
             "colorbar": {
              "outlinewidth": 0,
              "ticks": ""
             }
            },
            "type": "scatterpolar"
           }
          ],
          "scatterpolargl": [
           {
            "marker": {
             "colorbar": {
              "outlinewidth": 0,
              "ticks": ""
             }
            },
            "type": "scatterpolargl"
           }
          ],
          "scatterternary": [
           {
            "marker": {
             "colorbar": {
              "outlinewidth": 0,
              "ticks": ""
             }
            },
            "type": "scatterternary"
           }
          ],
          "surface": [
           {
            "colorbar": {
             "outlinewidth": 0,
             "ticks": ""
            },
            "colorscale": [
             [
              0,
              "#0d0887"
             ],
             [
              0.1111111111111111,
              "#46039f"
             ],
             [
              0.2222222222222222,
              "#7201a8"
             ],
             [
              0.3333333333333333,
              "#9c179e"
             ],
             [
              0.4444444444444444,
              "#bd3786"
             ],
             [
              0.5555555555555556,
              "#d8576b"
             ],
             [
              0.6666666666666666,
              "#ed7953"
             ],
             [
              0.7777777777777778,
              "#fb9f3a"
             ],
             [
              0.8888888888888888,
              "#fdca26"
             ],
             [
              1,
              "#f0f921"
             ]
            ],
            "type": "surface"
           }
          ],
          "table": [
           {
            "cells": {
             "fill": {
              "color": "#EBF0F8"
             },
             "line": {
              "color": "white"
             }
            },
            "header": {
             "fill": {
              "color": "#C8D4E3"
             },
             "line": {
              "color": "white"
             }
            },
            "type": "table"
           }
          ]
         },
         "layout": {
          "annotationdefaults": {
           "arrowcolor": "#2a3f5f",
           "arrowhead": 0,
           "arrowwidth": 1
          },
          "autotypenumbers": "strict",
          "coloraxis": {
           "colorbar": {
            "outlinewidth": 0,
            "ticks": ""
           }
          },
          "colorscale": {
           "diverging": [
            [
             0,
             "#8e0152"
            ],
            [
             0.1,
             "#c51b7d"
            ],
            [
             0.2,
             "#de77ae"
            ],
            [
             0.3,
             "#f1b6da"
            ],
            [
             0.4,
             "#fde0ef"
            ],
            [
             0.5,
             "#f7f7f7"
            ],
            [
             0.6,
             "#e6f5d0"
            ],
            [
             0.7,
             "#b8e186"
            ],
            [
             0.8,
             "#7fbc41"
            ],
            [
             0.9,
             "#4d9221"
            ],
            [
             1,
             "#276419"
            ]
           ],
           "sequential": [
            [
             0,
             "#0d0887"
            ],
            [
             0.1111111111111111,
             "#46039f"
            ],
            [
             0.2222222222222222,
             "#7201a8"
            ],
            [
             0.3333333333333333,
             "#9c179e"
            ],
            [
             0.4444444444444444,
             "#bd3786"
            ],
            [
             0.5555555555555556,
             "#d8576b"
            ],
            [
             0.6666666666666666,
             "#ed7953"
            ],
            [
             0.7777777777777778,
             "#fb9f3a"
            ],
            [
             0.8888888888888888,
             "#fdca26"
            ],
            [
             1,
             "#f0f921"
            ]
           ],
           "sequentialminus": [
            [
             0,
             "#0d0887"
            ],
            [
             0.1111111111111111,
             "#46039f"
            ],
            [
             0.2222222222222222,
             "#7201a8"
            ],
            [
             0.3333333333333333,
             "#9c179e"
            ],
            [
             0.4444444444444444,
             "#bd3786"
            ],
            [
             0.5555555555555556,
             "#d8576b"
            ],
            [
             0.6666666666666666,
             "#ed7953"
            ],
            [
             0.7777777777777778,
             "#fb9f3a"
            ],
            [
             0.8888888888888888,
             "#fdca26"
            ],
            [
             1,
             "#f0f921"
            ]
           ]
          },
          "colorway": [
           "#636efa",
           "#EF553B",
           "#00cc96",
           "#ab63fa",
           "#FFA15A",
           "#19d3f3",
           "#FF6692",
           "#B6E880",
           "#FF97FF",
           "#FECB52"
          ],
          "font": {
           "color": "#2a3f5f"
          },
          "geo": {
           "bgcolor": "white",
           "lakecolor": "white",
           "landcolor": "#E5ECF6",
           "showlakes": true,
           "showland": true,
           "subunitcolor": "white"
          },
          "hoverlabel": {
           "align": "left"
          },
          "hovermode": "closest",
          "mapbox": {
           "style": "light"
          },
          "paper_bgcolor": "white",
          "plot_bgcolor": "#E5ECF6",
          "polar": {
           "angularaxis": {
            "gridcolor": "white",
            "linecolor": "white",
            "ticks": ""
           },
           "bgcolor": "#E5ECF6",
           "radialaxis": {
            "gridcolor": "white",
            "linecolor": "white",
            "ticks": ""
           }
          },
          "scene": {
           "xaxis": {
            "backgroundcolor": "#E5ECF6",
            "gridcolor": "white",
            "gridwidth": 2,
            "linecolor": "white",
            "showbackground": true,
            "ticks": "",
            "zerolinecolor": "white"
           },
           "yaxis": {
            "backgroundcolor": "#E5ECF6",
            "gridcolor": "white",
            "gridwidth": 2,
            "linecolor": "white",
            "showbackground": true,
            "ticks": "",
            "zerolinecolor": "white"
           },
           "zaxis": {
            "backgroundcolor": "#E5ECF6",
            "gridcolor": "white",
            "gridwidth": 2,
            "linecolor": "white",
            "showbackground": true,
            "ticks": "",
            "zerolinecolor": "white"
           }
          },
          "shapedefaults": {
           "line": {
            "color": "#2a3f5f"
           }
          },
          "ternary": {
           "aaxis": {
            "gridcolor": "white",
            "linecolor": "white",
            "ticks": ""
           },
           "baxis": {
            "gridcolor": "white",
            "linecolor": "white",
            "ticks": ""
           },
           "bgcolor": "#E5ECF6",
           "caxis": {
            "gridcolor": "white",
            "linecolor": "white",
            "ticks": ""
           }
          },
          "title": {
           "x": 0.05
          },
          "xaxis": {
           "automargin": true,
           "gridcolor": "white",
           "linecolor": "white",
           "ticks": "",
           "title": {
            "standoff": 15
           },
           "zerolinecolor": "white",
           "zerolinewidth": 2
          },
          "yaxis": {
           "automargin": true,
           "gridcolor": "white",
           "linecolor": "white",
           "ticks": "",
           "title": {
            "standoff": 15
           },
           "zerolinecolor": "white",
           "zerolinewidth": 2
          }
         }
        },
        "title": {
         "text": "Accuracy"
        },
        "xaxis": {
         "title": {
          "text": "Epoch"
         }
        },
        "yaxis": {
         "title": {
          "text": "Accuracy"
         }
        }
       }
      }
     },
     "metadata": {},
     "output_type": "display_data"
    }
   ],
   "source": [
    "# plot accuracy\n",
    "fig = go.Figure()\n",
    "fig.add_trace(go.Scatter(y=lstm_history.history['accuracy'], mode='lines', name='accuracy'))\n",
    "fig.add_trace(go.Scatter(y=lstm_history.history['val_accuracy'], mode='lines', name='val_accuracy'))\n",
    "fig.update_layout(title='Accuracy', xaxis_title='Epoch', yaxis_title='Accuracy')\n",
    "fig.show()"
   ]
  },
  {
   "cell_type": "markdown",
   "metadata": {},
   "source": [
    "### RNN"
   ]
  },
  {
   "cell_type": "code",
   "execution_count": 25,
   "metadata": {},
   "outputs": [
    {
     "name": "stdout",
     "output_type": "stream",
     "text": [
      "Model: \"sequential_1\"\n",
      "_________________________________________________________________\n",
      " Layer (type)                Output Shape              Param #   \n",
      "=================================================================\n",
      " simple_rnn (SimpleRNN)      (None, 1, 256)            278272    \n",
      "                                                                 \n",
      " dropout_2 (Dropout)         (None, 1, 256)            0         \n",
      "                                                                 \n",
      " simple_rnn_1 (SimpleRNN)    (None, 256)               131328    \n",
      "                                                                 \n",
      " dropout_3 (Dropout)         (None, 256)               0         \n",
      "                                                                 \n",
      " dense_1 (Dense)             (None, 1)                 257       \n",
      "                                                                 \n",
      "=================================================================\n",
      "Total params: 409857 (1.56 MB)\n",
      "Trainable params: 409857 (1.56 MB)\n",
      "Non-trainable params: 0 (0.00 Byte)\n",
      "_________________________________________________________________\n"
     ]
    }
   ],
   "source": [
    "rnn_model = keras.Sequential()\n",
    "rnn_model.add(keras.layers.SimpleRNN(256, input_shape=(x_train.shape[1], x_train.shape[2]), return_sequences=True))\n",
    "rnn_model.add(keras.layers.Dropout(0.1))\n",
    "rnn_model.add(keras.layers.SimpleRNN(256, return_sequences=False))\n",
    "rnn_model.add(keras.layers.Dropout(0.1))\n",
    "rnn_model.add(keras.layers.Dense(1, activation='sigmoid'))\n",
    "rnn_model.compile(loss='binary_crossentropy', optimizer='adam', metrics=['accuracy'])\n",
    "rnn_model.summary()"
   ]
  },
  {
   "cell_type": "code",
   "execution_count": 26,
   "metadata": {},
   "outputs": [
    {
     "name": "stdout",
     "output_type": "stream",
     "text": [
      "Epoch 1/100\n"
     ]
    },
    {
     "name": "stdout",
     "output_type": "stream",
     "text": [
      "10/10 [==============================] - 1s 26ms/step - loss: 0.8224 - accuracy: 0.5301 - val_loss: 0.6876 - val_accuracy: 0.5806\n",
      "Epoch 2/100\n",
      "10/10 [==============================] - 0s 5ms/step - loss: 0.7708 - accuracy: 0.5611 - val_loss: 0.8096 - val_accuracy: 0.4516\n",
      "Epoch 3/100\n",
      "10/10 [==============================] - 0s 5ms/step - loss: 0.8143 - accuracy: 0.4802 - val_loss: 0.7397 - val_accuracy: 0.4516\n",
      "Epoch 4/100\n",
      "10/10 [==============================] - 0s 5ms/step - loss: 0.7825 - accuracy: 0.4750 - val_loss: 0.6836 - val_accuracy: 0.6855\n",
      "Epoch 5/100\n",
      "10/10 [==============================] - 0s 5ms/step - loss: 0.7191 - accuracy: 0.5129 - val_loss: 0.6744 - val_accuracy: 0.6048\n",
      "Epoch 6/100\n",
      "10/10 [==============================] - 0s 5ms/step - loss: 0.7216 - accuracy: 0.5267 - val_loss: 0.6889 - val_accuracy: 0.4516\n",
      "Epoch 7/100\n",
      "10/10 [==============================] - 0s 5ms/step - loss: 0.7213 - accuracy: 0.5353 - val_loss: 0.6714 - val_accuracy: 0.6935\n",
      "Epoch 8/100\n",
      "10/10 [==============================] - 0s 5ms/step - loss: 0.7036 - accuracy: 0.5215 - val_loss: 0.6685 - val_accuracy: 0.6935\n",
      "Epoch 9/100\n",
      "10/10 [==============================] - 0s 5ms/step - loss: 0.6981 - accuracy: 0.5611 - val_loss: 0.6790 - val_accuracy: 0.5161\n",
      "Epoch 10/100\n",
      "10/10 [==============================] - 0s 5ms/step - loss: 0.7000 - accuracy: 0.5542 - val_loss: 0.6714 - val_accuracy: 0.5484\n",
      "Epoch 11/100\n",
      "10/10 [==============================] - 0s 5ms/step - loss: 0.6918 - accuracy: 0.5697 - val_loss: 0.6567 - val_accuracy: 0.6774\n",
      "Epoch 12/100\n",
      "10/10 [==============================] - 0s 5ms/step - loss: 0.6711 - accuracy: 0.5697 - val_loss: 0.6852 - val_accuracy: 0.5242\n",
      "Epoch 13/100\n",
      "10/10 [==============================] - 0s 6ms/step - loss: 0.6983 - accuracy: 0.5456 - val_loss: 0.6857 - val_accuracy: 0.5161\n",
      "Epoch 14/100\n",
      "10/10 [==============================] - 0s 5ms/step - loss: 0.6842 - accuracy: 0.5680 - val_loss: 0.6404 - val_accuracy: 0.6935\n",
      "Epoch 15/100\n",
      "10/10 [==============================] - 0s 5ms/step - loss: 0.6455 - accuracy: 0.6231 - val_loss: 0.6373 - val_accuracy: 0.7016\n",
      "Epoch 16/100\n",
      "10/10 [==============================] - 0s 5ms/step - loss: 0.6268 - accuracy: 0.6334 - val_loss: 0.6778 - val_accuracy: 0.6210\n",
      "Epoch 17/100\n",
      "10/10 [==============================] - 0s 5ms/step - loss: 0.6718 - accuracy: 0.6041 - val_loss: 0.7530 - val_accuracy: 0.4677\n",
      "Epoch 18/100\n",
      "10/10 [==============================] - 0s 5ms/step - loss: 0.7343 - accuracy: 0.5318 - val_loss: 0.6469 - val_accuracy: 0.6855\n",
      "Epoch 19/100\n",
      "10/10 [==============================] - 0s 5ms/step - loss: 0.6543 - accuracy: 0.6041 - val_loss: 0.6127 - val_accuracy: 0.6935\n",
      "Epoch 20/100\n",
      "10/10 [==============================] - 0s 5ms/step - loss: 0.6009 - accuracy: 0.7074 - val_loss: 0.6245 - val_accuracy: 0.7016\n",
      "Epoch 21/100\n",
      "10/10 [==============================] - 0s 5ms/step - loss: 0.6102 - accuracy: 0.7022 - val_loss: 0.6355 - val_accuracy: 0.7097\n",
      "Epoch 22/100\n",
      "10/10 [==============================] - 0s 5ms/step - loss: 0.6591 - accuracy: 0.6627 - val_loss: 0.7341 - val_accuracy: 0.5161\n",
      "Epoch 23/100\n",
      "10/10 [==============================] - 0s 5ms/step - loss: 0.6917 - accuracy: 0.5697 - val_loss: 0.6257 - val_accuracy: 0.7016\n",
      "Epoch 24/100\n",
      "10/10 [==============================] - 0s 5ms/step - loss: 0.6100 - accuracy: 0.6489 - val_loss: 0.5907 - val_accuracy: 0.7016\n",
      "Epoch 25/100\n",
      "10/10 [==============================] - 0s 5ms/step - loss: 0.5673 - accuracy: 0.7194 - val_loss: 0.6146 - val_accuracy: 0.7097\n",
      "Epoch 26/100\n",
      "10/10 [==============================] - 0s 5ms/step - loss: 0.5742 - accuracy: 0.7212 - val_loss: 0.6320 - val_accuracy: 0.7016\n",
      "Epoch 27/100\n",
      "10/10 [==============================] - 0s 5ms/step - loss: 0.5886 - accuracy: 0.7281 - val_loss: 0.6785 - val_accuracy: 0.6532\n",
      "Epoch 28/100\n",
      "10/10 [==============================] - 0s 5ms/step - loss: 0.6397 - accuracy: 0.6489 - val_loss: 0.6626 - val_accuracy: 0.6613\n",
      "Epoch 29/100\n",
      "10/10 [==============================] - 0s 5ms/step - loss: 0.6269 - accuracy: 0.6713 - val_loss: 0.5978 - val_accuracy: 0.7016\n",
      "Epoch 30/100\n",
      "10/10 [==============================] - 0s 5ms/step - loss: 0.5632 - accuracy: 0.7212 - val_loss: 0.6009 - val_accuracy: 0.6855\n",
      "Epoch 31/100\n",
      "10/10 [==============================] - 0s 5ms/step - loss: 0.5602 - accuracy: 0.7177 - val_loss: 0.6256 - val_accuracy: 0.7016\n",
      "Epoch 32/100\n",
      "10/10 [==============================] - 0s 5ms/step - loss: 0.5798 - accuracy: 0.7022 - val_loss: 0.6352 - val_accuracy: 0.7097\n",
      "Epoch 33/100\n",
      "10/10 [==============================] - 0s 5ms/step - loss: 0.5994 - accuracy: 0.7074 - val_loss: 0.6588 - val_accuracy: 0.6855\n",
      "Epoch 34/100\n",
      "10/10 [==============================] - 0s 5ms/step - loss: 0.5890 - accuracy: 0.7040 - val_loss: 0.5965 - val_accuracy: 0.7177\n",
      "Epoch 35/100\n",
      "10/10 [==============================] - 0s 5ms/step - loss: 0.5538 - accuracy: 0.7229 - val_loss: 0.5972 - val_accuracy: 0.7097\n",
      "Epoch 36/100\n",
      "10/10 [==============================] - 0s 5ms/step - loss: 0.5591 - accuracy: 0.7246 - val_loss: 0.6056 - val_accuracy: 0.7177\n",
      "Epoch 37/100\n",
      "10/10 [==============================] - 0s 5ms/step - loss: 0.5673 - accuracy: 0.7177 - val_loss: 0.5982 - val_accuracy: 0.7177\n",
      "Epoch 38/100\n",
      "10/10 [==============================] - 0s 5ms/step - loss: 0.5590 - accuracy: 0.7263 - val_loss: 0.6408 - val_accuracy: 0.7258\n",
      "Epoch 39/100\n",
      "10/10 [==============================] - 0s 5ms/step - loss: 0.5823 - accuracy: 0.7108 - val_loss: 0.6139 - val_accuracy: 0.7177\n",
      "Epoch 40/100\n",
      "10/10 [==============================] - 0s 5ms/step - loss: 0.5789 - accuracy: 0.7091 - val_loss: 0.6085 - val_accuracy: 0.7177\n",
      "Epoch 41/100\n",
      "10/10 [==============================] - 0s 5ms/step - loss: 0.5803 - accuracy: 0.7040 - val_loss: 0.5924 - val_accuracy: 0.7016\n",
      "Epoch 42/100\n",
      "10/10 [==============================] - 0s 5ms/step - loss: 0.5523 - accuracy: 0.7143 - val_loss: 0.5835 - val_accuracy: 0.7258\n",
      "Epoch 43/100\n",
      "10/10 [==============================] - 0s 5ms/step - loss: 0.5471 - accuracy: 0.7315 - val_loss: 0.5850 - val_accuracy: 0.7177\n",
      "Epoch 44/100\n",
      "10/10 [==============================] - 0s 5ms/step - loss: 0.5423 - accuracy: 0.7246 - val_loss: 0.6056 - val_accuracy: 0.7258\n",
      "Epoch 45/100\n",
      "10/10 [==============================] - 0s 5ms/step - loss: 0.5677 - accuracy: 0.7177 - val_loss: 0.5783 - val_accuracy: 0.7258\n",
      "Epoch 46/100\n",
      "10/10 [==============================] - 0s 5ms/step - loss: 0.5415 - accuracy: 0.7470 - val_loss: 0.5827 - val_accuracy: 0.7097\n",
      "Epoch 47/100\n",
      "10/10 [==============================] - 0s 5ms/step - loss: 0.5488 - accuracy: 0.7367 - val_loss: 0.6016 - val_accuracy: 0.7258\n",
      "Epoch 48/100\n",
      "10/10 [==============================] - 0s 5ms/step - loss: 0.5384 - accuracy: 0.7470 - val_loss: 0.5871 - val_accuracy: 0.7258\n",
      "Epoch 49/100\n",
      "10/10 [==============================] - 0s 5ms/step - loss: 0.5460 - accuracy: 0.7418 - val_loss: 0.5850 - val_accuracy: 0.7339\n",
      "Epoch 50/100\n",
      "10/10 [==============================] - 0s 5ms/step - loss: 0.5342 - accuracy: 0.7453 - val_loss: 0.5869 - val_accuracy: 0.7177\n",
      "Epoch 51/100\n",
      "10/10 [==============================] - 0s 5ms/step - loss: 0.5365 - accuracy: 0.7401 - val_loss: 0.5908 - val_accuracy: 0.7258\n",
      "Epoch 52/100\n",
      "10/10 [==============================] - 0s 5ms/step - loss: 0.5296 - accuracy: 0.7401 - val_loss: 0.5838 - val_accuracy: 0.7258\n",
      "Epoch 53/100\n",
      "10/10 [==============================] - 0s 5ms/step - loss: 0.5415 - accuracy: 0.7487 - val_loss: 0.5852 - val_accuracy: 0.7258\n",
      "Epoch 54/100\n",
      "10/10 [==============================] - 0s 5ms/step - loss: 0.5498 - accuracy: 0.7108 - val_loss: 0.5563 - val_accuracy: 0.7339\n",
      "Epoch 55/100\n",
      "10/10 [==============================] - 0s 5ms/step - loss: 0.5178 - accuracy: 0.7384 - val_loss: 0.5627 - val_accuracy: 0.7258\n",
      "Epoch 56/100\n",
      "10/10 [==============================] - 0s 5ms/step - loss: 0.5233 - accuracy: 0.7487 - val_loss: 0.5693 - val_accuracy: 0.7339\n",
      "Epoch 57/100\n",
      "10/10 [==============================] - 0s 5ms/step - loss: 0.5235 - accuracy: 0.7573 - val_loss: 0.5713 - val_accuracy: 0.7339\n",
      "Epoch 58/100\n",
      "10/10 [==============================] - 0s 5ms/step - loss: 0.5166 - accuracy: 0.7470 - val_loss: 0.6031 - val_accuracy: 0.7258\n",
      "Epoch 59/100\n",
      "10/10 [==============================] - 0s 5ms/step - loss: 0.5422 - accuracy: 0.7298 - val_loss: 0.5761 - val_accuracy: 0.7500\n",
      "Epoch 60/100\n",
      "10/10 [==============================] - 0s 7ms/step - loss: 0.5605 - accuracy: 0.7126 - val_loss: 0.5470 - val_accuracy: 0.7258\n",
      "Epoch 61/100\n",
      "10/10 [==============================] - 0s 5ms/step - loss: 0.5316 - accuracy: 0.7487 - val_loss: 0.5379 - val_accuracy: 0.7500\n",
      "Epoch 62/100\n",
      "10/10 [==============================] - 0s 5ms/step - loss: 0.4933 - accuracy: 0.7573 - val_loss: 0.5569 - val_accuracy: 0.7419\n",
      "Epoch 63/100\n",
      "10/10 [==============================] - 0s 5ms/step - loss: 0.5120 - accuracy: 0.7522 - val_loss: 0.5433 - val_accuracy: 0.7339\n",
      "Epoch 64/100\n",
      "10/10 [==============================] - 0s 5ms/step - loss: 0.5035 - accuracy: 0.7659 - val_loss: 0.5676 - val_accuracy: 0.7581\n",
      "Epoch 65/100\n",
      "10/10 [==============================] - 0s 5ms/step - loss: 0.5114 - accuracy: 0.7384 - val_loss: 0.5629 - val_accuracy: 0.7581\n",
      "Epoch 66/100\n",
      "10/10 [==============================] - 0s 5ms/step - loss: 0.5178 - accuracy: 0.7504 - val_loss: 0.5535 - val_accuracy: 0.7500\n",
      "Epoch 67/100\n",
      "10/10 [==============================] - 0s 5ms/step - loss: 0.5129 - accuracy: 0.7539 - val_loss: 0.5461 - val_accuracy: 0.7581\n",
      "Epoch 68/100\n",
      "10/10 [==============================] - 0s 5ms/step - loss: 0.5045 - accuracy: 0.7539 - val_loss: 0.5427 - val_accuracy: 0.7419\n",
      "Epoch 69/100\n",
      "10/10 [==============================] - 0s 5ms/step - loss: 0.5034 - accuracy: 0.7625 - val_loss: 0.5782 - val_accuracy: 0.7581\n",
      "Epoch 70/100\n",
      "10/10 [==============================] - 0s 5ms/step - loss: 0.5130 - accuracy: 0.7504 - val_loss: 0.5675 - val_accuracy: 0.7581\n",
      "Epoch 71/100\n",
      "10/10 [==============================] - 0s 5ms/step - loss: 0.5249 - accuracy: 0.7504 - val_loss: 0.5319 - val_accuracy: 0.7419\n",
      "Epoch 72/100\n",
      "10/10 [==============================] - 0s 9ms/step - loss: 0.5084 - accuracy: 0.7470 - val_loss: 0.5539 - val_accuracy: 0.7500\n",
      "Epoch 73/100\n",
      "10/10 [==============================] - 0s 5ms/step - loss: 0.4956 - accuracy: 0.7608 - val_loss: 0.5336 - val_accuracy: 0.7581\n",
      "Epoch 74/100\n",
      "10/10 [==============================] - 0s 5ms/step - loss: 0.5121 - accuracy: 0.7504 - val_loss: 0.5303 - val_accuracy: 0.7419\n",
      "Epoch 75/100\n",
      "10/10 [==============================] - 0s 5ms/step - loss: 0.4920 - accuracy: 0.7780 - val_loss: 0.5296 - val_accuracy: 0.7581\n",
      "Epoch 76/100\n",
      "10/10 [==============================] - 0s 5ms/step - loss: 0.4864 - accuracy: 0.7728 - val_loss: 0.5309 - val_accuracy: 0.7581\n",
      "Epoch 77/100\n",
      "10/10 [==============================] - 0s 5ms/step - loss: 0.4900 - accuracy: 0.7762 - val_loss: 0.5302 - val_accuracy: 0.7661\n",
      "Epoch 78/100\n",
      "10/10 [==============================] - 0s 5ms/step - loss: 0.4896 - accuracy: 0.7659 - val_loss: 0.5474 - val_accuracy: 0.7581\n",
      "Epoch 79/100\n",
      "10/10 [==============================] - 0s 5ms/step - loss: 0.4939 - accuracy: 0.7676 - val_loss: 0.5485 - val_accuracy: 0.7581\n",
      "Epoch 80/100\n",
      "10/10 [==============================] - 0s 5ms/step - loss: 0.5099 - accuracy: 0.7590 - val_loss: 0.5424 - val_accuracy: 0.7581\n",
      "Epoch 81/100\n",
      "10/10 [==============================] - 0s 5ms/step - loss: 0.5082 - accuracy: 0.7642 - val_loss: 0.5178 - val_accuracy: 0.7581\n",
      "Epoch 82/100\n",
      "10/10 [==============================] - 0s 5ms/step - loss: 0.4786 - accuracy: 0.7866 - val_loss: 0.5142 - val_accuracy: 0.7500\n",
      "Epoch 83/100\n",
      "10/10 [==============================] - 0s 5ms/step - loss: 0.4716 - accuracy: 0.7814 - val_loss: 0.5209 - val_accuracy: 0.7661\n",
      "Epoch 84/100\n",
      "10/10 [==============================] - 0s 5ms/step - loss: 0.4870 - accuracy: 0.7676 - val_loss: 0.5468 - val_accuracy: 0.7581\n",
      "Epoch 85/100\n",
      "10/10 [==============================] - 0s 5ms/step - loss: 0.5048 - accuracy: 0.7625 - val_loss: 0.5342 - val_accuracy: 0.7581\n",
      "Epoch 86/100\n",
      "10/10 [==============================] - 0s 5ms/step - loss: 0.4818 - accuracy: 0.7728 - val_loss: 0.5332 - val_accuracy: 0.7581\n",
      "Epoch 87/100\n",
      "10/10 [==============================] - 0s 5ms/step - loss: 0.5020 - accuracy: 0.7762 - val_loss: 0.5181 - val_accuracy: 0.7581\n",
      "Epoch 88/100\n",
      "10/10 [==============================] - 0s 5ms/step - loss: 0.4833 - accuracy: 0.7780 - val_loss: 0.5368 - val_accuracy: 0.7500\n",
      "Epoch 89/100\n",
      "10/10 [==============================] - 0s 5ms/step - loss: 0.4937 - accuracy: 0.7728 - val_loss: 0.5310 - val_accuracy: 0.7500\n",
      "Epoch 90/100\n",
      "10/10 [==============================] - 0s 5ms/step - loss: 0.4924 - accuracy: 0.7504 - val_loss: 0.5484 - val_accuracy: 0.7581\n",
      "Epoch 91/100\n",
      "10/10 [==============================] - 0s 5ms/step - loss: 0.5074 - accuracy: 0.7573 - val_loss: 0.4987 - val_accuracy: 0.7581\n",
      "Epoch 92/100\n",
      "10/10 [==============================] - 0s 5ms/step - loss: 0.4943 - accuracy: 0.7401 - val_loss: 0.5085 - val_accuracy: 0.7581\n",
      "Epoch 93/100\n",
      "10/10 [==============================] - 0s 5ms/step - loss: 0.4820 - accuracy: 0.7745 - val_loss: 0.5150 - val_accuracy: 0.7581\n",
      "Epoch 94/100\n",
      "10/10 [==============================] - 0s 5ms/step - loss: 0.4678 - accuracy: 0.7694 - val_loss: 0.4920 - val_accuracy: 0.7581\n",
      "Epoch 95/100\n",
      "10/10 [==============================] - 0s 5ms/step - loss: 0.4485 - accuracy: 0.7935 - val_loss: 0.4956 - val_accuracy: 0.7581\n",
      "Epoch 96/100\n",
      "10/10 [==============================] - 0s 5ms/step - loss: 0.4543 - accuracy: 0.8038 - val_loss: 0.4810 - val_accuracy: 0.7581\n",
      "Epoch 97/100\n",
      "10/10 [==============================] - 0s 5ms/step - loss: 0.4312 - accuracy: 0.8055 - val_loss: 0.4892 - val_accuracy: 0.7661\n",
      "Epoch 98/100\n",
      "10/10 [==============================] - 0s 5ms/step - loss: 0.4482 - accuracy: 0.8038 - val_loss: 0.4846 - val_accuracy: 0.7581\n",
      "Epoch 99/100\n",
      "10/10 [==============================] - 0s 5ms/step - loss: 0.4482 - accuracy: 0.8003 - val_loss: 0.5175 - val_accuracy: 0.7500\n",
      "Epoch 100/100\n",
      "10/10 [==============================] - 0s 5ms/step - loss: 0.4679 - accuracy: 0.7814 - val_loss: 0.5077 - val_accuracy: 0.7500\n"
     ]
    }
   ],
   "source": [
    "# train\n",
    "rnn_history = rnn_model.fit(x_train, y_train, epochs=100, batch_size=64, validation_data=(x_valid, y_valid), shuffle=False)"
   ]
  },
  {
   "cell_type": "code",
   "execution_count": 27,
   "metadata": {},
   "outputs": [
    {
     "name": "stdout",
     "output_type": "stream",
     "text": [
      "4/4 [==============================] - 0s 1ms/step\n"
     ]
    }
   ],
   "source": [
    "# evaluate the model\n",
    "y_pred = rnn_model.predict(x_test)"
   ]
  },
  {
   "cell_type": "code",
   "execution_count": 28,
   "metadata": {},
   "outputs": [
    {
     "name": "stdout",
     "output_type": "stream",
     "text": [
      "                 model  accuracy  precision  recall      f1  roc_auc\n",
      "0  Logistic Regression    0.7952     0.7869  0.6957  0.7385   0.7808\n",
      "1                  SVM    0.8133     0.8393  0.6812  0.7520   0.7942\n",
      "2        Random Forest    0.9940     0.9857  1.0000  0.9928   0.9948\n",
      "3                 LSTM    0.7040     0.6386  0.8833  0.7413   0.7109\n",
      "4                  RNN    0.6800     0.6163  0.8833  0.7260   0.6878\n"
     ]
    }
   ],
   "source": [
    "# calc metrics and add a row to results\n",
    "results.loc[len(results)] = [\n",
    "    'RNN',\n",
    "    round(accuracy_score(y_test, y_pred.round()), 4),\n",
    "    round(precision_score(y_test, y_pred.round()), 4),\n",
    "    round(recall_score(y_test, y_pred.round()), 4),\n",
    "    round(f1_score(y_test, y_pred.round()), 4),\n",
    "    round(roc_auc_score(y_test, y_pred.round()), 4),\n",
    "]\n",
    "print(results)"
   ]
  },
  {
   "cell_type": "code",
   "execution_count": 29,
   "metadata": {},
   "outputs": [
    {
     "data": {
      "application/vnd.plotly.v1+json": {
       "config": {
        "plotlyServerURL": "https://plot.ly"
       },
       "data": [
        {
         "mode": "lines",
         "name": "loss",
         "type": "scatter",
         "y": [
          0.6998454332351685,
          0.6986179351806641,
          0.694068431854248,
          0.6905739903450012,
          0.6858119964599609,
          0.685657799243927,
          0.6853291392326355,
          0.6846039295196533,
          0.6809500455856323,
          0.6796397566795349,
          0.6723959445953369,
          0.6701873540878296,
          0.6603438854217529,
          0.6476073265075684,
          0.6468718647956848,
          0.6273314952850342,
          0.5996410250663757,
          0.6090510487556458,
          0.6216670870780945,
          0.5708969831466675,
          0.5513104200363159,
          0.5722060203552246,
          0.6137645840644836,
          0.5610875487327576,
          0.5336959958076477,
          0.5517182946205139,
          0.5577503442764282,
          0.5586142539978027,
          0.5296159386634827,
          0.5255478024482727,
          0.5349997282028198,
          0.5424582958221436,
          0.5355233550071716,
          0.5208234786987305,
          0.5166012644767761,
          0.5193021893501282,
          0.5180049538612366,
          0.5215213298797607,
          0.517038881778717,
          0.508158802986145,
          0.5067142844200134,
          0.5101053714752197,
          0.5180577635765076,
          0.5082689523696899,
          0.5067649483680725,
          0.4996193051338196,
          0.49727609753608704,
          0.49376380443573,
          0.4945354163646698,
          0.4925418496131897,
          0.4919675886631012,
          0.5000261664390564,
          0.4936416745185852,
          0.49437442421913147,
          0.4866701662540436,
          0.492992103099823,
          0.4820183217525482,
          0.4763244092464447,
          0.47159281373023987,
          0.47752687335014343,
          0.4724957346916199,
          0.47729891538619995,
          0.47543707489967346,
          0.4725593328475952,
          0.4632627069950104,
          0.4699338972568512,
          0.4577903151512146,
          0.4622025787830353,
          0.45723453164100647,
          0.45897364616394043,
          0.45987042784690857,
          0.4602683186531067,
          0.45036450028419495,
          0.4646552801132202,
          0.4666690230369568,
          0.468416303396225,
          0.4631914496421814,
          0.4629853367805481,
          0.44987937808036804,
          0.44007834792137146,
          0.4374864995479584,
          0.42882540822029114,
          0.4367184340953827,
          0.42272013425827026,
          0.4129280149936676,
          0.4010562598705292,
          0.40206608176231384,
          0.41737282276153564,
          0.42994794249534607,
          0.45160049200057983,
          0.43656471371650696,
          0.44946053624153137,
          0.44073721766471863,
          0.463067889213562,
          0.4551304876804352,
          0.45504099130630493,
          0.41269904375076294,
          0.42058223485946655,
          0.4114416241645813,
          0.40686649084091187
         ]
        },
        {
         "mode": "lines",
         "name": "val_loss",
         "type": "scatter",
         "y": [
          0.6967688798904419,
          0.6880703568458557,
          0.692802906036377,
          0.6910001039505005,
          0.6886880993843079,
          0.6875078082084656,
          0.68620365858078,
          0.68270343542099,
          0.6777018904685974,
          0.6734603643417358,
          0.6647217273712158,
          0.6567057967185974,
          0.6457937955856323,
          0.6451743245124817,
          0.6342360377311707,
          0.6132485270500183,
          0.6253568530082703,
          0.6408717632293701,
          0.5895469188690186,
          0.5703445076942444,
          0.5815749764442444,
          0.6355118155479431,
          0.5806167125701904,
          0.5584335327148438,
          0.5762001276016235,
          0.5918198227882385,
          0.5910152196884155,
          0.558256208896637,
          0.5526241064071655,
          0.5647883415222168,
          0.5694353580474854,
          0.5664588809013367,
          0.5507886409759521,
          0.5471607446670532,
          0.5490397214889526,
          0.5555654764175415,
          0.5575946569442749,
          0.5463740229606628,
          0.5397183895111084,
          0.5423412919044495,
          0.5464568734169006,
          0.5551769137382507,
          0.5416289567947388,
          0.5437502861022949,
          0.5328704118728638,
          0.5293542742729187,
          0.5317017436027527,
          0.5361437201499939,
          0.5301377773284912,
          0.5344480872154236,
          0.5374601483345032,
          0.5282458662986755,
          0.5272756218910217,
          0.5215686559677124,
          0.5212404727935791,
          0.514382004737854,
          0.5207489728927612,
          0.5087794065475464,
          0.5157750248908997,
          0.5126434564590454,
          0.5262807011604309,
          0.5142462253570557,
          0.5215872526168823,
          0.500467836856842,
          0.5059704184532166,
          0.5019243359565735,
          0.5095379948616028,
          0.5116333961486816,
          0.5124796628952026,
          0.5129469633102417,
          0.5174830555915833,
          0.5080653429031372,
          0.5116921663284302,
          0.5060840249061584,
          0.5133981108665466,
          0.4903166890144348,
          0.4973973333835602,
          0.4751668870449066,
          0.4855240285396576,
          0.4911617040634155,
          0.49352070689201355,
          0.5109264850616455,
          0.49197083711624146,
          0.48300719261169434,
          0.48290807008743286,
          0.4627446234226227,
          0.46887385845184326,
          0.4768860638141632,
          0.4718807339668274,
          0.5109221935272217,
          0.5413812398910522,
          0.48441413044929504,
          0.539386510848999,
          0.4825066328048706,
          0.47475045919418335,
          0.44099166989326477,
          0.4735223650932312,
          0.46518149971961975,
          0.48041629791259766,
          0.4806974232196808
         ]
        }
       ],
       "layout": {
        "template": {
         "data": {
          "bar": [
           {
            "error_x": {
             "color": "#2a3f5f"
            },
            "error_y": {
             "color": "#2a3f5f"
            },
            "marker": {
             "line": {
              "color": "#E5ECF6",
              "width": 0.5
             },
             "pattern": {
              "fillmode": "overlay",
              "size": 10,
              "solidity": 0.2
             }
            },
            "type": "bar"
           }
          ],
          "barpolar": [
           {
            "marker": {
             "line": {
              "color": "#E5ECF6",
              "width": 0.5
             },
             "pattern": {
              "fillmode": "overlay",
              "size": 10,
              "solidity": 0.2
             }
            },
            "type": "barpolar"
           }
          ],
          "carpet": [
           {
            "aaxis": {
             "endlinecolor": "#2a3f5f",
             "gridcolor": "white",
             "linecolor": "white",
             "minorgridcolor": "white",
             "startlinecolor": "#2a3f5f"
            },
            "baxis": {
             "endlinecolor": "#2a3f5f",
             "gridcolor": "white",
             "linecolor": "white",
             "minorgridcolor": "white",
             "startlinecolor": "#2a3f5f"
            },
            "type": "carpet"
           }
          ],
          "choropleth": [
           {
            "colorbar": {
             "outlinewidth": 0,
             "ticks": ""
            },
            "type": "choropleth"
           }
          ],
          "contour": [
           {
            "colorbar": {
             "outlinewidth": 0,
             "ticks": ""
            },
            "colorscale": [
             [
              0,
              "#0d0887"
             ],
             [
              0.1111111111111111,
              "#46039f"
             ],
             [
              0.2222222222222222,
              "#7201a8"
             ],
             [
              0.3333333333333333,
              "#9c179e"
             ],
             [
              0.4444444444444444,
              "#bd3786"
             ],
             [
              0.5555555555555556,
              "#d8576b"
             ],
             [
              0.6666666666666666,
              "#ed7953"
             ],
             [
              0.7777777777777778,
              "#fb9f3a"
             ],
             [
              0.8888888888888888,
              "#fdca26"
             ],
             [
              1,
              "#f0f921"
             ]
            ],
            "type": "contour"
           }
          ],
          "contourcarpet": [
           {
            "colorbar": {
             "outlinewidth": 0,
             "ticks": ""
            },
            "type": "contourcarpet"
           }
          ],
          "heatmap": [
           {
            "colorbar": {
             "outlinewidth": 0,
             "ticks": ""
            },
            "colorscale": [
             [
              0,
              "#0d0887"
             ],
             [
              0.1111111111111111,
              "#46039f"
             ],
             [
              0.2222222222222222,
              "#7201a8"
             ],
             [
              0.3333333333333333,
              "#9c179e"
             ],
             [
              0.4444444444444444,
              "#bd3786"
             ],
             [
              0.5555555555555556,
              "#d8576b"
             ],
             [
              0.6666666666666666,
              "#ed7953"
             ],
             [
              0.7777777777777778,
              "#fb9f3a"
             ],
             [
              0.8888888888888888,
              "#fdca26"
             ],
             [
              1,
              "#f0f921"
             ]
            ],
            "type": "heatmap"
           }
          ],
          "heatmapgl": [
           {
            "colorbar": {
             "outlinewidth": 0,
             "ticks": ""
            },
            "colorscale": [
             [
              0,
              "#0d0887"
             ],
             [
              0.1111111111111111,
              "#46039f"
             ],
             [
              0.2222222222222222,
              "#7201a8"
             ],
             [
              0.3333333333333333,
              "#9c179e"
             ],
             [
              0.4444444444444444,
              "#bd3786"
             ],
             [
              0.5555555555555556,
              "#d8576b"
             ],
             [
              0.6666666666666666,
              "#ed7953"
             ],
             [
              0.7777777777777778,
              "#fb9f3a"
             ],
             [
              0.8888888888888888,
              "#fdca26"
             ],
             [
              1,
              "#f0f921"
             ]
            ],
            "type": "heatmapgl"
           }
          ],
          "histogram": [
           {
            "marker": {
             "pattern": {
              "fillmode": "overlay",
              "size": 10,
              "solidity": 0.2
             }
            },
            "type": "histogram"
           }
          ],
          "histogram2d": [
           {
            "colorbar": {
             "outlinewidth": 0,
             "ticks": ""
            },
            "colorscale": [
             [
              0,
              "#0d0887"
             ],
             [
              0.1111111111111111,
              "#46039f"
             ],
             [
              0.2222222222222222,
              "#7201a8"
             ],
             [
              0.3333333333333333,
              "#9c179e"
             ],
             [
              0.4444444444444444,
              "#bd3786"
             ],
             [
              0.5555555555555556,
              "#d8576b"
             ],
             [
              0.6666666666666666,
              "#ed7953"
             ],
             [
              0.7777777777777778,
              "#fb9f3a"
             ],
             [
              0.8888888888888888,
              "#fdca26"
             ],
             [
              1,
              "#f0f921"
             ]
            ],
            "type": "histogram2d"
           }
          ],
          "histogram2dcontour": [
           {
            "colorbar": {
             "outlinewidth": 0,
             "ticks": ""
            },
            "colorscale": [
             [
              0,
              "#0d0887"
             ],
             [
              0.1111111111111111,
              "#46039f"
             ],
             [
              0.2222222222222222,
              "#7201a8"
             ],
             [
              0.3333333333333333,
              "#9c179e"
             ],
             [
              0.4444444444444444,
              "#bd3786"
             ],
             [
              0.5555555555555556,
              "#d8576b"
             ],
             [
              0.6666666666666666,
              "#ed7953"
             ],
             [
              0.7777777777777778,
              "#fb9f3a"
             ],
             [
              0.8888888888888888,
              "#fdca26"
             ],
             [
              1,
              "#f0f921"
             ]
            ],
            "type": "histogram2dcontour"
           }
          ],
          "mesh3d": [
           {
            "colorbar": {
             "outlinewidth": 0,
             "ticks": ""
            },
            "type": "mesh3d"
           }
          ],
          "parcoords": [
           {
            "line": {
             "colorbar": {
              "outlinewidth": 0,
              "ticks": ""
             }
            },
            "type": "parcoords"
           }
          ],
          "pie": [
           {
            "automargin": true,
            "type": "pie"
           }
          ],
          "scatter": [
           {
            "fillpattern": {
             "fillmode": "overlay",
             "size": 10,
             "solidity": 0.2
            },
            "type": "scatter"
           }
          ],
          "scatter3d": [
           {
            "line": {
             "colorbar": {
              "outlinewidth": 0,
              "ticks": ""
             }
            },
            "marker": {
             "colorbar": {
              "outlinewidth": 0,
              "ticks": ""
             }
            },
            "type": "scatter3d"
           }
          ],
          "scattercarpet": [
           {
            "marker": {
             "colorbar": {
              "outlinewidth": 0,
              "ticks": ""
             }
            },
            "type": "scattercarpet"
           }
          ],
          "scattergeo": [
           {
            "marker": {
             "colorbar": {
              "outlinewidth": 0,
              "ticks": ""
             }
            },
            "type": "scattergeo"
           }
          ],
          "scattergl": [
           {
            "marker": {
             "colorbar": {
              "outlinewidth": 0,
              "ticks": ""
             }
            },
            "type": "scattergl"
           }
          ],
          "scattermapbox": [
           {
            "marker": {
             "colorbar": {
              "outlinewidth": 0,
              "ticks": ""
             }
            },
            "type": "scattermapbox"
           }
          ],
          "scatterpolar": [
           {
            "marker": {
             "colorbar": {
              "outlinewidth": 0,
              "ticks": ""
             }
            },
            "type": "scatterpolar"
           }
          ],
          "scatterpolargl": [
           {
            "marker": {
             "colorbar": {
              "outlinewidth": 0,
              "ticks": ""
             }
            },
            "type": "scatterpolargl"
           }
          ],
          "scatterternary": [
           {
            "marker": {
             "colorbar": {
              "outlinewidth": 0,
              "ticks": ""
             }
            },
            "type": "scatterternary"
           }
          ],
          "surface": [
           {
            "colorbar": {
             "outlinewidth": 0,
             "ticks": ""
            },
            "colorscale": [
             [
              0,
              "#0d0887"
             ],
             [
              0.1111111111111111,
              "#46039f"
             ],
             [
              0.2222222222222222,
              "#7201a8"
             ],
             [
              0.3333333333333333,
              "#9c179e"
             ],
             [
              0.4444444444444444,
              "#bd3786"
             ],
             [
              0.5555555555555556,
              "#d8576b"
             ],
             [
              0.6666666666666666,
              "#ed7953"
             ],
             [
              0.7777777777777778,
              "#fb9f3a"
             ],
             [
              0.8888888888888888,
              "#fdca26"
             ],
             [
              1,
              "#f0f921"
             ]
            ],
            "type": "surface"
           }
          ],
          "table": [
           {
            "cells": {
             "fill": {
              "color": "#EBF0F8"
             },
             "line": {
              "color": "white"
             }
            },
            "header": {
             "fill": {
              "color": "#C8D4E3"
             },
             "line": {
              "color": "white"
             }
            },
            "type": "table"
           }
          ]
         },
         "layout": {
          "annotationdefaults": {
           "arrowcolor": "#2a3f5f",
           "arrowhead": 0,
           "arrowwidth": 1
          },
          "autotypenumbers": "strict",
          "coloraxis": {
           "colorbar": {
            "outlinewidth": 0,
            "ticks": ""
           }
          },
          "colorscale": {
           "diverging": [
            [
             0,
             "#8e0152"
            ],
            [
             0.1,
             "#c51b7d"
            ],
            [
             0.2,
             "#de77ae"
            ],
            [
             0.3,
             "#f1b6da"
            ],
            [
             0.4,
             "#fde0ef"
            ],
            [
             0.5,
             "#f7f7f7"
            ],
            [
             0.6,
             "#e6f5d0"
            ],
            [
             0.7,
             "#b8e186"
            ],
            [
             0.8,
             "#7fbc41"
            ],
            [
             0.9,
             "#4d9221"
            ],
            [
             1,
             "#276419"
            ]
           ],
           "sequential": [
            [
             0,
             "#0d0887"
            ],
            [
             0.1111111111111111,
             "#46039f"
            ],
            [
             0.2222222222222222,
             "#7201a8"
            ],
            [
             0.3333333333333333,
             "#9c179e"
            ],
            [
             0.4444444444444444,
             "#bd3786"
            ],
            [
             0.5555555555555556,
             "#d8576b"
            ],
            [
             0.6666666666666666,
             "#ed7953"
            ],
            [
             0.7777777777777778,
             "#fb9f3a"
            ],
            [
             0.8888888888888888,
             "#fdca26"
            ],
            [
             1,
             "#f0f921"
            ]
           ],
           "sequentialminus": [
            [
             0,
             "#0d0887"
            ],
            [
             0.1111111111111111,
             "#46039f"
            ],
            [
             0.2222222222222222,
             "#7201a8"
            ],
            [
             0.3333333333333333,
             "#9c179e"
            ],
            [
             0.4444444444444444,
             "#bd3786"
            ],
            [
             0.5555555555555556,
             "#d8576b"
            ],
            [
             0.6666666666666666,
             "#ed7953"
            ],
            [
             0.7777777777777778,
             "#fb9f3a"
            ],
            [
             0.8888888888888888,
             "#fdca26"
            ],
            [
             1,
             "#f0f921"
            ]
           ]
          },
          "colorway": [
           "#636efa",
           "#EF553B",
           "#00cc96",
           "#ab63fa",
           "#FFA15A",
           "#19d3f3",
           "#FF6692",
           "#B6E880",
           "#FF97FF",
           "#FECB52"
          ],
          "font": {
           "color": "#2a3f5f"
          },
          "geo": {
           "bgcolor": "white",
           "lakecolor": "white",
           "landcolor": "#E5ECF6",
           "showlakes": true,
           "showland": true,
           "subunitcolor": "white"
          },
          "hoverlabel": {
           "align": "left"
          },
          "hovermode": "closest",
          "mapbox": {
           "style": "light"
          },
          "paper_bgcolor": "white",
          "plot_bgcolor": "#E5ECF6",
          "polar": {
           "angularaxis": {
            "gridcolor": "white",
            "linecolor": "white",
            "ticks": ""
           },
           "bgcolor": "#E5ECF6",
           "radialaxis": {
            "gridcolor": "white",
            "linecolor": "white",
            "ticks": ""
           }
          },
          "scene": {
           "xaxis": {
            "backgroundcolor": "#E5ECF6",
            "gridcolor": "white",
            "gridwidth": 2,
            "linecolor": "white",
            "showbackground": true,
            "ticks": "",
            "zerolinecolor": "white"
           },
           "yaxis": {
            "backgroundcolor": "#E5ECF6",
            "gridcolor": "white",
            "gridwidth": 2,
            "linecolor": "white",
            "showbackground": true,
            "ticks": "",
            "zerolinecolor": "white"
           },
           "zaxis": {
            "backgroundcolor": "#E5ECF6",
            "gridcolor": "white",
            "gridwidth": 2,
            "linecolor": "white",
            "showbackground": true,
            "ticks": "",
            "zerolinecolor": "white"
           }
          },
          "shapedefaults": {
           "line": {
            "color": "#2a3f5f"
           }
          },
          "ternary": {
           "aaxis": {
            "gridcolor": "white",
            "linecolor": "white",
            "ticks": ""
           },
           "baxis": {
            "gridcolor": "white",
            "linecolor": "white",
            "ticks": ""
           },
           "bgcolor": "#E5ECF6",
           "caxis": {
            "gridcolor": "white",
            "linecolor": "white",
            "ticks": ""
           }
          },
          "title": {
           "x": 0.05
          },
          "xaxis": {
           "automargin": true,
           "gridcolor": "white",
           "linecolor": "white",
           "ticks": "",
           "title": {
            "standoff": 15
           },
           "zerolinecolor": "white",
           "zerolinewidth": 2
          },
          "yaxis": {
           "automargin": true,
           "gridcolor": "white",
           "linecolor": "white",
           "ticks": "",
           "title": {
            "standoff": 15
           },
           "zerolinecolor": "white",
           "zerolinewidth": 2
          }
         }
        },
        "title": {
         "text": "Loss"
        },
        "xaxis": {
         "title": {
          "text": "Epoch"
         }
        },
        "yaxis": {
         "title": {
          "text": "Loss"
         }
        }
       }
      }
     },
     "metadata": {},
     "output_type": "display_data"
    }
   ],
   "source": [
    "# plot loss\n",
    "fig = go.Figure()\n",
    "fig.add_trace(go.Scatter(y=lstm_history.history['loss'], mode='lines', name='loss'))\n",
    "fig.add_trace(go.Scatter(y=lstm_history.history['val_loss'], mode='lines', name='val_loss'))\n",
    "fig.update_layout(title='Loss', xaxis_title='Epoch', yaxis_title='Loss')\n",
    "fig.show()"
   ]
  },
  {
   "cell_type": "code",
   "execution_count": 30,
   "metadata": {},
   "outputs": [
    {
     "data": {
      "application/vnd.plotly.v1+json": {
       "config": {
        "plotlyServerURL": "https://plot.ly"
       },
       "data": [
        {
         "mode": "lines",
         "name": "accuracy",
         "type": "scatter",
         "y": [
          0.5421686768531799,
          0.46471601724624634,
          0.562822699546814,
          0.562822699546814,
          0.562822699546814,
          0.562822699546814,
          0.562822699546814,
          0.562822699546814,
          0.5645439028739929,
          0.567986249923706,
          0.567986249923706,
          0.5697073936462402,
          0.5731497406959534,
          0.5955249667167664,
          0.5903614163398743,
          0.628227174282074,
          0.7005163431167603,
          0.6729776263237,
          0.6454389095306396,
          0.7194492220878601,
          0.7452667951583862,
          0.7366609573364258,
          0.6592082381248474,
          0.7125645279884338,
          0.7469879388809204,
          0.7349397540092468,
          0.7108433842658997,
          0.7022375464439392,
          0.7418244481086731,
          0.7401032447814941,
          0.7487091422080994,
          0.7263339161872864,
          0.7246127128601074,
          0.7349397540092468,
          0.7401032447814941,
          0.7469879388809204,
          0.7452667951583862,
          0.7349397540092468,
          0.7366609573364258,
          0.7555937767028809,
          0.7487091422080994,
          0.7538726329803467,
          0.7435455918312073,
          0.7487091422080994,
          0.7555937767028809,
          0.7521514892578125,
          0.7555937767028809,
          0.759036123752594,
          0.760757327079773,
          0.7676420211791992,
          0.7624784708023071,
          0.7573149800300598,
          0.760757327079773,
          0.7624784708023071,
          0.7624784708023071,
          0.760757327079773,
          0.7573149800300598,
          0.7728055119514465,
          0.7779690027236938,
          0.781411349773407,
          0.7779690027236938,
          0.781411349773407,
          0.7831325531005859,
          0.781411349773407,
          0.7900171875953674,
          0.7848536968231201,
          0.7951807379722595,
          0.7882960438728333,
          0.7969018816947937,
          0.7934595346450806,
          0.7917383909225464,
          0.7934595346450806,
          0.7900171875953674,
          0.7900171875953674,
          0.7796902060508728,
          0.7641996741294861,
          0.7728055119514465,
          0.7573149800300598,
          0.7831325531005859,
          0.7934595346450806,
          0.8003442287445068,
          0.8020654320716858,
          0.7934595346450806,
          0.8089500665664673,
          0.8227194547653198,
          0.8209982514381409,
          0.8227194547653198,
          0.8089500665664673,
          0.8158347606658936,
          0.7969018816947937,
          0.7986230850219727,
          0.7934595346450806,
          0.7796902060508728,
          0.7796902060508728,
          0.7659208178520203,
          0.7693631649017334,
          0.7951807379722595,
          0.80378657579422,
          0.8055077195167542,
          0.8141136169433594
         ]
        },
        {
         "mode": "lines",
         "name": "val_accuracy",
         "type": "scatter",
         "y": [
          0.4516128897666931,
          0.5483871102333069,
          0.5483871102333069,
          0.5483871102333069,
          0.5483871102333069,
          0.5483871102333069,
          0.5483871102333069,
          0.5483871102333069,
          0.5483871102333069,
          0.5483871102333069,
          0.5564516186714172,
          0.6370967626571655,
          0.6854838728904724,
          0.6854838728904724,
          0.7016128897666931,
          0.6854838728904724,
          0.6774193644523621,
          0.6532257795333862,
          0.6935483813285828,
          0.6854838728904724,
          0.7177419066429138,
          0.6774193644523621,
          0.7016128897666931,
          0.7016128897666931,
          0.7096773982048035,
          0.7096773982048035,
          0.7096773982048035,
          0.6935483813285828,
          0.6935483813285828,
          0.7096773982048035,
          0.7177419066429138,
          0.7177419066429138,
          0.7096773982048035,
          0.7177419066429138,
          0.7096773982048035,
          0.7177419066429138,
          0.7177419066429138,
          0.725806474685669,
          0.7177419066429138,
          0.725806474685669,
          0.7177419066429138,
          0.725806474685669,
          0.725806474685669,
          0.725806474685669,
          0.7338709831237793,
          0.7338709831237793,
          0.7338709831237793,
          0.725806474685669,
          0.7338709831237793,
          0.75,
          0.7419354915618896,
          0.75,
          0.7580645084381104,
          0.7580645084381104,
          0.7580645084381104,
          0.75,
          0.7419354915618896,
          0.7419354915618896,
          0.75,
          0.75,
          0.75,
          0.75,
          0.75,
          0.75,
          0.75,
          0.75,
          0.75,
          0.75,
          0.75,
          0.7580645084381104,
          0.7580645084381104,
          0.7580645084381104,
          0.7580645084381104,
          0.7580645084381104,
          0.7580645084381104,
          0.7419354915618896,
          0.7419354915618896,
          0.7580645084381104,
          0.7580645084381104,
          0.75,
          0.7419354915618896,
          0.7419354915618896,
          0.7419354915618896,
          0.7661290168762207,
          0.7661290168762207,
          0.774193525314331,
          0.7903226017951965,
          0.7661290168762207,
          0.774193525314331,
          0.774193525314331,
          0.7580645084381104,
          0.7822580933570862,
          0.7661290168762207,
          0.7580645084381104,
          0.7580645084381104,
          0.7903226017951965,
          0.774193525314331,
          0.774193525314331,
          0.7580645084381104,
          0.7661290168762207
         ]
        }
       ],
       "layout": {
        "template": {
         "data": {
          "bar": [
           {
            "error_x": {
             "color": "#2a3f5f"
            },
            "error_y": {
             "color": "#2a3f5f"
            },
            "marker": {
             "line": {
              "color": "#E5ECF6",
              "width": 0.5
             },
             "pattern": {
              "fillmode": "overlay",
              "size": 10,
              "solidity": 0.2
             }
            },
            "type": "bar"
           }
          ],
          "barpolar": [
           {
            "marker": {
             "line": {
              "color": "#E5ECF6",
              "width": 0.5
             },
             "pattern": {
              "fillmode": "overlay",
              "size": 10,
              "solidity": 0.2
             }
            },
            "type": "barpolar"
           }
          ],
          "carpet": [
           {
            "aaxis": {
             "endlinecolor": "#2a3f5f",
             "gridcolor": "white",
             "linecolor": "white",
             "minorgridcolor": "white",
             "startlinecolor": "#2a3f5f"
            },
            "baxis": {
             "endlinecolor": "#2a3f5f",
             "gridcolor": "white",
             "linecolor": "white",
             "minorgridcolor": "white",
             "startlinecolor": "#2a3f5f"
            },
            "type": "carpet"
           }
          ],
          "choropleth": [
           {
            "colorbar": {
             "outlinewidth": 0,
             "ticks": ""
            },
            "type": "choropleth"
           }
          ],
          "contour": [
           {
            "colorbar": {
             "outlinewidth": 0,
             "ticks": ""
            },
            "colorscale": [
             [
              0,
              "#0d0887"
             ],
             [
              0.1111111111111111,
              "#46039f"
             ],
             [
              0.2222222222222222,
              "#7201a8"
             ],
             [
              0.3333333333333333,
              "#9c179e"
             ],
             [
              0.4444444444444444,
              "#bd3786"
             ],
             [
              0.5555555555555556,
              "#d8576b"
             ],
             [
              0.6666666666666666,
              "#ed7953"
             ],
             [
              0.7777777777777778,
              "#fb9f3a"
             ],
             [
              0.8888888888888888,
              "#fdca26"
             ],
             [
              1,
              "#f0f921"
             ]
            ],
            "type": "contour"
           }
          ],
          "contourcarpet": [
           {
            "colorbar": {
             "outlinewidth": 0,
             "ticks": ""
            },
            "type": "contourcarpet"
           }
          ],
          "heatmap": [
           {
            "colorbar": {
             "outlinewidth": 0,
             "ticks": ""
            },
            "colorscale": [
             [
              0,
              "#0d0887"
             ],
             [
              0.1111111111111111,
              "#46039f"
             ],
             [
              0.2222222222222222,
              "#7201a8"
             ],
             [
              0.3333333333333333,
              "#9c179e"
             ],
             [
              0.4444444444444444,
              "#bd3786"
             ],
             [
              0.5555555555555556,
              "#d8576b"
             ],
             [
              0.6666666666666666,
              "#ed7953"
             ],
             [
              0.7777777777777778,
              "#fb9f3a"
             ],
             [
              0.8888888888888888,
              "#fdca26"
             ],
             [
              1,
              "#f0f921"
             ]
            ],
            "type": "heatmap"
           }
          ],
          "heatmapgl": [
           {
            "colorbar": {
             "outlinewidth": 0,
             "ticks": ""
            },
            "colorscale": [
             [
              0,
              "#0d0887"
             ],
             [
              0.1111111111111111,
              "#46039f"
             ],
             [
              0.2222222222222222,
              "#7201a8"
             ],
             [
              0.3333333333333333,
              "#9c179e"
             ],
             [
              0.4444444444444444,
              "#bd3786"
             ],
             [
              0.5555555555555556,
              "#d8576b"
             ],
             [
              0.6666666666666666,
              "#ed7953"
             ],
             [
              0.7777777777777778,
              "#fb9f3a"
             ],
             [
              0.8888888888888888,
              "#fdca26"
             ],
             [
              1,
              "#f0f921"
             ]
            ],
            "type": "heatmapgl"
           }
          ],
          "histogram": [
           {
            "marker": {
             "pattern": {
              "fillmode": "overlay",
              "size": 10,
              "solidity": 0.2
             }
            },
            "type": "histogram"
           }
          ],
          "histogram2d": [
           {
            "colorbar": {
             "outlinewidth": 0,
             "ticks": ""
            },
            "colorscale": [
             [
              0,
              "#0d0887"
             ],
             [
              0.1111111111111111,
              "#46039f"
             ],
             [
              0.2222222222222222,
              "#7201a8"
             ],
             [
              0.3333333333333333,
              "#9c179e"
             ],
             [
              0.4444444444444444,
              "#bd3786"
             ],
             [
              0.5555555555555556,
              "#d8576b"
             ],
             [
              0.6666666666666666,
              "#ed7953"
             ],
             [
              0.7777777777777778,
              "#fb9f3a"
             ],
             [
              0.8888888888888888,
              "#fdca26"
             ],
             [
              1,
              "#f0f921"
             ]
            ],
            "type": "histogram2d"
           }
          ],
          "histogram2dcontour": [
           {
            "colorbar": {
             "outlinewidth": 0,
             "ticks": ""
            },
            "colorscale": [
             [
              0,
              "#0d0887"
             ],
             [
              0.1111111111111111,
              "#46039f"
             ],
             [
              0.2222222222222222,
              "#7201a8"
             ],
             [
              0.3333333333333333,
              "#9c179e"
             ],
             [
              0.4444444444444444,
              "#bd3786"
             ],
             [
              0.5555555555555556,
              "#d8576b"
             ],
             [
              0.6666666666666666,
              "#ed7953"
             ],
             [
              0.7777777777777778,
              "#fb9f3a"
             ],
             [
              0.8888888888888888,
              "#fdca26"
             ],
             [
              1,
              "#f0f921"
             ]
            ],
            "type": "histogram2dcontour"
           }
          ],
          "mesh3d": [
           {
            "colorbar": {
             "outlinewidth": 0,
             "ticks": ""
            },
            "type": "mesh3d"
           }
          ],
          "parcoords": [
           {
            "line": {
             "colorbar": {
              "outlinewidth": 0,
              "ticks": ""
             }
            },
            "type": "parcoords"
           }
          ],
          "pie": [
           {
            "automargin": true,
            "type": "pie"
           }
          ],
          "scatter": [
           {
            "fillpattern": {
             "fillmode": "overlay",
             "size": 10,
             "solidity": 0.2
            },
            "type": "scatter"
           }
          ],
          "scatter3d": [
           {
            "line": {
             "colorbar": {
              "outlinewidth": 0,
              "ticks": ""
             }
            },
            "marker": {
             "colorbar": {
              "outlinewidth": 0,
              "ticks": ""
             }
            },
            "type": "scatter3d"
           }
          ],
          "scattercarpet": [
           {
            "marker": {
             "colorbar": {
              "outlinewidth": 0,
              "ticks": ""
             }
            },
            "type": "scattercarpet"
           }
          ],
          "scattergeo": [
           {
            "marker": {
             "colorbar": {
              "outlinewidth": 0,
              "ticks": ""
             }
            },
            "type": "scattergeo"
           }
          ],
          "scattergl": [
           {
            "marker": {
             "colorbar": {
              "outlinewidth": 0,
              "ticks": ""
             }
            },
            "type": "scattergl"
           }
          ],
          "scattermapbox": [
           {
            "marker": {
             "colorbar": {
              "outlinewidth": 0,
              "ticks": ""
             }
            },
            "type": "scattermapbox"
           }
          ],
          "scatterpolar": [
           {
            "marker": {
             "colorbar": {
              "outlinewidth": 0,
              "ticks": ""
             }
            },
            "type": "scatterpolar"
           }
          ],
          "scatterpolargl": [
           {
            "marker": {
             "colorbar": {
              "outlinewidth": 0,
              "ticks": ""
             }
            },
            "type": "scatterpolargl"
           }
          ],
          "scatterternary": [
           {
            "marker": {
             "colorbar": {
              "outlinewidth": 0,
              "ticks": ""
             }
            },
            "type": "scatterternary"
           }
          ],
          "surface": [
           {
            "colorbar": {
             "outlinewidth": 0,
             "ticks": ""
            },
            "colorscale": [
             [
              0,
              "#0d0887"
             ],
             [
              0.1111111111111111,
              "#46039f"
             ],
             [
              0.2222222222222222,
              "#7201a8"
             ],
             [
              0.3333333333333333,
              "#9c179e"
             ],
             [
              0.4444444444444444,
              "#bd3786"
             ],
             [
              0.5555555555555556,
              "#d8576b"
             ],
             [
              0.6666666666666666,
              "#ed7953"
             ],
             [
              0.7777777777777778,
              "#fb9f3a"
             ],
             [
              0.8888888888888888,
              "#fdca26"
             ],
             [
              1,
              "#f0f921"
             ]
            ],
            "type": "surface"
           }
          ],
          "table": [
           {
            "cells": {
             "fill": {
              "color": "#EBF0F8"
             },
             "line": {
              "color": "white"
             }
            },
            "header": {
             "fill": {
              "color": "#C8D4E3"
             },
             "line": {
              "color": "white"
             }
            },
            "type": "table"
           }
          ]
         },
         "layout": {
          "annotationdefaults": {
           "arrowcolor": "#2a3f5f",
           "arrowhead": 0,
           "arrowwidth": 1
          },
          "autotypenumbers": "strict",
          "coloraxis": {
           "colorbar": {
            "outlinewidth": 0,
            "ticks": ""
           }
          },
          "colorscale": {
           "diverging": [
            [
             0,
             "#8e0152"
            ],
            [
             0.1,
             "#c51b7d"
            ],
            [
             0.2,
             "#de77ae"
            ],
            [
             0.3,
             "#f1b6da"
            ],
            [
             0.4,
             "#fde0ef"
            ],
            [
             0.5,
             "#f7f7f7"
            ],
            [
             0.6,
             "#e6f5d0"
            ],
            [
             0.7,
             "#b8e186"
            ],
            [
             0.8,
             "#7fbc41"
            ],
            [
             0.9,
             "#4d9221"
            ],
            [
             1,
             "#276419"
            ]
           ],
           "sequential": [
            [
             0,
             "#0d0887"
            ],
            [
             0.1111111111111111,
             "#46039f"
            ],
            [
             0.2222222222222222,
             "#7201a8"
            ],
            [
             0.3333333333333333,
             "#9c179e"
            ],
            [
             0.4444444444444444,
             "#bd3786"
            ],
            [
             0.5555555555555556,
             "#d8576b"
            ],
            [
             0.6666666666666666,
             "#ed7953"
            ],
            [
             0.7777777777777778,
             "#fb9f3a"
            ],
            [
             0.8888888888888888,
             "#fdca26"
            ],
            [
             1,
             "#f0f921"
            ]
           ],
           "sequentialminus": [
            [
             0,
             "#0d0887"
            ],
            [
             0.1111111111111111,
             "#46039f"
            ],
            [
             0.2222222222222222,
             "#7201a8"
            ],
            [
             0.3333333333333333,
             "#9c179e"
            ],
            [
             0.4444444444444444,
             "#bd3786"
            ],
            [
             0.5555555555555556,
             "#d8576b"
            ],
            [
             0.6666666666666666,
             "#ed7953"
            ],
            [
             0.7777777777777778,
             "#fb9f3a"
            ],
            [
             0.8888888888888888,
             "#fdca26"
            ],
            [
             1,
             "#f0f921"
            ]
           ]
          },
          "colorway": [
           "#636efa",
           "#EF553B",
           "#00cc96",
           "#ab63fa",
           "#FFA15A",
           "#19d3f3",
           "#FF6692",
           "#B6E880",
           "#FF97FF",
           "#FECB52"
          ],
          "font": {
           "color": "#2a3f5f"
          },
          "geo": {
           "bgcolor": "white",
           "lakecolor": "white",
           "landcolor": "#E5ECF6",
           "showlakes": true,
           "showland": true,
           "subunitcolor": "white"
          },
          "hoverlabel": {
           "align": "left"
          },
          "hovermode": "closest",
          "mapbox": {
           "style": "light"
          },
          "paper_bgcolor": "white",
          "plot_bgcolor": "#E5ECF6",
          "polar": {
           "angularaxis": {
            "gridcolor": "white",
            "linecolor": "white",
            "ticks": ""
           },
           "bgcolor": "#E5ECF6",
           "radialaxis": {
            "gridcolor": "white",
            "linecolor": "white",
            "ticks": ""
           }
          },
          "scene": {
           "xaxis": {
            "backgroundcolor": "#E5ECF6",
            "gridcolor": "white",
            "gridwidth": 2,
            "linecolor": "white",
            "showbackground": true,
            "ticks": "",
            "zerolinecolor": "white"
           },
           "yaxis": {
            "backgroundcolor": "#E5ECF6",
            "gridcolor": "white",
            "gridwidth": 2,
            "linecolor": "white",
            "showbackground": true,
            "ticks": "",
            "zerolinecolor": "white"
           },
           "zaxis": {
            "backgroundcolor": "#E5ECF6",
            "gridcolor": "white",
            "gridwidth": 2,
            "linecolor": "white",
            "showbackground": true,
            "ticks": "",
            "zerolinecolor": "white"
           }
          },
          "shapedefaults": {
           "line": {
            "color": "#2a3f5f"
           }
          },
          "ternary": {
           "aaxis": {
            "gridcolor": "white",
            "linecolor": "white",
            "ticks": ""
           },
           "baxis": {
            "gridcolor": "white",
            "linecolor": "white",
            "ticks": ""
           },
           "bgcolor": "#E5ECF6",
           "caxis": {
            "gridcolor": "white",
            "linecolor": "white",
            "ticks": ""
           }
          },
          "title": {
           "x": 0.05
          },
          "xaxis": {
           "automargin": true,
           "gridcolor": "white",
           "linecolor": "white",
           "ticks": "",
           "title": {
            "standoff": 15
           },
           "zerolinecolor": "white",
           "zerolinewidth": 2
          },
          "yaxis": {
           "automargin": true,
           "gridcolor": "white",
           "linecolor": "white",
           "ticks": "",
           "title": {
            "standoff": 15
           },
           "zerolinecolor": "white",
           "zerolinewidth": 2
          }
         }
        },
        "title": {
         "text": "Accuracy"
        },
        "xaxis": {
         "title": {
          "text": "Epoch"
         }
        },
        "yaxis": {
         "title": {
          "text": "Accuracy"
         }
        }
       }
      }
     },
     "metadata": {},
     "output_type": "display_data"
    }
   ],
   "source": [
    "# plot accuracy\n",
    "fig = go.Figure()\n",
    "fig.add_trace(go.Scatter(y=lstm_history.history['accuracy'], mode='lines', name='accuracy'))\n",
    "fig.add_trace(go.Scatter(y=lstm_history.history['val_accuracy'], mode='lines', name='val_accuracy'))\n",
    "fig.update_layout(title='Accuracy', xaxis_title='Epoch', yaxis_title='Accuracy')\n",
    "fig.show()"
   ]
  },
  {
   "cell_type": "code",
   "execution_count": null,
   "metadata": {},
   "outputs": [],
   "source": []
  },
  {
   "cell_type": "markdown",
   "metadata": {},
   "source": [
    "### Results"
   ]
  },
  {
   "cell_type": "code",
   "execution_count": 31,
   "metadata": {},
   "outputs": [
    {
     "name": "stdout",
     "output_type": "stream",
     "text": [
      "                 model  accuracy  precision  recall      f1  roc_auc\n",
      "0  Logistic Regression    0.7952     0.7869  0.6957  0.7385   0.7808\n",
      "1                  SVM    0.8133     0.8393  0.6812  0.7520   0.7942\n",
      "2        Random Forest    0.9940     0.9857  1.0000  0.9928   0.9948\n",
      "3                 LSTM    0.7040     0.6386  0.8833  0.7413   0.7109\n",
      "4                  RNN    0.6800     0.6163  0.8833  0.7260   0.6878\n"
     ]
    }
   ],
   "source": [
    "print(results)"
   ]
  },
  {
   "cell_type": "code",
   "execution_count": null,
   "metadata": {},
   "outputs": [],
   "source": [
    "# plot comparative metrics for different models\n",
    "\n"
   ]
  },
  {
   "cell_type": "code",
   "execution_count": 35,
   "metadata": {},
   "outputs": [
    {
     "data": {
      "application/vnd.plotly.v1+json": {
       "config": {
        "plotlyServerURL": "https://plot.ly"
       },
       "data": [
        {
         "mode": "lines",
         "name": "baseline",
         "type": "scatter",
         "x": [
          0,
          1
         ],
         "y": [
          0,
          1
         ]
        },
        {
         "mode": "lines",
         "name": "baseline",
         "type": "scatter",
         "x": [
          0,
          1
         ],
         "y": [
          0.5,
          0.5
         ]
        },
        {
         "mode": "lines",
         "name": "baseline",
         "type": "scatter",
         "x": [
          0,
          1
         ],
         "y": [
          1,
          1
         ]
        },
        {
         "mode": "lines",
         "name": "Logistic Regression",
         "type": "scatter",
         "x": [
          0.7808,
          0.7942,
          0.9948,
          0.7109,
          0.6878
         ],
         "y": [
          0.7808,
          0.7942,
          0.9948,
          0.7109,
          0.6878
         ]
        },
        {
         "mode": "lines",
         "name": "SVM",
         "type": "scatter",
         "x": [
          0.7808,
          0.7942,
          0.9948,
          0.7109,
          0.6878
         ],
         "y": [
          0.7808,
          0.7942,
          0.9948,
          0.7109,
          0.6878
         ]
        },
        {
         "mode": "lines",
         "name": "Random Forest",
         "type": "scatter",
         "x": [
          0.7808,
          0.7942,
          0.9948,
          0.7109,
          0.6878
         ],
         "y": [
          0.7808,
          0.7942,
          0.9948,
          0.7109,
          0.6878
         ]
        },
        {
         "mode": "lines",
         "name": "LSTM",
         "type": "scatter",
         "x": [
          0.7808,
          0.7942,
          0.9948,
          0.7109,
          0.6878
         ],
         "y": [
          0.7808,
          0.7942,
          0.9948,
          0.7109,
          0.6878
         ]
        },
        {
         "mode": "lines",
         "name": "RNN",
         "type": "scatter",
         "x": [
          0.7808,
          0.7942,
          0.9948,
          0.7109,
          0.6878
         ],
         "y": [
          0.7808,
          0.7942,
          0.9948,
          0.7109,
          0.6878
         ]
        }
       ],
       "layout": {
        "template": {
         "data": {
          "bar": [
           {
            "error_x": {
             "color": "#2a3f5f"
            },
            "error_y": {
             "color": "#2a3f5f"
            },
            "marker": {
             "line": {
              "color": "#E5ECF6",
              "width": 0.5
             },
             "pattern": {
              "fillmode": "overlay",
              "size": 10,
              "solidity": 0.2
             }
            },
            "type": "bar"
           }
          ],
          "barpolar": [
           {
            "marker": {
             "line": {
              "color": "#E5ECF6",
              "width": 0.5
             },
             "pattern": {
              "fillmode": "overlay",
              "size": 10,
              "solidity": 0.2
             }
            },
            "type": "barpolar"
           }
          ],
          "carpet": [
           {
            "aaxis": {
             "endlinecolor": "#2a3f5f",
             "gridcolor": "white",
             "linecolor": "white",
             "minorgridcolor": "white",
             "startlinecolor": "#2a3f5f"
            },
            "baxis": {
             "endlinecolor": "#2a3f5f",
             "gridcolor": "white",
             "linecolor": "white",
             "minorgridcolor": "white",
             "startlinecolor": "#2a3f5f"
            },
            "type": "carpet"
           }
          ],
          "choropleth": [
           {
            "colorbar": {
             "outlinewidth": 0,
             "ticks": ""
            },
            "type": "choropleth"
           }
          ],
          "contour": [
           {
            "colorbar": {
             "outlinewidth": 0,
             "ticks": ""
            },
            "colorscale": [
             [
              0,
              "#0d0887"
             ],
             [
              0.1111111111111111,
              "#46039f"
             ],
             [
              0.2222222222222222,
              "#7201a8"
             ],
             [
              0.3333333333333333,
              "#9c179e"
             ],
             [
              0.4444444444444444,
              "#bd3786"
             ],
             [
              0.5555555555555556,
              "#d8576b"
             ],
             [
              0.6666666666666666,
              "#ed7953"
             ],
             [
              0.7777777777777778,
              "#fb9f3a"
             ],
             [
              0.8888888888888888,
              "#fdca26"
             ],
             [
              1,
              "#f0f921"
             ]
            ],
            "type": "contour"
           }
          ],
          "contourcarpet": [
           {
            "colorbar": {
             "outlinewidth": 0,
             "ticks": ""
            },
            "type": "contourcarpet"
           }
          ],
          "heatmap": [
           {
            "colorbar": {
             "outlinewidth": 0,
             "ticks": ""
            },
            "colorscale": [
             [
              0,
              "#0d0887"
             ],
             [
              0.1111111111111111,
              "#46039f"
             ],
             [
              0.2222222222222222,
              "#7201a8"
             ],
             [
              0.3333333333333333,
              "#9c179e"
             ],
             [
              0.4444444444444444,
              "#bd3786"
             ],
             [
              0.5555555555555556,
              "#d8576b"
             ],
             [
              0.6666666666666666,
              "#ed7953"
             ],
             [
              0.7777777777777778,
              "#fb9f3a"
             ],
             [
              0.8888888888888888,
              "#fdca26"
             ],
             [
              1,
              "#f0f921"
             ]
            ],
            "type": "heatmap"
           }
          ],
          "heatmapgl": [
           {
            "colorbar": {
             "outlinewidth": 0,
             "ticks": ""
            },
            "colorscale": [
             [
              0,
              "#0d0887"
             ],
             [
              0.1111111111111111,
              "#46039f"
             ],
             [
              0.2222222222222222,
              "#7201a8"
             ],
             [
              0.3333333333333333,
              "#9c179e"
             ],
             [
              0.4444444444444444,
              "#bd3786"
             ],
             [
              0.5555555555555556,
              "#d8576b"
             ],
             [
              0.6666666666666666,
              "#ed7953"
             ],
             [
              0.7777777777777778,
              "#fb9f3a"
             ],
             [
              0.8888888888888888,
              "#fdca26"
             ],
             [
              1,
              "#f0f921"
             ]
            ],
            "type": "heatmapgl"
           }
          ],
          "histogram": [
           {
            "marker": {
             "pattern": {
              "fillmode": "overlay",
              "size": 10,
              "solidity": 0.2
             }
            },
            "type": "histogram"
           }
          ],
          "histogram2d": [
           {
            "colorbar": {
             "outlinewidth": 0,
             "ticks": ""
            },
            "colorscale": [
             [
              0,
              "#0d0887"
             ],
             [
              0.1111111111111111,
              "#46039f"
             ],
             [
              0.2222222222222222,
              "#7201a8"
             ],
             [
              0.3333333333333333,
              "#9c179e"
             ],
             [
              0.4444444444444444,
              "#bd3786"
             ],
             [
              0.5555555555555556,
              "#d8576b"
             ],
             [
              0.6666666666666666,
              "#ed7953"
             ],
             [
              0.7777777777777778,
              "#fb9f3a"
             ],
             [
              0.8888888888888888,
              "#fdca26"
             ],
             [
              1,
              "#f0f921"
             ]
            ],
            "type": "histogram2d"
           }
          ],
          "histogram2dcontour": [
           {
            "colorbar": {
             "outlinewidth": 0,
             "ticks": ""
            },
            "colorscale": [
             [
              0,
              "#0d0887"
             ],
             [
              0.1111111111111111,
              "#46039f"
             ],
             [
              0.2222222222222222,
              "#7201a8"
             ],
             [
              0.3333333333333333,
              "#9c179e"
             ],
             [
              0.4444444444444444,
              "#bd3786"
             ],
             [
              0.5555555555555556,
              "#d8576b"
             ],
             [
              0.6666666666666666,
              "#ed7953"
             ],
             [
              0.7777777777777778,
              "#fb9f3a"
             ],
             [
              0.8888888888888888,
              "#fdca26"
             ],
             [
              1,
              "#f0f921"
             ]
            ],
            "type": "histogram2dcontour"
           }
          ],
          "mesh3d": [
           {
            "colorbar": {
             "outlinewidth": 0,
             "ticks": ""
            },
            "type": "mesh3d"
           }
          ],
          "parcoords": [
           {
            "line": {
             "colorbar": {
              "outlinewidth": 0,
              "ticks": ""
             }
            },
            "type": "parcoords"
           }
          ],
          "pie": [
           {
            "automargin": true,
            "type": "pie"
           }
          ],
          "scatter": [
           {
            "fillpattern": {
             "fillmode": "overlay",
             "size": 10,
             "solidity": 0.2
            },
            "type": "scatter"
           }
          ],
          "scatter3d": [
           {
            "line": {
             "colorbar": {
              "outlinewidth": 0,
              "ticks": ""
             }
            },
            "marker": {
             "colorbar": {
              "outlinewidth": 0,
              "ticks": ""
             }
            },
            "type": "scatter3d"
           }
          ],
          "scattercarpet": [
           {
            "marker": {
             "colorbar": {
              "outlinewidth": 0,
              "ticks": ""
             }
            },
            "type": "scattercarpet"
           }
          ],
          "scattergeo": [
           {
            "marker": {
             "colorbar": {
              "outlinewidth": 0,
              "ticks": ""
             }
            },
            "type": "scattergeo"
           }
          ],
          "scattergl": [
           {
            "marker": {
             "colorbar": {
              "outlinewidth": 0,
              "ticks": ""
             }
            },
            "type": "scattergl"
           }
          ],
          "scattermapbox": [
           {
            "marker": {
             "colorbar": {
              "outlinewidth": 0,
              "ticks": ""
             }
            },
            "type": "scattermapbox"
           }
          ],
          "scatterpolar": [
           {
            "marker": {
             "colorbar": {
              "outlinewidth": 0,
              "ticks": ""
             }
            },
            "type": "scatterpolar"
           }
          ],
          "scatterpolargl": [
           {
            "marker": {
             "colorbar": {
              "outlinewidth": 0,
              "ticks": ""
             }
            },
            "type": "scatterpolargl"
           }
          ],
          "scatterternary": [
           {
            "marker": {
             "colorbar": {
              "outlinewidth": 0,
              "ticks": ""
             }
            },
            "type": "scatterternary"
           }
          ],
          "surface": [
           {
            "colorbar": {
             "outlinewidth": 0,
             "ticks": ""
            },
            "colorscale": [
             [
              0,
              "#0d0887"
             ],
             [
              0.1111111111111111,
              "#46039f"
             ],
             [
              0.2222222222222222,
              "#7201a8"
             ],
             [
              0.3333333333333333,
              "#9c179e"
             ],
             [
              0.4444444444444444,
              "#bd3786"
             ],
             [
              0.5555555555555556,
              "#d8576b"
             ],
             [
              0.6666666666666666,
              "#ed7953"
             ],
             [
              0.7777777777777778,
              "#fb9f3a"
             ],
             [
              0.8888888888888888,
              "#fdca26"
             ],
             [
              1,
              "#f0f921"
             ]
            ],
            "type": "surface"
           }
          ],
          "table": [
           {
            "cells": {
             "fill": {
              "color": "#EBF0F8"
             },
             "line": {
              "color": "white"
             }
            },
            "header": {
             "fill": {
              "color": "#C8D4E3"
             },
             "line": {
              "color": "white"
             }
            },
            "type": "table"
           }
          ]
         },
         "layout": {
          "annotationdefaults": {
           "arrowcolor": "#2a3f5f",
           "arrowhead": 0,
           "arrowwidth": 1
          },
          "autotypenumbers": "strict",
          "coloraxis": {
           "colorbar": {
            "outlinewidth": 0,
            "ticks": ""
           }
          },
          "colorscale": {
           "diverging": [
            [
             0,
             "#8e0152"
            ],
            [
             0.1,
             "#c51b7d"
            ],
            [
             0.2,
             "#de77ae"
            ],
            [
             0.3,
             "#f1b6da"
            ],
            [
             0.4,
             "#fde0ef"
            ],
            [
             0.5,
             "#f7f7f7"
            ],
            [
             0.6,
             "#e6f5d0"
            ],
            [
             0.7,
             "#b8e186"
            ],
            [
             0.8,
             "#7fbc41"
            ],
            [
             0.9,
             "#4d9221"
            ],
            [
             1,
             "#276419"
            ]
           ],
           "sequential": [
            [
             0,
             "#0d0887"
            ],
            [
             0.1111111111111111,
             "#46039f"
            ],
            [
             0.2222222222222222,
             "#7201a8"
            ],
            [
             0.3333333333333333,
             "#9c179e"
            ],
            [
             0.4444444444444444,
             "#bd3786"
            ],
            [
             0.5555555555555556,
             "#d8576b"
            ],
            [
             0.6666666666666666,
             "#ed7953"
            ],
            [
             0.7777777777777778,
             "#fb9f3a"
            ],
            [
             0.8888888888888888,
             "#fdca26"
            ],
            [
             1,
             "#f0f921"
            ]
           ],
           "sequentialminus": [
            [
             0,
             "#0d0887"
            ],
            [
             0.1111111111111111,
             "#46039f"
            ],
            [
             0.2222222222222222,
             "#7201a8"
            ],
            [
             0.3333333333333333,
             "#9c179e"
            ],
            [
             0.4444444444444444,
             "#bd3786"
            ],
            [
             0.5555555555555556,
             "#d8576b"
            ],
            [
             0.6666666666666666,
             "#ed7953"
            ],
            [
             0.7777777777777778,
             "#fb9f3a"
            ],
            [
             0.8888888888888888,
             "#fdca26"
            ],
            [
             1,
             "#f0f921"
            ]
           ]
          },
          "colorway": [
           "#636efa",
           "#EF553B",
           "#00cc96",
           "#ab63fa",
           "#FFA15A",
           "#19d3f3",
           "#FF6692",
           "#B6E880",
           "#FF97FF",
           "#FECB52"
          ],
          "font": {
           "color": "#2a3f5f"
          },
          "geo": {
           "bgcolor": "white",
           "lakecolor": "white",
           "landcolor": "#E5ECF6",
           "showlakes": true,
           "showland": true,
           "subunitcolor": "white"
          },
          "hoverlabel": {
           "align": "left"
          },
          "hovermode": "closest",
          "mapbox": {
           "style": "light"
          },
          "paper_bgcolor": "white",
          "plot_bgcolor": "#E5ECF6",
          "polar": {
           "angularaxis": {
            "gridcolor": "white",
            "linecolor": "white",
            "ticks": ""
           },
           "bgcolor": "#E5ECF6",
           "radialaxis": {
            "gridcolor": "white",
            "linecolor": "white",
            "ticks": ""
           }
          },
          "scene": {
           "xaxis": {
            "backgroundcolor": "#E5ECF6",
            "gridcolor": "white",
            "gridwidth": 2,
            "linecolor": "white",
            "showbackground": true,
            "ticks": "",
            "zerolinecolor": "white"
           },
           "yaxis": {
            "backgroundcolor": "#E5ECF6",
            "gridcolor": "white",
            "gridwidth": 2,
            "linecolor": "white",
            "showbackground": true,
            "ticks": "",
            "zerolinecolor": "white"
           },
           "zaxis": {
            "backgroundcolor": "#E5ECF6",
            "gridcolor": "white",
            "gridwidth": 2,
            "linecolor": "white",
            "showbackground": true,
            "ticks": "",
            "zerolinecolor": "white"
           }
          },
          "shapedefaults": {
           "line": {
            "color": "#2a3f5f"
           }
          },
          "ternary": {
           "aaxis": {
            "gridcolor": "white",
            "linecolor": "white",
            "ticks": ""
           },
           "baxis": {
            "gridcolor": "white",
            "linecolor": "white",
            "ticks": ""
           },
           "bgcolor": "#E5ECF6",
           "caxis": {
            "gridcolor": "white",
            "linecolor": "white",
            "ticks": ""
           }
          },
          "title": {
           "x": 0.05
          },
          "xaxis": {
           "automargin": true,
           "gridcolor": "white",
           "linecolor": "white",
           "ticks": "",
           "title": {
            "standoff": 15
           },
           "zerolinecolor": "white",
           "zerolinewidth": 2
          },
          "yaxis": {
           "automargin": true,
           "gridcolor": "white",
           "linecolor": "white",
           "ticks": "",
           "title": {
            "standoff": 15
           },
           "zerolinecolor": "white",
           "zerolinewidth": 2
          }
         }
        },
        "title": {
         "text": "ROC-AUC"
        },
        "xaxis": {
         "title": {
          "text": "False Positive Rate"
         }
        },
        "yaxis": {
         "title": {
          "text": "True Positive Rate"
         }
        }
       }
      }
     },
     "metadata": {},
     "output_type": "display_data"
    }
   ],
   "source": [
    "# plot roc_auc by models\n",
    "# x, y from 0 to 1\n",
    "\n",
    "fig = go.Figure()\n",
    "fig.add_trace(go.Scatter(x=[0, 1], y=[0, 1],\n",
    "                    mode='lines',\n",
    "                    name='baseline'))\n",
    "fig.add_trace(go.Scatter(x=[0, 1], y=[0.5, 0.5],\n",
    "                    mode='lines',\n",
    "                    name='baseline'))\n",
    "fig.add_trace(go.Scatter(x=[0, 1], y=[1, 1],\n",
    "                    mode='lines',\n",
    "                    name='baseline'))\n",
    "\n",
    "# add roc_auc from results df\n",
    "for model in results['model'].unique():\n",
    "    df = results[results['model'] == model]\n",
    "    fig.add_trace(go.Scatter(x=results['roc_auc'], y=results['roc_auc'],\n",
    "                    mode='lines',\n",
    "                    name=model))\n",
    "\n",
    "fig.update_layout(title='ROC-AUC',\n",
    "                     xaxis_title='False Positive Rate',\n",
    "                     yaxis_title='True Positive Rate')\n",
    "fig.show()\n"
   ]
  }
 ],
 "metadata": {
  "kernelspec": {
   "display_name": "corporate-bankruptcy",
   "language": "python",
   "name": "python3"
  },
  "language_info": {
   "codemirror_mode": {
    "name": "ipython",
    "version": 3
   },
   "file_extension": ".py",
   "mimetype": "text/x-python",
   "name": "python",
   "nbconvert_exporter": "python",
   "pygments_lexer": "ipython3",
   "version": "3.11.3"
  },
  "orig_nbformat": 4
 },
 "nbformat": 4,
 "nbformat_minor": 2
}
