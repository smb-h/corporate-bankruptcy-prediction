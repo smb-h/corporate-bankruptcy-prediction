{
 "cells": [
  {
   "cell_type": "code",
   "execution_count": 46,
   "metadata": {},
   "outputs": [],
   "source": [
    "import pandas as pd\n",
    "import numpy as np\n",
    "import plotly.graph_objects as go\n",
    "import plotly.express as px\n",
    "from sklearn.preprocessing import LabelEncoder\n",
    "from sklearn.preprocessing import MinMaxScaler\n",
    "from tensorflow import keras\n",
    "from keras.layers import GRU , Dense\n"
   ]
  },
  {
   "cell_type": "code",
   "execution_count": 47,
   "metadata": {},
   "outputs": [
    {
     "name": "stdout",
     "output_type": "stream",
     "text": [
      "(899, 828)\n"
     ]
    },
    {
     "data": {
      "text/html": [
       "<div>\n",
       "<style scoped>\n",
       "    .dataframe tbody tr th:only-of-type {\n",
       "        vertical-align: middle;\n",
       "    }\n",
       "\n",
       "    .dataframe tbody tr th {\n",
       "        vertical-align: top;\n",
       "    }\n",
       "\n",
       "    .dataframe thead th {\n",
       "        text-align: right;\n",
       "    }\n",
       "</style>\n",
       "<table border=\"1\" class=\"dataframe\">\n",
       "  <thead>\n",
       "    <tr style=\"text-align: right;\">\n",
       "      <th></th>\n",
       "      <th>Custom-Return_1390</th>\n",
       "      <th>EPS_MRQ_LC_1390</th>\n",
       "      <th>EPS_TTM_1390</th>\n",
       "      <th>EPS_MRQ_1390</th>\n",
       "      <th>EPS_FY_1390</th>\n",
       "      <th>Rev_TTM_1390</th>\n",
       "      <th>Rev_MRQ_1390</th>\n",
       "      <th>Rev_FY_1390</th>\n",
       "      <th>NI_TTM_1390</th>\n",
       "      <th>NI_MRQ_1390</th>\n",
       "      <th>...</th>\n",
       "      <th>ETR_1401</th>\n",
       "      <th>CFOToRev_1401</th>\n",
       "      <th>CFOToDebt_1401</th>\n",
       "      <th>FCFFToRev_1401</th>\n",
       "      <th>FCFFToNI_1401</th>\n",
       "      <th>FCFEToRev_1401</th>\n",
       "      <th>FCFEToNI_1401</th>\n",
       "      <th>CAPEXToRev_1401</th>\n",
       "      <th>CAPEXToNI_1401</th>\n",
       "      <th>DivYield_1401</th>\n",
       "    </tr>\n",
       "  </thead>\n",
       "  <tbody>\n",
       "    <tr>\n",
       "      <th>0</th>\n",
       "      <td>NaN</td>\n",
       "      <td>11.3750</td>\n",
       "      <td>83.0</td>\n",
       "      <td>11.0</td>\n",
       "      <td>24.0</td>\n",
       "      <td>1.917455e+12</td>\n",
       "      <td>8.399880e+11</td>\n",
       "      <td>1.685499e+12</td>\n",
       "      <td>8.266700e+10</td>\n",
       "      <td>1.137500e+10</td>\n",
       "      <td>...</td>\n",
       "      <td>0.0041</td>\n",
       "      <td>-0.0810</td>\n",
       "      <td>-0.0616</td>\n",
       "      <td>-0.0684</td>\n",
       "      <td>-1.7557</td>\n",
       "      <td>0.0220</td>\n",
       "      <td>0.0689</td>\n",
       "      <td>-0.0123</td>\n",
       "      <td>-0.3158</td>\n",
       "      <td>0.0021</td>\n",
       "    </tr>\n",
       "    <tr>\n",
       "      <th>1</th>\n",
       "      <td>0.208274</td>\n",
       "      <td>117.4437</td>\n",
       "      <td>295.0</td>\n",
       "      <td>117.0</td>\n",
       "      <td>295.0</td>\n",
       "      <td>9.046040e+12</td>\n",
       "      <td>2.474342e+12</td>\n",
       "      <td>9.046040e+12</td>\n",
       "      <td>7.951730e+11</td>\n",
       "      <td>3.170980e+11</td>\n",
       "      <td>...</td>\n",
       "      <td>0.1370</td>\n",
       "      <td>0.0267</td>\n",
       "      <td>0.0746</td>\n",
       "      <td>0.0082</td>\n",
       "      <td>0.0930</td>\n",
       "      <td>0.0305</td>\n",
       "      <td>0.3474</td>\n",
       "      <td>0.0187</td>\n",
       "      <td>0.2122</td>\n",
       "      <td>0.0073</td>\n",
       "    </tr>\n",
       "    <tr>\n",
       "      <th>2</th>\n",
       "      <td>NaN</td>\n",
       "      <td>88.7262</td>\n",
       "      <td>406.0</td>\n",
       "      <td>89.0</td>\n",
       "      <td>384.0</td>\n",
       "      <td>6.988662e+12</td>\n",
       "      <td>1.702216e+12</td>\n",
       "      <td>6.914857e+12</td>\n",
       "      <td>9.131650e+11</td>\n",
       "      <td>1.996340e+11</td>\n",
       "      <td>...</td>\n",
       "      <td>0.1034</td>\n",
       "      <td>0.0433</td>\n",
       "      <td>0.1469</td>\n",
       "      <td>0.0697</td>\n",
       "      <td>0.5587</td>\n",
       "      <td>0.0757</td>\n",
       "      <td>0.6061</td>\n",
       "      <td>0.0050</td>\n",
       "      <td>0.0402</td>\n",
       "      <td>0.0048</td>\n",
       "    </tr>\n",
       "    <tr>\n",
       "      <th>3</th>\n",
       "      <td>-0.481625</td>\n",
       "      <td>-125.1184</td>\n",
       "      <td>-113.0</td>\n",
       "      <td>-125.0</td>\n",
       "      <td>-113.0</td>\n",
       "      <td>2.991100e+10</td>\n",
       "      <td>7.170000e+08</td>\n",
       "      <td>2.991100e+10</td>\n",
       "      <td>-2.570900e+10</td>\n",
       "      <td>-2.852700e+10</td>\n",
       "      <td>...</td>\n",
       "      <td>NaN</td>\n",
       "      <td>-0.5435</td>\n",
       "      <td>-0.0327</td>\n",
       "      <td>-0.6303</td>\n",
       "      <td>NaN</td>\n",
       "      <td>-0.6316</td>\n",
       "      <td>NaN</td>\n",
       "      <td>0.0869</td>\n",
       "      <td>-0.3459</td>\n",
       "      <td>NaN</td>\n",
       "    </tr>\n",
       "    <tr>\n",
       "      <th>4</th>\n",
       "      <td>NaN</td>\n",
       "      <td>NaN</td>\n",
       "      <td>NaN</td>\n",
       "      <td>NaN</td>\n",
       "      <td>NaN</td>\n",
       "      <td>NaN</td>\n",
       "      <td>NaN</td>\n",
       "      <td>NaN</td>\n",
       "      <td>NaN</td>\n",
       "      <td>NaN</td>\n",
       "      <td>...</td>\n",
       "      <td>NaN</td>\n",
       "      <td>NaN</td>\n",
       "      <td>NaN</td>\n",
       "      <td>NaN</td>\n",
       "      <td>NaN</td>\n",
       "      <td>NaN</td>\n",
       "      <td>NaN</td>\n",
       "      <td>NaN</td>\n",
       "      <td>NaN</td>\n",
       "      <td>NaN</td>\n",
       "    </tr>\n",
       "  </tbody>\n",
       "</table>\n",
       "<p>5 rows × 828 columns</p>\n",
       "</div>"
      ],
      "text/plain": [
       "   Custom-Return_1390  EPS_MRQ_LC_1390  EPS_TTM_1390  EPS_MRQ_1390  \\\n",
       "0                 NaN          11.3750          83.0          11.0   \n",
       "1            0.208274         117.4437         295.0         117.0   \n",
       "2                 NaN          88.7262         406.0          89.0   \n",
       "3           -0.481625        -125.1184        -113.0        -125.0   \n",
       "4                 NaN              NaN           NaN           NaN   \n",
       "\n",
       "   EPS_FY_1390  Rev_TTM_1390  Rev_MRQ_1390   Rev_FY_1390   NI_TTM_1390  \\\n",
       "0         24.0  1.917455e+12  8.399880e+11  1.685499e+12  8.266700e+10   \n",
       "1        295.0  9.046040e+12  2.474342e+12  9.046040e+12  7.951730e+11   \n",
       "2        384.0  6.988662e+12  1.702216e+12  6.914857e+12  9.131650e+11   \n",
       "3       -113.0  2.991100e+10  7.170000e+08  2.991100e+10 -2.570900e+10   \n",
       "4          NaN           NaN           NaN           NaN           NaN   \n",
       "\n",
       "    NI_MRQ_1390  ...  ETR_1401  CFOToRev_1401  CFOToDebt_1401  FCFFToRev_1401  \\\n",
       "0  1.137500e+10  ...    0.0041        -0.0810         -0.0616         -0.0684   \n",
       "1  3.170980e+11  ...    0.1370         0.0267          0.0746          0.0082   \n",
       "2  1.996340e+11  ...    0.1034         0.0433          0.1469          0.0697   \n",
       "3 -2.852700e+10  ...       NaN        -0.5435         -0.0327         -0.6303   \n",
       "4           NaN  ...       NaN            NaN             NaN             NaN   \n",
       "\n",
       "   FCFFToNI_1401  FCFEToRev_1401  FCFEToNI_1401  CAPEXToRev_1401  \\\n",
       "0        -1.7557          0.0220         0.0689          -0.0123   \n",
       "1         0.0930          0.0305         0.3474           0.0187   \n",
       "2         0.5587          0.0757         0.6061           0.0050   \n",
       "3            NaN         -0.6316            NaN           0.0869   \n",
       "4            NaN             NaN            NaN              NaN   \n",
       "\n",
       "   CAPEXToNI_1401  DivYield_1401  \n",
       "0         -0.3158         0.0021  \n",
       "1          0.2122         0.0073  \n",
       "2          0.0402         0.0048  \n",
       "3         -0.3459            NaN  \n",
       "4             NaN            NaN  \n",
       "\n",
       "[5 rows x 828 columns]"
      ]
     },
     "execution_count": 47,
     "metadata": {},
     "output_type": "execute_result"
    }
   ],
   "source": [
    "df = pd.read_excel(\"D:/Saham/penv/data.xlsx\")\n",
    "df = df.rename(columns={'Conclusion': 'y'})\n",
    "df = df.drop(columns=['Company'] , axis=1)\n",
    "df = df.replace('-', np.nan)\n",
    "print(df.shape)\n",
    "df.head()"
   ]
  },
  {
   "cell_type": "code",
   "execution_count": 48,
   "metadata": {},
   "outputs": [
    {
     "data": {
      "text/html": [
       "<div>\n",
       "<style scoped>\n",
       "    .dataframe tbody tr th:only-of-type {\n",
       "        vertical-align: middle;\n",
       "    }\n",
       "\n",
       "    .dataframe tbody tr th {\n",
       "        vertical-align: top;\n",
       "    }\n",
       "\n",
       "    .dataframe thead th {\n",
       "        text-align: right;\n",
       "    }\n",
       "</style>\n",
       "<table border=\"1\" class=\"dataframe\">\n",
       "  <thead>\n",
       "    <tr style=\"text-align: right;\">\n",
       "      <th></th>\n",
       "      <th>Custom-Return_1390</th>\n",
       "      <th>EPS_MRQ_LC_1390</th>\n",
       "      <th>EPS_TTM_1390</th>\n",
       "      <th>EPS_MRQ_1390</th>\n",
       "      <th>EPS_FY_1390</th>\n",
       "      <th>Rev_TTM_1390</th>\n",
       "      <th>Rev_MRQ_1390</th>\n",
       "      <th>Rev_FY_1390</th>\n",
       "      <th>NI_TTM_1390</th>\n",
       "      <th>NI_MRQ_1390</th>\n",
       "      <th>...</th>\n",
       "      <th>ETR_1401</th>\n",
       "      <th>CFOToRev_1401</th>\n",
       "      <th>CFOToDebt_1401</th>\n",
       "      <th>FCFFToRev_1401</th>\n",
       "      <th>FCFFToNI_1401</th>\n",
       "      <th>FCFEToRev_1401</th>\n",
       "      <th>FCFEToNI_1401</th>\n",
       "      <th>CAPEXToRev_1401</th>\n",
       "      <th>CAPEXToNI_1401</th>\n",
       "      <th>DivYield_1401</th>\n",
       "    </tr>\n",
       "  </thead>\n",
       "  <tbody>\n",
       "    <tr>\n",
       "      <th>0</th>\n",
       "      <td>NaN</td>\n",
       "      <td>11.3750</td>\n",
       "      <td>83.0</td>\n",
       "      <td>11.0</td>\n",
       "      <td>24.0</td>\n",
       "      <td>1.917455e+12</td>\n",
       "      <td>8.399880e+11</td>\n",
       "      <td>1.685499e+12</td>\n",
       "      <td>8.266700e+10</td>\n",
       "      <td>1.137500e+10</td>\n",
       "      <td>...</td>\n",
       "      <td>0.0041</td>\n",
       "      <td>-0.0810</td>\n",
       "      <td>-0.0616</td>\n",
       "      <td>-0.0684</td>\n",
       "      <td>-1.7557</td>\n",
       "      <td>0.0220</td>\n",
       "      <td>0.0689</td>\n",
       "      <td>-0.0123</td>\n",
       "      <td>-0.3158</td>\n",
       "      <td>0.0021</td>\n",
       "    </tr>\n",
       "    <tr>\n",
       "      <th>1</th>\n",
       "      <td>0.208274</td>\n",
       "      <td>117.4437</td>\n",
       "      <td>295.0</td>\n",
       "      <td>117.0</td>\n",
       "      <td>295.0</td>\n",
       "      <td>9.046040e+12</td>\n",
       "      <td>2.474342e+12</td>\n",
       "      <td>9.046040e+12</td>\n",
       "      <td>7.951730e+11</td>\n",
       "      <td>3.170980e+11</td>\n",
       "      <td>...</td>\n",
       "      <td>0.1370</td>\n",
       "      <td>0.0267</td>\n",
       "      <td>0.0746</td>\n",
       "      <td>0.0082</td>\n",
       "      <td>0.0930</td>\n",
       "      <td>0.0305</td>\n",
       "      <td>0.3474</td>\n",
       "      <td>0.0187</td>\n",
       "      <td>0.2122</td>\n",
       "      <td>0.0073</td>\n",
       "    </tr>\n",
       "    <tr>\n",
       "      <th>2</th>\n",
       "      <td>NaN</td>\n",
       "      <td>88.7262</td>\n",
       "      <td>406.0</td>\n",
       "      <td>89.0</td>\n",
       "      <td>384.0</td>\n",
       "      <td>6.988662e+12</td>\n",
       "      <td>1.702216e+12</td>\n",
       "      <td>6.914857e+12</td>\n",
       "      <td>9.131650e+11</td>\n",
       "      <td>1.996340e+11</td>\n",
       "      <td>...</td>\n",
       "      <td>0.1034</td>\n",
       "      <td>0.0433</td>\n",
       "      <td>0.1469</td>\n",
       "      <td>0.0697</td>\n",
       "      <td>0.5587</td>\n",
       "      <td>0.0757</td>\n",
       "      <td>0.6061</td>\n",
       "      <td>0.0050</td>\n",
       "      <td>0.0402</td>\n",
       "      <td>0.0048</td>\n",
       "    </tr>\n",
       "    <tr>\n",
       "      <th>3</th>\n",
       "      <td>-0.481625</td>\n",
       "      <td>-125.1184</td>\n",
       "      <td>-113.0</td>\n",
       "      <td>-125.0</td>\n",
       "      <td>-113.0</td>\n",
       "      <td>2.991100e+10</td>\n",
       "      <td>7.170000e+08</td>\n",
       "      <td>2.991100e+10</td>\n",
       "      <td>-2.570900e+10</td>\n",
       "      <td>-2.852700e+10</td>\n",
       "      <td>...</td>\n",
       "      <td>NaN</td>\n",
       "      <td>-0.5435</td>\n",
       "      <td>-0.0327</td>\n",
       "      <td>-0.6303</td>\n",
       "      <td>NaN</td>\n",
       "      <td>-0.6316</td>\n",
       "      <td>NaN</td>\n",
       "      <td>0.0869</td>\n",
       "      <td>-0.3459</td>\n",
       "      <td>NaN</td>\n",
       "    </tr>\n",
       "    <tr>\n",
       "      <th>4</th>\n",
       "      <td>NaN</td>\n",
       "      <td>NaN</td>\n",
       "      <td>NaN</td>\n",
       "      <td>NaN</td>\n",
       "      <td>NaN</td>\n",
       "      <td>NaN</td>\n",
       "      <td>NaN</td>\n",
       "      <td>NaN</td>\n",
       "      <td>NaN</td>\n",
       "      <td>NaN</td>\n",
       "      <td>...</td>\n",
       "      <td>NaN</td>\n",
       "      <td>NaN</td>\n",
       "      <td>NaN</td>\n",
       "      <td>NaN</td>\n",
       "      <td>NaN</td>\n",
       "      <td>NaN</td>\n",
       "      <td>NaN</td>\n",
       "      <td>NaN</td>\n",
       "      <td>NaN</td>\n",
       "      <td>NaN</td>\n",
       "    </tr>\n",
       "  </tbody>\n",
       "</table>\n",
       "<p>5 rows × 828 columns</p>\n",
       "</div>"
      ],
      "text/plain": [
       "   Custom-Return_1390  EPS_MRQ_LC_1390  EPS_TTM_1390  EPS_MRQ_1390  \\\n",
       "0                 NaN          11.3750          83.0          11.0   \n",
       "1            0.208274         117.4437         295.0         117.0   \n",
       "2                 NaN          88.7262         406.0          89.0   \n",
       "3           -0.481625        -125.1184        -113.0        -125.0   \n",
       "4                 NaN              NaN           NaN           NaN   \n",
       "\n",
       "   EPS_FY_1390  Rev_TTM_1390  Rev_MRQ_1390   Rev_FY_1390   NI_TTM_1390  \\\n",
       "0         24.0  1.917455e+12  8.399880e+11  1.685499e+12  8.266700e+10   \n",
       "1        295.0  9.046040e+12  2.474342e+12  9.046040e+12  7.951730e+11   \n",
       "2        384.0  6.988662e+12  1.702216e+12  6.914857e+12  9.131650e+11   \n",
       "3       -113.0  2.991100e+10  7.170000e+08  2.991100e+10 -2.570900e+10   \n",
       "4          NaN           NaN           NaN           NaN           NaN   \n",
       "\n",
       "    NI_MRQ_1390  ...  ETR_1401  CFOToRev_1401  CFOToDebt_1401  FCFFToRev_1401  \\\n",
       "0  1.137500e+10  ...    0.0041        -0.0810         -0.0616         -0.0684   \n",
       "1  3.170980e+11  ...    0.1370         0.0267          0.0746          0.0082   \n",
       "2  1.996340e+11  ...    0.1034         0.0433          0.1469          0.0697   \n",
       "3 -2.852700e+10  ...       NaN        -0.5435         -0.0327         -0.6303   \n",
       "4           NaN  ...       NaN            NaN             NaN             NaN   \n",
       "\n",
       "   FCFFToNI_1401  FCFEToRev_1401  FCFEToNI_1401  CAPEXToRev_1401  \\\n",
       "0        -1.7557          0.0220         0.0689          -0.0123   \n",
       "1         0.0930          0.0305         0.3474           0.0187   \n",
       "2         0.5587          0.0757         0.6061           0.0050   \n",
       "3            NaN         -0.6316            NaN           0.0869   \n",
       "4            NaN             NaN            NaN              NaN   \n",
       "\n",
       "   CAPEXToNI_1401  DivYield_1401  \n",
       "0         -0.3158         0.0021  \n",
       "1          0.2122         0.0073  \n",
       "2          0.0402         0.0048  \n",
       "3         -0.3459            NaN  \n",
       "4             NaN            NaN  \n",
       "\n",
       "[5 rows x 828 columns]"
      ]
     },
     "execution_count": 48,
     "metadata": {},
     "output_type": "execute_result"
    }
   ],
   "source": [
    "le = LabelEncoder()\n",
    "# df['Industry'] = le.fit_transform(df['Industry'])\n",
    "df.head()"
   ]
  },
  {
   "cell_type": "code",
   "execution_count": 49,
   "metadata": {},
   "outputs": [
    {
     "data": {
      "text/html": [
       "<div>\n",
       "<style scoped>\n",
       "    .dataframe tbody tr th:only-of-type {\n",
       "        vertical-align: middle;\n",
       "    }\n",
       "\n",
       "    .dataframe tbody tr th {\n",
       "        vertical-align: top;\n",
       "    }\n",
       "\n",
       "    .dataframe thead th {\n",
       "        text-align: right;\n",
       "    }\n",
       "</style>\n",
       "<table border=\"1\" class=\"dataframe\">\n",
       "  <thead>\n",
       "    <tr style=\"text-align: right;\">\n",
       "      <th></th>\n",
       "      <th>Custom-Return_1390</th>\n",
       "      <th>EPS_MRQ_LC_1390</th>\n",
       "      <th>EPS_TTM_1390</th>\n",
       "      <th>EPS_MRQ_1390</th>\n",
       "      <th>EPS_FY_1390</th>\n",
       "      <th>Rev_TTM_1390</th>\n",
       "      <th>Rev_MRQ_1390</th>\n",
       "      <th>Rev_FY_1390</th>\n",
       "      <th>NI_TTM_1390</th>\n",
       "      <th>NI_MRQ_1390</th>\n",
       "      <th>...</th>\n",
       "      <th>ETR_1401</th>\n",
       "      <th>CFOToRev_1401</th>\n",
       "      <th>CFOToDebt_1401</th>\n",
       "      <th>FCFFToRev_1401</th>\n",
       "      <th>FCFFToNI_1401</th>\n",
       "      <th>FCFEToRev_1401</th>\n",
       "      <th>FCFEToNI_1401</th>\n",
       "      <th>CAPEXToRev_1401</th>\n",
       "      <th>CAPEXToNI_1401</th>\n",
       "      <th>DivYield_1401</th>\n",
       "    </tr>\n",
       "  </thead>\n",
       "  <tbody>\n",
       "    <tr>\n",
       "      <th>0</th>\n",
       "      <td>NaN</td>\n",
       "      <td>11.3750</td>\n",
       "      <td>83.0</td>\n",
       "      <td>11.0</td>\n",
       "      <td>24.0</td>\n",
       "      <td>1.917455e+12</td>\n",
       "      <td>8.399880e+11</td>\n",
       "      <td>1.685499e+12</td>\n",
       "      <td>8.266700e+10</td>\n",
       "      <td>1.137500e+10</td>\n",
       "      <td>...</td>\n",
       "      <td>0.0041</td>\n",
       "      <td>-0.0810</td>\n",
       "      <td>-0.0616</td>\n",
       "      <td>-0.0684</td>\n",
       "      <td>-1.7557</td>\n",
       "      <td>0.0220</td>\n",
       "      <td>0.0689</td>\n",
       "      <td>-0.0123</td>\n",
       "      <td>-0.3158</td>\n",
       "      <td>0.0021</td>\n",
       "    </tr>\n",
       "    <tr>\n",
       "      <th>1</th>\n",
       "      <td>0.208274</td>\n",
       "      <td>117.4437</td>\n",
       "      <td>295.0</td>\n",
       "      <td>117.0</td>\n",
       "      <td>295.0</td>\n",
       "      <td>9.046040e+12</td>\n",
       "      <td>2.474342e+12</td>\n",
       "      <td>9.046040e+12</td>\n",
       "      <td>7.951730e+11</td>\n",
       "      <td>3.170980e+11</td>\n",
       "      <td>...</td>\n",
       "      <td>0.1370</td>\n",
       "      <td>0.0267</td>\n",
       "      <td>0.0746</td>\n",
       "      <td>0.0082</td>\n",
       "      <td>0.0930</td>\n",
       "      <td>0.0305</td>\n",
       "      <td>0.3474</td>\n",
       "      <td>0.0187</td>\n",
       "      <td>0.2122</td>\n",
       "      <td>0.0073</td>\n",
       "    </tr>\n",
       "    <tr>\n",
       "      <th>2</th>\n",
       "      <td>NaN</td>\n",
       "      <td>88.7262</td>\n",
       "      <td>406.0</td>\n",
       "      <td>89.0</td>\n",
       "      <td>384.0</td>\n",
       "      <td>6.988662e+12</td>\n",
       "      <td>1.702216e+12</td>\n",
       "      <td>6.914857e+12</td>\n",
       "      <td>9.131650e+11</td>\n",
       "      <td>1.996340e+11</td>\n",
       "      <td>...</td>\n",
       "      <td>0.1034</td>\n",
       "      <td>0.0433</td>\n",
       "      <td>0.1469</td>\n",
       "      <td>0.0697</td>\n",
       "      <td>0.5587</td>\n",
       "      <td>0.0757</td>\n",
       "      <td>0.6061</td>\n",
       "      <td>0.0050</td>\n",
       "      <td>0.0402</td>\n",
       "      <td>0.0048</td>\n",
       "    </tr>\n",
       "    <tr>\n",
       "      <th>3</th>\n",
       "      <td>-0.481625</td>\n",
       "      <td>-125.1184</td>\n",
       "      <td>-113.0</td>\n",
       "      <td>-125.0</td>\n",
       "      <td>-113.0</td>\n",
       "      <td>2.991100e+10</td>\n",
       "      <td>7.170000e+08</td>\n",
       "      <td>2.991100e+10</td>\n",
       "      <td>-2.570900e+10</td>\n",
       "      <td>-2.852700e+10</td>\n",
       "      <td>...</td>\n",
       "      <td>NaN</td>\n",
       "      <td>-0.5435</td>\n",
       "      <td>-0.0327</td>\n",
       "      <td>-0.6303</td>\n",
       "      <td>NaN</td>\n",
       "      <td>-0.6316</td>\n",
       "      <td>NaN</td>\n",
       "      <td>0.0869</td>\n",
       "      <td>-0.3459</td>\n",
       "      <td>NaN</td>\n",
       "    </tr>\n",
       "    <tr>\n",
       "      <th>4</th>\n",
       "      <td>NaN</td>\n",
       "      <td>NaN</td>\n",
       "      <td>NaN</td>\n",
       "      <td>NaN</td>\n",
       "      <td>NaN</td>\n",
       "      <td>NaN</td>\n",
       "      <td>NaN</td>\n",
       "      <td>NaN</td>\n",
       "      <td>NaN</td>\n",
       "      <td>NaN</td>\n",
       "      <td>...</td>\n",
       "      <td>NaN</td>\n",
       "      <td>NaN</td>\n",
       "      <td>NaN</td>\n",
       "      <td>NaN</td>\n",
       "      <td>NaN</td>\n",
       "      <td>NaN</td>\n",
       "      <td>NaN</td>\n",
       "      <td>NaN</td>\n",
       "      <td>NaN</td>\n",
       "      <td>NaN</td>\n",
       "    </tr>\n",
       "  </tbody>\n",
       "</table>\n",
       "<p>5 rows × 828 columns</p>\n",
       "</div>"
      ],
      "text/plain": [
       "   Custom-Return_1390  EPS_MRQ_LC_1390  EPS_TTM_1390  EPS_MRQ_1390  \\\n",
       "0                 NaN          11.3750          83.0          11.0   \n",
       "1            0.208274         117.4437         295.0         117.0   \n",
       "2                 NaN          88.7262         406.0          89.0   \n",
       "3           -0.481625        -125.1184        -113.0        -125.0   \n",
       "4                 NaN              NaN           NaN           NaN   \n",
       "\n",
       "   EPS_FY_1390  Rev_TTM_1390  Rev_MRQ_1390   Rev_FY_1390   NI_TTM_1390  \\\n",
       "0         24.0  1.917455e+12  8.399880e+11  1.685499e+12  8.266700e+10   \n",
       "1        295.0  9.046040e+12  2.474342e+12  9.046040e+12  7.951730e+11   \n",
       "2        384.0  6.988662e+12  1.702216e+12  6.914857e+12  9.131650e+11   \n",
       "3       -113.0  2.991100e+10  7.170000e+08  2.991100e+10 -2.570900e+10   \n",
       "4          NaN           NaN           NaN           NaN           NaN   \n",
       "\n",
       "    NI_MRQ_1390  ...  ETR_1401  CFOToRev_1401  CFOToDebt_1401  FCFFToRev_1401  \\\n",
       "0  1.137500e+10  ...    0.0041        -0.0810         -0.0616         -0.0684   \n",
       "1  3.170980e+11  ...    0.1370         0.0267          0.0746          0.0082   \n",
       "2  1.996340e+11  ...    0.1034         0.0433          0.1469          0.0697   \n",
       "3 -2.852700e+10  ...       NaN        -0.5435         -0.0327         -0.6303   \n",
       "4           NaN  ...       NaN            NaN             NaN             NaN   \n",
       "\n",
       "   FCFFToNI_1401  FCFEToRev_1401  FCFEToNI_1401  CAPEXToRev_1401  \\\n",
       "0        -1.7557          0.0220         0.0689          -0.0123   \n",
       "1         0.0930          0.0305         0.3474           0.0187   \n",
       "2         0.5587          0.0757         0.6061           0.0050   \n",
       "3            NaN         -0.6316            NaN           0.0869   \n",
       "4            NaN             NaN            NaN              NaN   \n",
       "\n",
       "   CAPEXToNI_1401  DivYield_1401  \n",
       "0         -0.3158         0.0021  \n",
       "1          0.2122         0.0073  \n",
       "2          0.0402         0.0048  \n",
       "3         -0.3459            NaN  \n",
       "4             NaN            NaN  \n",
       "\n",
       "[5 rows x 828 columns]"
      ]
     },
     "execution_count": 49,
     "metadata": {},
     "output_type": "execute_result"
    }
   ],
   "source": [
    "# convert all columns to float but Industry\n",
    "cols_to_float = df.columns\n",
    "df[cols_to_float] = df[cols_to_float].astype(float)\n",
    "df.head()"
   ]
  },
  {
   "cell_type": "code",
   "execution_count": 50,
   "metadata": {},
   "outputs": [
    {
     "name": "stdout",
     "output_type": "stream",
     "text": [
      "(899, 828)\n"
     ]
    }
   ],
   "source": [
    "# drop rows which has no value in TSE_FY or RE_FY column\n",
    "for i in ['TSE_FY', 'RE_FY']:\n",
    "    for j in df.columns:\n",
    "        if i in j :\n",
    "            # print(j)\n",
    "            df.dropna(subset=j)\n",
    "print(df.shape)"
   ]
  },
  {
   "cell_type": "code",
   "execution_count": 51,
   "metadata": {},
   "outputs": [],
   "source": [
    "# print(df[df['y'] >= .5].shape)\n",
    "# print(df[df['y'] < .5].shape)\n",
    "# drop y\n",
    "# df = df.drop(columns=['y'])"
   ]
  },
  {
   "cell_type": "code",
   "execution_count": 52,
   "metadata": {},
   "outputs": [
    {
     "name": "stdout",
     "output_type": "stream",
     "text": [
      "(370, 831)\n",
      "(529, 831)\n"
     ]
    },
    {
     "name": "stderr",
     "output_type": "stream",
     "text": [
      "C:\\Users\\sydhm\\AppData\\Local\\Temp\\ipykernel_19524\\773359656.py:28: PerformanceWarning: DataFrame is highly fragmented.  This is usually the result of calling `frame.insert` many times, which has poor performance.  Consider joining all columns at once using pd.concat(axis=1) instead. To get a de-fragmented frame, use `newframe = frame.copy()`\n",
      "  df['mean_TSE_FY'] = mean_TSE_FY\n",
      "C:\\Users\\sydhm\\AppData\\Local\\Temp\\ipykernel_19524\\773359656.py:31: PerformanceWarning: DataFrame is highly fragmented.  This is usually the result of calling `frame.insert` many times, which has poor performance.  Consider joining all columns at once using pd.concat(axis=1) instead. To get a de-fragmented frame, use `newframe = frame.copy()`\n",
      "  df['mean_RE_FY'] = mean_RE_FY\n",
      "C:\\Users\\sydhm\\AppData\\Local\\Temp\\ipykernel_19524\\773359656.py:33: PerformanceWarning: DataFrame is highly fragmented.  This is usually the result of calling `frame.insert` many times, which has poor performance.  Consider joining all columns at once using pd.concat(axis=1) instead. To get a de-fragmented frame, use `newframe = frame.copy()`\n",
      "  df['y'] = np.where(df['mean_RE_FY'] / df['mean_TSE_FY'] > .5, 1, 0)\n"
     ]
    }
   ],
   "source": [
    "# create a y column RE_FY / TSE_FY > .5 = 1 else 0\n",
    "List_TSE_FY = ['TSE_FY_1390' ,\n",
    "'TSE_FY_1391',\n",
    "'TSE_FY_1392',\n",
    "'TSE_FY_1393',\n",
    "'TSE_FY_1394',\n",
    "'TSE_FY_1395',\n",
    "'TSE_FY_1396',\n",
    "'TSE_FY_1397',\n",
    "'TSE_FY_1398',\n",
    "'TSE_FY_1399',\n",
    "'TSE_FY_1400',\n",
    "'TSE_FY_1401']\n",
    "List_RE_FY = ['RE_FY_1390',\n",
    "'RE_FY_1391',\n",
    "'RE_FY_1392',\n",
    "'RE_FY_1393',\n",
    "'RE_FY_1394',\n",
    "'RE_FY_1395',\n",
    "'RE_FY_1396',\n",
    "'RE_FY_1397',\n",
    "'RE_FY_1398',\n",
    "'RE_FY_1399',\n",
    "'RE_FY_1400',\n",
    "'RE_FY_1401']\n",
    "\n",
    "mean_TSE_FY = df[List_TSE_FY].mean(axis=1).tolist()\n",
    "df['mean_TSE_FY'] = mean_TSE_FY\n",
    "\n",
    "mean_RE_FY = df[List_RE_FY].mean(axis=1).tolist()\n",
    "df['mean_RE_FY'] = mean_RE_FY\n",
    "\n",
    "df['y'] = np.where(df['mean_RE_FY'] / df['mean_TSE_FY'] > .5, 1, 0)\n",
    "print(df[df['y'] >= .5].shape)\n",
    "print(df[df['y'] < .5].shape)\n"
   ]
  },
  {
   "cell_type": "code",
   "execution_count": 53,
   "metadata": {},
   "outputs": [
    {
     "name": "stdout",
     "output_type": "stream",
     "text": [
      "Custom-Return_1390    0.628476\n",
      "EPS_MRQ_LC_1390       0.186874\n",
      "EPS_TTM_1390          0.094549\n",
      "EPS_MRQ_1390          0.095662\n",
      "EPS_FY_1390           0.086763\n",
      "                        ...   \n",
      "CAPEXToNI_1401        0.145717\n",
      "DivYield_1401         0.334816\n",
      "mean_TSE_FY           0.076752\n",
      "mean_RE_FY            0.082314\n",
      "y                     0.000000\n",
      "Length: 831, dtype: float64\n"
     ]
    }
   ],
   "source": [
    "# print nan proportion\n",
    "print(df.isna().sum() / df.shape[0])"
   ]
  },
  {
   "cell_type": "code",
   "execution_count": 54,
   "metadata": {},
   "outputs": [
    {
     "name": "stdout",
     "output_type": "stream",
     "text": [
      "Custom-Return_1390    0.0\n",
      "EPS_MRQ_LC_1390       0.0\n",
      "EPS_TTM_1390          0.0\n",
      "EPS_MRQ_1390          0.0\n",
      "EPS_FY_1390           0.0\n",
      "                     ... \n",
      "CAPEXToNI_1401        0.0\n",
      "DivYield_1401         0.0\n",
      "mean_TSE_FY           0.0\n",
      "mean_RE_FY            0.0\n",
      "y                     0.0\n",
      "Length: 831, dtype: float64\n"
     ]
    }
   ],
   "source": [
    "# df = df.fillna(df.mean())\n",
    "# df = df.fillna(df.median())\n",
    "# df = df.fillna(df.mode().iloc[0])\n",
    "\n",
    "# fill NaN with 0\n",
    "df = df.fillna(0)\n",
    "\n",
    "print(df.isna().sum() / df.shape[0])"
   ]
  },
  {
   "cell_type": "code",
   "execution_count": 55,
   "metadata": {},
   "outputs": [
    {
     "data": {
      "text/html": [
       "<div>\n",
       "<style scoped>\n",
       "    .dataframe tbody tr th:only-of-type {\n",
       "        vertical-align: middle;\n",
       "    }\n",
       "\n",
       "    .dataframe tbody tr th {\n",
       "        vertical-align: top;\n",
       "    }\n",
       "\n",
       "    .dataframe thead th {\n",
       "        text-align: right;\n",
       "    }\n",
       "</style>\n",
       "<table border=\"1\" class=\"dataframe\">\n",
       "  <thead>\n",
       "    <tr style=\"text-align: right;\">\n",
       "      <th></th>\n",
       "      <th>Custom-Return_1390</th>\n",
       "      <th>EPS_MRQ_LC_1390</th>\n",
       "      <th>EPS_TTM_1390</th>\n",
       "      <th>EPS_MRQ_1390</th>\n",
       "      <th>EPS_FY_1390</th>\n",
       "      <th>Rev_TTM_1390</th>\n",
       "      <th>Rev_MRQ_1390</th>\n",
       "      <th>Rev_FY_1390</th>\n",
       "      <th>NI_TTM_1390</th>\n",
       "      <th>NI_MRQ_1390</th>\n",
       "      <th>...</th>\n",
       "      <th>FCFFToRev_1401</th>\n",
       "      <th>FCFFToNI_1401</th>\n",
       "      <th>FCFEToRev_1401</th>\n",
       "      <th>FCFEToNI_1401</th>\n",
       "      <th>CAPEXToRev_1401</th>\n",
       "      <th>CAPEXToNI_1401</th>\n",
       "      <th>DivYield_1401</th>\n",
       "      <th>mean_TSE_FY</th>\n",
       "      <th>mean_RE_FY</th>\n",
       "      <th>y</th>\n",
       "    </tr>\n",
       "  </thead>\n",
       "  <tbody>\n",
       "    <tr>\n",
       "      <th>0</th>\n",
       "      <td>0.042743</td>\n",
       "      <td>0.316850</td>\n",
       "      <td>2.249830e-10</td>\n",
       "      <td>0.999976</td>\n",
       "      <td>0.001849</td>\n",
       "      <td>0.045010</td>\n",
       "      <td>0.055193</td>\n",
       "      <td>0.044945</td>\n",
       "      <td>0.319484</td>\n",
       "      <td>0.495550</td>\n",
       "      <td>...</td>\n",
       "      <td>0.999684</td>\n",
       "      <td>0.893868</td>\n",
       "      <td>0.907533</td>\n",
       "      <td>0.440197</td>\n",
       "      <td>0.483342</td>\n",
       "      <td>0.653700</td>\n",
       "      <td>0.003082</td>\n",
       "      <td>0.360880</td>\n",
       "      <td>0.611768</td>\n",
       "      <td>0.0</td>\n",
       "    </tr>\n",
       "    <tr>\n",
       "      <th>1</th>\n",
       "      <td>0.058074</td>\n",
       "      <td>0.320473</td>\n",
       "      <td>2.267615e-10</td>\n",
       "      <td>0.999976</td>\n",
       "      <td>0.001849</td>\n",
       "      <td>0.047014</td>\n",
       "      <td>0.056980</td>\n",
       "      <td>0.047014</td>\n",
       "      <td>0.320198</td>\n",
       "      <td>0.496023</td>\n",
       "      <td>...</td>\n",
       "      <td>0.999685</td>\n",
       "      <td>0.895969</td>\n",
       "      <td>0.907542</td>\n",
       "      <td>0.442539</td>\n",
       "      <td>0.483445</td>\n",
       "      <td>0.657271</td>\n",
       "      <td>0.010713</td>\n",
       "      <td>0.361690</td>\n",
       "      <td>0.612231</td>\n",
       "      <td>0.0</td>\n",
       "    </tr>\n",
       "    <tr>\n",
       "      <th>2</th>\n",
       "      <td>0.042743</td>\n",
       "      <td>0.319492</td>\n",
       "      <td>2.276927e-10</td>\n",
       "      <td>0.999976</td>\n",
       "      <td>0.001849</td>\n",
       "      <td>0.046436</td>\n",
       "      <td>0.056136</td>\n",
       "      <td>0.046415</td>\n",
       "      <td>0.320316</td>\n",
       "      <td>0.495841</td>\n",
       "      <td>...</td>\n",
       "      <td>0.999685</td>\n",
       "      <td>0.896498</td>\n",
       "      <td>0.907587</td>\n",
       "      <td>0.444715</td>\n",
       "      <td>0.483399</td>\n",
       "      <td>0.656108</td>\n",
       "      <td>0.007044</td>\n",
       "      <td>0.361677</td>\n",
       "      <td>0.612518</td>\n",
       "      <td>0.0</td>\n",
       "    </tr>\n",
       "    <tr>\n",
       "      <th>3</th>\n",
       "      <td>0.007289</td>\n",
       "      <td>0.312188</td>\n",
       "      <td>2.233387e-10</td>\n",
       "      <td>0.999975</td>\n",
       "      <td>0.001849</td>\n",
       "      <td>0.044479</td>\n",
       "      <td>0.054275</td>\n",
       "      <td>0.044479</td>\n",
       "      <td>0.319375</td>\n",
       "      <td>0.495488</td>\n",
       "      <td>...</td>\n",
       "      <td>0.999683</td>\n",
       "      <td>0.895863</td>\n",
       "      <td>0.906876</td>\n",
       "      <td>0.439617</td>\n",
       "      <td>0.483671</td>\n",
       "      <td>0.653497</td>\n",
       "      <td>0.000000</td>\n",
       "      <td>0.360505</td>\n",
       "      <td>0.611575</td>\n",
       "      <td>1.0</td>\n",
       "    </tr>\n",
       "    <tr>\n",
       "      <th>4</th>\n",
       "      <td>0.042743</td>\n",
       "      <td>0.316462</td>\n",
       "      <td>2.242867e-10</td>\n",
       "      <td>0.999975</td>\n",
       "      <td>0.001849</td>\n",
       "      <td>0.044471</td>\n",
       "      <td>0.054275</td>\n",
       "      <td>0.044471</td>\n",
       "      <td>0.319401</td>\n",
       "      <td>0.495532</td>\n",
       "      <td>...</td>\n",
       "      <td>0.999685</td>\n",
       "      <td>0.895863</td>\n",
       "      <td>0.907511</td>\n",
       "      <td>0.439617</td>\n",
       "      <td>0.483383</td>\n",
       "      <td>0.655836</td>\n",
       "      <td>0.000000</td>\n",
       "      <td>0.360527</td>\n",
       "      <td>0.611733</td>\n",
       "      <td>0.0</td>\n",
       "    </tr>\n",
       "  </tbody>\n",
       "</table>\n",
       "<p>5 rows × 831 columns</p>\n",
       "</div>"
      ],
      "text/plain": [
       "   Custom-Return_1390  EPS_MRQ_LC_1390  EPS_TTM_1390  EPS_MRQ_1390  \\\n",
       "0            0.042743         0.316850  2.249830e-10      0.999976   \n",
       "1            0.058074         0.320473  2.267615e-10      0.999976   \n",
       "2            0.042743         0.319492  2.276927e-10      0.999976   \n",
       "3            0.007289         0.312188  2.233387e-10      0.999975   \n",
       "4            0.042743         0.316462  2.242867e-10      0.999975   \n",
       "\n",
       "   EPS_FY_1390  Rev_TTM_1390  Rev_MRQ_1390  Rev_FY_1390  NI_TTM_1390  \\\n",
       "0     0.001849      0.045010      0.055193     0.044945     0.319484   \n",
       "1     0.001849      0.047014      0.056980     0.047014     0.320198   \n",
       "2     0.001849      0.046436      0.056136     0.046415     0.320316   \n",
       "3     0.001849      0.044479      0.054275     0.044479     0.319375   \n",
       "4     0.001849      0.044471      0.054275     0.044471     0.319401   \n",
       "\n",
       "   NI_MRQ_1390  ...  FCFFToRev_1401  FCFFToNI_1401  FCFEToRev_1401  \\\n",
       "0     0.495550  ...        0.999684       0.893868        0.907533   \n",
       "1     0.496023  ...        0.999685       0.895969        0.907542   \n",
       "2     0.495841  ...        0.999685       0.896498        0.907587   \n",
       "3     0.495488  ...        0.999683       0.895863        0.906876   \n",
       "4     0.495532  ...        0.999685       0.895863        0.907511   \n",
       "\n",
       "   FCFEToNI_1401  CAPEXToRev_1401  CAPEXToNI_1401  DivYield_1401  mean_TSE_FY  \\\n",
       "0       0.440197         0.483342        0.653700       0.003082     0.360880   \n",
       "1       0.442539         0.483445        0.657271       0.010713     0.361690   \n",
       "2       0.444715         0.483399        0.656108       0.007044     0.361677   \n",
       "3       0.439617         0.483671        0.653497       0.000000     0.360505   \n",
       "4       0.439617         0.483383        0.655836       0.000000     0.360527   \n",
       "\n",
       "   mean_RE_FY    y  \n",
       "0    0.611768  0.0  \n",
       "1    0.612231  0.0  \n",
       "2    0.612518  0.0  \n",
       "3    0.611575  1.0  \n",
       "4    0.611733  0.0  \n",
       "\n",
       "[5 rows x 831 columns]"
      ]
     },
     "execution_count": 55,
     "metadata": {},
     "output_type": "execute_result"
    }
   ],
   "source": [
    "# Scaler\n",
    "scaler = MinMaxScaler()\n",
    "df = pd.DataFrame(scaler.fit_transform(df), columns=df.columns)\n",
    "df.head()"
   ]
  },
  {
   "cell_type": "code",
   "execution_count": 56,
   "metadata": {},
   "outputs": [
    {
     "name": "stdout",
     "output_type": "stream",
     "text": [
      "(629, 1, 830)\n",
      "(629,)\n",
      "------\n",
      "(135, 1, 830)\n",
      "(135,)\n",
      "------\n",
      "(135, 1, 830)\n",
      "(135,)\n"
     ]
    }
   ],
   "source": [
    "# split data\n",
    "x = df.drop(columns=['y'])\n",
    "y = df['y']\n",
    "x = np.array(x)\n",
    "y = np.array(y)\n",
    "# [samples, timesteps, features]\n",
    "x = x.reshape(x.shape[0], 1, x.shape[1])\n",
    "\n",
    "x_train = x[:int(x.shape[0] * .7)]\n",
    "y_train = y[:int(y.shape[0] * .7)]\n",
    "x_valid = x[int(x.shape[0] * .7):int(x.shape[0] * .85)]\n",
    "y_valid = y[int(y.shape[0] * .7):int(y.shape[0] * .85)]\n",
    "x_test = x[int(x.shape[0] * .85):]\n",
    "y_test = y[int(y.shape[0] * .85):]\n",
    "\n",
    "print(x_train.shape)\n",
    "print(y_train.shape)\n",
    "print(\"------\")\n",
    "print(x_valid.shape)\n",
    "print(y_valid.shape)\n",
    "print(\"------\")\n",
    "print(x_test.shape)\n",
    "print(y_test.shape)"
   ]
  },
  {
   "cell_type": "code",
   "execution_count": 57,
   "metadata": {},
   "outputs": [
    {
     "name": "stdout",
     "output_type": "stream",
     "text": [
      "(5032, 1, 830)\n",
      "(5032,)\n"
     ]
    }
   ],
   "source": [
    "# duplicate data\n",
    "DUPLICATE = 8\n",
    "x_train = np.repeat(x_train, DUPLICATE, axis=0)\n",
    "y_train = np.repeat(y_train, DUPLICATE, axis=0)\n",
    "print(x_train.shape)\n",
    "print(y_train.shape)"
   ]
  },
  {
   "cell_type": "code",
   "execution_count": 58,
   "metadata": {},
   "outputs": [
    {
     "name": "stdout",
     "output_type": "stream",
     "text": [
      "Model: \"sequential_6\"\n",
      "_________________________________________________________________\n",
      " Layer (type)                Output Shape              Param #   \n",
      "=================================================================\n",
      " gru_5 (GRU)                 (None, 128)               368640    \n",
      "                                                                 \n",
      " dense_2 (Dense)             (None, 1)                 129       \n",
      "                                                                 \n",
      "=================================================================\n",
      "Total params: 368769 (1.41 MB)\n",
      "Trainable params: 368769 (1.41 MB)\n",
      "Non-trainable params: 0 (0.00 Byte)\n",
      "_________________________________________________________________\n"
     ]
    }
   ],
   "source": [
    "\n",
    "\n",
    "rnn_model = keras.Sequential()\n",
    "rnn_model.add(GRU(128, input_shape=(x_train.shape[1], x_train.shape[2])))\n",
    "rnn_model.add(Dense(1, activation='sigmoid'))\n",
    "rnn_model.compile(loss='binary_crossentropy', optimizer='adam', metrics=['accuracy'])\n",
    "rnn_model.summary()\n"
   ]
  },
  {
   "cell_type": "code",
   "execution_count": 63,
   "metadata": {},
   "outputs": [
    {
     "name": "stdout",
     "output_type": "stream",
     "text": [
      "Epoch 1/100\n",
      "79/79 [==============================] - 5s 22ms/step - loss: 0.7084 - accuracy: 0.5453 - val_loss: 0.6844 - val_accuracy: 0.5704\n",
      "Epoch 2/100\n",
      "79/79 [==============================] - 1s 13ms/step - loss: 0.6815 - accuracy: 0.5994 - val_loss: 0.6834 - val_accuracy: 0.5481\n",
      "Epoch 3/100\n",
      "79/79 [==============================] - 1s 14ms/step - loss: 0.6791 - accuracy: 0.5994 - val_loss: 0.6809 - val_accuracy: 0.5630\n",
      "Epoch 4/100\n",
      "79/79 [==============================] - 1s 18ms/step - loss: 0.6739 - accuracy: 0.5962 - val_loss: 0.6788 - val_accuracy: 0.5630\n",
      "Epoch 5/100\n",
      "79/79 [==============================] - 1s 18ms/step - loss: 0.6721 - accuracy: 0.5978 - val_loss: 0.6758 - val_accuracy: 0.5556\n",
      "Epoch 6/100\n",
      "79/79 [==============================] - 1s 14ms/step - loss: 0.6699 - accuracy: 0.6010 - val_loss: 0.6723 - val_accuracy: 0.5778\n",
      "Epoch 7/100\n",
      "79/79 [==============================] - 1s 13ms/step - loss: 0.6694 - accuracy: 0.6041 - val_loss: 0.6672 - val_accuracy: 0.7185\n",
      "Epoch 8/100\n",
      "79/79 [==============================] - 1s 14ms/step - loss: 0.6725 - accuracy: 0.6010 - val_loss: 0.6610 - val_accuracy: 0.6889\n",
      "Epoch 9/100\n",
      "79/79 [==============================] - 1s 14ms/step - loss: 0.6498 - accuracy: 0.6455 - val_loss: 0.6311 - val_accuracy: 0.6296\n",
      "Epoch 10/100\n",
      "79/79 [==============================] - 1s 14ms/step - loss: 0.6327 - accuracy: 0.6534 - val_loss: 0.6208 - val_accuracy: 0.6370\n",
      "Epoch 11/100\n",
      "79/79 [==============================] - 1s 14ms/step - loss: 0.6176 - accuracy: 0.6502 - val_loss: 0.5934 - val_accuracy: 0.6963\n",
      "Epoch 12/100\n",
      "79/79 [==============================] - 1s 13ms/step - loss: 0.5984 - accuracy: 0.6582 - val_loss: 0.5754 - val_accuracy: 0.7111\n",
      "Epoch 13/100\n",
      "79/79 [==============================] - 1s 13ms/step - loss: 0.5833 - accuracy: 0.6789 - val_loss: 0.5640 - val_accuracy: 0.7259\n",
      "Epoch 14/100\n",
      "79/79 [==============================] - 1s 13ms/step - loss: 0.5688 - accuracy: 0.6948 - val_loss: 0.5475 - val_accuracy: 0.7259\n",
      "Epoch 15/100\n",
      "79/79 [==============================] - 1s 13ms/step - loss: 0.5520 - accuracy: 0.7202 - val_loss: 0.5344 - val_accuracy: 0.7481\n",
      "Epoch 16/100\n",
      "79/79 [==============================] - 1s 14ms/step - loss: 0.5399 - accuracy: 0.7170 - val_loss: 0.5221 - val_accuracy: 0.7185\n",
      "Epoch 17/100\n",
      "79/79 [==============================] - 1s 13ms/step - loss: 0.5310 - accuracy: 0.7138 - val_loss: 0.5146 - val_accuracy: 0.7259\n",
      "Epoch 18/100\n",
      "79/79 [==============================] - 1s 14ms/step - loss: 0.5222 - accuracy: 0.7186 - val_loss: 0.5084 - val_accuracy: 0.7407\n",
      "Epoch 19/100\n",
      "79/79 [==============================] - 1s 13ms/step - loss: 0.5157 - accuracy: 0.7329 - val_loss: 0.5047 - val_accuracy: 0.7407\n",
      "Epoch 20/100\n",
      "79/79 [==============================] - 1s 13ms/step - loss: 0.5089 - accuracy: 0.7393 - val_loss: 0.5008 - val_accuracy: 0.7407\n",
      "Epoch 21/100\n",
      "79/79 [==============================] - 1s 14ms/step - loss: 0.5034 - accuracy: 0.7440 - val_loss: 0.4972 - val_accuracy: 0.7481\n",
      "Epoch 22/100\n",
      "79/79 [==============================] - 1s 13ms/step - loss: 0.4984 - accuracy: 0.7536 - val_loss: 0.4932 - val_accuracy: 0.7556\n",
      "Epoch 23/100\n",
      "79/79 [==============================] - 1s 14ms/step - loss: 0.4936 - accuracy: 0.7552 - val_loss: 0.4894 - val_accuracy: 0.7630\n",
      "Epoch 24/100\n",
      "79/79 [==============================] - 1s 13ms/step - loss: 0.4892 - accuracy: 0.7504 - val_loss: 0.4863 - val_accuracy: 0.7630\n",
      "Epoch 25/100\n",
      "79/79 [==============================] - 1s 14ms/step - loss: 0.4849 - accuracy: 0.7520 - val_loss: 0.4831 - val_accuracy: 0.7630\n",
      "Epoch 26/100\n",
      "79/79 [==============================] - 1s 14ms/step - loss: 0.4811 - accuracy: 0.7504 - val_loss: 0.4803 - val_accuracy: 0.7630\n",
      "Epoch 27/100\n",
      "79/79 [==============================] - 1s 13ms/step - loss: 0.4771 - accuracy: 0.7568 - val_loss: 0.4772 - val_accuracy: 0.7704\n",
      "Epoch 28/100\n",
      "79/79 [==============================] - 1s 14ms/step - loss: 0.4729 - accuracy: 0.7647 - val_loss: 0.4743 - val_accuracy: 0.7630\n",
      "Epoch 29/100\n",
      "79/79 [==============================] - 1s 13ms/step - loss: 0.4695 - accuracy: 0.7695 - val_loss: 0.4715 - val_accuracy: 0.7630\n",
      "Epoch 30/100\n",
      "79/79 [==============================] - 1s 14ms/step - loss: 0.4655 - accuracy: 0.7774 - val_loss: 0.4681 - val_accuracy: 0.7630\n",
      "Epoch 31/100\n",
      "79/79 [==============================] - 1s 13ms/step - loss: 0.4622 - accuracy: 0.7838 - val_loss: 0.4656 - val_accuracy: 0.7630\n",
      "Epoch 32/100\n",
      "79/79 [==============================] - 1s 13ms/step - loss: 0.4586 - accuracy: 0.7886 - val_loss: 0.4632 - val_accuracy: 0.7556\n",
      "Epoch 33/100\n",
      "79/79 [==============================] - 1s 14ms/step - loss: 0.4549 - accuracy: 0.7886 - val_loss: 0.4606 - val_accuracy: 0.7481\n",
      "Epoch 34/100\n",
      "79/79 [==============================] - 1s 13ms/step - loss: 0.4515 - accuracy: 0.7870 - val_loss: 0.4577 - val_accuracy: 0.7481\n",
      "Epoch 35/100\n",
      "79/79 [==============================] - 1s 13ms/step - loss: 0.4479 - accuracy: 0.7886 - val_loss: 0.4554 - val_accuracy: 0.7556\n",
      "Epoch 36/100\n",
      "79/79 [==============================] - 1s 13ms/step - loss: 0.4445 - accuracy: 0.7886 - val_loss: 0.4526 - val_accuracy: 0.7630\n",
      "Epoch 37/100\n",
      "79/79 [==============================] - 1s 14ms/step - loss: 0.4406 - accuracy: 0.7965 - val_loss: 0.4502 - val_accuracy: 0.7704\n",
      "Epoch 38/100\n",
      "79/79 [==============================] - 1s 13ms/step - loss: 0.4375 - accuracy: 0.7997 - val_loss: 0.4476 - val_accuracy: 0.7778\n",
      "Epoch 39/100\n",
      "79/79 [==============================] - 1s 13ms/step - loss: 0.4338 - accuracy: 0.8013 - val_loss: 0.4450 - val_accuracy: 0.7778\n",
      "Epoch 40/100\n",
      "79/79 [==============================] - 1s 13ms/step - loss: 0.4308 - accuracy: 0.8013 - val_loss: 0.4421 - val_accuracy: 0.7778\n",
      "Epoch 41/100\n",
      "79/79 [==============================] - 1s 15ms/step - loss: 0.4270 - accuracy: 0.8060 - val_loss: 0.4394 - val_accuracy: 0.7778\n",
      "Epoch 42/100\n",
      "79/79 [==============================] - 1s 13ms/step - loss: 0.4242 - accuracy: 0.8092 - val_loss: 0.4367 - val_accuracy: 0.7778\n",
      "Epoch 43/100\n",
      "79/79 [==============================] - 1s 15ms/step - loss: 0.4203 - accuracy: 0.8108 - val_loss: 0.4334 - val_accuracy: 0.7778\n",
      "Epoch 44/100\n",
      "79/79 [==============================] - 1s 14ms/step - loss: 0.4171 - accuracy: 0.8156 - val_loss: 0.4308 - val_accuracy: 0.7852\n",
      "Epoch 45/100\n",
      "79/79 [==============================] - 1s 14ms/step - loss: 0.4136 - accuracy: 0.8124 - val_loss: 0.4284 - val_accuracy: 0.8000\n",
      "Epoch 46/100\n",
      "79/79 [==============================] - 1s 14ms/step - loss: 0.4106 - accuracy: 0.8156 - val_loss: 0.4250 - val_accuracy: 0.8074\n",
      "Epoch 47/100\n",
      "79/79 [==============================] - 1s 14ms/step - loss: 0.4067 - accuracy: 0.8203 - val_loss: 0.4224 - val_accuracy: 0.8074\n",
      "Epoch 48/100\n",
      "79/79 [==============================] - 1s 14ms/step - loss: 0.4035 - accuracy: 0.8219 - val_loss: 0.4200 - val_accuracy: 0.8074\n",
      "Epoch 49/100\n",
      "79/79 [==============================] - 1s 14ms/step - loss: 0.4002 - accuracy: 0.8251 - val_loss: 0.4171 - val_accuracy: 0.8074\n",
      "Epoch 50/100\n",
      "79/79 [==============================] - 1s 14ms/step - loss: 0.3969 - accuracy: 0.8299 - val_loss: 0.4142 - val_accuracy: 0.8074\n",
      "Epoch 51/100\n",
      "79/79 [==============================] - 1s 13ms/step - loss: 0.3935 - accuracy: 0.8315 - val_loss: 0.4110 - val_accuracy: 0.8148\n",
      "Epoch 52/100\n",
      "79/79 [==============================] - 1s 14ms/step - loss: 0.3900 - accuracy: 0.8347 - val_loss: 0.4077 - val_accuracy: 0.8148\n",
      "Epoch 53/100\n",
      "79/79 [==============================] - 1s 14ms/step - loss: 0.3866 - accuracy: 0.8362 - val_loss: 0.4045 - val_accuracy: 0.8222\n",
      "Epoch 54/100\n",
      "79/79 [==============================] - 1s 15ms/step - loss: 0.3832 - accuracy: 0.8362 - val_loss: 0.4018 - val_accuracy: 0.8296\n",
      "Epoch 55/100\n",
      "79/79 [==============================] - 1s 13ms/step - loss: 0.3799 - accuracy: 0.8378 - val_loss: 0.3986 - val_accuracy: 0.8296\n",
      "Epoch 56/100\n",
      "79/79 [==============================] - 1s 14ms/step - loss: 0.3766 - accuracy: 0.8378 - val_loss: 0.3960 - val_accuracy: 0.8370\n",
      "Epoch 57/100\n",
      "79/79 [==============================] - 1s 14ms/step - loss: 0.3735 - accuracy: 0.8394 - val_loss: 0.3929 - val_accuracy: 0.8444\n",
      "Epoch 58/100\n",
      "79/79 [==============================] - 1s 14ms/step - loss: 0.3702 - accuracy: 0.8410 - val_loss: 0.3895 - val_accuracy: 0.8370\n",
      "Epoch 59/100\n",
      "79/79 [==============================] - 1s 14ms/step - loss: 0.3668 - accuracy: 0.8426 - val_loss: 0.3872 - val_accuracy: 0.8370\n",
      "Epoch 60/100\n",
      "79/79 [==============================] - 1s 15ms/step - loss: 0.3633 - accuracy: 0.8458 - val_loss: 0.3846 - val_accuracy: 0.8370\n",
      "Epoch 61/100\n",
      "79/79 [==============================] - 1s 14ms/step - loss: 0.3598 - accuracy: 0.8490 - val_loss: 0.3811 - val_accuracy: 0.8370\n",
      "Epoch 62/100\n",
      "79/79 [==============================] - 1s 14ms/step - loss: 0.3563 - accuracy: 0.8490 - val_loss: 0.3773 - val_accuracy: 0.8370\n",
      "Epoch 63/100\n",
      "79/79 [==============================] - 1s 13ms/step - loss: 0.3528 - accuracy: 0.8537 - val_loss: 0.3743 - val_accuracy: 0.8370\n",
      "Epoch 64/100\n",
      "79/79 [==============================] - 1s 13ms/step - loss: 0.3491 - accuracy: 0.8537 - val_loss: 0.3710 - val_accuracy: 0.8370\n",
      "Epoch 65/100\n",
      "79/79 [==============================] - 1s 14ms/step - loss: 0.3455 - accuracy: 0.8569 - val_loss: 0.3690 - val_accuracy: 0.8296\n",
      "Epoch 66/100\n",
      "79/79 [==============================] - 1s 13ms/step - loss: 0.3418 - accuracy: 0.8537 - val_loss: 0.3650 - val_accuracy: 0.8296\n",
      "Epoch 67/100\n",
      "79/79 [==============================] - 1s 14ms/step - loss: 0.3386 - accuracy: 0.8633 - val_loss: 0.3645 - val_accuracy: 0.8370\n",
      "Epoch 68/100\n",
      "79/79 [==============================] - 1s 14ms/step - loss: 0.3345 - accuracy: 0.8665 - val_loss: 0.3602 - val_accuracy: 0.8370\n",
      "Epoch 69/100\n",
      "79/79 [==============================] - 1s 14ms/step - loss: 0.3311 - accuracy: 0.8617 - val_loss: 0.3559 - val_accuracy: 0.8444\n",
      "Epoch 70/100\n",
      "79/79 [==============================] - 1s 14ms/step - loss: 0.3270 - accuracy: 0.8617 - val_loss: 0.3516 - val_accuracy: 0.8444\n",
      "Epoch 71/100\n",
      "79/79 [==============================] - 1s 14ms/step - loss: 0.3230 - accuracy: 0.8649 - val_loss: 0.3525 - val_accuracy: 0.8593\n",
      "Epoch 72/100\n",
      "79/79 [==============================] - 1s 13ms/step - loss: 0.3194 - accuracy: 0.8680 - val_loss: 0.3451 - val_accuracy: 0.8667\n",
      "Epoch 73/100\n",
      "79/79 [==============================] - 1s 14ms/step - loss: 0.3155 - accuracy: 0.8665 - val_loss: 0.3413 - val_accuracy: 0.8741\n",
      "Epoch 74/100\n",
      "79/79 [==============================] - 1s 14ms/step - loss: 0.3141 - accuracy: 0.8680 - val_loss: 0.3376 - val_accuracy: 0.8741\n",
      "Epoch 75/100\n",
      "79/79 [==============================] - 1s 14ms/step - loss: 0.3085 - accuracy: 0.8744 - val_loss: 0.3363 - val_accuracy: 0.8741\n",
      "Epoch 76/100\n",
      "79/79 [==============================] - 1s 14ms/step - loss: 0.3064 - accuracy: 0.8728 - val_loss: 0.3345 - val_accuracy: 0.8741\n",
      "Epoch 77/100\n",
      "79/79 [==============================] - 1s 13ms/step - loss: 0.3009 - accuracy: 0.8760 - val_loss: 0.3308 - val_accuracy: 0.8741\n",
      "Epoch 78/100\n",
      "79/79 [==============================] - 1s 14ms/step - loss: 0.2993 - accuracy: 0.8824 - val_loss: 0.3267 - val_accuracy: 0.8741\n",
      "Epoch 79/100\n",
      "79/79 [==============================] - 1s 14ms/step - loss: 0.2959 - accuracy: 0.8808 - val_loss: 0.3319 - val_accuracy: 0.8741\n",
      "Epoch 80/100\n",
      "79/79 [==============================] - 1s 14ms/step - loss: 0.2940 - accuracy: 0.8839 - val_loss: 0.3263 - val_accuracy: 0.8741\n",
      "Epoch 81/100\n",
      "79/79 [==============================] - 1s 14ms/step - loss: 0.2887 - accuracy: 0.8871 - val_loss: 0.3290 - val_accuracy: 0.8741\n",
      "Epoch 82/100\n",
      "79/79 [==============================] - 1s 13ms/step - loss: 0.2865 - accuracy: 0.8871 - val_loss: 0.3223 - val_accuracy: 0.8741\n",
      "Epoch 83/100\n",
      "79/79 [==============================] - 1s 13ms/step - loss: 0.2812 - accuracy: 0.8983 - val_loss: 0.3197 - val_accuracy: 0.8741\n",
      "Epoch 84/100\n",
      "79/79 [==============================] - 1s 13ms/step - loss: 0.2790 - accuracy: 0.8951 - val_loss: 0.3119 - val_accuracy: 0.8741\n",
      "Epoch 85/100\n",
      "79/79 [==============================] - 1s 13ms/step - loss: 0.2748 - accuracy: 0.9030 - val_loss: 0.3106 - val_accuracy: 0.8741\n",
      "Epoch 86/100\n",
      "79/79 [==============================] - 1s 14ms/step - loss: 0.2725 - accuracy: 0.9030 - val_loss: 0.3106 - val_accuracy: 0.8741\n",
      "Epoch 87/100\n",
      "79/79 [==============================] - 1s 13ms/step - loss: 0.2696 - accuracy: 0.9030 - val_loss: 0.3112 - val_accuracy: 0.8741\n",
      "Epoch 88/100\n",
      "79/79 [==============================] - 1s 14ms/step - loss: 0.2676 - accuracy: 0.9030 - val_loss: 0.3093 - val_accuracy: 0.8741\n",
      "Epoch 89/100\n",
      "79/79 [==============================] - 1s 13ms/step - loss: 0.2644 - accuracy: 0.9046 - val_loss: 0.3052 - val_accuracy: 0.8741\n",
      "Epoch 90/100\n",
      "79/79 [==============================] - 1s 13ms/step - loss: 0.2620 - accuracy: 0.9078 - val_loss: 0.3061 - val_accuracy: 0.8741\n",
      "Epoch 91/100\n",
      "79/79 [==============================] - 1s 14ms/step - loss: 0.2587 - accuracy: 0.9094 - val_loss: 0.2997 - val_accuracy: 0.8741\n",
      "Epoch 92/100\n",
      "79/79 [==============================] - 1s 13ms/step - loss: 0.2561 - accuracy: 0.9094 - val_loss: 0.2965 - val_accuracy: 0.8741\n",
      "Epoch 93/100\n",
      "79/79 [==============================] - 1s 13ms/step - loss: 0.2534 - accuracy: 0.9062 - val_loss: 0.2950 - val_accuracy: 0.8741\n",
      "Epoch 94/100\n",
      "79/79 [==============================] - 1s 14ms/step - loss: 0.2507 - accuracy: 0.9078 - val_loss: 0.2928 - val_accuracy: 0.8741\n",
      "Epoch 95/100\n",
      "79/79 [==============================] - 1s 13ms/step - loss: 0.2485 - accuracy: 0.9110 - val_loss: 0.2918 - val_accuracy: 0.8741\n",
      "Epoch 96/100\n",
      "79/79 [==============================] - 1s 14ms/step - loss: 0.2469 - accuracy: 0.9126 - val_loss: 0.2855 - val_accuracy: 0.8741\n",
      "Epoch 97/100\n",
      "79/79 [==============================] - 1s 13ms/step - loss: 0.2435 - accuracy: 0.9141 - val_loss: 0.2866 - val_accuracy: 0.8741\n",
      "Epoch 98/100\n",
      "79/79 [==============================] - 1s 13ms/step - loss: 0.2417 - accuracy: 0.9157 - val_loss: 0.2868 - val_accuracy: 0.8741\n",
      "Epoch 99/100\n",
      "79/79 [==============================] - 1s 13ms/step - loss: 0.2395 - accuracy: 0.9141 - val_loss: 0.2862 - val_accuracy: 0.8741\n",
      "Epoch 100/100\n",
      "79/79 [==============================] - 1s 13ms/step - loss: 0.2380 - accuracy: 0.9141 - val_loss: 0.2813 - val_accuracy: 0.8741\n"
     ]
    }
   ],
   "source": [
    "# train\n",
    "history = rnn_model.fit(x_train, y_train, epochs=100, batch_size=64, validation_data=(x_valid, y_valid), shuffle=False)\n",
    "# with no validation\n",
    "# history = lstm.fit(x_train, y_train, epochs=100, batch_size=32, shuffle=False)"
   ]
  },
  {
   "cell_type": "code",
   "execution_count": 66,
   "metadata": {},
   "outputs": [
    {
     "name": "stdout",
     "output_type": "stream",
     "text": [
      "5/5 [==============================] - 0s 6ms/step - loss: 0.3337 - accuracy: 0.8667\n",
      "[0.3337405323982239, 0.8666666746139526]\n"
     ]
    }
   ],
   "source": [
    "# prin results\n",
    "results = rnn_model.evaluate(x_test, y_test)\n",
    "print(results)"
   ]
  },
  {
   "cell_type": "code",
   "execution_count": 67,
   "metadata": {},
   "outputs": [
    {
     "data": {
      "application/vnd.plotly.v1+json": {
       "config": {
        "plotlyServerURL": "https://plot.ly"
       },
       "data": [
        {
         "mode": "lines",
         "name": "loss",
         "type": "scatter",
         "y": [
          0.7083580493927002,
          0.6814855933189392,
          0.6791171431541443,
          0.6739072203636169,
          0.6720854640007019,
          0.6699000597000122,
          0.6694141626358032,
          0.6724653840065002,
          0.6497538685798645,
          0.6327171325683594,
          0.6176045536994934,
          0.5983949899673462,
          0.5832580924034119,
          0.5688486695289612,
          0.5519838929176331,
          0.5399485230445862,
          0.5310004353523254,
          0.5222072601318359,
          0.5156881809234619,
          0.5089489221572876,
          0.5033766627311707,
          0.49840402603149414,
          0.4936106204986572,
          0.48917311429977417,
          0.48485174775123596,
          0.4810566008090973,
          0.477092444896698,
          0.472918838262558,
          0.4694904386997223,
          0.4654863774776459,
          0.46220657229423523,
          0.4585953652858734,
          0.45486071705818176,
          0.4514870345592499,
          0.44791266322135925,
          0.4445081651210785,
          0.4406476318836212,
          0.4375259578227997,
          0.4338090717792511,
          0.4308089017868042,
          0.42698541283607483,
          0.42423760890960693,
          0.42031097412109375,
          0.4170584976673126,
          0.41362181305885315,
          0.4106292426586151,
          0.406747043132782,
          0.403499573469162,
          0.40023574233055115,
          0.3968897759914398,
          0.3934674561023712,
          0.3899722695350647,
          0.3865806460380554,
          0.38322141766548157,
          0.3799075186252594,
          0.376630574464798,
          0.3734615445137024,
          0.37018802762031555,
          0.3667941689491272,
          0.36334213614463806,
          0.35984116792678833,
          0.35633784532546997,
          0.35281234979629517,
          0.34913551807403564,
          0.3454641103744507,
          0.34181469678878784,
          0.33855101466178894,
          0.33450326323509216,
          0.3310915529727936,
          0.32704299688339233,
          0.32300829887390137,
          0.3193700611591339,
          0.31552305817604065,
          0.3141420781612396,
          0.30850929021835327,
          0.3064022958278656,
          0.3009132444858551,
          0.29932329058647156,
          0.2959115505218506,
          0.293974369764328,
          0.28869879245758057,
          0.2865145206451416,
          0.2812025845050812,
          0.27902430295944214,
          0.27476242184638977,
          0.272548109292984,
          0.26964202523231506,
          0.2676123380661011,
          0.2644299268722534,
          0.2619616687297821,
          0.2586941719055176,
          0.25605708360671997,
          0.2534155547618866,
          0.250724732875824,
          0.24845661222934723,
          0.24689269065856934,
          0.2435065507888794,
          0.241738960146904,
          0.23951353132724762,
          0.23800396919250488
         ]
        },
        {
         "mode": "lines",
         "name": "val_loss",
         "type": "scatter",
         "y": [
          0.6843570470809937,
          0.683395504951477,
          0.6808674931526184,
          0.678754985332489,
          0.6757708787918091,
          0.672260582447052,
          0.66718989610672,
          0.661021888256073,
          0.6311174035072327,
          0.6208325624465942,
          0.5933624505996704,
          0.5754231214523315,
          0.5640220046043396,
          0.5475185513496399,
          0.5344457626342773,
          0.5221481323242188,
          0.5145732760429382,
          0.5083592534065247,
          0.5046765804290771,
          0.5008473992347717,
          0.49717843532562256,
          0.4932098388671875,
          0.4893711805343628,
          0.4863133728504181,
          0.4831431210041046,
          0.48034289479255676,
          0.47715482115745544,
          0.4742542505264282,
          0.4714523255825043,
          0.4680904448032379,
          0.4656159281730652,
          0.4631580710411072,
          0.460623174905777,
          0.45768019556999207,
          0.45543184876441956,
          0.4526365399360657,
          0.4501968324184418,
          0.44755035638809204,
          0.4449795186519623,
          0.4421018958091736,
          0.43937644362449646,
          0.43668994307518005,
          0.4333816468715668,
          0.4307860732078552,
          0.42836514115333557,
          0.42500898241996765,
          0.42241185903549194,
          0.42000487446784973,
          0.41710400581359863,
          0.41421401500701904,
          0.4109828472137451,
          0.40769410133361816,
          0.4044850766658783,
          0.4017704427242279,
          0.39855480194091797,
          0.3960306942462921,
          0.39294305443763733,
          0.38950902223587036,
          0.38717472553253174,
          0.3845565915107727,
          0.38110703229904175,
          0.3773338198661804,
          0.3743162155151367,
          0.37102270126342773,
          0.368952214717865,
          0.3649909794330597,
          0.3645065128803253,
          0.3601568341255188,
          0.355864018201828,
          0.35162678360939026,
          0.35251539945602417,
          0.3450838327407837,
          0.34131309390068054,
          0.3376350402832031,
          0.33634278178215027,
          0.3344501554965973,
          0.3307603597640991,
          0.3266887664794922,
          0.33193501830101013,
          0.32634690403938293,
          0.3289748430252075,
          0.3222862482070923,
          0.3196794092655182,
          0.3119484782218933,
          0.31055188179016113,
          0.3106454014778137,
          0.31118452548980713,
          0.30929598212242126,
          0.3051857054233551,
          0.3060897886753082,
          0.29974645376205444,
          0.2965334951877594,
          0.29498782753944397,
          0.29284077882766724,
          0.2918388247489929,
          0.285490483045578,
          0.28661102056503296,
          0.28681129217147827,
          0.2861919403076172,
          0.28131192922592163
         ]
        }
       ],
       "layout": {
        "template": {
         "data": {
          "bar": [
           {
            "error_x": {
             "color": "#2a3f5f"
            },
            "error_y": {
             "color": "#2a3f5f"
            },
            "marker": {
             "line": {
              "color": "#E5ECF6",
              "width": 0.5
             },
             "pattern": {
              "fillmode": "overlay",
              "size": 10,
              "solidity": 0.2
             }
            },
            "type": "bar"
           }
          ],
          "barpolar": [
           {
            "marker": {
             "line": {
              "color": "#E5ECF6",
              "width": 0.5
             },
             "pattern": {
              "fillmode": "overlay",
              "size": 10,
              "solidity": 0.2
             }
            },
            "type": "barpolar"
           }
          ],
          "carpet": [
           {
            "aaxis": {
             "endlinecolor": "#2a3f5f",
             "gridcolor": "white",
             "linecolor": "white",
             "minorgridcolor": "white",
             "startlinecolor": "#2a3f5f"
            },
            "baxis": {
             "endlinecolor": "#2a3f5f",
             "gridcolor": "white",
             "linecolor": "white",
             "minorgridcolor": "white",
             "startlinecolor": "#2a3f5f"
            },
            "type": "carpet"
           }
          ],
          "choropleth": [
           {
            "colorbar": {
             "outlinewidth": 0,
             "ticks": ""
            },
            "type": "choropleth"
           }
          ],
          "contour": [
           {
            "colorbar": {
             "outlinewidth": 0,
             "ticks": ""
            },
            "colorscale": [
             [
              0,
              "#0d0887"
             ],
             [
              0.1111111111111111,
              "#46039f"
             ],
             [
              0.2222222222222222,
              "#7201a8"
             ],
             [
              0.3333333333333333,
              "#9c179e"
             ],
             [
              0.4444444444444444,
              "#bd3786"
             ],
             [
              0.5555555555555556,
              "#d8576b"
             ],
             [
              0.6666666666666666,
              "#ed7953"
             ],
             [
              0.7777777777777778,
              "#fb9f3a"
             ],
             [
              0.8888888888888888,
              "#fdca26"
             ],
             [
              1,
              "#f0f921"
             ]
            ],
            "type": "contour"
           }
          ],
          "contourcarpet": [
           {
            "colorbar": {
             "outlinewidth": 0,
             "ticks": ""
            },
            "type": "contourcarpet"
           }
          ],
          "heatmap": [
           {
            "colorbar": {
             "outlinewidth": 0,
             "ticks": ""
            },
            "colorscale": [
             [
              0,
              "#0d0887"
             ],
             [
              0.1111111111111111,
              "#46039f"
             ],
             [
              0.2222222222222222,
              "#7201a8"
             ],
             [
              0.3333333333333333,
              "#9c179e"
             ],
             [
              0.4444444444444444,
              "#bd3786"
             ],
             [
              0.5555555555555556,
              "#d8576b"
             ],
             [
              0.6666666666666666,
              "#ed7953"
             ],
             [
              0.7777777777777778,
              "#fb9f3a"
             ],
             [
              0.8888888888888888,
              "#fdca26"
             ],
             [
              1,
              "#f0f921"
             ]
            ],
            "type": "heatmap"
           }
          ],
          "heatmapgl": [
           {
            "colorbar": {
             "outlinewidth": 0,
             "ticks": ""
            },
            "colorscale": [
             [
              0,
              "#0d0887"
             ],
             [
              0.1111111111111111,
              "#46039f"
             ],
             [
              0.2222222222222222,
              "#7201a8"
             ],
             [
              0.3333333333333333,
              "#9c179e"
             ],
             [
              0.4444444444444444,
              "#bd3786"
             ],
             [
              0.5555555555555556,
              "#d8576b"
             ],
             [
              0.6666666666666666,
              "#ed7953"
             ],
             [
              0.7777777777777778,
              "#fb9f3a"
             ],
             [
              0.8888888888888888,
              "#fdca26"
             ],
             [
              1,
              "#f0f921"
             ]
            ],
            "type": "heatmapgl"
           }
          ],
          "histogram": [
           {
            "marker": {
             "pattern": {
              "fillmode": "overlay",
              "size": 10,
              "solidity": 0.2
             }
            },
            "type": "histogram"
           }
          ],
          "histogram2d": [
           {
            "colorbar": {
             "outlinewidth": 0,
             "ticks": ""
            },
            "colorscale": [
             [
              0,
              "#0d0887"
             ],
             [
              0.1111111111111111,
              "#46039f"
             ],
             [
              0.2222222222222222,
              "#7201a8"
             ],
             [
              0.3333333333333333,
              "#9c179e"
             ],
             [
              0.4444444444444444,
              "#bd3786"
             ],
             [
              0.5555555555555556,
              "#d8576b"
             ],
             [
              0.6666666666666666,
              "#ed7953"
             ],
             [
              0.7777777777777778,
              "#fb9f3a"
             ],
             [
              0.8888888888888888,
              "#fdca26"
             ],
             [
              1,
              "#f0f921"
             ]
            ],
            "type": "histogram2d"
           }
          ],
          "histogram2dcontour": [
           {
            "colorbar": {
             "outlinewidth": 0,
             "ticks": ""
            },
            "colorscale": [
             [
              0,
              "#0d0887"
             ],
             [
              0.1111111111111111,
              "#46039f"
             ],
             [
              0.2222222222222222,
              "#7201a8"
             ],
             [
              0.3333333333333333,
              "#9c179e"
             ],
             [
              0.4444444444444444,
              "#bd3786"
             ],
             [
              0.5555555555555556,
              "#d8576b"
             ],
             [
              0.6666666666666666,
              "#ed7953"
             ],
             [
              0.7777777777777778,
              "#fb9f3a"
             ],
             [
              0.8888888888888888,
              "#fdca26"
             ],
             [
              1,
              "#f0f921"
             ]
            ],
            "type": "histogram2dcontour"
           }
          ],
          "mesh3d": [
           {
            "colorbar": {
             "outlinewidth": 0,
             "ticks": ""
            },
            "type": "mesh3d"
           }
          ],
          "parcoords": [
           {
            "line": {
             "colorbar": {
              "outlinewidth": 0,
              "ticks": ""
             }
            },
            "type": "parcoords"
           }
          ],
          "pie": [
           {
            "automargin": true,
            "type": "pie"
           }
          ],
          "scatter": [
           {
            "fillpattern": {
             "fillmode": "overlay",
             "size": 10,
             "solidity": 0.2
            },
            "type": "scatter"
           }
          ],
          "scatter3d": [
           {
            "line": {
             "colorbar": {
              "outlinewidth": 0,
              "ticks": ""
             }
            },
            "marker": {
             "colorbar": {
              "outlinewidth": 0,
              "ticks": ""
             }
            },
            "type": "scatter3d"
           }
          ],
          "scattercarpet": [
           {
            "marker": {
             "colorbar": {
              "outlinewidth": 0,
              "ticks": ""
             }
            },
            "type": "scattercarpet"
           }
          ],
          "scattergeo": [
           {
            "marker": {
             "colorbar": {
              "outlinewidth": 0,
              "ticks": ""
             }
            },
            "type": "scattergeo"
           }
          ],
          "scattergl": [
           {
            "marker": {
             "colorbar": {
              "outlinewidth": 0,
              "ticks": ""
             }
            },
            "type": "scattergl"
           }
          ],
          "scattermapbox": [
           {
            "marker": {
             "colorbar": {
              "outlinewidth": 0,
              "ticks": ""
             }
            },
            "type": "scattermapbox"
           }
          ],
          "scatterpolar": [
           {
            "marker": {
             "colorbar": {
              "outlinewidth": 0,
              "ticks": ""
             }
            },
            "type": "scatterpolar"
           }
          ],
          "scatterpolargl": [
           {
            "marker": {
             "colorbar": {
              "outlinewidth": 0,
              "ticks": ""
             }
            },
            "type": "scatterpolargl"
           }
          ],
          "scatterternary": [
           {
            "marker": {
             "colorbar": {
              "outlinewidth": 0,
              "ticks": ""
             }
            },
            "type": "scatterternary"
           }
          ],
          "surface": [
           {
            "colorbar": {
             "outlinewidth": 0,
             "ticks": ""
            },
            "colorscale": [
             [
              0,
              "#0d0887"
             ],
             [
              0.1111111111111111,
              "#46039f"
             ],
             [
              0.2222222222222222,
              "#7201a8"
             ],
             [
              0.3333333333333333,
              "#9c179e"
             ],
             [
              0.4444444444444444,
              "#bd3786"
             ],
             [
              0.5555555555555556,
              "#d8576b"
             ],
             [
              0.6666666666666666,
              "#ed7953"
             ],
             [
              0.7777777777777778,
              "#fb9f3a"
             ],
             [
              0.8888888888888888,
              "#fdca26"
             ],
             [
              1,
              "#f0f921"
             ]
            ],
            "type": "surface"
           }
          ],
          "table": [
           {
            "cells": {
             "fill": {
              "color": "#EBF0F8"
             },
             "line": {
              "color": "white"
             }
            },
            "header": {
             "fill": {
              "color": "#C8D4E3"
             },
             "line": {
              "color": "white"
             }
            },
            "type": "table"
           }
          ]
         },
         "layout": {
          "annotationdefaults": {
           "arrowcolor": "#2a3f5f",
           "arrowhead": 0,
           "arrowwidth": 1
          },
          "autotypenumbers": "strict",
          "coloraxis": {
           "colorbar": {
            "outlinewidth": 0,
            "ticks": ""
           }
          },
          "colorscale": {
           "diverging": [
            [
             0,
             "#8e0152"
            ],
            [
             0.1,
             "#c51b7d"
            ],
            [
             0.2,
             "#de77ae"
            ],
            [
             0.3,
             "#f1b6da"
            ],
            [
             0.4,
             "#fde0ef"
            ],
            [
             0.5,
             "#f7f7f7"
            ],
            [
             0.6,
             "#e6f5d0"
            ],
            [
             0.7,
             "#b8e186"
            ],
            [
             0.8,
             "#7fbc41"
            ],
            [
             0.9,
             "#4d9221"
            ],
            [
             1,
             "#276419"
            ]
           ],
           "sequential": [
            [
             0,
             "#0d0887"
            ],
            [
             0.1111111111111111,
             "#46039f"
            ],
            [
             0.2222222222222222,
             "#7201a8"
            ],
            [
             0.3333333333333333,
             "#9c179e"
            ],
            [
             0.4444444444444444,
             "#bd3786"
            ],
            [
             0.5555555555555556,
             "#d8576b"
            ],
            [
             0.6666666666666666,
             "#ed7953"
            ],
            [
             0.7777777777777778,
             "#fb9f3a"
            ],
            [
             0.8888888888888888,
             "#fdca26"
            ],
            [
             1,
             "#f0f921"
            ]
           ],
           "sequentialminus": [
            [
             0,
             "#0d0887"
            ],
            [
             0.1111111111111111,
             "#46039f"
            ],
            [
             0.2222222222222222,
             "#7201a8"
            ],
            [
             0.3333333333333333,
             "#9c179e"
            ],
            [
             0.4444444444444444,
             "#bd3786"
            ],
            [
             0.5555555555555556,
             "#d8576b"
            ],
            [
             0.6666666666666666,
             "#ed7953"
            ],
            [
             0.7777777777777778,
             "#fb9f3a"
            ],
            [
             0.8888888888888888,
             "#fdca26"
            ],
            [
             1,
             "#f0f921"
            ]
           ]
          },
          "colorway": [
           "#636efa",
           "#EF553B",
           "#00cc96",
           "#ab63fa",
           "#FFA15A",
           "#19d3f3",
           "#FF6692",
           "#B6E880",
           "#FF97FF",
           "#FECB52"
          ],
          "font": {
           "color": "#2a3f5f"
          },
          "geo": {
           "bgcolor": "white",
           "lakecolor": "white",
           "landcolor": "#E5ECF6",
           "showlakes": true,
           "showland": true,
           "subunitcolor": "white"
          },
          "hoverlabel": {
           "align": "left"
          },
          "hovermode": "closest",
          "mapbox": {
           "style": "light"
          },
          "paper_bgcolor": "white",
          "plot_bgcolor": "#E5ECF6",
          "polar": {
           "angularaxis": {
            "gridcolor": "white",
            "linecolor": "white",
            "ticks": ""
           },
           "bgcolor": "#E5ECF6",
           "radialaxis": {
            "gridcolor": "white",
            "linecolor": "white",
            "ticks": ""
           }
          },
          "scene": {
           "xaxis": {
            "backgroundcolor": "#E5ECF6",
            "gridcolor": "white",
            "gridwidth": 2,
            "linecolor": "white",
            "showbackground": true,
            "ticks": "",
            "zerolinecolor": "white"
           },
           "yaxis": {
            "backgroundcolor": "#E5ECF6",
            "gridcolor": "white",
            "gridwidth": 2,
            "linecolor": "white",
            "showbackground": true,
            "ticks": "",
            "zerolinecolor": "white"
           },
           "zaxis": {
            "backgroundcolor": "#E5ECF6",
            "gridcolor": "white",
            "gridwidth": 2,
            "linecolor": "white",
            "showbackground": true,
            "ticks": "",
            "zerolinecolor": "white"
           }
          },
          "shapedefaults": {
           "line": {
            "color": "#2a3f5f"
           }
          },
          "ternary": {
           "aaxis": {
            "gridcolor": "white",
            "linecolor": "white",
            "ticks": ""
           },
           "baxis": {
            "gridcolor": "white",
            "linecolor": "white",
            "ticks": ""
           },
           "bgcolor": "#E5ECF6",
           "caxis": {
            "gridcolor": "white",
            "linecolor": "white",
            "ticks": ""
           }
          },
          "title": {
           "x": 0.05
          },
          "xaxis": {
           "automargin": true,
           "gridcolor": "white",
           "linecolor": "white",
           "ticks": "",
           "title": {
            "standoff": 15
           },
           "zerolinecolor": "white",
           "zerolinewidth": 2
          },
          "yaxis": {
           "automargin": true,
           "gridcolor": "white",
           "linecolor": "white",
           "ticks": "",
           "title": {
            "standoff": 15
           },
           "zerolinecolor": "white",
           "zerolinewidth": 2
          }
         }
        },
        "title": {
         "text": "Loss"
        },
        "xaxis": {
         "title": {
          "text": "Epoch"
         }
        },
        "yaxis": {
         "title": {
          "text": "Loss"
         }
        }
       }
      }
     },
     "metadata": {},
     "output_type": "display_data"
    }
   ],
   "source": [
    "# plot loss\n",
    "fig = go.Figure()\n",
    "fig.add_trace(go.Scatter(y=history.history['loss'], mode='lines', name='loss'))\n",
    "fig.add_trace(go.Scatter(y=history.history['val_loss'], mode='lines', name='val_loss'))\n",
    "fig.update_layout(title='Loss', xaxis_title='Epoch', yaxis_title='Loss')\n",
    "fig.show()"
   ]
  },
  {
   "cell_type": "code",
   "execution_count": 68,
   "metadata": {},
   "outputs": [
    {
     "data": {
      "application/vnd.plotly.v1+json": {
       "config": {
        "plotlyServerURL": "https://plot.ly"
       },
       "data": [
        {
         "mode": "lines",
         "name": "accuracy",
         "type": "scatter",
         "y": [
          0.5453100204467773,
          0.5993640422821045,
          0.5993640422821045,
          0.5961844325065613,
          0.5977742671966553,
          0.6009538769721985,
          0.6041335463523865,
          0.6009538769721985,
          0.6454690098762512,
          0.6534181237220764,
          0.6502384543418884,
          0.6581876277923584,
          0.678855299949646,
          0.6947535872459412,
          0.7201907634735107,
          0.7170111536979675,
          0.7138314843177795,
          0.7186009287834167,
          0.7329093813896179,
          0.7392686605453491,
          0.7440381646156311,
          0.7535771131515503,
          0.7551669478416443,
          0.7503974437713623,
          0.7519872784614563,
          0.7503974437713623,
          0.7567567825317383,
          0.7647058963775635,
          0.7694753408432007,
          0.7774244546890259,
          0.7837837934494019,
          0.7885532379150391,
          0.7885532379150391,
          0.7869634628295898,
          0.7885532379150391,
          0.7885532379150391,
          0.796502411365509,
          0.7996820211410522,
          0.8012718558311462,
          0.8012718558311462,
          0.8060413599014282,
          0.8092209696769714,
          0.8108108043670654,
          0.8155803084373474,
          0.8124006390571594,
          0.8155803084373474,
          0.8203497529029846,
          0.8219395875930786,
          0.8251192569732666,
          0.8298887014389038,
          0.8314785361289978,
          0.8346582055091858,
          0.8362480401992798,
          0.8362480401992798,
          0.837837815284729,
          0.837837815284729,
          0.839427649974823,
          0.841017484664917,
          0.842607319355011,
          0.845786988735199,
          0.8489665985107422,
          0.8489665985107422,
          0.8537361025810242,
          0.8537361025810242,
          0.8569157123565674,
          0.8537361025810242,
          0.8632750511169434,
          0.8664546608924866,
          0.8616852164268494,
          0.8616852164268494,
          0.8648648858070374,
          0.8680444955825806,
          0.8664546608924866,
          0.8680444955825806,
          0.8744038343429565,
          0.8728139996528625,
          0.8759936690330505,
          0.8823529481887817,
          0.8807631134986877,
          0.8839427828788757,
          0.887122392654419,
          0.887122392654419,
          0.8982511758804321,
          0.8950715661048889,
          0.9030206799507141,
          0.9030206799507141,
          0.9030206799507141,
          0.9030206799507141,
          0.9046105146408081,
          0.9077901244163513,
          0.9093799591064453,
          0.9093799591064453,
          0.9062002897262573,
          0.9077901244163513,
          0.9109697937965393,
          0.9125596284866333,
          0.9141494631767273,
          0.9157392978668213,
          0.9141494631767273,
          0.9141494631767273
         ]
        },
        {
         "mode": "lines",
         "name": "val_accuracy",
         "type": "scatter",
         "y": [
          0.5703703761100769,
          0.5481481552124023,
          0.5629629492759705,
          0.5629629492759705,
          0.5555555820465088,
          0.5777778029441833,
          0.7185184955596924,
          0.6888889074325562,
          0.6296296119689941,
          0.6370370388031006,
          0.6962962746620178,
          0.7111111283302307,
          0.7259259223937988,
          0.7259259223937988,
          0.7481481432914734,
          0.7185184955596924,
          0.7259259223937988,
          0.7407407164573669,
          0.7407407164573669,
          0.7407407164573669,
          0.7481481432914734,
          0.7555555701255798,
          0.7629629373550415,
          0.7629629373550415,
          0.7629629373550415,
          0.7629629373550415,
          0.770370364189148,
          0.7629629373550415,
          0.7629629373550415,
          0.7629629373550415,
          0.7629629373550415,
          0.7555555701255798,
          0.7481481432914734,
          0.7481481432914734,
          0.7555555701255798,
          0.7629629373550415,
          0.770370364189148,
          0.7777777910232544,
          0.7777777910232544,
          0.7777777910232544,
          0.7777777910232544,
          0.7777777910232544,
          0.7777777910232544,
          0.7851851582527161,
          0.800000011920929,
          0.8074073791503906,
          0.8074073791503906,
          0.8074073791503906,
          0.8074073791503906,
          0.8074073791503906,
          0.8148148059844971,
          0.8148148059844971,
          0.8222222328186035,
          0.8296296000480652,
          0.8296296000480652,
          0.8370370268821716,
          0.8444444537162781,
          0.8370370268821716,
          0.8370370268821716,
          0.8370370268821716,
          0.8370370268821716,
          0.8370370268821716,
          0.8370370268821716,
          0.8370370268821716,
          0.8296296000480652,
          0.8296296000480652,
          0.8370370268821716,
          0.8370370268821716,
          0.8444444537162781,
          0.8444444537162781,
          0.8592592477798462,
          0.8666666746139526,
          0.8740741014480591,
          0.8740741014480591,
          0.8740741014480591,
          0.8740741014480591,
          0.8740741014480591,
          0.8740741014480591,
          0.8740741014480591,
          0.8740741014480591,
          0.8740741014480591,
          0.8740741014480591,
          0.8740741014480591,
          0.8740741014480591,
          0.8740741014480591,
          0.8740741014480591,
          0.8740741014480591,
          0.8740741014480591,
          0.8740741014480591,
          0.8740741014480591,
          0.8740741014480591,
          0.8740741014480591,
          0.8740741014480591,
          0.8740741014480591,
          0.8740741014480591,
          0.8740741014480591,
          0.8740741014480591,
          0.8740741014480591,
          0.8740741014480591,
          0.8740741014480591
         ]
        }
       ],
       "layout": {
        "template": {
         "data": {
          "bar": [
           {
            "error_x": {
             "color": "#2a3f5f"
            },
            "error_y": {
             "color": "#2a3f5f"
            },
            "marker": {
             "line": {
              "color": "#E5ECF6",
              "width": 0.5
             },
             "pattern": {
              "fillmode": "overlay",
              "size": 10,
              "solidity": 0.2
             }
            },
            "type": "bar"
           }
          ],
          "barpolar": [
           {
            "marker": {
             "line": {
              "color": "#E5ECF6",
              "width": 0.5
             },
             "pattern": {
              "fillmode": "overlay",
              "size": 10,
              "solidity": 0.2
             }
            },
            "type": "barpolar"
           }
          ],
          "carpet": [
           {
            "aaxis": {
             "endlinecolor": "#2a3f5f",
             "gridcolor": "white",
             "linecolor": "white",
             "minorgridcolor": "white",
             "startlinecolor": "#2a3f5f"
            },
            "baxis": {
             "endlinecolor": "#2a3f5f",
             "gridcolor": "white",
             "linecolor": "white",
             "minorgridcolor": "white",
             "startlinecolor": "#2a3f5f"
            },
            "type": "carpet"
           }
          ],
          "choropleth": [
           {
            "colorbar": {
             "outlinewidth": 0,
             "ticks": ""
            },
            "type": "choropleth"
           }
          ],
          "contour": [
           {
            "colorbar": {
             "outlinewidth": 0,
             "ticks": ""
            },
            "colorscale": [
             [
              0,
              "#0d0887"
             ],
             [
              0.1111111111111111,
              "#46039f"
             ],
             [
              0.2222222222222222,
              "#7201a8"
             ],
             [
              0.3333333333333333,
              "#9c179e"
             ],
             [
              0.4444444444444444,
              "#bd3786"
             ],
             [
              0.5555555555555556,
              "#d8576b"
             ],
             [
              0.6666666666666666,
              "#ed7953"
             ],
             [
              0.7777777777777778,
              "#fb9f3a"
             ],
             [
              0.8888888888888888,
              "#fdca26"
             ],
             [
              1,
              "#f0f921"
             ]
            ],
            "type": "contour"
           }
          ],
          "contourcarpet": [
           {
            "colorbar": {
             "outlinewidth": 0,
             "ticks": ""
            },
            "type": "contourcarpet"
           }
          ],
          "heatmap": [
           {
            "colorbar": {
             "outlinewidth": 0,
             "ticks": ""
            },
            "colorscale": [
             [
              0,
              "#0d0887"
             ],
             [
              0.1111111111111111,
              "#46039f"
             ],
             [
              0.2222222222222222,
              "#7201a8"
             ],
             [
              0.3333333333333333,
              "#9c179e"
             ],
             [
              0.4444444444444444,
              "#bd3786"
             ],
             [
              0.5555555555555556,
              "#d8576b"
             ],
             [
              0.6666666666666666,
              "#ed7953"
             ],
             [
              0.7777777777777778,
              "#fb9f3a"
             ],
             [
              0.8888888888888888,
              "#fdca26"
             ],
             [
              1,
              "#f0f921"
             ]
            ],
            "type": "heatmap"
           }
          ],
          "heatmapgl": [
           {
            "colorbar": {
             "outlinewidth": 0,
             "ticks": ""
            },
            "colorscale": [
             [
              0,
              "#0d0887"
             ],
             [
              0.1111111111111111,
              "#46039f"
             ],
             [
              0.2222222222222222,
              "#7201a8"
             ],
             [
              0.3333333333333333,
              "#9c179e"
             ],
             [
              0.4444444444444444,
              "#bd3786"
             ],
             [
              0.5555555555555556,
              "#d8576b"
             ],
             [
              0.6666666666666666,
              "#ed7953"
             ],
             [
              0.7777777777777778,
              "#fb9f3a"
             ],
             [
              0.8888888888888888,
              "#fdca26"
             ],
             [
              1,
              "#f0f921"
             ]
            ],
            "type": "heatmapgl"
           }
          ],
          "histogram": [
           {
            "marker": {
             "pattern": {
              "fillmode": "overlay",
              "size": 10,
              "solidity": 0.2
             }
            },
            "type": "histogram"
           }
          ],
          "histogram2d": [
           {
            "colorbar": {
             "outlinewidth": 0,
             "ticks": ""
            },
            "colorscale": [
             [
              0,
              "#0d0887"
             ],
             [
              0.1111111111111111,
              "#46039f"
             ],
             [
              0.2222222222222222,
              "#7201a8"
             ],
             [
              0.3333333333333333,
              "#9c179e"
             ],
             [
              0.4444444444444444,
              "#bd3786"
             ],
             [
              0.5555555555555556,
              "#d8576b"
             ],
             [
              0.6666666666666666,
              "#ed7953"
             ],
             [
              0.7777777777777778,
              "#fb9f3a"
             ],
             [
              0.8888888888888888,
              "#fdca26"
             ],
             [
              1,
              "#f0f921"
             ]
            ],
            "type": "histogram2d"
           }
          ],
          "histogram2dcontour": [
           {
            "colorbar": {
             "outlinewidth": 0,
             "ticks": ""
            },
            "colorscale": [
             [
              0,
              "#0d0887"
             ],
             [
              0.1111111111111111,
              "#46039f"
             ],
             [
              0.2222222222222222,
              "#7201a8"
             ],
             [
              0.3333333333333333,
              "#9c179e"
             ],
             [
              0.4444444444444444,
              "#bd3786"
             ],
             [
              0.5555555555555556,
              "#d8576b"
             ],
             [
              0.6666666666666666,
              "#ed7953"
             ],
             [
              0.7777777777777778,
              "#fb9f3a"
             ],
             [
              0.8888888888888888,
              "#fdca26"
             ],
             [
              1,
              "#f0f921"
             ]
            ],
            "type": "histogram2dcontour"
           }
          ],
          "mesh3d": [
           {
            "colorbar": {
             "outlinewidth": 0,
             "ticks": ""
            },
            "type": "mesh3d"
           }
          ],
          "parcoords": [
           {
            "line": {
             "colorbar": {
              "outlinewidth": 0,
              "ticks": ""
             }
            },
            "type": "parcoords"
           }
          ],
          "pie": [
           {
            "automargin": true,
            "type": "pie"
           }
          ],
          "scatter": [
           {
            "fillpattern": {
             "fillmode": "overlay",
             "size": 10,
             "solidity": 0.2
            },
            "type": "scatter"
           }
          ],
          "scatter3d": [
           {
            "line": {
             "colorbar": {
              "outlinewidth": 0,
              "ticks": ""
             }
            },
            "marker": {
             "colorbar": {
              "outlinewidth": 0,
              "ticks": ""
             }
            },
            "type": "scatter3d"
           }
          ],
          "scattercarpet": [
           {
            "marker": {
             "colorbar": {
              "outlinewidth": 0,
              "ticks": ""
             }
            },
            "type": "scattercarpet"
           }
          ],
          "scattergeo": [
           {
            "marker": {
             "colorbar": {
              "outlinewidth": 0,
              "ticks": ""
             }
            },
            "type": "scattergeo"
           }
          ],
          "scattergl": [
           {
            "marker": {
             "colorbar": {
              "outlinewidth": 0,
              "ticks": ""
             }
            },
            "type": "scattergl"
           }
          ],
          "scattermapbox": [
           {
            "marker": {
             "colorbar": {
              "outlinewidth": 0,
              "ticks": ""
             }
            },
            "type": "scattermapbox"
           }
          ],
          "scatterpolar": [
           {
            "marker": {
             "colorbar": {
              "outlinewidth": 0,
              "ticks": ""
             }
            },
            "type": "scatterpolar"
           }
          ],
          "scatterpolargl": [
           {
            "marker": {
             "colorbar": {
              "outlinewidth": 0,
              "ticks": ""
             }
            },
            "type": "scatterpolargl"
           }
          ],
          "scatterternary": [
           {
            "marker": {
             "colorbar": {
              "outlinewidth": 0,
              "ticks": ""
             }
            },
            "type": "scatterternary"
           }
          ],
          "surface": [
           {
            "colorbar": {
             "outlinewidth": 0,
             "ticks": ""
            },
            "colorscale": [
             [
              0,
              "#0d0887"
             ],
             [
              0.1111111111111111,
              "#46039f"
             ],
             [
              0.2222222222222222,
              "#7201a8"
             ],
             [
              0.3333333333333333,
              "#9c179e"
             ],
             [
              0.4444444444444444,
              "#bd3786"
             ],
             [
              0.5555555555555556,
              "#d8576b"
             ],
             [
              0.6666666666666666,
              "#ed7953"
             ],
             [
              0.7777777777777778,
              "#fb9f3a"
             ],
             [
              0.8888888888888888,
              "#fdca26"
             ],
             [
              1,
              "#f0f921"
             ]
            ],
            "type": "surface"
           }
          ],
          "table": [
           {
            "cells": {
             "fill": {
              "color": "#EBF0F8"
             },
             "line": {
              "color": "white"
             }
            },
            "header": {
             "fill": {
              "color": "#C8D4E3"
             },
             "line": {
              "color": "white"
             }
            },
            "type": "table"
           }
          ]
         },
         "layout": {
          "annotationdefaults": {
           "arrowcolor": "#2a3f5f",
           "arrowhead": 0,
           "arrowwidth": 1
          },
          "autotypenumbers": "strict",
          "coloraxis": {
           "colorbar": {
            "outlinewidth": 0,
            "ticks": ""
           }
          },
          "colorscale": {
           "diverging": [
            [
             0,
             "#8e0152"
            ],
            [
             0.1,
             "#c51b7d"
            ],
            [
             0.2,
             "#de77ae"
            ],
            [
             0.3,
             "#f1b6da"
            ],
            [
             0.4,
             "#fde0ef"
            ],
            [
             0.5,
             "#f7f7f7"
            ],
            [
             0.6,
             "#e6f5d0"
            ],
            [
             0.7,
             "#b8e186"
            ],
            [
             0.8,
             "#7fbc41"
            ],
            [
             0.9,
             "#4d9221"
            ],
            [
             1,
             "#276419"
            ]
           ],
           "sequential": [
            [
             0,
             "#0d0887"
            ],
            [
             0.1111111111111111,
             "#46039f"
            ],
            [
             0.2222222222222222,
             "#7201a8"
            ],
            [
             0.3333333333333333,
             "#9c179e"
            ],
            [
             0.4444444444444444,
             "#bd3786"
            ],
            [
             0.5555555555555556,
             "#d8576b"
            ],
            [
             0.6666666666666666,
             "#ed7953"
            ],
            [
             0.7777777777777778,
             "#fb9f3a"
            ],
            [
             0.8888888888888888,
             "#fdca26"
            ],
            [
             1,
             "#f0f921"
            ]
           ],
           "sequentialminus": [
            [
             0,
             "#0d0887"
            ],
            [
             0.1111111111111111,
             "#46039f"
            ],
            [
             0.2222222222222222,
             "#7201a8"
            ],
            [
             0.3333333333333333,
             "#9c179e"
            ],
            [
             0.4444444444444444,
             "#bd3786"
            ],
            [
             0.5555555555555556,
             "#d8576b"
            ],
            [
             0.6666666666666666,
             "#ed7953"
            ],
            [
             0.7777777777777778,
             "#fb9f3a"
            ],
            [
             0.8888888888888888,
             "#fdca26"
            ],
            [
             1,
             "#f0f921"
            ]
           ]
          },
          "colorway": [
           "#636efa",
           "#EF553B",
           "#00cc96",
           "#ab63fa",
           "#FFA15A",
           "#19d3f3",
           "#FF6692",
           "#B6E880",
           "#FF97FF",
           "#FECB52"
          ],
          "font": {
           "color": "#2a3f5f"
          },
          "geo": {
           "bgcolor": "white",
           "lakecolor": "white",
           "landcolor": "#E5ECF6",
           "showlakes": true,
           "showland": true,
           "subunitcolor": "white"
          },
          "hoverlabel": {
           "align": "left"
          },
          "hovermode": "closest",
          "mapbox": {
           "style": "light"
          },
          "paper_bgcolor": "white",
          "plot_bgcolor": "#E5ECF6",
          "polar": {
           "angularaxis": {
            "gridcolor": "white",
            "linecolor": "white",
            "ticks": ""
           },
           "bgcolor": "#E5ECF6",
           "radialaxis": {
            "gridcolor": "white",
            "linecolor": "white",
            "ticks": ""
           }
          },
          "scene": {
           "xaxis": {
            "backgroundcolor": "#E5ECF6",
            "gridcolor": "white",
            "gridwidth": 2,
            "linecolor": "white",
            "showbackground": true,
            "ticks": "",
            "zerolinecolor": "white"
           },
           "yaxis": {
            "backgroundcolor": "#E5ECF6",
            "gridcolor": "white",
            "gridwidth": 2,
            "linecolor": "white",
            "showbackground": true,
            "ticks": "",
            "zerolinecolor": "white"
           },
           "zaxis": {
            "backgroundcolor": "#E5ECF6",
            "gridcolor": "white",
            "gridwidth": 2,
            "linecolor": "white",
            "showbackground": true,
            "ticks": "",
            "zerolinecolor": "white"
           }
          },
          "shapedefaults": {
           "line": {
            "color": "#2a3f5f"
           }
          },
          "ternary": {
           "aaxis": {
            "gridcolor": "white",
            "linecolor": "white",
            "ticks": ""
           },
           "baxis": {
            "gridcolor": "white",
            "linecolor": "white",
            "ticks": ""
           },
           "bgcolor": "#E5ECF6",
           "caxis": {
            "gridcolor": "white",
            "linecolor": "white",
            "ticks": ""
           }
          },
          "title": {
           "x": 0.05
          },
          "xaxis": {
           "automargin": true,
           "gridcolor": "white",
           "linecolor": "white",
           "ticks": "",
           "title": {
            "standoff": 15
           },
           "zerolinecolor": "white",
           "zerolinewidth": 2
          },
          "yaxis": {
           "automargin": true,
           "gridcolor": "white",
           "linecolor": "white",
           "ticks": "",
           "title": {
            "standoff": 15
           },
           "zerolinecolor": "white",
           "zerolinewidth": 2
          }
         }
        },
        "title": {
         "text": "Accuracy"
        },
        "xaxis": {
         "title": {
          "text": "Epoch"
         }
        },
        "yaxis": {
         "title": {
          "text": "Accuracy"
         }
        }
       }
      }
     },
     "metadata": {},
     "output_type": "display_data"
    }
   ],
   "source": [
    "# plot accuracy\n",
    "fig = go.Figure()\n",
    "fig.add_trace(go.Scatter(y=history.history['accuracy'], mode='lines', name='accuracy'))\n",
    "fig.add_trace(go.Scatter(y=history.history['val_accuracy'], mode='lines', name='val_accuracy'))\n",
    "fig.update_layout(title='Accuracy', xaxis_title='Epoch', yaxis_title='Accuracy')\n",
    "fig.show()"
   ]
  },
  {
   "cell_type": "code",
   "execution_count": null,
   "metadata": {},
   "outputs": [
    {
     "ename": "",
     "evalue": "",
     "output_type": "error",
     "traceback": [
      "\u001b[1;31mRunning cells with 'penv' requires the ipykernel package.\n",
      "\u001b[1;31mRun the following command to install 'ipykernel' into the Python environment. \n",
      "\u001b[1;31mCommand: 'd:/Saham/penv/Scripts/python.exe -m pip install ipykernel -U --force-reinstall'"
     ]
    }
   ],
   "source": []
  }
 ],
 "metadata": {
  "kernelspec": {
   "display_name": "corporate-bankruptcy",
   "language": "python",
   "name": "python3"
  },
  "language_info": {
   "codemirror_mode": {
    "name": "ipython",
    "version": 3
   },
   "file_extension": ".py",
   "mimetype": "text/x-python",
   "name": "python",
   "nbconvert_exporter": "python",
   "pygments_lexer": "ipython3",
   "version": "3.10.8"
  },
  "orig_nbformat": 4
 },
 "nbformat": 4,
 "nbformat_minor": 2
}
