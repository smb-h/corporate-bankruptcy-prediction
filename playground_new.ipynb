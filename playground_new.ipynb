{
 "cells": [
  {
   "cell_type": "code",
   "execution_count": 2,
   "metadata": {},
   "outputs": [],
   "source": [
    "import pandas as pd\n",
    "import numpy as np\n",
    "import plotly.graph_objects as go\n",
    "import plotly.express as px\n",
    "from sklearn.preprocessing import LabelEncoder\n",
    "from sklearn.preprocessing import MinMaxScaler\n",
    "from tensorflow import keras\n",
    "from sklearn.metrics import accuracy_score, precision_score, recall_score, f1_score, roc_auc_score\n",
    "from sklearn.model_selection import train_test_split\n",
    "from sklearn.linear_model import LogisticRegression\n",
    "from sklearn.ensemble import RandomForestClassifier\n",
    "from sklearn.svm import SVC"
   ]
  },
  {
   "cell_type": "code",
   "execution_count": 5,
   "metadata": {},
   "outputs": [],
   "source": [
    "results = pd.DataFrame(columns=['model', 'accuracy', 'precision', 'recall', 'f1', 'roc_auc'])"
   ]
  },
  {
   "cell_type": "markdown",
   "metadata": {},
   "source": [
    "### Data"
   ]
  },
  {
   "cell_type": "code",
   "execution_count": 6,
   "metadata": {},
   "outputs": [
    {
     "name": "stdout",
     "output_type": "stream",
     "text": [
      "(899, 827)\n"
     ]
    },
    {
     "data": {
      "text/html": [
       "<div>\n",
       "<style scoped>\n",
       "    .dataframe tbody tr th:only-of-type {\n",
       "        vertical-align: middle;\n",
       "    }\n",
       "\n",
       "    .dataframe tbody tr th {\n",
       "        vertical-align: top;\n",
       "    }\n",
       "\n",
       "    .dataframe thead th {\n",
       "        text-align: right;\n",
       "    }\n",
       "</style>\n",
       "<table border=\"1\" class=\"dataframe\">\n",
       "  <thead>\n",
       "    <tr style=\"text-align: right;\">\n",
       "      <th></th>\n",
       "      <th>Custom-Return_1390</th>\n",
       "      <th>EPS_MRQ_LC_1390</th>\n",
       "      <th>EPS_TTM_1390</th>\n",
       "      <th>EPS_MRQ_1390</th>\n",
       "      <th>EPS_FY_1390</th>\n",
       "      <th>Rev_TTM_1390</th>\n",
       "      <th>Rev_MRQ_1390</th>\n",
       "      <th>Rev_FY_1390</th>\n",
       "      <th>NI_TTM_1390</th>\n",
       "      <th>NI_MRQ_1390</th>\n",
       "      <th>...</th>\n",
       "      <th>ETR_1401</th>\n",
       "      <th>CFOToRev_1401</th>\n",
       "      <th>CFOToDebt_1401</th>\n",
       "      <th>FCFFToRev_1401</th>\n",
       "      <th>FCFFToNI_1401</th>\n",
       "      <th>FCFEToRev_1401</th>\n",
       "      <th>FCFEToNI_1401</th>\n",
       "      <th>CAPEXToRev_1401</th>\n",
       "      <th>CAPEXToNI_1401</th>\n",
       "      <th>DivYield_1401</th>\n",
       "    </tr>\n",
       "  </thead>\n",
       "  <tbody>\n",
       "    <tr>\n",
       "      <th>0</th>\n",
       "      <td>NaN</td>\n",
       "      <td>11.3750</td>\n",
       "      <td>83.0</td>\n",
       "      <td>11.0</td>\n",
       "      <td>24.0</td>\n",
       "      <td>1.917455e+12</td>\n",
       "      <td>8.399880e+11</td>\n",
       "      <td>1.685499e+12</td>\n",
       "      <td>8.266700e+10</td>\n",
       "      <td>1.137500e+10</td>\n",
       "      <td>...</td>\n",
       "      <td>0.0041</td>\n",
       "      <td>-0.0810</td>\n",
       "      <td>-0.0616</td>\n",
       "      <td>-0.0684</td>\n",
       "      <td>-1.7557</td>\n",
       "      <td>0.0220</td>\n",
       "      <td>0.0689</td>\n",
       "      <td>-0.0123</td>\n",
       "      <td>-0.3158</td>\n",
       "      <td>0.0021</td>\n",
       "    </tr>\n",
       "    <tr>\n",
       "      <th>1</th>\n",
       "      <td>0.208274</td>\n",
       "      <td>117.4437</td>\n",
       "      <td>295.0</td>\n",
       "      <td>117.0</td>\n",
       "      <td>295.0</td>\n",
       "      <td>9.046040e+12</td>\n",
       "      <td>2.474342e+12</td>\n",
       "      <td>9.046040e+12</td>\n",
       "      <td>7.951730e+11</td>\n",
       "      <td>3.170980e+11</td>\n",
       "      <td>...</td>\n",
       "      <td>0.1370</td>\n",
       "      <td>0.0267</td>\n",
       "      <td>0.0746</td>\n",
       "      <td>0.0082</td>\n",
       "      <td>0.0930</td>\n",
       "      <td>0.0305</td>\n",
       "      <td>0.3474</td>\n",
       "      <td>0.0187</td>\n",
       "      <td>0.2122</td>\n",
       "      <td>0.0073</td>\n",
       "    </tr>\n",
       "    <tr>\n",
       "      <th>2</th>\n",
       "      <td>NaN</td>\n",
       "      <td>88.7262</td>\n",
       "      <td>406.0</td>\n",
       "      <td>89.0</td>\n",
       "      <td>384.0</td>\n",
       "      <td>6.988662e+12</td>\n",
       "      <td>1.702216e+12</td>\n",
       "      <td>6.914857e+12</td>\n",
       "      <td>9.131650e+11</td>\n",
       "      <td>1.996340e+11</td>\n",
       "      <td>...</td>\n",
       "      <td>0.1034</td>\n",
       "      <td>0.0433</td>\n",
       "      <td>0.1469</td>\n",
       "      <td>0.0697</td>\n",
       "      <td>0.5587</td>\n",
       "      <td>0.0757</td>\n",
       "      <td>0.6061</td>\n",
       "      <td>0.0050</td>\n",
       "      <td>0.0402</td>\n",
       "      <td>0.0048</td>\n",
       "    </tr>\n",
       "    <tr>\n",
       "      <th>3</th>\n",
       "      <td>-0.481625</td>\n",
       "      <td>-125.1184</td>\n",
       "      <td>-113.0</td>\n",
       "      <td>-125.0</td>\n",
       "      <td>-113.0</td>\n",
       "      <td>2.991100e+10</td>\n",
       "      <td>7.170000e+08</td>\n",
       "      <td>2.991100e+10</td>\n",
       "      <td>-2.570900e+10</td>\n",
       "      <td>-2.852700e+10</td>\n",
       "      <td>...</td>\n",
       "      <td>NaN</td>\n",
       "      <td>-0.5435</td>\n",
       "      <td>-0.0327</td>\n",
       "      <td>-0.6303</td>\n",
       "      <td>NaN</td>\n",
       "      <td>-0.6316</td>\n",
       "      <td>NaN</td>\n",
       "      <td>0.0869</td>\n",
       "      <td>-0.3459</td>\n",
       "      <td>NaN</td>\n",
       "    </tr>\n",
       "    <tr>\n",
       "      <th>4</th>\n",
       "      <td>NaN</td>\n",
       "      <td>NaN</td>\n",
       "      <td>NaN</td>\n",
       "      <td>NaN</td>\n",
       "      <td>NaN</td>\n",
       "      <td>NaN</td>\n",
       "      <td>NaN</td>\n",
       "      <td>NaN</td>\n",
       "      <td>NaN</td>\n",
       "      <td>NaN</td>\n",
       "      <td>...</td>\n",
       "      <td>NaN</td>\n",
       "      <td>NaN</td>\n",
       "      <td>NaN</td>\n",
       "      <td>NaN</td>\n",
       "      <td>NaN</td>\n",
       "      <td>NaN</td>\n",
       "      <td>NaN</td>\n",
       "      <td>NaN</td>\n",
       "      <td>NaN</td>\n",
       "      <td>NaN</td>\n",
       "    </tr>\n",
       "  </tbody>\n",
       "</table>\n",
       "<p>5 rows × 827 columns</p>\n",
       "</div>"
      ],
      "text/plain": [
       "   Custom-Return_1390  EPS_MRQ_LC_1390  EPS_TTM_1390  EPS_MRQ_1390  \\\n",
       "0                 NaN          11.3750          83.0          11.0   \n",
       "1            0.208274         117.4437         295.0         117.0   \n",
       "2                 NaN          88.7262         406.0          89.0   \n",
       "3           -0.481625        -125.1184        -113.0        -125.0   \n",
       "4                 NaN              NaN           NaN           NaN   \n",
       "\n",
       "   EPS_FY_1390  Rev_TTM_1390  Rev_MRQ_1390   Rev_FY_1390   NI_TTM_1390  \\\n",
       "0         24.0  1.917455e+12  8.399880e+11  1.685499e+12  8.266700e+10   \n",
       "1        295.0  9.046040e+12  2.474342e+12  9.046040e+12  7.951730e+11   \n",
       "2        384.0  6.988662e+12  1.702216e+12  6.914857e+12  9.131650e+11   \n",
       "3       -113.0  2.991100e+10  7.170000e+08  2.991100e+10 -2.570900e+10   \n",
       "4          NaN           NaN           NaN           NaN           NaN   \n",
       "\n",
       "    NI_MRQ_1390  ...  ETR_1401  CFOToRev_1401  CFOToDebt_1401  FCFFToRev_1401  \\\n",
       "0  1.137500e+10  ...    0.0041        -0.0810         -0.0616         -0.0684   \n",
       "1  3.170980e+11  ...    0.1370         0.0267          0.0746          0.0082   \n",
       "2  1.996340e+11  ...    0.1034         0.0433          0.1469          0.0697   \n",
       "3 -2.852700e+10  ...       NaN        -0.5435         -0.0327         -0.6303   \n",
       "4           NaN  ...       NaN            NaN             NaN             NaN   \n",
       "\n",
       "   FCFFToNI_1401  FCFEToRev_1401  FCFEToNI_1401  CAPEXToRev_1401  \\\n",
       "0        -1.7557          0.0220         0.0689          -0.0123   \n",
       "1         0.0930          0.0305         0.3474           0.0187   \n",
       "2         0.5587          0.0757         0.6061           0.0050   \n",
       "3            NaN         -0.6316            NaN           0.0869   \n",
       "4            NaN             NaN            NaN              NaN   \n",
       "\n",
       "   CAPEXToNI_1401  DivYield_1401  \n",
       "0         -0.3158         0.0021  \n",
       "1          0.2122         0.0073  \n",
       "2          0.0402         0.0048  \n",
       "3         -0.3459            NaN  \n",
       "4             NaN            NaN  \n",
       "\n",
       "[5 rows x 827 columns]"
      ]
     },
     "execution_count": 6,
     "metadata": {},
     "output_type": "execute_result"
    }
   ],
   "source": [
    "df = pd.read_excel('./data.xlsx')\n",
    "df = df.drop(columns=['Company'])\n",
    "df = df.replace('-', np.nan)\n",
    "print(df.shape)\n",
    "df.head()"
   ]
  },
  {
   "cell_type": "code",
   "execution_count": 7,
   "metadata": {},
   "outputs": [
    {
     "data": {
      "text/html": [
       "<div>\n",
       "<style scoped>\n",
       "    .dataframe tbody tr th:only-of-type {\n",
       "        vertical-align: middle;\n",
       "    }\n",
       "\n",
       "    .dataframe tbody tr th {\n",
       "        vertical-align: top;\n",
       "    }\n",
       "\n",
       "    .dataframe thead th {\n",
       "        text-align: right;\n",
       "    }\n",
       "</style>\n",
       "<table border=\"1\" class=\"dataframe\">\n",
       "  <thead>\n",
       "    <tr style=\"text-align: right;\">\n",
       "      <th></th>\n",
       "      <th>Custom-Return_1390</th>\n",
       "      <th>EPS_MRQ_LC_1390</th>\n",
       "      <th>EPS_TTM_1390</th>\n",
       "      <th>EPS_MRQ_1390</th>\n",
       "      <th>EPS_FY_1390</th>\n",
       "      <th>Rev_TTM_1390</th>\n",
       "      <th>Rev_MRQ_1390</th>\n",
       "      <th>Rev_FY_1390</th>\n",
       "      <th>NI_TTM_1390</th>\n",
       "      <th>NI_MRQ_1390</th>\n",
       "      <th>...</th>\n",
       "      <th>ETR_1401</th>\n",
       "      <th>CFOToRev_1401</th>\n",
       "      <th>CFOToDebt_1401</th>\n",
       "      <th>FCFFToRev_1401</th>\n",
       "      <th>FCFFToNI_1401</th>\n",
       "      <th>FCFEToRev_1401</th>\n",
       "      <th>FCFEToNI_1401</th>\n",
       "      <th>CAPEXToRev_1401</th>\n",
       "      <th>CAPEXToNI_1401</th>\n",
       "      <th>DivYield_1401</th>\n",
       "    </tr>\n",
       "  </thead>\n",
       "  <tbody>\n",
       "    <tr>\n",
       "      <th>0</th>\n",
       "      <td>NaN</td>\n",
       "      <td>11.3750</td>\n",
       "      <td>83.0</td>\n",
       "      <td>11.0</td>\n",
       "      <td>24.0</td>\n",
       "      <td>1.917455e+12</td>\n",
       "      <td>8.399880e+11</td>\n",
       "      <td>1.685499e+12</td>\n",
       "      <td>8.266700e+10</td>\n",
       "      <td>1.137500e+10</td>\n",
       "      <td>...</td>\n",
       "      <td>0.0041</td>\n",
       "      <td>-0.0810</td>\n",
       "      <td>-0.0616</td>\n",
       "      <td>-0.0684</td>\n",
       "      <td>-1.7557</td>\n",
       "      <td>0.0220</td>\n",
       "      <td>0.0689</td>\n",
       "      <td>-0.0123</td>\n",
       "      <td>-0.3158</td>\n",
       "      <td>0.0021</td>\n",
       "    </tr>\n",
       "    <tr>\n",
       "      <th>1</th>\n",
       "      <td>0.208274</td>\n",
       "      <td>117.4437</td>\n",
       "      <td>295.0</td>\n",
       "      <td>117.0</td>\n",
       "      <td>295.0</td>\n",
       "      <td>9.046040e+12</td>\n",
       "      <td>2.474342e+12</td>\n",
       "      <td>9.046040e+12</td>\n",
       "      <td>7.951730e+11</td>\n",
       "      <td>3.170980e+11</td>\n",
       "      <td>...</td>\n",
       "      <td>0.1370</td>\n",
       "      <td>0.0267</td>\n",
       "      <td>0.0746</td>\n",
       "      <td>0.0082</td>\n",
       "      <td>0.0930</td>\n",
       "      <td>0.0305</td>\n",
       "      <td>0.3474</td>\n",
       "      <td>0.0187</td>\n",
       "      <td>0.2122</td>\n",
       "      <td>0.0073</td>\n",
       "    </tr>\n",
       "    <tr>\n",
       "      <th>2</th>\n",
       "      <td>NaN</td>\n",
       "      <td>88.7262</td>\n",
       "      <td>406.0</td>\n",
       "      <td>89.0</td>\n",
       "      <td>384.0</td>\n",
       "      <td>6.988662e+12</td>\n",
       "      <td>1.702216e+12</td>\n",
       "      <td>6.914857e+12</td>\n",
       "      <td>9.131650e+11</td>\n",
       "      <td>1.996340e+11</td>\n",
       "      <td>...</td>\n",
       "      <td>0.1034</td>\n",
       "      <td>0.0433</td>\n",
       "      <td>0.1469</td>\n",
       "      <td>0.0697</td>\n",
       "      <td>0.5587</td>\n",
       "      <td>0.0757</td>\n",
       "      <td>0.6061</td>\n",
       "      <td>0.0050</td>\n",
       "      <td>0.0402</td>\n",
       "      <td>0.0048</td>\n",
       "    </tr>\n",
       "    <tr>\n",
       "      <th>3</th>\n",
       "      <td>-0.481625</td>\n",
       "      <td>-125.1184</td>\n",
       "      <td>-113.0</td>\n",
       "      <td>-125.0</td>\n",
       "      <td>-113.0</td>\n",
       "      <td>2.991100e+10</td>\n",
       "      <td>7.170000e+08</td>\n",
       "      <td>2.991100e+10</td>\n",
       "      <td>-2.570900e+10</td>\n",
       "      <td>-2.852700e+10</td>\n",
       "      <td>...</td>\n",
       "      <td>NaN</td>\n",
       "      <td>-0.5435</td>\n",
       "      <td>-0.0327</td>\n",
       "      <td>-0.6303</td>\n",
       "      <td>NaN</td>\n",
       "      <td>-0.6316</td>\n",
       "      <td>NaN</td>\n",
       "      <td>0.0869</td>\n",
       "      <td>-0.3459</td>\n",
       "      <td>NaN</td>\n",
       "    </tr>\n",
       "    <tr>\n",
       "      <th>4</th>\n",
       "      <td>NaN</td>\n",
       "      <td>NaN</td>\n",
       "      <td>NaN</td>\n",
       "      <td>NaN</td>\n",
       "      <td>NaN</td>\n",
       "      <td>NaN</td>\n",
       "      <td>NaN</td>\n",
       "      <td>NaN</td>\n",
       "      <td>NaN</td>\n",
       "      <td>NaN</td>\n",
       "      <td>...</td>\n",
       "      <td>NaN</td>\n",
       "      <td>NaN</td>\n",
       "      <td>NaN</td>\n",
       "      <td>NaN</td>\n",
       "      <td>NaN</td>\n",
       "      <td>NaN</td>\n",
       "      <td>NaN</td>\n",
       "      <td>NaN</td>\n",
       "      <td>NaN</td>\n",
       "      <td>NaN</td>\n",
       "    </tr>\n",
       "  </tbody>\n",
       "</table>\n",
       "<p>5 rows × 827 columns</p>\n",
       "</div>"
      ],
      "text/plain": [
       "   Custom-Return_1390  EPS_MRQ_LC_1390  EPS_TTM_1390  EPS_MRQ_1390  \\\n",
       "0                 NaN          11.3750          83.0          11.0   \n",
       "1            0.208274         117.4437         295.0         117.0   \n",
       "2                 NaN          88.7262         406.0          89.0   \n",
       "3           -0.481625        -125.1184        -113.0        -125.0   \n",
       "4                 NaN              NaN           NaN           NaN   \n",
       "\n",
       "   EPS_FY_1390  Rev_TTM_1390  Rev_MRQ_1390   Rev_FY_1390   NI_TTM_1390  \\\n",
       "0         24.0  1.917455e+12  8.399880e+11  1.685499e+12  8.266700e+10   \n",
       "1        295.0  9.046040e+12  2.474342e+12  9.046040e+12  7.951730e+11   \n",
       "2        384.0  6.988662e+12  1.702216e+12  6.914857e+12  9.131650e+11   \n",
       "3       -113.0  2.991100e+10  7.170000e+08  2.991100e+10 -2.570900e+10   \n",
       "4          NaN           NaN           NaN           NaN           NaN   \n",
       "\n",
       "    NI_MRQ_1390  ...  ETR_1401  CFOToRev_1401  CFOToDebt_1401  FCFFToRev_1401  \\\n",
       "0  1.137500e+10  ...    0.0041        -0.0810         -0.0616         -0.0684   \n",
       "1  3.170980e+11  ...    0.1370         0.0267          0.0746          0.0082   \n",
       "2  1.996340e+11  ...    0.1034         0.0433          0.1469          0.0697   \n",
       "3 -2.852700e+10  ...       NaN        -0.5435         -0.0327         -0.6303   \n",
       "4           NaN  ...       NaN            NaN             NaN             NaN   \n",
       "\n",
       "   FCFFToNI_1401  FCFEToRev_1401  FCFEToNI_1401  CAPEXToRev_1401  \\\n",
       "0        -1.7557          0.0220         0.0689          -0.0123   \n",
       "1         0.0930          0.0305         0.3474           0.0187   \n",
       "2         0.5587          0.0757         0.6061           0.0050   \n",
       "3            NaN         -0.6316            NaN           0.0869   \n",
       "4            NaN             NaN            NaN              NaN   \n",
       "\n",
       "   CAPEXToNI_1401  DivYield_1401  \n",
       "0         -0.3158         0.0021  \n",
       "1          0.2122         0.0073  \n",
       "2          0.0402         0.0048  \n",
       "3         -0.3459            NaN  \n",
       "4             NaN            NaN  \n",
       "\n",
       "[5 rows x 827 columns]"
      ]
     },
     "execution_count": 7,
     "metadata": {},
     "output_type": "execute_result"
    }
   ],
   "source": [
    "# convert all columns to float\n",
    "df = df.astype(float)\n",
    "df.head()"
   ]
  },
  {
   "cell_type": "code",
   "execution_count": 8,
   "metadata": {},
   "outputs": [
    {
     "name": "stdout",
     "output_type": "stream",
     "text": [
      "12 12\n",
      "(899, 827)\n",
      "(830, 827)\n"
     ]
    }
   ],
   "source": [
    "# drop rows which has no value in TSE_FY or RE_FY column\n",
    "col_tse_fy = []\n",
    "col_re_fy = []\n",
    "for col in df.columns:\n",
    "    if ('TSE_FY' in col):\n",
    "        col_tse_fy.append(col)\n",
    "    if ('RE_FY' in col):\n",
    "        col_re_fy.append(col)\n",
    "print(len(col_tse_fy), len(col_re_fy))\n",
    "print(df.shape)\n",
    "df = df.dropna(subset=col_tse_fy + col_re_fy, how='all')\n",
    "print(df.shape)"
   ]
  },
  {
   "cell_type": "code",
   "execution_count": 9,
   "metadata": {},
   "outputs": [
    {
     "name": "stdout",
     "output_type": "stream",
     "text": [
      "(830, 830)\n",
      "--------\n",
      "(370, 830)\n",
      "(460, 830)\n"
     ]
    },
    {
     "name": "stderr",
     "output_type": "stream",
     "text": [
      "C:\\Users\\sydhm\\AppData\\Local\\Temp\\ipykernel_6888\\628225672.py:2: PerformanceWarning: DataFrame is highly fragmented.  This is usually the result of calling `frame.insert` many times, which has poor performance.  Consider joining all columns at once using pd.concat(axis=1) instead. To get a de-fragmented frame, use `newframe = frame.copy()`\n",
      "  df['mean_TSE_FY'] = df[col_tse_fy].mean(axis=1)\n",
      "C:\\Users\\sydhm\\AppData\\Local\\Temp\\ipykernel_6888\\628225672.py:3: PerformanceWarning: DataFrame is highly fragmented.  This is usually the result of calling `frame.insert` many times, which has poor performance.  Consider joining all columns at once using pd.concat(axis=1) instead. To get a de-fragmented frame, use `newframe = frame.copy()`\n",
      "  df['mean_RE_FY'] = df[col_re_fy].mean(axis=1)\n",
      "C:\\Users\\sydhm\\AppData\\Local\\Temp\\ipykernel_6888\\628225672.py:6: PerformanceWarning: DataFrame is highly fragmented.  This is usually the result of calling `frame.insert` many times, which has poor performance.  Consider joining all columns at once using pd.concat(axis=1) instead. To get a de-fragmented frame, use `newframe = frame.copy()`\n",
      "  df['y'] = np.where(df['mean_RE_FY'] / df['mean_TSE_FY'] > .5, 1, 0)\n"
     ]
    }
   ],
   "source": [
    "# mean of all col_tse_fy\n",
    "df['mean_TSE_FY'] = df[col_tse_fy].mean(axis=1)\n",
    "df['mean_RE_FY'] = df[col_re_fy].mean(axis=1)\n",
    "\n",
    "# create a y column RE_FY / TSE_FY > .5 = 1 else 0\n",
    "df['y'] = np.where(df['mean_RE_FY'] / df['mean_TSE_FY'] > .5, 1, 0)\n",
    "print(df.shape)\n",
    "print('--------')\n",
    "print(df[df['y'] >= .5].shape)\n",
    "print(df[df['y'] < .5].shape)"
   ]
  },
  {
   "cell_type": "code",
   "execution_count": 10,
   "metadata": {},
   "outputs": [
    {
     "name": "stdout",
     "output_type": "stream",
     "text": [
      "Custom-Return_1390    0.597590\n",
      "EPS_MRQ_LC_1390       0.121687\n",
      "EPS_TTM_1390          0.019277\n",
      "EPS_MRQ_1390          0.020482\n",
      "EPS_FY_1390           0.010843\n",
      "                        ...   \n",
      "CAPEXToNI_1401        0.081928\n",
      "DivYield_1401         0.279518\n",
      "mean_TSE_FY           0.000000\n",
      "mean_RE_FY            0.006024\n",
      "y                     0.000000\n",
      "Length: 830, dtype: float64\n"
     ]
    }
   ],
   "source": [
    "# print nan proportion\n",
    "print(df.isna().sum() / df.shape[0])"
   ]
  },
  {
   "cell_type": "code",
   "execution_count": 11,
   "metadata": {},
   "outputs": [
    {
     "name": "stdout",
     "output_type": "stream",
     "text": [
      "Custom-Return_1390    0.0\n",
      "EPS_MRQ_LC_1390       0.0\n",
      "EPS_TTM_1390          0.0\n",
      "EPS_MRQ_1390          0.0\n",
      "EPS_FY_1390           0.0\n",
      "                     ... \n",
      "CAPEXToNI_1401        0.0\n",
      "DivYield_1401         0.0\n",
      "mean_TSE_FY           0.0\n",
      "mean_RE_FY            0.0\n",
      "y                     0.0\n",
      "Length: 830, dtype: float64\n"
     ]
    }
   ],
   "source": [
    "# df = df.fillna(df.mean())\n",
    "# df = df.fillna(df.median())\n",
    "# df = df.fillna(df.mode().iloc[0])\n",
    "\n",
    "# fill NaN with 0\n",
    "df = df.fillna(0)\n",
    "\n",
    "print(df.isna().sum() / df.shape[0])"
   ]
  },
  {
   "cell_type": "code",
   "execution_count": 12,
   "metadata": {},
   "outputs": [
    {
     "data": {
      "text/html": [
       "<div>\n",
       "<style scoped>\n",
       "    .dataframe tbody tr th:only-of-type {\n",
       "        vertical-align: middle;\n",
       "    }\n",
       "\n",
       "    .dataframe tbody tr th {\n",
       "        vertical-align: top;\n",
       "    }\n",
       "\n",
       "    .dataframe thead th {\n",
       "        text-align: right;\n",
       "    }\n",
       "</style>\n",
       "<table border=\"1\" class=\"dataframe\">\n",
       "  <thead>\n",
       "    <tr style=\"text-align: right;\">\n",
       "      <th></th>\n",
       "      <th>Custom-Return_1390</th>\n",
       "      <th>EPS_MRQ_LC_1390</th>\n",
       "      <th>EPS_TTM_1390</th>\n",
       "      <th>EPS_MRQ_1390</th>\n",
       "      <th>EPS_FY_1390</th>\n",
       "      <th>Rev_TTM_1390</th>\n",
       "      <th>Rev_MRQ_1390</th>\n",
       "      <th>Rev_FY_1390</th>\n",
       "      <th>NI_TTM_1390</th>\n",
       "      <th>NI_MRQ_1390</th>\n",
       "      <th>...</th>\n",
       "      <th>FCFFToRev_1401</th>\n",
       "      <th>FCFFToNI_1401</th>\n",
       "      <th>FCFEToRev_1401</th>\n",
       "      <th>FCFEToNI_1401</th>\n",
       "      <th>CAPEXToRev_1401</th>\n",
       "      <th>CAPEXToNI_1401</th>\n",
       "      <th>DivYield_1401</th>\n",
       "      <th>mean_TSE_FY</th>\n",
       "      <th>mean_RE_FY</th>\n",
       "      <th>y</th>\n",
       "    </tr>\n",
       "  </thead>\n",
       "  <tbody>\n",
       "    <tr>\n",
       "      <th>0</th>\n",
       "      <td>0.042743</td>\n",
       "      <td>0.316850</td>\n",
       "      <td>2.249830e-10</td>\n",
       "      <td>0.999976</td>\n",
       "      <td>0.001849</td>\n",
       "      <td>0.045010</td>\n",
       "      <td>0.055193</td>\n",
       "      <td>0.044945</td>\n",
       "      <td>0.319484</td>\n",
       "      <td>0.495550</td>\n",
       "      <td>...</td>\n",
       "      <td>0.999684</td>\n",
       "      <td>0.893868</td>\n",
       "      <td>0.907533</td>\n",
       "      <td>0.440197</td>\n",
       "      <td>0.483342</td>\n",
       "      <td>0.653700</td>\n",
       "      <td>0.003082</td>\n",
       "      <td>0.360880</td>\n",
       "      <td>0.611768</td>\n",
       "      <td>0.0</td>\n",
       "    </tr>\n",
       "    <tr>\n",
       "      <th>1</th>\n",
       "      <td>0.058074</td>\n",
       "      <td>0.320473</td>\n",
       "      <td>2.267615e-10</td>\n",
       "      <td>0.999976</td>\n",
       "      <td>0.001849</td>\n",
       "      <td>0.047014</td>\n",
       "      <td>0.056980</td>\n",
       "      <td>0.047014</td>\n",
       "      <td>0.320198</td>\n",
       "      <td>0.496023</td>\n",
       "      <td>...</td>\n",
       "      <td>0.999685</td>\n",
       "      <td>0.895969</td>\n",
       "      <td>0.907542</td>\n",
       "      <td>0.442539</td>\n",
       "      <td>0.483445</td>\n",
       "      <td>0.657271</td>\n",
       "      <td>0.010713</td>\n",
       "      <td>0.361690</td>\n",
       "      <td>0.612231</td>\n",
       "      <td>0.0</td>\n",
       "    </tr>\n",
       "    <tr>\n",
       "      <th>2</th>\n",
       "      <td>0.042743</td>\n",
       "      <td>0.319492</td>\n",
       "      <td>2.276927e-10</td>\n",
       "      <td>0.999976</td>\n",
       "      <td>0.001849</td>\n",
       "      <td>0.046436</td>\n",
       "      <td>0.056136</td>\n",
       "      <td>0.046415</td>\n",
       "      <td>0.320316</td>\n",
       "      <td>0.495841</td>\n",
       "      <td>...</td>\n",
       "      <td>0.999685</td>\n",
       "      <td>0.896498</td>\n",
       "      <td>0.907587</td>\n",
       "      <td>0.444715</td>\n",
       "      <td>0.483399</td>\n",
       "      <td>0.656108</td>\n",
       "      <td>0.007044</td>\n",
       "      <td>0.361677</td>\n",
       "      <td>0.612518</td>\n",
       "      <td>0.0</td>\n",
       "    </tr>\n",
       "    <tr>\n",
       "      <th>3</th>\n",
       "      <td>0.007289</td>\n",
       "      <td>0.312188</td>\n",
       "      <td>2.233387e-10</td>\n",
       "      <td>0.999975</td>\n",
       "      <td>0.001849</td>\n",
       "      <td>0.044479</td>\n",
       "      <td>0.054275</td>\n",
       "      <td>0.044479</td>\n",
       "      <td>0.319375</td>\n",
       "      <td>0.495488</td>\n",
       "      <td>...</td>\n",
       "      <td>0.999683</td>\n",
       "      <td>0.895863</td>\n",
       "      <td>0.906876</td>\n",
       "      <td>0.439617</td>\n",
       "      <td>0.483671</td>\n",
       "      <td>0.653497</td>\n",
       "      <td>0.000000</td>\n",
       "      <td>0.360505</td>\n",
       "      <td>0.611575</td>\n",
       "      <td>1.0</td>\n",
       "    </tr>\n",
       "    <tr>\n",
       "      <th>4</th>\n",
       "      <td>0.042743</td>\n",
       "      <td>0.330508</td>\n",
       "      <td>2.380534e-10</td>\n",
       "      <td>0.999976</td>\n",
       "      <td>0.001850</td>\n",
       "      <td>0.052995</td>\n",
       "      <td>0.063764</td>\n",
       "      <td>0.052135</td>\n",
       "      <td>0.325979</td>\n",
       "      <td>0.498080</td>\n",
       "      <td>...</td>\n",
       "      <td>0.999685</td>\n",
       "      <td>0.896048</td>\n",
       "      <td>0.907555</td>\n",
       "      <td>0.441255</td>\n",
       "      <td>0.483430</td>\n",
       "      <td>0.656267</td>\n",
       "      <td>0.081450</td>\n",
       "      <td>0.363931</td>\n",
       "      <td>0.615068</td>\n",
       "      <td>1.0</td>\n",
       "    </tr>\n",
       "  </tbody>\n",
       "</table>\n",
       "<p>5 rows × 830 columns</p>\n",
       "</div>"
      ],
      "text/plain": [
       "   Custom-Return_1390  EPS_MRQ_LC_1390  EPS_TTM_1390  EPS_MRQ_1390  \\\n",
       "0            0.042743         0.316850  2.249830e-10      0.999976   \n",
       "1            0.058074         0.320473  2.267615e-10      0.999976   \n",
       "2            0.042743         0.319492  2.276927e-10      0.999976   \n",
       "3            0.007289         0.312188  2.233387e-10      0.999975   \n",
       "4            0.042743         0.330508  2.380534e-10      0.999976   \n",
       "\n",
       "   EPS_FY_1390  Rev_TTM_1390  Rev_MRQ_1390  Rev_FY_1390  NI_TTM_1390  \\\n",
       "0     0.001849      0.045010      0.055193     0.044945     0.319484   \n",
       "1     0.001849      0.047014      0.056980     0.047014     0.320198   \n",
       "2     0.001849      0.046436      0.056136     0.046415     0.320316   \n",
       "3     0.001849      0.044479      0.054275     0.044479     0.319375   \n",
       "4     0.001850      0.052995      0.063764     0.052135     0.325979   \n",
       "\n",
       "   NI_MRQ_1390  ...  FCFFToRev_1401  FCFFToNI_1401  FCFEToRev_1401  \\\n",
       "0     0.495550  ...        0.999684       0.893868        0.907533   \n",
       "1     0.496023  ...        0.999685       0.895969        0.907542   \n",
       "2     0.495841  ...        0.999685       0.896498        0.907587   \n",
       "3     0.495488  ...        0.999683       0.895863        0.906876   \n",
       "4     0.498080  ...        0.999685       0.896048        0.907555   \n",
       "\n",
       "   FCFEToNI_1401  CAPEXToRev_1401  CAPEXToNI_1401  DivYield_1401  mean_TSE_FY  \\\n",
       "0       0.440197         0.483342        0.653700       0.003082     0.360880   \n",
       "1       0.442539         0.483445        0.657271       0.010713     0.361690   \n",
       "2       0.444715         0.483399        0.656108       0.007044     0.361677   \n",
       "3       0.439617         0.483671        0.653497       0.000000     0.360505   \n",
       "4       0.441255         0.483430        0.656267       0.081450     0.363931   \n",
       "\n",
       "   mean_RE_FY    y  \n",
       "0    0.611768  0.0  \n",
       "1    0.612231  0.0  \n",
       "2    0.612518  0.0  \n",
       "3    0.611575  1.0  \n",
       "4    0.615068  1.0  \n",
       "\n",
       "[5 rows x 830 columns]"
      ]
     },
     "execution_count": 12,
     "metadata": {},
     "output_type": "execute_result"
    }
   ],
   "source": [
    "# Scaler\n",
    "scaler = MinMaxScaler()\n",
    "df = pd.DataFrame(scaler.fit_transform(df), columns=df.columns)\n",
    "df.head()"
   ]
  },
  {
   "cell_type": "code",
   "execution_count": 13,
   "metadata": {},
   "outputs": [],
   "source": [
    "# # duplicate data\n",
    "# DUPLICATE = 8\n",
    "# x_train = np.repeat(x_train, DUPLICATE, axis=0)\n",
    "# y_train = np.repeat(y_train, DUPLICATE, axis=0)\n",
    "# print(x_train.shape)\n",
    "# print(y_train.shape)"
   ]
  },
  {
   "cell_type": "code",
   "execution_count": 14,
   "metadata": {},
   "outputs": [
    {
     "name": "stdout",
     "output_type": "stream",
     "text": [
      "x_train.shape: (664, 829)\n",
      "x_test.shape: (166, 829)\n",
      "y_train.shape: (664,)\n",
      "y_test.shape: (166,)\n"
     ]
    }
   ],
   "source": [
    "x_cols = [col for col in df.columns if col != 'y']\n",
    "x_train, x_test, y_train, y_test = train_test_split(df[x_cols], df['y'], test_size=0.2, random_state=42)\n",
    "\n",
    "print('x_train.shape:', x_train.shape)\n",
    "print('x_test.shape:', x_test.shape)\n",
    "print('y_train.shape:', y_train.shape)\n",
    "print('y_test.shape:', y_test.shape)"
   ]
  },
  {
   "cell_type": "markdown",
   "metadata": {},
   "source": [
    "### Logistic Regression"
   ]
  },
  {
   "cell_type": "code",
   "execution_count": 15,
   "metadata": {},
   "outputs": [
    {
     "data": {
      "text/html": [
       "<style>#sk-container-id-1 {color: black;}#sk-container-id-1 pre{padding: 0;}#sk-container-id-1 div.sk-toggleable {background-color: white;}#sk-container-id-1 label.sk-toggleable__label {cursor: pointer;display: block;width: 100%;margin-bottom: 0;padding: 0.3em;box-sizing: border-box;text-align: center;}#sk-container-id-1 label.sk-toggleable__label-arrow:before {content: \"▸\";float: left;margin-right: 0.25em;color: #696969;}#sk-container-id-1 label.sk-toggleable__label-arrow:hover:before {color: black;}#sk-container-id-1 div.sk-estimator:hover label.sk-toggleable__label-arrow:before {color: black;}#sk-container-id-1 div.sk-toggleable__content {max-height: 0;max-width: 0;overflow: hidden;text-align: left;background-color: #f0f8ff;}#sk-container-id-1 div.sk-toggleable__content pre {margin: 0.2em;color: black;border-radius: 0.25em;background-color: #f0f8ff;}#sk-container-id-1 input.sk-toggleable__control:checked~div.sk-toggleable__content {max-height: 200px;max-width: 100%;overflow: auto;}#sk-container-id-1 input.sk-toggleable__control:checked~label.sk-toggleable__label-arrow:before {content: \"▾\";}#sk-container-id-1 div.sk-estimator input.sk-toggleable__control:checked~label.sk-toggleable__label {background-color: #d4ebff;}#sk-container-id-1 div.sk-label input.sk-toggleable__control:checked~label.sk-toggleable__label {background-color: #d4ebff;}#sk-container-id-1 input.sk-hidden--visually {border: 0;clip: rect(1px 1px 1px 1px);clip: rect(1px, 1px, 1px, 1px);height: 1px;margin: -1px;overflow: hidden;padding: 0;position: absolute;width: 1px;}#sk-container-id-1 div.sk-estimator {font-family: monospace;background-color: #f0f8ff;border: 1px dotted black;border-radius: 0.25em;box-sizing: border-box;margin-bottom: 0.5em;}#sk-container-id-1 div.sk-estimator:hover {background-color: #d4ebff;}#sk-container-id-1 div.sk-parallel-item::after {content: \"\";width: 100%;border-bottom: 1px solid gray;flex-grow: 1;}#sk-container-id-1 div.sk-label:hover label.sk-toggleable__label {background-color: #d4ebff;}#sk-container-id-1 div.sk-serial::before {content: \"\";position: absolute;border-left: 1px solid gray;box-sizing: border-box;top: 0;bottom: 0;left: 50%;z-index: 0;}#sk-container-id-1 div.sk-serial {display: flex;flex-direction: column;align-items: center;background-color: white;padding-right: 0.2em;padding-left: 0.2em;position: relative;}#sk-container-id-1 div.sk-item {position: relative;z-index: 1;}#sk-container-id-1 div.sk-parallel {display: flex;align-items: stretch;justify-content: center;background-color: white;position: relative;}#sk-container-id-1 div.sk-item::before, #sk-container-id-1 div.sk-parallel-item::before {content: \"\";position: absolute;border-left: 1px solid gray;box-sizing: border-box;top: 0;bottom: 0;left: 50%;z-index: -1;}#sk-container-id-1 div.sk-parallel-item {display: flex;flex-direction: column;z-index: 1;position: relative;background-color: white;}#sk-container-id-1 div.sk-parallel-item:first-child::after {align-self: flex-end;width: 50%;}#sk-container-id-1 div.sk-parallel-item:last-child::after {align-self: flex-start;width: 50%;}#sk-container-id-1 div.sk-parallel-item:only-child::after {width: 0;}#sk-container-id-1 div.sk-dashed-wrapped {border: 1px dashed gray;margin: 0 0.4em 0.5em 0.4em;box-sizing: border-box;padding-bottom: 0.4em;background-color: white;}#sk-container-id-1 div.sk-label label {font-family: monospace;font-weight: bold;display: inline-block;line-height: 1.2em;}#sk-container-id-1 div.sk-label-container {text-align: center;}#sk-container-id-1 div.sk-container {/* jupyter's `normalize.less` sets `[hidden] { display: none; }` but bootstrap.min.css set `[hidden] { display: none !important; }` so we also need the `!important` here to be able to override the default hidden behavior on the sphinx rendered scikit-learn.org. See: https://github.com/scikit-learn/scikit-learn/issues/21755 */display: inline-block !important;position: relative;}#sk-container-id-1 div.sk-text-repr-fallback {display: none;}</style><div id=\"sk-container-id-1\" class=\"sk-top-container\"><div class=\"sk-text-repr-fallback\"><pre>LogisticRegression()</pre><b>In a Jupyter environment, please rerun this cell to show the HTML representation or trust the notebook. <br />On GitHub, the HTML representation is unable to render, please try loading this page with nbviewer.org.</b></div><div class=\"sk-container\" hidden><div class=\"sk-item\"><div class=\"sk-estimator sk-toggleable\"><input class=\"sk-toggleable__control sk-hidden--visually\" id=\"sk-estimator-id-1\" type=\"checkbox\" checked><label for=\"sk-estimator-id-1\" class=\"sk-toggleable__label sk-toggleable__label-arrow\">LogisticRegression</label><div class=\"sk-toggleable__content\"><pre>LogisticRegression()</pre></div></div></div></div></div>"
      ],
      "text/plain": [
       "LogisticRegression()"
      ]
     },
     "execution_count": 15,
     "metadata": {},
     "output_type": "execute_result"
    }
   ],
   "source": [
    "logistic_model = LogisticRegression()\n",
    "logistic_model.fit(x_train, y_train)"
   ]
  },
  {
   "cell_type": "code",
   "execution_count": 16,
   "metadata": {},
   "outputs": [
    {
     "name": "stdout",
     "output_type": "stream",
     "text": [
      "                 model  accuracy  precision  recall      f1  roc_auc\n",
      "0  Logistic Regression    0.7952     0.7869  0.6957  0.7385   0.7808\n"
     ]
    }
   ],
   "source": [
    "# evaluate the model\n",
    "y_pred = logistic_model.predict(x_test)\n",
    "\n",
    "results.loc[len(results)] = [\n",
    "    'Logistic Regression', \n",
    "    round(accuracy_score(y_test, y_pred), 4), \n",
    "    round(precision_score(y_test, y_pred), 4), \n",
    "    round(recall_score(y_test, y_pred), 4), \n",
    "    round(f1_score(y_test, y_pred), 4), \n",
    "    round(roc_auc_score(y_test, y_pred), 4)\n",
    "]\n",
    "print(results)"
   ]
  },
  {
   "cell_type": "markdown",
   "metadata": {},
   "source": [
    "### SVM"
   ]
  },
  {
   "cell_type": "code",
   "execution_count": 17,
   "metadata": {},
   "outputs": [
    {
     "data": {
      "text/html": [
       "<style>#sk-container-id-2 {color: black;}#sk-container-id-2 pre{padding: 0;}#sk-container-id-2 div.sk-toggleable {background-color: white;}#sk-container-id-2 label.sk-toggleable__label {cursor: pointer;display: block;width: 100%;margin-bottom: 0;padding: 0.3em;box-sizing: border-box;text-align: center;}#sk-container-id-2 label.sk-toggleable__label-arrow:before {content: \"▸\";float: left;margin-right: 0.25em;color: #696969;}#sk-container-id-2 label.sk-toggleable__label-arrow:hover:before {color: black;}#sk-container-id-2 div.sk-estimator:hover label.sk-toggleable__label-arrow:before {color: black;}#sk-container-id-2 div.sk-toggleable__content {max-height: 0;max-width: 0;overflow: hidden;text-align: left;background-color: #f0f8ff;}#sk-container-id-2 div.sk-toggleable__content pre {margin: 0.2em;color: black;border-radius: 0.25em;background-color: #f0f8ff;}#sk-container-id-2 input.sk-toggleable__control:checked~div.sk-toggleable__content {max-height: 200px;max-width: 100%;overflow: auto;}#sk-container-id-2 input.sk-toggleable__control:checked~label.sk-toggleable__label-arrow:before {content: \"▾\";}#sk-container-id-2 div.sk-estimator input.sk-toggleable__control:checked~label.sk-toggleable__label {background-color: #d4ebff;}#sk-container-id-2 div.sk-label input.sk-toggleable__control:checked~label.sk-toggleable__label {background-color: #d4ebff;}#sk-container-id-2 input.sk-hidden--visually {border: 0;clip: rect(1px 1px 1px 1px);clip: rect(1px, 1px, 1px, 1px);height: 1px;margin: -1px;overflow: hidden;padding: 0;position: absolute;width: 1px;}#sk-container-id-2 div.sk-estimator {font-family: monospace;background-color: #f0f8ff;border: 1px dotted black;border-radius: 0.25em;box-sizing: border-box;margin-bottom: 0.5em;}#sk-container-id-2 div.sk-estimator:hover {background-color: #d4ebff;}#sk-container-id-2 div.sk-parallel-item::after {content: \"\";width: 100%;border-bottom: 1px solid gray;flex-grow: 1;}#sk-container-id-2 div.sk-label:hover label.sk-toggleable__label {background-color: #d4ebff;}#sk-container-id-2 div.sk-serial::before {content: \"\";position: absolute;border-left: 1px solid gray;box-sizing: border-box;top: 0;bottom: 0;left: 50%;z-index: 0;}#sk-container-id-2 div.sk-serial {display: flex;flex-direction: column;align-items: center;background-color: white;padding-right: 0.2em;padding-left: 0.2em;position: relative;}#sk-container-id-2 div.sk-item {position: relative;z-index: 1;}#sk-container-id-2 div.sk-parallel {display: flex;align-items: stretch;justify-content: center;background-color: white;position: relative;}#sk-container-id-2 div.sk-item::before, #sk-container-id-2 div.sk-parallel-item::before {content: \"\";position: absolute;border-left: 1px solid gray;box-sizing: border-box;top: 0;bottom: 0;left: 50%;z-index: -1;}#sk-container-id-2 div.sk-parallel-item {display: flex;flex-direction: column;z-index: 1;position: relative;background-color: white;}#sk-container-id-2 div.sk-parallel-item:first-child::after {align-self: flex-end;width: 50%;}#sk-container-id-2 div.sk-parallel-item:last-child::after {align-self: flex-start;width: 50%;}#sk-container-id-2 div.sk-parallel-item:only-child::after {width: 0;}#sk-container-id-2 div.sk-dashed-wrapped {border: 1px dashed gray;margin: 0 0.4em 0.5em 0.4em;box-sizing: border-box;padding-bottom: 0.4em;background-color: white;}#sk-container-id-2 div.sk-label label {font-family: monospace;font-weight: bold;display: inline-block;line-height: 1.2em;}#sk-container-id-2 div.sk-label-container {text-align: center;}#sk-container-id-2 div.sk-container {/* jupyter's `normalize.less` sets `[hidden] { display: none; }` but bootstrap.min.css set `[hidden] { display: none !important; }` so we also need the `!important` here to be able to override the default hidden behavior on the sphinx rendered scikit-learn.org. See: https://github.com/scikit-learn/scikit-learn/issues/21755 */display: inline-block !important;position: relative;}#sk-container-id-2 div.sk-text-repr-fallback {display: none;}</style><div id=\"sk-container-id-2\" class=\"sk-top-container\"><div class=\"sk-text-repr-fallback\"><pre>SVC(C=1, kernel=&#x27;linear&#x27;, random_state=42)</pre><b>In a Jupyter environment, please rerun this cell to show the HTML representation or trust the notebook. <br />On GitHub, the HTML representation is unable to render, please try loading this page with nbviewer.org.</b></div><div class=\"sk-container\" hidden><div class=\"sk-item\"><div class=\"sk-estimator sk-toggleable\"><input class=\"sk-toggleable__control sk-hidden--visually\" id=\"sk-estimator-id-2\" type=\"checkbox\" checked><label for=\"sk-estimator-id-2\" class=\"sk-toggleable__label sk-toggleable__label-arrow\">SVC</label><div class=\"sk-toggleable__content\"><pre>SVC(C=1, kernel=&#x27;linear&#x27;, random_state=42)</pre></div></div></div></div></div>"
      ],
      "text/plain": [
       "SVC(C=1, kernel='linear', random_state=42)"
      ]
     },
     "execution_count": 17,
     "metadata": {},
     "output_type": "execute_result"
    }
   ],
   "source": [
    "svm_model = SVC(kernel='linear', C=1, random_state=42)\n",
    "svm_model.fit(x_train, y_train)"
   ]
  },
  {
   "cell_type": "code",
   "execution_count": 18,
   "metadata": {},
   "outputs": [
    {
     "name": "stdout",
     "output_type": "stream",
     "text": [
      "                 model  accuracy  precision  recall      f1  roc_auc\n",
      "0  Logistic Regression    0.7952     0.7869  0.6957  0.7385   0.7808\n",
      "1                  SVM    0.8133     0.8393  0.6812  0.7520   0.7942\n"
     ]
    }
   ],
   "source": [
    "y_pred = svm_model.predict(x_test)\n",
    "\n",
    "results.loc[len(results)] = [\n",
    "    'SVM',\n",
    "    round(accuracy_score(y_test, y_pred), 4),\n",
    "    round(precision_score(y_test, y_pred), 4),\n",
    "    round(recall_score(y_test, y_pred), 4),\n",
    "    round(f1_score(y_test, y_pred), 4),\n",
    "    round(roc_auc_score(y_test, y_pred), 4)\n",
    "]\n",
    "print(results)"
   ]
  },
  {
   "cell_type": "markdown",
   "metadata": {},
   "source": [
    "### Random Forest"
   ]
  },
  {
   "cell_type": "code",
   "execution_count": 19,
   "metadata": {},
   "outputs": [
    {
     "data": {
      "text/html": [
       "<style>#sk-container-id-3 {color: black;}#sk-container-id-3 pre{padding: 0;}#sk-container-id-3 div.sk-toggleable {background-color: white;}#sk-container-id-3 label.sk-toggleable__label {cursor: pointer;display: block;width: 100%;margin-bottom: 0;padding: 0.3em;box-sizing: border-box;text-align: center;}#sk-container-id-3 label.sk-toggleable__label-arrow:before {content: \"▸\";float: left;margin-right: 0.25em;color: #696969;}#sk-container-id-3 label.sk-toggleable__label-arrow:hover:before {color: black;}#sk-container-id-3 div.sk-estimator:hover label.sk-toggleable__label-arrow:before {color: black;}#sk-container-id-3 div.sk-toggleable__content {max-height: 0;max-width: 0;overflow: hidden;text-align: left;background-color: #f0f8ff;}#sk-container-id-3 div.sk-toggleable__content pre {margin: 0.2em;color: black;border-radius: 0.25em;background-color: #f0f8ff;}#sk-container-id-3 input.sk-toggleable__control:checked~div.sk-toggleable__content {max-height: 200px;max-width: 100%;overflow: auto;}#sk-container-id-3 input.sk-toggleable__control:checked~label.sk-toggleable__label-arrow:before {content: \"▾\";}#sk-container-id-3 div.sk-estimator input.sk-toggleable__control:checked~label.sk-toggleable__label {background-color: #d4ebff;}#sk-container-id-3 div.sk-label input.sk-toggleable__control:checked~label.sk-toggleable__label {background-color: #d4ebff;}#sk-container-id-3 input.sk-hidden--visually {border: 0;clip: rect(1px 1px 1px 1px);clip: rect(1px, 1px, 1px, 1px);height: 1px;margin: -1px;overflow: hidden;padding: 0;position: absolute;width: 1px;}#sk-container-id-3 div.sk-estimator {font-family: monospace;background-color: #f0f8ff;border: 1px dotted black;border-radius: 0.25em;box-sizing: border-box;margin-bottom: 0.5em;}#sk-container-id-3 div.sk-estimator:hover {background-color: #d4ebff;}#sk-container-id-3 div.sk-parallel-item::after {content: \"\";width: 100%;border-bottom: 1px solid gray;flex-grow: 1;}#sk-container-id-3 div.sk-label:hover label.sk-toggleable__label {background-color: #d4ebff;}#sk-container-id-3 div.sk-serial::before {content: \"\";position: absolute;border-left: 1px solid gray;box-sizing: border-box;top: 0;bottom: 0;left: 50%;z-index: 0;}#sk-container-id-3 div.sk-serial {display: flex;flex-direction: column;align-items: center;background-color: white;padding-right: 0.2em;padding-left: 0.2em;position: relative;}#sk-container-id-3 div.sk-item {position: relative;z-index: 1;}#sk-container-id-3 div.sk-parallel {display: flex;align-items: stretch;justify-content: center;background-color: white;position: relative;}#sk-container-id-3 div.sk-item::before, #sk-container-id-3 div.sk-parallel-item::before {content: \"\";position: absolute;border-left: 1px solid gray;box-sizing: border-box;top: 0;bottom: 0;left: 50%;z-index: -1;}#sk-container-id-3 div.sk-parallel-item {display: flex;flex-direction: column;z-index: 1;position: relative;background-color: white;}#sk-container-id-3 div.sk-parallel-item:first-child::after {align-self: flex-end;width: 50%;}#sk-container-id-3 div.sk-parallel-item:last-child::after {align-self: flex-start;width: 50%;}#sk-container-id-3 div.sk-parallel-item:only-child::after {width: 0;}#sk-container-id-3 div.sk-dashed-wrapped {border: 1px dashed gray;margin: 0 0.4em 0.5em 0.4em;box-sizing: border-box;padding-bottom: 0.4em;background-color: white;}#sk-container-id-3 div.sk-label label {font-family: monospace;font-weight: bold;display: inline-block;line-height: 1.2em;}#sk-container-id-3 div.sk-label-container {text-align: center;}#sk-container-id-3 div.sk-container {/* jupyter's `normalize.less` sets `[hidden] { display: none; }` but bootstrap.min.css set `[hidden] { display: none !important; }` so we also need the `!important` here to be able to override the default hidden behavior on the sphinx rendered scikit-learn.org. See: https://github.com/scikit-learn/scikit-learn/issues/21755 */display: inline-block !important;position: relative;}#sk-container-id-3 div.sk-text-repr-fallback {display: none;}</style><div id=\"sk-container-id-3\" class=\"sk-top-container\"><div class=\"sk-text-repr-fallback\"><pre>RandomForestClassifier(max_depth=4, random_state=42)</pre><b>In a Jupyter environment, please rerun this cell to show the HTML representation or trust the notebook. <br />On GitHub, the HTML representation is unable to render, please try loading this page with nbviewer.org.</b></div><div class=\"sk-container\" hidden><div class=\"sk-item\"><div class=\"sk-estimator sk-toggleable\"><input class=\"sk-toggleable__control sk-hidden--visually\" id=\"sk-estimator-id-3\" type=\"checkbox\" checked><label for=\"sk-estimator-id-3\" class=\"sk-toggleable__label sk-toggleable__label-arrow\">RandomForestClassifier</label><div class=\"sk-toggleable__content\"><pre>RandomForestClassifier(max_depth=4, random_state=42)</pre></div></div></div></div></div>"
      ],
      "text/plain": [
       "RandomForestClassifier(max_depth=4, random_state=42)"
      ]
     },
     "execution_count": 19,
     "metadata": {},
     "output_type": "execute_result"
    }
   ],
   "source": [
    "rf_model = RandomForestClassifier(n_estimators=100, max_depth=4, random_state=42)\n",
    "rf_model.fit(x_train, y_train)"
   ]
  },
  {
   "cell_type": "code",
   "execution_count": 20,
   "metadata": {},
   "outputs": [
    {
     "name": "stdout",
     "output_type": "stream",
     "text": [
      "                 model  accuracy  precision  recall      f1  roc_auc\n",
      "0  Logistic Regression    0.7952     0.7869  0.6957  0.7385   0.7808\n",
      "1                  SVM    0.8133     0.8393  0.6812  0.7520   0.7942\n",
      "2        Random Forest    0.9940     0.9857  1.0000  0.9928   0.9948\n"
     ]
    }
   ],
   "source": [
    "y_pred = rf_model.predict(x_test)\n",
    "\n",
    "results.loc[len(results)] = [\n",
    "    'Random Forest',\n",
    "    round(accuracy_score(y_test, y_pred), 4),\n",
    "    round(precision_score(y_test, y_pred), 4),\n",
    "    round(recall_score(y_test, y_pred), 4),\n",
    "    round(f1_score(y_test, y_pred), 4),\n",
    "    round(roc_auc_score(y_test, y_pred), 4)\n",
    "]\n",
    "print(results)"
   ]
  },
  {
   "cell_type": "markdown",
   "metadata": {},
   "source": [
    "### Sequential Data"
   ]
  },
  {
   "cell_type": "code",
   "execution_count": 21,
   "metadata": {},
   "outputs": [
    {
     "name": "stdout",
     "output_type": "stream",
     "text": [
      "(581, 1, 829)\n",
      "(581,)\n",
      "------\n",
      "(124, 1, 829)\n",
      "(124,)\n",
      "------\n",
      "(125, 1, 829)\n",
      "(125,)\n"
     ]
    }
   ],
   "source": [
    "# split data\n",
    "x = df.drop(columns=['y'])\n",
    "y = df['y']\n",
    "x = np.array(x)\n",
    "y = np.array(y)\n",
    "# [samples, timesteps, features]\n",
    "x = x.reshape(x.shape[0], 1, x.shape[1])\n",
    "\n",
    "x_train = x[:int(x.shape[0] * .7)]\n",
    "y_train = y[:int(y.shape[0] * .7)]\n",
    "x_valid = x[int(x.shape[0] * .7):int(x.shape[0] * .85)]\n",
    "y_valid = y[int(y.shape[0] * .7):int(y.shape[0] * .85)]\n",
    "x_test = x[int(x.shape[0] * .85):]\n",
    "y_test = y[int(y.shape[0] * .85):]\n",
    "\n",
    "print(x_train.shape)\n",
    "print(y_train.shape)\n",
    "print(\"------\")\n",
    "print(x_valid.shape)\n",
    "print(y_valid.shape)\n",
    "print(\"------\")\n",
    "print(x_test.shape)\n",
    "print(y_test.shape)"
   ]
  },
  {
   "cell_type": "markdown",
   "metadata": {},
   "source": [
    "### LSTM"
   ]
  },
  {
   "cell_type": "code",
   "execution_count": 22,
   "metadata": {},
   "outputs": [
    {
     "name": "stdout",
     "output_type": "stream",
     "text": [
      "Model: \"sequential\"\n",
      "_________________________________________________________________\n",
      " Layer (type)                Output Shape              Param #   \n",
      "=================================================================\n",
      " lstm (LSTM)                 (None, 1, 256)            1112064   \n",
      "                                                                 \n",
      " dropout (Dropout)           (None, 1, 256)            0         \n",
      "                                                                 \n",
      " lstm_1 (LSTM)               (None, 256)               525312    \n",
      "                                                                 \n",
      " dropout_1 (Dropout)         (None, 256)               0         \n",
      "                                                                 \n",
      " dense (Dense)               (None, 1)                 257       \n",
      "                                                                 \n",
      "=================================================================\n",
      "Total params: 1637633 (6.25 MB)\n",
      "Trainable params: 1637633 (6.25 MB)\n",
      "Non-trainable params: 0 (0.00 Byte)\n",
      "_________________________________________________________________\n"
     ]
    }
   ],
   "source": [
    "# LSTM\n",
    "lstm = keras.Sequential()\n",
    "lstm.add(keras.layers.LSTM(256, input_shape=(x_train.shape[1], x_train.shape[2]), return_sequences=True))\n",
    "lstm.add(keras.layers.Dropout(0.1))\n",
    "lstm.add(keras.layers.LSTM(256, return_sequences=False))\n",
    "lstm.add(keras.layers.Dropout(0.1))\n",
    "lstm.add(keras.layers.Dense(1, activation='sigmoid'))\n",
    "lstm.compile(loss='binary_crossentropy', optimizer='adam', metrics=['accuracy'])\n",
    "lstm.summary()"
   ]
  },
  {
   "cell_type": "code",
   "execution_count": 23,
   "metadata": {},
   "outputs": [
    {
     "name": "stdout",
     "output_type": "stream",
     "text": [
      "Epoch 1/100\n",
      "10/10 [==============================] - 13s 205ms/step - loss: 0.6987 - accuracy: 0.5456 - val_loss: 0.6968 - val_accuracy: 0.4516\n",
      "Epoch 2/100\n",
      "10/10 [==============================] - 0s 38ms/step - loss: 0.6991 - accuracy: 0.4630 - val_loss: 0.6885 - val_accuracy: 0.5484\n",
      "Epoch 3/100\n",
      "10/10 [==============================] - 0s 39ms/step - loss: 0.6937 - accuracy: 0.5628 - val_loss: 0.6932 - val_accuracy: 0.5484\n",
      "Epoch 4/100\n",
      "10/10 [==============================] - 0s 37ms/step - loss: 0.6893 - accuracy: 0.5628 - val_loss: 0.6908 - val_accuracy: 0.5484\n",
      "Epoch 5/100\n",
      "10/10 [==============================] - 0s 41ms/step - loss: 0.6861 - accuracy: 0.5628 - val_loss: 0.6887 - val_accuracy: 0.5484\n",
      "Epoch 6/100\n",
      "10/10 [==============================] - 0s 38ms/step - loss: 0.6860 - accuracy: 0.5628 - val_loss: 0.6875 - val_accuracy: 0.5484\n",
      "Epoch 7/100\n",
      "10/10 [==============================] - 0s 37ms/step - loss: 0.6857 - accuracy: 0.5628 - val_loss: 0.6859 - val_accuracy: 0.5484\n",
      "Epoch 8/100\n",
      "10/10 [==============================] - 0s 38ms/step - loss: 0.6829 - accuracy: 0.5628 - val_loss: 0.6836 - val_accuracy: 0.5484\n",
      "Epoch 9/100\n",
      "10/10 [==============================] - 0s 38ms/step - loss: 0.6820 - accuracy: 0.5645 - val_loss: 0.6796 - val_accuracy: 0.5484\n",
      "Epoch 10/100\n",
      "10/10 [==============================] - 0s 42ms/step - loss: 0.6792 - accuracy: 0.5663 - val_loss: 0.6745 - val_accuracy: 0.5484\n",
      "Epoch 11/100\n",
      "10/10 [==============================] - 0s 37ms/step - loss: 0.6750 - accuracy: 0.5697 - val_loss: 0.6681 - val_accuracy: 0.5484\n",
      "Epoch 12/100\n",
      "10/10 [==============================] - 0s 38ms/step - loss: 0.6703 - accuracy: 0.5697 - val_loss: 0.6591 - val_accuracy: 0.5806\n",
      "Epoch 13/100\n",
      "10/10 [==============================] - 0s 37ms/step - loss: 0.6621 - accuracy: 0.5731 - val_loss: 0.6508 - val_accuracy: 0.6774\n",
      "Epoch 14/100\n",
      "10/10 [==============================] - 0s 42ms/step - loss: 0.6540 - accuracy: 0.5852 - val_loss: 0.6394 - val_accuracy: 0.6855\n",
      "Epoch 15/100\n",
      "10/10 [==============================] - 0s 41ms/step - loss: 0.6364 - accuracy: 0.6110 - val_loss: 0.6370 - val_accuracy: 0.7016\n",
      "Epoch 16/100\n",
      "10/10 [==============================] - 0s 42ms/step - loss: 0.6338 - accuracy: 0.5990 - val_loss: 0.6381 - val_accuracy: 0.6774\n",
      "Epoch 17/100\n",
      "10/10 [==============================] - 0s 42ms/step - loss: 0.6280 - accuracy: 0.6127 - val_loss: 0.6075 - val_accuracy: 0.6855\n",
      "Epoch 18/100\n",
      "10/10 [==============================] - 0s 43ms/step - loss: 0.5933 - accuracy: 0.6988 - val_loss: 0.5994 - val_accuracy: 0.7097\n",
      "Epoch 19/100\n",
      "10/10 [==============================] - 0s 41ms/step - loss: 0.5819 - accuracy: 0.7160 - val_loss: 0.6312 - val_accuracy: 0.6694\n",
      "Epoch 20/100\n",
      "10/10 [==============================] - 0s 43ms/step - loss: 0.6071 - accuracy: 0.6764 - val_loss: 0.6248 - val_accuracy: 0.6855\n",
      "Epoch 21/100\n",
      "10/10 [==============================] - 0s 44ms/step - loss: 0.6015 - accuracy: 0.6558 - val_loss: 0.5710 - val_accuracy: 0.6855\n",
      "Epoch 22/100\n",
      "10/10 [==============================] - 0s 41ms/step - loss: 0.5444 - accuracy: 0.7435 - val_loss: 0.5661 - val_accuracy: 0.6935\n",
      "Epoch 23/100\n",
      "10/10 [==============================] - 0s 41ms/step - loss: 0.5517 - accuracy: 0.7401 - val_loss: 0.5906 - val_accuracy: 0.7016\n",
      "Epoch 24/100\n",
      "10/10 [==============================] - 0s 47ms/step - loss: 0.5723 - accuracy: 0.7281 - val_loss: 0.6197 - val_accuracy: 0.7016\n",
      "Epoch 25/100\n",
      "10/10 [==============================] - 0s 46ms/step - loss: 0.5859 - accuracy: 0.6781 - val_loss: 0.5654 - val_accuracy: 0.6935\n",
      "Epoch 26/100\n",
      "10/10 [==============================] - 0s 41ms/step - loss: 0.5400 - accuracy: 0.7263 - val_loss: 0.5559 - val_accuracy: 0.6935\n",
      "Epoch 27/100\n",
      "10/10 [==============================] - 0s 44ms/step - loss: 0.5276 - accuracy: 0.7487 - val_loss: 0.5736 - val_accuracy: 0.7097\n",
      "Epoch 28/100\n",
      "10/10 [==============================] - 0s 46ms/step - loss: 0.5406 - accuracy: 0.7453 - val_loss: 0.5863 - val_accuracy: 0.7097\n",
      "Epoch 29/100\n",
      "10/10 [==============================] - 0s 43ms/step - loss: 0.5522 - accuracy: 0.7160 - val_loss: 0.5822 - val_accuracy: 0.7097\n",
      "Epoch 30/100\n",
      "10/10 [==============================] - 0s 41ms/step - loss: 0.5503 - accuracy: 0.7074 - val_loss: 0.5523 - val_accuracy: 0.6935\n",
      "Epoch 31/100\n",
      "10/10 [==============================] - 0s 44ms/step - loss: 0.5287 - accuracy: 0.7367 - val_loss: 0.5492 - val_accuracy: 0.6935\n",
      "Epoch 32/100\n",
      "10/10 [==============================] - 0s 40ms/step - loss: 0.5183 - accuracy: 0.7539 - val_loss: 0.5588 - val_accuracy: 0.7097\n",
      "Epoch 33/100\n",
      "10/10 [==============================] - 0s 41ms/step - loss: 0.5241 - accuracy: 0.7504 - val_loss: 0.5694 - val_accuracy: 0.7177\n",
      "Epoch 34/100\n",
      "10/10 [==============================] - 0s 42ms/step - loss: 0.5329 - accuracy: 0.7315 - val_loss: 0.5642 - val_accuracy: 0.7177\n",
      "Epoch 35/100\n",
      "10/10 [==============================] - 0s 41ms/step - loss: 0.5310 - accuracy: 0.7298 - val_loss: 0.5541 - val_accuracy: 0.7097\n",
      "Epoch 36/100\n",
      "10/10 [==============================] - 0s 41ms/step - loss: 0.5234 - accuracy: 0.7384 - val_loss: 0.5460 - val_accuracy: 0.7177\n",
      "Epoch 37/100\n",
      "10/10 [==============================] - 0s 41ms/step - loss: 0.5125 - accuracy: 0.7470 - val_loss: 0.5527 - val_accuracy: 0.7097\n",
      "Epoch 38/100\n",
      "10/10 [==============================] - 0s 39ms/step - loss: 0.5151 - accuracy: 0.7504 - val_loss: 0.5540 - val_accuracy: 0.7177\n",
      "Epoch 39/100\n",
      "10/10 [==============================] - 0s 40ms/step - loss: 0.5192 - accuracy: 0.7504 - val_loss: 0.5549 - val_accuracy: 0.7258\n",
      "Epoch 40/100\n",
      "10/10 [==============================] - 0s 39ms/step - loss: 0.5191 - accuracy: 0.7384 - val_loss: 0.5464 - val_accuracy: 0.7258\n",
      "Epoch 41/100\n",
      "10/10 [==============================] - 0s 39ms/step - loss: 0.5142 - accuracy: 0.7384 - val_loss: 0.5430 - val_accuracy: 0.7177\n",
      "Epoch 42/100\n",
      "10/10 [==============================] - 0s 41ms/step - loss: 0.5088 - accuracy: 0.7504 - val_loss: 0.5384 - val_accuracy: 0.7177\n",
      "Epoch 43/100\n",
      "10/10 [==============================] - 0s 39ms/step - loss: 0.5012 - accuracy: 0.7573 - val_loss: 0.5424 - val_accuracy: 0.7258\n",
      "Epoch 44/100\n",
      "10/10 [==============================] - 0s 39ms/step - loss: 0.5051 - accuracy: 0.7539 - val_loss: 0.5399 - val_accuracy: 0.7258\n",
      "Epoch 45/100\n",
      "10/10 [==============================] - 0s 40ms/step - loss: 0.5076 - accuracy: 0.7504 - val_loss: 0.5540 - val_accuracy: 0.7500\n",
      "Epoch 46/100\n",
      "10/10 [==============================] - 0s 40ms/step - loss: 0.5101 - accuracy: 0.7453 - val_loss: 0.5387 - val_accuracy: 0.7258\n",
      "Epoch 47/100\n",
      "10/10 [==============================] - 0s 45ms/step - loss: 0.5049 - accuracy: 0.7556 - val_loss: 0.5380 - val_accuracy: 0.7258\n",
      "Epoch 48/100\n",
      "10/10 [==============================] - 0s 41ms/step - loss: 0.4988 - accuracy: 0.7504 - val_loss: 0.5344 - val_accuracy: 0.7339\n",
      "Epoch 49/100\n",
      "10/10 [==============================] - 0s 42ms/step - loss: 0.4973 - accuracy: 0.7608 - val_loss: 0.5349 - val_accuracy: 0.7339\n",
      "Epoch 50/100\n",
      "10/10 [==============================] - 0s 42ms/step - loss: 0.4987 - accuracy: 0.7556 - val_loss: 0.5297 - val_accuracy: 0.7339\n",
      "Epoch 51/100\n",
      "10/10 [==============================] - 0s 42ms/step - loss: 0.4892 - accuracy: 0.7608 - val_loss: 0.5281 - val_accuracy: 0.7419\n",
      "Epoch 52/100\n",
      "10/10 [==============================] - 0s 42ms/step - loss: 0.4938 - accuracy: 0.7625 - val_loss: 0.5262 - val_accuracy: 0.7419\n",
      "Epoch 53/100\n",
      "10/10 [==============================] - 0s 41ms/step - loss: 0.4886 - accuracy: 0.7642 - val_loss: 0.5255 - val_accuracy: 0.7419\n",
      "Epoch 54/100\n",
      "10/10 [==============================] - 0s 40ms/step - loss: 0.4874 - accuracy: 0.7608 - val_loss: 0.5268 - val_accuracy: 0.7419\n",
      "Epoch 55/100\n",
      "10/10 [==============================] - 0s 41ms/step - loss: 0.4889 - accuracy: 0.7608 - val_loss: 0.5241 - val_accuracy: 0.7419\n",
      "Epoch 56/100\n",
      "10/10 [==============================] - 0s 40ms/step - loss: 0.4891 - accuracy: 0.7625 - val_loss: 0.5248 - val_accuracy: 0.7419\n",
      "Epoch 57/100\n",
      "10/10 [==============================] - 0s 41ms/step - loss: 0.4899 - accuracy: 0.7625 - val_loss: 0.5175 - val_accuracy: 0.7419\n",
      "Epoch 58/100\n",
      "10/10 [==============================] - 0s 41ms/step - loss: 0.4818 - accuracy: 0.7745 - val_loss: 0.5262 - val_accuracy: 0.7500\n",
      "Epoch 59/100\n",
      "10/10 [==============================] - 0s 43ms/step - loss: 0.4893 - accuracy: 0.7573 - val_loss: 0.5119 - val_accuracy: 0.7419\n",
      "Epoch 60/100\n",
      "10/10 [==============================] - 0s 43ms/step - loss: 0.4785 - accuracy: 0.7642 - val_loss: 0.5198 - val_accuracy: 0.7419\n",
      "Epoch 61/100\n",
      "10/10 [==============================] - 0s 40ms/step - loss: 0.4800 - accuracy: 0.7745 - val_loss: 0.5018 - val_accuracy: 0.7339\n",
      "Epoch 62/100\n",
      "10/10 [==============================] - 0s 40ms/step - loss: 0.4687 - accuracy: 0.7866 - val_loss: 0.5180 - val_accuracy: 0.7500\n",
      "Epoch 63/100\n",
      "10/10 [==============================] - 0s 41ms/step - loss: 0.4761 - accuracy: 0.7728 - val_loss: 0.5077 - val_accuracy: 0.7339\n",
      "Epoch 64/100\n",
      "10/10 [==============================] - 0s 40ms/step - loss: 0.4634 - accuracy: 0.7952 - val_loss: 0.5133 - val_accuracy: 0.7500\n",
      "Epoch 65/100\n",
      "10/10 [==============================] - 0s 40ms/step - loss: 0.4667 - accuracy: 0.7866 - val_loss: 0.5174 - val_accuracy: 0.7500\n",
      "Epoch 66/100\n",
      "10/10 [==============================] - 0s 45ms/step - loss: 0.4649 - accuracy: 0.7917 - val_loss: 0.5186 - val_accuracy: 0.7500\n",
      "Epoch 67/100\n",
      "10/10 [==============================] - 0s 41ms/step - loss: 0.4749 - accuracy: 0.7745 - val_loss: 0.5061 - val_accuracy: 0.7419\n",
      "Epoch 68/100\n",
      "10/10 [==============================] - 0s 43ms/step - loss: 0.4651 - accuracy: 0.7866 - val_loss: 0.5096 - val_accuracy: 0.7419\n",
      "Epoch 69/100\n",
      "10/10 [==============================] - 0s 42ms/step - loss: 0.4602 - accuracy: 0.7797 - val_loss: 0.5155 - val_accuracy: 0.7500\n",
      "Epoch 70/100\n",
      "10/10 [==============================] - 0s 40ms/step - loss: 0.4630 - accuracy: 0.7900 - val_loss: 0.5103 - val_accuracy: 0.7419\n",
      "Epoch 71/100\n",
      "10/10 [==============================] - 0s 40ms/step - loss: 0.4598 - accuracy: 0.7917 - val_loss: 0.5088 - val_accuracy: 0.7500\n",
      "Epoch 72/100\n",
      "10/10 [==============================] - 0s 40ms/step - loss: 0.4557 - accuracy: 0.7986 - val_loss: 0.5151 - val_accuracy: 0.7581\n",
      "Epoch 73/100\n",
      "10/10 [==============================] - 0s 43ms/step - loss: 0.4571 - accuracy: 0.7866 - val_loss: 0.5174 - val_accuracy: 0.7419\n",
      "Epoch 74/100\n",
      "10/10 [==============================] - 0s 41ms/step - loss: 0.4504 - accuracy: 0.7969 - val_loss: 0.5058 - val_accuracy: 0.7419\n",
      "Epoch 75/100\n",
      "10/10 [==============================] - 0s 41ms/step - loss: 0.4435 - accuracy: 0.8003 - val_loss: 0.5083 - val_accuracy: 0.7419\n",
      "Epoch 76/100\n",
      "10/10 [==============================] - 0s 42ms/step - loss: 0.4409 - accuracy: 0.8055 - val_loss: 0.5069 - val_accuracy: 0.7419\n",
      "Epoch 77/100\n",
      "10/10 [==============================] - 0s 42ms/step - loss: 0.4415 - accuracy: 0.8021 - val_loss: 0.5126 - val_accuracy: 0.7500\n",
      "Epoch 78/100\n",
      "10/10 [==============================] - 0s 41ms/step - loss: 0.4443 - accuracy: 0.7935 - val_loss: 0.5077 - val_accuracy: 0.7500\n",
      "Epoch 79/100\n",
      "10/10 [==============================] - 0s 42ms/step - loss: 0.4316 - accuracy: 0.8124 - val_loss: 0.4991 - val_accuracy: 0.7500\n",
      "Epoch 80/100\n",
      "10/10 [==============================] - 0s 41ms/step - loss: 0.4286 - accuracy: 0.8090 - val_loss: 0.5062 - val_accuracy: 0.7500\n",
      "Epoch 81/100\n",
      "10/10 [==============================] - 0s 42ms/step - loss: 0.4272 - accuracy: 0.8055 - val_loss: 0.4885 - val_accuracy: 0.7500\n",
      "Epoch 82/100\n",
      "10/10 [==============================] - 0s 41ms/step - loss: 0.4219 - accuracy: 0.8072 - val_loss: 0.4902 - val_accuracy: 0.7500\n",
      "Epoch 83/100\n",
      "10/10 [==============================] - 0s 41ms/step - loss: 0.4246 - accuracy: 0.8107 - val_loss: 0.5063 - val_accuracy: 0.7500\n",
      "Epoch 84/100\n",
      "10/10 [==============================] - 0s 43ms/step - loss: 0.4285 - accuracy: 0.8090 - val_loss: 0.4779 - val_accuracy: 0.7581\n",
      "Epoch 85/100\n",
      "10/10 [==============================] - 0s 46ms/step - loss: 0.4307 - accuracy: 0.8124 - val_loss: 0.5174 - val_accuracy: 0.7500\n",
      "Epoch 86/100\n",
      "10/10 [==============================] - 0s 41ms/step - loss: 0.4337 - accuracy: 0.8021 - val_loss: 0.5216 - val_accuracy: 0.7581\n",
      "Epoch 87/100\n",
      "10/10 [==============================] - 0s 45ms/step - loss: 0.4323 - accuracy: 0.7986 - val_loss: 0.5389 - val_accuracy: 0.7500\n",
      "Epoch 88/100\n",
      "10/10 [==============================] - 0s 43ms/step - loss: 0.4468 - accuracy: 0.7883 - val_loss: 0.5203 - val_accuracy: 0.7581\n",
      "Epoch 89/100\n",
      "10/10 [==============================] - 0s 47ms/step - loss: 0.4396 - accuracy: 0.7849 - val_loss: 0.5493 - val_accuracy: 0.7500\n",
      "Epoch 90/100\n",
      "10/10 [==============================] - 0s 42ms/step - loss: 0.4728 - accuracy: 0.7625 - val_loss: 0.4777 - val_accuracy: 0.7823\n",
      "Epoch 91/100\n",
      "10/10 [==============================] - 0s 46ms/step - loss: 0.4606 - accuracy: 0.7711 - val_loss: 0.4714 - val_accuracy: 0.7823\n",
      "Epoch 92/100\n",
      "10/10 [==============================] - 0s 42ms/step - loss: 0.4540 - accuracy: 0.7762 - val_loss: 0.4575 - val_accuracy: 0.7742\n",
      "Epoch 93/100\n",
      "10/10 [==============================] - 0s 42ms/step - loss: 0.4367 - accuracy: 0.7831 - val_loss: 0.4550 - val_accuracy: 0.7903\n",
      "Epoch 94/100\n",
      "10/10 [==============================] - 0s 42ms/step - loss: 0.4198 - accuracy: 0.7935 - val_loss: 0.4609 - val_accuracy: 0.7823\n",
      "Epoch 95/100\n",
      "10/10 [==============================] - 0s 44ms/step - loss: 0.4150 - accuracy: 0.7917 - val_loss: 0.4725 - val_accuracy: 0.7742\n",
      "Epoch 96/100\n",
      "10/10 [==============================] - 0s 50ms/step - loss: 0.4147 - accuracy: 0.8055 - val_loss: 0.5017 - val_accuracy: 0.7581\n",
      "Epoch 97/100\n",
      "10/10 [==============================] - 0s 44ms/step - loss: 0.4249 - accuracy: 0.7917 - val_loss: 0.4790 - val_accuracy: 0.7661\n",
      "Epoch 98/100\n",
      "10/10 [==============================] - 0s 43ms/step - loss: 0.4268 - accuracy: 0.8021 - val_loss: 0.4698 - val_accuracy: 0.7742\n",
      "Epoch 99/100\n",
      "10/10 [==============================] - 0s 42ms/step - loss: 0.4189 - accuracy: 0.7986 - val_loss: 0.4965 - val_accuracy: 0.7581\n",
      "Epoch 100/100\n",
      "10/10 [==============================] - 0s 46ms/step - loss: 0.4176 - accuracy: 0.7969 - val_loss: 0.4812 - val_accuracy: 0.7661\n"
     ]
    }
   ],
   "source": [
    "# train\n",
    "lstm_history = lstm.fit(x_train, y_train, epochs=100, batch_size=64, validation_data=(x_valid, y_valid), shuffle=False)"
   ]
  },
  {
   "cell_type": "code",
   "execution_count": 24,
   "metadata": {},
   "outputs": [
    {
     "name": "stdout",
     "output_type": "stream",
     "text": [
      "4/4 [==============================] - 1s 9ms/step\n"
     ]
    }
   ],
   "source": [
    "# evaluate the model\n",
    "y_pred = lstm.predict(x_test)"
   ]
  },
  {
   "cell_type": "code",
   "execution_count": 25,
   "metadata": {},
   "outputs": [
    {
     "name": "stdout",
     "output_type": "stream",
     "text": [
      "                 model  accuracy  precision  recall      f1  roc_auc\n",
      "0  Logistic Regression    0.7952     0.7869  0.6957  0.7385   0.7808\n",
      "1                  SVM    0.8133     0.8393  0.6812  0.7520   0.7942\n",
      "2        Random Forest    0.9940     0.9857  1.0000  0.9928   0.9948\n",
      "3                 LSTM    0.7120     0.6500  0.8667  0.7429   0.7179\n"
     ]
    }
   ],
   "source": [
    "# calc metrics and add a row to results\n",
    "results.loc[len(results)] = [\n",
    "    'LSTM',\n",
    "    round(accuracy_score(y_test, y_pred.round()), 4),\n",
    "    round(precision_score(y_test, y_pred.round()), 4),\n",
    "    round(recall_score(y_test, y_pred.round()), 4),\n",
    "    round(f1_score(y_test, y_pred.round()), 4),\n",
    "    round(roc_auc_score(y_test, y_pred.round()), 4),\n",
    "]\n",
    "print(results)"
   ]
  },
  {
   "cell_type": "code",
   "execution_count": 26,
   "metadata": {},
   "outputs": [
    {
     "data": {
      "application/vnd.plotly.v1+json": {
       "config": {
        "plotlyServerURL": "https://plot.ly"
       },
       "data": [
        {
         "mode": "lines",
         "name": "loss",
         "type": "scatter",
         "y": [
          0.6987431049346924,
          0.6991379857063293,
          0.6937295198440552,
          0.6892995238304138,
          0.686112642288208,
          0.6860216856002808,
          0.6857465505599976,
          0.682929515838623,
          0.6820074319839478,
          0.6791800856590271,
          0.6750427484512329,
          0.6703341603279114,
          0.6620659232139587,
          0.6539551615715027,
          0.6364248394966125,
          0.6337816715240479,
          0.6279866099357605,
          0.5933456420898438,
          0.5819271206855774,
          0.6070647239685059,
          0.6014612317085266,
          0.5443734526634216,
          0.5517193078994751,
          0.5723044872283936,
          0.585911750793457,
          0.5400457382202148,
          0.5275518894195557,
          0.5405644774436951,
          0.5522435903549194,
          0.5503112077713013,
          0.5286996364593506,
          0.5183276534080505,
          0.5240628719329834,
          0.5328559279441833,
          0.5310468077659607,
          0.5234293341636658,
          0.5124983191490173,
          0.515112042427063,
          0.5191509127616882,
          0.5191165804862976,
          0.514241635799408,
          0.5088360905647278,
          0.5011689066886902,
          0.5050815939903259,
          0.507590115070343,
          0.5101010799407959,
          0.5048523545265198,
          0.4987979829311371,
          0.49727216362953186,
          0.4986658990383148,
          0.4892139434814453,
          0.49383729696273804,
          0.488646924495697,
          0.48739707469940186,
          0.48891758918762207,
          0.4891488254070282,
          0.48987582325935364,
          0.48178720474243164,
          0.48927047848701477,
          0.4784715473651886,
          0.47997549176216125,
          0.46869879961013794,
          0.4760654866695404,
          0.4634357988834381,
          0.46667948365211487,
          0.4649149179458618,
          0.47490206360816956,
          0.4651302695274353,
          0.46015670895576477,
          0.46299442648887634,
          0.4598357081413269,
          0.4556769132614136,
          0.4571341872215271,
          0.4503881335258484,
          0.44351431727409363,
          0.4409318268299103,
          0.44150522351264954,
          0.4443250000476837,
          0.43157801032066345,
          0.42864879965782166,
          0.4272463619709015,
          0.421917587518692,
          0.4246065020561218,
          0.4284542202949524,
          0.4307335913181305,
          0.4337141513824463,
          0.43225619196891785,
          0.44681668281555176,
          0.4395887851715088,
          0.4727559983730316,
          0.460600346326828,
          0.45399734377861023,
          0.43674436211586,
          0.4198492467403412,
          0.4150400459766388,
          0.4147406220436096,
          0.42494797706604004,
          0.4267711937427521,
          0.4188694357872009,
          0.4176470935344696
         ]
        },
        {
         "mode": "lines",
         "name": "val_loss",
         "type": "scatter",
         "y": [
          0.6967777013778687,
          0.6885022521018982,
          0.6932275295257568,
          0.6907780766487122,
          0.6887325048446655,
          0.6874608397483826,
          0.6859152913093567,
          0.6835781335830688,
          0.679566502571106,
          0.6745262145996094,
          0.6680735945701599,
          0.6591344475746155,
          0.6508309245109558,
          0.6394361853599548,
          0.6369983553886414,
          0.6380946040153503,
          0.6074835062026978,
          0.5994283556938171,
          0.6311522126197815,
          0.6247754096984863,
          0.5710421800613403,
          0.5661343336105347,
          0.5906261205673218,
          0.6196602582931519,
          0.5653615593910217,
          0.5559395551681519,
          0.573624312877655,
          0.5863482356071472,
          0.5821636319160461,
          0.5522661805152893,
          0.5492033362388611,
          0.5587729811668396,
          0.5693650245666504,
          0.5641567707061768,
          0.5541138648986816,
          0.5459855794906616,
          0.55265873670578,
          0.5540441870689392,
          0.5548827648162842,
          0.5463594198226929,
          0.5429982542991638,
          0.5384140014648438,
          0.5423718094825745,
          0.5399237871170044,
          0.5540280938148499,
          0.5387067198753357,
          0.5379918217658997,
          0.5344431400299072,
          0.5348784327507019,
          0.5297319889068604,
          0.528054416179657,
          0.526164174079895,
          0.5255372524261475,
          0.5268445014953613,
          0.5240921378135681,
          0.5248115658760071,
          0.5174946784973145,
          0.5262109041213989,
          0.5119258761405945,
          0.5198327302932739,
          0.5017643570899963,
          0.5179541707038879,
          0.507710874080658,
          0.5132847428321838,
          0.5173962712287903,
          0.5186375379562378,
          0.5060836672782898,
          0.5095948576927185,
          0.5155340433120728,
          0.5103320479393005,
          0.5087592005729675,
          0.5150543451309204,
          0.517448902130127,
          0.505813717842102,
          0.508283257484436,
          0.5068930983543396,
          0.5126209855079651,
          0.5076925754547119,
          0.49910029768943787,
          0.506208598613739,
          0.4884789288043976,
          0.4901883006095886,
          0.5062612295150757,
          0.4779287874698639,
          0.5173880457878113,
          0.5215789675712585,
          0.5389059782028198,
          0.520250678062439,
          0.5493428111076355,
          0.47773587703704834,
          0.4713671803474426,
          0.4575212895870209,
          0.45499780774116516,
          0.460932195186615,
          0.4724520146846771,
          0.5016878247261047,
          0.4789941906929016,
          0.46976757049560547,
          0.4964527189731598,
          0.4812450110912323
         ]
        }
       ],
       "layout": {
        "template": {
         "data": {
          "bar": [
           {
            "error_x": {
             "color": "#2a3f5f"
            },
            "error_y": {
             "color": "#2a3f5f"
            },
            "marker": {
             "line": {
              "color": "#E5ECF6",
              "width": 0.5
             },
             "pattern": {
              "fillmode": "overlay",
              "size": 10,
              "solidity": 0.2
             }
            },
            "type": "bar"
           }
          ],
          "barpolar": [
           {
            "marker": {
             "line": {
              "color": "#E5ECF6",
              "width": 0.5
             },
             "pattern": {
              "fillmode": "overlay",
              "size": 10,
              "solidity": 0.2
             }
            },
            "type": "barpolar"
           }
          ],
          "carpet": [
           {
            "aaxis": {
             "endlinecolor": "#2a3f5f",
             "gridcolor": "white",
             "linecolor": "white",
             "minorgridcolor": "white",
             "startlinecolor": "#2a3f5f"
            },
            "baxis": {
             "endlinecolor": "#2a3f5f",
             "gridcolor": "white",
             "linecolor": "white",
             "minorgridcolor": "white",
             "startlinecolor": "#2a3f5f"
            },
            "type": "carpet"
           }
          ],
          "choropleth": [
           {
            "colorbar": {
             "outlinewidth": 0,
             "ticks": ""
            },
            "type": "choropleth"
           }
          ],
          "contour": [
           {
            "colorbar": {
             "outlinewidth": 0,
             "ticks": ""
            },
            "colorscale": [
             [
              0,
              "#0d0887"
             ],
             [
              0.1111111111111111,
              "#46039f"
             ],
             [
              0.2222222222222222,
              "#7201a8"
             ],
             [
              0.3333333333333333,
              "#9c179e"
             ],
             [
              0.4444444444444444,
              "#bd3786"
             ],
             [
              0.5555555555555556,
              "#d8576b"
             ],
             [
              0.6666666666666666,
              "#ed7953"
             ],
             [
              0.7777777777777778,
              "#fb9f3a"
             ],
             [
              0.8888888888888888,
              "#fdca26"
             ],
             [
              1,
              "#f0f921"
             ]
            ],
            "type": "contour"
           }
          ],
          "contourcarpet": [
           {
            "colorbar": {
             "outlinewidth": 0,
             "ticks": ""
            },
            "type": "contourcarpet"
           }
          ],
          "heatmap": [
           {
            "colorbar": {
             "outlinewidth": 0,
             "ticks": ""
            },
            "colorscale": [
             [
              0,
              "#0d0887"
             ],
             [
              0.1111111111111111,
              "#46039f"
             ],
             [
              0.2222222222222222,
              "#7201a8"
             ],
             [
              0.3333333333333333,
              "#9c179e"
             ],
             [
              0.4444444444444444,
              "#bd3786"
             ],
             [
              0.5555555555555556,
              "#d8576b"
             ],
             [
              0.6666666666666666,
              "#ed7953"
             ],
             [
              0.7777777777777778,
              "#fb9f3a"
             ],
             [
              0.8888888888888888,
              "#fdca26"
             ],
             [
              1,
              "#f0f921"
             ]
            ],
            "type": "heatmap"
           }
          ],
          "heatmapgl": [
           {
            "colorbar": {
             "outlinewidth": 0,
             "ticks": ""
            },
            "colorscale": [
             [
              0,
              "#0d0887"
             ],
             [
              0.1111111111111111,
              "#46039f"
             ],
             [
              0.2222222222222222,
              "#7201a8"
             ],
             [
              0.3333333333333333,
              "#9c179e"
             ],
             [
              0.4444444444444444,
              "#bd3786"
             ],
             [
              0.5555555555555556,
              "#d8576b"
             ],
             [
              0.6666666666666666,
              "#ed7953"
             ],
             [
              0.7777777777777778,
              "#fb9f3a"
             ],
             [
              0.8888888888888888,
              "#fdca26"
             ],
             [
              1,
              "#f0f921"
             ]
            ],
            "type": "heatmapgl"
           }
          ],
          "histogram": [
           {
            "marker": {
             "pattern": {
              "fillmode": "overlay",
              "size": 10,
              "solidity": 0.2
             }
            },
            "type": "histogram"
           }
          ],
          "histogram2d": [
           {
            "colorbar": {
             "outlinewidth": 0,
             "ticks": ""
            },
            "colorscale": [
             [
              0,
              "#0d0887"
             ],
             [
              0.1111111111111111,
              "#46039f"
             ],
             [
              0.2222222222222222,
              "#7201a8"
             ],
             [
              0.3333333333333333,
              "#9c179e"
             ],
             [
              0.4444444444444444,
              "#bd3786"
             ],
             [
              0.5555555555555556,
              "#d8576b"
             ],
             [
              0.6666666666666666,
              "#ed7953"
             ],
             [
              0.7777777777777778,
              "#fb9f3a"
             ],
             [
              0.8888888888888888,
              "#fdca26"
             ],
             [
              1,
              "#f0f921"
             ]
            ],
            "type": "histogram2d"
           }
          ],
          "histogram2dcontour": [
           {
            "colorbar": {
             "outlinewidth": 0,
             "ticks": ""
            },
            "colorscale": [
             [
              0,
              "#0d0887"
             ],
             [
              0.1111111111111111,
              "#46039f"
             ],
             [
              0.2222222222222222,
              "#7201a8"
             ],
             [
              0.3333333333333333,
              "#9c179e"
             ],
             [
              0.4444444444444444,
              "#bd3786"
             ],
             [
              0.5555555555555556,
              "#d8576b"
             ],
             [
              0.6666666666666666,
              "#ed7953"
             ],
             [
              0.7777777777777778,
              "#fb9f3a"
             ],
             [
              0.8888888888888888,
              "#fdca26"
             ],
             [
              1,
              "#f0f921"
             ]
            ],
            "type": "histogram2dcontour"
           }
          ],
          "mesh3d": [
           {
            "colorbar": {
             "outlinewidth": 0,
             "ticks": ""
            },
            "type": "mesh3d"
           }
          ],
          "parcoords": [
           {
            "line": {
             "colorbar": {
              "outlinewidth": 0,
              "ticks": ""
             }
            },
            "type": "parcoords"
           }
          ],
          "pie": [
           {
            "automargin": true,
            "type": "pie"
           }
          ],
          "scatter": [
           {
            "fillpattern": {
             "fillmode": "overlay",
             "size": 10,
             "solidity": 0.2
            },
            "type": "scatter"
           }
          ],
          "scatter3d": [
           {
            "line": {
             "colorbar": {
              "outlinewidth": 0,
              "ticks": ""
             }
            },
            "marker": {
             "colorbar": {
              "outlinewidth": 0,
              "ticks": ""
             }
            },
            "type": "scatter3d"
           }
          ],
          "scattercarpet": [
           {
            "marker": {
             "colorbar": {
              "outlinewidth": 0,
              "ticks": ""
             }
            },
            "type": "scattercarpet"
           }
          ],
          "scattergeo": [
           {
            "marker": {
             "colorbar": {
              "outlinewidth": 0,
              "ticks": ""
             }
            },
            "type": "scattergeo"
           }
          ],
          "scattergl": [
           {
            "marker": {
             "colorbar": {
              "outlinewidth": 0,
              "ticks": ""
             }
            },
            "type": "scattergl"
           }
          ],
          "scattermapbox": [
           {
            "marker": {
             "colorbar": {
              "outlinewidth": 0,
              "ticks": ""
             }
            },
            "type": "scattermapbox"
           }
          ],
          "scatterpolar": [
           {
            "marker": {
             "colorbar": {
              "outlinewidth": 0,
              "ticks": ""
             }
            },
            "type": "scatterpolar"
           }
          ],
          "scatterpolargl": [
           {
            "marker": {
             "colorbar": {
              "outlinewidth": 0,
              "ticks": ""
             }
            },
            "type": "scatterpolargl"
           }
          ],
          "scatterternary": [
           {
            "marker": {
             "colorbar": {
              "outlinewidth": 0,
              "ticks": ""
             }
            },
            "type": "scatterternary"
           }
          ],
          "surface": [
           {
            "colorbar": {
             "outlinewidth": 0,
             "ticks": ""
            },
            "colorscale": [
             [
              0,
              "#0d0887"
             ],
             [
              0.1111111111111111,
              "#46039f"
             ],
             [
              0.2222222222222222,
              "#7201a8"
             ],
             [
              0.3333333333333333,
              "#9c179e"
             ],
             [
              0.4444444444444444,
              "#bd3786"
             ],
             [
              0.5555555555555556,
              "#d8576b"
             ],
             [
              0.6666666666666666,
              "#ed7953"
             ],
             [
              0.7777777777777778,
              "#fb9f3a"
             ],
             [
              0.8888888888888888,
              "#fdca26"
             ],
             [
              1,
              "#f0f921"
             ]
            ],
            "type": "surface"
           }
          ],
          "table": [
           {
            "cells": {
             "fill": {
              "color": "#EBF0F8"
             },
             "line": {
              "color": "white"
             }
            },
            "header": {
             "fill": {
              "color": "#C8D4E3"
             },
             "line": {
              "color": "white"
             }
            },
            "type": "table"
           }
          ]
         },
         "layout": {
          "annotationdefaults": {
           "arrowcolor": "#2a3f5f",
           "arrowhead": 0,
           "arrowwidth": 1
          },
          "autotypenumbers": "strict",
          "coloraxis": {
           "colorbar": {
            "outlinewidth": 0,
            "ticks": ""
           }
          },
          "colorscale": {
           "diverging": [
            [
             0,
             "#8e0152"
            ],
            [
             0.1,
             "#c51b7d"
            ],
            [
             0.2,
             "#de77ae"
            ],
            [
             0.3,
             "#f1b6da"
            ],
            [
             0.4,
             "#fde0ef"
            ],
            [
             0.5,
             "#f7f7f7"
            ],
            [
             0.6,
             "#e6f5d0"
            ],
            [
             0.7,
             "#b8e186"
            ],
            [
             0.8,
             "#7fbc41"
            ],
            [
             0.9,
             "#4d9221"
            ],
            [
             1,
             "#276419"
            ]
           ],
           "sequential": [
            [
             0,
             "#0d0887"
            ],
            [
             0.1111111111111111,
             "#46039f"
            ],
            [
             0.2222222222222222,
             "#7201a8"
            ],
            [
             0.3333333333333333,
             "#9c179e"
            ],
            [
             0.4444444444444444,
             "#bd3786"
            ],
            [
             0.5555555555555556,
             "#d8576b"
            ],
            [
             0.6666666666666666,
             "#ed7953"
            ],
            [
             0.7777777777777778,
             "#fb9f3a"
            ],
            [
             0.8888888888888888,
             "#fdca26"
            ],
            [
             1,
             "#f0f921"
            ]
           ],
           "sequentialminus": [
            [
             0,
             "#0d0887"
            ],
            [
             0.1111111111111111,
             "#46039f"
            ],
            [
             0.2222222222222222,
             "#7201a8"
            ],
            [
             0.3333333333333333,
             "#9c179e"
            ],
            [
             0.4444444444444444,
             "#bd3786"
            ],
            [
             0.5555555555555556,
             "#d8576b"
            ],
            [
             0.6666666666666666,
             "#ed7953"
            ],
            [
             0.7777777777777778,
             "#fb9f3a"
            ],
            [
             0.8888888888888888,
             "#fdca26"
            ],
            [
             1,
             "#f0f921"
            ]
           ]
          },
          "colorway": [
           "#636efa",
           "#EF553B",
           "#00cc96",
           "#ab63fa",
           "#FFA15A",
           "#19d3f3",
           "#FF6692",
           "#B6E880",
           "#FF97FF",
           "#FECB52"
          ],
          "font": {
           "color": "#2a3f5f"
          },
          "geo": {
           "bgcolor": "white",
           "lakecolor": "white",
           "landcolor": "#E5ECF6",
           "showlakes": true,
           "showland": true,
           "subunitcolor": "white"
          },
          "hoverlabel": {
           "align": "left"
          },
          "hovermode": "closest",
          "mapbox": {
           "style": "light"
          },
          "paper_bgcolor": "white",
          "plot_bgcolor": "#E5ECF6",
          "polar": {
           "angularaxis": {
            "gridcolor": "white",
            "linecolor": "white",
            "ticks": ""
           },
           "bgcolor": "#E5ECF6",
           "radialaxis": {
            "gridcolor": "white",
            "linecolor": "white",
            "ticks": ""
           }
          },
          "scene": {
           "xaxis": {
            "backgroundcolor": "#E5ECF6",
            "gridcolor": "white",
            "gridwidth": 2,
            "linecolor": "white",
            "showbackground": true,
            "ticks": "",
            "zerolinecolor": "white"
           },
           "yaxis": {
            "backgroundcolor": "#E5ECF6",
            "gridcolor": "white",
            "gridwidth": 2,
            "linecolor": "white",
            "showbackground": true,
            "ticks": "",
            "zerolinecolor": "white"
           },
           "zaxis": {
            "backgroundcolor": "#E5ECF6",
            "gridcolor": "white",
            "gridwidth": 2,
            "linecolor": "white",
            "showbackground": true,
            "ticks": "",
            "zerolinecolor": "white"
           }
          },
          "shapedefaults": {
           "line": {
            "color": "#2a3f5f"
           }
          },
          "ternary": {
           "aaxis": {
            "gridcolor": "white",
            "linecolor": "white",
            "ticks": ""
           },
           "baxis": {
            "gridcolor": "white",
            "linecolor": "white",
            "ticks": ""
           },
           "bgcolor": "#E5ECF6",
           "caxis": {
            "gridcolor": "white",
            "linecolor": "white",
            "ticks": ""
           }
          },
          "title": {
           "x": 0.05
          },
          "xaxis": {
           "automargin": true,
           "gridcolor": "white",
           "linecolor": "white",
           "ticks": "",
           "title": {
            "standoff": 15
           },
           "zerolinecolor": "white",
           "zerolinewidth": 2
          },
          "yaxis": {
           "automargin": true,
           "gridcolor": "white",
           "linecolor": "white",
           "ticks": "",
           "title": {
            "standoff": 15
           },
           "zerolinecolor": "white",
           "zerolinewidth": 2
          }
         }
        },
        "title": {
         "text": "Loss"
        },
        "xaxis": {
         "title": {
          "text": "Epoch"
         }
        },
        "yaxis": {
         "title": {
          "text": "Loss"
         }
        }
       }
      }
     },
     "metadata": {},
     "output_type": "display_data"
    }
   ],
   "source": [
    "# plot loss\n",
    "fig = go.Figure()\n",
    "fig.add_trace(go.Scatter(y=lstm_history.history['loss'], mode='lines', name='loss'))\n",
    "fig.add_trace(go.Scatter(y=lstm_history.history['val_loss'], mode='lines', name='val_loss'))\n",
    "fig.update_layout(title='Loss', xaxis_title='Epoch', yaxis_title='Loss')\n",
    "fig.show()"
   ]
  },
  {
   "cell_type": "code",
   "execution_count": 27,
   "metadata": {},
   "outputs": [
    {
     "data": {
      "application/vnd.plotly.v1+json": {
       "config": {
        "plotlyServerURL": "https://plot.ly"
       },
       "data": [
        {
         "mode": "lines",
         "name": "accuracy",
         "type": "scatter",
         "y": [
          0.5456110239028931,
          0.46299484372138977,
          0.562822699546814,
          0.562822699546814,
          0.562822699546814,
          0.562822699546814,
          0.562822699546814,
          0.562822699546814,
          0.5645439028739929,
          0.5662650465965271,
          0.5697073936462402,
          0.5697073936462402,
          0.5731497406959534,
          0.585197925567627,
          0.6110154986381531,
          0.5989673137664795,
          0.6127366423606873,
          0.6987951993942261,
          0.716006875038147,
          0.6764199733734131,
          0.6557658910751343,
          0.7435455918312073,
          0.7401032447814941,
          0.7280550599098206,
          0.6781411170959473,
          0.7263339161872864,
          0.7487091422080994,
          0.7452667951583862,
          0.716006875038147,
          0.7074010372161865,
          0.7366609573364258,
          0.7538726329803467,
          0.7504302859306335,
          0.7314974069595337,
          0.7297762632369995,
          0.73838210105896,
          0.7469879388809204,
          0.7504302859306335,
          0.7504302859306335,
          0.73838210105896,
          0.73838210105896,
          0.7504302859306335,
          0.7573149800300598,
          0.7538726329803467,
          0.7504302859306335,
          0.7452667951583862,
          0.7555937767028809,
          0.7504302859306335,
          0.760757327079773,
          0.7555937767028809,
          0.760757327079773,
          0.7624784708023071,
          0.7641996741294861,
          0.760757327079773,
          0.760757327079773,
          0.7624784708023071,
          0.7624784708023071,
          0.7745266556739807,
          0.7573149800300598,
          0.7641996741294861,
          0.7745266556739807,
          0.7865749001502991,
          0.7728055119514465,
          0.7951807379722595,
          0.7865749001502991,
          0.7917383909225464,
          0.7745266556739807,
          0.7865749001502991,
          0.7796902060508728,
          0.7900171875953674,
          0.7917383909225464,
          0.7986230850219727,
          0.7865749001502991,
          0.7969018816947937,
          0.8003442287445068,
          0.8055077195167542,
          0.8020654320716858,
          0.7934595346450806,
          0.8123924136161804,
          0.8089500665664673,
          0.8055077195167542,
          0.8072289228439331,
          0.8106712698936462,
          0.8089500665664673,
          0.8123924136161804,
          0.8020654320716858,
          0.7986230850219727,
          0.7882960438728333,
          0.7848536968231201,
          0.7624784708023071,
          0.7710843086242676,
          0.7762478590011597,
          0.7831325531005859,
          0.7934595346450806,
          0.7917383909225464,
          0.8055077195167542,
          0.7917383909225464,
          0.8020654320716858,
          0.7986230850219727,
          0.7969018816947937
         ]
        },
        {
         "mode": "lines",
         "name": "val_accuracy",
         "type": "scatter",
         "y": [
          0.4516128897666931,
          0.5483871102333069,
          0.5483871102333069,
          0.5483871102333069,
          0.5483871102333069,
          0.5483871102333069,
          0.5483871102333069,
          0.5483871102333069,
          0.5483871102333069,
          0.5483871102333069,
          0.5483871102333069,
          0.5806451439857483,
          0.6774193644523621,
          0.6854838728904724,
          0.7016128897666931,
          0.6774193644523621,
          0.6854838728904724,
          0.7096773982048035,
          0.6693548560142517,
          0.6854838728904724,
          0.6854838728904724,
          0.6935483813285828,
          0.7016128897666931,
          0.7016128897666931,
          0.6935483813285828,
          0.6935483813285828,
          0.7096773982048035,
          0.7096773982048035,
          0.7096773982048035,
          0.6935483813285828,
          0.6935483813285828,
          0.7096773982048035,
          0.7177419066429138,
          0.7177419066429138,
          0.7096773982048035,
          0.7177419066429138,
          0.7096773982048035,
          0.7177419066429138,
          0.725806474685669,
          0.725806474685669,
          0.7177419066429138,
          0.7177419066429138,
          0.725806474685669,
          0.725806474685669,
          0.75,
          0.725806474685669,
          0.725806474685669,
          0.7338709831237793,
          0.7338709831237793,
          0.7338709831237793,
          0.7419354915618896,
          0.7419354915618896,
          0.7419354915618896,
          0.7419354915618896,
          0.7419354915618896,
          0.7419354915618896,
          0.7419354915618896,
          0.75,
          0.7419354915618896,
          0.7419354915618896,
          0.7338709831237793,
          0.75,
          0.7338709831237793,
          0.75,
          0.75,
          0.75,
          0.7419354915618896,
          0.7419354915618896,
          0.75,
          0.7419354915618896,
          0.75,
          0.7580645084381104,
          0.7419354915618896,
          0.7419354915618896,
          0.7419354915618896,
          0.7419354915618896,
          0.75,
          0.75,
          0.75,
          0.75,
          0.75,
          0.75,
          0.75,
          0.7580645084381104,
          0.75,
          0.7580645084381104,
          0.75,
          0.7580645084381104,
          0.75,
          0.7822580933570862,
          0.7822580933570862,
          0.774193525314331,
          0.7903226017951965,
          0.7822580933570862,
          0.774193525314331,
          0.7580645084381104,
          0.7661290168762207,
          0.774193525314331,
          0.7580645084381104,
          0.7661290168762207
         ]
        }
       ],
       "layout": {
        "template": {
         "data": {
          "bar": [
           {
            "error_x": {
             "color": "#2a3f5f"
            },
            "error_y": {
             "color": "#2a3f5f"
            },
            "marker": {
             "line": {
              "color": "#E5ECF6",
              "width": 0.5
             },
             "pattern": {
              "fillmode": "overlay",
              "size": 10,
              "solidity": 0.2
             }
            },
            "type": "bar"
           }
          ],
          "barpolar": [
           {
            "marker": {
             "line": {
              "color": "#E5ECF6",
              "width": 0.5
             },
             "pattern": {
              "fillmode": "overlay",
              "size": 10,
              "solidity": 0.2
             }
            },
            "type": "barpolar"
           }
          ],
          "carpet": [
           {
            "aaxis": {
             "endlinecolor": "#2a3f5f",
             "gridcolor": "white",
             "linecolor": "white",
             "minorgridcolor": "white",
             "startlinecolor": "#2a3f5f"
            },
            "baxis": {
             "endlinecolor": "#2a3f5f",
             "gridcolor": "white",
             "linecolor": "white",
             "minorgridcolor": "white",
             "startlinecolor": "#2a3f5f"
            },
            "type": "carpet"
           }
          ],
          "choropleth": [
           {
            "colorbar": {
             "outlinewidth": 0,
             "ticks": ""
            },
            "type": "choropleth"
           }
          ],
          "contour": [
           {
            "colorbar": {
             "outlinewidth": 0,
             "ticks": ""
            },
            "colorscale": [
             [
              0,
              "#0d0887"
             ],
             [
              0.1111111111111111,
              "#46039f"
             ],
             [
              0.2222222222222222,
              "#7201a8"
             ],
             [
              0.3333333333333333,
              "#9c179e"
             ],
             [
              0.4444444444444444,
              "#bd3786"
             ],
             [
              0.5555555555555556,
              "#d8576b"
             ],
             [
              0.6666666666666666,
              "#ed7953"
             ],
             [
              0.7777777777777778,
              "#fb9f3a"
             ],
             [
              0.8888888888888888,
              "#fdca26"
             ],
             [
              1,
              "#f0f921"
             ]
            ],
            "type": "contour"
           }
          ],
          "contourcarpet": [
           {
            "colorbar": {
             "outlinewidth": 0,
             "ticks": ""
            },
            "type": "contourcarpet"
           }
          ],
          "heatmap": [
           {
            "colorbar": {
             "outlinewidth": 0,
             "ticks": ""
            },
            "colorscale": [
             [
              0,
              "#0d0887"
             ],
             [
              0.1111111111111111,
              "#46039f"
             ],
             [
              0.2222222222222222,
              "#7201a8"
             ],
             [
              0.3333333333333333,
              "#9c179e"
             ],
             [
              0.4444444444444444,
              "#bd3786"
             ],
             [
              0.5555555555555556,
              "#d8576b"
             ],
             [
              0.6666666666666666,
              "#ed7953"
             ],
             [
              0.7777777777777778,
              "#fb9f3a"
             ],
             [
              0.8888888888888888,
              "#fdca26"
             ],
             [
              1,
              "#f0f921"
             ]
            ],
            "type": "heatmap"
           }
          ],
          "heatmapgl": [
           {
            "colorbar": {
             "outlinewidth": 0,
             "ticks": ""
            },
            "colorscale": [
             [
              0,
              "#0d0887"
             ],
             [
              0.1111111111111111,
              "#46039f"
             ],
             [
              0.2222222222222222,
              "#7201a8"
             ],
             [
              0.3333333333333333,
              "#9c179e"
             ],
             [
              0.4444444444444444,
              "#bd3786"
             ],
             [
              0.5555555555555556,
              "#d8576b"
             ],
             [
              0.6666666666666666,
              "#ed7953"
             ],
             [
              0.7777777777777778,
              "#fb9f3a"
             ],
             [
              0.8888888888888888,
              "#fdca26"
             ],
             [
              1,
              "#f0f921"
             ]
            ],
            "type": "heatmapgl"
           }
          ],
          "histogram": [
           {
            "marker": {
             "pattern": {
              "fillmode": "overlay",
              "size": 10,
              "solidity": 0.2
             }
            },
            "type": "histogram"
           }
          ],
          "histogram2d": [
           {
            "colorbar": {
             "outlinewidth": 0,
             "ticks": ""
            },
            "colorscale": [
             [
              0,
              "#0d0887"
             ],
             [
              0.1111111111111111,
              "#46039f"
             ],
             [
              0.2222222222222222,
              "#7201a8"
             ],
             [
              0.3333333333333333,
              "#9c179e"
             ],
             [
              0.4444444444444444,
              "#bd3786"
             ],
             [
              0.5555555555555556,
              "#d8576b"
             ],
             [
              0.6666666666666666,
              "#ed7953"
             ],
             [
              0.7777777777777778,
              "#fb9f3a"
             ],
             [
              0.8888888888888888,
              "#fdca26"
             ],
             [
              1,
              "#f0f921"
             ]
            ],
            "type": "histogram2d"
           }
          ],
          "histogram2dcontour": [
           {
            "colorbar": {
             "outlinewidth": 0,
             "ticks": ""
            },
            "colorscale": [
             [
              0,
              "#0d0887"
             ],
             [
              0.1111111111111111,
              "#46039f"
             ],
             [
              0.2222222222222222,
              "#7201a8"
             ],
             [
              0.3333333333333333,
              "#9c179e"
             ],
             [
              0.4444444444444444,
              "#bd3786"
             ],
             [
              0.5555555555555556,
              "#d8576b"
             ],
             [
              0.6666666666666666,
              "#ed7953"
             ],
             [
              0.7777777777777778,
              "#fb9f3a"
             ],
             [
              0.8888888888888888,
              "#fdca26"
             ],
             [
              1,
              "#f0f921"
             ]
            ],
            "type": "histogram2dcontour"
           }
          ],
          "mesh3d": [
           {
            "colorbar": {
             "outlinewidth": 0,
             "ticks": ""
            },
            "type": "mesh3d"
           }
          ],
          "parcoords": [
           {
            "line": {
             "colorbar": {
              "outlinewidth": 0,
              "ticks": ""
             }
            },
            "type": "parcoords"
           }
          ],
          "pie": [
           {
            "automargin": true,
            "type": "pie"
           }
          ],
          "scatter": [
           {
            "fillpattern": {
             "fillmode": "overlay",
             "size": 10,
             "solidity": 0.2
            },
            "type": "scatter"
           }
          ],
          "scatter3d": [
           {
            "line": {
             "colorbar": {
              "outlinewidth": 0,
              "ticks": ""
             }
            },
            "marker": {
             "colorbar": {
              "outlinewidth": 0,
              "ticks": ""
             }
            },
            "type": "scatter3d"
           }
          ],
          "scattercarpet": [
           {
            "marker": {
             "colorbar": {
              "outlinewidth": 0,
              "ticks": ""
             }
            },
            "type": "scattercarpet"
           }
          ],
          "scattergeo": [
           {
            "marker": {
             "colorbar": {
              "outlinewidth": 0,
              "ticks": ""
             }
            },
            "type": "scattergeo"
           }
          ],
          "scattergl": [
           {
            "marker": {
             "colorbar": {
              "outlinewidth": 0,
              "ticks": ""
             }
            },
            "type": "scattergl"
           }
          ],
          "scattermapbox": [
           {
            "marker": {
             "colorbar": {
              "outlinewidth": 0,
              "ticks": ""
             }
            },
            "type": "scattermapbox"
           }
          ],
          "scatterpolar": [
           {
            "marker": {
             "colorbar": {
              "outlinewidth": 0,
              "ticks": ""
             }
            },
            "type": "scatterpolar"
           }
          ],
          "scatterpolargl": [
           {
            "marker": {
             "colorbar": {
              "outlinewidth": 0,
              "ticks": ""
             }
            },
            "type": "scatterpolargl"
           }
          ],
          "scatterternary": [
           {
            "marker": {
             "colorbar": {
              "outlinewidth": 0,
              "ticks": ""
             }
            },
            "type": "scatterternary"
           }
          ],
          "surface": [
           {
            "colorbar": {
             "outlinewidth": 0,
             "ticks": ""
            },
            "colorscale": [
             [
              0,
              "#0d0887"
             ],
             [
              0.1111111111111111,
              "#46039f"
             ],
             [
              0.2222222222222222,
              "#7201a8"
             ],
             [
              0.3333333333333333,
              "#9c179e"
             ],
             [
              0.4444444444444444,
              "#bd3786"
             ],
             [
              0.5555555555555556,
              "#d8576b"
             ],
             [
              0.6666666666666666,
              "#ed7953"
             ],
             [
              0.7777777777777778,
              "#fb9f3a"
             ],
             [
              0.8888888888888888,
              "#fdca26"
             ],
             [
              1,
              "#f0f921"
             ]
            ],
            "type": "surface"
           }
          ],
          "table": [
           {
            "cells": {
             "fill": {
              "color": "#EBF0F8"
             },
             "line": {
              "color": "white"
             }
            },
            "header": {
             "fill": {
              "color": "#C8D4E3"
             },
             "line": {
              "color": "white"
             }
            },
            "type": "table"
           }
          ]
         },
         "layout": {
          "annotationdefaults": {
           "arrowcolor": "#2a3f5f",
           "arrowhead": 0,
           "arrowwidth": 1
          },
          "autotypenumbers": "strict",
          "coloraxis": {
           "colorbar": {
            "outlinewidth": 0,
            "ticks": ""
           }
          },
          "colorscale": {
           "diverging": [
            [
             0,
             "#8e0152"
            ],
            [
             0.1,
             "#c51b7d"
            ],
            [
             0.2,
             "#de77ae"
            ],
            [
             0.3,
             "#f1b6da"
            ],
            [
             0.4,
             "#fde0ef"
            ],
            [
             0.5,
             "#f7f7f7"
            ],
            [
             0.6,
             "#e6f5d0"
            ],
            [
             0.7,
             "#b8e186"
            ],
            [
             0.8,
             "#7fbc41"
            ],
            [
             0.9,
             "#4d9221"
            ],
            [
             1,
             "#276419"
            ]
           ],
           "sequential": [
            [
             0,
             "#0d0887"
            ],
            [
             0.1111111111111111,
             "#46039f"
            ],
            [
             0.2222222222222222,
             "#7201a8"
            ],
            [
             0.3333333333333333,
             "#9c179e"
            ],
            [
             0.4444444444444444,
             "#bd3786"
            ],
            [
             0.5555555555555556,
             "#d8576b"
            ],
            [
             0.6666666666666666,
             "#ed7953"
            ],
            [
             0.7777777777777778,
             "#fb9f3a"
            ],
            [
             0.8888888888888888,
             "#fdca26"
            ],
            [
             1,
             "#f0f921"
            ]
           ],
           "sequentialminus": [
            [
             0,
             "#0d0887"
            ],
            [
             0.1111111111111111,
             "#46039f"
            ],
            [
             0.2222222222222222,
             "#7201a8"
            ],
            [
             0.3333333333333333,
             "#9c179e"
            ],
            [
             0.4444444444444444,
             "#bd3786"
            ],
            [
             0.5555555555555556,
             "#d8576b"
            ],
            [
             0.6666666666666666,
             "#ed7953"
            ],
            [
             0.7777777777777778,
             "#fb9f3a"
            ],
            [
             0.8888888888888888,
             "#fdca26"
            ],
            [
             1,
             "#f0f921"
            ]
           ]
          },
          "colorway": [
           "#636efa",
           "#EF553B",
           "#00cc96",
           "#ab63fa",
           "#FFA15A",
           "#19d3f3",
           "#FF6692",
           "#B6E880",
           "#FF97FF",
           "#FECB52"
          ],
          "font": {
           "color": "#2a3f5f"
          },
          "geo": {
           "bgcolor": "white",
           "lakecolor": "white",
           "landcolor": "#E5ECF6",
           "showlakes": true,
           "showland": true,
           "subunitcolor": "white"
          },
          "hoverlabel": {
           "align": "left"
          },
          "hovermode": "closest",
          "mapbox": {
           "style": "light"
          },
          "paper_bgcolor": "white",
          "plot_bgcolor": "#E5ECF6",
          "polar": {
           "angularaxis": {
            "gridcolor": "white",
            "linecolor": "white",
            "ticks": ""
           },
           "bgcolor": "#E5ECF6",
           "radialaxis": {
            "gridcolor": "white",
            "linecolor": "white",
            "ticks": ""
           }
          },
          "scene": {
           "xaxis": {
            "backgroundcolor": "#E5ECF6",
            "gridcolor": "white",
            "gridwidth": 2,
            "linecolor": "white",
            "showbackground": true,
            "ticks": "",
            "zerolinecolor": "white"
           },
           "yaxis": {
            "backgroundcolor": "#E5ECF6",
            "gridcolor": "white",
            "gridwidth": 2,
            "linecolor": "white",
            "showbackground": true,
            "ticks": "",
            "zerolinecolor": "white"
           },
           "zaxis": {
            "backgroundcolor": "#E5ECF6",
            "gridcolor": "white",
            "gridwidth": 2,
            "linecolor": "white",
            "showbackground": true,
            "ticks": "",
            "zerolinecolor": "white"
           }
          },
          "shapedefaults": {
           "line": {
            "color": "#2a3f5f"
           }
          },
          "ternary": {
           "aaxis": {
            "gridcolor": "white",
            "linecolor": "white",
            "ticks": ""
           },
           "baxis": {
            "gridcolor": "white",
            "linecolor": "white",
            "ticks": ""
           },
           "bgcolor": "#E5ECF6",
           "caxis": {
            "gridcolor": "white",
            "linecolor": "white",
            "ticks": ""
           }
          },
          "title": {
           "x": 0.05
          },
          "xaxis": {
           "automargin": true,
           "gridcolor": "white",
           "linecolor": "white",
           "ticks": "",
           "title": {
            "standoff": 15
           },
           "zerolinecolor": "white",
           "zerolinewidth": 2
          },
          "yaxis": {
           "automargin": true,
           "gridcolor": "white",
           "linecolor": "white",
           "ticks": "",
           "title": {
            "standoff": 15
           },
           "zerolinecolor": "white",
           "zerolinewidth": 2
          }
         }
        },
        "title": {
         "text": "Accuracy"
        },
        "xaxis": {
         "title": {
          "text": "Epoch"
         }
        },
        "yaxis": {
         "title": {
          "text": "Accuracy"
         }
        }
       }
      }
     },
     "metadata": {},
     "output_type": "display_data"
    }
   ],
   "source": [
    "# plot accuracy\n",
    "fig = go.Figure()\n",
    "fig.add_trace(go.Scatter(y=lstm_history.history['accuracy'], mode='lines', name='accuracy'))\n",
    "fig.add_trace(go.Scatter(y=lstm_history.history['val_accuracy'], mode='lines', name='val_accuracy'))\n",
    "fig.update_layout(title='Accuracy', xaxis_title='Epoch', yaxis_title='Accuracy')\n",
    "fig.show()"
   ]
  },
  {
   "cell_type": "markdown",
   "metadata": {},
   "source": [
    "### RNN"
   ]
  },
  {
   "cell_type": "code",
   "execution_count": 28,
   "metadata": {},
   "outputs": [
    {
     "name": "stdout",
     "output_type": "stream",
     "text": [
      "Model: \"sequential_1\"\n",
      "_________________________________________________________________\n",
      " Layer (type)                Output Shape              Param #   \n",
      "=================================================================\n",
      " simple_rnn (SimpleRNN)      (None, 1, 256)            278016    \n",
      "                                                                 \n",
      " dropout_2 (Dropout)         (None, 1, 256)            0         \n",
      "                                                                 \n",
      " simple_rnn_1 (SimpleRNN)    (None, 256)               131328    \n",
      "                                                                 \n",
      " dropout_3 (Dropout)         (None, 256)               0         \n",
      "                                                                 \n",
      " dense_1 (Dense)             (None, 1)                 257       \n",
      "                                                                 \n",
      "=================================================================\n",
      "Total params: 409601 (1.56 MB)\n",
      "Trainable params: 409601 (1.56 MB)\n",
      "Non-trainable params: 0 (0.00 Byte)\n",
      "_________________________________________________________________\n"
     ]
    }
   ],
   "source": [
    "rnn_model = keras.Sequential()\n",
    "rnn_model.add(keras.layers.SimpleRNN(256, input_shape=(x_train.shape[1], x_train.shape[2]), return_sequences=True))\n",
    "rnn_model.add(keras.layers.Dropout(0.1))\n",
    "rnn_model.add(keras.layers.SimpleRNN(256, return_sequences=False))\n",
    "rnn_model.add(keras.layers.Dropout(0.1))\n",
    "rnn_model.add(keras.layers.Dense(1, activation='sigmoid'))\n",
    "rnn_model.compile(loss='binary_crossentropy', optimizer='adam', metrics=['accuracy'])\n",
    "rnn_model.summary()"
   ]
  },
  {
   "cell_type": "code",
   "execution_count": 29,
   "metadata": {},
   "outputs": [
    {
     "name": "stdout",
     "output_type": "stream",
     "text": [
      "Epoch 1/100\n",
      "10/10 [==============================] - 3s 59ms/step - loss: 0.8221 - accuracy: 0.5353 - val_loss: 0.7732 - val_accuracy: 0.4516\n",
      "Epoch 2/100\n",
      "10/10 [==============================] - 0s 15ms/step - loss: 0.8266 - accuracy: 0.4905 - val_loss: 0.7858 - val_accuracy: 0.4516\n",
      "Epoch 3/100\n",
      "10/10 [==============================] - 0s 13ms/step - loss: 0.8045 - accuracy: 0.4664 - val_loss: 0.6895 - val_accuracy: 0.4839\n",
      "Epoch 4/100\n",
      "10/10 [==============================] - 0s 13ms/step - loss: 0.7257 - accuracy: 0.5043 - val_loss: 0.6805 - val_accuracy: 0.5484\n",
      "Epoch 5/100\n",
      "10/10 [==============================] - 0s 14ms/step - loss: 0.7330 - accuracy: 0.5198 - val_loss: 0.6896 - val_accuracy: 0.4516\n",
      "Epoch 6/100\n",
      "10/10 [==============================] - 0s 14ms/step - loss: 0.7343 - accuracy: 0.5112 - val_loss: 0.6758 - val_accuracy: 0.6613\n",
      "Epoch 7/100\n",
      "10/10 [==============================] - 0s 14ms/step - loss: 0.7124 - accuracy: 0.5422 - val_loss: 0.6808 - val_accuracy: 0.5403\n",
      "Epoch 8/100\n",
      "10/10 [==============================] - 0s 14ms/step - loss: 0.7247 - accuracy: 0.5060 - val_loss: 0.6742 - val_accuracy: 0.6613\n",
      "Epoch 9/100\n",
      "10/10 [==============================] - 0s 14ms/step - loss: 0.7145 - accuracy: 0.5301 - val_loss: 0.6744 - val_accuracy: 0.6048\n",
      "Epoch 10/100\n",
      "10/10 [==============================] - 0s 14ms/step - loss: 0.6966 - accuracy: 0.5439 - val_loss: 0.6805 - val_accuracy: 0.5000\n",
      "Epoch 11/100\n",
      "10/10 [==============================] - 0s 13ms/step - loss: 0.7216 - accuracy: 0.5301 - val_loss: 0.6820 - val_accuracy: 0.5000\n",
      "Epoch 12/100\n",
      "10/10 [==============================] - 0s 14ms/step - loss: 0.6829 - accuracy: 0.5697 - val_loss: 0.6621 - val_accuracy: 0.6532\n",
      "Epoch 13/100\n",
      "10/10 [==============================] - 0s 14ms/step - loss: 0.6812 - accuracy: 0.5697 - val_loss: 0.6872 - val_accuracy: 0.5161\n",
      "Epoch 14/100\n",
      "10/10 [==============================] - 0s 14ms/step - loss: 0.6852 - accuracy: 0.5404 - val_loss: 0.6816 - val_accuracy: 0.5242\n",
      "Epoch 15/100\n",
      "10/10 [==============================] - 0s 13ms/step - loss: 0.6881 - accuracy: 0.5594 - val_loss: 0.6599 - val_accuracy: 0.6371\n",
      "Epoch 16/100\n",
      "10/10 [==============================] - 0s 13ms/step - loss: 0.6680 - accuracy: 0.5852 - val_loss: 0.6812 - val_accuracy: 0.5887\n",
      "Epoch 17/100\n",
      "10/10 [==============================] - 0s 13ms/step - loss: 0.6756 - accuracy: 0.6041 - val_loss: 0.7127 - val_accuracy: 0.5161\n",
      "Epoch 18/100\n",
      "10/10 [==============================] - 0s 14ms/step - loss: 0.6817 - accuracy: 0.5852 - val_loss: 0.6597 - val_accuracy: 0.6371\n",
      "Epoch 19/100\n",
      "10/10 [==============================] - 0s 13ms/step - loss: 0.6357 - accuracy: 0.6231 - val_loss: 0.6314 - val_accuracy: 0.6935\n",
      "Epoch 20/100\n",
      "10/10 [==============================] - 0s 13ms/step - loss: 0.6179 - accuracy: 0.6575 - val_loss: 0.6622 - val_accuracy: 0.6694\n",
      "Epoch 21/100\n",
      "10/10 [==============================] - 0s 13ms/step - loss: 0.6088 - accuracy: 0.6730 - val_loss: 0.6972 - val_accuracy: 0.6048\n",
      "Epoch 22/100\n",
      "10/10 [==============================] - 0s 13ms/step - loss: 0.6591 - accuracy: 0.6317 - val_loss: 0.7039 - val_accuracy: 0.5726\n",
      "Epoch 23/100\n",
      "10/10 [==============================] - 0s 13ms/step - loss: 0.6506 - accuracy: 0.6179 - val_loss: 0.6154 - val_accuracy: 0.7097\n",
      "Epoch 24/100\n",
      "10/10 [==============================] - 0s 13ms/step - loss: 0.6005 - accuracy: 0.7022 - val_loss: 0.6072 - val_accuracy: 0.7177\n",
      "Epoch 25/100\n",
      "10/10 [==============================] - 0s 14ms/step - loss: 0.5719 - accuracy: 0.7229 - val_loss: 0.6268 - val_accuracy: 0.7097\n",
      "Epoch 26/100\n",
      "10/10 [==============================] - 0s 13ms/step - loss: 0.5767 - accuracy: 0.7246 - val_loss: 0.6238 - val_accuracy: 0.7177\n",
      "Epoch 27/100\n",
      "10/10 [==============================] - 0s 13ms/step - loss: 0.6075 - accuracy: 0.7040 - val_loss: 0.6669 - val_accuracy: 0.6613\n",
      "Epoch 28/100\n",
      "10/10 [==============================] - 0s 13ms/step - loss: 0.6213 - accuracy: 0.6627 - val_loss: 0.6611 - val_accuracy: 0.6613\n",
      "Epoch 29/100\n",
      "10/10 [==============================] - 0s 13ms/step - loss: 0.6115 - accuracy: 0.6523 - val_loss: 0.6048 - val_accuracy: 0.7097\n",
      "Epoch 30/100\n",
      "10/10 [==============================] - 0s 13ms/step - loss: 0.5833 - accuracy: 0.7005 - val_loss: 0.5997 - val_accuracy: 0.7097\n",
      "Epoch 31/100\n",
      "10/10 [==============================] - 0s 13ms/step - loss: 0.5571 - accuracy: 0.7194 - val_loss: 0.6130 - val_accuracy: 0.7097\n",
      "Epoch 32/100\n",
      "10/10 [==============================] - 0s 13ms/step - loss: 0.5703 - accuracy: 0.7298 - val_loss: 0.6179 - val_accuracy: 0.7016\n",
      "Epoch 33/100\n",
      "10/10 [==============================] - 0s 13ms/step - loss: 0.5832 - accuracy: 0.7177 - val_loss: 0.6529 - val_accuracy: 0.6935\n",
      "Epoch 34/100\n",
      "10/10 [==============================] - 0s 13ms/step - loss: 0.6063 - accuracy: 0.6850 - val_loss: 0.6141 - val_accuracy: 0.7177\n",
      "Epoch 35/100\n",
      "10/10 [==============================] - 0s 14ms/step - loss: 0.5765 - accuracy: 0.6867 - val_loss: 0.5816 - val_accuracy: 0.7097\n",
      "Epoch 36/100\n",
      "10/10 [==============================] - 0s 14ms/step - loss: 0.5466 - accuracy: 0.7298 - val_loss: 0.6124 - val_accuracy: 0.7016\n",
      "Epoch 37/100\n",
      "10/10 [==============================] - 0s 14ms/step - loss: 0.5610 - accuracy: 0.7229 - val_loss: 0.6131 - val_accuracy: 0.7097\n",
      "Epoch 38/100\n",
      "10/10 [==============================] - 0s 14ms/step - loss: 0.5561 - accuracy: 0.7315 - val_loss: 0.6084 - val_accuracy: 0.7177\n",
      "Epoch 39/100\n",
      "10/10 [==============================] - 0s 14ms/step - loss: 0.5580 - accuracy: 0.7332 - val_loss: 0.6195 - val_accuracy: 0.7177\n",
      "Epoch 40/100\n",
      "10/10 [==============================] - 0s 14ms/step - loss: 0.5684 - accuracy: 0.7246 - val_loss: 0.5895 - val_accuracy: 0.7097\n",
      "Epoch 41/100\n",
      "10/10 [==============================] - 0s 14ms/step - loss: 0.5425 - accuracy: 0.7401 - val_loss: 0.5811 - val_accuracy: 0.7097\n",
      "Epoch 42/100\n",
      "10/10 [==============================] - 0s 13ms/step - loss: 0.5478 - accuracy: 0.7281 - val_loss: 0.5939 - val_accuracy: 0.7016\n",
      "Epoch 43/100\n",
      "10/10 [==============================] - 0s 13ms/step - loss: 0.5532 - accuracy: 0.7332 - val_loss: 0.5997 - val_accuracy: 0.7258\n",
      "Epoch 44/100\n",
      "10/10 [==============================] - 0s 13ms/step - loss: 0.5559 - accuracy: 0.7005 - val_loss: 0.5695 - val_accuracy: 0.7177\n",
      "Epoch 45/100\n",
      "10/10 [==============================] - 0s 14ms/step - loss: 0.5304 - accuracy: 0.7367 - val_loss: 0.5568 - val_accuracy: 0.7339\n",
      "Epoch 46/100\n",
      "10/10 [==============================] - 0s 13ms/step - loss: 0.5215 - accuracy: 0.7470 - val_loss: 0.5643 - val_accuracy: 0.7177\n",
      "Epoch 47/100\n",
      "10/10 [==============================] - 0s 13ms/step - loss: 0.5233 - accuracy: 0.7556 - val_loss: 0.5998 - val_accuracy: 0.7258\n",
      "Epoch 48/100\n",
      "10/10 [==============================] - 0s 13ms/step - loss: 0.5529 - accuracy: 0.7281 - val_loss: 0.5970 - val_accuracy: 0.7258\n",
      "Epoch 49/100\n",
      "10/10 [==============================] - 0s 13ms/step - loss: 0.5616 - accuracy: 0.7246 - val_loss: 0.5726 - val_accuracy: 0.7258\n",
      "Epoch 50/100\n",
      "10/10 [==============================] - 0s 13ms/step - loss: 0.5387 - accuracy: 0.7229 - val_loss: 0.5583 - val_accuracy: 0.7258\n",
      "Epoch 51/100\n",
      "10/10 [==============================] - 0s 19ms/step - loss: 0.5160 - accuracy: 0.7590 - val_loss: 0.5678 - val_accuracy: 0.7258\n",
      "Epoch 52/100\n",
      "10/10 [==============================] - 0s 13ms/step - loss: 0.5404 - accuracy: 0.7590 - val_loss: 0.5543 - val_accuracy: 0.7258\n",
      "Epoch 53/100\n",
      "10/10 [==============================] - 0s 14ms/step - loss: 0.5261 - accuracy: 0.7539 - val_loss: 0.5801 - val_accuracy: 0.7419\n",
      "Epoch 54/100\n",
      "10/10 [==============================] - 0s 14ms/step - loss: 0.5273 - accuracy: 0.7470 - val_loss: 0.5833 - val_accuracy: 0.7339\n",
      "Epoch 55/100\n",
      "10/10 [==============================] - 0s 13ms/step - loss: 0.5265 - accuracy: 0.7556 - val_loss: 0.5760 - val_accuracy: 0.7500\n",
      "Epoch 56/100\n",
      "10/10 [==============================] - 0s 13ms/step - loss: 0.5310 - accuracy: 0.7401 - val_loss: 0.5521 - val_accuracy: 0.7339\n",
      "Epoch 57/100\n",
      "10/10 [==============================] - 0s 13ms/step - loss: 0.5255 - accuracy: 0.7522 - val_loss: 0.5695 - val_accuracy: 0.7500\n",
      "Epoch 58/100\n",
      "10/10 [==============================] - 0s 13ms/step - loss: 0.5318 - accuracy: 0.7384 - val_loss: 0.5577 - val_accuracy: 0.7419\n",
      "Epoch 59/100\n",
      "10/10 [==============================] - 0s 13ms/step - loss: 0.5236 - accuracy: 0.7349 - val_loss: 0.5587 - val_accuracy: 0.7419\n",
      "Epoch 60/100\n",
      "10/10 [==============================] - 0s 13ms/step - loss: 0.5162 - accuracy: 0.7522 - val_loss: 0.5314 - val_accuracy: 0.7339\n",
      "Epoch 61/100\n",
      "10/10 [==============================] - 0s 13ms/step - loss: 0.5067 - accuracy: 0.7487 - val_loss: 0.5485 - val_accuracy: 0.7419\n",
      "Epoch 62/100\n",
      "10/10 [==============================] - 0s 13ms/step - loss: 0.4985 - accuracy: 0.7522 - val_loss: 0.5407 - val_accuracy: 0.7419\n",
      "Epoch 63/100\n",
      "10/10 [==============================] - 0s 13ms/step - loss: 0.5099 - accuracy: 0.7608 - val_loss: 0.5529 - val_accuracy: 0.7500\n",
      "Epoch 64/100\n",
      "10/10 [==============================] - 0s 13ms/step - loss: 0.5098 - accuracy: 0.7590 - val_loss: 0.5651 - val_accuracy: 0.7581\n",
      "Epoch 65/100\n",
      "10/10 [==============================] - 0s 13ms/step - loss: 0.5248 - accuracy: 0.7332 - val_loss: 0.5402 - val_accuracy: 0.7419\n",
      "Epoch 66/100\n",
      "10/10 [==============================] - 0s 13ms/step - loss: 0.5082 - accuracy: 0.7453 - val_loss: 0.5549 - val_accuracy: 0.7581\n",
      "Epoch 67/100\n",
      "10/10 [==============================] - 0s 13ms/step - loss: 0.5168 - accuracy: 0.7435 - val_loss: 0.5565 - val_accuracy: 0.7581\n",
      "Epoch 68/100\n",
      "10/10 [==============================] - 0s 13ms/step - loss: 0.5243 - accuracy: 0.7453 - val_loss: 0.5488 - val_accuracy: 0.7500\n",
      "Epoch 69/100\n",
      "10/10 [==============================] - 0s 13ms/step - loss: 0.5114 - accuracy: 0.7573 - val_loss: 0.5621 - val_accuracy: 0.7581\n",
      "Epoch 70/100\n",
      "10/10 [==============================] - 0s 12ms/step - loss: 0.5335 - accuracy: 0.7263 - val_loss: 0.5228 - val_accuracy: 0.7419\n",
      "Epoch 71/100\n",
      "10/10 [==============================] - 0s 13ms/step - loss: 0.5191 - accuracy: 0.7504 - val_loss: 0.5264 - val_accuracy: 0.7419\n",
      "Epoch 72/100\n",
      "10/10 [==============================] - 0s 12ms/step - loss: 0.5010 - accuracy: 0.7590 - val_loss: 0.5360 - val_accuracy: 0.7500\n",
      "Epoch 73/100\n",
      "10/10 [==============================] - 0s 13ms/step - loss: 0.5125 - accuracy: 0.7522 - val_loss: 0.5345 - val_accuracy: 0.7500\n",
      "Epoch 74/100\n",
      "10/10 [==============================] - 0s 12ms/step - loss: 0.4939 - accuracy: 0.7659 - val_loss: 0.5311 - val_accuracy: 0.7500\n",
      "Epoch 75/100\n",
      "10/10 [==============================] - 0s 13ms/step - loss: 0.5042 - accuracy: 0.7659 - val_loss: 0.5483 - val_accuracy: 0.7500\n",
      "Epoch 76/100\n",
      "10/10 [==============================] - 0s 13ms/step - loss: 0.5081 - accuracy: 0.7504 - val_loss: 0.5354 - val_accuracy: 0.7581\n",
      "Epoch 77/100\n",
      "10/10 [==============================] - 0s 13ms/step - loss: 0.5206 - accuracy: 0.7298 - val_loss: 0.5322 - val_accuracy: 0.7500\n",
      "Epoch 78/100\n",
      "10/10 [==============================] - 0s 13ms/step - loss: 0.5125 - accuracy: 0.7418 - val_loss: 0.5191 - val_accuracy: 0.7419\n",
      "Epoch 79/100\n",
      "10/10 [==============================] - 0s 12ms/step - loss: 0.4974 - accuracy: 0.7332 - val_loss: 0.5065 - val_accuracy: 0.7500\n",
      "Epoch 80/100\n",
      "10/10 [==============================] - 0s 12ms/step - loss: 0.4986 - accuracy: 0.7539 - val_loss: 0.5050 - val_accuracy: 0.7419\n",
      "Epoch 81/100\n",
      "10/10 [==============================] - 0s 13ms/step - loss: 0.4798 - accuracy: 0.7694 - val_loss: 0.5004 - val_accuracy: 0.7419\n",
      "Epoch 82/100\n",
      "10/10 [==============================] - 0s 13ms/step - loss: 0.4603 - accuracy: 0.7917 - val_loss: 0.5047 - val_accuracy: 0.7581\n",
      "Epoch 83/100\n",
      "10/10 [==============================] - 0s 12ms/step - loss: 0.4655 - accuracy: 0.7780 - val_loss: 0.5030 - val_accuracy: 0.7581\n",
      "Epoch 84/100\n",
      "10/10 [==============================] - 0s 13ms/step - loss: 0.4605 - accuracy: 0.7986 - val_loss: 0.5058 - val_accuracy: 0.7419\n",
      "Epoch 85/100\n",
      "10/10 [==============================] - 0s 13ms/step - loss: 0.4755 - accuracy: 0.7900 - val_loss: 0.4950 - val_accuracy: 0.7581\n",
      "Epoch 86/100\n",
      "10/10 [==============================] - 0s 17ms/step - loss: 0.4684 - accuracy: 0.7831 - val_loss: 0.5120 - val_accuracy: 0.7661\n",
      "Epoch 87/100\n",
      "10/10 [==============================] - 0s 13ms/step - loss: 0.4814 - accuracy: 0.7814 - val_loss: 0.5174 - val_accuracy: 0.7742\n",
      "Epoch 88/100\n",
      "10/10 [==============================] - 0s 12ms/step - loss: 0.4657 - accuracy: 0.8072 - val_loss: 0.5153 - val_accuracy: 0.7581\n",
      "Epoch 89/100\n",
      "10/10 [==============================] - 0s 12ms/step - loss: 0.4738 - accuracy: 0.7935 - val_loss: 0.5155 - val_accuracy: 0.7661\n",
      "Epoch 90/100\n",
      "10/10 [==============================] - 0s 13ms/step - loss: 0.4682 - accuracy: 0.7866 - val_loss: 0.5265 - val_accuracy: 0.7581\n",
      "Epoch 91/100\n",
      "10/10 [==============================] - 0s 13ms/step - loss: 0.4625 - accuracy: 0.7900 - val_loss: 0.5339 - val_accuracy: 0.7661\n",
      "Epoch 92/100\n",
      "10/10 [==============================] - 0s 12ms/step - loss: 0.4854 - accuracy: 0.7849 - val_loss: 0.5503 - val_accuracy: 0.7581\n",
      "Epoch 93/100\n",
      "10/10 [==============================] - 0s 13ms/step - loss: 0.5030 - accuracy: 0.7590 - val_loss: 0.5141 - val_accuracy: 0.7742\n",
      "Epoch 94/100\n",
      "10/10 [==============================] - 0s 13ms/step - loss: 0.4949 - accuracy: 0.7573 - val_loss: 0.5030 - val_accuracy: 0.7500\n",
      "Epoch 95/100\n",
      "10/10 [==============================] - 0s 13ms/step - loss: 0.5003 - accuracy: 0.7487 - val_loss: 0.5031 - val_accuracy: 0.7500\n",
      "Epoch 96/100\n",
      "10/10 [==============================] - 0s 13ms/step - loss: 0.4879 - accuracy: 0.7573 - val_loss: 0.5003 - val_accuracy: 0.7661\n",
      "Epoch 97/100\n",
      "10/10 [==============================] - 0s 14ms/step - loss: 0.4793 - accuracy: 0.7573 - val_loss: 0.4890 - val_accuracy: 0.7661\n",
      "Epoch 98/100\n",
      "10/10 [==============================] - 0s 13ms/step - loss: 0.4630 - accuracy: 0.7797 - val_loss: 0.4839 - val_accuracy: 0.7581\n",
      "Epoch 99/100\n",
      "10/10 [==============================] - 0s 13ms/step - loss: 0.4506 - accuracy: 0.7917 - val_loss: 0.5145 - val_accuracy: 0.7500\n",
      "Epoch 100/100\n",
      "10/10 [==============================] - 0s 13ms/step - loss: 0.4719 - accuracy: 0.7935 - val_loss: 0.5092 - val_accuracy: 0.7661\n"
     ]
    }
   ],
   "source": [
    "# train\n",
    "rnn_history = rnn_model.fit(x_train, y_train, epochs=100, batch_size=64, validation_data=(x_valid, y_valid), shuffle=False)"
   ]
  },
  {
   "cell_type": "code",
   "execution_count": 30,
   "metadata": {},
   "outputs": [
    {
     "name": "stdout",
     "output_type": "stream",
     "text": [
      "4/4 [==============================] - 0s 3ms/step\n"
     ]
    }
   ],
   "source": [
    "# evaluate the model\n",
    "y_pred = rnn_model.predict(x_test)"
   ]
  },
  {
   "cell_type": "code",
   "execution_count": 31,
   "metadata": {},
   "outputs": [
    {
     "name": "stdout",
     "output_type": "stream",
     "text": [
      "                 model  accuracy  precision  recall      f1  roc_auc\n",
      "0  Logistic Regression    0.7952     0.7869  0.6957  0.7385   0.7808\n",
      "1                  SVM    0.8133     0.8393  0.6812  0.7520   0.7942\n",
      "2        Random Forest    0.9940     0.9857  1.0000  0.9928   0.9948\n",
      "3                 LSTM    0.7120     0.6500  0.8667  0.7429   0.7179\n",
      "4                  RNN    0.6880     0.6207  0.9000  0.7347   0.6962\n"
     ]
    }
   ],
   "source": [
    "# calc metrics and add a row to results\n",
    "results.loc[len(results)] = [\n",
    "    'RNN',\n",
    "    round(accuracy_score(y_test, y_pred.round()), 4),\n",
    "    round(precision_score(y_test, y_pred.round()), 4),\n",
    "    round(recall_score(y_test, y_pred.round()), 4),\n",
    "    round(f1_score(y_test, y_pred.round()), 4),\n",
    "    round(roc_auc_score(y_test, y_pred.round()), 4),\n",
    "]\n",
    "print(results)"
   ]
  },
  {
   "cell_type": "code",
   "execution_count": 32,
   "metadata": {},
   "outputs": [
    {
     "data": {
      "application/vnd.plotly.v1+json": {
       "config": {
        "plotlyServerURL": "https://plot.ly"
       },
       "data": [
        {
         "mode": "lines",
         "name": "loss",
         "type": "scatter",
         "y": [
          0.6987431049346924,
          0.6991379857063293,
          0.6937295198440552,
          0.6892995238304138,
          0.686112642288208,
          0.6860216856002808,
          0.6857465505599976,
          0.682929515838623,
          0.6820074319839478,
          0.6791800856590271,
          0.6750427484512329,
          0.6703341603279114,
          0.6620659232139587,
          0.6539551615715027,
          0.6364248394966125,
          0.6337816715240479,
          0.6279866099357605,
          0.5933456420898438,
          0.5819271206855774,
          0.6070647239685059,
          0.6014612317085266,
          0.5443734526634216,
          0.5517193078994751,
          0.5723044872283936,
          0.585911750793457,
          0.5400457382202148,
          0.5275518894195557,
          0.5405644774436951,
          0.5522435903549194,
          0.5503112077713013,
          0.5286996364593506,
          0.5183276534080505,
          0.5240628719329834,
          0.5328559279441833,
          0.5310468077659607,
          0.5234293341636658,
          0.5124983191490173,
          0.515112042427063,
          0.5191509127616882,
          0.5191165804862976,
          0.514241635799408,
          0.5088360905647278,
          0.5011689066886902,
          0.5050815939903259,
          0.507590115070343,
          0.5101010799407959,
          0.5048523545265198,
          0.4987979829311371,
          0.49727216362953186,
          0.4986658990383148,
          0.4892139434814453,
          0.49383729696273804,
          0.488646924495697,
          0.48739707469940186,
          0.48891758918762207,
          0.4891488254070282,
          0.48987582325935364,
          0.48178720474243164,
          0.48927047848701477,
          0.4784715473651886,
          0.47997549176216125,
          0.46869879961013794,
          0.4760654866695404,
          0.4634357988834381,
          0.46667948365211487,
          0.4649149179458618,
          0.47490206360816956,
          0.4651302695274353,
          0.46015670895576477,
          0.46299442648887634,
          0.4598357081413269,
          0.4556769132614136,
          0.4571341872215271,
          0.4503881335258484,
          0.44351431727409363,
          0.4409318268299103,
          0.44150522351264954,
          0.4443250000476837,
          0.43157801032066345,
          0.42864879965782166,
          0.4272463619709015,
          0.421917587518692,
          0.4246065020561218,
          0.4284542202949524,
          0.4307335913181305,
          0.4337141513824463,
          0.43225619196891785,
          0.44681668281555176,
          0.4395887851715088,
          0.4727559983730316,
          0.460600346326828,
          0.45399734377861023,
          0.43674436211586,
          0.4198492467403412,
          0.4150400459766388,
          0.4147406220436096,
          0.42494797706604004,
          0.4267711937427521,
          0.4188694357872009,
          0.4176470935344696
         ]
        },
        {
         "mode": "lines",
         "name": "val_loss",
         "type": "scatter",
         "y": [
          0.6967777013778687,
          0.6885022521018982,
          0.6932275295257568,
          0.6907780766487122,
          0.6887325048446655,
          0.6874608397483826,
          0.6859152913093567,
          0.6835781335830688,
          0.679566502571106,
          0.6745262145996094,
          0.6680735945701599,
          0.6591344475746155,
          0.6508309245109558,
          0.6394361853599548,
          0.6369983553886414,
          0.6380946040153503,
          0.6074835062026978,
          0.5994283556938171,
          0.6311522126197815,
          0.6247754096984863,
          0.5710421800613403,
          0.5661343336105347,
          0.5906261205673218,
          0.6196602582931519,
          0.5653615593910217,
          0.5559395551681519,
          0.573624312877655,
          0.5863482356071472,
          0.5821636319160461,
          0.5522661805152893,
          0.5492033362388611,
          0.5587729811668396,
          0.5693650245666504,
          0.5641567707061768,
          0.5541138648986816,
          0.5459855794906616,
          0.55265873670578,
          0.5540441870689392,
          0.5548827648162842,
          0.5463594198226929,
          0.5429982542991638,
          0.5384140014648438,
          0.5423718094825745,
          0.5399237871170044,
          0.5540280938148499,
          0.5387067198753357,
          0.5379918217658997,
          0.5344431400299072,
          0.5348784327507019,
          0.5297319889068604,
          0.528054416179657,
          0.526164174079895,
          0.5255372524261475,
          0.5268445014953613,
          0.5240921378135681,
          0.5248115658760071,
          0.5174946784973145,
          0.5262109041213989,
          0.5119258761405945,
          0.5198327302932739,
          0.5017643570899963,
          0.5179541707038879,
          0.507710874080658,
          0.5132847428321838,
          0.5173962712287903,
          0.5186375379562378,
          0.5060836672782898,
          0.5095948576927185,
          0.5155340433120728,
          0.5103320479393005,
          0.5087592005729675,
          0.5150543451309204,
          0.517448902130127,
          0.505813717842102,
          0.508283257484436,
          0.5068930983543396,
          0.5126209855079651,
          0.5076925754547119,
          0.49910029768943787,
          0.506208598613739,
          0.4884789288043976,
          0.4901883006095886,
          0.5062612295150757,
          0.4779287874698639,
          0.5173880457878113,
          0.5215789675712585,
          0.5389059782028198,
          0.520250678062439,
          0.5493428111076355,
          0.47773587703704834,
          0.4713671803474426,
          0.4575212895870209,
          0.45499780774116516,
          0.460932195186615,
          0.4724520146846771,
          0.5016878247261047,
          0.4789941906929016,
          0.46976757049560547,
          0.4964527189731598,
          0.4812450110912323
         ]
        }
       ],
       "layout": {
        "template": {
         "data": {
          "bar": [
           {
            "error_x": {
             "color": "#2a3f5f"
            },
            "error_y": {
             "color": "#2a3f5f"
            },
            "marker": {
             "line": {
              "color": "#E5ECF6",
              "width": 0.5
             },
             "pattern": {
              "fillmode": "overlay",
              "size": 10,
              "solidity": 0.2
             }
            },
            "type": "bar"
           }
          ],
          "barpolar": [
           {
            "marker": {
             "line": {
              "color": "#E5ECF6",
              "width": 0.5
             },
             "pattern": {
              "fillmode": "overlay",
              "size": 10,
              "solidity": 0.2
             }
            },
            "type": "barpolar"
           }
          ],
          "carpet": [
           {
            "aaxis": {
             "endlinecolor": "#2a3f5f",
             "gridcolor": "white",
             "linecolor": "white",
             "minorgridcolor": "white",
             "startlinecolor": "#2a3f5f"
            },
            "baxis": {
             "endlinecolor": "#2a3f5f",
             "gridcolor": "white",
             "linecolor": "white",
             "minorgridcolor": "white",
             "startlinecolor": "#2a3f5f"
            },
            "type": "carpet"
           }
          ],
          "choropleth": [
           {
            "colorbar": {
             "outlinewidth": 0,
             "ticks": ""
            },
            "type": "choropleth"
           }
          ],
          "contour": [
           {
            "colorbar": {
             "outlinewidth": 0,
             "ticks": ""
            },
            "colorscale": [
             [
              0,
              "#0d0887"
             ],
             [
              0.1111111111111111,
              "#46039f"
             ],
             [
              0.2222222222222222,
              "#7201a8"
             ],
             [
              0.3333333333333333,
              "#9c179e"
             ],
             [
              0.4444444444444444,
              "#bd3786"
             ],
             [
              0.5555555555555556,
              "#d8576b"
             ],
             [
              0.6666666666666666,
              "#ed7953"
             ],
             [
              0.7777777777777778,
              "#fb9f3a"
             ],
             [
              0.8888888888888888,
              "#fdca26"
             ],
             [
              1,
              "#f0f921"
             ]
            ],
            "type": "contour"
           }
          ],
          "contourcarpet": [
           {
            "colorbar": {
             "outlinewidth": 0,
             "ticks": ""
            },
            "type": "contourcarpet"
           }
          ],
          "heatmap": [
           {
            "colorbar": {
             "outlinewidth": 0,
             "ticks": ""
            },
            "colorscale": [
             [
              0,
              "#0d0887"
             ],
             [
              0.1111111111111111,
              "#46039f"
             ],
             [
              0.2222222222222222,
              "#7201a8"
             ],
             [
              0.3333333333333333,
              "#9c179e"
             ],
             [
              0.4444444444444444,
              "#bd3786"
             ],
             [
              0.5555555555555556,
              "#d8576b"
             ],
             [
              0.6666666666666666,
              "#ed7953"
             ],
             [
              0.7777777777777778,
              "#fb9f3a"
             ],
             [
              0.8888888888888888,
              "#fdca26"
             ],
             [
              1,
              "#f0f921"
             ]
            ],
            "type": "heatmap"
           }
          ],
          "heatmapgl": [
           {
            "colorbar": {
             "outlinewidth": 0,
             "ticks": ""
            },
            "colorscale": [
             [
              0,
              "#0d0887"
             ],
             [
              0.1111111111111111,
              "#46039f"
             ],
             [
              0.2222222222222222,
              "#7201a8"
             ],
             [
              0.3333333333333333,
              "#9c179e"
             ],
             [
              0.4444444444444444,
              "#bd3786"
             ],
             [
              0.5555555555555556,
              "#d8576b"
             ],
             [
              0.6666666666666666,
              "#ed7953"
             ],
             [
              0.7777777777777778,
              "#fb9f3a"
             ],
             [
              0.8888888888888888,
              "#fdca26"
             ],
             [
              1,
              "#f0f921"
             ]
            ],
            "type": "heatmapgl"
           }
          ],
          "histogram": [
           {
            "marker": {
             "pattern": {
              "fillmode": "overlay",
              "size": 10,
              "solidity": 0.2
             }
            },
            "type": "histogram"
           }
          ],
          "histogram2d": [
           {
            "colorbar": {
             "outlinewidth": 0,
             "ticks": ""
            },
            "colorscale": [
             [
              0,
              "#0d0887"
             ],
             [
              0.1111111111111111,
              "#46039f"
             ],
             [
              0.2222222222222222,
              "#7201a8"
             ],
             [
              0.3333333333333333,
              "#9c179e"
             ],
             [
              0.4444444444444444,
              "#bd3786"
             ],
             [
              0.5555555555555556,
              "#d8576b"
             ],
             [
              0.6666666666666666,
              "#ed7953"
             ],
             [
              0.7777777777777778,
              "#fb9f3a"
             ],
             [
              0.8888888888888888,
              "#fdca26"
             ],
             [
              1,
              "#f0f921"
             ]
            ],
            "type": "histogram2d"
           }
          ],
          "histogram2dcontour": [
           {
            "colorbar": {
             "outlinewidth": 0,
             "ticks": ""
            },
            "colorscale": [
             [
              0,
              "#0d0887"
             ],
             [
              0.1111111111111111,
              "#46039f"
             ],
             [
              0.2222222222222222,
              "#7201a8"
             ],
             [
              0.3333333333333333,
              "#9c179e"
             ],
             [
              0.4444444444444444,
              "#bd3786"
             ],
             [
              0.5555555555555556,
              "#d8576b"
             ],
             [
              0.6666666666666666,
              "#ed7953"
             ],
             [
              0.7777777777777778,
              "#fb9f3a"
             ],
             [
              0.8888888888888888,
              "#fdca26"
             ],
             [
              1,
              "#f0f921"
             ]
            ],
            "type": "histogram2dcontour"
           }
          ],
          "mesh3d": [
           {
            "colorbar": {
             "outlinewidth": 0,
             "ticks": ""
            },
            "type": "mesh3d"
           }
          ],
          "parcoords": [
           {
            "line": {
             "colorbar": {
              "outlinewidth": 0,
              "ticks": ""
             }
            },
            "type": "parcoords"
           }
          ],
          "pie": [
           {
            "automargin": true,
            "type": "pie"
           }
          ],
          "scatter": [
           {
            "fillpattern": {
             "fillmode": "overlay",
             "size": 10,
             "solidity": 0.2
            },
            "type": "scatter"
           }
          ],
          "scatter3d": [
           {
            "line": {
             "colorbar": {
              "outlinewidth": 0,
              "ticks": ""
             }
            },
            "marker": {
             "colorbar": {
              "outlinewidth": 0,
              "ticks": ""
             }
            },
            "type": "scatter3d"
           }
          ],
          "scattercarpet": [
           {
            "marker": {
             "colorbar": {
              "outlinewidth": 0,
              "ticks": ""
             }
            },
            "type": "scattercarpet"
           }
          ],
          "scattergeo": [
           {
            "marker": {
             "colorbar": {
              "outlinewidth": 0,
              "ticks": ""
             }
            },
            "type": "scattergeo"
           }
          ],
          "scattergl": [
           {
            "marker": {
             "colorbar": {
              "outlinewidth": 0,
              "ticks": ""
             }
            },
            "type": "scattergl"
           }
          ],
          "scattermapbox": [
           {
            "marker": {
             "colorbar": {
              "outlinewidth": 0,
              "ticks": ""
             }
            },
            "type": "scattermapbox"
           }
          ],
          "scatterpolar": [
           {
            "marker": {
             "colorbar": {
              "outlinewidth": 0,
              "ticks": ""
             }
            },
            "type": "scatterpolar"
           }
          ],
          "scatterpolargl": [
           {
            "marker": {
             "colorbar": {
              "outlinewidth": 0,
              "ticks": ""
             }
            },
            "type": "scatterpolargl"
           }
          ],
          "scatterternary": [
           {
            "marker": {
             "colorbar": {
              "outlinewidth": 0,
              "ticks": ""
             }
            },
            "type": "scatterternary"
           }
          ],
          "surface": [
           {
            "colorbar": {
             "outlinewidth": 0,
             "ticks": ""
            },
            "colorscale": [
             [
              0,
              "#0d0887"
             ],
             [
              0.1111111111111111,
              "#46039f"
             ],
             [
              0.2222222222222222,
              "#7201a8"
             ],
             [
              0.3333333333333333,
              "#9c179e"
             ],
             [
              0.4444444444444444,
              "#bd3786"
             ],
             [
              0.5555555555555556,
              "#d8576b"
             ],
             [
              0.6666666666666666,
              "#ed7953"
             ],
             [
              0.7777777777777778,
              "#fb9f3a"
             ],
             [
              0.8888888888888888,
              "#fdca26"
             ],
             [
              1,
              "#f0f921"
             ]
            ],
            "type": "surface"
           }
          ],
          "table": [
           {
            "cells": {
             "fill": {
              "color": "#EBF0F8"
             },
             "line": {
              "color": "white"
             }
            },
            "header": {
             "fill": {
              "color": "#C8D4E3"
             },
             "line": {
              "color": "white"
             }
            },
            "type": "table"
           }
          ]
         },
         "layout": {
          "annotationdefaults": {
           "arrowcolor": "#2a3f5f",
           "arrowhead": 0,
           "arrowwidth": 1
          },
          "autotypenumbers": "strict",
          "coloraxis": {
           "colorbar": {
            "outlinewidth": 0,
            "ticks": ""
           }
          },
          "colorscale": {
           "diverging": [
            [
             0,
             "#8e0152"
            ],
            [
             0.1,
             "#c51b7d"
            ],
            [
             0.2,
             "#de77ae"
            ],
            [
             0.3,
             "#f1b6da"
            ],
            [
             0.4,
             "#fde0ef"
            ],
            [
             0.5,
             "#f7f7f7"
            ],
            [
             0.6,
             "#e6f5d0"
            ],
            [
             0.7,
             "#b8e186"
            ],
            [
             0.8,
             "#7fbc41"
            ],
            [
             0.9,
             "#4d9221"
            ],
            [
             1,
             "#276419"
            ]
           ],
           "sequential": [
            [
             0,
             "#0d0887"
            ],
            [
             0.1111111111111111,
             "#46039f"
            ],
            [
             0.2222222222222222,
             "#7201a8"
            ],
            [
             0.3333333333333333,
             "#9c179e"
            ],
            [
             0.4444444444444444,
             "#bd3786"
            ],
            [
             0.5555555555555556,
             "#d8576b"
            ],
            [
             0.6666666666666666,
             "#ed7953"
            ],
            [
             0.7777777777777778,
             "#fb9f3a"
            ],
            [
             0.8888888888888888,
             "#fdca26"
            ],
            [
             1,
             "#f0f921"
            ]
           ],
           "sequentialminus": [
            [
             0,
             "#0d0887"
            ],
            [
             0.1111111111111111,
             "#46039f"
            ],
            [
             0.2222222222222222,
             "#7201a8"
            ],
            [
             0.3333333333333333,
             "#9c179e"
            ],
            [
             0.4444444444444444,
             "#bd3786"
            ],
            [
             0.5555555555555556,
             "#d8576b"
            ],
            [
             0.6666666666666666,
             "#ed7953"
            ],
            [
             0.7777777777777778,
             "#fb9f3a"
            ],
            [
             0.8888888888888888,
             "#fdca26"
            ],
            [
             1,
             "#f0f921"
            ]
           ]
          },
          "colorway": [
           "#636efa",
           "#EF553B",
           "#00cc96",
           "#ab63fa",
           "#FFA15A",
           "#19d3f3",
           "#FF6692",
           "#B6E880",
           "#FF97FF",
           "#FECB52"
          ],
          "font": {
           "color": "#2a3f5f"
          },
          "geo": {
           "bgcolor": "white",
           "lakecolor": "white",
           "landcolor": "#E5ECF6",
           "showlakes": true,
           "showland": true,
           "subunitcolor": "white"
          },
          "hoverlabel": {
           "align": "left"
          },
          "hovermode": "closest",
          "mapbox": {
           "style": "light"
          },
          "paper_bgcolor": "white",
          "plot_bgcolor": "#E5ECF6",
          "polar": {
           "angularaxis": {
            "gridcolor": "white",
            "linecolor": "white",
            "ticks": ""
           },
           "bgcolor": "#E5ECF6",
           "radialaxis": {
            "gridcolor": "white",
            "linecolor": "white",
            "ticks": ""
           }
          },
          "scene": {
           "xaxis": {
            "backgroundcolor": "#E5ECF6",
            "gridcolor": "white",
            "gridwidth": 2,
            "linecolor": "white",
            "showbackground": true,
            "ticks": "",
            "zerolinecolor": "white"
           },
           "yaxis": {
            "backgroundcolor": "#E5ECF6",
            "gridcolor": "white",
            "gridwidth": 2,
            "linecolor": "white",
            "showbackground": true,
            "ticks": "",
            "zerolinecolor": "white"
           },
           "zaxis": {
            "backgroundcolor": "#E5ECF6",
            "gridcolor": "white",
            "gridwidth": 2,
            "linecolor": "white",
            "showbackground": true,
            "ticks": "",
            "zerolinecolor": "white"
           }
          },
          "shapedefaults": {
           "line": {
            "color": "#2a3f5f"
           }
          },
          "ternary": {
           "aaxis": {
            "gridcolor": "white",
            "linecolor": "white",
            "ticks": ""
           },
           "baxis": {
            "gridcolor": "white",
            "linecolor": "white",
            "ticks": ""
           },
           "bgcolor": "#E5ECF6",
           "caxis": {
            "gridcolor": "white",
            "linecolor": "white",
            "ticks": ""
           }
          },
          "title": {
           "x": 0.05
          },
          "xaxis": {
           "automargin": true,
           "gridcolor": "white",
           "linecolor": "white",
           "ticks": "",
           "title": {
            "standoff": 15
           },
           "zerolinecolor": "white",
           "zerolinewidth": 2
          },
          "yaxis": {
           "automargin": true,
           "gridcolor": "white",
           "linecolor": "white",
           "ticks": "",
           "title": {
            "standoff": 15
           },
           "zerolinecolor": "white",
           "zerolinewidth": 2
          }
         }
        },
        "title": {
         "text": "Loss"
        },
        "xaxis": {
         "title": {
          "text": "Epoch"
         }
        },
        "yaxis": {
         "title": {
          "text": "Loss"
         }
        }
       }
      }
     },
     "metadata": {},
     "output_type": "display_data"
    }
   ],
   "source": [
    "# plot loss\n",
    "fig = go.Figure()\n",
    "fig.add_trace(go.Scatter(y=lstm_history.history['loss'], mode='lines', name='loss'))\n",
    "fig.add_trace(go.Scatter(y=lstm_history.history['val_loss'], mode='lines', name='val_loss'))\n",
    "fig.update_layout(title='Loss', xaxis_title='Epoch', yaxis_title='Loss')\n",
    "fig.show()"
   ]
  },
  {
   "cell_type": "code",
   "execution_count": 33,
   "metadata": {},
   "outputs": [
    {
     "data": {
      "application/vnd.plotly.v1+json": {
       "config": {
        "plotlyServerURL": "https://plot.ly"
       },
       "data": [
        {
         "mode": "lines",
         "name": "accuracy",
         "type": "scatter",
         "y": [
          0.5456110239028931,
          0.46299484372138977,
          0.562822699546814,
          0.562822699546814,
          0.562822699546814,
          0.562822699546814,
          0.562822699546814,
          0.562822699546814,
          0.5645439028739929,
          0.5662650465965271,
          0.5697073936462402,
          0.5697073936462402,
          0.5731497406959534,
          0.585197925567627,
          0.6110154986381531,
          0.5989673137664795,
          0.6127366423606873,
          0.6987951993942261,
          0.716006875038147,
          0.6764199733734131,
          0.6557658910751343,
          0.7435455918312073,
          0.7401032447814941,
          0.7280550599098206,
          0.6781411170959473,
          0.7263339161872864,
          0.7487091422080994,
          0.7452667951583862,
          0.716006875038147,
          0.7074010372161865,
          0.7366609573364258,
          0.7538726329803467,
          0.7504302859306335,
          0.7314974069595337,
          0.7297762632369995,
          0.73838210105896,
          0.7469879388809204,
          0.7504302859306335,
          0.7504302859306335,
          0.73838210105896,
          0.73838210105896,
          0.7504302859306335,
          0.7573149800300598,
          0.7538726329803467,
          0.7504302859306335,
          0.7452667951583862,
          0.7555937767028809,
          0.7504302859306335,
          0.760757327079773,
          0.7555937767028809,
          0.760757327079773,
          0.7624784708023071,
          0.7641996741294861,
          0.760757327079773,
          0.760757327079773,
          0.7624784708023071,
          0.7624784708023071,
          0.7745266556739807,
          0.7573149800300598,
          0.7641996741294861,
          0.7745266556739807,
          0.7865749001502991,
          0.7728055119514465,
          0.7951807379722595,
          0.7865749001502991,
          0.7917383909225464,
          0.7745266556739807,
          0.7865749001502991,
          0.7796902060508728,
          0.7900171875953674,
          0.7917383909225464,
          0.7986230850219727,
          0.7865749001502991,
          0.7969018816947937,
          0.8003442287445068,
          0.8055077195167542,
          0.8020654320716858,
          0.7934595346450806,
          0.8123924136161804,
          0.8089500665664673,
          0.8055077195167542,
          0.8072289228439331,
          0.8106712698936462,
          0.8089500665664673,
          0.8123924136161804,
          0.8020654320716858,
          0.7986230850219727,
          0.7882960438728333,
          0.7848536968231201,
          0.7624784708023071,
          0.7710843086242676,
          0.7762478590011597,
          0.7831325531005859,
          0.7934595346450806,
          0.7917383909225464,
          0.8055077195167542,
          0.7917383909225464,
          0.8020654320716858,
          0.7986230850219727,
          0.7969018816947937
         ]
        },
        {
         "mode": "lines",
         "name": "val_accuracy",
         "type": "scatter",
         "y": [
          0.4516128897666931,
          0.5483871102333069,
          0.5483871102333069,
          0.5483871102333069,
          0.5483871102333069,
          0.5483871102333069,
          0.5483871102333069,
          0.5483871102333069,
          0.5483871102333069,
          0.5483871102333069,
          0.5483871102333069,
          0.5806451439857483,
          0.6774193644523621,
          0.6854838728904724,
          0.7016128897666931,
          0.6774193644523621,
          0.6854838728904724,
          0.7096773982048035,
          0.6693548560142517,
          0.6854838728904724,
          0.6854838728904724,
          0.6935483813285828,
          0.7016128897666931,
          0.7016128897666931,
          0.6935483813285828,
          0.6935483813285828,
          0.7096773982048035,
          0.7096773982048035,
          0.7096773982048035,
          0.6935483813285828,
          0.6935483813285828,
          0.7096773982048035,
          0.7177419066429138,
          0.7177419066429138,
          0.7096773982048035,
          0.7177419066429138,
          0.7096773982048035,
          0.7177419066429138,
          0.725806474685669,
          0.725806474685669,
          0.7177419066429138,
          0.7177419066429138,
          0.725806474685669,
          0.725806474685669,
          0.75,
          0.725806474685669,
          0.725806474685669,
          0.7338709831237793,
          0.7338709831237793,
          0.7338709831237793,
          0.7419354915618896,
          0.7419354915618896,
          0.7419354915618896,
          0.7419354915618896,
          0.7419354915618896,
          0.7419354915618896,
          0.7419354915618896,
          0.75,
          0.7419354915618896,
          0.7419354915618896,
          0.7338709831237793,
          0.75,
          0.7338709831237793,
          0.75,
          0.75,
          0.75,
          0.7419354915618896,
          0.7419354915618896,
          0.75,
          0.7419354915618896,
          0.75,
          0.7580645084381104,
          0.7419354915618896,
          0.7419354915618896,
          0.7419354915618896,
          0.7419354915618896,
          0.75,
          0.75,
          0.75,
          0.75,
          0.75,
          0.75,
          0.75,
          0.7580645084381104,
          0.75,
          0.7580645084381104,
          0.75,
          0.7580645084381104,
          0.75,
          0.7822580933570862,
          0.7822580933570862,
          0.774193525314331,
          0.7903226017951965,
          0.7822580933570862,
          0.774193525314331,
          0.7580645084381104,
          0.7661290168762207,
          0.774193525314331,
          0.7580645084381104,
          0.7661290168762207
         ]
        }
       ],
       "layout": {
        "template": {
         "data": {
          "bar": [
           {
            "error_x": {
             "color": "#2a3f5f"
            },
            "error_y": {
             "color": "#2a3f5f"
            },
            "marker": {
             "line": {
              "color": "#E5ECF6",
              "width": 0.5
             },
             "pattern": {
              "fillmode": "overlay",
              "size": 10,
              "solidity": 0.2
             }
            },
            "type": "bar"
           }
          ],
          "barpolar": [
           {
            "marker": {
             "line": {
              "color": "#E5ECF6",
              "width": 0.5
             },
             "pattern": {
              "fillmode": "overlay",
              "size": 10,
              "solidity": 0.2
             }
            },
            "type": "barpolar"
           }
          ],
          "carpet": [
           {
            "aaxis": {
             "endlinecolor": "#2a3f5f",
             "gridcolor": "white",
             "linecolor": "white",
             "minorgridcolor": "white",
             "startlinecolor": "#2a3f5f"
            },
            "baxis": {
             "endlinecolor": "#2a3f5f",
             "gridcolor": "white",
             "linecolor": "white",
             "minorgridcolor": "white",
             "startlinecolor": "#2a3f5f"
            },
            "type": "carpet"
           }
          ],
          "choropleth": [
           {
            "colorbar": {
             "outlinewidth": 0,
             "ticks": ""
            },
            "type": "choropleth"
           }
          ],
          "contour": [
           {
            "colorbar": {
             "outlinewidth": 0,
             "ticks": ""
            },
            "colorscale": [
             [
              0,
              "#0d0887"
             ],
             [
              0.1111111111111111,
              "#46039f"
             ],
             [
              0.2222222222222222,
              "#7201a8"
             ],
             [
              0.3333333333333333,
              "#9c179e"
             ],
             [
              0.4444444444444444,
              "#bd3786"
             ],
             [
              0.5555555555555556,
              "#d8576b"
             ],
             [
              0.6666666666666666,
              "#ed7953"
             ],
             [
              0.7777777777777778,
              "#fb9f3a"
             ],
             [
              0.8888888888888888,
              "#fdca26"
             ],
             [
              1,
              "#f0f921"
             ]
            ],
            "type": "contour"
           }
          ],
          "contourcarpet": [
           {
            "colorbar": {
             "outlinewidth": 0,
             "ticks": ""
            },
            "type": "contourcarpet"
           }
          ],
          "heatmap": [
           {
            "colorbar": {
             "outlinewidth": 0,
             "ticks": ""
            },
            "colorscale": [
             [
              0,
              "#0d0887"
             ],
             [
              0.1111111111111111,
              "#46039f"
             ],
             [
              0.2222222222222222,
              "#7201a8"
             ],
             [
              0.3333333333333333,
              "#9c179e"
             ],
             [
              0.4444444444444444,
              "#bd3786"
             ],
             [
              0.5555555555555556,
              "#d8576b"
             ],
             [
              0.6666666666666666,
              "#ed7953"
             ],
             [
              0.7777777777777778,
              "#fb9f3a"
             ],
             [
              0.8888888888888888,
              "#fdca26"
             ],
             [
              1,
              "#f0f921"
             ]
            ],
            "type": "heatmap"
           }
          ],
          "heatmapgl": [
           {
            "colorbar": {
             "outlinewidth": 0,
             "ticks": ""
            },
            "colorscale": [
             [
              0,
              "#0d0887"
             ],
             [
              0.1111111111111111,
              "#46039f"
             ],
             [
              0.2222222222222222,
              "#7201a8"
             ],
             [
              0.3333333333333333,
              "#9c179e"
             ],
             [
              0.4444444444444444,
              "#bd3786"
             ],
             [
              0.5555555555555556,
              "#d8576b"
             ],
             [
              0.6666666666666666,
              "#ed7953"
             ],
             [
              0.7777777777777778,
              "#fb9f3a"
             ],
             [
              0.8888888888888888,
              "#fdca26"
             ],
             [
              1,
              "#f0f921"
             ]
            ],
            "type": "heatmapgl"
           }
          ],
          "histogram": [
           {
            "marker": {
             "pattern": {
              "fillmode": "overlay",
              "size": 10,
              "solidity": 0.2
             }
            },
            "type": "histogram"
           }
          ],
          "histogram2d": [
           {
            "colorbar": {
             "outlinewidth": 0,
             "ticks": ""
            },
            "colorscale": [
             [
              0,
              "#0d0887"
             ],
             [
              0.1111111111111111,
              "#46039f"
             ],
             [
              0.2222222222222222,
              "#7201a8"
             ],
             [
              0.3333333333333333,
              "#9c179e"
             ],
             [
              0.4444444444444444,
              "#bd3786"
             ],
             [
              0.5555555555555556,
              "#d8576b"
             ],
             [
              0.6666666666666666,
              "#ed7953"
             ],
             [
              0.7777777777777778,
              "#fb9f3a"
             ],
             [
              0.8888888888888888,
              "#fdca26"
             ],
             [
              1,
              "#f0f921"
             ]
            ],
            "type": "histogram2d"
           }
          ],
          "histogram2dcontour": [
           {
            "colorbar": {
             "outlinewidth": 0,
             "ticks": ""
            },
            "colorscale": [
             [
              0,
              "#0d0887"
             ],
             [
              0.1111111111111111,
              "#46039f"
             ],
             [
              0.2222222222222222,
              "#7201a8"
             ],
             [
              0.3333333333333333,
              "#9c179e"
             ],
             [
              0.4444444444444444,
              "#bd3786"
             ],
             [
              0.5555555555555556,
              "#d8576b"
             ],
             [
              0.6666666666666666,
              "#ed7953"
             ],
             [
              0.7777777777777778,
              "#fb9f3a"
             ],
             [
              0.8888888888888888,
              "#fdca26"
             ],
             [
              1,
              "#f0f921"
             ]
            ],
            "type": "histogram2dcontour"
           }
          ],
          "mesh3d": [
           {
            "colorbar": {
             "outlinewidth": 0,
             "ticks": ""
            },
            "type": "mesh3d"
           }
          ],
          "parcoords": [
           {
            "line": {
             "colorbar": {
              "outlinewidth": 0,
              "ticks": ""
             }
            },
            "type": "parcoords"
           }
          ],
          "pie": [
           {
            "automargin": true,
            "type": "pie"
           }
          ],
          "scatter": [
           {
            "fillpattern": {
             "fillmode": "overlay",
             "size": 10,
             "solidity": 0.2
            },
            "type": "scatter"
           }
          ],
          "scatter3d": [
           {
            "line": {
             "colorbar": {
              "outlinewidth": 0,
              "ticks": ""
             }
            },
            "marker": {
             "colorbar": {
              "outlinewidth": 0,
              "ticks": ""
             }
            },
            "type": "scatter3d"
           }
          ],
          "scattercarpet": [
           {
            "marker": {
             "colorbar": {
              "outlinewidth": 0,
              "ticks": ""
             }
            },
            "type": "scattercarpet"
           }
          ],
          "scattergeo": [
           {
            "marker": {
             "colorbar": {
              "outlinewidth": 0,
              "ticks": ""
             }
            },
            "type": "scattergeo"
           }
          ],
          "scattergl": [
           {
            "marker": {
             "colorbar": {
              "outlinewidth": 0,
              "ticks": ""
             }
            },
            "type": "scattergl"
           }
          ],
          "scattermapbox": [
           {
            "marker": {
             "colorbar": {
              "outlinewidth": 0,
              "ticks": ""
             }
            },
            "type": "scattermapbox"
           }
          ],
          "scatterpolar": [
           {
            "marker": {
             "colorbar": {
              "outlinewidth": 0,
              "ticks": ""
             }
            },
            "type": "scatterpolar"
           }
          ],
          "scatterpolargl": [
           {
            "marker": {
             "colorbar": {
              "outlinewidth": 0,
              "ticks": ""
             }
            },
            "type": "scatterpolargl"
           }
          ],
          "scatterternary": [
           {
            "marker": {
             "colorbar": {
              "outlinewidth": 0,
              "ticks": ""
             }
            },
            "type": "scatterternary"
           }
          ],
          "surface": [
           {
            "colorbar": {
             "outlinewidth": 0,
             "ticks": ""
            },
            "colorscale": [
             [
              0,
              "#0d0887"
             ],
             [
              0.1111111111111111,
              "#46039f"
             ],
             [
              0.2222222222222222,
              "#7201a8"
             ],
             [
              0.3333333333333333,
              "#9c179e"
             ],
             [
              0.4444444444444444,
              "#bd3786"
             ],
             [
              0.5555555555555556,
              "#d8576b"
             ],
             [
              0.6666666666666666,
              "#ed7953"
             ],
             [
              0.7777777777777778,
              "#fb9f3a"
             ],
             [
              0.8888888888888888,
              "#fdca26"
             ],
             [
              1,
              "#f0f921"
             ]
            ],
            "type": "surface"
           }
          ],
          "table": [
           {
            "cells": {
             "fill": {
              "color": "#EBF0F8"
             },
             "line": {
              "color": "white"
             }
            },
            "header": {
             "fill": {
              "color": "#C8D4E3"
             },
             "line": {
              "color": "white"
             }
            },
            "type": "table"
           }
          ]
         },
         "layout": {
          "annotationdefaults": {
           "arrowcolor": "#2a3f5f",
           "arrowhead": 0,
           "arrowwidth": 1
          },
          "autotypenumbers": "strict",
          "coloraxis": {
           "colorbar": {
            "outlinewidth": 0,
            "ticks": ""
           }
          },
          "colorscale": {
           "diverging": [
            [
             0,
             "#8e0152"
            ],
            [
             0.1,
             "#c51b7d"
            ],
            [
             0.2,
             "#de77ae"
            ],
            [
             0.3,
             "#f1b6da"
            ],
            [
             0.4,
             "#fde0ef"
            ],
            [
             0.5,
             "#f7f7f7"
            ],
            [
             0.6,
             "#e6f5d0"
            ],
            [
             0.7,
             "#b8e186"
            ],
            [
             0.8,
             "#7fbc41"
            ],
            [
             0.9,
             "#4d9221"
            ],
            [
             1,
             "#276419"
            ]
           ],
           "sequential": [
            [
             0,
             "#0d0887"
            ],
            [
             0.1111111111111111,
             "#46039f"
            ],
            [
             0.2222222222222222,
             "#7201a8"
            ],
            [
             0.3333333333333333,
             "#9c179e"
            ],
            [
             0.4444444444444444,
             "#bd3786"
            ],
            [
             0.5555555555555556,
             "#d8576b"
            ],
            [
             0.6666666666666666,
             "#ed7953"
            ],
            [
             0.7777777777777778,
             "#fb9f3a"
            ],
            [
             0.8888888888888888,
             "#fdca26"
            ],
            [
             1,
             "#f0f921"
            ]
           ],
           "sequentialminus": [
            [
             0,
             "#0d0887"
            ],
            [
             0.1111111111111111,
             "#46039f"
            ],
            [
             0.2222222222222222,
             "#7201a8"
            ],
            [
             0.3333333333333333,
             "#9c179e"
            ],
            [
             0.4444444444444444,
             "#bd3786"
            ],
            [
             0.5555555555555556,
             "#d8576b"
            ],
            [
             0.6666666666666666,
             "#ed7953"
            ],
            [
             0.7777777777777778,
             "#fb9f3a"
            ],
            [
             0.8888888888888888,
             "#fdca26"
            ],
            [
             1,
             "#f0f921"
            ]
           ]
          },
          "colorway": [
           "#636efa",
           "#EF553B",
           "#00cc96",
           "#ab63fa",
           "#FFA15A",
           "#19d3f3",
           "#FF6692",
           "#B6E880",
           "#FF97FF",
           "#FECB52"
          ],
          "font": {
           "color": "#2a3f5f"
          },
          "geo": {
           "bgcolor": "white",
           "lakecolor": "white",
           "landcolor": "#E5ECF6",
           "showlakes": true,
           "showland": true,
           "subunitcolor": "white"
          },
          "hoverlabel": {
           "align": "left"
          },
          "hovermode": "closest",
          "mapbox": {
           "style": "light"
          },
          "paper_bgcolor": "white",
          "plot_bgcolor": "#E5ECF6",
          "polar": {
           "angularaxis": {
            "gridcolor": "white",
            "linecolor": "white",
            "ticks": ""
           },
           "bgcolor": "#E5ECF6",
           "radialaxis": {
            "gridcolor": "white",
            "linecolor": "white",
            "ticks": ""
           }
          },
          "scene": {
           "xaxis": {
            "backgroundcolor": "#E5ECF6",
            "gridcolor": "white",
            "gridwidth": 2,
            "linecolor": "white",
            "showbackground": true,
            "ticks": "",
            "zerolinecolor": "white"
           },
           "yaxis": {
            "backgroundcolor": "#E5ECF6",
            "gridcolor": "white",
            "gridwidth": 2,
            "linecolor": "white",
            "showbackground": true,
            "ticks": "",
            "zerolinecolor": "white"
           },
           "zaxis": {
            "backgroundcolor": "#E5ECF6",
            "gridcolor": "white",
            "gridwidth": 2,
            "linecolor": "white",
            "showbackground": true,
            "ticks": "",
            "zerolinecolor": "white"
           }
          },
          "shapedefaults": {
           "line": {
            "color": "#2a3f5f"
           }
          },
          "ternary": {
           "aaxis": {
            "gridcolor": "white",
            "linecolor": "white",
            "ticks": ""
           },
           "baxis": {
            "gridcolor": "white",
            "linecolor": "white",
            "ticks": ""
           },
           "bgcolor": "#E5ECF6",
           "caxis": {
            "gridcolor": "white",
            "linecolor": "white",
            "ticks": ""
           }
          },
          "title": {
           "x": 0.05
          },
          "xaxis": {
           "automargin": true,
           "gridcolor": "white",
           "linecolor": "white",
           "ticks": "",
           "title": {
            "standoff": 15
           },
           "zerolinecolor": "white",
           "zerolinewidth": 2
          },
          "yaxis": {
           "automargin": true,
           "gridcolor": "white",
           "linecolor": "white",
           "ticks": "",
           "title": {
            "standoff": 15
           },
           "zerolinecolor": "white",
           "zerolinewidth": 2
          }
         }
        },
        "title": {
         "text": "Accuracy"
        },
        "xaxis": {
         "title": {
          "text": "Epoch"
         }
        },
        "yaxis": {
         "title": {
          "text": "Accuracy"
         }
        }
       }
      }
     },
     "metadata": {},
     "output_type": "display_data"
    }
   ],
   "source": [
    "# plot accuracy\n",
    "fig = go.Figure()\n",
    "fig.add_trace(go.Scatter(y=lstm_history.history['accuracy'], mode='lines', name='accuracy'))\n",
    "fig.add_trace(go.Scatter(y=lstm_history.history['val_accuracy'], mode='lines', name='val_accuracy'))\n",
    "fig.update_layout(title='Accuracy', xaxis_title='Epoch', yaxis_title='Accuracy')\n",
    "fig.show()"
   ]
  },
  {
   "cell_type": "code",
   "execution_count": null,
   "metadata": {},
   "outputs": [],
   "source": []
  },
  {
   "cell_type": "markdown",
   "metadata": {},
   "source": [
    "### Results"
   ]
  },
  {
   "cell_type": "code",
   "execution_count": 34,
   "metadata": {},
   "outputs": [
    {
     "name": "stdout",
     "output_type": "stream",
     "text": [
      "                 model  accuracy  precision  recall      f1  roc_auc\n",
      "0  Logistic Regression    0.7952     0.7869  0.6957  0.7385   0.7808\n",
      "1                  SVM    0.8133     0.8393  0.6812  0.7520   0.7942\n",
      "2        Random Forest    0.9940     0.9857  1.0000  0.9928   0.9948\n",
      "3                 LSTM    0.7120     0.6500  0.8667  0.7429   0.7179\n",
      "4                  RNN    0.6880     0.6207  0.9000  0.7347   0.6962\n"
     ]
    }
   ],
   "source": [
    "print(results)"
   ]
  },
  {
   "cell_type": "code",
   "execution_count": 35,
   "metadata": {},
   "outputs": [],
   "source": [
    "# plot comparative metrics for different models\n",
    "\n"
   ]
  },
  {
   "cell_type": "code",
   "execution_count": 36,
   "metadata": {},
   "outputs": [
    {
     "data": {
      "application/vnd.plotly.v1+json": {
       "config": {
        "plotlyServerURL": "https://plot.ly"
       },
       "data": [
        {
         "mode": "lines",
         "name": "baseline",
         "type": "scatter",
         "x": [
          0,
          1
         ],
         "y": [
          0,
          1
         ]
        },
        {
         "mode": "lines",
         "name": "baseline",
         "type": "scatter",
         "x": [
          0,
          1
         ],
         "y": [
          0.5,
          0.5
         ]
        },
        {
         "mode": "lines",
         "name": "baseline",
         "type": "scatter",
         "x": [
          0,
          1
         ],
         "y": [
          1,
          1
         ]
        },
        {
         "mode": "lines",
         "name": "Logistic Regression",
         "type": "scatter",
         "x": [
          0.7808,
          0.7942,
          0.9948,
          0.7179,
          0.6962
         ],
         "y": [
          0.7808,
          0.7942,
          0.9948,
          0.7179,
          0.6962
         ]
        },
        {
         "mode": "lines",
         "name": "SVM",
         "type": "scatter",
         "x": [
          0.7808,
          0.7942,
          0.9948,
          0.7179,
          0.6962
         ],
         "y": [
          0.7808,
          0.7942,
          0.9948,
          0.7179,
          0.6962
         ]
        },
        {
         "mode": "lines",
         "name": "Random Forest",
         "type": "scatter",
         "x": [
          0.7808,
          0.7942,
          0.9948,
          0.7179,
          0.6962
         ],
         "y": [
          0.7808,
          0.7942,
          0.9948,
          0.7179,
          0.6962
         ]
        },
        {
         "mode": "lines",
         "name": "LSTM",
         "type": "scatter",
         "x": [
          0.7808,
          0.7942,
          0.9948,
          0.7179,
          0.6962
         ],
         "y": [
          0.7808,
          0.7942,
          0.9948,
          0.7179,
          0.6962
         ]
        },
        {
         "mode": "lines",
         "name": "RNN",
         "type": "scatter",
         "x": [
          0.7808,
          0.7942,
          0.9948,
          0.7179,
          0.6962
         ],
         "y": [
          0.7808,
          0.7942,
          0.9948,
          0.7179,
          0.6962
         ]
        }
       ],
       "layout": {
        "template": {
         "data": {
          "bar": [
           {
            "error_x": {
             "color": "#2a3f5f"
            },
            "error_y": {
             "color": "#2a3f5f"
            },
            "marker": {
             "line": {
              "color": "#E5ECF6",
              "width": 0.5
             },
             "pattern": {
              "fillmode": "overlay",
              "size": 10,
              "solidity": 0.2
             }
            },
            "type": "bar"
           }
          ],
          "barpolar": [
           {
            "marker": {
             "line": {
              "color": "#E5ECF6",
              "width": 0.5
             },
             "pattern": {
              "fillmode": "overlay",
              "size": 10,
              "solidity": 0.2
             }
            },
            "type": "barpolar"
           }
          ],
          "carpet": [
           {
            "aaxis": {
             "endlinecolor": "#2a3f5f",
             "gridcolor": "white",
             "linecolor": "white",
             "minorgridcolor": "white",
             "startlinecolor": "#2a3f5f"
            },
            "baxis": {
             "endlinecolor": "#2a3f5f",
             "gridcolor": "white",
             "linecolor": "white",
             "minorgridcolor": "white",
             "startlinecolor": "#2a3f5f"
            },
            "type": "carpet"
           }
          ],
          "choropleth": [
           {
            "colorbar": {
             "outlinewidth": 0,
             "ticks": ""
            },
            "type": "choropleth"
           }
          ],
          "contour": [
           {
            "colorbar": {
             "outlinewidth": 0,
             "ticks": ""
            },
            "colorscale": [
             [
              0,
              "#0d0887"
             ],
             [
              0.1111111111111111,
              "#46039f"
             ],
             [
              0.2222222222222222,
              "#7201a8"
             ],
             [
              0.3333333333333333,
              "#9c179e"
             ],
             [
              0.4444444444444444,
              "#bd3786"
             ],
             [
              0.5555555555555556,
              "#d8576b"
             ],
             [
              0.6666666666666666,
              "#ed7953"
             ],
             [
              0.7777777777777778,
              "#fb9f3a"
             ],
             [
              0.8888888888888888,
              "#fdca26"
             ],
             [
              1,
              "#f0f921"
             ]
            ],
            "type": "contour"
           }
          ],
          "contourcarpet": [
           {
            "colorbar": {
             "outlinewidth": 0,
             "ticks": ""
            },
            "type": "contourcarpet"
           }
          ],
          "heatmap": [
           {
            "colorbar": {
             "outlinewidth": 0,
             "ticks": ""
            },
            "colorscale": [
             [
              0,
              "#0d0887"
             ],
             [
              0.1111111111111111,
              "#46039f"
             ],
             [
              0.2222222222222222,
              "#7201a8"
             ],
             [
              0.3333333333333333,
              "#9c179e"
             ],
             [
              0.4444444444444444,
              "#bd3786"
             ],
             [
              0.5555555555555556,
              "#d8576b"
             ],
             [
              0.6666666666666666,
              "#ed7953"
             ],
             [
              0.7777777777777778,
              "#fb9f3a"
             ],
             [
              0.8888888888888888,
              "#fdca26"
             ],
             [
              1,
              "#f0f921"
             ]
            ],
            "type": "heatmap"
           }
          ],
          "heatmapgl": [
           {
            "colorbar": {
             "outlinewidth": 0,
             "ticks": ""
            },
            "colorscale": [
             [
              0,
              "#0d0887"
             ],
             [
              0.1111111111111111,
              "#46039f"
             ],
             [
              0.2222222222222222,
              "#7201a8"
             ],
             [
              0.3333333333333333,
              "#9c179e"
             ],
             [
              0.4444444444444444,
              "#bd3786"
             ],
             [
              0.5555555555555556,
              "#d8576b"
             ],
             [
              0.6666666666666666,
              "#ed7953"
             ],
             [
              0.7777777777777778,
              "#fb9f3a"
             ],
             [
              0.8888888888888888,
              "#fdca26"
             ],
             [
              1,
              "#f0f921"
             ]
            ],
            "type": "heatmapgl"
           }
          ],
          "histogram": [
           {
            "marker": {
             "pattern": {
              "fillmode": "overlay",
              "size": 10,
              "solidity": 0.2
             }
            },
            "type": "histogram"
           }
          ],
          "histogram2d": [
           {
            "colorbar": {
             "outlinewidth": 0,
             "ticks": ""
            },
            "colorscale": [
             [
              0,
              "#0d0887"
             ],
             [
              0.1111111111111111,
              "#46039f"
             ],
             [
              0.2222222222222222,
              "#7201a8"
             ],
             [
              0.3333333333333333,
              "#9c179e"
             ],
             [
              0.4444444444444444,
              "#bd3786"
             ],
             [
              0.5555555555555556,
              "#d8576b"
             ],
             [
              0.6666666666666666,
              "#ed7953"
             ],
             [
              0.7777777777777778,
              "#fb9f3a"
             ],
             [
              0.8888888888888888,
              "#fdca26"
             ],
             [
              1,
              "#f0f921"
             ]
            ],
            "type": "histogram2d"
           }
          ],
          "histogram2dcontour": [
           {
            "colorbar": {
             "outlinewidth": 0,
             "ticks": ""
            },
            "colorscale": [
             [
              0,
              "#0d0887"
             ],
             [
              0.1111111111111111,
              "#46039f"
             ],
             [
              0.2222222222222222,
              "#7201a8"
             ],
             [
              0.3333333333333333,
              "#9c179e"
             ],
             [
              0.4444444444444444,
              "#bd3786"
             ],
             [
              0.5555555555555556,
              "#d8576b"
             ],
             [
              0.6666666666666666,
              "#ed7953"
             ],
             [
              0.7777777777777778,
              "#fb9f3a"
             ],
             [
              0.8888888888888888,
              "#fdca26"
             ],
             [
              1,
              "#f0f921"
             ]
            ],
            "type": "histogram2dcontour"
           }
          ],
          "mesh3d": [
           {
            "colorbar": {
             "outlinewidth": 0,
             "ticks": ""
            },
            "type": "mesh3d"
           }
          ],
          "parcoords": [
           {
            "line": {
             "colorbar": {
              "outlinewidth": 0,
              "ticks": ""
             }
            },
            "type": "parcoords"
           }
          ],
          "pie": [
           {
            "automargin": true,
            "type": "pie"
           }
          ],
          "scatter": [
           {
            "fillpattern": {
             "fillmode": "overlay",
             "size": 10,
             "solidity": 0.2
            },
            "type": "scatter"
           }
          ],
          "scatter3d": [
           {
            "line": {
             "colorbar": {
              "outlinewidth": 0,
              "ticks": ""
             }
            },
            "marker": {
             "colorbar": {
              "outlinewidth": 0,
              "ticks": ""
             }
            },
            "type": "scatter3d"
           }
          ],
          "scattercarpet": [
           {
            "marker": {
             "colorbar": {
              "outlinewidth": 0,
              "ticks": ""
             }
            },
            "type": "scattercarpet"
           }
          ],
          "scattergeo": [
           {
            "marker": {
             "colorbar": {
              "outlinewidth": 0,
              "ticks": ""
             }
            },
            "type": "scattergeo"
           }
          ],
          "scattergl": [
           {
            "marker": {
             "colorbar": {
              "outlinewidth": 0,
              "ticks": ""
             }
            },
            "type": "scattergl"
           }
          ],
          "scattermapbox": [
           {
            "marker": {
             "colorbar": {
              "outlinewidth": 0,
              "ticks": ""
             }
            },
            "type": "scattermapbox"
           }
          ],
          "scatterpolar": [
           {
            "marker": {
             "colorbar": {
              "outlinewidth": 0,
              "ticks": ""
             }
            },
            "type": "scatterpolar"
           }
          ],
          "scatterpolargl": [
           {
            "marker": {
             "colorbar": {
              "outlinewidth": 0,
              "ticks": ""
             }
            },
            "type": "scatterpolargl"
           }
          ],
          "scatterternary": [
           {
            "marker": {
             "colorbar": {
              "outlinewidth": 0,
              "ticks": ""
             }
            },
            "type": "scatterternary"
           }
          ],
          "surface": [
           {
            "colorbar": {
             "outlinewidth": 0,
             "ticks": ""
            },
            "colorscale": [
             [
              0,
              "#0d0887"
             ],
             [
              0.1111111111111111,
              "#46039f"
             ],
             [
              0.2222222222222222,
              "#7201a8"
             ],
             [
              0.3333333333333333,
              "#9c179e"
             ],
             [
              0.4444444444444444,
              "#bd3786"
             ],
             [
              0.5555555555555556,
              "#d8576b"
             ],
             [
              0.6666666666666666,
              "#ed7953"
             ],
             [
              0.7777777777777778,
              "#fb9f3a"
             ],
             [
              0.8888888888888888,
              "#fdca26"
             ],
             [
              1,
              "#f0f921"
             ]
            ],
            "type": "surface"
           }
          ],
          "table": [
           {
            "cells": {
             "fill": {
              "color": "#EBF0F8"
             },
             "line": {
              "color": "white"
             }
            },
            "header": {
             "fill": {
              "color": "#C8D4E3"
             },
             "line": {
              "color": "white"
             }
            },
            "type": "table"
           }
          ]
         },
         "layout": {
          "annotationdefaults": {
           "arrowcolor": "#2a3f5f",
           "arrowhead": 0,
           "arrowwidth": 1
          },
          "autotypenumbers": "strict",
          "coloraxis": {
           "colorbar": {
            "outlinewidth": 0,
            "ticks": ""
           }
          },
          "colorscale": {
           "diverging": [
            [
             0,
             "#8e0152"
            ],
            [
             0.1,
             "#c51b7d"
            ],
            [
             0.2,
             "#de77ae"
            ],
            [
             0.3,
             "#f1b6da"
            ],
            [
             0.4,
             "#fde0ef"
            ],
            [
             0.5,
             "#f7f7f7"
            ],
            [
             0.6,
             "#e6f5d0"
            ],
            [
             0.7,
             "#b8e186"
            ],
            [
             0.8,
             "#7fbc41"
            ],
            [
             0.9,
             "#4d9221"
            ],
            [
             1,
             "#276419"
            ]
           ],
           "sequential": [
            [
             0,
             "#0d0887"
            ],
            [
             0.1111111111111111,
             "#46039f"
            ],
            [
             0.2222222222222222,
             "#7201a8"
            ],
            [
             0.3333333333333333,
             "#9c179e"
            ],
            [
             0.4444444444444444,
             "#bd3786"
            ],
            [
             0.5555555555555556,
             "#d8576b"
            ],
            [
             0.6666666666666666,
             "#ed7953"
            ],
            [
             0.7777777777777778,
             "#fb9f3a"
            ],
            [
             0.8888888888888888,
             "#fdca26"
            ],
            [
             1,
             "#f0f921"
            ]
           ],
           "sequentialminus": [
            [
             0,
             "#0d0887"
            ],
            [
             0.1111111111111111,
             "#46039f"
            ],
            [
             0.2222222222222222,
             "#7201a8"
            ],
            [
             0.3333333333333333,
             "#9c179e"
            ],
            [
             0.4444444444444444,
             "#bd3786"
            ],
            [
             0.5555555555555556,
             "#d8576b"
            ],
            [
             0.6666666666666666,
             "#ed7953"
            ],
            [
             0.7777777777777778,
             "#fb9f3a"
            ],
            [
             0.8888888888888888,
             "#fdca26"
            ],
            [
             1,
             "#f0f921"
            ]
           ]
          },
          "colorway": [
           "#636efa",
           "#EF553B",
           "#00cc96",
           "#ab63fa",
           "#FFA15A",
           "#19d3f3",
           "#FF6692",
           "#B6E880",
           "#FF97FF",
           "#FECB52"
          ],
          "font": {
           "color": "#2a3f5f"
          },
          "geo": {
           "bgcolor": "white",
           "lakecolor": "white",
           "landcolor": "#E5ECF6",
           "showlakes": true,
           "showland": true,
           "subunitcolor": "white"
          },
          "hoverlabel": {
           "align": "left"
          },
          "hovermode": "closest",
          "mapbox": {
           "style": "light"
          },
          "paper_bgcolor": "white",
          "plot_bgcolor": "#E5ECF6",
          "polar": {
           "angularaxis": {
            "gridcolor": "white",
            "linecolor": "white",
            "ticks": ""
           },
           "bgcolor": "#E5ECF6",
           "radialaxis": {
            "gridcolor": "white",
            "linecolor": "white",
            "ticks": ""
           }
          },
          "scene": {
           "xaxis": {
            "backgroundcolor": "#E5ECF6",
            "gridcolor": "white",
            "gridwidth": 2,
            "linecolor": "white",
            "showbackground": true,
            "ticks": "",
            "zerolinecolor": "white"
           },
           "yaxis": {
            "backgroundcolor": "#E5ECF6",
            "gridcolor": "white",
            "gridwidth": 2,
            "linecolor": "white",
            "showbackground": true,
            "ticks": "",
            "zerolinecolor": "white"
           },
           "zaxis": {
            "backgroundcolor": "#E5ECF6",
            "gridcolor": "white",
            "gridwidth": 2,
            "linecolor": "white",
            "showbackground": true,
            "ticks": "",
            "zerolinecolor": "white"
           }
          },
          "shapedefaults": {
           "line": {
            "color": "#2a3f5f"
           }
          },
          "ternary": {
           "aaxis": {
            "gridcolor": "white",
            "linecolor": "white",
            "ticks": ""
           },
           "baxis": {
            "gridcolor": "white",
            "linecolor": "white",
            "ticks": ""
           },
           "bgcolor": "#E5ECF6",
           "caxis": {
            "gridcolor": "white",
            "linecolor": "white",
            "ticks": ""
           }
          },
          "title": {
           "x": 0.05
          },
          "xaxis": {
           "automargin": true,
           "gridcolor": "white",
           "linecolor": "white",
           "ticks": "",
           "title": {
            "standoff": 15
           },
           "zerolinecolor": "white",
           "zerolinewidth": 2
          },
          "yaxis": {
           "automargin": true,
           "gridcolor": "white",
           "linecolor": "white",
           "ticks": "",
           "title": {
            "standoff": 15
           },
           "zerolinecolor": "white",
           "zerolinewidth": 2
          }
         }
        },
        "title": {
         "text": "ROC-AUC"
        },
        "xaxis": {
         "title": {
          "text": "False Positive Rate"
         }
        },
        "yaxis": {
         "title": {
          "text": "True Positive Rate"
         }
        }
       }
      }
     },
     "metadata": {},
     "output_type": "display_data"
    }
   ],
   "source": [
    "# plot roc_auc by models\n",
    "# x, y from 0 to 1\n",
    "\n",
    "fig = go.Figure()\n",
    "fig.add_trace(go.Scatter(x=[0, 1], y=[0, 1],\n",
    "                    mode='lines',\n",
    "                    name='baseline'))\n",
    "fig.add_trace(go.Scatter(x=[0, 1], y=[0.5, 0.5],\n",
    "                    mode='lines',\n",
    "                    name='baseline'))\n",
    "fig.add_trace(go.Scatter(x=[0, 1], y=[1, 1],\n",
    "                    mode='lines',\n",
    "                    name='baseline'))\n",
    "\n",
    "# add roc_auc from results df\n",
    "for model in results['model'].unique():\n",
    "    df = results[results['model'] == model]\n",
    "    fig.add_trace(go.Scatter(x=results['roc_auc'], y=results['roc_auc'],\n",
    "                    mode='lines',\n",
    "                    name=model))\n",
    "\n",
    "fig.update_layout(title='ROC-AUC',\n",
    "                     xaxis_title='False Positive Rate',\n",
    "                     yaxis_title='True Positive Rate')\n",
    "fig.show()\n"
   ]
  },
  {
   "cell_type": "code",
   "execution_count": 26,
   "metadata": {},
   "outputs": [
    {
     "name": "stdout",
     "output_type": "stream",
     "text": [
      "       mean_Custom-Return  mean_EPS_MRQ_LC  mean_EPS_TTM  mean_EPS_MRQ  \\\n",
      "count          717.000000       732.000000  8.160000e+02  8.150000e+02   \n",
      "mean           285.134415       565.309521  1.460786e+11 -1.001601e+06   \n",
      "std           6228.415337      1516.729680  4.172839e+12  2.860917e+07   \n",
      "min             -0.863708     -9265.575400 -2.708508e+04 -8.167400e+08   \n",
      "25%              0.567673        42.648400  1.956250e+02  3.800000e+01   \n",
      "50%              0.792328       205.712250  6.523333e+02  1.960000e+02   \n",
      "75%              1.093658       598.376100  1.682250e+03  5.665417e+02   \n",
      "max         163300.044086     20013.094500  1.192001e+14  2.001300e+04   \n",
      "\n",
      "        mean_EPS_FY  mean_Rev_TTM  mean_Rev_MRQ   mean_Rev_FY   mean_NI_TTM  \\\n",
      "count  8.240000e+02  7.710000e+02  7.790000e+02  7.900000e+02  8.060000e+02   \n",
      "mean   2.798720e+06  5.390644e+13  1.505712e+13  5.149155e+13  1.330690e+13   \n",
      "std    8.044181e+07  2.259925e+14  6.040528e+13  2.253554e+14  5.686283e+13   \n",
      "min   -4.277600e+06 -1.581791e+14 -4.964036e+13 -1.581791e+14 -3.187638e+14   \n",
      "25%    1.850000e+02  2.145224e+12  5.573050e+11  1.788835e+12  3.903423e+11   \n",
      "50%    6.760000e+02  7.417615e+12  2.030369e+12  6.761080e+12  1.700128e+12   \n",
      "75%    1.703250e+03  2.352444e+13  6.354611e+12  2.047477e+13  6.403382e+12   \n",
      "max    2.309107e+09  3.398741e+15  8.649753e+14  3.398741e+15  6.682461e+14   \n",
      "\n",
      "        mean_NI_MRQ  ...    mean_ETR  mean_CFOToRev  mean_CFOToDebt  \\\n",
      "count  8.220000e+02  ...  544.000000     779.000000      814.000000   \n",
      "mean   4.139502e+12  ...    0.125238    -451.020183        3.379782   \n",
      "std    2.588044e+13  ...    0.282177   11376.658375      166.426841   \n",
      "min   -3.199066e+14  ...    0.000100 -315549.266700    -1633.358100   \n",
      "25%    6.359362e+10  ...    0.022100       0.015162        0.015181   \n",
      "50%    4.453030e+11  ...    0.095750       0.116700        0.179421   \n",
      "75%    1.668904e+12  ...    0.158044       0.281492        0.537019   \n",
      "max    3.146810e+14  ...    4.173175      79.529300     3893.022600   \n",
      "\n",
      "       mean_FCFFToRev  mean_FCFFToNI  mean_FCFEToRev  mean_FCFEToNI  \\\n",
      "count             0.0     734.000000      720.000000     683.000000   \n",
      "mean              NaN      -0.911246      -15.277518       0.472903   \n",
      "std               NaN      29.360023      379.119231       3.941836   \n",
      "min               NaN    -788.272100   -10133.336500     -27.019700   \n",
      "25%               NaN       0.002300        0.006829       0.067562   \n",
      "50%               NaN       0.339188        0.076646       0.358917   \n",
      "75%               NaN       0.757719        0.189513       0.759804   \n",
      "max               NaN      32.753300       91.977900      55.519100   \n",
      "\n",
      "       mean_CAPEXToRev  mean_CAPEXToNI  mean_DivYield  \n",
      "count       743.000000      773.000000     607.000000  \n",
      "mean         -9.920255        0.264166       0.050974  \n",
      "std         266.065832        4.177280       0.055016  \n",
      "min       -7251.062500      -96.980900       0.000200  \n",
      "25%           0.004079        0.004100       0.009400  \n",
      "50%           0.016517        0.078717       0.032700  \n",
      "75%           0.063733        0.294550       0.080950  \n",
      "max          13.003608       39.375600       0.681400  \n",
      "\n",
      "[8 rows x 67 columns]\n"
     ]
    }
   ],
   "source": [
    "df1 = pd.read_excel('./data.xlsx')\n",
    "df1 = df1.drop(columns=['Company'])\n",
    "df1 = df1.replace('-', np.nan)\n",
    "df1 = df1.astype(float)\n",
    "\n",
    "Columns = [column for column in df1.columns if \"_1390\" in column]\n",
    "for i in range(len(Columns)):\n",
    "    Columns[i] = Columns[i].replace(\"_1390\", \"\")\n",
    "\n",
    "mean_columns = {}\n",
    "for i in Columns:\n",
    "    my_list = []\n",
    "    for j in df1.columns:\n",
    "        if i in j :\n",
    "            my_list.append(j)\n",
    "    mean = df1[my_list].mean(axis=1, skipna=True).tolist()\n",
    "    mean_columns[f'mean_{i}'] = mean\n",
    "    df1.drop(columns=my_list, inplace=True)\n",
    "df_means = pd.DataFrame(mean_columns)\n",
    "df1 = pd.concat([df1, df_means], axis=1)\n",
    "print(df1.describe())\n"
   ]
  }
 ],
 "metadata": {
  "kernelspec": {
   "display_name": "corporate-bankruptcy",
   "language": "python",
   "name": "python3"
  },
  "language_info": {
   "codemirror_mode": {
    "name": "ipython",
    "version": 3
   },
   "file_extension": ".py",
   "mimetype": "text/x-python",
   "name": "python",
   "nbconvert_exporter": "python",
   "pygments_lexer": "ipython3",
   "version": "3.10.8"
  },
  "orig_nbformat": 4
 },
 "nbformat": 4,
 "nbformat_minor": 2
}
